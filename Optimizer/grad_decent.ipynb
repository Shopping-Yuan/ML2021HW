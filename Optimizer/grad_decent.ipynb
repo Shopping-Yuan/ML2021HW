{
 "cells": [
  {
   "cell_type": "code",
   "execution_count": null,
   "metadata": {},
   "outputs": [],
   "source": [
    "%conda install torch\n",
    "%conda install numpy\n",
    "%conda install pandas"
   ]
  }
 ],
 "metadata": {
  "language_info": {
   "name": "python"
  }
 },
 "nbformat": 4,
 "nbformat_minor": 2
}
