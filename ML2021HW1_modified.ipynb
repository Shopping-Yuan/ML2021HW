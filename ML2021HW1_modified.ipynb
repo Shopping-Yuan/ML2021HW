{
  "nbformat": 4,
  "nbformat_minor": 0,
  "metadata": {
    "colab": {
      "provenance": [],
      "gpuType": "T4",
      "authorship_tag": "ABX9TyOnn8PdCgA7bLwZmzZQLX1J",
      "include_colab_link": true
    },
    "kernelspec": {
      "name": "python3",
      "display_name": "Python 3"
    },
    "language_info": {
      "name": "python"
    },
    "accelerator": "GPU"
  },
  "cells": [
    {
      "cell_type": "markdown",
      "metadata": {
        "id": "view-in-github",
        "colab_type": "text"
      },
      "source": [
        "<a href=\"https://colab.research.google.com/github/Shopping-Yuan/ML2021HW/blob/Shopping_branch/ML2021HW1_modified.ipynb\" target=\"_parent\"><img src=\"https://colab.research.google.com/assets/colab-badge.svg\" alt=\"Open In Colab\"/></a>"
      ]
    },
    {
      "cell_type": "markdown",
      "source": [
        "##Pytorch Setting:"
      ],
      "metadata": {
        "id": "qaaQpqayiLbl"
      }
    },
    {
      "cell_type": "code",
      "execution_count": 1,
      "metadata": {
        "id": "8mZwtss3iFBZ",
        "colab": {
          "base_uri": "https://localhost:8080/"
        },
        "outputId": "2ff0d3d0-8ab6-4951-8e06-0a4cfecf53f3"
      },
      "outputs": [
        {
          "output_type": "stream",
          "name": "stdout",
          "text": [
            "True\n"
          ]
        }
      ],
      "source": [
        "#import pytorch\n",
        "import torch\n",
        "\n",
        "# torch.backends.cudnn: set CNN algorithmtorch.backends.cudnn\n",
        "torch.backends.cudnn.deterministic = True\n",
        "torch.backends.cudnn.benchmark = False\n",
        "\n",
        "# get the current available device ('cpu' or 'cuda')\n",
        "def get_device():\n",
        "    return 'cuda' if torch.cuda.is_available() else 'cpu'\n",
        "device = get_device()\n",
        "print(torch.cuda.is_available())\n",
        "#set random variable\n",
        "import numpy as np\n",
        "myseed = 1\n",
        "np.random.seed(myseed)\n",
        "torch.manual_seed(myseed)\n",
        "if torch.cuda.is_available():\n",
        "    torch.cuda.manual_seed_all(myseed)"
      ]
    },
    {
      "cell_type": "markdown",
      "source": [
        "##Data Set"
      ],
      "metadata": {
        "id": "EvBtNdcmjKTK"
      }
    },
    {
      "cell_type": "code",
      "source": [
        "#write data_set_function\n",
        "#normalize data if needed\n",
        "import pandas as pd\n",
        "def normalize(df):\n",
        "    return ((df - df.mean(axis = 0)) / (df.std(axis = 0)))\n",
        "# generate index_list for spliting train & validation set\n",
        "def got_index(df,mode):\n",
        "    index_list = []\n",
        "    first_day = 0\n",
        "    for i in range(df.shape[1]):\n",
        "      #count total data in that catetory\n",
        "      days = df.iloc[:,i].sum()\n",
        "\n",
        "      last_day = int(first_day + days-1)\n",
        "      split_day = int(first_day + days*0.9)\n",
        "\n",
        "      if mode == \"train\":\n",
        "        index_list += list(range(first_day,split_day+1))\n",
        "      elif mode == \"val\":\n",
        "        index_list += list(range(split_day+1,last_day+1))\n",
        "\n",
        "      first_day = last_day+1\n",
        "    return index_list\n",
        "\n",
        "#split train & validation set by index\n",
        "def covid19_train_val_f(mode,d_l = \"both\"):\n",
        "    train__val_df = pd.read_csv(data_info[mode][\"path\"])\n",
        "    print('Size of training data: {}'.format(train__val_df.shape))\n",
        "\n",
        "    train__val_df.iloc[:,41:-1] = normalize(train__val_df.iloc[:,41:-1])\n",
        "\n",
        "    index_list = got_index(train__val_df.iloc[:,1:41],mode)\n",
        "    train__val_df = train__val_df.iloc[ index_list,1:]\n",
        "    label = torch.FloatTensor(train__val_df.iloc[:, -1].to_numpy())\n",
        "    label = torch.unsqueeze(label, 1)\n",
        "    data = torch.FloatTensor(train__val_df.iloc[:, 0:-1].to_numpy())\n",
        "    return({\"data\":data , \"label\":label})\n",
        "\n",
        "def covid19_test_f(mode,d_l = \"data\"):\n",
        "    test_df = pd.read_csv(data_info[mode][\"path\"])\n",
        "    print('Size of testing data: {}'.format(test_df.shape))\n",
        "    test_df.iloc[:,41:] = normalize(test_df.iloc[:,41:])\n",
        "    data = torch.FloatTensor(test_df.to_numpy()[:,1:])\n",
        "    return(data)\n",
        "#create a dict of functions and path w.r.t. different mode\n",
        "data_info = {\n",
        "    \"train\":{\"function\":covid19_train_val_f,\"path\":\"./covid.train.csv\",\"data_or_label\":\"both\"},\n",
        "    \"val\":{\"function\":covid19_train_val_f,\"path\":\"./covid.train.csv\",\"data_or_label\":\"both\"},\n",
        "    \"test\":{\"function\":covid19_test_f,\"path\":\"./covid.test.csv\",\"data_or_label\":\"data\"}\n",
        "}"
      ],
      "metadata": {
        "id": "gWBDrmbiU5Ce"
      },
      "execution_count": 2,
      "outputs": []
    },
    {
      "cell_type": "code",
      "source": [
        "#rewrite class Dataset\n",
        "from torch.utils.data import Dataset, DataLoader\n",
        "class Dataset_preparation(Dataset):\n",
        "  def __init__(self,mode,data_info):\n",
        "      self.mode = mode\n",
        "      self.data_or_label = data_info[mode][\"data_or_label\"]\n",
        "\n",
        "      if self.data_or_label == \"data\":\n",
        "        self.data = data_info[self.mode][\"function\"](self.mode,\"data\")\n",
        "      elif self.data_or_label == \"both\":\n",
        "        self.data = data_info[self.mode][\"function\"](self.mode,\"both\")[\"data\"]\n",
        "        self.label = data_info[self.mode][\"function\"](self.mode,\"both\")[\"label\"]\n",
        "      else :\n",
        "        self.label = data_info[self.mode][\"function\"](self.mode,\"label\")[\"label\"]\n",
        "\n",
        "      self.dim = self.data.shape[1]\n",
        "      print('Finished reading the {mode} set of Dataset ({len} samples found, each dim = {dim})'\n",
        "              .format(mode = self.mode, len =len(self.data), dim=self.dim))\n",
        "\n",
        "  def __getitem__(self, index):\n",
        "      if self.data_or_label == \"data\":\n",
        "        return self.data[index]\n",
        "      elif self.data_or_label == \"both\":\n",
        "        return self.data[index], self.label[index]\n",
        "      else :\n",
        "        return self.label[index]\n",
        "  def __len__(self):\n",
        "      # Returns the size of the dataset\n",
        "      return len(self.data)"
      ],
      "metadata": {
        "id": "O_5yInY7LWzF"
      },
      "execution_count": 3,
      "outputs": []
    },
    {
      "cell_type": "code",
      "source": [
        "#test_test = Dataset_preparation(\"test\",data_info)\n",
        "print(covid19_train_val_f(\"val\",d_l = \"both\")[\"label\"].size())"
      ],
      "metadata": {
        "colab": {
          "base_uri": "https://localhost:8080/"
        },
        "id": "7Ijlw1EJjqWH",
        "outputId": "3df73e0c-6a76-40d9-ed63-a3c454b7a51b"
      },
      "execution_count": 4,
      "outputs": [
        {
          "output_type": "stream",
          "name": "stdout",
          "text": [
            "Size of training data: (2700, 95)\n",
            "torch.Size([240, 1])\n"
          ]
        }
      ]
    },
    {
      "cell_type": "code",
      "source": [
        "#decide how to load data\n",
        "def prep_dataloader(mode,d_info,batch_size,n_jobs=0):\n",
        "    dataset = Dataset_preparation(mode,d_info)\n",
        "    dataloader = DataLoader(\n",
        "        dataset, batch_size,\n",
        "        shuffle=(mode == 'train'), drop_last=False,\n",
        "        num_workers=n_jobs, pin_memory=False)\n",
        "    return dataloader"
      ],
      "metadata": {
        "id": "pPAPaENVnMqE"
      },
      "execution_count": 5,
      "outputs": []
    },
    {
      "cell_type": "code",
      "source": [
        "from torch.nn.modules.activation import Sigmoid\n",
        "import torch.nn as nn\n",
        "class Multi100Layer(nn.Module):\n",
        "    def __init__(self):\n",
        "        super(Multi100Layer, self).__init__()\n",
        "    def forward(self, x):\n",
        "        x = 100.0 * x\n",
        "        return x\n",
        "class NeuralNet(nn.Module):\n",
        "    def __init__(self, input_dim):\n",
        "        super(NeuralNet, self).__init__()\n",
        "\n",
        "        # Define your neural network here\n",
        "        # TODO: How to modify this model to achieve better performance?\n",
        "        self.net = nn.Sequential(\n",
        "            nn.Linear(input_dim, 64),\n",
        "            nn.ReLU(),\n",
        "            nn.Linear(64, 8),\n",
        "            nn.ReLU(),\n",
        "            nn.Linear(8, 1),\n",
        "#            nn.Sigmoid(),\n",
        "#            Multi100Layer()\n",
        "            )\n",
        "\n",
        "        self.criterion = nn.MSELoss(reduction='mean')\n",
        "\n",
        "    def forward(self, x):\n",
        "        x = self.net(x)\n",
        "        return x\n",
        "\n",
        "    def cal_loss(self, pred, target):\n",
        "\n",
        "        return self.criterion(pred, target)"
      ],
      "metadata": {
        "id": "8D3Drze8Fi2s"
      },
      "execution_count": 6,
      "outputs": []
    },
    {
      "cell_type": "code",
      "source": [
        "# x = torch.tensor([5.0])\n",
        "# model = NeuralNet(1)\n",
        "# model_d = model.to(device)\n",
        "# print(model_d(x))"
      ],
      "metadata": {
        "id": "3fh9DHrQ9JK-"
      },
      "execution_count": 7,
      "outputs": []
    },
    {
      "cell_type": "code",
      "source": [
        "h_paras = {\n",
        "    # maximum number of epochs\n",
        "    'n_epochs': 3000,\n",
        "    # mini-batch size for dataloader\n",
        "    'batch_size': 270,\n",
        "    # optimization algorithm (optimizer in torch.optim)\n",
        "    'optimizer': 'SGD',\n",
        "    # hyper-parameters for the optimizer (depends on which optimizer you are using)\n",
        "    'optim_hparas': {\n",
        "        # learning rate of SGD\n",
        "        'lr': 0.001,\n",
        "        # momentum for SGD\n",
        "        'momentum': 0.9\n",
        "    },\n",
        "    # early stopping epochs (the number epochs since your model's last improvement)\n",
        "    'early_stop': 300,\n",
        "    # if loss small than this , early-stopping counter will reset(may update in validation process)\n",
        "    'early_stop_loss_init': 10.0,\n",
        "    # your model will be saved here\n",
        "    'save_path': './model.pth'\n",
        "}"
      ],
      "metadata": {
        "id": "qNHqYt34ZP5y"
      },
      "execution_count": 8,
      "outputs": []
    },
    {
      "cell_type": "code",
      "source": [
        "def train(train_set,model_d,optimizer,device):\n",
        "    # set model to training mode\n",
        "    model_d.train()\n",
        "    # iterate through the dataloader\n",
        "    for data , label in train_set:\n",
        "      # move data to device (cpu/cuda)\n",
        "      data_d , label_d = data.to(device), label.to(device)\n",
        "      # forward pass (compute output tensor)\n",
        "      pred = (model_d(data_d))\n",
        "      # compute loss\n",
        "      mse_loss = model_d.cal_loss(pred , label_d)\n",
        "      # compute gradient (backpropagation)\n",
        "      mse_loss.backward()\n",
        "      # update model with optimizer\n",
        "      optimizer.step()\n",
        "      # set optimizer gradient to zero\n",
        "      optimizer.zero_grad()\n",
        "      return mse_loss.detach().cpu().item()"
      ],
      "metadata": {
        "id": "6jcKe6kSdIPE"
      },
      "execution_count": 9,
      "outputs": []
    },
    {
      "cell_type": "code",
      "source": [
        "def val(val_set,model_d,device):\n",
        "    # set model to evalutation mode\n",
        "    model_d.eval()\n",
        "\n",
        "    total_loss = 0\n",
        "    # iterate through the dataloader\n",
        "    for data , label in val_set:\n",
        "    # move data to device (cpu/cuda)\n",
        "      data_d, label_d = data.to(device), label.to(device)\n",
        "      # disable gradient calculation\n",
        "      with torch.no_grad():\n",
        "        # forward pass (compute output)\n",
        "        pred = model_d(data_d)\n",
        "        # compute loss\n",
        "        mse_loss = model_d.cal_loss(pred, label_d)\n",
        "      # accumulate loss\n",
        "      batch_size = len(data_d)\n",
        "      total_loss += mse_loss.detach().cpu().item() * batch_size\n",
        "    # compute averaged loss\n",
        "    totol_size = len(val_set.dataset)\n",
        "    avg_loss =  total_loss/totol_size\n",
        "    return avg_loss"
      ],
      "metadata": {
        "id": "zFMoWlxkc89K"
      },
      "execution_count": 10,
      "outputs": []
    },
    {
      "cell_type": "code",
      "source": [
        "def test(test_set, model_d, device):\n",
        "    # set model to evalutation mode\n",
        "    model_d.eval()\n",
        "    preds = []\n",
        "    # iterate through the dataloader\n",
        "    for data in test_set:\n",
        "      # move data to device (cpu/cuda)\n",
        "      data_d = data.to(device)\n",
        "      # disable gradient calculation\n",
        "      with torch.no_grad():\n",
        "        # forward pass (compute output)\n",
        "        pred = model_d(data_d)\n",
        "        # collect prediction\n",
        "        preds+=(pred.detach().tolist())\n",
        "    # concatenate all predictions and convert to a numpy array\n",
        "    preds = np.array(preds)\n",
        "    return preds"
      ],
      "metadata": {
        "id": "DgYuELvCitWh"
      },
      "execution_count": 17,
      "outputs": []
    },
    {
      "cell_type": "code",
      "source": [
        "def train_val_process(training_set, validation_set, model, h_paras, device):\n",
        "    #1: move model to device (cpu/cuda)\n",
        "    model_d = model.to(device)\n",
        "    #2: set optimizer = torch.optim.SGD(model_d.parameters(),lr=0.001,momentum=0.9)\n",
        "    optimizer = getattr(torch.optim, h_paras['optimizer'])(\n",
        "        model_d.parameters(), **h_paras['optim_hparas'])\n",
        "\n",
        "    #3: set epoch = h_paras['n_epochs'] = 3000\n",
        "    n_epochs = h_paras['n_epochs']\n",
        "\n",
        "    #4: record training loss\n",
        "    loss_record = {'train': [], \"val\": []}\n",
        "\n",
        "    #5: setting paras\n",
        "    # epoch para\n",
        "    epoch = 0\n",
        "    # early-stoping paras\n",
        "    early_stop_cnt = 0\n",
        "    min_loss = h_paras[\"early_stop_loss_init\"]\n",
        "\n",
        "    #start training\n",
        "    while epoch < n_epochs:\n",
        "\n",
        "      # Part1 : training process\n",
        "      # updata model weight and compute model loss\n",
        "      train_loss = train(training_set,model_d,optimizer,device)\n",
        "      # save loss to loss_record['train']\n",
        "      loss_record['train'].append(train_loss)\n",
        "      # renew epoch para\n",
        "      epoch += 1\n",
        "\n",
        "      # Part2 validation process\n",
        "      # After each epoch, test your model\n",
        "      # on the validation (development) set.\n",
        "      val_loss = val(validation_set, model_d, device)\n",
        "      # save loss to loss_record[\"val\"]\n",
        "      loss_record[\"val\"].append(val_loss)\n",
        "\n",
        "      # Part3 early stopping\n",
        "      # Compute early-stopping counter\n",
        "      if val_loss < min_loss:\n",
        "        min_loss = val_loss\n",
        "        print('Saving model (epoch = {:4d}, train_loss = {:.4f}) , val_loss = {:.4f})'\\\n",
        "        .format(epoch , train_loss , val_loss))\n",
        "      # Save model to specified path if your model improved\n",
        "        torch.save(model_d.state_dict(), h_paras['save_path'])\n",
        "        early_stop_cnt = 0\n",
        "      else:\n",
        "        early_stop_cnt += 1\n",
        "      # Check early stop criteria\n",
        "      if early_stop_cnt > h_paras['early_stop']:\n",
        "          # Stop training if your model stops improving\n",
        "          # for \"h_paras['early_stop']\" epochs.\n",
        "          break\n",
        "\n",
        "    print('Finished training after {} epochs'.format(epoch))\n",
        "    return min_loss, loss_record"
      ],
      "metadata": {
        "id": "iuUnrvH7L9CG"
      },
      "execution_count": 12,
      "outputs": []
    },
    {
      "cell_type": "code",
      "source": [
        "train_set = prep_dataloader('train',data_info,h_paras['batch_size'])\n",
        "val_set = prep_dataloader('val',data_info,h_paras['batch_size'])\n",
        "test_set = prep_dataloader('test',data_info,h_paras['batch_size'])"
      ],
      "metadata": {
        "colab": {
          "base_uri": "https://localhost:8080/"
        },
        "id": "4KsKJk5fk32z",
        "outputId": "87a2de53-58fd-496e-d9ce-d4aeb1c600b1"
      },
      "execution_count": 13,
      "outputs": [
        {
          "output_type": "stream",
          "name": "stdout",
          "text": [
            "Size of training data: (2700, 95)\n",
            "Size of training data: (2700, 95)\n",
            "Finished reading the train set of Dataset (2460 samples found, each dim = 93)\n",
            "Size of training data: (2700, 95)\n",
            "Size of training data: (2700, 95)\n",
            "Finished reading the val set of Dataset (240 samples found, each dim = 93)\n",
            "Size of testing data: (893, 94)\n",
            "Finished reading the test set of Dataset (893 samples found, each dim = 93)\n"
          ]
        }
      ]
    },
    {
      "cell_type": "code",
      "source": [
        "# model = NeuralNet(train_set.dataset.dim)\n",
        "# model_d = model.to(device)\n",
        "# optimizer = torch.optim.SGD(model_d.parameters(),lr = 0.001,momentum=0.9)\n",
        "# print(optimizer)"
      ],
      "metadata": {
        "id": "UUCsUXhiuGtq"
      },
      "execution_count": 14,
      "outputs": []
    },
    {
      "cell_type": "code",
      "source": [
        "# Construct model\n",
        "model = NeuralNet(train_set.dataset.dim)\n",
        "model_loss, model_loss_record = train_val_process(train_set, val_set, model, h_paras, device)\n",
        "#print(model_loss_record[\"train\"])"
      ],
      "metadata": {
        "id": "5alEFp4OMMuj",
        "colab": {
          "base_uri": "https://localhost:8080/"
        },
        "outputId": "d706ecea-54a5-48e3-eb41-c85e281f4a7c"
      },
      "execution_count": 23,
      "outputs": [
        {
          "output_type": "stream",
          "name": "stdout",
          "text": [
            "Saving model (epoch =   35, train_loss = 10.9551) , val_loss = 8.8421)\n",
            "Saving model (epoch =   39, train_loss = 16.0926) , val_loss = 8.7391)\n",
            "Saving model (epoch =   46, train_loss = 7.6816) , val_loss = 7.5279)\n",
            "Saving model (epoch =   49, train_loss = 7.8272) , val_loss = 6.5619)\n",
            "Saving model (epoch =   50, train_loss = 6.6295) , val_loss = 5.7825)\n",
            "Saving model (epoch =   57, train_loss = 4.4633) , val_loss = 4.5379)\n",
            "Saving model (epoch =   58, train_loss = 4.4296) , val_loss = 3.9206)\n",
            "Saving model (epoch =   59, train_loss = 4.0540) , val_loss = 3.7931)\n",
            "Saving model (epoch =   68, train_loss = 2.8480) , val_loss = 3.6605)\n",
            "Saving model (epoch =   69, train_loss = 2.2246) , val_loss = 3.1972)\n",
            "Saving model (epoch =   70, train_loss = 2.9564) , val_loss = 3.0599)\n",
            "Saving model (epoch =   71, train_loss = 3.1698) , val_loss = 2.9311)\n",
            "Saving model (epoch =   72, train_loss = 2.9937) , val_loss = 2.8937)\n",
            "Saving model (epoch =   78, train_loss = 2.2177) , val_loss = 2.7813)\n",
            "Saving model (epoch =   79, train_loss = 2.0243) , val_loss = 2.4583)\n",
            "Saving model (epoch =   80, train_loss = 2.1554) , val_loss = 2.3317)\n",
            "Saving model (epoch =   81, train_loss = 2.2688) , val_loss = 2.3073)\n",
            "Saving model (epoch =   99, train_loss = 2.0172) , val_loss = 2.2748)\n",
            "Saving model (epoch =  100, train_loss = 1.8225) , val_loss = 2.2457)\n",
            "Saving model (epoch =  101, train_loss = 1.8662) , val_loss = 2.2431)\n",
            "Saving model (epoch =  102, train_loss = 2.3240) , val_loss = 2.1978)\n",
            "Saving model (epoch =  103, train_loss = 1.6426) , val_loss = 2.1020)\n",
            "Saving model (epoch =  104, train_loss = 2.0103) , val_loss = 2.0283)\n",
            "Saving model (epoch =  105, train_loss = 2.0856) , val_loss = 2.0215)\n",
            "Saving model (epoch =  115, train_loss = 1.8234) , val_loss = 2.0166)\n",
            "Saving model (epoch =  116, train_loss = 1.8874) , val_loss = 1.9587)\n",
            "Saving model (epoch =  117, train_loss = 1.6432) , val_loss = 1.9383)\n",
            "Saving model (epoch =  125, train_loss = 1.8737) , val_loss = 1.8452)\n",
            "Saving model (epoch =  126, train_loss = 1.4311) , val_loss = 1.7500)\n",
            "Saving model (epoch =  127, train_loss = 1.7995) , val_loss = 1.7279)\n",
            "Saving model (epoch =  156, train_loss = 1.2579) , val_loss = 1.7220)\n",
            "Saving model (epoch =  157, train_loss = 1.4747) , val_loss = 1.6709)\n",
            "Saving model (epoch =  166, train_loss = 1.2639) , val_loss = 1.6262)\n",
            "Saving model (epoch =  167, train_loss = 1.4026) , val_loss = 1.6022)\n",
            "Saving model (epoch =  176, train_loss = 1.1969) , val_loss = 1.5744)\n",
            "Saving model (epoch =  177, train_loss = 1.2815) , val_loss = 1.5522)\n",
            "Saving model (epoch =  178, train_loss = 1.4042) , val_loss = 1.5415)\n",
            "Saving model (epoch =  189, train_loss = 1.4983) , val_loss = 1.5366)\n",
            "Saving model (epoch =  190, train_loss = 1.3376) , val_loss = 1.4924)\n",
            "Saving model (epoch =  191, train_loss = 1.3456) , val_loss = 1.4633)\n",
            "Saving model (epoch =  211, train_loss = 1.3159) , val_loss = 1.4605)\n",
            "Saving model (epoch =  212, train_loss = 1.3695) , val_loss = 1.4558)\n",
            "Saving model (epoch =  245, train_loss = 1.5793) , val_loss = 1.4421)\n",
            "Saving model (epoch =  246, train_loss = 1.2395) , val_loss = 1.4293)\n",
            "Saving model (epoch =  284, train_loss = 1.1761) , val_loss = 1.4230)\n",
            "Saving model (epoch =  285, train_loss = 0.9092) , val_loss = 1.4030)\n",
            "Saving model (epoch =  286, train_loss = 1.4063) , val_loss = 1.3855)\n",
            "Saving model (epoch =  287, train_loss = 1.0497) , val_loss = 1.3795)\n",
            "Saving model (epoch =  288, train_loss = 1.0510) , val_loss = 1.3781)\n",
            "Saving model (epoch =  289, train_loss = 1.1335) , val_loss = 1.3761)\n",
            "Saving model (epoch =  316, train_loss = 0.9500) , val_loss = 1.3567)\n",
            "Saving model (epoch =  317, train_loss = 1.2268) , val_loss = 1.3311)\n",
            "Saving model (epoch =  318, train_loss = 1.0778) , val_loss = 1.3150)\n",
            "Saving model (epoch =  319, train_loss = 0.9695) , val_loss = 1.2956)\n",
            "Saving model (epoch =  320, train_loss = 1.0795) , val_loss = 1.2925)\n",
            "Saving model (epoch =  335, train_loss = 0.8598) , val_loss = 1.2915)\n",
            "Saving model (epoch =  336, train_loss = 1.0926) , val_loss = 1.2900)\n",
            "Saving model (epoch =  337, train_loss = 1.1948) , val_loss = 1.2848)\n",
            "Saving model (epoch =  338, train_loss = 1.1564) , val_loss = 1.2799)\n",
            "Saving model (epoch =  362, train_loss = 1.0119) , val_loss = 1.2637)\n",
            "Saving model (epoch =  363, train_loss = 1.0498) , val_loss = 1.2498)\n",
            "Saving model (epoch =  403, train_loss = 1.1441) , val_loss = 1.2440)\n",
            "Saving model (epoch =  404, train_loss = 1.0351) , val_loss = 1.2362)\n",
            "Saving model (epoch =  436, train_loss = 1.0290) , val_loss = 1.2329)\n",
            "Saving model (epoch =  441, train_loss = 1.0225) , val_loss = 1.2156)\n",
            "Saving model (epoch =  442, train_loss = 0.9458) , val_loss = 1.2001)\n",
            "Saving model (epoch =  443, train_loss = 0.9064) , val_loss = 1.1951)\n",
            "Saving model (epoch =  444, train_loss = 0.8158) , val_loss = 1.1921)\n",
            "Saving model (epoch =  523, train_loss = 0.9197) , val_loss = 1.1608)\n",
            "Saving model (epoch =  565, train_loss = 1.0282) , val_loss = 1.1427)\n",
            "Saving model (epoch =  566, train_loss = 0.7618) , val_loss = 1.1170)\n",
            "Saving model (epoch =  692, train_loss = 0.7359) , val_loss = 1.1137)\n",
            "Saving model (epoch =  699, train_loss = 0.9375) , val_loss = 1.1092)\n",
            "Saving model (epoch =  700, train_loss = 0.8140) , val_loss = 1.1018)\n",
            "Saving model (epoch =  784, train_loss = 0.8546) , val_loss = 1.0845)\n",
            "Saving model (epoch =  858, train_loss = 0.7829) , val_loss = 1.0839)\n",
            "Saving model (epoch =  884, train_loss = 0.7725) , val_loss = 1.0786)\n",
            "Saving model (epoch =  885, train_loss = 0.7984) , val_loss = 1.0741)\n",
            "Saving model (epoch =  959, train_loss = 0.6299) , val_loss = 1.0701)\n",
            "Saving model (epoch =  960, train_loss = 0.7826) , val_loss = 1.0593)\n",
            "Finished training after 1261 epochs\n"
          ]
        }
      ]
    },
    {
      "cell_type": "code",
      "source": [
        "def save_pred(preds, file_path):\n",
        "    import pandas as pd\n",
        "    print('Saving results to {}'.format(file_path))\n",
        "    df = pd.DataFrame(preds,columns=[\"tested_positive\"])\n",
        "    df.to_csv(file_path)"
      ],
      "metadata": {
        "id": "2KPrgK5ktEiJ"
      },
      "execution_count": 24,
      "outputs": []
    },
    {
      "cell_type": "code",
      "source": [
        "preds = test(test_set, model, device)  # predict COVID-19 cases with your model\n",
        "save_pred(preds, 'pred.csv')         # save prediction file to pred.csv"
      ],
      "metadata": {
        "id": "JcymugDXMZ4T",
        "colab": {
          "base_uri": "https://localhost:8080/"
        },
        "outputId": "3e80ba09-55ff-40c1-c645-7cf013365a49"
      },
      "execution_count": 25,
      "outputs": [
        {
          "output_type": "stream",
          "name": "stdout",
          "text": [
            "Saving results to pred.csv\n"
          ]
        }
      ]
    },
    {
      "cell_type": "code",
      "source": [
        "del model\n",
        "model = NeuralNet(train_set.dataset.dim).to(device)  # Construct model and move to device\n",
        "model_loading = torch.load(h_paras['save_path'], map_location=device)  # Load your best model\n",
        "model.load_state_dict(model_loading)"
      ],
      "metadata": {
        "id": "RGl3nIhF6aBG",
        "colab": {
          "base_uri": "https://localhost:8080/"
        },
        "outputId": "ffb47857-9e73-4d8c-9af4-bf206462b761"
      },
      "execution_count": 26,
      "outputs": [
        {
          "output_type": "execute_result",
          "data": {
            "text/plain": [
              "<All keys matched successfully>"
            ]
          },
          "metadata": {},
          "execution_count": 26
        }
      ]
    },
    {
      "cell_type": "code",
      "source": [
        "import matplotlib.pyplot as plt\n",
        "def plot_learning_curve(loss_record, title=''):\n",
        "    total_steps = len(loss_record['train'])\n",
        "    x_1 = range(total_steps)\n",
        "    x_2 = x_1[::len(loss_record['train']) // len(loss_record['val'])]\n",
        "    plt.figure(figsize=(6, 4))\n",
        "    plt.plot(x_1, loss_record['train'], c='tab:red', label='train')\n",
        "    plt.plot(x_2, loss_record['val'], c='tab:cyan', label='val')\n",
        "    plt.ylim(0.0, 5.)\n",
        "    plt.xlabel('Training steps')\n",
        "    plt.ylabel('MSE loss')\n",
        "    plt.title('Learning curve of {}'.format(title))\n",
        "    plt.legend()\n",
        "    plt.show()\n",
        "\n",
        "\n",
        "def plot_pred(val_set, model, device, lim=50., preds=None, targets=None):\n",
        "    if preds is None or targets is None:\n",
        "        model.eval()\n",
        "        preds, labels = [], []\n",
        "        for data , label in val_set:\n",
        "            data_d , label_d = data.to(device), label.to(device)\n",
        "            with torch.no_grad():\n",
        "                pred = model(data_d)\n",
        "                preds += pred.detach().tolist()\n",
        "                labels += label_d.detach().tolist()\n",
        "        preds = np.array(preds)\n",
        "        labels = np.array(labels)\n",
        "    plt.figure(figsize=(5, 5))\n",
        "    plt.scatter(labels, preds, c='r', alpha=0.5)\n",
        "    plt.plot([-0.2, lim], [-0.2, lim], c='b')\n",
        "    plt.xlim(-0.2, lim)\n",
        "    plt.ylim(-0.2, lim)\n",
        "    plt.xlabel('ground truth value')\n",
        "    plt.ylabel('predicted value')\n",
        "    plt.title('Ground Truth v.s. Prediction')\n",
        "    plt.show()"
      ],
      "metadata": {
        "id": "gffYtId6k4CG"
      },
      "execution_count": 27,
      "outputs": []
    },
    {
      "cell_type": "code",
      "source": [
        "plot_learning_curve(model_loss_record, title='deep model')\n",
        "plot_pred(val_set, model, device)  # Show prediction on the validation set"
      ],
      "metadata": {
        "colab": {
          "base_uri": "https://localhost:8080/",
          "height": 880
        },
        "id": "DLFPf6Kqk-Qt",
        "outputId": "6f5e6372-fd1e-4de7-d06e-9b4e81d3f33d"
      },
      "execution_count": 28,
      "outputs": [
        {
          "output_type": "display_data",
          "data": {
            "text/plain": [
              "<Figure size 600x400 with 1 Axes>"
            ],
            "image/png": "[encoded data removed]"
          },
          "metadata": {}
        },
        {
          "output_type": "display_data",
          "data": {
            "text/plain": [
              "<Figure size 500x500 with 1 Axes>"
            ],
            "image/png": "[encoded data removed]"
          },
          "metadata": {}
        }
      ]
    }
  ]
}