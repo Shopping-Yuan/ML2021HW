{
  "nbformat": 4,
  "nbformat_minor": 0,
  "metadata": {
    "colab": {
      "provenance": [],
      "gpuType": "T4",
      "authorship_tag": "ABX9TyN3vo+VxHIBp8dxD/cRyoUD",
      "include_colab_link": true
    },
    "kernelspec": {
      "name": "python3",
      "display_name": "Python 3"
    },
    "language_info": {
      "name": "python"
    },
    "accelerator": "GPU"
  },
  "cells": [
    {
      "cell_type": "markdown",
      "metadata": {
        "id": "view-in-github",
        "colab_type": "text"
      },
      "source": [
        "<a href=\"https://colab.research.google.com/github/Shopping-Yuan/ML2021HW/blob/Shopping_branch/ML2021HW1_modified.ipynb\" target=\"_parent\"><img src=\"https://colab.research.google.com/assets/colab-badge.svg\" alt=\"Open In Colab\"/></a>"
      ]
    },
    {
      "cell_type": "markdown",
      "source": [
        "##Pytorch Setting:"
      ],
      "metadata": {
        "id": "qaaQpqayiLbl"
      }
    },
    {
      "cell_type": "code",
      "execution_count": 69,
      "metadata": {
        "id": "8mZwtss3iFBZ",
        "colab": {
          "base_uri": "https://localhost:8080/"
        },
        "outputId": "32d7a7be-5044-4f71-f294-85e17964dccc"
      },
      "outputs": [
        {
          "output_type": "stream",
          "name": "stdout",
          "text": [
            "True\n"
          ]
        }
      ],
      "source": [
        "#import pytorch\n",
        "import torch\n",
        "\n",
        "# torch.backends.cudnn: set CNN algorithmtorch.backends.cudnn\n",
        "torch.backends.cudnn.deterministic = True\n",
        "torch.backends.cudnn.benchmark = False\n",
        "\n",
        "# get the current available device ('cpu' or 'cuda')\n",
        "def get_device():\n",
        "    return 'cuda' if torch.cuda.is_available() else 'cpu'\n",
        "device = get_device()\n",
        "print(torch.cuda.is_available())\n",
        "#set random variable\n",
        "import numpy as np\n",
        "myseed = 1\n",
        "np.random.seed(myseed)\n",
        "torch.manual_seed(myseed)\n",
        "if torch.cuda.is_available():\n",
        "    torch.cuda.manual_seed_all(myseed)"
      ]
    },
    {
      "cell_type": "markdown",
      "source": [
        "##Data Set"
      ],
      "metadata": {
        "id": "EvBtNdcmjKTK"
      }
    },
    {
      "cell_type": "code",
      "source": [
        "#write data_set_function\n",
        "#normalize data if needed\n",
        "import pandas as pd\n",
        "def normalize(df):\n",
        "    return ((df - df.mean(axis = 0)) / (df.std(axis = 0)))\n",
        "# generate index_list for spliting train & validation set\n",
        "def got_index(df,mode):\n",
        "    index_list = []\n",
        "    first_day = 0\n",
        "    for i in range(df.shape[1]):\n",
        "      #count total data in that catetory\n",
        "      days = df.iloc[:,i].sum()\n",
        "\n",
        "      last_day = int(first_day + days-1)\n",
        "      split_day = int(first_day + days*0.9)\n",
        "\n",
        "      if mode == \"train\":\n",
        "        index_list += list(range(first_day,split_day+1))\n",
        "      elif mode == \"val\":\n",
        "        index_list += list(range(split_day+1,last_day+1))\n",
        "\n",
        "      first_day = last_day+1\n",
        "    return index_list\n",
        "\n",
        "#split train & validation set by index\n",
        "def covid19_train_val_f(mode,d_l = \"both\"):\n",
        "    train__val_df = pd.read_csv(data_info[mode][\"path\"])\n",
        "    print('Size of training data: {}'.format(train__val_df.shape))\n",
        "\n",
        "    train__val_df.iloc[:,41:-1] = normalize(train__val_df.iloc[:,41:-1])\n",
        "\n",
        "    index_list = got_index(train__val_df.iloc[:,1:41],mode)\n",
        "    train__val_df = train__val_df.iloc[ index_list,1:]\n",
        "    label = torch.FloatTensor(train__val_df.iloc[:, -1].to_numpy())\n",
        "    label = torch.unsqueeze(label, 1)\n",
        "    data = torch.FloatTensor(train__val_df.iloc[:, 0:-1].to_numpy())\n",
        "    return({\"data\":data , \"label\":label})\n",
        "\n",
        "def covid19_test_f(mode,d_l = \"data\"):\n",
        "    test_df = pd.read_csv(data_info[mode][\"path\"])\n",
        "    print('Size of testing data: {}'.format(test_df.shape))\n",
        "    test_df.iloc[:,41:] = normalize(test_df.iloc[:,41:])\n",
        "    data = torch.FloatTensor(test_df.to_numpy()[:,1:])\n",
        "    return(data)\n",
        "#create a dict of functions and path w.r.t. different mode\n",
        "data_info = {\n",
        "    \"train\":{\"function\":covid19_train_val_f,\"path\":\"./covid.train.csv\",\"data_or_label\":\"both\"},\n",
        "    \"val\":{\"function\":covid19_train_val_f,\"path\":\"./covid.train.csv\",\"data_or_label\":\"both\"},\n",
        "    \"test\":{\"function\":covid19_test_f,\"path\":\"./covid.test.csv\",\"data_or_label\":\"data\"}\n",
        "}"
      ],
      "metadata": {
        "id": "gWBDrmbiU5Ce"
      },
      "execution_count": 71,
      "outputs": []
    },
    {
      "cell_type": "code",
      "source": [
        "#rewrite class Dataset\n",
        "from torch.utils.data import Dataset, DataLoader\n",
        "class Dataset_preparation(Dataset):\n",
        "  def __init__(self,mode,data_info):\n",
        "      self.mode = mode\n",
        "      self.data_or_label = data_info[mode][\"data_or_label\"]\n",
        "\n",
        "      if self.data_or_label == \"data\":\n",
        "        self.data = data_info[self.mode][\"function\"](self.mode,\"data\")\n",
        "      elif self.data_or_label == \"both\":\n",
        "        self.data = data_info[self.mode][\"function\"](self.mode,\"both\")[\"data\"]\n",
        "        self.label = data_info[self.mode][\"function\"](self.mode,\"both\")[\"label\"]\n",
        "      else :\n",
        "        self.label = data_info[self.mode][\"function\"](self.mode,\"label\")[\"label\"]\n",
        "\n",
        "      self.dim = self.data.shape[1]\n",
        "      print('Finished reading the {mode} set of Dataset ({len} samples found, each dim = {dim})'\n",
        "              .format(mode = self.mode, len =len(self.data), dim=self.dim))\n",
        "\n",
        "  def __getitem__(self, index):\n",
        "      if self.data_or_label == \"data\":\n",
        "        return self.data[index]\n",
        "      elif self.data_or_label == \"both\":\n",
        "        return self.data[index], self.label[index]\n",
        "      else :\n",
        "        return self.label[index]\n",
        "  def __len__(self):\n",
        "      # Returns the size of the dataset\n",
        "      return len(self.data)"
      ],
      "metadata": {
        "id": "O_5yInY7LWzF"
      },
      "execution_count": 72,
      "outputs": []
    },
    {
      "cell_type": "code",
      "source": [
        "#test_test = Dataset_preparation(\"test\",data_info)\n",
        "print(covid19_train_val_f(\"val\",d_l = \"both\")[\"label\"].size())"
      ],
      "metadata": {
        "colab": {
          "base_uri": "https://localhost:8080/"
        },
        "id": "7Ijlw1EJjqWH",
        "outputId": "5f8257f9-981d-420b-d398-3329d9b77ec5"
      },
      "execution_count": 73,
      "outputs": [
        {
          "output_type": "stream",
          "name": "stdout",
          "text": [
            "Size of training data: (2700, 95)\n",
            "torch.Size([240, 1])\n"
          ]
        }
      ]
    },
    {
      "cell_type": "code",
      "source": [
        "#decide how to load data\n",
        "def prep_dataloader(mode,d_info,batch_size,n_jobs=0):\n",
        "    dataset = Dataset_preparation(mode,d_info)\n",
        "    dataloader = DataLoader(\n",
        "        dataset, batch_size,\n",
        "        shuffle=(mode == 'train'), drop_last=False,\n",
        "        num_workers=n_jobs, pin_memory=False)\n",
        "    return dataloader"
      ],
      "metadata": {
        "id": "pPAPaENVnMqE"
      },
      "execution_count": 76,
      "outputs": []
    },
    {
      "cell_type": "code",
      "source": [
        "from torch.nn.modules.activation import Sigmoid\n",
        "import torch.nn as nn\n",
        "class Multi100Layer(nn.Module):\n",
        "    def __init__(self):\n",
        "        super(Multi100Layer, self).__init__()\n",
        "    def forward(self, x):\n",
        "        x = 100.0 * x\n",
        "        return x\n",
        "class NeuralNet(nn.Module):\n",
        "    def __init__(self, input_dim):\n",
        "        super(NeuralNet, self).__init__()\n",
        "\n",
        "        # Define your neural network here\n",
        "        # TODO: How to modify this model to achieve better performance?\n",
        "        self.net = nn.Sequential(\n",
        "            nn.Linear(input_dim, 64),\n",
        "            nn.ReLU(),\n",
        "            nn.Linear(64, 8),\n",
        "            nn.ReLU(),\n",
        "            nn.Linear(8, 1),\n",
        "#            nn.Sigmoid(),\n",
        "#            Multi100Layer()\n",
        "            )\n",
        "\n",
        "        self.criterion = nn.MSELoss(reduction='mean')\n",
        "\n",
        "    def forward(self, x):\n",
        "        x = self.net(x)\n",
        "        return x\n",
        "\n",
        "    def cal_loss(self, pred, target):\n",
        "\n",
        "        return self.criterion(pred, target)"
      ],
      "metadata": {
        "id": "8D3Drze8Fi2s"
      },
      "execution_count": 113,
      "outputs": []
    },
    {
      "cell_type": "code",
      "source": [
        "# x = torch.tensor([5.0])\n",
        "# model = NeuralNet(1)\n",
        "# model_d = model.to(device)\n",
        "# print(model_d(x))"
      ],
      "metadata": {
        "id": "3fh9DHrQ9JK-"
      },
      "execution_count": 33,
      "outputs": []
    },
    {
      "cell_type": "code",
      "source": [
        "h_paras = {\n",
        "    # maximum number of epochs\n",
        "    'n_epochs': 3000,\n",
        "    # mini-batch size for dataloader\n",
        "    'batch_size': 270,\n",
        "    # optimization algorithm (optimizer in torch.optim)\n",
        "    'optimizer': 'SGD',\n",
        "    # hyper-parameters for the optimizer (depends on which optimizer you are using)\n",
        "    'optim_hparas': {\n",
        "        # learning rate of SGD\n",
        "        'lr': 0.001,\n",
        "        # momentum for SGD\n",
        "        'momentum': 0.9\n",
        "    },\n",
        "    # early stopping epochs (the number epochs since your model's last improvement)\n",
        "    'early_stop': 300,\n",
        "    # if loss small than this , early-stopping counter will reset(may update in validation process)\n",
        "    'early_stop_loss_init': 10.0,\n",
        "    # your model will be saved here\n",
        "    'save_path': './model.pth'\n",
        "}"
      ],
      "metadata": {
        "id": "qNHqYt34ZP5y"
      },
      "execution_count": 93,
      "outputs": []
    },
    {
      "cell_type": "code",
      "source": [
        "def train(train_set,model_d,optimizer,device):\n",
        "    # set model to training mode\n",
        "    model_d.train()\n",
        "    # iterate through the dataloader\n",
        "    for data , label in train_set:\n",
        "      # move data to device (cpu/cuda)\n",
        "      data_d , label_d = data.to(device), label.to(device)\n",
        "      # forward pass (compute output tensor)\n",
        "      pred = (model_d(data_d))\n",
        "      # compute loss\n",
        "      mse_loss = model_d.cal_loss(pred , label_d)\n",
        "      # compute gradient (backpropagation)\n",
        "      mse_loss.backward()\n",
        "      # update model with optimizer\n",
        "      optimizer.step()\n",
        "      # set optimizer gradient to zero\n",
        "      optimizer.zero_grad()\n",
        "      return mse_loss.detach().cpu().item()"
      ],
      "metadata": {
        "id": "6jcKe6kSdIPE"
      },
      "execution_count": 47,
      "outputs": []
    },
    {
      "cell_type": "code",
      "source": [
        "def val(val_set,model_d,device):\n",
        "    # set model to evalutation mode\n",
        "    model_d.eval()\n",
        "\n",
        "    total_loss = 0\n",
        "    # iterate through the dataloader\n",
        "    for data , label in val_set:\n",
        "    # move data to device (cpu/cuda)\n",
        "      data_d, label_d = data.to(device), label.to(device)\n",
        "      # disable gradient calculation\n",
        "      with torch.no_grad():\n",
        "        # forward pass (compute output)\n",
        "        pred = model_d(data_d)\n",
        "        # compute loss\n",
        "        mse_loss = model_d.cal_loss(pred, label_d)\n",
        "      # accumulate loss\n",
        "      batch_size = len(data_d)\n",
        "      total_loss += mse_loss.detach().cpu().item() * batch_size\n",
        "    # compute averaged loss\n",
        "    totol_size = len(val_set.dataset)\n",
        "    avg_loss =  total_loss/totol_size\n",
        "    return avg_loss"
      ],
      "metadata": {
        "id": "zFMoWlxkc89K"
      },
      "execution_count": 48,
      "outputs": []
    },
    {
      "cell_type": "code",
      "source": [
        "def test_and_save(test_set, model_d, device):\n",
        "    # set model to evalutation mode\n",
        "    model_d.eval()\n",
        "    preds = []\n",
        "    # iterate through the dataloader\n",
        "    for data in test_set:\n",
        "      # move data to device (cpu/cuda)\n",
        "      data_d = data.to(device)\n",
        "      # disable gradient calculation\n",
        "      with torch.no_grad():\n",
        "        # forward pass (compute output)\n",
        "        pred = model_d(data_d)\n",
        "        # collect prediction\n",
        "        preds+=(pred.detach().tolist())\n",
        "    # concatenate all predictions and convert to a numpy array\n",
        "    preds = np.array(preds)\n",
        "    import pandas as pd\n",
        "    print('Saving results to {}'.format(file))\n",
        "    df = pd.DataFrame(preds,columns=[\"tested_positive\"])\n",
        "    df.to_csv(file)"
      ],
      "metadata": {
        "id": "DgYuELvCitWh"
      },
      "execution_count": 119,
      "outputs": []
    },
    {
      "cell_type": "code",
      "source": [
        "def train_val_process(training_set, validation_set, model, h_paras, device):\n",
        "    #1: move model to device (cpu/cuda)\n",
        "    model_d = model.to(device)\n",
        "    #2: set optimizer = torch.optim.SGD(model_d.parameters(),lr=0.001,momentum=0.9)\n",
        "    optimizer = getattr(torch.optim, h_paras['optimizer'])(\n",
        "        model_d.parameters(), **h_paras['optim_hparas'])\n",
        "\n",
        "    #3: set epoch = h_paras['n_epochs'] = 3000\n",
        "    n_epochs = h_paras['n_epochs']\n",
        "\n",
        "    #4: record training loss\n",
        "    loss_record = {'train': [], \"val\": []}\n",
        "\n",
        "    #5: setting paras\n",
        "    # epoch para\n",
        "    epoch = 0\n",
        "    # early-stoping paras\n",
        "    early_stop_cnt = 0\n",
        "    min_loss = h_paras[\"early_stop_loss_init\"]\n",
        "\n",
        "    #start training\n",
        "    while epoch < n_epochs:\n",
        "\n",
        "      # Part1 : training process\n",
        "      # updata model weight and compute model loss\n",
        "      train_loss = train(training_set,model_d,optimizer,device)\n",
        "      # save loss to loss_record['train']\n",
        "      loss_record['train'].append(train_loss)\n",
        "      # renew epoch para\n",
        "      epoch += 1\n",
        "\n",
        "      # Part2 validation process\n",
        "      # After each epoch, test your model\n",
        "      # on the validation (development) set.\n",
        "      val_loss = val(validation_set, model_d, device)\n",
        "      # save loss to loss_record[\"val\"]\n",
        "      loss_record[\"val\"].append(val_loss)\n",
        "\n",
        "      # Part3 early stopping\n",
        "      # Compute early-stopping counter\n",
        "      if val_loss < min_loss:\n",
        "        min_loss = val_loss\n",
        "        print('Saving model (epoch = {:4d}, train_loss = {:.4f}) , val_loss = {:.4f})'\\\n",
        "        .format(epoch , train_loss , val_loss))\n",
        "      # Save model to specified path if your model improved\n",
        "        torch.save(model_d.state_dict(), h_paras['save_path'])\n",
        "        early_stop_cnt = 0\n",
        "      else:\n",
        "        early_stop_cnt += 1\n",
        "      # Check early stop criteria\n",
        "      if early_stop_cnt > h_paras['early_stop']:\n",
        "          # Stop training if your model stops improving\n",
        "          # for \"h_paras['early_stop']\" epochs.\n",
        "          break\n",
        "\n",
        "    print('Finished training after {} epochs'.format(epoch))\n",
        "    return min_loss, loss_record"
      ],
      "metadata": {
        "id": "iuUnrvH7L9CG"
      },
      "execution_count": 86,
      "outputs": []
    },
    {
      "cell_type": "code",
      "source": [
        "train_set = prep_dataloader('train',data_info,h_paras['batch_size'])\n",
        "val_set = prep_dataloader('val',data_info,h_paras['batch_size'])\n",
        "test_set = prep_dataloader('test',data_info,h_paras['batch_size'])"
      ],
      "metadata": {
        "colab": {
          "base_uri": "https://localhost:8080/"
        },
        "id": "4KsKJk5fk32z",
        "outputId": "56ec4f58-3e39-495c-95a0-756251e2e885"
      },
      "execution_count": 87,
      "outputs": [
        {
          "output_type": "stream",
          "name": "stdout",
          "text": [
            "Size of training data: (2700, 95)\n",
            "Size of training data: (2700, 95)\n",
            "Finished reading the train set of Dataset (2460 samples found, each dim = 93)\n",
            "Size of training data: (2700, 95)\n",
            "Size of training data: (2700, 95)\n",
            "Finished reading the val set of Dataset (240 samples found, each dim = 93)\n",
            "Size of testing data: (893, 94)\n",
            "Finished reading the test set of Dataset (893 samples found, each dim = 93)\n"
          ]
        }
      ]
    },
    {
      "cell_type": "code",
      "source": [
        "# model = NeuralNet(train_set.dataset.dim)\n",
        "# model_d = model.to(device)\n",
        "# optimizer = torch.optim.SGD(model_d.parameters(),lr = 0.001,momentum=0.9)\n",
        "# print(optimizer)"
      ],
      "metadata": {
        "id": "UUCsUXhiuGtq"
      },
      "execution_count": 44,
      "outputs": []
    },
    {
      "cell_type": "code",
      "source": [
        "# Construct model\n",
        "model = NeuralNet(train_set.dataset.dim)\n",
        "model_loss, model_loss_record = train_val_process(train_set, val_set, model, h_paras, device)\n",
        "#print(model_loss_record[\"train\"])"
      ],
      "metadata": {
        "id": "5alEFp4OMMuj",
        "colab": {
          "base_uri": "https://localhost:8080/"
        },
        "outputId": "cc3c4a57-833e-4159-9173-da4bf7a9246e"
      },
      "execution_count": 114,
      "outputs": [
        {
          "output_type": "stream",
          "name": "stdout",
          "text": [
            "Saving model (epoch =   36, train_loss = 11.2431) , val_loss = 9.3292)\n",
            "Saving model (epoch =   37, train_loss = 7.2252) , val_loss = 8.6048)\n",
            "Saving model (epoch =   40, train_loss = 9.7084) , val_loss = 7.5589)\n",
            "Saving model (epoch =   47, train_loss = 5.2539) , val_loss = 6.2555)\n",
            "Saving model (epoch =   48, train_loss = 5.5793) , val_loss = 5.8100)\n",
            "Saving model (epoch =   49, train_loss = 6.1874) , val_loss = 5.6285)\n",
            "Saving model (epoch =   50, train_loss = 5.5008) , val_loss = 5.4024)\n",
            "Saving model (epoch =   58, train_loss = 4.2010) , val_loss = 4.8289)\n",
            "Saving model (epoch =   59, train_loss = 4.2687) , val_loss = 4.7294)\n",
            "Saving model (epoch =   60, train_loss = 4.2115) , val_loss = 4.5354)\n",
            "Saving model (epoch =   61, train_loss = 4.6116) , val_loss = 4.3428)\n",
            "Saving model (epoch =   67, train_loss = 3.1155) , val_loss = 3.8412)\n",
            "Saving model (epoch =   68, train_loss = 3.6474) , val_loss = 3.5655)\n",
            "Saving model (epoch =   69, train_loss = 3.0572) , val_loss = 3.5066)\n",
            "Saving model (epoch =   80, train_loss = 2.8233) , val_loss = 3.4350)\n",
            "Saving model (epoch =   81, train_loss = 2.4418) , val_loss = 3.3277)\n",
            "Saving model (epoch =   87, train_loss = 2.3101) , val_loss = 3.3037)\n",
            "Saving model (epoch =   88, train_loss = 2.3791) , val_loss = 3.0999)\n",
            "Saving model (epoch =   89, train_loss = 2.4935) , val_loss = 2.8869)\n",
            "Saving model (epoch =   90, train_loss = 1.6678) , val_loss = 2.7474)\n",
            "Saving model (epoch =   91, train_loss = 2.4772) , val_loss = 2.6947)\n",
            "Saving model (epoch =  101, train_loss = 2.0921) , val_loss = 2.6745)\n",
            "Saving model (epoch =  102, train_loss = 1.8711) , val_loss = 2.6515)\n",
            "Saving model (epoch =  108, train_loss = 1.8408) , val_loss = 2.6119)\n",
            "Saving model (epoch =  109, train_loss = 1.9844) , val_loss = 2.4399)\n",
            "Saving model (epoch =  110, train_loss = 1.8003) , val_loss = 2.4095)\n",
            "Saving model (epoch =  111, train_loss = 1.9360) , val_loss = 2.3909)\n",
            "Saving model (epoch =  112, train_loss = 1.7997) , val_loss = 2.3474)\n",
            "Saving model (epoch =  113, train_loss = 1.9530) , val_loss = 2.3330)\n",
            "Saving model (epoch =  118, train_loss = 1.7706) , val_loss = 2.3183)\n",
            "Saving model (epoch =  119, train_loss = 1.5391) , val_loss = 2.2041)\n",
            "Saving model (epoch =  120, train_loss = 1.4369) , val_loss = 2.1446)\n",
            "Saving model (epoch =  135, train_loss = 1.5083) , val_loss = 2.0880)\n",
            "Saving model (epoch =  136, train_loss = 1.4444) , val_loss = 1.9968)\n",
            "Saving model (epoch =  137, train_loss = 1.2223) , val_loss = 1.9358)\n",
            "Saving model (epoch =  138, train_loss = 1.7501) , val_loss = 1.9003)\n",
            "Saving model (epoch =  153, train_loss = 1.4014) , val_loss = 1.8800)\n",
            "Saving model (epoch =  154, train_loss = 1.8098) , val_loss = 1.8080)\n",
            "Saving model (epoch =  155, train_loss = 1.3163) , val_loss = 1.7653)\n",
            "Saving model (epoch =  156, train_loss = 1.3826) , val_loss = 1.7560)\n",
            "Saving model (epoch =  160, train_loss = 1.4067) , val_loss = 1.7544)\n",
            "Saving model (epoch =  165, train_loss = 1.3976) , val_loss = 1.7290)\n",
            "Saving model (epoch =  173, train_loss = 1.4261) , val_loss = 1.7194)\n",
            "Saving model (epoch =  174, train_loss = 1.2346) , val_loss = 1.6763)\n",
            "Saving model (epoch =  175, train_loss = 1.2853) , val_loss = 1.6532)\n",
            "Saving model (epoch =  180, train_loss = 1.3213) , val_loss = 1.6464)\n",
            "Saving model (epoch =  181, train_loss = 1.4121) , val_loss = 1.6329)\n",
            "Saving model (epoch =  188, train_loss = 1.4037) , val_loss = 1.6091)\n",
            "Saving model (epoch =  189, train_loss = 1.2404) , val_loss = 1.5702)\n",
            "Saving model (epoch =  198, train_loss = 1.1243) , val_loss = 1.5229)\n",
            "Saving model (epoch =  199, train_loss = 1.2621) , val_loss = 1.4845)\n",
            "Saving model (epoch =  200, train_loss = 1.4627) , val_loss = 1.4772)\n",
            "Saving model (epoch =  216, train_loss = 1.2794) , val_loss = 1.4667)\n",
            "Saving model (epoch =  218, train_loss = 1.3052) , val_loss = 1.4574)\n",
            "Saving model (epoch =  234, train_loss = 1.0269) , val_loss = 1.4571)\n",
            "Saving model (epoch =  235, train_loss = 1.2326) , val_loss = 1.4397)\n",
            "Saving model (epoch =  236, train_loss = 0.9190) , val_loss = 1.4271)\n",
            "Saving model (epoch =  245, train_loss = 1.0449) , val_loss = 1.4063)\n",
            "Saving model (epoch =  246, train_loss = 1.0006) , val_loss = 1.3843)\n",
            "Saving model (epoch =  247, train_loss = 0.9690) , val_loss = 1.3822)\n",
            "Saving model (epoch =  260, train_loss = 1.0138) , val_loss = 1.3610)\n",
            "Saving model (epoch =  261, train_loss = 0.9179) , val_loss = 1.3371)\n",
            "Saving model (epoch =  290, train_loss = 0.8763) , val_loss = 1.3303)\n",
            "Saving model (epoch =  291, train_loss = 1.0677) , val_loss = 1.3134)\n",
            "Saving model (epoch =  357, train_loss = 0.8871) , val_loss = 1.3057)\n",
            "Saving model (epoch =  358, train_loss = 0.9503) , val_loss = 1.2999)\n",
            "Saving model (epoch =  381, train_loss = 1.0598) , val_loss = 1.2496)\n",
            "Saving model (epoch =  402, train_loss = 0.9322) , val_loss = 1.2488)\n",
            "Saving model (epoch =  403, train_loss = 1.0542) , val_loss = 1.2389)\n",
            "Saving model (epoch =  424, train_loss = 0.8922) , val_loss = 1.2375)\n",
            "Saving model (epoch =  425, train_loss = 0.9858) , val_loss = 1.2320)\n",
            "Saving model (epoch =  455, train_loss = 1.0497) , val_loss = 1.2291)\n",
            "Saving model (epoch =  481, train_loss = 0.9381) , val_loss = 1.2207)\n",
            "Saving model (epoch =  543, train_loss = 0.8562) , val_loss = 1.2204)\n",
            "Saving model (epoch =  544, train_loss = 0.7734) , val_loss = 1.1890)\n",
            "Saving model (epoch =  553, train_loss = 0.9104) , val_loss = 1.1868)\n",
            "Saving model (epoch =  554, train_loss = 0.7884) , val_loss = 1.1819)\n",
            "Saving model (epoch =  636, train_loss = 0.9360) , val_loss = 1.1606)\n",
            "Saving model (epoch =  661, train_loss = 0.8848) , val_loss = 1.1574)\n",
            "Saving model (epoch =  662, train_loss = 0.9716) , val_loss = 1.1374)\n",
            "Saving model (epoch =  852, train_loss = 0.6657) , val_loss = 1.1341)\n",
            "Saving model (epoch =  853, train_loss = 0.8251) , val_loss = 1.1200)\n",
            "Saving model (epoch =  854, train_loss = 0.6686) , val_loss = 1.1105)\n",
            "Saving model (epoch =  855, train_loss = 0.7641) , val_loss = 1.1099)\n",
            "Saving model (epoch =  968, train_loss = 0.5961) , val_loss = 1.1051)\n",
            "Saving model (epoch =  981, train_loss = 0.6965) , val_loss = 1.0856)\n",
            "Finished training after 1282 epochs\n"
          ]
        }
      ]
    },
    {
      "cell_type": "code",
      "source": [
        "preds = test(test_set, model, device)  # predict COVID-19 cases with your model\n",
        "save_pred(preds, 'pred.csv')         # save prediction file to pred.csv"
      ],
      "metadata": {
        "id": "JcymugDXMZ4T",
        "colab": {
          "base_uri": "https://localhost:8080/"
        },
        "outputId": "ce40701e-55af-46da-90b7-ca3e8ff716ee"
      },
      "execution_count": 120,
      "outputs": [
        {
          "output_type": "stream",
          "name": "stdout",
          "text": [
            "Saving results to pred.csv\n"
          ]
        }
      ]
    },
    {
      "cell_type": "code",
      "source": [
        "del model\n",
        "model = NeuralNet(train_set.dataset.dim).to(device)  # Construct model and move to device\n",
        "model_loading = torch.load(h_paras['save_path'], map_location=device)  # Load your best model\n",
        "model.load_state_dict(model_loading)"
      ],
      "metadata": {
        "id": "RGl3nIhF6aBG",
        "colab": {
          "base_uri": "https://localhost:8080/"
        },
        "outputId": "0a103b96-44b4-4bb2-cc0a-7eec79d9b3e4"
      },
      "execution_count": 121,
      "outputs": [
        {
          "output_type": "execute_result",
          "data": {
            "text/plain": [
              "<All keys matched successfully>"
            ]
          },
          "metadata": {},
          "execution_count": 121
        }
      ]
    },
    {
      "cell_type": "code",
      "source": [
        "import matplotlib.pyplot as plt\n",
        "def plot_learning_curve(loss_record, title=''):\n",
        "    total_steps = len(loss_record['train'])\n",
        "    x_1 = range(total_steps)\n",
        "    x_2 = x_1[::len(loss_record['train']) // len(loss_record['val'])]\n",
        "    plt.figure(figsize=(6, 4))\n",
        "    plt.plot(x_1, loss_record['train'], c='tab:red', label='train')\n",
        "    plt.plot(x_2, loss_record['val'], c='tab:cyan', label='val')\n",
        "    plt.ylim(0.0, 5.)\n",
        "    plt.xlabel('Training steps')\n",
        "    plt.ylabel('MSE loss')\n",
        "    plt.title('Learning curve of {}'.format(title))\n",
        "    plt.legend()\n",
        "    plt.show()\n",
        "\n",
        "\n",
        "def plot_pred(val_set, model, device, lim=50., preds=None, targets=None):\n",
        "    if preds is None or targets is None:\n",
        "        model.eval()\n",
        "        preds, labels = [], []\n",
        "        for data , label in val_set:\n",
        "            data_d , label_d = data.to(device), label.to(device)\n",
        "            with torch.no_grad():\n",
        "                pred = model(data_d)\n",
        "                preds += pred.detach().tolist()\n",
        "                labels += label_d.detach().tolist()\n",
        "        preds = np.array(preds)\n",
        "        labels = np.array(labels)\n",
        "    plt.figure(figsize=(5, 5))\n",
        "    plt.scatter(labels, preds, c='r', alpha=0.5)\n",
        "    plt.plot([-0.2, lim], [-0.2, lim], c='b')\n",
        "    plt.xlim(-0.2, lim)\n",
        "    plt.ylim(-0.2, lim)\n",
        "    plt.xlabel('ground truth value')\n",
        "    plt.ylabel('predicted value')\n",
        "    plt.title('Ground Truth v.s. Prediction')\n",
        "    plt.show()"
      ],
      "metadata": {
        "id": "gffYtId6k4CG"
      },
      "execution_count": 122,
      "outputs": []
    },
    {
      "cell_type": "code",
      "source": [
        "plot_learning_curve(model_loss_record, title='deep model')\n",
        "plot_pred(val_set, model, device)  # Show prediction on the validation set"
      ],
      "metadata": {
        "colab": {
          "base_uri": "https://localhost:8080/",
          "height": 880
        },
        "id": "DLFPf6Kqk-Qt",
        "outputId": "737758ac-43ef-4eac-aa70-92bb49b55cd2"
      },
      "execution_count": 124,
      "outputs": [
        {
          "output_type": "display_data",
          "data": {
            "text/plain": [
              "<Figure size 600x400 with 1 Axes>"
            ],
            "image/png": "[encoded data removed]"
          },
          "metadata": {}
        },
        {
          "output_type": "display_data",
          "data": {
            "text/plain": [
              "<Figure size 500x500 with 1 Axes>"
            ],
            "image/png": "[encoded data removed]"
          },
          "metadata": {}
        }
      ]
    }
  ]
}