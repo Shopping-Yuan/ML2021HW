{
  "nbformat": 4,
  "nbformat_minor": 0,
  "metadata": {
    "colab": {
      "provenance": [],
      "gpuType": "T4",
      "include_colab_link": true
    },
    "kernelspec": {
      "name": "python3",
      "display_name": "Python 3"
    },
    "language_info": {
      "name": "python"
    },
    "accelerator": "GPU",
    "widgets": {
      "application/vnd.jupyter.widget-state+json": {
        "91f7566887d740c09556280211df94c6": {
          "model_module": "@jupyter-widgets/controls",
          "model_name": "HBoxModel",
          "model_module_version": "1.5.0",
          "state": {
            "_dom_classes": [],
            "_model_module": "@jupyter-widgets/controls",
            "_model_module_version": "1.5.0",
            "_model_name": "HBoxModel",
            "_view_count": null,
            "_view_module": "@jupyter-widgets/controls",
            "_view_module_version": "1.5.0",
            "_view_name": "HBoxView",
            "box_style": "",
            "children": [
              "IPY_MODEL_fb87e853751d495b992305927fdb4096",
              "IPY_MODEL_9e3d46b852bf4360bde8ba34c392d16e",
              "IPY_MODEL_4471ded1884c4df39e80d83f95e589cb"
            ],
            "layout": "IPY_MODEL_4ce4e56945a0448d9cb531076567b953"
          }
        },
        "fb87e853751d495b992305927fdb4096": {
          "model_module": "@jupyter-widgets/controls",
          "model_name": "HTMLModel",
          "model_module_version": "1.5.0",
          "state": {
            "_dom_classes": [],
            "_model_module": "@jupyter-widgets/controls",
            "_model_module_version": "1.5.0",
            "_model_name": "HTMLModel",
            "_view_count": null,
            "_view_module": "@jupyter-widgets/controls",
            "_view_module_version": "1.5.0",
            "_view_name": "HTMLView",
            "description": "",
            "description_tooltip": null,
            "layout": "IPY_MODEL_67cda3d2433242629307d4f7b4df2d5d",
            "placeholder": "​",
            "style": "IPY_MODEL_4f1f922efae84878aca497a56401e144",
            "value": "100%"
          }
        },
        "9e3d46b852bf4360bde8ba34c392d16e": {
          "model_module": "@jupyter-widgets/controls",
          "model_name": "FloatProgressModel",
          "model_module_version": "1.5.0",
          "state": {
            "_dom_classes": [],
            "_model_module": "@jupyter-widgets/controls",
            "_model_module_version": "1.5.0",
            "_model_name": "FloatProgressModel",
            "_view_count": null,
            "_view_module": "@jupyter-widgets/controls",
            "_view_module_version": "1.5.0",
            "_view_name": "ProgressView",
            "bar_style": "success",
            "description": "",
            "description_tooltip": null,
            "layout": "IPY_MODEL_ddc78c2b76554929bb7eb5f40d0b96ac",
            "max": 6000,
            "min": 0,
            "orientation": "horizontal",
            "style": "IPY_MODEL_d1f37c91e05a4839949a1cfdcf0819dc",
            "value": 6000
          }
        },
        "4471ded1884c4df39e80d83f95e589cb": {
          "model_module": "@jupyter-widgets/controls",
          "model_name": "HTMLModel",
          "model_module_version": "1.5.0",
          "state": {
            "_dom_classes": [],
            "_model_module": "@jupyter-widgets/controls",
            "_model_module_version": "1.5.0",
            "_model_name": "HTMLModel",
            "_view_count": null,
            "_view_module": "@jupyter-widgets/controls",
            "_view_module_version": "1.5.0",
            "_view_name": "HTMLView",
            "description": "",
            "description_tooltip": null,
            "layout": "IPY_MODEL_e46fa1242d9648648df388011be677eb",
            "placeholder": "​",
            "style": "IPY_MODEL_e9ce049f2cb54aafae0ddc236c6f6f1d",
            "value": " 6000/6000 [00:45&lt;00:00, 161.26it/s]"
          }
        },
        "4ce4e56945a0448d9cb531076567b953": {
          "model_module": "@jupyter-widgets/base",
          "model_name": "LayoutModel",
          "model_module_version": "1.2.0",
          "state": {
            "_model_module": "@jupyter-widgets/base",
            "_model_module_version": "1.2.0",
            "_model_name": "LayoutModel",
            "_view_count": null,
            "_view_module": "@jupyter-widgets/base",
            "_view_module_version": "1.2.0",
            "_view_name": "LayoutView",
            "align_content": null,
            "align_items": null,
            "align_self": null,
            "border": null,
            "bottom": null,
            "display": null,
            "flex": null,
            "flex_flow": null,
            "grid_area": null,
            "grid_auto_columns": null,
            "grid_auto_flow": null,
            "grid_auto_rows": null,
            "grid_column": null,
            "grid_gap": null,
            "grid_row": null,
            "grid_template_areas": null,
            "grid_template_columns": null,
            "grid_template_rows": null,
            "height": null,
            "justify_content": null,
            "justify_items": null,
            "left": null,
            "margin": null,
            "max_height": null,
            "max_width": null,
            "min_height": null,
            "min_width": null,
            "object_fit": null,
            "object_position": null,
            "order": null,
            "overflow": null,
            "overflow_x": null,
            "overflow_y": null,
            "padding": null,
            "right": null,
            "top": null,
            "visibility": null,
            "width": null
          }
        },
        "67cda3d2433242629307d4f7b4df2d5d": {
          "model_module": "@jupyter-widgets/base",
          "model_name": "LayoutModel",
          "model_module_version": "1.2.0",
          "state": {
            "_model_module": "@jupyter-widgets/base",
            "_model_module_version": "1.2.0",
            "_model_name": "LayoutModel",
            "_view_count": null,
            "_view_module": "@jupyter-widgets/base",
            "_view_module_version": "1.2.0",
            "_view_name": "LayoutView",
            "align_content": null,
            "align_items": null,
            "align_self": null,
            "border": null,
            "bottom": null,
            "display": null,
            "flex": null,
            "flex_flow": null,
            "grid_area": null,
            "grid_auto_columns": null,
            "grid_auto_flow": null,
            "grid_auto_rows": null,
            "grid_column": null,
            "grid_gap": null,
            "grid_row": null,
            "grid_template_areas": null,
            "grid_template_columns": null,
            "grid_template_rows": null,
            "height": null,
            "justify_content": null,
            "justify_items": null,
            "left": null,
            "margin": null,
            "max_height": null,
            "max_width": null,
            "min_height": null,
            "min_width": null,
            "object_fit": null,
            "object_position": null,
            "order": null,
            "overflow": null,
            "overflow_x": null,
            "overflow_y": null,
            "padding": null,
            "right": null,
            "top": null,
            "visibility": null,
            "width": null
          }
        },
        "4f1f922efae84878aca497a56401e144": {
          "model_module": "@jupyter-widgets/controls",
          "model_name": "DescriptionStyleModel",
          "model_module_version": "1.5.0",
          "state": {
            "_model_module": "@jupyter-widgets/controls",
            "_model_module_version": "1.5.0",
            "_model_name": "DescriptionStyleModel",
            "_view_count": null,
            "_view_module": "@jupyter-widgets/base",
            "_view_module_version": "1.2.0",
            "_view_name": "StyleView",
            "description_width": ""
          }
        },
        "ddc78c2b76554929bb7eb5f40d0b96ac": {
          "model_module": "@jupyter-widgets/base",
          "model_name": "LayoutModel",
          "model_module_version": "1.2.0",
          "state": {
            "_model_module": "@jupyter-widgets/base",
            "_model_module_version": "1.2.0",
            "_model_name": "LayoutModel",
            "_view_count": null,
            "_view_module": "@jupyter-widgets/base",
            "_view_module_version": "1.2.0",
            "_view_name": "LayoutView",
            "align_content": null,
            "align_items": null,
            "align_self": null,
            "border": null,
            "bottom": null,
            "display": null,
            "flex": null,
            "flex_flow": null,
            "grid_area": null,
            "grid_auto_columns": null,
            "grid_auto_flow": null,
            "grid_auto_rows": null,
            "grid_column": null,
            "grid_gap": null,
            "grid_row": null,
            "grid_template_areas": null,
            "grid_template_columns": null,
            "grid_template_rows": null,
            "height": null,
            "justify_content": null,
            "justify_items": null,
            "left": null,
            "margin": null,
            "max_height": null,
            "max_width": null,
            "min_height": null,
            "min_width": null,
            "object_fit": null,
            "object_position": null,
            "order": null,
            "overflow": null,
            "overflow_x": null,
            "overflow_y": null,
            "padding": null,
            "right": null,
            "top": null,
            "visibility": null,
            "width": null
          }
        },
        "d1f37c91e05a4839949a1cfdcf0819dc": {
          "model_module": "@jupyter-widgets/controls",
          "model_name": "ProgressStyleModel",
          "model_module_version": "1.5.0",
          "state": {
            "_model_module": "@jupyter-widgets/controls",
            "_model_module_version": "1.5.0",
            "_model_name": "ProgressStyleModel",
            "_view_count": null,
            "_view_module": "@jupyter-widgets/base",
            "_view_module_version": "1.2.0",
            "_view_name": "StyleView",
            "bar_color": null,
            "description_width": ""
          }
        },
        "e46fa1242d9648648df388011be677eb": {
          "model_module": "@jupyter-widgets/base",
          "model_name": "LayoutModel",
          "model_module_version": "1.2.0",
          "state": {
            "_model_module": "@jupyter-widgets/base",
            "_model_module_version": "1.2.0",
            "_model_name": "LayoutModel",
            "_view_count": null,
            "_view_module": "@jupyter-widgets/base",
            "_view_module_version": "1.2.0",
            "_view_name": "LayoutView",
            "align_content": null,
            "align_items": null,
            "align_self": null,
            "border": null,
            "bottom": null,
            "display": null,
            "flex": null,
            "flex_flow": null,
            "grid_area": null,
            "grid_auto_columns": null,
            "grid_auto_flow": null,
            "grid_auto_rows": null,
            "grid_column": null,
            "grid_gap": null,
            "grid_row": null,
            "grid_template_areas": null,
            "grid_template_columns": null,
            "grid_template_rows": null,
            "height": null,
            "justify_content": null,
            "justify_items": null,
            "left": null,
            "margin": null,
            "max_height": null,
            "max_width": null,
            "min_height": null,
            "min_width": null,
            "object_fit": null,
            "object_position": null,
            "order": null,
            "overflow": null,
            "overflow_x": null,
            "overflow_y": null,
            "padding": null,
            "right": null,
            "top": null,
            "visibility": null,
            "width": null
          }
        },
        "e9ce049f2cb54aafae0ddc236c6f6f1d": {
          "model_module": "@jupyter-widgets/controls",
          "model_name": "DescriptionStyleModel",
          "model_module_version": "1.5.0",
          "state": {
            "_model_module": "@jupyter-widgets/controls",
            "_model_module_version": "1.5.0",
            "_model_name": "DescriptionStyleModel",
            "_view_count": null,
            "_view_module": "@jupyter-widgets/base",
            "_view_module_version": "1.2.0",
            "_view_name": "StyleView",
            "description_width": ""
          }
        }
      }
    }
  },
  "cells": [
    {
      "cell_type": "markdown",
      "metadata": {
        "id": "view-in-github",
        "colab_type": "text"
      },
      "source": [
        "<a href=\"https://colab.research.google.com/github/Shopping-Yuan/ML2021HW/blob/Shopping_vscode_branch/HW4/HW04_modified.ipynb\" target=\"_parent\"><img src=\"https://colab.research.google.com/assets/colab-badge.svg\" alt=\"Open In Colab\"/></a>"
      ]
    },
    {
      "cell_type": "code",
      "source": [
        "from google.colab import drive\n",
        "drive.mount('/content/drive')"
      ],
      "metadata": {
        "colab": {
          "base_uri": "https://localhost:8080/"
        },
        "id": "Z1cauo_ypX7F",
        "outputId": "fe7301b1-7272-4da2-cb4b-a5bed2d8c9e5"
      },
      "execution_count": 2,
      "outputs": [
        {
          "output_type": "stream",
          "name": "stdout",
          "text": [
            "Mounted at /content/drive\n"
          ]
        }
      ]
    },
    {
      "cell_type": "code",
      "source": [
        "import shutil\n",
        "shutil.copyfile('/content/drive/MyDrive/Dataset.zip','/content/Dataset.zip')\n",
        "\n",
        "import zipfile\n",
        "with zipfile.ZipFile('/content/Dataset.zip','r') as zip_ref:\n",
        "  zip_ref.extractall('/content/')"
      ],
      "metadata": {
        "id": "rEgX4ezzB7SQ"
      },
      "execution_count": 5,
      "outputs": []
    },
    {
      "cell_type": "code",
      "source": [
        "def parse_args():\n",
        "  \"\"\"arguments\"\"\"\n",
        "  config = {\n",
        "    \"data_dir\": \"/content/Dataset\",\n",
        "    \"save_path\": \"model.ckpt\",\n",
        "    \"batch_size\": 32,\n",
        "    \"n_workers\": 0,\n",
        "    \"valid_steps\": 2000,\n",
        "    \"warmup_steps\": 1000,\n",
        "    \"save_steps\": 10000,\n",
        "    \"total_steps\": 100000,\n",
        "  }\n",
        "\n",
        "  return config"
      ],
      "metadata": {
        "id": "mfFqQ-KmrJGy"
      },
      "execution_count": 15,
      "outputs": []
    },
    {
      "cell_type": "markdown",
      "source": [
        "#Dataset"
      ],
      "metadata": {
        "id": "zWDKfQCSrx2D"
      }
    },
    {
      "cell_type": "code",
      "execution_count": 7,
      "metadata": {
        "id": "33lkzQf43DNb"
      },
      "outputs": [],
      "source": [
        "import os\n",
        "import json\n",
        "import torch\n",
        "import random\n",
        "from pathlib import Path\n",
        "from torch.utils.data import Dataset\n",
        "from torch.nn.utils.rnn import pad_sequence\n",
        "\n",
        "\n",
        "class myDataset(Dataset):\n",
        "  def __init__(self, data_dir, segment_len=128):\n",
        "    self.data_dir = data_dir\n",
        "    self.segment_len = segment_len\n",
        "\n",
        "    # Load the mapping from speaker neme to their corresponding id.\n",
        "    # Path package can use / to join path\n",
        "    #part 1-1\n",
        "    mapping_path = Path(data_dir) / \"mapping.json\"\n",
        "    mapping = json.load(mapping_path.open())\n",
        "    self.speaker2id = mapping[\"speaker2id\"]\n",
        "    #self.speaker2id = {'id10001': 0, 'id10005': 1, ...... 'id11247': 598, 'id11251': 599}\n",
        "\n",
        "    #part 1-2\n",
        "    # Load metadata of training data.\n",
        "    metadata_path = Path(data_dir) / \"metadata.json\"\n",
        "    metadata = json.load(open(metadata_path))[\"speakers\"]\n",
        "\n",
        "    # Get the total number of speaker.\n",
        "    self.speaker_num = len(metadata.keys())\n",
        "    self.data = []\n",
        "    for speaker in metadata.keys():\n",
        "    #['id10473', 'id10328', 'id10382',......'id10864']\n",
        "      for utterances in metadata[speaker]:\n",
        "      # for example : metadata[speaker] = 'id10473'\n",
        "      # utterances = {'feature_path': 'uttr-5c88b2f1803449789c36f14fb4d3c1eb.pt', 'mel_len': 652}......\n",
        "        self.data.append([utterances[\"feature_path\"], self.speaker2id[speaker]])\n",
        "        # for example : ['uttr-5c88b2f1803449789c36f14fb4d3c1eb.pt',217]\n",
        "\n",
        "  def __len__(self):\n",
        "    return len(self.data)\n",
        "\n",
        "  def __getitem__(self, index):\n",
        "    feat_path, speaker = self.data[index]\n",
        "    #[utterances[\"feature_path\"], self.speaker2id[speaker]\n",
        "\n",
        "    # Load preprocessed mel-spectrogram.\n",
        "    # https://pytorch.org/docs/stable/generated/torch.load.html\n",
        "    # using torch.load to open pt file . By default , tensors are loaded to GPU if they are GPU tensor.\n",
        "    # part 2\n",
        "    mel = torch.load(os.path.join(self.data_dir, feat_path))\n",
        "\n",
        "    # Segmemt mel-spectrogram into \"segment_len\" frames.\n",
        "    if len(mel) > self.segment_len:\n",
        "      # Randomly get the starting point of the segment.\n",
        "      start = random.randint(0, len(mel) - self.segment_len)\n",
        "      # Get a segment with \"segment_len\" frames.\n",
        "      mel = torch.FloatTensor(mel[start:start+self.segment_len])\n",
        "    else:\n",
        "      mel = torch.FloatTensor(mel)\n",
        "    # Turn the speaker id into long for computing loss later.\n",
        "    speaker = torch.FloatTensor([speaker]).long()\n",
        "    return mel, speaker\n",
        "\n",
        "  def get_speaker_number(self):\n",
        "    return self.speaker_num"
      ]
    },
    {
      "cell_type": "code",
      "source": [
        "#data_dir = parse_args()[\"data_dir\"]\n",
        "#part 1-1\n",
        "#mapping.json checcking\n",
        "#mapping_path = Path(data_dir) / \"mapping.json\"\n",
        "#mapping = json.load(mapping_path.open())\n",
        "#speaker2id = mapping[\"speaker2id\"]\n",
        "#print(type(mapping)) #<class 'dict'>\n",
        "#print(mapping.keys()) #dict_keys(['speaker2id', 'id2speaker'])\n",
        "#print(mapping.values()) #dict_values([{'id10001': 0, 'id10005': 1, ...... 'id11247': 598, 'id11251': 599},\n",
        "             #{\"0\": \"id10001\", ......'599':  'id11251'}])\n",
        "#print(mapping['speaker2id']['id10473']) #217\n",
        "\n",
        "#part 1-2\n",
        "#metadata.json checcking\n",
        "#metadata_path = Path(data_dir) / \"metadata.json\"\n",
        "#metadata = json.load(open(metadata_path))[\"speakers\"]\n",
        "#print(type(metadata)) #<class 'dict'>\n",
        "#print(len(metadata.keys()),metadata.keys()) #600 dict_keys(['id10473', 'id10328', 'id10382',......'id10864'])\n",
        "#print(len(metadata.values()),len(list(metadata.values())[0]),list(metadata.values())[0])\n",
        "#600 176 [{'feature_path': 'uttr-5c88b2f1803449789c36f14fb4d3c1eb.pt', 'mel_len': 652},......\n",
        "#{'feature_path': 'uttr-caf385f0032140e0add0bbde9a6595cd.pt', 'mel_len': 414}]\n",
        "#print(len(metadata.values()),len(list(metadata.values())[1])) #600 101\n",
        "\n",
        "#part 2\n",
        "#mel = torch.load(os.path.join(data_dir, 'uttr-5c88b2f1803449789c36f14fb4d3c1eb.pt'))\n",
        "#print(type(mel)) #<class 'torch.Tensor'>\n",
        "#print(mel.size()) #torch.Size([652, 40])\n",
        "#print(mel[0])\n",
        "# tensor([\n",
        "# 2.0060,  1.9015,  1.3473,  1.5711,  1.5569,  2.3200,  3.0064,  3.3848,\n",
        "# 0.5376,  0.8397,  1.5710, -0.5662, -2.1262, -1.1271, -1.4272, -3.6233,\n",
        "# -1.0765, -1.8453, -3.2415, -2.3427, -1.5888, -0.4692, -0.4291, -0.4722,\n",
        "# -1.8450, -1.0638, -3.2177, -3.4006, -3.2176, -3.3409, -3.1142, -4.0395,\n",
        "# -3.6502, -4.2407, -4.9656, -5.1238, -5.0620, -5.4308, -6.0757, -6.6186])"
      ],
      "metadata": {
        "id": "qNWZbKmRrZUj"
      },
      "execution_count": null,
      "outputs": []
    },
    {
      "cell_type": "code",
      "source": [
        "import torch\n",
        "from torch.utils.data import DataLoader, random_split\n",
        "from torch.nn.utils.rnn import pad_sequence\n",
        "#part 1 check collate_batch\n",
        "def collate_batch(batch):\n",
        "  # Process features within a batch.\n",
        "  \"\"\"Collate a batch of data.\"\"\"\n",
        "  #part 1-1 , 1-2\n",
        "  mel, speaker = zip(*batch)\n",
        "  # Because we train the model batch by batch, we need to pad the features in the same batch to make their lengths the same.\n",
        "  mel = pad_sequence(mel, batch_first=True, padding_value=-20)    # pad log 10^(-20) which is very small value.\n",
        "  # mel: (batch size, length, 40)\n",
        "  #part 1-3\n",
        "  return mel, torch.FloatTensor(speaker).long()\n",
        "\n",
        "\n",
        "def get_dataloader(data_dir, batch_size, n_workers):\n",
        "  \"\"\"Generate dataloader\"\"\"\n",
        "  dataset = myDataset(data_dir)\n",
        "  speaker_num = dataset.get_speaker_number()\n",
        "  # Split dataset into training dataset and validation dataset\n",
        "  trainlen = int(0.9 * len(dataset))\n",
        "  lengths = [trainlen, len(dataset) - trainlen]\n",
        "  trainset, validset = random_split(dataset, lengths)\n",
        "\n",
        "  train_loader = DataLoader(\n",
        "    trainset,\n",
        "    batch_size=batch_size,\n",
        "    shuffle=True,\n",
        "    drop_last=True,\n",
        "    num_workers=n_workers,\n",
        "    pin_memory=True,\n",
        "    collate_fn=collate_batch,\n",
        "  )\n",
        "  valid_loader = DataLoader(\n",
        "    validset,\n",
        "    batch_size=batch_size,\n",
        "    num_workers=n_workers,\n",
        "    drop_last=True,\n",
        "    pin_memory=True,\n",
        "    collate_fn=collate_batch,\n",
        "  )\n",
        "\n",
        "  return train_loader, valid_loader, speaker_num"
      ],
      "metadata": {
        "id": "MNfZK8vyq0rD"
      },
      "execution_count": 8,
      "outputs": []
    },
    {
      "cell_type": "code",
      "source": [
        "# x = [[\"a\",1],[\"b\",2],[\"c\",3]]\n",
        "# print(list(zip(*x)))\n",
        "# print(list(zip((\"a\",1),(\"b\",2),(\"c\",3))))"
      ],
      "metadata": {
        "id": "75rCGxDvkX0I"
      },
      "execution_count": null,
      "outputs": []
    },
    {
      "cell_type": "code",
      "source": [
        "#import numpy as np\n",
        "#check collate_batch\n",
        "#part 1-1\n",
        "# * collect \"sequence\"function input to a tuple :\n",
        "#def f(*paras):\n",
        "#  print(paras)\n",
        "#f(1,2,3) #(1, 2, 3)\n",
        "# or collect a tuple to a \"sequence\"\n",
        "#print(*(1,2,3)) #1 2 3\n",
        "\n",
        "#part 1-2\n",
        "#test_data = np.random.rand(2,3,4)\n",
        "#test_label = np.random.rand(2,1)\n",
        "#samples = (test_data,test_label)\n",
        "#print(samples)\n",
        "#x , y = zip((1,2),(3,4),(5,6),(7,8))\n",
        "#print(x,y)\n",
        "\n",
        "#part 1-3\n",
        "#print(torch.FloatTensor([[1.],[1.]]))#tensor([[1.],[1.]])\n",
        "#print(torch.FloatTensor([[1.],[1.]]).long())#tensor([[1],[1]]) implies the numbers are integer now\n",
        "#print(torch.IntTensor([[1.],[1.]]))#tensor([[1],[1]], dtype=torch.int32)"
      ],
      "metadata": {
        "id": "vA6cTPqryJXZ"
      },
      "execution_count": null,
      "outputs": []
    },
    {
      "cell_type": "code",
      "source": [
        "!pip install torchinfo"
      ],
      "metadata": {
        "id": "3Yk6oGGdQD9G",
        "outputId": "c6dc80b4-e599-41bb-d87a-19ec4bd7aceb",
        "colab": {
          "base_uri": "https://localhost:8080/"
        }
      },
      "execution_count": 9,
      "outputs": [
        {
          "output_type": "stream",
          "name": "stdout",
          "text": [
            "Collecting torchinfo\n",
            "  Downloading torchinfo-1.8.0-py3-none-any.whl (23 kB)\n",
            "Installing collected packages: torchinfo\n",
            "Successfully installed torchinfo-1.8.0\n"
          ]
        }
      ]
    },
    {
      "cell_type": "code",
      "source": [
        "# x = [True,True,False,True,False,False,False,True,False,True,True,False]\n",
        "\n",
        "# true_index_list = []\n",
        "\n",
        "# false_index_list = []\n",
        "\n",
        "# for i,b in enumerate(x):\n",
        "#   if b == True:\n",
        "#     true_index_list += [i]\n",
        "#   else :\n",
        "#     false_index_list += [i]\n",
        "# print(true_index_list,false_index_list)\n",
        "\n",
        "# new_list = []\n",
        "# t_max = len(true_index_list)\n",
        "# f_max = len(false_index_list)\n",
        "# true_index = 0\n",
        "# false_index = 0\n",
        "# t_or_f = 0\n",
        "# while (t_max * f_max)>0:\n",
        "#   if t_or_f % 2 ==0:\n",
        "#     new_list += true_index_list[true_index:true_index+3]\n",
        "#     true_index += 3\n",
        "#     t_or_f += 1\n",
        "#     t_max -= 3\n",
        "#   else :\n",
        "#     new_list += false_index_list[false_index:false_index+3]\n",
        "#     false_index += 3\n",
        "#     t_or_f += 1\n",
        "#     f_max -= 3\n",
        "# if t_max > 0:\n",
        "#   new_list += true_index_list[true_index:]\n",
        "# elif f_max > 0:\n",
        "#   new_list += false_index_list[false_index:]\n",
        "\n",
        "# print(new_list)\n"
      ],
      "metadata": {
        "id": "aBXbvqTlTSyj"
      },
      "execution_count": null,
      "outputs": []
    },
    {
      "cell_type": "code",
      "source": [
        "import torch\n",
        "import torch.nn as nn\n",
        "import torch.nn.functional as F\n",
        "import torchvision\n",
        "from torchinfo import summary\n",
        "\n",
        "class Classifier(nn.Module):\n",
        "  def __init__(self, d_model=128, n_spks=600, dropout=0.1):\n",
        "    super().__init__()\n",
        "    # Project the dimension of features from that of input into d_model.\n",
        "    self.prenet = nn.Linear(40, d_model)\n",
        "    # TODO:\n",
        "    #   Change Transformer to Conformer.\n",
        "    #   https://arxiv.org/abs/2005.08100\n",
        "    # embed_dim must be divisible by num_heads\n",
        "    self.encoder_layer = nn.TransformerEncoderLayer(\n",
        "      d_model=d_model, dim_feedforward=256, nhead=1\n",
        "    )\n",
        "    # batch_first = True\n",
        "    # norm_first = True\n",
        "    self.encoder = nn.TransformerEncoder(self.encoder_layer, num_layers=4)\n",
        "\n",
        "    # Project the the dimension of features from d_model into speaker nums.\n",
        "    self.pred_layer = nn.Sequential(\n",
        "      nn.Linear(d_model, d_model),\n",
        "      nn.ReLU(),\n",
        "      nn.Linear(d_model, n_spks),\n",
        "    )\n",
        "\n",
        "  def forward(self, mels):\n",
        "    \"\"\"\n",
        "    args:\n",
        "      mels: (batch size, length, 40)\n",
        "    return:\n",
        "      out: (batch size, n_spks)\n",
        "    \"\"\"\n",
        "    # out: (batch size, length, d_model)\n",
        "    out = self.prenet(mels)\n",
        "    # out: (length, batch size, d_model)\n",
        "    out = out.permute(1, 0, 2)\n",
        "    # The encoder layer expect features in the shape of (length, batch size, d_model).\n",
        "    #out = self.encoder_layer(out)\n",
        "    out = self.encoder(out)\n",
        "    # out: (batch size, length, d_model)\n",
        "    out = out.transpose(0, 1)\n",
        "    # mean pooling\n",
        "    stats = out.mean(dim=1)\n",
        "\n",
        "    # out: (batch, n_spks)\n",
        "    out = self.pred_layer(stats)\n",
        "    return out\n"
      ],
      "metadata": {
        "id": "zlXaMSlWMU__"
      },
      "execution_count": 16,
      "outputs": []
    },
    {
      "cell_type": "code",
      "source": [
        "model = Classifier()\n",
        "print(summary(model,(32,128,40)))\n",
        "#print(model.state_dict().keys())\n",
        "#print(model.state_dict()[\"encoder_layer.self_attn.in_proj_weight\"].size())#torch.Size([240, 80]) (80+80+80)*80\n",
        "#print(model.state_dict()[\"encoder_layer.self_attn.out_proj.weight\"].size())#torch.Size([80, 80])"
      ],
      "metadata": {
        "id": "vXLlPNAI9N9F",
        "outputId": "b6a6e422-c3f5-4545-a87f-f7b13ec7c1c4",
        "colab": {
          "base_uri": "https://localhost:8080/"
        }
      },
      "execution_count": 11,
      "outputs": [
        {
          "output_type": "stream",
          "name": "stderr",
          "text": [
            "/usr/local/lib/python3.10/dist-packages/torch/nn/modules/transformer.py:282: UserWarning: enable_nested_tensor is True, but self.use_nested_tensor is False because encoder_layer.self_attn.batch_first was not True(use batch_first for better inference performance)\n",
            "  warnings.warn(f\"enable_nested_tensor is True, but self.use_nested_tensor is False because {why_not_sparsity_fast_path}\")\n"
          ]
        },
        {
          "output_type": "stream",
          "name": "stdout",
          "text": [
            "===============================================================================================\n",
            "Layer (type:depth-idx)                        Output Shape              Param #\n",
            "===============================================================================================\n",
            "Classifier                                    [32, 600]                 132,480\n",
            "├─Linear: 1-1                                 [32, 128, 128]            5,248\n",
            "├─TransformerEncoder: 1-2                     [128, 32, 128]            --\n",
            "│    └─ModuleList: 2-1                        --                        --\n",
            "│    │    └─TransformerEncoderLayer: 3-1      [128, 32, 128]            132,480\n",
            "│    │    └─TransformerEncoderLayer: 3-2      [128, 32, 128]            132,480\n",
            "├─Sequential: 1-3                             [32, 600]                 --\n",
            "│    └─Linear: 2-2                            [32, 128]                 16,512\n",
            "│    └─ReLU: 2-3                              [32, 128]                 --\n",
            "│    └─Linear: 2-4                            [32, 600]                 77,400\n",
            "===============================================================================================\n",
            "Total params: 496,600\n",
            "Trainable params: 496,600\n",
            "Non-trainable params: 0\n",
            "Total mult-adds (M): 20.18\n",
            "===============================================================================================\n",
            "Input size (MB): 0.66\n",
            "Forward/backward pass size (MB): 46.32\n",
            "Params size (MB): 0.93\n",
            "Estimated Total Size (MB): 47.91\n",
            "===============================================================================================\n"
          ]
        }
      ]
    },
    {
      "cell_type": "markdown",
      "source": [
        "original\n",
        "parameter number :\n",
        "1.MultiheadAttention : =\n",
        "d_model+1(bias) * d_query +\n",
        "d_model+1(bias) * d_key  +\n",
        "d_model+1(bias) * d_v   +\n",
        "d_v + 1(bias) * output_dim( = dmodel)\n",
        "= (80+1)80 + (80+1)80 + (80+1)80 + (80+1)80 = 25920\n",
        "2.layer_norm : =input + input = 80*80 = 160\n",
        "\n",
        "first change\n",
        "parameter number :\n",
        "1.MultiheadAttention : =\n",
        "d_model+1(bias) * d_query +\n",
        "d_model+1(bias) * d_key  +\n",
        "d_model+1(bias) * d_v   +\n",
        "d_v + 1(bias) * output_dim( = dmodel)\n",
        "= (128+1)128(3+1)= 16512\n",
        "\n",
        "second change\n",
        "parameter number :\n",
        "1.MultiheadAttention : =\n",
        "d_model+1(bias) * d_query +\n",
        "d_model+1(bias) * d_key  +\n",
        "d_model+1(bias) * d_v   +\n",
        "d_v + 1(bias) * output_dim( = dmodel)\n",
        "= (128+1)128(3+1)= 16512\n",
        "two layers : 33024\n",
        "\n",
        "2.layer_norm : =input + input = 80*80 = 160\n",
        "\n",
        "3rd change\n",
        "parameter number :\n",
        "1.MultiheadAttention : =\n",
        "d_model+1(bias) * d_query +\n",
        "d_model+1(bias) * d_key  +\n",
        "d_model+1(bias) * d_v   +\n",
        "d_v + 1(bias) * output_dim( = dmodel)\n",
        "= (128+1)128(3+1)= 16512\n",
        "four layers : 66048\n",
        "\n",
        "2.layer_norm : =input + input = 80*80 = 160\n"
      ],
      "metadata": {
        "id": "5EhBDpSpznKl"
      }
    },
    {
      "cell_type": "code",
      "source": [
        "import math\n",
        "\n",
        "import torch\n",
        "from torch.optim import Optimizer\n",
        "from torch.optim.lr_scheduler import LambdaLR\n",
        "\n",
        "\n",
        "def get_cosine_schedule_with_warmup(\n",
        "  optimizer: Optimizer,\n",
        "  num_warmup_steps: int,\n",
        "  num_training_steps: int,\n",
        "  num_cycles: float = 0.5,\n",
        "  last_epoch: int = -1,\n",
        "):\n",
        "  \"\"\"\n",
        "  Create a schedule with a learning rate that decreases following the values of the cosine function between the\n",
        "  initial lr set in the optimizer to 0, after a warmup period during which it increases linearly between 0 and the\n",
        "  initial lr set in the optimizer.\n",
        "\n",
        "  Args:\n",
        "    optimizer (:class:`~torch.optim.Optimizer`):\n",
        "      The optimizer for which to schedule the learning rate.\n",
        "    num_warmup_steps (:obj:`int`):\n",
        "      The number of steps for the warmup phase.\n",
        "    num_training_steps (:obj:`int`):\n",
        "      The total number of training steps.\n",
        "    num_cycles (:obj:`float`, `optional`, defaults to 0.5):\n",
        "      The number of waves in the cosine schedule (the defaults is to just decrease from the max value to 0\n",
        "      following a half-cosine).\n",
        "    last_epoch (:obj:`int`, `optional`, defaults to -1):\n",
        "      The index of the last epoch when resuming training.\n",
        "\n",
        "  Return:\n",
        "    :obj:`torch.optim.lr_scheduler.LambdaLR` with the appropriate schedule.\n",
        "  \"\"\"\n",
        "\n",
        "  def lr_lambda(current_step):\n",
        "    # Warmup\n",
        "    if current_step < num_warmup_steps:\n",
        "      return float(current_step) / float(max(1, num_warmup_steps))\n",
        "    # decadence\n",
        "    # cosine angle\n",
        "    progress = float(current_step - num_warmup_steps) / float(\n",
        "      max(1, num_training_steps - num_warmup_steps)\n",
        "    )\n",
        "    return max(\n",
        "      0.0, 0.5 * (1.0 + math.cos(math.pi * float(num_cycles) * 2.0 * progress))\n",
        "    )\n",
        "\n",
        "  return LambdaLR(optimizer, lr_lambda, last_epoch)"
      ],
      "metadata": {
        "id": "tUSxoANBMchs"
      },
      "execution_count": 12,
      "outputs": []
    },
    {
      "cell_type": "code",
      "source": [
        "from torch.optim import AdamW\n",
        "optimizer = AdamW(model.parameters(), lr=1e-3)\n",
        "\n",
        "scheduler = get_cosine_schedule_with_warmup(optimizer, 1000, 70000)\n",
        "\n",
        "#print(type(scheduler.optimizer.param_groups)) #<class 'list'>\n",
        "#print(len(scheduler.optimizer.param_groups))  #1\n",
        "#print(type(scheduler.optimizer.param_groups[0])) #<class 'dict'>\n",
        "#print(scheduler.optimizer.param_groups[0].keys())\n",
        "#['params', 'lr', 'betas', 'eps', 'weight_decay', 'amsgrad', 'foreach',\n",
        "#'maximize', 'capturable', 'differentiable', 'fused', 'initial_lr']\n",
        "#print(scheduler.optimizer.param_groups[0]['params'])\n",
        "#[Parameter containing: tensor([[......],requires_grad=True)]\n",
        "#print(scheduler.optimizer.param_groups[0]['lr'])# 0.0\n",
        "#print(scheduler.optimizer.param_groups[0]['betas'])# (0.9, 0.999)\n",
        "#print(scheduler.optimizer.param_groups[0]['eps']) # 1e-08\n",
        "#print(scheduler.optimizer.param_groups[0]['weight_decay']) #0.01\n",
        "#print(scheduler.optimizer.param_groups[0]['amsgrad']) # False\n",
        "#print(scheduler.optimizer.param_groups[0]['foreach']) # None"
      ],
      "metadata": {
        "id": "9o3hw_GcF1Jb"
      },
      "execution_count": 13,
      "outputs": []
    },
    {
      "cell_type": "code",
      "source": [
        "import torch\n",
        "\n",
        "\n",
        "def model_fn(batch, model, criterion, device):\n",
        "  \"\"\"Forward a batch through the model.\"\"\"\n",
        "\n",
        "  mels, labels = batch\n",
        "  mels = mels.to(device)\n",
        "  labels = labels.to(device)\n",
        "\n",
        "  outs = model(mels)\n",
        "\n",
        "  loss = criterion(outs, labels)\n",
        "\n",
        "  # Get the speaker id with highest probability.\n",
        "  preds = outs.argmax(1)\n",
        "  # Compute accuracy.\n",
        "  accuracy = torch.mean((preds == labels).float())\n",
        "\n",
        "  return loss, accuracy"
      ],
      "metadata": {
        "id": "yfDXw13q1ssm"
      },
      "execution_count": 17,
      "outputs": []
    },
    {
      "cell_type": "code",
      "source": [
        "from tqdm import tqdm\n",
        "import torch\n",
        "\n",
        "\n",
        "def valid(dataloader, model, criterion, device):\n",
        "  \"\"\"Validate on validation set.\"\"\"\n",
        "\n",
        "  model.eval()\n",
        "  running_loss = 0.0\n",
        "  running_accuracy = 0.0\n",
        "  # Manually update the progress bar : step 1\n",
        "  # total length\n",
        "  pbar = tqdm(total=len(dataloader.dataset), ncols=0, desc=\"Valid\", unit=\" uttr\")\n",
        "  for i, batch in enumerate(dataloader):\n",
        "    with torch.no_grad():\n",
        "      loss, accuracy = model_fn(batch, model, criterion, device)\n",
        "      running_loss += loss.item()\n",
        "      running_accuracy += accuracy.item()\n",
        "    # Manually update the progress bar : step 2\n",
        "    # update each batch\n",
        "    pbar.update(dataloader.batch_size)\n",
        "    pbar.set_postfix(\n",
        "      loss=f\"{running_loss / (i+1):.2f}\",\n",
        "      accuracy=f\"{running_accuracy / (i+1):.2f}\",\n",
        "    )\n",
        "  # Manually update the progress bar : step 3\n",
        "  pbar.close()\n",
        "  model.train()\n",
        "\n",
        "  return running_accuracy / len(dataloader)\n"
      ],
      "metadata": {
        "id": "959wMzs21wbz"
      },
      "execution_count": 18,
      "outputs": []
    },
    {
      "cell_type": "code",
      "source": [
        "from tqdm import tqdm\n",
        "\n",
        "import torch\n",
        "import torch.nn as nn\n",
        "from torch.optim import AdamW\n",
        "from torch.utils.data import DataLoader, random_split\n",
        "\n",
        "\n",
        "# def parse_args():\n",
        "#   \"\"\"arguments\"\"\"\n",
        "#   config = {\n",
        "#     \"data_dir\": \"/content/Dataset\",\n",
        "#     \"save_path\": \"model.ckpt\",\n",
        "#     \"batch_size\": 32,\n",
        "#     \"n_workers\": 8,\n",
        "#     \"valid_steps\": 2000,\n",
        "#     \"warmup_steps\": 1000,\n",
        "#     \"save_steps\": 10000,\n",
        "#     \"total_steps\": 70000,\n",
        "#   }\n",
        "\n",
        "#   return config\n",
        "\n",
        "\n",
        "def main(\n",
        "  data_dir,\n",
        "  save_path,\n",
        "  batch_size,\n",
        "  n_workers,\n",
        "  valid_steps,\n",
        "  warmup_steps,\n",
        "  total_steps,\n",
        "  save_steps,\n",
        "):\n",
        "  \"\"\"Main function.\"\"\"\n",
        "  device = torch.device(\"cuda\" if torch.cuda.is_available() else \"cpu\")\n",
        "  print(f\"[Info]: Use {device} now!\")\n",
        "\n",
        "  train_loader, valid_loader, speaker_num = get_dataloader(data_dir, batch_size, n_workers)\n",
        "  train_iterator = iter(train_loader)\n",
        "  print(f\"[Info]: Finish loading data!\",flush = True)\n",
        "\n",
        "  model = Classifier(n_spks=speaker_num).to(device)\n",
        "  criterion = nn.CrossEntropyLoss()\n",
        "  optimizer = AdamW(model.parameters(), lr=1e-3)\n",
        "  scheduler = get_cosine_schedule_with_warmup(optimizer, warmup_steps, total_steps)\n",
        "  print(f\"[Info]: Finish creating model!\",flush = True)\n",
        "\n",
        "  best_accuracy = -1.0\n",
        "  best_state_dict = None\n",
        "  # pbar has total 2000 step\n",
        "  pbar = tqdm(total=valid_steps, ncols=0, desc=\"Train\", unit=\" step\")\n",
        "  # print train loss and accuracy every 1000 step\n",
        "\n",
        "  loss_acc_list = []\n",
        "\n",
        "  for step in range(total_steps):\n",
        "    # Get data\n",
        "    try:\n",
        "      batch = next(train_iterator)\n",
        "    except StopIteration:\n",
        "      train_iterator = iter(train_loader)\n",
        "      batch = next(train_iterator)\n",
        "\n",
        "    loss, accuracy = model_fn(batch, model, criterion, device)\n",
        "    batch_loss = loss.item()\n",
        "    batch_accuracy = accuracy.item()\n",
        "\n",
        "    # Updata model\n",
        "    loss.backward()\n",
        "    optimizer.step()\n",
        "    scheduler.step()\n",
        "    optimizer.zero_grad()\n",
        "    # print train loss acc\n",
        "    loss_acc_list.append((loss, accuracy))\n",
        "    print_loss , print_acc = list(zip(*loss_acc_list))\n",
        "    if step % 1000 == 0:\n",
        "      print(f\"average loss = {sum(print_loss)/len(print_loss):.4f} \\\n",
        "      average accuracy = {sum(print_acc)/len(print_acc):.4f})\")\n",
        "      loss_acc_list = []\n",
        "\n",
        "    # Log\n",
        "    # update each step (as total)\n",
        "    pbar.update()\n",
        "    pbar.set_postfix(\n",
        "      loss=f\"{batch_loss:.2f}\",\n",
        "      accuracy=f\"{batch_accuracy:.2f}\",\n",
        "      step=step + 1,\n",
        "    )\n",
        "\n",
        "    # Do validation\n",
        "    # valid each 2000 step\n",
        "    if (step + 1) % valid_steps == 0:\n",
        "      #close above pbar\n",
        "      pbar.close()\n",
        "\n",
        "      valid_accuracy = valid(valid_loader, model, criterion, device)\n",
        "\n",
        "      # keep the best model\n",
        "      if valid_accuracy > best_accuracy:\n",
        "        best_accuracy = valid_accuracy\n",
        "        best_state_dict = model.state_dict()\n",
        "      # new pbar has total 2000 step\n",
        "      pbar = tqdm(total=valid_steps, ncols=0, desc=\"Train\", unit=\" step\")\n",
        "\n",
        "    # Save the best model so far.\n",
        "    if (step + 1) % save_steps == 0 and best_state_dict is not None:\n",
        "      torch.save(best_state_dict, save_path)\n",
        "      pbar.write(f\"Step {step + 1}, best model saved. (accuracy={best_accuracy:.4f})\")\n",
        "\n",
        "  pbar.close()\n",
        "\n",
        "\n",
        "if __name__ == \"__main__\":\n",
        "  main(**parse_args())"
      ],
      "metadata": {
        "id": "m7ckdrpl6_YW",
        "outputId": "646725ae-8c82-41af-a424-77186ae6db7d",
        "colab": {
          "base_uri": "https://localhost:8080/"
        }
      },
      "execution_count": 19,
      "outputs": [
        {
          "output_type": "stream",
          "name": "stdout",
          "text": [
            "[Info]: Use cuda now!\n",
            "[Info]: Finish loading data!\n",
            "[Info]: Finish creating model!\n"
          ]
        },
        {
          "output_type": "stream",
          "name": "stderr",
          "text": [
            "Train:   0% 2/2000 [00:00<05:55,  5.62 step/s, accuracy=0.00, loss=6.38, step=2]"
          ]
        },
        {
          "output_type": "stream",
          "name": "stdout",
          "text": [
            "average loss = 6.4123       average accuracy = 0.0000)\n"
          ]
        },
        {
          "output_type": "stream",
          "name": "stderr",
          "text": [
            "Train:  50% 1002/2000 [01:53<02:10,  7.62 step/s, accuracy=0.12, loss=4.58, step=1002]"
          ]
        },
        {
          "output_type": "stream",
          "name": "stdout",
          "text": [
            "average loss = 5.4925       average accuracy = 0.0497)\n"
          ]
        },
        {
          "output_type": "stream",
          "name": "stderr",
          "text": [
            "Train: 100% 2000/2000 [03:36<00:00,  9.24 step/s, accuracy=0.16, loss=3.58, step=2000]\n",
            "Valid: 100% 6944/6944 [00:20<00:00, 343.97 uttr/s, accuracy=0.23, loss=3.71]\n",
            "Train:   0% 2/2000 [00:00<04:28,  7.45 step/s, accuracy=0.31, loss=3.38, step=2002]"
          ]
        },
        {
          "output_type": "stream",
          "name": "stdout",
          "text": [
            "average loss = 4.1386       average accuracy = 0.1616)\n"
          ]
        },
        {
          "output_type": "stream",
          "name": "stderr",
          "text": [
            "Train:  50% 1001/2000 [01:28<01:59,  8.35 step/s, accuracy=0.19, loss=3.50, step=3001]"
          ]
        },
        {
          "output_type": "stream",
          "name": "stdout",
          "text": [
            "average loss = 3.4990       average accuracy = 0.2539)\n"
          ]
        },
        {
          "output_type": "stream",
          "name": "stderr",
          "text": [
            "Train: 100% 2000/2000 [03:08<00:00, 10.59 step/s, accuracy=0.28, loss=3.28, step=4000]\n",
            "Valid: 100% 6944/6944 [00:19<00:00, 355.04 uttr/s, accuracy=0.35, loss=2.97]\n",
            "Train:   0% 2/2000 [00:00<04:34,  7.27 step/s, accuracy=0.28, loss=3.09, step=4002]"
          ]
        },
        {
          "output_type": "stream",
          "name": "stdout",
          "text": [
            "average loss = 3.1247       average accuracy = 0.3165)\n"
          ]
        },
        {
          "output_type": "stream",
          "name": "stderr",
          "text": [
            "Train:  50% 1001/2000 [01:29<01:40,  9.94 step/s, accuracy=0.53, loss=2.33, step=5001]"
          ]
        },
        {
          "output_type": "stream",
          "name": "stdout",
          "text": [
            "average loss = 2.8411       average accuracy = 0.3628)\n"
          ]
        },
        {
          "output_type": "stream",
          "name": "stderr",
          "text": [
            "Train: 100% 2000/2000 [03:09<00:00, 10.55 step/s, accuracy=0.38, loss=2.75, step=6000]\n",
            "Valid: 100% 6944/6944 [00:20<00:00, 347.10 uttr/s, accuracy=0.40, loss=2.67]\n",
            "Train:   0% 2/2000 [00:00<04:55,  6.75 step/s, accuracy=0.31, loss=3.47, step=6002]"
          ]
        },
        {
          "output_type": "stream",
          "name": "stdout",
          "text": [
            "average loss = 2.6696       average accuracy = 0.3998)\n"
          ]
        },
        {
          "output_type": "stream",
          "name": "stderr",
          "text": [
            "Train:  50% 1001/2000 [01:32<01:52,  8.90 step/s, accuracy=0.44, loss=2.17, step=7001]"
          ]
        },
        {
          "output_type": "stream",
          "name": "stdout",
          "text": [
            "average loss = 2.4773       average accuracy = 0.4300)\n"
          ]
        },
        {
          "output_type": "stream",
          "name": "stderr",
          "text": [
            "Train: 100% 2000/2000 [03:11<00:00, 10.44 step/s, accuracy=0.47, loss=2.21, step=8000]\n",
            "Valid: 100% 6944/6944 [00:20<00:00, 340.42 uttr/s, accuracy=0.46, loss=2.38]\n",
            "Train:   0% 1/2000 [00:00<04:13,  7.90 step/s, accuracy=0.44, loss=1.82, step=8001]"
          ]
        },
        {
          "output_type": "stream",
          "name": "stdout",
          "text": [
            "average loss = 2.3524       average accuracy = 0.4570)\n"
          ]
        },
        {
          "output_type": "stream",
          "name": "stderr",
          "text": [
            "Train:  50% 1001/2000 [01:31<01:46,  9.39 step/s, accuracy=0.50, loss=2.30, step=9001]"
          ]
        },
        {
          "output_type": "stream",
          "name": "stdout",
          "text": [
            "average loss = 2.2392       average accuracy = 0.4735)\n"
          ]
        },
        {
          "output_type": "stream",
          "name": "stderr",
          "text": [
            "Train: 100% 2000/2000 [03:06<00:00, 10.71 step/s, accuracy=0.50, loss=1.49, step=1e+4]\n",
            "Valid: 100% 6944/6944 [00:19<00:00, 348.09 uttr/s, accuracy=0.50, loss=2.19]\n",
            "Train:   0% 1/2000 [00:00<05:24,  6.15 step/s, accuracy=0.47, loss=2.26, step=1e+4]"
          ]
        },
        {
          "output_type": "stream",
          "name": "stdout",
          "text": [
            "Step 10000, best model saved. (accuracy=0.5007)\n",
            "average loss = 2.1548       average accuracy = 0.4934)\n"
          ]
        },
        {
          "output_type": "stream",
          "name": "stderr",
          "text": [
            "Train:  50% 1001/2000 [01:33<01:45,  9.43 step/s, accuracy=0.50, loss=2.26, step=11001]"
          ]
        },
        {
          "output_type": "stream",
          "name": "stdout",
          "text": [
            "average loss = 2.0393       average accuracy = 0.5170)\n"
          ]
        },
        {
          "output_type": "stream",
          "name": "stderr",
          "text": [
            "Train: 100% 2000/2000 [03:06<00:00, 10.73 step/s, accuracy=0.50, loss=1.59, step=12000]\n",
            "Valid: 100% 6944/6944 [00:19<00:00, 347.95 uttr/s, accuracy=0.52, loss=2.11]\n",
            "Train:   0% 1/2000 [00:00<04:01,  8.29 step/s, accuracy=0.62, loss=1.81, step=12001]"
          ]
        },
        {
          "output_type": "stream",
          "name": "stdout",
          "text": [
            "average loss = 1.9646       average accuracy = 0.5334)\n"
          ]
        },
        {
          "output_type": "stream",
          "name": "stderr",
          "text": [
            "Train:  50% 1001/2000 [01:33<02:03,  8.08 step/s, accuracy=0.59, loss=2.42, step=13001]"
          ]
        },
        {
          "output_type": "stream",
          "name": "stdout",
          "text": [
            "average loss = 1.8975       average accuracy = 0.5487)\n"
          ]
        },
        {
          "output_type": "stream",
          "name": "stderr",
          "text": [
            "Train: 100% 2000/2000 [03:04<00:00, 10.84 step/s, accuracy=0.56, loss=2.19, step=14000]\n",
            "Valid: 100% 6944/6944 [00:19<00:00, 348.27 uttr/s, accuracy=0.55, loss=1.96]\n",
            "Train:   0% 1/2000 [00:00<03:36,  9.25 step/s, accuracy=0.59, loss=1.35, step=14001]"
          ]
        },
        {
          "output_type": "stream",
          "name": "stdout",
          "text": [
            "average loss = 1.8195       average accuracy = 0.5653)\n"
          ]
        },
        {
          "output_type": "stream",
          "name": "stderr",
          "text": [
            "Train:  50% 1001/2000 [01:36<01:46,  9.40 step/s, accuracy=0.56, loss=1.97, step=15001]"
          ]
        },
        {
          "output_type": "stream",
          "name": "stdout",
          "text": [
            "average loss = 1.7583       average accuracy = 0.5790)\n"
          ]
        },
        {
          "output_type": "stream",
          "name": "stderr",
          "text": [
            "Train: 100% 2000/2000 [03:07<00:00, 10.67 step/s, accuracy=0.62, loss=1.45, step=16000]\n",
            "Valid: 100% 6944/6944 [00:20<00:00, 339.89 uttr/s, accuracy=0.57, loss=1.87]\n",
            "Train:   0% 2/2000 [00:00<04:53,  6.80 step/s, accuracy=0.59, loss=1.54, step=16002]"
          ]
        },
        {
          "output_type": "stream",
          "name": "stdout",
          "text": [
            "average loss = 1.7113       average accuracy = 0.5903)\n"
          ]
        },
        {
          "output_type": "stream",
          "name": "stderr",
          "text": [
            "Train:  50% 1001/2000 [01:39<01:56,  8.58 step/s, accuracy=0.50, loss=1.70, step=17001]"
          ]
        },
        {
          "output_type": "stream",
          "name": "stdout",
          "text": [
            "average loss = 1.6799       average accuracy = 0.5927)\n"
          ]
        },
        {
          "output_type": "stream",
          "name": "stderr",
          "text": [
            "Train: 100% 2000/2000 [03:09<00:00, 10.54 step/s, accuracy=0.56, loss=1.78, step=18000]\n",
            "Valid: 100% 6944/6944 [00:19<00:00, 348.18 uttr/s, accuracy=0.58, loss=1.81]\n",
            "Train:   0% 2/2000 [00:00<05:18,  6.28 step/s, accuracy=0.62, loss=1.78, step=18002]"
          ]
        },
        {
          "output_type": "stream",
          "name": "stdout",
          "text": [
            "average loss = 1.6198       average accuracy = 0.6089)\n"
          ]
        },
        {
          "output_type": "stream",
          "name": "stderr",
          "text": [
            "Train:  50% 1001/2000 [01:36<01:53,  8.82 step/s, accuracy=0.78, loss=1.34, step=19001]"
          ]
        },
        {
          "output_type": "stream",
          "name": "stdout",
          "text": [
            "average loss = 1.5749       average accuracy = 0.6133)\n"
          ]
        },
        {
          "output_type": "stream",
          "name": "stderr",
          "text": [
            "Train: 100% 2000/2000 [03:02<00:00, 10.94 step/s, accuracy=0.81, loss=1.08, step=2e+4]\n",
            "Valid: 100% 6944/6944 [00:20<00:00, 345.92 uttr/s, accuracy=0.59, loss=1.73]\n",
            "Train:   0% 1/2000 [00:00<05:56,  5.61 step/s, accuracy=0.78, loss=1.10, step=2e+4]"
          ]
        },
        {
          "output_type": "stream",
          "name": "stdout",
          "text": [
            "Step 20000, best model saved. (accuracy=0.5938)\n",
            "average loss = 1.5281       average accuracy = 0.6271)\n"
          ]
        },
        {
          "output_type": "stream",
          "name": "stderr",
          "text": [
            "Train:  50% 1001/2000 [01:38<01:55,  8.67 step/s, accuracy=0.50, loss=1.82, step=21001]"
          ]
        },
        {
          "output_type": "stream",
          "name": "stdout",
          "text": [
            "average loss = 1.5170       average accuracy = 0.6284)\n"
          ]
        },
        {
          "output_type": "stream",
          "name": "stderr",
          "text": [
            "Train: 100% 2000/2000 [03:05<00:00, 10.79 step/s, accuracy=0.72, loss=1.21, step=22000]\n",
            "Valid: 100% 6944/6944 [00:20<00:00, 335.90 uttr/s, accuracy=0.60, loss=1.75]\n",
            "Train:   0% 1/2000 [00:00<03:44,  8.90 step/s, accuracy=0.62, loss=1.28, step=22001]"
          ]
        },
        {
          "output_type": "stream",
          "name": "stdout",
          "text": [
            "average loss = 1.4522       average accuracy = 0.6418)\n"
          ]
        },
        {
          "output_type": "stream",
          "name": "stderr",
          "text": [
            "Train:  50% 1001/2000 [01:43<01:44,  9.53 step/s, accuracy=0.53, loss=1.87, step=23001]"
          ]
        },
        {
          "output_type": "stream",
          "name": "stdout",
          "text": [
            "average loss = 1.4389       average accuracy = 0.6437)\n"
          ]
        },
        {
          "output_type": "stream",
          "name": "stderr",
          "text": [
            "Train: 100% 2000/2000 [03:09<00:00, 10.56 step/s, accuracy=0.53, loss=1.65, step=24000]\n",
            "Valid: 100% 6944/6944 [00:20<00:00, 337.40 uttr/s, accuracy=0.63, loss=1.62]\n",
            "Train:   0% 2/2000 [00:00<05:07,  6.49 step/s, accuracy=0.62, loss=1.30, step=24002]"
          ]
        },
        {
          "output_type": "stream",
          "name": "stdout",
          "text": [
            "average loss = 1.3823       average accuracy = 0.6567)\n"
          ]
        },
        {
          "output_type": "stream",
          "name": "stderr",
          "text": [
            "Train:  50% 1002/2000 [01:40<02:17,  7.25 step/s, accuracy=0.59, loss=1.69, step=25002]"
          ]
        },
        {
          "output_type": "stream",
          "name": "stdout",
          "text": [
            "average loss = 1.3740       average accuracy = 0.6603)\n"
          ]
        },
        {
          "output_type": "stream",
          "name": "stderr",
          "text": [
            "Train: 100% 2000/2000 [03:05<00:00, 10.79 step/s, accuracy=0.75, loss=1.26, step=26000]\n",
            "Valid: 100% 6944/6944 [00:20<00:00, 334.90 uttr/s, accuracy=0.65, loss=1.52]\n",
            "Train:   0% 1/2000 [00:00<03:14, 10.25 step/s, accuracy=0.72, loss=1.06, step=26001]"
          ]
        },
        {
          "output_type": "stream",
          "name": "stdout",
          "text": [
            "average loss = 1.2970       average accuracy = 0.6764)\n"
          ]
        },
        {
          "output_type": "stream",
          "name": "stderr",
          "text": [
            "Train:  50% 1001/2000 [01:41<01:50,  9.07 step/s, accuracy=0.56, loss=1.52, step=27001]"
          ]
        },
        {
          "output_type": "stream",
          "name": "stdout",
          "text": [
            "average loss = 1.3219       average accuracy = 0.6723)\n"
          ]
        },
        {
          "output_type": "stream",
          "name": "stderr",
          "text": [
            "Train: 100% 2000/2000 [03:07<00:00, 10.67 step/s, accuracy=0.66, loss=1.29, step=28000]\n",
            "Valid: 100% 6944/6944 [00:21<00:00, 325.01 uttr/s, accuracy=0.64, loss=1.53]\n",
            "Train:   0% 1/2000 [00:00<04:12,  7.90 step/s, accuracy=0.66, loss=1.13, step=28001]"
          ]
        },
        {
          "output_type": "stream",
          "name": "stdout",
          "text": [
            "average loss = 1.2351       average accuracy = 0.6883)\n"
          ]
        },
        {
          "output_type": "stream",
          "name": "stderr",
          "text": [
            "Train:  50% 1001/2000 [01:47<01:54,  8.70 step/s, accuracy=0.69, loss=1.19, step=29001]"
          ]
        },
        {
          "output_type": "stream",
          "name": "stdout",
          "text": [
            "average loss = 1.2683       average accuracy = 0.6857)\n"
          ]
        },
        {
          "output_type": "stream",
          "name": "stderr",
          "text": [
            "Train: 100% 2000/2000 [03:13<00:00, 10.33 step/s, accuracy=0.69, loss=1.26, step=3e+4]\n",
            "Valid: 100% 6944/6944 [00:20<00:00, 331.01 uttr/s, accuracy=0.66, loss=1.44]\n",
            "Train:   0% 1/2000 [00:00<06:03,  5.49 step/s, accuracy=0.72, loss=0.99, step=3e+4]"
          ]
        },
        {
          "output_type": "stream",
          "name": "stdout",
          "text": [
            "Step 30000, best model saved. (accuracy=0.6633)\n",
            "average loss = 1.1999       average accuracy = 0.7013)\n"
          ]
        },
        {
          "output_type": "stream",
          "name": "stderr",
          "text": [
            "Train:  50% 1002/2000 [01:48<02:20,  7.09 step/s, accuracy=0.81, loss=0.74, step=31002]"
          ]
        },
        {
          "output_type": "stream",
          "name": "stdout",
          "text": [
            "average loss = 1.2174       average accuracy = 0.6923)\n"
          ]
        },
        {
          "output_type": "stream",
          "name": "stderr",
          "text": [
            "Train: 100% 2000/2000 [03:11<00:00, 10.43 step/s, accuracy=0.81, loss=0.98, step=32000]\n",
            "Valid: 100% 6944/6944 [00:21<00:00, 318.83 uttr/s, accuracy=0.67, loss=1.46]\n",
            "Train:   0% 1/2000 [00:00<03:46,  8.83 step/s, accuracy=0.62, loss=1.58, step=32001]"
          ]
        },
        {
          "output_type": "stream",
          "name": "stdout",
          "text": [
            "average loss = 1.1562       average accuracy = 0.7074)\n"
          ]
        },
        {
          "output_type": "stream",
          "name": "stderr",
          "text": [
            "Train:  50% 1001/2000 [01:48<01:57,  8.49 step/s, accuracy=0.62, loss=1.20, step=33001]"
          ]
        },
        {
          "output_type": "stream",
          "name": "stdout",
          "text": [
            "average loss = 1.1391       average accuracy = 0.7142)\n"
          ]
        },
        {
          "output_type": "stream",
          "name": "stderr",
          "text": [
            "Train: 100% 2000/2000 [03:12<00:00, 10.38 step/s, accuracy=0.75, loss=1.48, step=34000]\n",
            "Valid: 100% 6944/6944 [00:21<00:00, 328.35 uttr/s, accuracy=0.67, loss=1.39]\n",
            "Train:   0% 1/2000 [00:00<04:19,  7.70 step/s, accuracy=0.72, loss=1.13, step=34001]"
          ]
        },
        {
          "output_type": "stream",
          "name": "stdout",
          "text": [
            "average loss = 1.0910       average accuracy = 0.7232)\n"
          ]
        },
        {
          "output_type": "stream",
          "name": "stderr",
          "text": [
            "Train:  50% 1001/2000 [01:46<01:56,  8.56 step/s, accuracy=0.69, loss=1.22, step=35001]"
          ]
        },
        {
          "output_type": "stream",
          "name": "stdout",
          "text": [
            "average loss = 1.1151       average accuracy = 0.7181)\n"
          ]
        },
        {
          "output_type": "stream",
          "name": "stderr",
          "text": [
            "Train: 100% 2000/2000 [03:07<00:00, 10.65 step/s, accuracy=0.72, loss=0.87, step=36000]\n",
            "Valid: 100% 6944/6944 [00:21<00:00, 325.01 uttr/s, accuracy=0.69, loss=1.34]\n",
            "Train:   0% 2/2000 [00:00<05:38,  5.91 step/s, accuracy=0.75, loss=1.05, step=36002]"
          ]
        },
        {
          "output_type": "stream",
          "name": "stdout",
          "text": [
            "average loss = 1.0372       average accuracy = 0.7378)\n"
          ]
        },
        {
          "output_type": "stream",
          "name": "stderr",
          "text": [
            "Train:  50% 1001/2000 [01:46<01:49,  9.10 step/s, accuracy=0.75, loss=0.98, step=37001]"
          ]
        },
        {
          "output_type": "stream",
          "name": "stdout",
          "text": [
            "average loss = 1.0640       average accuracy = 0.7289)\n"
          ]
        },
        {
          "output_type": "stream",
          "name": "stderr",
          "text": [
            "Train: 100% 2000/2000 [03:08<00:00, 10.59 step/s, accuracy=0.66, loss=1.28, step=38000]\n",
            "Valid: 100% 6944/6944 [00:21<00:00, 324.30 uttr/s, accuracy=0.69, loss=1.35]\n",
            "Train:   0% 1/2000 [00:00<04:28,  7.45 step/s, accuracy=0.91, loss=0.59, step=38001]"
          ]
        },
        {
          "output_type": "stream",
          "name": "stdout",
          "text": [
            "average loss = 1.0038       average accuracy = 0.7437)\n"
          ]
        },
        {
          "output_type": "stream",
          "name": "stderr",
          "text": [
            "Train:  50% 1001/2000 [01:47<01:54,  8.76 step/s, accuracy=0.81, loss=0.77, step=39001]"
          ]
        },
        {
          "output_type": "stream",
          "name": "stdout",
          "text": [
            "average loss = 1.0381       average accuracy = 0.7365)\n"
          ]
        },
        {
          "output_type": "stream",
          "name": "stderr",
          "text": [
            "Train: 100% 2000/2000 [03:11<00:00, 10.45 step/s, accuracy=0.78, loss=0.75, step=4e+4]\n",
            "Valid: 100% 6944/6944 [00:21<00:00, 317.01 uttr/s, accuracy=0.70, loss=1.32]\n",
            "Train:   0% 1/2000 [00:00<06:43,  4.95 step/s, accuracy=0.69, loss=1.10, step=4e+4]"
          ]
        },
        {
          "output_type": "stream",
          "name": "stdout",
          "text": [
            "Step 40000, best model saved. (accuracy=0.7005)\n",
            "average loss = 0.9639       average accuracy = 0.7513)\n"
          ]
        },
        {
          "output_type": "stream",
          "name": "stderr",
          "text": [
            "Train:  50% 1002/2000 [01:49<01:22, 12.13 step/s, accuracy=0.75, loss=0.79, step=41002]"
          ]
        },
        {
          "output_type": "stream",
          "name": "stdout",
          "text": [
            "average loss = 0.9929       average accuracy = 0.7468)\n"
          ]
        },
        {
          "output_type": "stream",
          "name": "stderr",
          "text": [
            "Train: 100% 2000/2000 [03:13<00:00, 10.35 step/s, accuracy=0.72, loss=1.27, step=42000]\n",
            "Valid: 100% 6944/6944 [00:22<00:00, 312.87 uttr/s, accuracy=0.71, loss=1.25]\n",
            "Train:   0% 1/2000 [00:00<04:09,  8.00 step/s, accuracy=0.72, loss=1.02, step=42001]"
          ]
        },
        {
          "output_type": "stream",
          "name": "stdout",
          "text": [
            "average loss = 0.9332       average accuracy = 0.7600)\n"
          ]
        },
        {
          "output_type": "stream",
          "name": "stderr",
          "text": [
            "Train:  50% 1002/2000 [01:50<01:25, 11.73 step/s, accuracy=0.91, loss=0.52, step=43002]"
          ]
        },
        {
          "output_type": "stream",
          "name": "stdout",
          "text": [
            "average loss = 0.9487       average accuracy = 0.7573)\n"
          ]
        },
        {
          "output_type": "stream",
          "name": "stderr",
          "text": [
            "Train: 100% 2000/2000 [03:15<00:00, 10.24 step/s, accuracy=0.75, loss=0.82, step=44000]\n",
            "Valid: 100% 6944/6944 [00:22<00:00, 312.02 uttr/s, accuracy=0.71, loss=1.21]\n",
            "Train:   0% 2/2000 [00:00<05:51,  5.68 step/s, accuracy=0.75, loss=1.07, step=44002]"
          ]
        },
        {
          "output_type": "stream",
          "name": "stdout",
          "text": [
            "average loss = 0.8907       average accuracy = 0.7697)\n"
          ]
        },
        {
          "output_type": "stream",
          "name": "stderr",
          "text": [
            "Train:  50% 1002/2000 [01:46<01:21, 12.27 step/s, accuracy=0.81, loss=0.88, step=45002]"
          ]
        },
        {
          "output_type": "stream",
          "name": "stdout",
          "text": [
            "average loss = 0.9006       average accuracy = 0.7694)\n"
          ]
        },
        {
          "output_type": "stream",
          "name": "stderr",
          "text": [
            "Train: 100% 2000/2000 [03:12<00:00, 10.37 step/s, accuracy=0.75, loss=1.02, step=46000]\n",
            "Valid: 100% 6944/6944 [00:22<00:00, 307.21 uttr/s, accuracy=0.71, loss=1.23]\n",
            "Train:   0% 1/2000 [00:00<04:04,  8.19 step/s, accuracy=0.94, loss=0.40, step=46001]"
          ]
        },
        {
          "output_type": "stream",
          "name": "stdout",
          "text": [
            "average loss = 0.8351       average accuracy = 0.7856)\n"
          ]
        },
        {
          "output_type": "stream",
          "name": "stderr",
          "text": [
            "Train:  50% 1001/2000 [01:44<01:18, 12.68 step/s, accuracy=0.81, loss=0.91, step=47001]"
          ]
        },
        {
          "output_type": "stream",
          "name": "stdout",
          "text": [
            "average loss = 0.8699       average accuracy = 0.7741)\n"
          ]
        },
        {
          "output_type": "stream",
          "name": "stderr",
          "text": [
            "Train: 100% 2000/2000 [03:11<00:00, 10.43 step/s, accuracy=0.75, loss=0.94, step=48000]\n",
            "Valid: 100% 6944/6944 [00:22<00:00, 309.02 uttr/s, accuracy=0.74, loss=1.13]\n",
            "Train:   0% 1/2000 [00:00<04:40,  7.13 step/s, accuracy=0.94, loss=0.28, step=48001]"
          ]
        },
        {
          "output_type": "stream",
          "name": "stdout",
          "text": [
            "average loss = 0.8163       average accuracy = 0.7877)\n"
          ]
        },
        {
          "output_type": "stream",
          "name": "stderr",
          "text": [
            "Train:  50% 1002/2000 [01:44<01:12, 13.73 step/s, accuracy=0.75, loss=0.87, step=49002]"
          ]
        },
        {
          "output_type": "stream",
          "name": "stdout",
          "text": [
            "average loss = 0.8107       average accuracy = 0.7918)\n"
          ]
        },
        {
          "output_type": "stream",
          "name": "stderr",
          "text": [
            "Train: 100% 2000/2000 [03:12<00:00, 10.39 step/s, accuracy=0.78, loss=0.94, step=5e+4]\n",
            "Valid: 100% 6944/6944 [00:21<00:00, 322.23 uttr/s, accuracy=0.73, loss=1.14]\n",
            "Train:   0% 1/2000 [00:00<07:30,  4.44 step/s, accuracy=0.81, loss=0.79, step=5e+4]"
          ]
        },
        {
          "output_type": "stream",
          "name": "stdout",
          "text": [
            "Step 50000, best model saved. (accuracy=0.7404)\n",
            "average loss = 0.7898       average accuracy = 0.7951)\n"
          ]
        },
        {
          "output_type": "stream",
          "name": "stderr",
          "text": [
            "Train:  50% 1002/2000 [01:45<01:18, 12.69 step/s, accuracy=0.62, loss=1.28, step=51002]"
          ]
        },
        {
          "output_type": "stream",
          "name": "stdout",
          "text": [
            "average loss = 0.7780       average accuracy = 0.7974)\n"
          ]
        },
        {
          "output_type": "stream",
          "name": "stderr",
          "text": [
            "Train: 100% 2000/2000 [03:17<00:00, 10.14 step/s, accuracy=0.81, loss=0.78, step=52000]\n",
            "Valid: 100% 6944/6944 [00:23<00:00, 296.30 uttr/s, accuracy=0.74, loss=1.10]\n",
            "Train:   0% 1/2000 [00:00<04:41,  7.11 step/s, accuracy=0.91, loss=0.39, step=52001]"
          ]
        },
        {
          "output_type": "stream",
          "name": "stdout",
          "text": [
            "average loss = 0.7528       average accuracy = 0.8018)\n"
          ]
        },
        {
          "output_type": "stream",
          "name": "stderr",
          "text": [
            "Train:  50% 1002/2000 [01:41<01:32, 10.78 step/s, accuracy=0.91, loss=0.45, step=53002]"
          ]
        },
        {
          "output_type": "stream",
          "name": "stdout",
          "text": [
            "average loss = 0.7591       average accuracy = 0.7992)\n"
          ]
        },
        {
          "output_type": "stream",
          "name": "stderr",
          "text": [
            "Train: 100% 2000/2000 [03:13<00:00, 10.33 step/s, accuracy=0.84, loss=0.44, step=54000]\n",
            "Valid: 100% 6944/6944 [00:22<00:00, 313.20 uttr/s, accuracy=0.75, loss=1.09]\n",
            "Train:   0% 1/2000 [00:00<05:25,  6.15 step/s, accuracy=0.81, loss=1.17, step=54001]"
          ]
        },
        {
          "output_type": "stream",
          "name": "stdout",
          "text": [
            "average loss = 0.7224       average accuracy = 0.8109)\n"
          ]
        },
        {
          "output_type": "stream",
          "name": "stderr",
          "text": [
            "Train:  50% 1001/2000 [01:39<01:22, 12.10 step/s, accuracy=0.84, loss=0.53, step=55001]"
          ]
        },
        {
          "output_type": "stream",
          "name": "stdout",
          "text": [
            "average loss = 0.7072       average accuracy = 0.8138)\n"
          ]
        },
        {
          "output_type": "stream",
          "name": "stderr",
          "text": [
            "Train: 100% 2000/2000 [03:12<00:00, 10.37 step/s, accuracy=0.97, loss=0.23, step=56000]\n",
            "Valid: 100% 6944/6944 [00:22<00:00, 311.06 uttr/s, accuracy=0.76, loss=1.05]\n",
            "Train:   0% 1/2000 [00:00<03:53,  8.55 step/s, accuracy=0.88, loss=0.40, step=56001]"
          ]
        },
        {
          "output_type": "stream",
          "name": "stdout",
          "text": [
            "average loss = 0.6863       average accuracy = 0.8192)\n"
          ]
        },
        {
          "output_type": "stream",
          "name": "stderr",
          "text": [
            "Train:  50% 1001/2000 [01:38<01:17, 12.89 step/s, accuracy=0.94, loss=0.19, step=57001]"
          ]
        },
        {
          "output_type": "stream",
          "name": "stdout",
          "text": [
            "average loss = 0.6682       average accuracy = 0.8260)\n"
          ]
        },
        {
          "output_type": "stream",
          "name": "stderr",
          "text": [
            "Train: 100% 2000/2000 [03:13<00:00, 10.33 step/s, accuracy=0.88, loss=0.74, step=58000]\n",
            "Valid: 100% 6944/6944 [00:22<00:00, 314.11 uttr/s, accuracy=0.76, loss=1.03]\n",
            "Train:   0% 1/2000 [00:00<04:27,  7.46 step/s, accuracy=0.88, loss=0.46, step=58001]"
          ]
        },
        {
          "output_type": "stream",
          "name": "stdout",
          "text": [
            "average loss = 0.6607       average accuracy = 0.8254)\n"
          ]
        },
        {
          "output_type": "stream",
          "name": "stderr",
          "text": [
            "Train:  50% 1001/2000 [01:37<01:28, 11.28 step/s, accuracy=0.81, loss=0.76, step=59001]"
          ]
        },
        {
          "output_type": "stream",
          "name": "stdout",
          "text": [
            "average loss = 0.6376       average accuracy = 0.8331)\n"
          ]
        },
        {
          "output_type": "stream",
          "name": "stderr",
          "text": [
            "Train: 100% 2000/2000 [03:13<00:00, 10.36 step/s, accuracy=0.88, loss=0.68, step=6e+4]\n",
            "Valid: 100% 6944/6944 [00:21<00:00, 320.21 uttr/s, accuracy=0.77, loss=1.02]\n",
            "Train:   0% 1/2000 [00:00<07:10,  4.65 step/s, accuracy=0.84, loss=0.53, step=6e+4]"
          ]
        },
        {
          "output_type": "stream",
          "name": "stdout",
          "text": [
            "Step 60000, best model saved. (accuracy=0.7717)\n",
            "average loss = 0.6269       average accuracy = 0.8340)\n"
          ]
        },
        {
          "output_type": "stream",
          "name": "stderr",
          "text": [
            "Train:  50% 1001/2000 [01:33<01:21, 12.32 step/s, accuracy=0.97, loss=0.19, step=61001]"
          ]
        },
        {
          "output_type": "stream",
          "name": "stdout",
          "text": [
            "average loss = 0.6007       average accuracy = 0.8404)\n"
          ]
        },
        {
          "output_type": "stream",
          "name": "stderr",
          "text": [
            "Train: 100% 2000/2000 [03:12<00:00, 10.40 step/s, accuracy=0.88, loss=0.42, step=62000]\n",
            "Valid: 100% 6944/6944 [00:22<00:00, 314.83 uttr/s, accuracy=0.77, loss=1.00]\n",
            "Train:   0% 1/2000 [00:00<04:47,  6.96 step/s, accuracy=0.81, loss=0.76, step=62001]"
          ]
        },
        {
          "output_type": "stream",
          "name": "stdout",
          "text": [
            "average loss = 0.5967       average accuracy = 0.8408)\n"
          ]
        },
        {
          "output_type": "stream",
          "name": "stderr",
          "text": [
            "Train:  50% 1002/2000 [01:37<01:41,  9.81 step/s, accuracy=0.84, loss=0.62, step=63002]"
          ]
        },
        {
          "output_type": "stream",
          "name": "stdout",
          "text": [
            "average loss = 0.5733       average accuracy = 0.8478)\n"
          ]
        },
        {
          "output_type": "stream",
          "name": "stderr",
          "text": [
            "Train: 100% 2000/2000 [03:20<00:00,  9.99 step/s, accuracy=0.84, loss=0.71, step=64000]\n",
            "Valid: 100% 6944/6944 [00:21<00:00, 323.89 uttr/s, accuracy=0.77, loss=0.97]\n",
            "Train:   0% 1/2000 [00:00<05:18,  6.28 step/s, accuracy=0.81, loss=0.55, step=64001]"
          ]
        },
        {
          "output_type": "stream",
          "name": "stdout",
          "text": [
            "average loss = 0.5753       average accuracy = 0.8468)\n"
          ]
        },
        {
          "output_type": "stream",
          "name": "stderr",
          "text": [
            "Train:  50% 1002/2000 [01:34<01:37, 10.28 step/s, accuracy=0.81, loss=0.79, step=65002]"
          ]
        },
        {
          "output_type": "stream",
          "name": "stdout",
          "text": [
            "average loss = 0.5574       average accuracy = 0.8501)\n"
          ]
        },
        {
          "output_type": "stream",
          "name": "stderr",
          "text": [
            "Train: 100% 2000/2000 [03:12<00:00, 10.39 step/s, accuracy=0.94, loss=0.30, step=66000]\n",
            "Valid: 100% 6944/6944 [00:20<00:00, 337.82 uttr/s, accuracy=0.77, loss=0.96]\n",
            "Train:   0% 1/2000 [00:00<04:16,  7.79 step/s, accuracy=0.84, loss=0.58, step=66001]"
          ]
        },
        {
          "output_type": "stream",
          "name": "stdout",
          "text": [
            "average loss = 0.5426       average accuracy = 0.8569)\n"
          ]
        },
        {
          "output_type": "stream",
          "name": "stderr",
          "text": [
            "Train:  50% 1001/2000 [01:33<01:37, 10.26 step/s, accuracy=0.97, loss=0.13, step=67001]"
          ]
        },
        {
          "output_type": "stream",
          "name": "stdout",
          "text": [
            "average loss = 0.5269       average accuracy = 0.8596)\n"
          ]
        },
        {
          "output_type": "stream",
          "name": "stderr",
          "text": [
            "Train: 100% 2000/2000 [03:17<00:00, 10.14 step/s, accuracy=0.81, loss=0.83, step=68000]\n",
            "Valid: 100% 6944/6944 [00:20<00:00, 338.22 uttr/s, accuracy=0.78, loss=0.96]\n",
            "Train:   0% 1/2000 [00:00<05:04,  6.57 step/s, accuracy=0.78, loss=0.63, step=68001]"
          ]
        },
        {
          "output_type": "stream",
          "name": "stdout",
          "text": [
            "average loss = 0.5148       average accuracy = 0.8616)\n"
          ]
        },
        {
          "output_type": "stream",
          "name": "stderr",
          "text": [
            "Train:  50% 1002/2000 [01:33<01:42,  9.76 step/s, accuracy=0.75, loss=0.74, step=69002]"
          ]
        },
        {
          "output_type": "stream",
          "name": "stdout",
          "text": [
            "average loss = 0.4904       average accuracy = 0.8693)\n"
          ]
        },
        {
          "output_type": "stream",
          "name": "stderr",
          "text": [
            "Train: 100% 2000/2000 [03:16<00:00, 10.19 step/s, accuracy=0.72, loss=0.79, step=7e+4]\n",
            "Valid: 100% 6944/6944 [00:20<00:00, 335.90 uttr/s, accuracy=0.79, loss=0.91]\n",
            "Train:   0% 1/2000 [00:00<06:45,  4.93 step/s, accuracy=0.94, loss=0.46, step=7e+4]"
          ]
        },
        {
          "output_type": "stream",
          "name": "stdout",
          "text": [
            "Step 70000, best model saved. (accuracy=0.7873)\n",
            "average loss = 0.4918       average accuracy = 0.8687)\n"
          ]
        },
        {
          "output_type": "stream",
          "name": "stderr",
          "text": [
            "Train:  50% 1002/2000 [01:31<01:44,  9.55 step/s, accuracy=0.81, loss=0.68, step=71002]"
          ]
        },
        {
          "output_type": "stream",
          "name": "stdout",
          "text": [
            "average loss = 0.4710       average accuracy = 0.8768)\n"
          ]
        },
        {
          "output_type": "stream",
          "name": "stderr",
          "text": [
            "Train: 100% 2000/2000 [03:18<00:00, 10.06 step/s, accuracy=0.78, loss=0.76, step=72000]\n",
            "Valid: 100% 6944/6944 [00:21<00:00, 320.54 uttr/s, accuracy=0.80, loss=0.89]\n",
            "Train:   0% 1/2000 [00:00<04:55,  6.77 step/s, accuracy=0.81, loss=0.69, step=72001]"
          ]
        },
        {
          "output_type": "stream",
          "name": "stdout",
          "text": [
            "average loss = 0.4691       average accuracy = 0.8749)\n"
          ]
        },
        {
          "output_type": "stream",
          "name": "stderr",
          "text": [
            "Train:  50% 1001/2000 [01:36<01:39,  9.99 step/s, accuracy=0.78, loss=0.78, step=73001]"
          ]
        },
        {
          "output_type": "stream",
          "name": "stdout",
          "text": [
            "average loss = 0.4548       average accuracy = 0.8793)\n"
          ]
        },
        {
          "output_type": "stream",
          "name": "stderr",
          "text": [
            "Train: 100% 2000/2000 [03:26<00:00,  9.69 step/s, accuracy=0.84, loss=0.64, step=74000]\n",
            "Valid: 100% 6944/6944 [00:21<00:00, 322.36 uttr/s, accuracy=0.80, loss=0.90]\n",
            "Train:   0% 2/2000 [00:00<05:43,  5.82 step/s, accuracy=0.91, loss=0.37, step=74001]"
          ]
        },
        {
          "output_type": "stream",
          "name": "stdout",
          "text": [
            "average loss = 0.4576       average accuracy = 0.8793)\n"
          ]
        },
        {
          "output_type": "stream",
          "name": "stderr",
          "text": [
            "Train:  50% 1001/2000 [01:33<01:39, 10.00 step/s, accuracy=0.84, loss=0.42, step=75001]"
          ]
        },
        {
          "output_type": "stream",
          "name": "stdout",
          "text": [
            "average loss = 0.4333       average accuracy = 0.8861)\n"
          ]
        },
        {
          "output_type": "stream",
          "name": "stderr",
          "text": [
            "Train: 100% 2000/2000 [03:25<00:00,  9.75 step/s, accuracy=0.88, loss=0.30, step=76000]\n",
            "Valid: 100% 6944/6944 [00:21<00:00, 327.23 uttr/s, accuracy=0.81, loss=0.85]\n",
            "Train:   0% 1/2000 [00:00<05:17,  6.29 step/s, accuracy=0.97, loss=0.12, step=76001]"
          ]
        },
        {
          "output_type": "stream",
          "name": "stdout",
          "text": [
            "average loss = 0.4294       average accuracy = 0.8879)\n"
          ]
        },
        {
          "output_type": "stream",
          "name": "stderr",
          "text": [
            "Train:  50% 1001/2000 [01:33<01:37, 10.25 step/s, accuracy=0.97, loss=0.17, step=77001]"
          ]
        },
        {
          "output_type": "stream",
          "name": "stdout",
          "text": [
            "average loss = 0.4131       average accuracy = 0.8908)\n"
          ]
        },
        {
          "output_type": "stream",
          "name": "stderr",
          "text": [
            "Train: 100% 2000/2000 [03:22<00:00,  9.88 step/s, accuracy=0.91, loss=0.28, step=78000]\n",
            "Valid: 100% 6944/6944 [00:20<00:00, 344.42 uttr/s, accuracy=0.81, loss=0.84]\n",
            "Train:   0% 1/2000 [00:00<04:21,  7.65 step/s, accuracy=0.88, loss=0.43, step=78001]"
          ]
        },
        {
          "output_type": "stream",
          "name": "stdout",
          "text": [
            "average loss = 0.4135       average accuracy = 0.8896)\n"
          ]
        },
        {
          "output_type": "stream",
          "name": "stderr",
          "text": [
            "Train:  50% 1002/2000 [01:30<02:01,  8.18 step/s, accuracy=0.94, loss=0.25, step=79001]"
          ]
        },
        {
          "output_type": "stream",
          "name": "stdout",
          "text": [
            "average loss = 0.3904       average accuracy = 0.8964)\n"
          ]
        },
        {
          "output_type": "stream",
          "name": "stderr",
          "text": [
            "Train: 100% 2000/2000 [03:19<00:00, 10.02 step/s, accuracy=0.81, loss=0.61, step=8e+4]\n",
            "Valid: 100% 6944/6944 [00:21<00:00, 328.94 uttr/s, accuracy=0.81, loss=0.85]\n",
            "Train:   0% 1/2000 [00:00<07:59,  4.17 step/s, accuracy=0.84, loss=0.34, step=8e+4]"
          ]
        },
        {
          "output_type": "stream",
          "name": "stdout",
          "text": [
            "Step 80000, best model saved. (accuracy=0.8142)\n",
            "average loss = 0.3940       average accuracy = 0.8962)\n"
          ]
        },
        {
          "output_type": "stream",
          "name": "stderr",
          "text": [
            "Train:  50% 1001/2000 [01:32<01:53,  8.76 step/s, accuracy=0.94, loss=0.29, step=81001]"
          ]
        },
        {
          "output_type": "stream",
          "name": "stdout",
          "text": [
            "average loss = 0.3731       average accuracy = 0.8986)\n"
          ]
        },
        {
          "output_type": "stream",
          "name": "stderr",
          "text": [
            "Train: 100% 2000/2000 [03:19<00:00, 10.02 step/s, accuracy=0.84, loss=0.57, step=82000]\n",
            "Valid: 100% 6944/6944 [00:21<00:00, 328.62 uttr/s, accuracy=0.81, loss=0.85]\n",
            "Train:   0% 1/2000 [00:00<03:13, 10.31 step/s, accuracy=0.94, loss=0.23, step=82001]"
          ]
        },
        {
          "output_type": "stream",
          "name": "stdout",
          "text": [
            "average loss = 0.3773       average accuracy = 0.9014)\n"
          ]
        },
        {
          "output_type": "stream",
          "name": "stderr",
          "text": [
            "Train:  50% 1001/2000 [01:33<01:59,  8.33 step/s, accuracy=0.97, loss=0.19, step=83001]"
          ]
        },
        {
          "output_type": "stream",
          "name": "stdout",
          "text": [
            "average loss = 0.3657       average accuracy = 0.9038)\n"
          ]
        },
        {
          "output_type": "stream",
          "name": "stderr",
          "text": [
            "Train: 100% 2000/2000 [03:22<00:00,  9.90 step/s, accuracy=0.97, loss=0.11, step=84000]\n",
            "Valid: 100% 6944/6944 [00:21<00:00, 327.15 uttr/s, accuracy=0.81, loss=0.84]\n",
            "Train:   0% 1/2000 [00:00<03:28,  9.61 step/s, accuracy=0.81, loss=0.55, step=84001]"
          ]
        },
        {
          "output_type": "stream",
          "name": "stdout",
          "text": [
            "average loss = 0.3661       average accuracy = 0.9035)\n"
          ]
        },
        {
          "output_type": "stream",
          "name": "stderr",
          "text": [
            "Train:  50% 1001/2000 [01:36<02:05,  7.97 step/s, accuracy=0.97, loss=0.09, step=85001]"
          ]
        },
        {
          "output_type": "stream",
          "name": "stdout",
          "text": [
            "average loss = 0.3494       average accuracy = 0.9084)\n"
          ]
        },
        {
          "output_type": "stream",
          "name": "stderr",
          "text": [
            "Train: 100% 2000/2000 [03:22<00:00,  9.89 step/s, accuracy=0.88, loss=0.52, step=86000]\n",
            "Valid: 100% 6944/6944 [00:20<00:00, 338.21 uttr/s, accuracy=0.82, loss=0.81]\n",
            "Train:   0% 2/2000 [00:00<05:07,  6.50 step/s, accuracy=0.91, loss=0.46, step=86002]"
          ]
        },
        {
          "output_type": "stream",
          "name": "stdout",
          "text": [
            "average loss = 0.3502       average accuracy = 0.9076)\n"
          ]
        },
        {
          "output_type": "stream",
          "name": "stderr",
          "text": [
            "Train:  50% 1002/2000 [01:34<02:00,  8.25 step/s, accuracy=0.97, loss=0.21, step=87001]"
          ]
        },
        {
          "output_type": "stream",
          "name": "stdout",
          "text": [
            "average loss = 0.3370       average accuracy = 0.9102)\n"
          ]
        },
        {
          "output_type": "stream",
          "name": "stderr",
          "text": [
            "Train: 100% 2000/2000 [03:15<00:00, 10.22 step/s, accuracy=0.97, loss=0.18, step=88000]\n",
            "Valid: 100% 6944/6944 [00:21<00:00, 325.88 uttr/s, accuracy=0.82, loss=0.80]\n",
            "Train:   0% 2/2000 [00:00<04:35,  7.25 step/s, accuracy=0.91, loss=0.27, step=88002]"
          ]
        },
        {
          "output_type": "stream",
          "name": "stdout",
          "text": [
            "average loss = 0.3344       average accuracy = 0.9107)\n"
          ]
        },
        {
          "output_type": "stream",
          "name": "stderr",
          "text": [
            "Train:  50% 1001/2000 [01:38<02:05,  7.93 step/s, accuracy=0.91, loss=0.58, step=89001]"
          ]
        },
        {
          "output_type": "stream",
          "name": "stdout",
          "text": [
            "average loss = 0.3348       average accuracy = 0.9124)\n"
          ]
        },
        {
          "output_type": "stream",
          "name": "stderr",
          "text": [
            "Train: 100% 2000/2000 [03:22<00:00,  9.87 step/s, accuracy=0.94, loss=0.33, step=9e+4]\n",
            "Valid: 100% 6944/6944 [00:20<00:00, 335.74 uttr/s, accuracy=0.82, loss=0.80]\n",
            "Train:   0% 1/2000 [00:00<05:39,  5.89 step/s, accuracy=0.91, loss=0.30, step=9e+4]"
          ]
        },
        {
          "output_type": "stream",
          "name": "stdout",
          "text": [
            "Step 90000, best model saved. (accuracy=0.8230)\n",
            "average loss = 0.3301       average accuracy = 0.9126)\n"
          ]
        },
        {
          "output_type": "stream",
          "name": "stderr",
          "text": [
            "Train:  50% 1001/2000 [01:39<02:00,  8.28 step/s, accuracy=0.84, loss=0.42, step=91001]"
          ]
        },
        {
          "output_type": "stream",
          "name": "stdout",
          "text": [
            "average loss = 0.3230       average accuracy = 0.9162)\n"
          ]
        },
        {
          "output_type": "stream",
          "name": "stderr",
          "text": [
            "Train: 100% 2000/2000 [03:19<00:00, 10.04 step/s, accuracy=0.78, loss=0.52, step=92000]\n",
            "Valid: 100% 6944/6944 [00:20<00:00, 335.73 uttr/s, accuracy=0.82, loss=0.81]\n",
            "Train:   0% 2/2000 [00:00<04:42,  7.08 step/s, accuracy=0.91, loss=0.31, step=92002]"
          ]
        },
        {
          "output_type": "stream",
          "name": "stdout",
          "text": [
            "average loss = 0.3263       average accuracy = 0.9149)\n"
          ]
        },
        {
          "output_type": "stream",
          "name": "stderr",
          "text": [
            "Train:  50% 1001/2000 [01:41<02:02,  8.15 step/s, accuracy=0.84, loss=0.52, step=93001]"
          ]
        },
        {
          "output_type": "stream",
          "name": "stdout",
          "text": [
            "average loss = 0.3167       average accuracy = 0.9163)\n"
          ]
        },
        {
          "output_type": "stream",
          "name": "stderr",
          "text": [
            "Train: 100% 2000/2000 [03:20<00:00,  9.96 step/s, accuracy=0.91, loss=0.28, step=94000]\n",
            "Valid: 100% 6944/6944 [00:21<00:00, 319.34 uttr/s, accuracy=0.83, loss=0.79]\n",
            "Train:   0% 1/2000 [00:00<03:35,  9.28 step/s, accuracy=0.94, loss=0.16, step=94001]"
          ]
        },
        {
          "output_type": "stream",
          "name": "stdout",
          "text": [
            "average loss = 0.3118       average accuracy = 0.9184)\n"
          ]
        },
        {
          "output_type": "stream",
          "name": "stderr",
          "text": [
            "Train:  50% 1001/2000 [01:44<01:58,  8.43 step/s, accuracy=0.81, loss=0.93, step=95001]"
          ]
        },
        {
          "output_type": "stream",
          "name": "stdout",
          "text": [
            "average loss = 0.3193       average accuracy = 0.9164)\n"
          ]
        },
        {
          "output_type": "stream",
          "name": "stderr",
          "text": [
            "Train: 100% 2000/2000 [03:23<00:00,  9.82 step/s, accuracy=0.97, loss=0.23, step=96000]\n",
            "Valid: 100% 6944/6944 [00:20<00:00, 331.19 uttr/s, accuracy=0.82, loss=0.77]\n",
            "Train:   0% 2/2000 [00:00<05:14,  6.35 step/s, accuracy=0.97, loss=0.17, step=96002]"
          ]
        },
        {
          "output_type": "stream",
          "name": "stdout",
          "text": [
            "average loss = 0.3152       average accuracy = 0.9174)\n"
          ]
        },
        {
          "output_type": "stream",
          "name": "stderr",
          "text": [
            "Train:  50% 1002/2000 [01:41<02:10,  7.65 step/s, accuracy=0.88, loss=0.47, step=97002]"
          ]
        },
        {
          "output_type": "stream",
          "name": "stdout",
          "text": [
            "average loss = 0.3162       average accuracy = 0.9189)\n"
          ]
        },
        {
          "output_type": "stream",
          "name": "stderr",
          "text": [
            "Train: 100% 2000/2000 [03:17<00:00, 10.15 step/s, accuracy=1.00, loss=0.12, step=98000]\n",
            "Valid: 100% 6944/6944 [00:20<00:00, 332.16 uttr/s, accuracy=0.82, loss=0.79]\n",
            "Train:   0% 1/2000 [00:00<03:32,  9.39 step/s, accuracy=0.84, loss=0.38, step=98001]"
          ]
        },
        {
          "output_type": "stream",
          "name": "stdout",
          "text": [
            "average loss = 0.3088       average accuracy = 0.9190)\n"
          ]
        },
        {
          "output_type": "stream",
          "name": "stderr",
          "text": [
            "Train:  50% 1002/2000 [01:42<02:13,  7.46 step/s, accuracy=1.00, loss=0.10, step=99001]"
          ]
        },
        {
          "output_type": "stream",
          "name": "stdout",
          "text": [
            "average loss = 0.3088       average accuracy = 0.9196)\n"
          ]
        },
        {
          "output_type": "stream",
          "name": "stderr",
          "text": [
            "Train: 100% 2000/2000 [03:16<00:00, 10.17 step/s, accuracy=0.91, loss=0.41, step=1e+5]\n",
            "Valid: 100% 6944/6944 [00:20<00:00, 336.33 uttr/s, accuracy=0.82, loss=0.78]\n",
            "Train:   0% 0/2000 [00:00<?, ? step/s]\n"
          ]
        },
        {
          "output_type": "stream",
          "name": "stdout",
          "text": [
            "Step 100000, best model saved. (accuracy=0.8298)\n"
          ]
        }
      ]
    },
    {
      "cell_type": "markdown",
      "source": [
        "######original : val acc = 68%\n",
        "######d_model 80->128 , multihead 2->1\n",
        "###### train acc = 80% , val acc = 73%\n",
        "\n",
        "######TransformerEncoder layer : 1 -> 2 :\n",
        "\n",
        "######TransformerEncoder layer : 1 -> 4 :\n",
        "######train acc = 92% , val acc = 83%"
      ],
      "metadata": {
        "id": "0ZnUtE246AXm"
      }
    },
    {
      "cell_type": "code",
      "source": [
        "import os\n",
        "import json\n",
        "import torch\n",
        "from pathlib import Path\n",
        "from torch.utils.data import Dataset\n",
        "\n",
        "\n",
        "class InferenceDataset(Dataset):\n",
        "  def __init__(self, data_dir):\n",
        "    # using / to merge path\n",
        "    testdata_path = Path(data_dir) / \"testdata.json\"\n",
        "    metadata = json.load(testdata_path.open())\n",
        "    self.data_dir = data_dir\n",
        "    #\n",
        "    self.data = metadata[\"utterances\"]\n",
        "\n",
        "  def __len__(self):\n",
        "    return len(self.data)\n",
        "\n",
        "  def __getitem__(self, index):\n",
        "    utterance = self.data[index]\n",
        "    feat_path = utterance[\"feature_path\"]\n",
        "    mel = torch.load(os.path.join(self.data_dir, feat_path))\n",
        "    # compare : when we load training set, we use append to concate datas\n",
        "    return feat_path, mel\n",
        "\n",
        "\n",
        "def inference_collate_batch(batch):\n",
        "  \"\"\"Collate a batch of data.\"\"\"\n",
        "  feat_paths, mels = zip(*batch)\n",
        "\n",
        "  return feat_paths, torch.stack(mels)"
      ],
      "metadata": {
        "id": "ED3v3VUxUHDM"
      },
      "execution_count": 20,
      "outputs": []
    },
    {
      "cell_type": "code",
      "source": [
        "import json\n",
        "import csv\n",
        "from pathlib import Path\n",
        "from tqdm.notebook import tqdm\n",
        "\n",
        "import torch\n",
        "from torch.utils.data import DataLoader\n",
        "\n",
        "def parse_args():\n",
        "  \"\"\"arguments\"\"\"\n",
        "  config = {\n",
        "    \"data_dir\": \"./Dataset\",\n",
        "    \"model_path\": \"./model.ckpt\",\n",
        "    \"output_path\": \"./output.csv\",\n",
        "  }\n",
        "\n",
        "  return config\n",
        "\n",
        "\n",
        "def main(\n",
        "  data_dir,\n",
        "  model_path,\n",
        "  output_path,\n",
        "):\n",
        "  \"\"\"Main function.\"\"\"\n",
        "  device = torch.device(\"cuda\" if torch.cuda.is_available() else \"cpu\")\n",
        "  print(f\"[Info]: Use {device} now!\")\n",
        "\n",
        "  mapping_path = Path(data_dir) / \"mapping.json\"\n",
        "  mapping = json.load(mapping_path.open())\n",
        "\n",
        "  dataset = InferenceDataset(data_dir)\n",
        "  dataloader = DataLoader(\n",
        "    dataset,\n",
        "    batch_size=1,\n",
        "    shuffle=False,\n",
        "    drop_last=False,\n",
        "    num_workers=8,\n",
        "    collate_fn=inference_collate_batch,\n",
        "  )\n",
        "  print(f\"[Info]: Finish loading data!\",flush = True)\n",
        "\n",
        "  speaker_num = len(mapping[\"id2speaker\"])\n",
        "  model = Classifier(n_spks=speaker_num).to(device)\n",
        "  model.load_state_dict(torch.load(model_path))\n",
        "  model.eval()\n",
        "  print(f\"[Info]: Finish creating model!\",flush = True)\n",
        "\n",
        "  results = [[\"Id\", \"Category\"]]\n",
        "  for feat_paths, mels in tqdm(dataloader):\n",
        "    with torch.no_grad():\n",
        "      mels = mels.to(device)\n",
        "      outs = model(mels)\n",
        "      preds = outs.argmax(1).cpu().numpy()\n",
        "      # zip from two list to a sequence of tuples\n",
        "      # preds is a numpy array whose elements are int numbers\n",
        "      for feat_path, pred in zip(feat_paths, preds):\n",
        "        # mapping[\"id2speaker\"] = {\"0\": \"id10001\", ......'599':  'id11251'}])\n",
        "        results.append([feat_path, mapping[\"id2speaker\"][str(pred)]])\n",
        "\n",
        "  with open(output_path, 'w', newline='') as csvfile:\n",
        "    writer = csv.writer(csvfile)\n",
        "    writer.writerows(results)\n",
        "\n",
        "\n",
        "if __name__ == \"__main__\":\n",
        "  main(**parse_args())\n"
      ],
      "metadata": {
        "id": "WGfTSJDtUYPB",
        "outputId": "b5ff5396-5d90-44df-8cf6-ef1d3b9c5034",
        "colab": {
          "base_uri": "https://localhost:8080/",
          "height": 156,
          "referenced_widgets": [
            "91f7566887d740c09556280211df94c6",
            "fb87e853751d495b992305927fdb4096",
            "9e3d46b852bf4360bde8ba34c392d16e",
            "4471ded1884c4df39e80d83f95e589cb",
            "4ce4e56945a0448d9cb531076567b953",
            "67cda3d2433242629307d4f7b4df2d5d",
            "4f1f922efae84878aca497a56401e144",
            "ddc78c2b76554929bb7eb5f40d0b96ac",
            "d1f37c91e05a4839949a1cfdcf0819dc",
            "e46fa1242d9648648df388011be677eb",
            "e9ce049f2cb54aafae0ddc236c6f6f1d"
          ]
        }
      },
      "execution_count": 21,
      "outputs": [
        {
          "output_type": "stream",
          "name": "stdout",
          "text": [
            "[Info]: Use cuda now!\n",
            "[Info]: Finish loading data!\n",
            "[Info]: Finish creating model!\n"
          ]
        },
        {
          "output_type": "stream",
          "name": "stderr",
          "text": [
            "/usr/local/lib/python3.10/dist-packages/torch/utils/data/dataloader.py:557: UserWarning: This DataLoader will create 8 worker processes in total. Our suggested max number of worker in current system is 2, which is smaller than what this DataLoader is going to create. Please be aware that excessive worker creation might get DataLoader running slow or even freeze, lower the worker number to avoid potential slowness/freeze if necessary.\n",
            "  warnings.warn(_create_warning_msg(\n"
          ]
        },
        {
          "output_type": "display_data",
          "data": {
            "text/plain": [
              "  0%|          | 0/6000 [00:00<?, ?it/s]"
            ],
            "application/vnd.jupyter.widget-view+json": {
              "version_major": 2,
              "version_minor": 0,
              "model_id": "91f7566887d740c09556280211df94c6"
            }
          },
          "metadata": {}
        }
      ]
    },
    {
      "cell_type": "code",
      "source": [
        "class MyLinearLayer(nn.Module):\n",
        "    \"\"\" Custom Linear layer but mimics a standard linear layer \"\"\"\n",
        "    def __init__(self, size_in, size_out):\n",
        "        super().__init__()\n",
        "        self.size_in, self.size_out = size_in, size_out\n",
        "        weights = torch.Tensor(size_out, size_in)\n",
        "        self.weights = nn.Parameter(weights)  # nn.Parameter is a Tensor that's a module parameter.\n",
        "        bias = torch.Tensor(size_out)\n",
        "        self.bias = nn.Parameter(bias)\n",
        "\n",
        "        # initialize weights and biases\n",
        "        nn.init.kaiming_uniform_(self.weights, a=math.sqrt(5)) # weight init\n",
        "        fan_in, _ = nn.init._calculate_fan_in_and_fan_out(self.weights)\n",
        "        bound = 1 / math.sqrt(fan_in)\n",
        "        nn.init.uniform_(self.bias, -bound, bound)  # bias init\n",
        "\n",
        "    def forward(self, x):\n",
        "        w_times_x= torch.mm(x, self.weights.t())\n",
        "        return torch.add(w_times_x, self.bias)  # w times x + b\n",
        "class MyLinear(nn.Module):\n",
        "    def __init__(self, in_units, units):\n",
        "        super().__init__()\n",
        "        self.weight = nn.Parameter(torch.randn(in_units, units))\n",
        "        self.bias = nn.Parameter(torch.randn(units,))\n",
        "\n",
        "    def forward(self, X):\n",
        "        linear = torch.matmul(X, self.weight.data) + self.bias.data\n",
        "        return F.relu(linear)\n",
        "class NoisyLinear(T.nn.Module):\n",
        "  def __init__(self, n_in, n_out):\n",
        "    super().__init__()\n",
        "    self.n_in, self.n_out = n_in, n_out\n",
        "\n",
        "    self.weights = T.nn.Parameter(T.zeros((n_out, n_in),\n",
        "      dtype=T.float32))\n",
        "    self.bias = T.nn.Parameter(T.tensor(n_out,\n",
        "      dtype=T.float32))\n",
        "    self.lo = 0.90; self.hi = 0.98  # noise\n",
        "\n",
        "    lim = 0.01  # initialize weights and bias\n",
        "    T.nn.init.uniform_(self.weights, -lim, +lim)\n",
        "    T.nn.init.uniform_(self.bias, -lim, +lim)\n",
        "\n",
        "  def forward(self, x):\n",
        "    wx= T.mm(x, self.weights.t())\n",
        "    rnd = (self.hi - self.lo) * T.rand(1) + self.lo\n",
        "    return rnd * T.add(wx, self.bias)  # wts * x + bias\n",
        "class PrintLayer(nn.Module):\n",
        "    def __init__(self):\n",
        "        super(PrintLayer, self).__init__()\n",
        "\n",
        "    def forward(self, x):\n",
        "        # Do your print / debug stuff here\n",
        "        print(x)\n",
        "        return x"
      ],
      "metadata": {
        "id": "nuDMfXVo9mD-"
      },
      "execution_count": null,
      "outputs": []
    },
    {
      "cell_type": "code",
      "source": [
        "class PermuteLayer(nn.Module):\n",
        "  def __init__(self, input, output):\n",
        "    super().__init__()\n",
        "  def forward(self , x):\n",
        "    return(x.permute(1,0))\n",
        "\n",
        "class SelfAttentionPollingLayer(nn.Module):\n",
        "  def __init__(self,d_ap):\n",
        "    super().__init__()\n",
        "    self.attention_layer = \\\n",
        "    nn.Sequential(\n",
        "        PermuteLayer(),\n",
        "        nn.Linear(input, d_ap),\n",
        "        nn.ReLU(),\n",
        "        nn.Linear(d_ap, 1 ),\n",
        "        nn.Softmax()\n",
        "    )\n",
        "  def forward(self ,x ):\n",
        "    return torch.mm(x, self.attention_layer(x))"
      ],
      "metadata": {
        "id": "CxnOhUSa9wLO"
      },
      "execution_count": 23,
      "outputs": []
    }
  ]
}