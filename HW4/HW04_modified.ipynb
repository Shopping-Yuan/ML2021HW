{
  "cells": [
    {
      "cell_type": "markdown",
      "metadata": {
        "id": "view-in-github",
        "colab_type": "text"
      },
      "source": [
        "<a href=\"https://colab.research.google.com/github/Shopping-Yuan/ML2021HW/blob/Shopping_vscode_branch/HW4/HW04_modified.ipynb\" target=\"_parent\"><img src=\"https://colab.research.google.com/assets/colab-badge.svg\" alt=\"Open In Colab\"/></a>"
      ]
    },
    {
      "cell_type": "code",
      "execution_count": 1,
      "metadata": {
        "colab": {
          "base_uri": "https://localhost:8080/"
        },
        "id": "Z1cauo_ypX7F",
        "outputId": "8752219b-2401-4b37-9f48-2547c373e201"
      },
      "outputs": [
        {
          "output_type": "stream",
          "name": "stdout",
          "text": [
            "Mounted at /content/drive\n"
          ]
        }
      ],
      "source": [
        "from google.colab import drive\n",
        "drive.mount('/content/drive')"
      ]
    },
    {
      "cell_type": "code",
      "execution_count": 2,
      "metadata": {
        "id": "rEgX4ezzB7SQ"
      },
      "outputs": [],
      "source": [
        "import shutil\n",
        "shutil.copyfile('/content/drive/MyDrive/Dataset.zip','/content/Dataset.zip')\n",
        "\n",
        "import zipfile\n",
        "with zipfile.ZipFile('/content/Dataset.zip','r') as zip_ref:\n",
        "  zip_ref.extractall('/content/')"
      ]
    },
    {
      "cell_type": "code",
      "execution_count": 3,
      "metadata": {
        "id": "mfFqQ-KmrJGy"
      },
      "outputs": [],
      "source": [
        "def parse_args():\n",
        "  \"\"\"arguments\"\"\"\n",
        "  config = {\n",
        "#    \"data_dir\": \"/content/Dataset\",\n",
        "    \"data_dir\": \"./Dataset\",\n",
        "    \"save_path\": \"model.ckpt\",\n",
        "    \"batch_size\": 32,\n",
        "    \"n_workers\": 0,\n",
        "    \"valid_steps\": 2000,\n",
        "    \"warmup_steps\": 1000,\n",
        "    \"save_steps\": 4000,\n",
        "    \"total_steps\": 200000,\n",
        "  }\n",
        "\n",
        "  return config"
      ]
    },
    {
      "cell_type": "markdown",
      "metadata": {
        "id": "zWDKfQCSrx2D"
      },
      "source": [
        "#Dataset"
      ]
    },
    {
      "cell_type": "code",
      "execution_count": 4,
      "metadata": {
        "id": "33lkzQf43DNb"
      },
      "outputs": [],
      "source": [
        "import os\n",
        "import json\n",
        "import torch\n",
        "import random\n",
        "from pathlib import Path\n",
        "from torch.utils.data import Dataset\n",
        "from torch.nn.utils.rnn import pad_sequence\n",
        "\n",
        "\n",
        "class myDataset(Dataset):\n",
        "  def __init__(self, data_dir, segment_len=128):\n",
        "    self.data_dir = data_dir\n",
        "    self.segment_len = segment_len\n",
        "\n",
        "    # Load the mapping from speaker neme to their corresponding id.\n",
        "    # Path package can use / to join path\n",
        "    #part 1-1\n",
        "    mapping_path = Path(data_dir) / \"mapping.json\"\n",
        "    mapping = json.load(mapping_path.open())\n",
        "    self.speaker2id = mapping[\"speaker2id\"]\n",
        "    #self.speaker2id = {'id10001': 0, 'id10005': 1, ...... 'id11247': 598, 'id11251': 599}\n",
        "\n",
        "    #part 1-2\n",
        "    # Load metadata of training data.\n",
        "    metadata_path = Path(data_dir) / \"metadata.json\"\n",
        "    metadata = json.load(open(metadata_path))[\"speakers\"]\n",
        "\n",
        "    # Get the total number of speaker.\n",
        "    self.speaker_num = len(metadata.keys())\n",
        "    self.data = []\n",
        "    for speaker in metadata.keys():\n",
        "    #['id10473', 'id10328', 'id10382',......'id10864']\n",
        "      for utterances in metadata[speaker]:\n",
        "      # for example : metadata[speaker] = 'id10473'\n",
        "      # utterances = {'feature_path': 'uttr-5c88b2f1803449789c36f14fb4d3c1eb.pt', 'mel_len': 652}......\n",
        "        self.data.append([utterances[\"feature_path\"], self.speaker2id[speaker]])\n",
        "        # for example : ['uttr-5c88b2f1803449789c36f14fb4d3c1eb.pt',217]\n",
        "\n",
        "  def __len__(self):\n",
        "    return len(self.data)\n",
        "\n",
        "  def __getitem__(self, index):\n",
        "    feat_path, speaker = self.data[index]\n",
        "    #[utterances[\"feature_path\"], self.speaker2id[speaker]\n",
        "\n",
        "    # Load preprocessed mel-spectrogram.\n",
        "    # https://pytorch.org/docs/stable/generated/torch.load.html\n",
        "    # using torch.load to open pt file . By default , tensors are loaded to GPU if they are GPU tensor.\n",
        "    # part 2\n",
        "    mel = torch.load(os.path.join(self.data_dir, feat_path))\n",
        "\n",
        "    # Segmemt mel-spectrogram into \"segment_len\" frames.\n",
        "    if len(mel) > self.segment_len:\n",
        "      # Randomly get the starting point of the segment.\n",
        "      start = random.randint(0, len(mel) - self.segment_len)\n",
        "      # Get a segment with \"segment_len\" frames.\n",
        "      mel = torch.FloatTensor(mel[start:start+self.segment_len])\n",
        "    else:\n",
        "      mel = torch.FloatTensor(mel)\n",
        "    # Turn the speaker id into long for computing loss later.\n",
        "    speaker = torch.FloatTensor([speaker]).long()\n",
        "    return mel, speaker\n",
        "\n",
        "  def get_speaker_number(self):\n",
        "    return self.speaker_num"
      ]
    },
    {
      "cell_type": "code",
      "execution_count": null,
      "metadata": {
        "id": "qNWZbKmRrZUj"
      },
      "outputs": [],
      "source": [
        "#data_dir = parse_args()[\"data_dir\"]\n",
        "#part 1-1\n",
        "#mapping.json checcking\n",
        "#mapping_path = Path(data_dir) / \"mapping.json\"\n",
        "#mapping = json.load(mapping_path.open())\n",
        "#speaker2id = mapping[\"speaker2id\"]\n",
        "#print(type(mapping)) #<class 'dict'>\n",
        "#print(mapping.keys()) #dict_keys(['speaker2id', 'id2speaker'])\n",
        "#print(mapping.values()) #dict_values([{'id10001': 0, 'id10005': 1, ...... 'id11247': 598, 'id11251': 599},\n",
        "             #{\"0\": \"id10001\", ......'599':  'id11251'}])\n",
        "#print(mapping['speaker2id']['id10473']) #217\n",
        "\n",
        "#part 1-2\n",
        "#metadata.json checcking\n",
        "#metadata_path = Path(data_dir) / \"metadata.json\"\n",
        "#metadata = json.load(open(metadata_path))[\"speakers\"]\n",
        "#print(type(metadata)) #<class 'dict'>\n",
        "#print(len(metadata.keys()),metadata.keys()) #600 dict_keys(['id10473', 'id10328', 'id10382',......'id10864'])\n",
        "#print(len(metadata.values()),len(list(metadata.values())[0]),list(metadata.values())[0])\n",
        "#600 176 [{'feature_path': 'uttr-5c88b2f1803449789c36f14fb4d3c1eb.pt', 'mel_len': 652},......\n",
        "#{'feature_path': 'uttr-caf385f0032140e0add0bbde9a6595cd.pt', 'mel_len': 414}]\n",
        "#print(len(metadata.values()),len(list(metadata.values())[1])) #600 101\n",
        "\n",
        "#part 2\n",
        "#mel = torch.load(os.path.join(data_dir, 'uttr-5c88b2f1803449789c36f14fb4d3c1eb.pt'))\n",
        "#print(type(mel)) #<class 'torch.Tensor'>\n",
        "#print(mel.size()) #torch.Size([652, 40])\n",
        "#print(mel[0])\n",
        "# tensor([\n",
        "# 2.0060,  1.9015,  1.3473,  1.5711,  1.5569,  2.3200,  3.0064,  3.3848,\n",
        "# 0.5376,  0.8397,  1.5710, -0.5662, -2.1262, -1.1271, -1.4272, -3.6233,\n",
        "# -1.0765, -1.8453, -3.2415, -2.3427, -1.5888, -0.4692, -0.4291, -0.4722,\n",
        "# -1.8450, -1.0638, -3.2177, -3.4006, -3.2176, -3.3409, -3.1142, -4.0395,\n",
        "# -3.6502, -4.2407, -4.9656, -5.1238, -5.0620, -5.4308, -6.0757, -6.6186])"
      ]
    },
    {
      "cell_type": "code",
      "execution_count": 5,
      "metadata": {
        "id": "MNfZK8vyq0rD"
      },
      "outputs": [],
      "source": [
        "import torch\n",
        "from torch.utils.data import DataLoader, random_split\n",
        "from torch.nn.utils.rnn import pad_sequence\n",
        "#part 1 check collate_batch\n",
        "def collate_batch(batch):\n",
        "  # Process features within a batch.\n",
        "  \"\"\"Collate a batch of data.\"\"\"\n",
        "  #part 1-1 , 1-2\n",
        "  mel, speaker = zip(*batch)\n",
        "  # Because we train the model batch by batch, we need to pad the features in the same batch to make their lengths the same.\n",
        "  mel = pad_sequence(mel, batch_first=True, padding_value=-20)    # pad log 10^(-20) which is very small value.\n",
        "  # mel: (batch size, length, 40)\n",
        "  #part 1-3\n",
        "  return mel, torch.FloatTensor(speaker).long()\n",
        "\n",
        "\n",
        "def get_dataloader(data_dir, batch_size, n_workers):\n",
        "  \"\"\"Generate dataloader\"\"\"\n",
        "  dataset = myDataset(data_dir)\n",
        "  speaker_num = dataset.get_speaker_number()\n",
        "  # Split dataset into training dataset and validation dataset\n",
        "  trainlen = int(0.9 * len(dataset))\n",
        "  lengths = [trainlen, len(dataset) - trainlen]\n",
        "  trainset, validset = random_split(dataset, lengths)\n",
        "\n",
        "  train_loader = DataLoader(\n",
        "    trainset,\n",
        "    batch_size=batch_size,\n",
        "    shuffle=True,\n",
        "    drop_last=True,\n",
        "    num_workers=n_workers,\n",
        "    pin_memory=True,\n",
        "    collate_fn=collate_batch,\n",
        "  )\n",
        "  valid_loader = DataLoader(\n",
        "    validset,\n",
        "    batch_size=batch_size,\n",
        "    num_workers=n_workers,\n",
        "    drop_last=True,\n",
        "    pin_memory=True,\n",
        "    collate_fn=collate_batch,\n",
        "  )\n",
        "\n",
        "  return train_loader, valid_loader, speaker_num"
      ]
    },
    {
      "cell_type": "code",
      "execution_count": null,
      "metadata": {
        "id": "75rCGxDvkX0I"
      },
      "outputs": [],
      "source": [
        "# x = [[\"a\",1],[\"b\",2],[\"c\",3]]\n",
        "# print(list(zip(*x)))\n",
        "# print(list(zip((\"a\",1),(\"b\",2),(\"c\",3))))"
      ]
    },
    {
      "cell_type": "code",
      "execution_count": null,
      "metadata": {
        "id": "vA6cTPqryJXZ"
      },
      "outputs": [],
      "source": [
        "#import numpy as np\n",
        "#check collate_batch\n",
        "#part 1-1\n",
        "# * collect \"sequence\"function input to a tuple :\n",
        "#def f(*paras):\n",
        "#  print(paras)\n",
        "#f(1,2,3) #(1, 2, 3)\n",
        "# or collect a tuple to a \"sequence\"\n",
        "#print(*(1,2,3)) #1 2 3\n",
        "\n",
        "#part 1-2\n",
        "#test_data = np.random.rand(2,3,4)\n",
        "#test_label = np.random.rand(2,1)\n",
        "#samples = (test_data,test_label)\n",
        "#print(samples)\n",
        "#x , y = zip((1,2),(3,4),(5,6),(7,8))\n",
        "#print(x,y)\n",
        "\n",
        "#part 1-3\n",
        "#print(torch.FloatTensor([[1.],[1.]]))#tensor([[1.],[1.]])\n",
        "#print(torch.FloatTensor([[1.],[1.]]).long())#tensor([[1],[1]]) implies the numbers are integer now\n",
        "#print(torch.IntTensor([[1.],[1.]]))#tensor([[1],[1]], dtype=torch.int32)"
      ]
    },
    {
      "cell_type": "code",
      "execution_count": 6,
      "metadata": {
        "colab": {
          "base_uri": "https://localhost:8080/"
        },
        "id": "3Yk6oGGdQD9G",
        "outputId": "e8968576-8b6f-4d30-d45c-e19772fee36d"
      },
      "outputs": [
        {
          "output_type": "stream",
          "name": "stdout",
          "text": [
            "Collecting torchinfo\n",
            "  Downloading torchinfo-1.8.0-py3-none-any.whl (23 kB)\n",
            "Installing collected packages: torchinfo\n",
            "Successfully installed torchinfo-1.8.0\n"
          ]
        }
      ],
      "source": [
        "!pip install torchinfo\n",
        "#%conda install -c conda-forge torchinfo"
      ]
    },
    {
      "cell_type": "code",
      "execution_count": null,
      "metadata": {
        "id": "aBXbvqTlTSyj"
      },
      "outputs": [],
      "source": [
        "# x = [True,True,False,True,False,False,False,True,False,True,True,False]\n",
        "\n",
        "# true_index_list = []\n",
        "\n",
        "# false_index_list = []\n",
        "\n",
        "# for i,b in enumerate(x):\n",
        "#   if b == True:\n",
        "#     true_index_list += [i]\n",
        "#   else :\n",
        "#     false_index_list += [i]\n",
        "# print(true_index_list,false_index_list)\n",
        "\n",
        "# new_list = []\n",
        "# t_max = len(true_index_list)\n",
        "# f_max = len(false_index_list)\n",
        "# true_index = 0\n",
        "# false_index = 0\n",
        "# t_or_f = 0\n",
        "# while (t_max * f_max)>0:\n",
        "#   if t_or_f % 2 ==0:\n",
        "#     new_list += true_index_list[true_index:true_index+3]\n",
        "#     true_index += 3\n",
        "#     t_or_f += 1\n",
        "#     t_max -= 3\n",
        "#   else :\n",
        "#     new_list += false_index_list[false_index:false_index+3]\n",
        "#     false_index += 3\n",
        "#     t_or_f += 1\n",
        "#     f_max -= 3\n",
        "# if t_max > 0:\n",
        "#   new_list += true_index_list[true_index:]\n",
        "# elif f_max > 0:\n",
        "#   new_list += false_index_list[false_index:]\n",
        "\n",
        "# print(new_list)\n"
      ]
    },
    {
      "cell_type": "code",
      "execution_count": 7,
      "metadata": {
        "id": "1l3Zx9A_d9ZT"
      },
      "outputs": [],
      "source": [
        "import torch.nn as nn\n",
        "class PrintLayer(nn.Module):\n",
        "  def __init__(self):\n",
        "    super().__init__()\n",
        "  def forward(self , x):\n",
        "    print(f\"layer output size = {x.size()}\")\n",
        "    return(x)\n",
        "class ConformerLayer(nn.Module):\n",
        "  \"\"\"\n",
        "    #------Conformer Encoder Part----------------------------------\n",
        "    # part 1 feed forward module\n",
        "    # part 2 multi heads self attention\n",
        "    # part 3 convolution module\n",
        "    # part 4 feed forward module\n",
        "    # part 5 layer norm\n",
        "    # multi heads self attention module\n",
        "    #   part 2-1 laryer norm\n",
        "    #   part 2-2 multi heads self attention\n",
        "    #   - dropout\n",
        "    # convolution module\n",
        "    #   part 3-1 layer norm (do this outside the module)\n",
        "    #   part 3-2 pointwise conv\n",
        "    #   part 3-3 Glu activation\n",
        "    #   part 3-4 1D depthwise conv\n",
        "    #   part 3-5 batch norm\n",
        "    #   part 3-6 swish activation\n",
        "    #   part 3-7 pointwise conv\n",
        "    #   part 3-8 dropout\n",
        "    \"\"\"\n",
        "  def __init__(self,d_model,feedforword,dropout):\n",
        "    super().__init__()\n",
        "    self.feed_forward_layer_1 = nn.Sequential(\n",
        "    nn.Linear(d_model, feedforword),\n",
        "    nn.ReLU(),\n",
        "    nn.Linear(feedforword, d_model),\n",
        "    )\n",
        "    self.layer_norm1 = nn.LayerNorm(d_model)\n",
        "    self.layer_norm2 = nn.LayerNorm(d_model)\n",
        "    self.attention = torch.nn.MultiheadAttention(d_model, num_heads = 2, dropout=dropout)\n",
        "    self.cnn_module = nn.Sequential(\n",
        "      # part 3-2\n",
        "      nn.Conv1d(in_channels = d_model , out_channels = d_model*2 , kernel_size = 1),\n",
        "      # part 3-3\n",
        "      nn.GLU(dim = 1),\n",
        "      # part 3-4\n",
        "      nn.Conv1d(in_channels = d_model , out_channels = d_model , kernel_size = 3 ,padding = 1, groups = d_model),\n",
        "      # part 3-5\n",
        "      nn.BatchNorm1d(d_model),\n",
        "      # part 3-6\n",
        "      nn.SiLU(),\n",
        "      # part 3-7\n",
        "      nn.Conv1d(in_channels = d_model , out_channels = d_model , kernel_size = 1, padding = 1),\n",
        "      # part 3-8\n",
        "      nn.Dropout1d()\n",
        "    )\n",
        "    self.feed_forward_layer_2 = nn.Sequential(\n",
        "    nn.Linear(d_model, feedforword),\n",
        "    nn.ReLU(),\n",
        "    nn.Linear(feedforword, d_model),\n",
        "    )\n",
        "    self.layer_norm3 = nn.LayerNorm(d_model)\n",
        "  def forward(self ,x ):\n",
        "    # part 1\n",
        "    x = x + 0.5 * self.feed_forward_layer_1(x)\n",
        "    # part 2\n",
        "    x = x.permute(1, 0, 2)\n",
        "    x = self.layer_norm1(x)\n",
        "    x = x + self.attention(x,x,x, need_weights=False)[0]\n",
        "    # part 3\n",
        "    x = self.layer_norm2(x)\n",
        "    x = x.permute(1, 2, 0)\n",
        "    x = self.cnn_module(x)\n",
        "    x = x.permute(0, 2, 1)\n",
        "\n",
        "    # part 4\n",
        "    x = x + 0.5 * self.feed_forward_layer_2(x)\n",
        "    # part 5\n",
        "    x = self.layer_norm3(x)\n",
        "    return x\n",
        "class SelfAttentionPollingLayer(nn.Module):\n",
        "  def __init__(self,layer):\n",
        "    super().__init__()\n",
        "    self.layer = layer\n",
        "  def forward(self ,x ):\n",
        "\n",
        "    return torch.squeeze(torch.bmm(x.permute(0,2,1),x),1)"
      ]
    },
    {
      "cell_type": "code",
      "source": [
        "import torch\n",
        "import torch.nn as nn\n",
        "import torch.nn.functional as F\n",
        "import torchvision\n",
        "from torchinfo import summary\n",
        "\n",
        "class Classifier(nn.Module):\n",
        "  def __init__(self, d_model=128, n_spks=600, feedforward = 256 , dropout=0.2):\n",
        "    super().__init__()\n",
        "    # Project the dimension of features from that of input into d_model.\n",
        "    self.prenet = nn.Linear(40, d_model)\n",
        "    # TODO:\n",
        "\n",
        "    # attension pooling\n",
        "    self.attension_pooling = nn.Sequential(\n",
        "      nn.Linear(d_model, d_model),\n",
        "      nn.ReLU(),\n",
        "      nn.Linear(d_model, 1),\n",
        "      nn.Softmax(dim = 1),\n",
        "    )\n",
        "    self.conformer = ConformerLayer(d_model,feedforward,dropout)\n",
        "    self.conformers = nn.ModuleList([ConformerLayer(d_model,feedforward,dropout) for i in range(2)])\n",
        "    self.pred_layer = nn.Sequential(\n",
        "      nn.Linear(d_model, n_spks),\n",
        "    )\n",
        "\n",
        "  def forward(self, mels):\n",
        "    \"\"\"\n",
        "    args:\n",
        "      mels: (batch size, length, 40)\n",
        "    return:\n",
        "      out: (batch size, n_spks)\n",
        "    \"\"\"\n",
        "\n",
        "    out = self.prenet(mels)\n",
        "    for layer in self.conformers:\n",
        "      out = layer(out)\n",
        "\n",
        "\n",
        "    sfatpool = self.attension_pooling(out)\n",
        "    out = torch.squeeze(torch.bmm(sfatpool.permute(0,2,1),out),1)\n",
        "    out = self.pred_layer(out)\n",
        "    return out\n"
      ],
      "metadata": {
        "id": "Kpzi0C5T_9bl"
      },
      "execution_count": 8,
      "outputs": []
    },
    {
      "cell_type": "code",
      "source": [
        "model = Classifier(d_model=80, dropout=0.2)\n",
        "#model = ConformerLayer(d_model=80, dropout=0.2)\n",
        "print(summary(model,(32,128,40)))"
      ],
      "metadata": {
        "id": "vsb0HL3nKBhW",
        "outputId": "1596273b-fc7c-4dd4-a563-5ddeb661f761",
        "colab": {
          "base_uri": "https://localhost:8080/"
        }
      },
      "execution_count": null,
      "outputs": [
        {
          "output_type": "stream",
          "name": "stdout",
          "text": [
            "==========================================================================================\n",
            "Layer (type:depth-idx)                   Output Shape              Param #\n",
            "==========================================================================================\n",
            "Classifier                               [32, 600]                 128,912\n",
            "├─Linear: 1-1                            [32, 128, 80]             3,280\n",
            "├─ModuleList: 1-2                        --                        --\n",
            "│    └─ConformerLayer: 2-1               [32, 128, 80]             --\n",
            "│    │    └─Sequential: 3-1              [32, 128, 80]             41,296\n",
            "│    │    └─LayerNorm: 3-2               [128, 32, 80]             160\n",
            "│    │    └─MultiheadAttention: 3-3      [128, 32, 80]             25,920\n",
            "│    │    └─LayerNorm: 3-4               [128, 32, 80]             160\n",
            "│    │    └─Sequential: 3-5              [32, 80, 128]             19,920\n",
            "│    │    └─Sequential: 3-6              [32, 128, 80]             41,296\n",
            "│    │    └─LayerNorm: 3-7               [32, 128, 80]             160\n",
            "│    └─ConformerLayer: 2-2               [32, 128, 80]             --\n",
            "│    │    └─Sequential: 3-8              [32, 128, 80]             41,296\n",
            "│    │    └─LayerNorm: 3-9               [128, 32, 80]             160\n",
            "│    │    └─MultiheadAttention: 3-10     [128, 32, 80]             25,920\n",
            "│    │    └─LayerNorm: 3-11              [128, 32, 80]             160\n",
            "│    │    └─Sequential: 3-12             [32, 80, 128]             19,920\n",
            "│    │    └─Sequential: 3-13             [32, 128, 80]             41,296\n",
            "│    │    └─LayerNorm: 3-14              [32, 128, 80]             160\n",
            "├─Sequential: 1-3                        [32, 128, 1]              --\n",
            "│    └─Linear: 2-3                       [32, 128, 80]             6,480\n",
            "│    └─ReLU: 2-4                         [32, 128, 80]             --\n",
            "│    └─Linear: 2-5                       [32, 128, 1]              81\n",
            "│    └─Softmax: 2-6                      [32, 128, 1]              --\n",
            "├─Sequential: 1-4                        [32, 600]                 --\n",
            "│    └─Linear: 2-7                       [32, 600]                 48,600\n",
            "==========================================================================================\n",
            "Total params: 445,177\n",
            "Trainable params: 445,177\n",
            "Non-trainable params: 0\n",
            "Total mult-adds (M): 169.09\n",
            "==========================================================================================\n",
            "Input size (MB): 0.66\n",
            "Forward/backward pass size (MB): 91.25\n",
            "Params size (MB): 1.06\n",
            "Estimated Total Size (MB): 92.96\n",
            "==========================================================================================\n"
          ]
        }
      ]
    },
    {
      "cell_type": "code",
      "execution_count": null,
      "metadata": {
        "id": "zlXaMSlWMU__"
      },
      "outputs": [],
      "source": [
        "# import torch\n",
        "# import torch.nn as nn\n",
        "# import torch.nn.functional as F\n",
        "# import torchvision\n",
        "# from torchinfo import summary\n",
        "\n",
        "# class Classifier(nn.Module):\n",
        "#   def __init__(self, d_model=128, n_spks=600, dropout=0.1):\n",
        "#     super().__init__()\n",
        "#     # Project the dimension of features from that of input into d_model.\n",
        "#     self.prenet = nn.Linear(40, d_model)\n",
        "#     # TODO:\n",
        "#     #   Change Transformer to Conformer.\n",
        "#     #   https://arxiv.org/abs/2005.08100\n",
        "#     # embed_dim must be divisible by num_heads\n",
        "#     self.encoder_layer = nn.TransformerEncoderLayer(\n",
        "#       d_model=d_model, dim_feedforward=256, nhead=1, norm_first = True\n",
        "#     )\n",
        "#     # batch_first = True\n",
        "#     # norm_first = True\n",
        "#     self.encoder = nn.TransformerEncoder(self.encoder_layer, num_layers= 5  )\n",
        "#     # attension pooling\n",
        "#     self.attension_pooling = nn.Sequential(\n",
        "#       nn.Linear(d_model, d_model),\n",
        "#       nn.ReLU(),\n",
        "#       nn.Linear(d_model, 1),\n",
        "#       nn.Softmax(dim = 1),\n",
        "#     )\n",
        "# #    self.afd = SelfAttentionPollingLayer(self.attension_pooling)\n",
        "# #    self.linear = nn.Linear(d_model, d_model)\n",
        "# #    self.relu = nn.ReLU()\n",
        "# #    self.linear_out = nn.Linear(d_model, n_spks)\n",
        "\n",
        "#     # Project the the dimension of features from d_model into speaker nums.\n",
        "#     self.pred_layer = nn.Sequential(\n",
        "# #      nn.Linear(d_model, d_model),\n",
        "# #      nn.ReLU(),\n",
        "#       nn.Linear(d_model, n_spks),\n",
        "#     )\n",
        "\n",
        "#   def forward(self, mels):\n",
        "#     \"\"\"\n",
        "#     args:\n",
        "#       mels: (batch size, length, 40)\n",
        "#     return:\n",
        "#       out: (batch size, n_spks)\n",
        "#     \"\"\"\n",
        "#     # out: (batch size, length, d_model)\n",
        "#     #print(mels.size())\n",
        "#     out = self.prenet(mels)\n",
        "#     # out: (length, batch size, d_model)\n",
        "#     out = out.permute(1, 0, 2)\n",
        "#     #print(out.size())\n",
        "#     # The encoder layer expect features in the shape of (length, batch size, d_model).\n",
        "#     #out = self.encoder_layer(out)\n",
        "#     out = self.encoder_layer(out)\n",
        "#     # out: (batch size, length, d_model)\n",
        "#     #print(out.size())\n",
        "#     out = out.transpose(0, 1)\n",
        "# #    print(out.size())\n",
        "#     # self-attention pooling\n",
        "#     #out = self.afd(out)\n",
        "# #    print(out.size())\n",
        "#     sfatpool = self.attension_pooling(out)\n",
        "# #    print(sfatpool.size(),out.size())\n",
        "#     out = torch.squeeze(torch.bmm(sfatpool.permute(0,2,1),out),1)\n",
        "# #    out = self.afd(out)\n",
        "# #    print(out.size())\n",
        "\n",
        "#     # mean pooling\n",
        "# #    stats = out.mean(dim=1)\n",
        "\n",
        "#     # out: (batch, n_spks)\n",
        "# #    out = self.pred_layer(stats)\n",
        "# #    out = self.linear(out)\n",
        "# #    out = self.relu(out)\n",
        "# #    out = self.linear_out(out)\n",
        "#     out = self.pred_layer(out)\n",
        "#     return out\n"
      ]
    },
    {
      "cell_type": "code",
      "execution_count": null,
      "metadata": {
        "colab": {
          "base_uri": "https://localhost:8080/"
        },
        "id": "vXLlPNAI9N9F",
        "outputId": "9874723d-47ad-4b20-f37f-6e1c2a3c7214"
      },
      "outputs": [
        {
          "output_type": "stream",
          "name": "stdout",
          "text": [
            "==========================================================================================\n",
            "Layer (type:depth-idx)                   Output Shape              Param #\n",
            "==========================================================================================\n",
            "Classifier                               [32, 600]                 662,400\n",
            "├─Linear: 1-1                            [32, 128, 128]            5,248\n",
            "├─TransformerEncoderLayer: 1-2           [128, 32, 128]            --\n",
            "│    └─LayerNorm: 2-1                    [128, 32, 128]            256\n",
            "│    └─MultiheadAttention: 2-2           [128, 32, 128]            66,048\n",
            "│    └─Dropout: 2-3                      [128, 32, 128]            --\n",
            "│    └─LayerNorm: 2-4                    [128, 32, 128]            256\n",
            "│    └─Linear: 2-5                       [128, 32, 256]            33,024\n",
            "│    └─Dropout: 2-6                      [128, 32, 256]            --\n",
            "│    └─Linear: 2-7                       [128, 32, 128]            32,896\n",
            "│    └─Dropout: 2-8                      [128, 32, 128]            --\n",
            "├─Sequential: 1-3                        [32, 128, 1]              --\n",
            "│    └─Linear: 2-9                       [32, 128, 128]            16,512\n",
            "│    └─ReLU: 2-10                        [32, 128, 128]            --\n",
            "│    └─Linear: 2-11                      [32, 128, 1]              129\n",
            "│    └─Softmax: 2-12                     [32, 128, 1]              --\n",
            "├─Sequential: 1-4                        [32, 600]                 --\n",
            "│    └─Linear: 2-13                      [32, 600]                 77,400\n",
            "==========================================================================================\n",
            "Total params: 894,169\n",
            "Trainable params: 894,169\n",
            "Non-trainable params: 0\n",
            "Total mult-adds (M): 11.68\n",
            "==========================================================================================\n",
            "Input size (MB): 0.66\n",
            "Forward/backward pass size (MB): 29.55\n",
            "Params size (MB): 0.66\n",
            "Estimated Total Size (MB): 30.86\n",
            "==========================================================================================\n"
          ]
        },
        {
          "output_type": "stream",
          "name": "stderr",
          "text": [
            "/usr/local/lib/python3.10/dist-packages/torch/nn/modules/transformer.py:282: UserWarning: enable_nested_tensor is True, but self.use_nested_tensor is False because encoder_layer.norm_first was True\n",
            "  warnings.warn(f\"enable_nested_tensor is True, but self.use_nested_tensor is False because {why_not_sparsity_fast_path}\")\n"
          ]
        }
      ],
      "source": [
        "model = Classifier()\n",
        "print(summary(model,(32,128,40)))\n",
        "#print(model.state_dict().keys())\n",
        "#print(model.state_dict()[\"encoder_layer.self_attn.in_proj_weight\"].size())#torch.Size([240, 80]) (80+80+80)*80\n",
        "#print(model.state_dict()[\"encoder_layer.self_attn.out_proj.weight\"].size())#torch.Size([80, 80])"
      ]
    },
    {
      "cell_type": "markdown",
      "metadata": {
        "id": "5EhBDpSpznKl"
      },
      "source": [
        "original\n",
        "parameter number :\n",
        "1.MultiheadAttention : =\n",
        "d_model+1(bias) * d_query +\n",
        "d_model+1(bias) * d_key  +\n",
        "d_model+1(bias) * d_v   +\n",
        "d_v + 1(bias) * output_dim( = dmodel)\n",
        "= (80+1)80 + (80+1)80 + (80+1)80 + (80+1)80 = 25920\n",
        "2.layer_norm : =input + input = 80*80 = 160\n",
        "\n",
        "first change\n",
        "parameter number :\n",
        "1.MultiheadAttention : =\n",
        "d_model+1(bias) * d_query +\n",
        "d_model+1(bias) * d_key  +\n",
        "d_model+1(bias) * d_v   +\n",
        "d_v + 1(bias) * output_dim( = dmodel)\n",
        "= (128+1)128(3+1)= 16512\n",
        "\n",
        "second change\n",
        "parameter number :\n",
        "1.MultiheadAttention : =\n",
        "d_model+1(bias) * d_query +\n",
        "d_model+1(bias) * d_key  +\n",
        "d_model+1(bias) * d_v   +\n",
        "d_v + 1(bias) * output_dim( = dmodel)\n",
        "= (128+1)128(3+1)= 16512\n",
        "four layers : 66048\n",
        "\n",
        "2.layer_norm : =input + input = 80*80 = 160\n",
        "\n",
        "3rd change\n",
        "parameter number :\n",
        "1.MultiheadAttention : =\n",
        "d_model+1(bias) * d_query +\n",
        "d_model+1(bias) * d_key  +\n",
        "d_model+1(bias) * d_v   +\n",
        "d_v + 1(bias) * output_dim( = dmodel)\n",
        "= (128+1)128(3+1)= 16512\n",
        "four layers : 66048\n",
        "\n",
        "2.self-attension polling : (128+1)128+(128+1)1=16512+129=16641\n",
        "\n",
        "4th change\n",
        "parameter number :\n",
        "1.MultiheadAttention : =\n",
        "d_model+1(bias) * d_query +\n",
        "d_model+1(bias) * d_key  +\n",
        "d_model+1(bias) * d_v   +\n",
        "d_v + 1(bias) * output_dim( = dmodel)\n",
        "= (128+1)128(3+1)= 16512\n",
        "\n",
        "five layers\n",
        "\n",
        "2.self-attension polling : (128+1)128+(128+1)1=16512+129=16641\n",
        "\n",
        "3.delete on Linear + ReLU layers = - (129*128) -0 = -16512\n"
      ]
    },
    {
      "cell_type": "code",
      "execution_count": 9,
      "metadata": {
        "id": "tUSxoANBMchs"
      },
      "outputs": [],
      "source": [
        "import math\n",
        "\n",
        "import torch\n",
        "from torch.optim import Optimizer\n",
        "from torch.optim.lr_scheduler import LambdaLR\n",
        "\n",
        "\n",
        "def get_cosine_schedule_with_warmup(\n",
        "  optimizer: Optimizer,\n",
        "  num_warmup_steps: int,\n",
        "  num_training_steps: int,\n",
        "  num_cycles: float = 0.5,\n",
        "  last_epoch: int = -1,\n",
        "):\n",
        "  \"\"\"\n",
        "  Create a schedule with a learning rate that decreases following the values of the cosine function between the\n",
        "  initial lr set in the optimizer to 0, after a warmup period during which it increases linearly between 0 and the\n",
        "  initial lr set in the optimizer.\n",
        "\n",
        "  Args:\n",
        "    optimizer (:class:`~torch.optim.Optimizer`):\n",
        "      The optimizer for which to schedule the learning rate.\n",
        "    num_warmup_steps (:obj:`int`):\n",
        "      The number of steps for the warmup phase.\n",
        "    num_training_steps (:obj:`int`):\n",
        "      The total number of training steps.\n",
        "    num_cycles (:obj:`float`, `optional`, defaults to 0.5):\n",
        "      The number of waves in the cosine schedule (the defaults is to just decrease from the max value to 0\n",
        "      following a half-cosine).\n",
        "    last_epoch (:obj:`int`, `optional`, defaults to -1):\n",
        "      The index of the last epoch when resuming training.\n",
        "\n",
        "  Return:\n",
        "    :obj:`torch.optim.lr_scheduler.LambdaLR` with the appropriate schedule.\n",
        "  \"\"\"\n",
        "\n",
        "  def lr_lambda(current_step):\n",
        "    # Warmup\n",
        "    if current_step < num_warmup_steps:\n",
        "      return float(current_step) / float(max(1, num_warmup_steps))\n",
        "    # decadence\n",
        "    # cosine angle\n",
        "    progress = float(current_step - num_warmup_steps) / float(\n",
        "      max(1, num_training_steps - num_warmup_steps)\n",
        "    )\n",
        "    return max(\n",
        "      0.0, 0.5 * (1.0 + math.cos(math.pi * float(num_cycles) * 2.0 * progress))\n",
        "    )\n",
        "\n",
        "  return LambdaLR(optimizer, lr_lambda, last_epoch)"
      ]
    },
    {
      "cell_type": "code",
      "execution_count": null,
      "metadata": {
        "id": "9o3hw_GcF1Jb"
      },
      "outputs": [],
      "source": [
        "#from torch.optim import AdamW\n",
        "#optimizer = AdamW(model.parameters(), lr=1e-3)\n",
        "\n",
        "#scheduler = get_cosine_schedule_with_warmup(optimizer, 1000, 70000)\n",
        "\n",
        "#print(type(scheduler.optimizer.param_groups)) #<class 'list'>\n",
        "#print(len(scheduler.optimizer.param_groups))  #1\n",
        "#print(type(scheduler.optimizer.param_groups[0])) #<class 'dict'>\n",
        "#print(scheduler.optimizer.param_groups[0].keys())\n",
        "#['params', 'lr', 'betas', 'eps', 'weight_decay', 'amsgrad', 'foreach',\n",
        "#'maximize', 'capturable', 'differentiable', 'fused', 'initial_lr']\n",
        "#print(scheduler.optimizer.param_groups[0]['params'])\n",
        "#[Parameter containing: tensor([[......],requires_grad=True)]\n",
        "#print(scheduler.optimizer.param_groups[0]['lr'])# 0.0\n",
        "#print(scheduler.optimizer.param_groups[0]['betas'])# (0.9, 0.999)\n",
        "#print(scheduler.optimizer.param_groups[0]['eps']) # 1e-08\n",
        "#print(scheduler.optimizer.param_groups[0]['weight_decay']) #0.01\n",
        "#print(scheduler.optimizer.param_groups[0]['amsgrad']) # False\n",
        "#print(scheduler.optimizer.param_groups[0]['foreach']) # None"
      ]
    },
    {
      "cell_type": "code",
      "execution_count": 10,
      "metadata": {
        "id": "yfDXw13q1ssm"
      },
      "outputs": [],
      "source": [
        "import torch\n",
        "\n",
        "\n",
        "def model_fn(batch, model, criterion, device):\n",
        "  \"\"\"Forward a batch through the model.\"\"\"\n",
        "\n",
        "  mels, labels = batch\n",
        "  mels = mels.to(device)\n",
        "  labels = labels.to(device)\n",
        "\n",
        "  outs = model(mels)\n",
        "\n",
        "  loss = criterion(outs, labels)\n",
        "\n",
        "  # Get the speaker id with highest probability.\n",
        "  preds = outs.argmax(1)\n",
        "  # Compute accuracy.\n",
        "  accuracy = torch.mean((preds == labels).float())\n",
        "\n",
        "  return loss, accuracy"
      ]
    },
    {
      "cell_type": "code",
      "execution_count": 11,
      "metadata": {
        "id": "959wMzs21wbz"
      },
      "outputs": [],
      "source": [
        "from tqdm import tqdm\n",
        "import torch\n",
        "\n",
        "\n",
        "def valid(dataloader, model, criterion, device):\n",
        "  \"\"\"Validate on validation set.\"\"\"\n",
        "\n",
        "  model.eval()\n",
        "  running_loss = 0.0\n",
        "  running_accuracy = 0.0\n",
        "  # Manually update the progress bar : step 1\n",
        "  # total length\n",
        "  pbar = tqdm(total=len(dataloader.dataset), ncols=0, desc=\"Valid\", unit=\" uttr\")\n",
        "  for i, batch in enumerate(dataloader):\n",
        "    with torch.no_grad():\n",
        "      loss, accuracy = model_fn(batch, model, criterion, device)\n",
        "      running_loss += loss.item()\n",
        "      running_accuracy += accuracy.item()\n",
        "    # Manually update the progress bar : step 2\n",
        "    # update each batch\n",
        "    pbar.update(dataloader.batch_size)\n",
        "    pbar.set_postfix(\n",
        "      loss=f\"{running_loss / (i+1):.2f}\",\n",
        "      accuracy=f\"{running_accuracy / (i+1):.2f}\",\n",
        "    )\n",
        "  # Manually update the progress bar : step 3\n",
        "  pbar.close()\n",
        "  model.train()\n",
        "\n",
        "  return running_accuracy / len(dataloader)\n"
      ]
    },
    {
      "cell_type": "code",
      "execution_count": null,
      "metadata": {
        "colab": {
          "base_uri": "https://localhost:8080/"
        },
        "id": "m7ckdrpl6_YW",
        "outputId": "545b0af6-71ee-49b8-e1ec-a7012569eaf8"
      },
      "outputs": [
        {
          "output_type": "stream",
          "name": "stdout",
          "text": [
            "[Info]: Use cuda now!\n",
            "[Info]: Finish loading data!\n",
            "[Info]: Finish creating model!\n"
          ]
        },
        {
          "output_type": "stream",
          "name": "stderr",
          "text": [
            "Train:   0% 2/2000 [00:09<2:15:07,  4.06s/ step, accuracy=0.00, loss=6.45, step=2]"
          ]
        },
        {
          "output_type": "stream",
          "name": "stdout",
          "text": [
            "average loss = 6.4315       average accuracy = 0.0000)\n"
          ]
        },
        {
          "output_type": "stream",
          "name": "stderr",
          "text": [
            "Train:  50% 1002/2000 [02:11<02:20,  7.09 step/s, accuracy=0.06, loss=5.02, step=1001]"
          ]
        },
        {
          "output_type": "stream",
          "name": "stdout",
          "text": [
            "average loss = 5.7777       average accuracy = 0.0316)\n"
          ]
        },
        {
          "output_type": "stream",
          "name": "stderr",
          "text": [
            "Train: 100% 2000/2000 [03:59<00:00,  8.34 step/s, accuracy=0.22, loss=4.15, step=2000]\n",
            "Valid: 100% 6944/6944 [00:21<00:00, 320.63 uttr/s, accuracy=0.09, loss=4.59]\n",
            "Train:   0% 1/2000 [00:00<03:17, 10.10 step/s, accuracy=0.16, loss=4.77, step=2001]"
          ]
        },
        {
          "output_type": "stream",
          "name": "stdout",
          "text": [
            "average loss = 4.8715       average accuracy = 0.0722)\n"
          ]
        },
        {
          "output_type": "stream",
          "name": "stderr",
          "text": [
            "Train:  50% 1001/2000 [01:32<01:47,  9.29 step/s, accuracy=0.12, loss=4.46, step=3001]"
          ]
        },
        {
          "output_type": "stream",
          "name": "stdout",
          "text": [
            "average loss = 4.5311       average accuracy = 0.0981)\n"
          ]
        },
        {
          "output_type": "stream",
          "name": "stderr",
          "text": [
            "Train: 100% 2000/2000 [03:15<00:00, 10.22 step/s, accuracy=0.12, loss=3.99, step=4000]\n",
            "Valid: 100% 6944/6944 [00:19<00:00, 350.16 uttr/s, accuracy=0.14, loss=4.17]\n",
            "Train:   0% 1/2000 [00:00<06:49,  4.88 step/s, accuracy=0.25, loss=3.95, step=4001]"
          ]
        },
        {
          "output_type": "stream",
          "name": "stdout",
          "text": [
            "Step 4000, best model saved. (accuracy=0.1377)\n",
            "average loss = 4.3282       average accuracy = 0.1205)\n"
          ]
        },
        {
          "output_type": "stream",
          "name": "stderr",
          "text": [
            "Train:  50% 1001/2000 [01:32<01:53,  8.80 step/s, accuracy=0.25, loss=4.29, step=5001]"
          ]
        },
        {
          "output_type": "stream",
          "name": "stdout",
          "text": [
            "average loss = 4.1734       average accuracy = 0.1410)\n"
          ]
        },
        {
          "output_type": "stream",
          "name": "stderr",
          "text": [
            "Train: 100% 2000/2000 [03:14<00:00, 10.29 step/s, accuracy=0.12, loss=4.12, step=6000]\n",
            "Valid: 100% 6944/6944 [00:21<00:00, 329.53 uttr/s, accuracy=0.19, loss=3.79]\n",
            "Train:   0% 2/2000 [00:00<03:45,  8.86 step/s, accuracy=0.28, loss=3.89, step=6002]"
          ]
        },
        {
          "output_type": "stream",
          "name": "stdout",
          "text": [
            "average loss = 4.0148       average accuracy = 0.1603)\n"
          ]
        },
        {
          "output_type": "stream",
          "name": "stderr",
          "text": [
            "Train:  50% 1001/2000 [01:39<02:07,  7.82 step/s, accuracy=0.16, loss=4.23, step=7001]"
          ]
        },
        {
          "output_type": "stream",
          "name": "stdout",
          "text": [
            "average loss = 3.9013       average accuracy = 0.1776)\n"
          ]
        },
        {
          "output_type": "stream",
          "name": "stderr",
          "text": [
            "Train: 100% 2000/2000 [03:23<00:00,  9.82 step/s, accuracy=0.22, loss=3.50, step=8000]\n",
            "Valid: 100% 6944/6944 [00:22<00:00, 315.62 uttr/s, accuracy=0.22, loss=3.61]\n",
            "Train:   0% 1/2000 [00:00<06:48,  4.89 step/s, accuracy=0.31, loss=3.72, step=8001]"
          ]
        },
        {
          "output_type": "stream",
          "name": "stdout",
          "text": [
            "Step 8000, best model saved. (accuracy=0.2200)\n",
            "average loss = 3.7828       average accuracy = 0.1969)\n"
          ]
        },
        {
          "output_type": "stream",
          "name": "stderr",
          "text": [
            "Train:  50% 1001/2000 [01:44<02:02,  8.12 step/s, accuracy=0.22, loss=3.61, step=9001]"
          ]
        },
        {
          "output_type": "stream",
          "name": "stdout",
          "text": [
            "average loss = 3.6997       average accuracy = 0.2084)\n"
          ]
        },
        {
          "output_type": "stream",
          "name": "stderr",
          "text": [
            "Train: 100% 2000/2000 [03:25<00:00,  9.71 step/s, accuracy=0.22, loss=3.43, step=1e+4]\n",
            "Valid: 100% 6944/6944 [00:21<00:00, 323.42 uttr/s, accuracy=0.26, loss=3.40]\n",
            "Train:   0% 2/2000 [00:00<04:13,  7.89 step/s, accuracy=0.12, loss=3.74, step=1e+4]"
          ]
        },
        {
          "output_type": "stream",
          "name": "stdout",
          "text": [
            "average loss = 3.6180       average accuracy = 0.2192)\n"
          ]
        },
        {
          "output_type": "stream",
          "name": "stderr",
          "text": [
            "Train:  50% 1001/2000 [01:43<02:20,  7.12 step/s, accuracy=0.31, loss=3.29, step=11001]"
          ]
        },
        {
          "output_type": "stream",
          "name": "stdout",
          "text": [
            "average loss = 3.5428       average accuracy = 0.2361)\n"
          ]
        },
        {
          "output_type": "stream",
          "name": "stderr",
          "text": [
            "Train: 100% 2000/2000 [03:23<00:00,  9.84 step/s, accuracy=0.34, loss=3.39, step=12000]\n",
            "Valid: 100% 6944/6944 [00:20<00:00, 332.76 uttr/s, accuracy=0.30, loss=3.23]\n",
            "Train:   0% 1/2000 [00:00<06:02,  5.51 step/s, accuracy=0.34, loss=3.10, step=12001]"
          ]
        },
        {
          "output_type": "stream",
          "name": "stdout",
          "text": [
            "Step 12000, best model saved. (accuracy=0.2982)\n",
            "average loss = 3.4671       average accuracy = 0.2473)\n"
          ]
        },
        {
          "output_type": "stream",
          "name": "stderr",
          "text": [
            "Train:  50% 1002/2000 [01:41<02:05,  7.93 step/s, accuracy=0.06, loss=4.03, step=13002]"
          ]
        },
        {
          "output_type": "stream",
          "name": "stdout",
          "text": [
            "average loss = 3.3873       average accuracy = 0.2583)\n"
          ]
        },
        {
          "output_type": "stream",
          "name": "stderr",
          "text": [
            "Train: 100% 2000/2000 [03:17<00:00, 10.12 step/s, accuracy=0.34, loss=3.01, step=14000]\n",
            "Valid: 100% 6944/6944 [00:21<00:00, 328.40 uttr/s, accuracy=0.30, loss=3.23]\n",
            "Train:   0% 2/2000 [00:00<05:04,  6.56 step/s, accuracy=0.22, loss=3.38, step=14002]"
          ]
        },
        {
          "output_type": "stream",
          "name": "stdout",
          "text": [
            "average loss = 3.3287       average accuracy = 0.2692)\n"
          ]
        },
        {
          "output_type": "stream",
          "name": "stderr",
          "text": [
            "Train:  50% 1002/2000 [01:42<02:21,  7.04 step/s, accuracy=0.38, loss=2.81, step=15002]"
          ]
        },
        {
          "output_type": "stream",
          "name": "stdout",
          "text": [
            "average loss = 3.2622       average accuracy = 0.2822)\n"
          ]
        },
        {
          "output_type": "stream",
          "name": "stderr",
          "text": [
            "Train: 100% 2000/2000 [03:18<00:00, 10.10 step/s, accuracy=0.28, loss=3.03, step=16000]\n",
            "Valid: 100% 6944/6944 [00:21<00:00, 321.54 uttr/s, accuracy=0.34, loss=2.99]\n",
            "Train:   0% 1/2000 [00:00<05:35,  5.96 step/s, accuracy=0.25, loss=3.31, step=16001]"
          ]
        },
        {
          "output_type": "stream",
          "name": "stdout",
          "text": [
            "Step 16000, best model saved. (accuracy=0.3361)\n",
            "average loss = 3.2143       average accuracy = 0.2906)\n"
          ]
        },
        {
          "output_type": "stream",
          "name": "stderr",
          "text": [
            "Train:  50% 1001/2000 [01:42<01:53,  8.79 step/s, accuracy=0.28, loss=3.28, step=17001]"
          ]
        },
        {
          "output_type": "stream",
          "name": "stdout",
          "text": [
            "average loss = 3.1452       average accuracy = 0.3019)\n"
          ]
        },
        {
          "output_type": "stream",
          "name": "stderr",
          "text": [
            "Train: 100% 2000/2000 [03:15<00:00, 10.22 step/s, accuracy=0.31, loss=3.21, step=18000]\n",
            "Valid: 100% 6944/6944 [00:21<00:00, 325.84 uttr/s, accuracy=0.34, loss=2.98]\n",
            "Train:   0% 1/2000 [00:00<03:39,  9.13 step/s, accuracy=0.38, loss=2.72, step=18001]"
          ]
        },
        {
          "output_type": "stream",
          "name": "stdout",
          "text": [
            "average loss = 3.0942       average accuracy = 0.3108)\n"
          ]
        },
        {
          "output_type": "stream",
          "name": "stderr",
          "text": [
            "Train:  50% 1001/2000 [01:45<02:02,  8.16 step/s, accuracy=0.16, loss=3.58, step=19001]"
          ]
        },
        {
          "output_type": "stream",
          "name": "stdout",
          "text": [
            "average loss = 3.0523       average accuracy = 0.3198)\n"
          ]
        },
        {
          "output_type": "stream",
          "name": "stderr",
          "text": [
            "Train: 100% 2000/2000 [03:19<00:00, 10.01 step/s, accuracy=0.28, loss=3.27, step=2e+4]\n",
            "Valid: 100% 6944/6944 [00:22<00:00, 314.22 uttr/s, accuracy=0.37, loss=2.87]\n",
            "Train:   0% 1/2000 [00:00<05:51,  5.68 step/s, accuracy=0.44, loss=2.68, step=2e+4]"
          ]
        },
        {
          "output_type": "stream",
          "name": "stdout",
          "text": [
            "Step 20000, best model saved. (accuracy=0.3674)\n",
            "average loss = 3.0017       average accuracy = 0.3275)\n"
          ]
        },
        {
          "output_type": "stream",
          "name": "stderr",
          "text": [
            "Train:  50% 1002/2000 [01:47<02:04,  8.04 step/s, accuracy=0.28, loss=3.12, step=21002]"
          ]
        },
        {
          "output_type": "stream",
          "name": "stdout",
          "text": [
            "average loss = 2.9746       average accuracy = 0.3351)\n"
          ]
        },
        {
          "output_type": "stream",
          "name": "stderr",
          "text": [
            "Train: 100% 2000/2000 [03:19<00:00, 10.04 step/s, accuracy=0.34, loss=2.71, step=22000]\n",
            "Valid: 100% 6944/6944 [00:22<00:00, 315.29 uttr/s, accuracy=0.37, loss=2.76]\n",
            "Train:   0% 2/2000 [00:00<05:13,  6.38 step/s, accuracy=0.44, loss=2.77, step=22002]"
          ]
        },
        {
          "output_type": "stream",
          "name": "stdout",
          "text": [
            "average loss = 2.9388       average accuracy = 0.3397)\n"
          ]
        },
        {
          "output_type": "stream",
          "name": "stderr",
          "text": [
            "Train:  50% 1001/2000 [01:49<01:52,  8.87 step/s, accuracy=0.41, loss=3.07, step=23001]"
          ]
        },
        {
          "output_type": "stream",
          "name": "stdout",
          "text": [
            "average loss = 2.9101       average accuracy = 0.3471)\n"
          ]
        },
        {
          "output_type": "stream",
          "name": "stderr",
          "text": [
            "Train: 100% 2000/2000 [03:21<00:00,  9.93 step/s, accuracy=0.28, loss=2.79, step=24000]\n",
            "Valid: 100% 6944/6944 [00:22<00:00, 315.16 uttr/s, accuracy=0.38, loss=2.75]\n",
            "Train:   0% 1/2000 [00:00<07:20,  4.54 step/s, accuracy=0.31, loss=3.52, step=24001]"
          ]
        },
        {
          "output_type": "stream",
          "name": "stdout",
          "text": [
            "Step 24000, best model saved. (accuracy=0.3846)\n",
            "average loss = 2.8649       average accuracy = 0.3576)\n"
          ]
        },
        {
          "output_type": "stream",
          "name": "stderr",
          "text": [
            "Train:  50% 1001/2000 [01:49<01:57,  8.49 step/s, accuracy=0.34, loss=2.78, step=25001]"
          ]
        },
        {
          "output_type": "stream",
          "name": "stdout",
          "text": [
            "average loss = 2.8383       average accuracy = 0.3604)\n"
          ]
        },
        {
          "output_type": "stream",
          "name": "stderr",
          "text": [
            "Train: 100% 2000/2000 [03:19<00:00, 10.03 step/s, accuracy=0.44, loss=2.22, step=26000]\n",
            "Valid: 100% 6944/6944 [00:22<00:00, 310.04 uttr/s, accuracy=0.40, loss=2.69]\n",
            "Train:   0% 2/2000 [00:00<05:17,  6.30 step/s, accuracy=0.41, loss=3.17, step=26002]"
          ]
        },
        {
          "output_type": "stream",
          "name": "stdout",
          "text": [
            "average loss = 2.7826       average accuracy = 0.3713)\n"
          ]
        },
        {
          "output_type": "stream",
          "name": "stderr",
          "text": [
            "Train:  50% 1002/2000 [01:50<02:08,  7.74 step/s, accuracy=0.47, loss=2.56, step=27002]"
          ]
        },
        {
          "output_type": "stream",
          "name": "stdout",
          "text": [
            "average loss = 2.7933       average accuracy = 0.3663)\n"
          ]
        },
        {
          "output_type": "stream",
          "name": "stderr",
          "text": [
            "Train: 100% 2000/2000 [03:20<00:00,  9.98 step/s, accuracy=0.22, loss=3.28, step=28000]\n",
            "Valid: 100% 6944/6944 [00:22<00:00, 309.19 uttr/s, accuracy=0.41, loss=2.61]\n",
            "Train:   0% 1/2000 [00:00<07:02,  4.74 step/s, accuracy=0.34, loss=2.84, step=28001]"
          ]
        },
        {
          "output_type": "stream",
          "name": "stdout",
          "text": [
            "Step 28000, best model saved. (accuracy=0.4140)\n",
            "average loss = 2.7386       average accuracy = 0.3755)\n"
          ]
        },
        {
          "output_type": "stream",
          "name": "stderr",
          "text": [
            "Train:  50% 1002/2000 [01:52<02:14,  7.42 step/s, accuracy=0.38, loss=2.77, step=29002]"
          ]
        },
        {
          "output_type": "stream",
          "name": "stdout",
          "text": [
            "average loss = 2.7245       average accuracy = 0.3831)\n"
          ]
        },
        {
          "output_type": "stream",
          "name": "stderr",
          "text": [
            "Train: 100% 2000/2000 [03:20<00:00,  9.99 step/s, accuracy=0.25, loss=3.62, step=3e+4]\n",
            "Valid: 100% 6944/6944 [00:22<00:00, 309.20 uttr/s, accuracy=0.41, loss=2.62]\n",
            "Train:   0% 2/2000 [00:00<04:45,  7.00 step/s, accuracy=0.34, loss=2.84, step=3e+4]"
          ]
        },
        {
          "output_type": "stream",
          "name": "stdout",
          "text": [
            "average loss = 2.6478       average accuracy = 0.3984)\n"
          ]
        },
        {
          "output_type": "stream",
          "name": "stderr",
          "text": [
            "Train:  50% 1001/2000 [01:48<02:00,  8.28 step/s, accuracy=0.34, loss=3.14, step=31001]"
          ]
        },
        {
          "output_type": "stream",
          "name": "stdout",
          "text": [
            "average loss = 2.6850       average accuracy = 0.3901)\n"
          ]
        },
        {
          "output_type": "stream",
          "name": "stderr",
          "text": [
            "Train: 100% 2000/2000 [03:16<00:00, 10.19 step/s, accuracy=0.34, loss=2.45, step=32000]\n",
            "Valid: 100% 6944/6944 [00:22<00:00, 308.91 uttr/s, accuracy=0.41, loss=2.61]\n",
            "Train:   0% 1/2000 [00:00<06:41,  4.98 step/s, accuracy=0.50, loss=2.26, step=32001]"
          ]
        },
        {
          "output_type": "stream",
          "name": "stdout",
          "text": [
            "Step 32000, best model saved. (accuracy=0.4149)\n",
            "average loss = 2.6452       average accuracy = 0.3964)\n"
          ]
        },
        {
          "output_type": "stream",
          "name": "stderr",
          "text": [
            "Train:  50% 1001/2000 [01:49<02:00,  8.26 step/s, accuracy=0.47, loss=2.72, step=33001]"
          ]
        },
        {
          "output_type": "stream",
          "name": "stdout",
          "text": [
            "average loss = 2.6131       average accuracy = 0.4050)\n"
          ]
        },
        {
          "output_type": "stream",
          "name": "stderr",
          "text": [
            "Train: 100% 2000/2000 [03:19<00:00, 10.00 step/s, accuracy=0.34, loss=2.99, step=34000]\n",
            "Valid: 100% 6944/6944 [00:22<00:00, 306.56 uttr/s, accuracy=0.45, loss=2.42]\n",
            "Train:   0% 1/2000 [00:00<04:01,  8.27 step/s, accuracy=0.38, loss=2.79, step=34001]"
          ]
        },
        {
          "output_type": "stream",
          "name": "stdout",
          "text": [
            "average loss = 2.5757       average accuracy = 0.4122)\n"
          ]
        },
        {
          "output_type": "stream",
          "name": "stderr",
          "text": [
            "Train:  50% 1001/2000 [01:51<01:57,  8.48 step/s, accuracy=0.44, loss=2.82, step=35001]"
          ]
        },
        {
          "output_type": "stream",
          "name": "stdout",
          "text": [
            "average loss = 2.5452       average accuracy = 0.4152)\n"
          ]
        },
        {
          "output_type": "stream",
          "name": "stderr",
          "text": [
            "Train: 100% 2000/2000 [03:19<00:00, 10.03 step/s, accuracy=0.47, loss=2.71, step=36000]\n",
            "Valid: 100% 6944/6944 [00:22<00:00, 304.36 uttr/s, accuracy=0.45, loss=2.38]\n",
            "Train:   0% 1/2000 [00:00<07:09,  4.65 step/s, accuracy=0.38, loss=2.59, step=36001]"
          ]
        },
        {
          "output_type": "stream",
          "name": "stdout",
          "text": [
            "Step 36000, best model saved. (accuracy=0.4522)\n",
            "average loss = 2.5412       average accuracy = 0.4152)\n"
          ]
        },
        {
          "output_type": "stream",
          "name": "stderr",
          "text": [
            "Train:  50% 1001/2000 [01:53<02:02,  8.13 step/s, accuracy=0.38, loss=3.05, step=37001]"
          ]
        },
        {
          "output_type": "stream",
          "name": "stdout",
          "text": [
            "average loss = 2.5204       average accuracy = 0.4198)\n"
          ]
        },
        {
          "output_type": "stream",
          "name": "stderr",
          "text": [
            "Train: 100% 2000/2000 [03:21<00:00,  9.95 step/s, accuracy=0.41, loss=2.31, step=38000]\n",
            "Valid: 100% 6944/6944 [00:23<00:00, 298.53 uttr/s, accuracy=0.46, loss=2.34]\n",
            "Train:   0% 1/2000 [00:00<04:25,  7.52 step/s, accuracy=0.47, loss=2.35, step=38001]"
          ]
        },
        {
          "output_type": "stream",
          "name": "stdout",
          "text": [
            "average loss = 2.4798       average accuracy = 0.4277)\n"
          ]
        },
        {
          "output_type": "stream",
          "name": "stderr",
          "text": [
            "Train:  50% 1001/2000 [01:52<01:49,  9.08 step/s, accuracy=0.44, loss=2.22, step=39001]"
          ]
        },
        {
          "output_type": "stream",
          "name": "stdout",
          "text": [
            "average loss = 2.4925       average accuracy = 0.4282)\n"
          ]
        },
        {
          "output_type": "stream",
          "name": "stderr",
          "text": [
            "Train: 100% 2000/2000 [03:21<00:00,  9.94 step/s, accuracy=0.47, loss=2.67, step=4e+4]\n",
            "Valid: 100% 6944/6944 [00:23<00:00, 299.83 uttr/s, accuracy=0.47, loss=2.34]\n",
            "Train:   0% 1/2000 [00:00<07:06,  4.69 step/s, accuracy=0.47, loss=2.41, step=4e+4]"
          ]
        },
        {
          "output_type": "stream",
          "name": "stdout",
          "text": [
            "Step 40000, best model saved. (accuracy=0.4685)\n",
            "average loss = 2.4462       average accuracy = 0.4364)\n"
          ]
        },
        {
          "output_type": "stream",
          "name": "stderr",
          "text": [
            "Train:  50% 1002/2000 [01:53<01:24, 11.78 step/s, accuracy=0.41, loss=2.60, step=41002]"
          ]
        },
        {
          "output_type": "stream",
          "name": "stdout",
          "text": [
            "average loss = 2.4589       average accuracy = 0.4363)\n"
          ]
        },
        {
          "output_type": "stream",
          "name": "stderr",
          "text": [
            "Train: 100% 2000/2000 [03:22<00:00,  9.89 step/s, accuracy=0.34, loss=3.23, step=42000]\n",
            "Valid: 100% 6944/6944 [00:22<00:00, 302.14 uttr/s, accuracy=0.47, loss=2.31]\n",
            "Train:   0% 1/2000 [00:00<04:14,  7.86 step/s, accuracy=0.34, loss=2.91, step=42001]"
          ]
        },
        {
          "output_type": "stream",
          "name": "stdout",
          "text": [
            "average loss = 2.4068       average accuracy = 0.4420)\n"
          ]
        },
        {
          "output_type": "stream",
          "name": "stderr",
          "text": [
            "Train:  50% 1002/2000 [01:48<01:10, 14.09 step/s, accuracy=0.53, loss=2.17, step=43002]"
          ]
        },
        {
          "output_type": "stream",
          "name": "stdout",
          "text": [
            "average loss = 2.4004       average accuracy = 0.4469)\n"
          ]
        },
        {
          "output_type": "stream",
          "name": "stderr",
          "text": [
            "Train: 100% 2000/2000 [03:16<00:00, 10.17 step/s, accuracy=0.34, loss=2.66, step=44000]\n",
            "Valid: 100% 6944/6944 [00:22<00:00, 310.41 uttr/s, accuracy=0.48, loss=2.28]\n",
            "Train:   0% 1/2000 [00:00<07:27,  4.47 step/s, accuracy=0.38, loss=2.62, step=44001]"
          ]
        },
        {
          "output_type": "stream",
          "name": "stdout",
          "text": [
            "Step 44000, best model saved. (accuracy=0.4772)\n",
            "average loss = 2.3683       average accuracy = 0.4508)\n"
          ]
        },
        {
          "output_type": "stream",
          "name": "stderr",
          "text": [
            "Train:  50% 1001/2000 [01:48<01:25, 11.62 step/s, accuracy=0.28, loss=2.74, step=45001]"
          ]
        },
        {
          "output_type": "stream",
          "name": "stdout",
          "text": [
            "average loss = 2.3666       average accuracy = 0.4533)\n"
          ]
        },
        {
          "output_type": "stream",
          "name": "stderr",
          "text": [
            "Train: 100% 2000/2000 [03:19<00:00, 10.05 step/s, accuracy=0.47, loss=1.86, step=46000]\n",
            "Valid: 100% 6944/6944 [00:22<00:00, 305.99 uttr/s, accuracy=0.49, loss=2.23]\n",
            "Train:   0% 2/2000 [00:00<05:46,  5.77 step/s, accuracy=0.53, loss=2.08, step=46001]"
          ]
        },
        {
          "output_type": "stream",
          "name": "stdout",
          "text": [
            "average loss = 2.3344       average accuracy = 0.4577)\n"
          ]
        },
        {
          "output_type": "stream",
          "name": "stderr",
          "text": [
            "Train:  50% 1002/2000 [01:46<01:31, 10.86 step/s, accuracy=0.66, loss=1.81, step=47002]"
          ]
        },
        {
          "output_type": "stream",
          "name": "stdout",
          "text": [
            "average loss = 2.3406       average accuracy = 0.4549)\n"
          ]
        },
        {
          "output_type": "stream",
          "name": "stderr",
          "text": [
            "Train: 100% 2000/2000 [03:17<00:00, 10.12 step/s, accuracy=0.41, loss=2.32, step=48000]\n",
            "Valid: 100% 6944/6944 [00:22<00:00, 311.50 uttr/s, accuracy=0.50, loss=2.19]\n",
            "Train:   0% 1/2000 [00:00<07:45,  4.29 step/s, accuracy=0.62, loss=1.80, step=48001]"
          ]
        },
        {
          "output_type": "stream",
          "name": "stdout",
          "text": [
            "Step 48000, best model saved. (accuracy=0.4963)\n",
            "average loss = 2.2950       average accuracy = 0.4678)\n"
          ]
        },
        {
          "output_type": "stream",
          "name": "stderr",
          "text": [
            "Train:  50% 1001/2000 [01:41<01:15, 13.29 step/s, accuracy=0.38, loss=2.55, step=49001]"
          ]
        },
        {
          "output_type": "stream",
          "name": "stdout",
          "text": [
            "average loss = 2.3029       average accuracy = 0.4643)\n"
          ]
        },
        {
          "output_type": "stream",
          "name": "stderr",
          "text": [
            "Train: 100% 2000/2000 [03:14<00:00, 10.27 step/s, accuracy=0.38, loss=2.09, step=5e+4]\n",
            "Valid: 100% 6944/6944 [00:22<00:00, 304.93 uttr/s, accuracy=0.50, loss=2.17]\n",
            "Train:   0% 1/2000 [00:00<04:49,  6.90 step/s, accuracy=0.56, loss=1.91, step=5e+4]"
          ]
        },
        {
          "output_type": "stream",
          "name": "stdout",
          "text": [
            "average loss = 2.2570       average accuracy = 0.4728)\n"
          ]
        },
        {
          "output_type": "stream",
          "name": "stderr",
          "text": [
            "Train:  50% 1002/2000 [01:42<01:15, 13.26 step/s, accuracy=0.44, loss=2.06, step=51002]"
          ]
        },
        {
          "output_type": "stream",
          "name": "stdout",
          "text": [
            "average loss = 2.2798       average accuracy = 0.4728)\n"
          ]
        },
        {
          "output_type": "stream",
          "name": "stderr",
          "text": [
            "Train: 100% 2000/2000 [03:16<00:00, 10.16 step/s, accuracy=0.50, loss=1.92, step=52000]\n",
            "Valid: 100% 6944/6944 [00:22<00:00, 311.60 uttr/s, accuracy=0.49, loss=2.18]\n",
            "Train:   0% 1/2000 [00:00<07:41,  4.34 step/s, accuracy=0.56, loss=1.93, step=52001]"
          ]
        },
        {
          "output_type": "stream",
          "name": "stdout",
          "text": [
            "Step 52000, best model saved. (accuracy=0.4987)\n",
            "average loss = 2.2313       average accuracy = 0.4798)\n"
          ]
        },
        {
          "output_type": "stream",
          "name": "stderr",
          "text": [
            "Train:  50% 1002/2000 [01:39<01:36, 10.37 step/s, accuracy=0.47, loss=2.02, step=53002]"
          ]
        },
        {
          "output_type": "stream",
          "name": "stdout",
          "text": [
            "average loss = 2.2364       average accuracy = 0.4800)\n"
          ]
        },
        {
          "output_type": "stream",
          "name": "stderr",
          "text": [
            "Train: 100% 2000/2000 [03:15<00:00, 10.22 step/s, accuracy=0.47, loss=2.92, step=54000]\n",
            "Valid: 100% 6944/6944 [00:22<00:00, 310.51 uttr/s, accuracy=0.50, loss=2.21]\n",
            "Train:   0% 1/2000 [00:00<04:09,  8.01 step/s, accuracy=0.44, loss=2.11, step=54001]"
          ]
        },
        {
          "output_type": "stream",
          "name": "stdout",
          "text": [
            "average loss = 2.2119       average accuracy = 0.4796)\n"
          ]
        },
        {
          "output_type": "stream",
          "name": "stderr",
          "text": [
            "Train:  50% 1001/2000 [01:38<01:24, 11.86 step/s, accuracy=0.53, loss=1.95, step=55001]"
          ]
        },
        {
          "output_type": "stream",
          "name": "stdout",
          "text": [
            "average loss = 2.2309       average accuracy = 0.4813)\n"
          ]
        },
        {
          "output_type": "stream",
          "name": "stderr",
          "text": [
            "Train: 100% 2000/2000 [03:17<00:00, 10.14 step/s, accuracy=0.44, loss=2.69, step=56000]\n",
            "Valid: 100% 6944/6944 [00:23<00:00, 299.73 uttr/s, accuracy=0.52, loss=2.11]\n",
            "Train:   0% 1/2000 [00:00<07:41,  4.33 step/s, accuracy=0.59, loss=1.84, step=56001]"
          ]
        },
        {
          "output_type": "stream",
          "name": "stdout",
          "text": [
            "Step 56000, best model saved. (accuracy=0.5181)\n",
            "average loss = 2.1709       average accuracy = 0.4946)\n"
          ]
        },
        {
          "output_type": "stream",
          "name": "stderr",
          "text": [
            "Train:  50% 1002/2000 [01:39<01:23, 12.02 step/s, accuracy=0.44, loss=1.87, step=57002]"
          ]
        },
        {
          "output_type": "stream",
          "name": "stdout",
          "text": [
            "average loss = 2.1697       average accuracy = 0.4940)\n"
          ]
        },
        {
          "output_type": "stream",
          "name": "stderr",
          "text": [
            "Train: 100% 2000/2000 [03:20<00:00,  9.97 step/s, accuracy=0.47, loss=1.91, step=58000]\n",
            "Valid: 100% 6944/6944 [00:22<00:00, 305.33 uttr/s, accuracy=0.52, loss=2.06]\n",
            "Train:   0% 2/2000 [00:00<05:34,  5.97 step/s, accuracy=0.50, loss=2.36, step=58001]"
          ]
        },
        {
          "output_type": "stream",
          "name": "stdout",
          "text": [
            "average loss = 2.1426       average accuracy = 0.4953)\n"
          ]
        },
        {
          "output_type": "stream",
          "name": "stderr",
          "text": [
            "Train:  50% 1002/2000 [01:39<01:41,  9.88 step/s, accuracy=0.47, loss=2.35, step=59002]"
          ]
        },
        {
          "output_type": "stream",
          "name": "stdout",
          "text": [
            "average loss = 2.1456       average accuracy = 0.4963)\n"
          ]
        },
        {
          "output_type": "stream",
          "name": "stderr",
          "text": [
            "Train: 100% 2000/2000 [03:20<00:00,  9.98 step/s, accuracy=0.50, loss=2.17, step=6e+4]\n",
            "Valid: 100% 6944/6944 [00:22<00:00, 310.83 uttr/s, accuracy=0.53, loss=2.04]\n",
            "Train:   0% 1/2000 [00:00<06:44,  4.94 step/s, accuracy=0.50, loss=2.34, step=6e+4]"
          ]
        },
        {
          "output_type": "stream",
          "name": "stdout",
          "text": [
            "Step 60000, best model saved. (accuracy=0.5300)\n",
            "average loss = 2.1123       average accuracy = 0.5025)\n"
          ]
        },
        {
          "output_type": "stream",
          "name": "stderr",
          "text": [
            "Train:  50% 1002/2000 [01:37<01:43,  9.64 step/s, accuracy=0.62, loss=1.80, step=61002]"
          ]
        },
        {
          "output_type": "stream",
          "name": "stdout",
          "text": [
            "average loss = 2.0936       average accuracy = 0.5067)\n"
          ]
        },
        {
          "output_type": "stream",
          "name": "stderr",
          "text": [
            "Train: 100% 2000/2000 [03:21<00:00,  9.94 step/s, accuracy=0.47, loss=2.36, step=62000]\n",
            "Valid: 100% 6944/6944 [00:21<00:00, 316.72 uttr/s, accuracy=0.52, loss=2.05]\n",
            "Train:   0% 1/2000 [00:00<04:15,  7.83 step/s, accuracy=0.75, loss=1.64, step=62001]"
          ]
        },
        {
          "output_type": "stream",
          "name": "stdout",
          "text": [
            "average loss = 2.1101       average accuracy = 0.5037)\n"
          ]
        },
        {
          "output_type": "stream",
          "name": "stderr",
          "text": [
            "Train:  50% 1001/2000 [01:35<01:32, 10.76 step/s, accuracy=0.53, loss=1.94, step=63001]"
          ]
        },
        {
          "output_type": "stream",
          "name": "stdout",
          "text": [
            "average loss = 2.0801       average accuracy = 0.5104)\n"
          ]
        },
        {
          "output_type": "stream",
          "name": "stderr",
          "text": [
            "Train: 100% 2000/2000 [03:19<00:00, 10.01 step/s, accuracy=0.50, loss=1.96, step=64000]\n",
            "Valid: 100% 6944/6944 [00:22<00:00, 314.61 uttr/s, accuracy=0.55, loss=1.96]\n",
            "Train:   0% 1/2000 [00:00<06:37,  5.02 step/s, accuracy=0.59, loss=1.73, step=64001]"
          ]
        },
        {
          "output_type": "stream",
          "name": "stdout",
          "text": [
            "Step 64000, best model saved. (accuracy=0.5458)\n",
            "average loss = 2.0779       average accuracy = 0.5086)\n"
          ]
        },
        {
          "output_type": "stream",
          "name": "stderr",
          "text": [
            "Train:  50% 1002/2000 [01:36<01:36, 10.34 step/s, accuracy=0.59, loss=2.10, step=65002]"
          ]
        },
        {
          "output_type": "stream",
          "name": "stdout",
          "text": [
            "average loss = 2.0462       average accuracy = 0.5183)\n"
          ]
        },
        {
          "output_type": "stream",
          "name": "stderr",
          "text": [
            "Train: 100% 2000/2000 [03:21<00:00,  9.95 step/s, accuracy=0.53, loss=1.94, step=66000]\n",
            "Valid: 100% 6944/6944 [00:22<00:00, 314.49 uttr/s, accuracy=0.53, loss=2.01]\n",
            "Train:   0% 1/2000 [00:00<04:53,  6.82 step/s, accuracy=0.59, loss=1.82, step=66001]"
          ]
        },
        {
          "output_type": "stream",
          "name": "stdout",
          "text": [
            "average loss = 2.0491       average accuracy = 0.5180)\n"
          ]
        },
        {
          "output_type": "stream",
          "name": "stderr",
          "text": [
            "Train:  44% 889/2000 [01:24<01:34, 11.80 step/s, accuracy=0.41, loss=2.29, step=66889]"
          ]
        }
      ],
      "source": [
        "from tqdm import tqdm\n",
        "\n",
        "import torch\n",
        "import torch.nn as nn\n",
        "from torch.optim import AdamW\n",
        "from torch.utils.data import DataLoader, random_split\n",
        "\n",
        "\n",
        "# def parse_args():\n",
        "#   \"\"\"arguments\"\"\"\n",
        "#   config = {\n",
        "#     \"data_dir\": \"/content/Dataset\",\n",
        "#     \"save_path\": \"model.ckpt\",\n",
        "#     \"batch_size\": 32,\n",
        "#     \"n_workers\": 8,\n",
        "#     \"valid_steps\": 2000,\n",
        "#     \"warmup_steps\": 1000,\n",
        "#     \"save_steps\": 10000,\n",
        "#     \"total_steps\": 70000,\n",
        "#   }\n",
        "\n",
        "#   return config\n",
        "\n",
        "\n",
        "def main(\n",
        "  data_dir,\n",
        "  save_path,\n",
        "  batch_size,\n",
        "  n_workers,\n",
        "  valid_steps,\n",
        "  warmup_steps,\n",
        "  total_steps,\n",
        "  save_steps,\n",
        "):\n",
        "  \"\"\"Main function.\"\"\"\n",
        "  device = torch.device(\"cuda\" if torch.cuda.is_available() else \"cpu\")\n",
        "  print(f\"[Info]: Use {device} now!\")\n",
        "\n",
        "  train_loader, valid_loader, speaker_num = get_dataloader(data_dir, batch_size, n_workers)\n",
        "  train_iterator = iter(train_loader)\n",
        "  print(f\"[Info]: Finish loading data!\",flush = True)\n",
        "\n",
        "  model = Classifier(n_spks=speaker_num).to(device)\n",
        "  #model.load_state_dict(torch.load(save_path))\n",
        "  criterion = nn.CrossEntropyLoss()\n",
        "  optimizer = AdamW(model.parameters(), lr=1e-3)\n",
        "  scheduler = get_cosine_schedule_with_warmup(optimizer, warmup_steps, total_steps)\n",
        "  print(f\"[Info]: Finish creating model!\",flush = True)\n",
        "\n",
        "  best_accuracy = -1.0\n",
        "  best_state_dict = None\n",
        "  # pbar has total 2000 step\n",
        "  pbar = tqdm(total=valid_steps, ncols=0, desc=\"Train\", unit=\" step\")\n",
        "  # print train loss and accuracy every 1000 step\n",
        "\n",
        "  loss_acc_list = []\n",
        "\n",
        "  for step in range(total_steps):\n",
        "    # Get data\n",
        "    try:\n",
        "      batch = next(train_iterator)\n",
        "    except StopIteration:\n",
        "      train_iterator = iter(train_loader)\n",
        "      batch = next(train_iterator)\n",
        "\n",
        "    loss, accuracy = model_fn(batch, model, criterion, device)\n",
        "    batch_loss = loss.item()\n",
        "    batch_accuracy = accuracy.item()\n",
        "\n",
        "    # Updata model\n",
        "    loss.backward()\n",
        "    optimizer.step()\n",
        "    scheduler.step()\n",
        "    optimizer.zero_grad()\n",
        "    # print train loss acc\n",
        "    loss_acc_list.append((loss, accuracy))\n",
        "    print_loss , print_acc = list(zip(*loss_acc_list))\n",
        "    if step % 1000 == 0:\n",
        "      print(f\"average loss = {sum(print_loss)/len(print_loss):.4f} \\\n",
        "      average accuracy = {sum(print_acc)/len(print_acc):.4f})\")\n",
        "      loss_acc_list = []\n",
        "\n",
        "    # Log\n",
        "    # update each step (as total)\n",
        "    pbar.update()\n",
        "    pbar.set_postfix(\n",
        "      loss=f\"{batch_loss:.2f}\",\n",
        "      accuracy=f\"{batch_accuracy:.2f}\",\n",
        "      step=step + 1,\n",
        "    )\n",
        "\n",
        "    # Do validation\n",
        "    # valid each 2000 step\n",
        "    if (step + 1) % valid_steps == 0:\n",
        "      #close above pbar\n",
        "      pbar.close()\n",
        "\n",
        "      valid_accuracy = valid(valid_loader, model, criterion, device)\n",
        "\n",
        "      # keep the best model\n",
        "      if valid_accuracy > best_accuracy:\n",
        "        best_accuracy = valid_accuracy\n",
        "        best_state_dict = model.state_dict()\n",
        "      # new pbar has total 2000 step\n",
        "      pbar = tqdm(total=valid_steps, ncols=0, desc=\"Train\", unit=\" step\")\n",
        "\n",
        "    # Save the best model so far.\n",
        "    if (step + 1) % save_steps == 0 and best_state_dict is not None:\n",
        "      torch.save(best_state_dict, save_path)\n",
        "      pbar.write(f\"Step {step + 1}, best model saved. (accuracy={best_accuracy:.4f})\")\n",
        "\n",
        "  pbar.close()\n",
        "\n",
        "\n",
        "if __name__ == \"__main__\":\n",
        "  main(**parse_args())"
      ]
    },
    {
      "cell_type": "markdown",
      "metadata": {
        "id": "0ZnUtE246AXm"
      },
      "source": [
        "##### original : val acc = 68%\n",
        "##### d_model 128 , multihead 1\n",
        "##### train acc = 80% , val acc = 73%\n",
        "\n",
        "##### TransformerEncoder layer : 1 -> 4\n",
        "##### Step : 70000 -> 100000\n",
        "##### train acc = 92% , val acc = 83%\n",
        "\n",
        "##### TransformerEncoder layer : 1 -> 4\n",
        "##### stat pooling -> self attention pooling\n",
        "##### Step : 100000 -> 120000\n",
        "##### train acc = 95% , val acc = 86%\n",
        "\n",
        "##### TransformerEncoder layer : 1 -> 5\n",
        "##### stat pooling -> self attention pooling\n",
        "##### prep layer : only keep last layer\n",
        "##### Step : 70000 -> 56000(imcomplete)\n",
        "##### train acc = 90% , val acc = 83%(imcomplete)\n",
        "\n",
        "##### ConformerEncoder layer : 4\n",
        "##### multihead 1 -> 2\n",
        "##### stat pooling -> self attention pooling\n",
        "##### prep layer : only keep last layer\n",
        "##### train acc = 57% , val acc = 62%"
      ]
    },
    {
      "cell_type": "code",
      "execution_count": null,
      "metadata": {
        "id": "ED3v3VUxUHDM"
      },
      "outputs": [],
      "source": [
        "import os\n",
        "import json\n",
        "import torch\n",
        "from pathlib import Path\n",
        "from torch.utils.data import Dataset\n",
        "\n",
        "\n",
        "class InferenceDataset(Dataset):\n",
        "  def __init__(self, data_dir):\n",
        "    # using / to merge path\n",
        "    testdata_path = Path(data_dir) / \"testdata.json\"\n",
        "    metadata = json.load(testdata_path.open())\n",
        "    self.data_dir = data_dir\n",
        "    #\n",
        "    self.data = metadata[\"utterances\"]\n",
        "\n",
        "  def __len__(self):\n",
        "    return len(self.data)\n",
        "\n",
        "  def __getitem__(self, index):\n",
        "    utterance = self.data[index]\n",
        "    feat_path = utterance[\"feature_path\"]\n",
        "    mel = torch.load(os.path.join(self.data_dir, feat_path))\n",
        "    # compare : when we load training set, we use append to concate datas\n",
        "    return feat_path, mel\n",
        "\n",
        "\n",
        "def inference_collate_batch(batch):\n",
        "  \"\"\"Collate a batch of data.\"\"\"\n",
        "  feat_paths, mels = zip(*batch)\n",
        "\n",
        "  return feat_paths, torch.stack(mels)"
      ]
    },
    {
      "cell_type": "code",
      "execution_count": null,
      "metadata": {
        "id": "WGfTSJDtUYPB"
      },
      "outputs": [],
      "source": [
        "import json\n",
        "import csv\n",
        "from pathlib import Path\n",
        "from tqdm.notebook import tqdm\n",
        "\n",
        "import torch\n",
        "from torch.utils.data import DataLoader\n",
        "\n",
        "def parse_args():\n",
        "  \"\"\"arguments\"\"\"\n",
        "  config = {\n",
        "    \"data_dir\": \"./Dataset\",\n",
        "    \"model_path\": \"./model.ckpt\",\n",
        "    \"output_path\": \"./output.csv\",\n",
        "  }\n",
        "\n",
        "  return config\n",
        "\n",
        "\n",
        "def main(\n",
        "  data_dir,\n",
        "  model_path,\n",
        "  output_path,\n",
        "):\n",
        "  \"\"\"Main function.\"\"\"\n",
        "  device = torch.device(\"cuda\" if torch.cuda.is_available() else \"cpu\")\n",
        "  print(f\"[Info]: Use {device} now!\")\n",
        "\n",
        "  mapping_path = Path(data_dir) / \"mapping.json\"\n",
        "  mapping = json.load(mapping_path.open())\n",
        "\n",
        "  dataset = InferenceDataset(data_dir)\n",
        "  dataloader = DataLoader(\n",
        "    dataset,\n",
        "    batch_size=1,\n",
        "    shuffle=False,\n",
        "    drop_last=False,\n",
        "    num_workers=8,\n",
        "    collate_fn=inference_collate_batch,\n",
        "  )\n",
        "  print(f\"[Info]: Finish loading data!\",flush = True)\n",
        "\n",
        "  speaker_num = len(mapping[\"id2speaker\"])\n",
        "  model = Classifier(n_spks=speaker_num).to(device)\n",
        "  model.load_state_dict(torch.load(model_path))\n",
        "  model.eval()\n",
        "  print(f\"[Info]: Finish creating model!\",flush = True)\n",
        "\n",
        "  results = [[\"Id\", \"Category\"]]\n",
        "  for feat_paths, mels in tqdm(dataloader):\n",
        "    with torch.no_grad():\n",
        "      mels = mels.to(device)\n",
        "      outs = model(mels)\n",
        "      preds = outs.argmax(1).cpu().numpy()\n",
        "      # zip from two list to a sequence of tuples\n",
        "      # preds is a numpy array whose elements are int numbers\n",
        "      for feat_path, pred in zip(feat_paths, preds):\n",
        "        # mapping[\"id2speaker\"] = {\"0\": \"id10001\", ......'599':  'id11251'}])\n",
        "        results.append([feat_path, mapping[\"id2speaker\"][str(pred)]])\n",
        "\n",
        "  with open(output_path, 'w', newline='') as csvfile:\n",
        "    writer = csv.writer(csvfile)\n",
        "    writer.writerows(results)\n",
        "\n",
        "\n",
        "if __name__ == \"__main__\":\n",
        "  main(**parse_args())\n"
      ]
    },
    {
      "cell_type": "code",
      "execution_count": null,
      "metadata": {
        "id": "nuDMfXVo9mD-"
      },
      "outputs": [],
      "source": [
        "# class MyLinearLayer(nn.Module):\n",
        "#     \"\"\" Custom Linear layer but mimics a standard linear layer \"\"\"\n",
        "#     def __init__(self, size_in, size_out):\n",
        "#         super().__init__()\n",
        "#         self.size_in, self.size_out = size_in, size_out\n",
        "#         weights = torch.Tensor(size_out, size_in)\n",
        "#         self.weights = nn.Parameter(weights)  # nn.Parameter is a Tensor that's a module parameter.\n",
        "#         bias = torch.Tensor(size_out)\n",
        "#         self.bias = nn.Parameter(bias)\n",
        "\n",
        "#         # initialize weights and biases\n",
        "#         nn.init.kaiming_uniform_(self.weights, a=math.sqrt(5)) # weight init\n",
        "#         fan_in, _ = nn.init._calculate_fan_in_and_fan_out(self.weights)\n",
        "#         bound = 1 / math.sqrt(fan_in)\n",
        "#         nn.init.uniform_(self.bias, -bound, bound)  # bias init\n",
        "\n",
        "#     def forward(self, x):\n",
        "#         w_times_x= torch.mm(x, self.weights.t())\n",
        "#         return torch.add(w_times_x, self.bias)  # w times x + b\n",
        "# class MyLinear(nn.Module):\n",
        "#     def __init__(self, in_units, units):\n",
        "#         super().__init__()\n",
        "#         self.weight = nn.Parameter(torch.randn(in_units, units))\n",
        "#         self.bias = nn.Parameter(torch.randn(units,))\n",
        "\n",
        "#     def forward(self, X):\n",
        "#         linear = torch.matmul(X, self.weight.data) + self.bias.data\n",
        "#         return F.relu(linear)\n",
        "# class NoisyLinear(T.nn.Module):\n",
        "#   def __init__(self, n_in, n_out):\n",
        "#     super().__init__()\n",
        "#     self.n_in, self.n_out = n_in, n_out\n",
        "\n",
        "#     self.weights = T.nn.Parameter(T.zeros((n_out, n_in),\n",
        "#       dtype=T.float32))\n",
        "#     self.bias = T.nn.Parameter(T.tensor(n_out,\n",
        "#       dtype=T.float32))\n",
        "#     self.lo = 0.90; self.hi = 0.98  # noise\n",
        "\n",
        "#     lim = 0.01  # initialize weights and bias\n",
        "#     T.nn.init.uniform_(self.weights, -lim, +lim)\n",
        "#     T.nn.init.uniform_(self.bias, -lim, +lim)\n",
        "\n",
        "#   def forward(self, x):\n",
        "#     wx= T.mm(x, self.weights.t())\n",
        "#     rnd = (self.hi - self.lo) * T.rand(1) + self.lo\n",
        "#     return rnd * T.add(wx, self.bias)  # wts * x + bias\n",
        "# class PrintLayer(nn.Module):\n",
        "#     def __init__(self):\n",
        "#         super(PrintLayer, self).__init__()\n",
        "\n",
        "#     def forward(self, x):\n",
        "#         # Do your print / debug stuff here\n",
        "#         print(x)\n",
        "#         return x"
      ]
    }
  ],
  "metadata": {
    "colab": {
      "provenance": [],
      "gpuType": "T4",
      "include_colab_link": true
    },
    "kernelspec": {
      "display_name": "Python 3",
      "name": "python3"
    },
    "language_info": {
      "codemirror_mode": {
        "name": "ipython",
        "version": 3
      },
      "file_extension": ".py",
      "mimetype": "text/x-python",
      "name": "python",
      "nbconvert_exporter": "python",
      "pygments_lexer": "ipython3",
      "version": "3.11.5"
    },
    "accelerator": "GPU"
  },
  "nbformat": 4,
  "nbformat_minor": 0
}