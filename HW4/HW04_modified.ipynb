{
  "cells": [
    {
      "cell_type": "markdown",
      "metadata": {
        "id": "view-in-github",
        "colab_type": "text"
      },
      "source": [
        "<a href=\"https://colab.research.google.com/github/Shopping-Yuan/ML2021HW/blob/Shopping_vscode_branch/HW4/HW04_modified.ipynb\" target=\"_parent\"><img src=\"https://colab.research.google.com/assets/colab-badge.svg\" alt=\"Open In Colab\"/></a>"
      ]
    },
    {
      "cell_type": "code",
      "execution_count": null,
      "metadata": {
        "colab": {
          "base_uri": "https://localhost:8080/"
        },
        "id": "Z1cauo_ypX7F",
        "outputId": "4e9426f7-50b5-4b5a-fa86-137e7ec6d202"
      },
      "outputs": [
        {
          "output_type": "stream",
          "name": "stdout",
          "text": [
            "Mounted at /content/drive\n"
          ]
        }
      ],
      "source": [
        "from google.colab import drive\n",
        "drive.mount('/content/drive')"
      ]
    },
    {
      "cell_type": "code",
      "execution_count": null,
      "metadata": {
        "id": "rEgX4ezzB7SQ"
      },
      "outputs": [],
      "source": [
        "import shutil\n",
        "shutil.copyfile('/content/drive/MyDrive/Dataset.zip','/content/Dataset.zip')\n",
        "\n",
        "import zipfile\n",
        "with zipfile.ZipFile('/content/Dataset.zip','r') as zip_ref:\n",
        "  zip_ref.extractall('/content/')"
      ]
    },
    {
      "cell_type": "code",
      "execution_count": null,
      "metadata": {
        "id": "mfFqQ-KmrJGy"
      },
      "outputs": [],
      "source": [
        "def parse_args():\n",
        "  \"\"\"arguments\"\"\"\n",
        "  config = {\n",
        "#    \"data_dir\": \"/content/Dataset\",\n",
        "    \"data_dir\": \"./Dataset\",\n",
        "    \"save_path\": \"model.ckpt\",\n",
        "    \"batch_size\": 32,\n",
        "    \"n_workers\": 0,\n",
        "    \"valid_steps\": 2000,\n",
        "    \"warmup_steps\": 1000,\n",
        "    \"save_steps\": 4000,\n",
        "    \"total_steps\": 70000,\n",
        "  }\n",
        "\n",
        "  return config"
      ]
    },
    {
      "cell_type": "markdown",
      "metadata": {
        "id": "zWDKfQCSrx2D"
      },
      "source": [
        "#Dataset"
      ]
    },
    {
      "cell_type": "code",
      "execution_count": null,
      "metadata": {
        "id": "33lkzQf43DNb"
      },
      "outputs": [],
      "source": [
        "import os\n",
        "import json\n",
        "import torch\n",
        "import random\n",
        "from pathlib import Path\n",
        "from torch.utils.data import Dataset\n",
        "from torch.nn.utils.rnn import pad_sequence\n",
        "\n",
        "\n",
        "class myDataset(Dataset):\n",
        "  def __init__(self, data_dir, segment_len=128):\n",
        "    self.data_dir = data_dir\n",
        "    self.segment_len = segment_len\n",
        "\n",
        "    # Load the mapping from speaker neme to their corresponding id.\n",
        "    # Path package can use / to join path\n",
        "    #part 1-1\n",
        "    mapping_path = Path(data_dir) / \"mapping.json\"\n",
        "    mapping = json.load(mapping_path.open())\n",
        "    self.speaker2id = mapping[\"speaker2id\"]\n",
        "    #self.speaker2id = {'id10001': 0, 'id10005': 1, ...... 'id11247': 598, 'id11251': 599}\n",
        "\n",
        "    #part 1-2\n",
        "    # Load metadata of training data.\n",
        "    metadata_path = Path(data_dir) / \"metadata.json\"\n",
        "    metadata = json.load(open(metadata_path))[\"speakers\"]\n",
        "\n",
        "    # Get the total number of speaker.\n",
        "    self.speaker_num = len(metadata.keys())\n",
        "    self.data = []\n",
        "    for speaker in metadata.keys():\n",
        "    #['id10473', 'id10328', 'id10382',......'id10864']\n",
        "      for utterances in metadata[speaker]:\n",
        "      # for example : metadata[speaker] = 'id10473'\n",
        "      # utterances = {'feature_path': 'uttr-5c88b2f1803449789c36f14fb4d3c1eb.pt', 'mel_len': 652}......\n",
        "        self.data.append([utterances[\"feature_path\"], self.speaker2id[speaker]])\n",
        "        # for example : ['uttr-5c88b2f1803449789c36f14fb4d3c1eb.pt',217]\n",
        "\n",
        "  def __len__(self):\n",
        "    return len(self.data)\n",
        "\n",
        "  def __getitem__(self, index):\n",
        "    feat_path, speaker = self.data[index]\n",
        "    #[utterances[\"feature_path\"], self.speaker2id[speaker]\n",
        "\n",
        "    # Load preprocessed mel-spectrogram.\n",
        "    # https://pytorch.org/docs/stable/generated/torch.load.html\n",
        "    # using torch.load to open pt file . By default , tensors are loaded to GPU if they are GPU tensor.\n",
        "    # part 2\n",
        "    mel = torch.load(os.path.join(self.data_dir, feat_path))\n",
        "\n",
        "    # Segmemt mel-spectrogram into \"segment_len\" frames.\n",
        "    if len(mel) > self.segment_len:\n",
        "      # Randomly get the starting point of the segment.\n",
        "      start = random.randint(0, len(mel) - self.segment_len)\n",
        "      # Get a segment with \"segment_len\" frames.\n",
        "      mel = torch.FloatTensor(mel[start:start+self.segment_len])\n",
        "    else:\n",
        "      mel = torch.FloatTensor(mel)\n",
        "    # Turn the speaker id into long for computing loss later.\n",
        "    speaker = torch.FloatTensor([speaker]).long()\n",
        "    return mel, speaker\n",
        "\n",
        "  def get_speaker_number(self):\n",
        "    return self.speaker_num"
      ]
    },
    {
      "cell_type": "code",
      "execution_count": null,
      "metadata": {
        "id": "qNWZbKmRrZUj"
      },
      "outputs": [],
      "source": [
        "#data_dir = parse_args()[\"data_dir\"]\n",
        "#part 1-1\n",
        "#mapping.json checcking\n",
        "#mapping_path = Path(data_dir) / \"mapping.json\"\n",
        "#mapping = json.load(mapping_path.open())\n",
        "#speaker2id = mapping[\"speaker2id\"]\n",
        "#print(type(mapping)) #<class 'dict'>\n",
        "#print(mapping.keys()) #dict_keys(['speaker2id', 'id2speaker'])\n",
        "#print(mapping.values()) #dict_values([{'id10001': 0, 'id10005': 1, ...... 'id11247': 598, 'id11251': 599},\n",
        "             #{\"0\": \"id10001\", ......'599':  'id11251'}])\n",
        "#print(mapping['speaker2id']['id10473']) #217\n",
        "\n",
        "#part 1-2\n",
        "#metadata.json checcking\n",
        "#metadata_path = Path(data_dir) / \"metadata.json\"\n",
        "#metadata = json.load(open(metadata_path))[\"speakers\"]\n",
        "#print(type(metadata)) #<class 'dict'>\n",
        "#print(len(metadata.keys()),metadata.keys()) #600 dict_keys(['id10473', 'id10328', 'id10382',......'id10864'])\n",
        "#print(len(metadata.values()),len(list(metadata.values())[0]),list(metadata.values())[0])\n",
        "#600 176 [{'feature_path': 'uttr-5c88b2f1803449789c36f14fb4d3c1eb.pt', 'mel_len': 652},......\n",
        "#{'feature_path': 'uttr-caf385f0032140e0add0bbde9a6595cd.pt', 'mel_len': 414}]\n",
        "#print(len(metadata.values()),len(list(metadata.values())[1])) #600 101\n",
        "\n",
        "#part 2\n",
        "#mel = torch.load(os.path.join(data_dir, 'uttr-5c88b2f1803449789c36f14fb4d3c1eb.pt'))\n",
        "#print(type(mel)) #<class 'torch.Tensor'>\n",
        "#print(mel.size()) #torch.Size([652, 40])\n",
        "#print(mel[0])\n",
        "# tensor([\n",
        "# 2.0060,  1.9015,  1.3473,  1.5711,  1.5569,  2.3200,  3.0064,  3.3848,\n",
        "# 0.5376,  0.8397,  1.5710, -0.5662, -2.1262, -1.1271, -1.4272, -3.6233,\n",
        "# -1.0765, -1.8453, -3.2415, -2.3427, -1.5888, -0.4692, -0.4291, -0.4722,\n",
        "# -1.8450, -1.0638, -3.2177, -3.4006, -3.2176, -3.3409, -3.1142, -4.0395,\n",
        "# -3.6502, -4.2407, -4.9656, -5.1238, -5.0620, -5.4308, -6.0757, -6.6186])"
      ]
    },
    {
      "cell_type": "code",
      "execution_count": null,
      "metadata": {
        "id": "MNfZK8vyq0rD"
      },
      "outputs": [],
      "source": [
        "import torch\n",
        "from torch.utils.data import DataLoader, random_split\n",
        "from torch.nn.utils.rnn import pad_sequence\n",
        "#part 1 check collate_batch\n",
        "def collate_batch(batch):\n",
        "  # Process features within a batch.\n",
        "  \"\"\"Collate a batch of data.\"\"\"\n",
        "  #part 1-1 , 1-2\n",
        "  mel, speaker = zip(*batch)\n",
        "  # Because we train the model batch by batch, we need to pad the features in the same batch to make their lengths the same.\n",
        "  mel = pad_sequence(mel, batch_first=True, padding_value=-20)    # pad log 10^(-20) which is very small value.\n",
        "  # mel: (batch size, length, 40)\n",
        "  #part 1-3\n",
        "  return mel, torch.FloatTensor(speaker).long()\n",
        "\n",
        "\n",
        "def get_dataloader(data_dir, batch_size, n_workers):\n",
        "  \"\"\"Generate dataloader\"\"\"\n",
        "  dataset = myDataset(data_dir)\n",
        "  speaker_num = dataset.get_speaker_number()\n",
        "  # Split dataset into training dataset and validation dataset\n",
        "  trainlen = int(0.9 * len(dataset))\n",
        "  lengths = [trainlen, len(dataset) - trainlen]\n",
        "  trainset, validset = random_split(dataset, lengths)\n",
        "\n",
        "  train_loader = DataLoader(\n",
        "    trainset,\n",
        "    batch_size=batch_size,\n",
        "    shuffle=True,\n",
        "    drop_last=True,\n",
        "    num_workers=n_workers,\n",
        "    pin_memory=True,\n",
        "    collate_fn=collate_batch,\n",
        "  )\n",
        "  valid_loader = DataLoader(\n",
        "    validset,\n",
        "    batch_size=batch_size,\n",
        "    num_workers=n_workers,\n",
        "    drop_last=True,\n",
        "    pin_memory=True,\n",
        "    collate_fn=collate_batch,\n",
        "  )\n",
        "\n",
        "  return train_loader, valid_loader, speaker_num"
      ]
    },
    {
      "cell_type": "code",
      "execution_count": null,
      "metadata": {
        "id": "75rCGxDvkX0I"
      },
      "outputs": [],
      "source": [
        "# x = [[\"a\",1],[\"b\",2],[\"c\",3]]\n",
        "# print(list(zip(*x)))\n",
        "# print(list(zip((\"a\",1),(\"b\",2),(\"c\",3))))"
      ]
    },
    {
      "cell_type": "code",
      "execution_count": null,
      "metadata": {
        "id": "vA6cTPqryJXZ"
      },
      "outputs": [],
      "source": [
        "#import numpy as np\n",
        "#check collate_batch\n",
        "#part 1-1\n",
        "# * collect \"sequence\"function input to a tuple :\n",
        "#def f(*paras):\n",
        "#  print(paras)\n",
        "#f(1,2,3) #(1, 2, 3)\n",
        "# or collect a tuple to a \"sequence\"\n",
        "#print(*(1,2,3)) #1 2 3\n",
        "\n",
        "#part 1-2\n",
        "#test_data = np.random.rand(2,3,4)\n",
        "#test_label = np.random.rand(2,1)\n",
        "#samples = (test_data,test_label)\n",
        "#print(samples)\n",
        "#x , y = zip((1,2),(3,4),(5,6),(7,8))\n",
        "#print(x,y)\n",
        "\n",
        "#part 1-3\n",
        "#print(torch.FloatTensor([[1.],[1.]]))#tensor([[1.],[1.]])\n",
        "#print(torch.FloatTensor([[1.],[1.]]).long())#tensor([[1],[1]]) implies the numbers are integer now\n",
        "#print(torch.IntTensor([[1.],[1.]]))#tensor([[1],[1]], dtype=torch.int32)"
      ]
    },
    {
      "cell_type": "code",
      "execution_count": null,
      "metadata": {
        "colab": {
          "base_uri": "https://localhost:8080/"
        },
        "id": "3Yk6oGGdQD9G",
        "outputId": "db033920-e19a-4bb3-b080-7ee77afec1f0"
      },
      "outputs": [
        {
          "output_type": "stream",
          "name": "stdout",
          "text": [
            "Collecting torchinfo\n",
            "  Downloading torchinfo-1.8.0-py3-none-any.whl (23 kB)\n",
            "Installing collected packages: torchinfo\n",
            "Successfully installed torchinfo-1.8.0\n"
          ]
        }
      ],
      "source": [
        "!pip install torchinfo\n",
        "#%conda install -c conda-forge torchinfo"
      ]
    },
    {
      "cell_type": "code",
      "execution_count": null,
      "metadata": {
        "id": "aBXbvqTlTSyj"
      },
      "outputs": [],
      "source": [
        "# x = [True,True,False,True,False,False,False,True,False,True,True,False]\n",
        "\n",
        "# true_index_list = []\n",
        "\n",
        "# false_index_list = []\n",
        "\n",
        "# for i,b in enumerate(x):\n",
        "#   if b == True:\n",
        "#     true_index_list += [i]\n",
        "#   else :\n",
        "#     false_index_list += [i]\n",
        "# print(true_index_list,false_index_list)\n",
        "\n",
        "# new_list = []\n",
        "# t_max = len(true_index_list)\n",
        "# f_max = len(false_index_list)\n",
        "# true_index = 0\n",
        "# false_index = 0\n",
        "# t_or_f = 0\n",
        "# while (t_max * f_max)>0:\n",
        "#   if t_or_f % 2 ==0:\n",
        "#     new_list += true_index_list[true_index:true_index+3]\n",
        "#     true_index += 3\n",
        "#     t_or_f += 1\n",
        "#     t_max -= 3\n",
        "#   else :\n",
        "#     new_list += false_index_list[false_index:false_index+3]\n",
        "#     false_index += 3\n",
        "#     t_or_f += 1\n",
        "#     f_max -= 3\n",
        "# if t_max > 0:\n",
        "#   new_list += true_index_list[true_index:]\n",
        "# elif f_max > 0:\n",
        "#   new_list += false_index_list[false_index:]\n",
        "\n",
        "# print(new_list)\n"
      ]
    },
    {
      "cell_type": "code",
      "execution_count": null,
      "metadata": {
        "id": "1l3Zx9A_d9ZT"
      },
      "outputs": [],
      "source": [
        "import torch.nn as nn\n",
        "class PrintLayer(nn.Module):\n",
        "  def __init__(self):\n",
        "    super().__init__()\n",
        "  def forward(self , x):\n",
        "    print(f\"layer output size = {x.size()}\")\n",
        "    return(x)\n",
        "class ConformerLayer(nn.Module):\n",
        "  \"\"\"\n",
        "    #------Conformer Encoder Part----------------------------------\n",
        "    # part 1 feed forward module\n",
        "    # part 2 multi heads self attention\n",
        "    # part 3 convolution module\n",
        "    # part 4 feed forward module\n",
        "    # part 5 layer norm\n",
        "    # multi heads self attention module\n",
        "    #   part 2-1 laryer norm\n",
        "    #   part 2-2 multi heads self attention\n",
        "    #   part 2-3 dropout\n",
        "    # convolution module\n",
        "    #   part 3-1 layer norm (do this outside the module)\n",
        "    #   part 3-2 pointwise conv\n",
        "    #   part 3-3 Glu activation\n",
        "    #   part 3-4 1D depthwise conv\n",
        "    #   part 3-5 batch norm\n",
        "    #   part 3-6 swish activation\n",
        "    #   part 3-7 pointwise conv\n",
        "    #   part 3-8 dropout\n",
        "    \"\"\"\n",
        "  def __init__(self,d_model,feedforword,dropout):\n",
        "    super().__init__()\n",
        "    self.feed_forward_layer_1 = nn.Sequential(\n",
        " #   nn.BatchNorm1d(d_model),\n",
        "    nn.Linear(d_model, feedforword),\n",
        "    nn.ReLU(),\n",
        "    nn.Linear(feedforword, d_model),\n",
        " #   nn.BatchNorm1d(d_model),\n",
        "    )\n",
        "    self.layer_norm1 = nn.LayerNorm(d_model)\n",
        "    self.layer_norm2 = nn.LayerNorm(d_model)\n",
        "    self.attention = torch.nn.MultiheadAttention(d_model, num_heads = 2, dropout=dropout)\n",
        "    self.DropoutMA = nn.Dropout(dropout)\n",
        "    self.cnn_module = nn.Sequential(\n",
        "      # part 3-2\n",
        "      nn.Conv1d(in_channels = d_model , out_channels = d_model*2 , kernel_size = 1),\n",
        "      # part 3-3\n",
        "      nn.GLU(dim = 1),\n",
        "      # part 3-4\n",
        "      nn.Conv1d(in_channels = d_model , out_channels = d_model , kernel_size = 3 ,padding = 1, groups = d_model),\n",
        "      # part 3-5\n",
        "      nn.BatchNorm1d(d_model),\n",
        "      # part 3-6\n",
        "      nn.SiLU(),\n",
        "      # part 3-7\n",
        "      nn.Conv1d(in_channels = d_model , out_channels = d_model , kernel_size = 1),\n",
        "      # part 3-8\n",
        "      nn.Dropout1d()\n",
        "    )\n",
        "    self.feed_forward_layer_2 = nn.Sequential(\n",
        " #   nn.BatchNorm1d(d_model),\n",
        "    nn.Linear(d_model, feedforword),\n",
        "    nn.ReLU(),\n",
        "    nn.Linear(feedforword, d_model),\n",
        " #   nn.BatchNorm1d(d_model),\n",
        "    )\n",
        "    self.layer_norm3 = nn.LayerNorm(d_model)\n",
        "  def forward(self ,x ):\n",
        "    # part 1\n",
        "    x = x + 0.5 * self.feed_forward_layer_1(x)\n",
        "    # part 2\n",
        "    x = x.permute(1, 0, 2)\n",
        "    x = self.layer_norm1(x)\n",
        "    x = x + self.attention(x,x,x, need_weights=False)[0]\n",
        "    x = self.DropoutMA(x)\n",
        "    # part 3\n",
        "    x = self.layer_norm2(x)\n",
        "    x = x.permute(1, 2, 0)\n",
        "    x = x + self.cnn_module(x)\n",
        "    x = x.permute(0, 2, 1)\n",
        "\n",
        "    # part 4\n",
        "    x = x + 0.5 * self.feed_forward_layer_2(x)\n",
        "    # part 5\n",
        "    x = self.layer_norm3(x)\n",
        "    return x\n",
        "class SelfAttentionPollingLayer(nn.Module):\n",
        "  def __init__(self,layer):\n",
        "    super().__init__()\n",
        "    self.layer = layer\n",
        "  def forward(self ,x ):\n",
        "\n",
        "    return torch.squeeze(torch.bmm(x.permute(0,2,1),x),1)"
      ]
    },
    {
      "cell_type": "code",
      "source": [
        "# x = torch.rand(5,2,3)\n",
        "# x = nn.Dropout1d()(x)\n",
        "# print(x)"
      ],
      "metadata": {
        "id": "ii38FPZ0jw6J"
      },
      "execution_count": null,
      "outputs": []
    },
    {
      "cell_type": "code",
      "source": [
        "import torch\n",
        "import torch.nn as nn\n",
        "import torch.nn.functional as F\n",
        "import torchvision\n",
        "from torchinfo import summary\n",
        "\n",
        "class Classifier(nn.Module):\n",
        "  def __init__(self, d_model=128, n_spks=600, feedforward = 256 , dropout=0.2):\n",
        "    super().__init__()\n",
        "    # Project the dimension of features from that of input into d_model.\n",
        "    self.prenet = nn.Linear(40, d_model)\n",
        "    # TODO:\n",
        "\n",
        "    # attension pooling\n",
        "    self.attension_pooling = nn.Sequential(\n",
        "      nn.Linear(d_model, d_model),\n",
        "      nn.ReLU(),\n",
        "      nn.Linear(d_model, 1),\n",
        "      nn.BatchNorm1d(d_model),\n",
        "      nn.Softmax(dim = 1),\n",
        "    )\n",
        "#    self.conformer = ConformerLayer(d_model,feedforward,dropout)\n",
        "    self.conformers = nn.ModuleList([ConformerLayer(d_model,feedforward,dropout) for i in range(2)])\n",
        "    self.pred_layer = nn.Sequential(\n",
        "      nn.Linear(d_model, n_spks),\n",
        "    )\n",
        "\n",
        "  def forward(self, mels):\n",
        "    \"\"\"\n",
        "    args:\n",
        "      mels: (batch size, length, 40)\n",
        "    return:\n",
        "      out: (batch size, n_spks)\n",
        "    \"\"\"\n",
        "\n",
        "    out = self.prenet(mels)\n",
        "    for layer in self.conformers:\n",
        "      out = layer(out)\n",
        "\n",
        "\n",
        "    sfatpool = self.attension_pooling(out)\n",
        "    out = torch.squeeze(torch.bmm(sfatpool.permute(0,2,1),out),1)\n",
        "    out = self.pred_layer(out)\n",
        "    return out\n"
      ],
      "metadata": {
        "id": "Kpzi0C5T_9bl"
      },
      "execution_count": null,
      "outputs": []
    },
    {
      "cell_type": "code",
      "source": [
        "model = Classifier(d_model=128, dropout=0.2)\n",
        "#model = ConformerLayer(d_model=80, feedforword = 256, dropout=0.2)\n",
        "print(summary(model,(32,128,40)))"
      ],
      "metadata": {
        "id": "vsb0HL3nKBhW",
        "outputId": "3cf0922d-7acf-4ab8-c7e2-c25ec59ee416",
        "colab": {
          "base_uri": "https://localhost:8080/"
        }
      },
      "execution_count": null,
      "outputs": [
        {
          "output_type": "stream",
          "name": "stdout",
          "text": [
            "==========================================================================================\n",
            "Layer (type:depth-idx)                   Output Shape              Param #\n",
            "==========================================================================================\n",
            "Classifier                               [32, 600]                 --\n",
            "├─Linear: 1-1                            [32, 128, 128]            5,248\n",
            "├─ModuleList: 1-2                        --                        --\n",
            "│    └─ConformerLayer: 2-1               [32, 128, 128]            --\n",
            "│    │    └─Sequential: 3-1              [32, 128, 128]            66,432\n",
            "│    │    └─LayerNorm: 3-2               [128, 32, 128]            256\n",
            "│    │    └─MultiheadAttention: 3-3      [128, 32, 128]            66,048\n",
            "│    │    └─Dropout: 3-4                 [128, 32, 128]            --\n",
            "│    │    └─LayerNorm: 3-5               [128, 32, 128]            256\n",
            "│    │    └─Sequential: 3-6              [32, 128, 128]            50,304\n",
            "│    │    └─Sequential: 3-7              [32, 128, 128]            66,432\n",
            "│    │    └─LayerNorm: 3-8               [32, 128, 128]            256\n",
            "│    └─ConformerLayer: 2-2               [32, 128, 128]            --\n",
            "│    │    └─Sequential: 3-9              [32, 128, 128]            66,432\n",
            "│    │    └─LayerNorm: 3-10              [128, 32, 128]            256\n",
            "│    │    └─MultiheadAttention: 3-11     [128, 32, 128]            66,048\n",
            "│    │    └─Dropout: 3-12                [128, 32, 128]            --\n",
            "│    │    └─LayerNorm: 3-13              [128, 32, 128]            256\n",
            "│    │    └─Sequential: 3-14             [32, 128, 128]            50,304\n",
            "│    │    └─Sequential: 3-15             [32, 128, 128]            66,432\n",
            "│    │    └─LayerNorm: 3-16              [32, 128, 128]            256\n",
            "├─Sequential: 1-3                        [32, 128, 1]              --\n",
            "│    └─Linear: 2-3                       [32, 128, 128]            16,512\n",
            "│    └─ReLU: 2-4                         [32, 128, 128]            --\n",
            "│    └─Linear: 2-5                       [32, 128, 1]              129\n",
            "│    └─BatchNorm1d: 2-6                  [32, 128, 1]              256\n",
            "│    └─Softmax: 2-7                      [32, 128, 1]              --\n",
            "├─Sequential: 1-4                        [32, 600]                 --\n",
            "│    └─Linear: 2-8                       [32, 600]                 77,400\n",
            "==========================================================================================\n",
            "Total params: 599,513\n",
            "Trainable params: 599,513\n",
            "Non-trainable params: 0\n",
            "Total mult-adds (M): 421.85\n",
            "==========================================================================================\n",
            "Input size (MB): 0.66\n",
            "Forward/backward pass size (MB): 159.60\n",
            "Params size (MB): 1.87\n",
            "Estimated Total Size (MB): 162.13\n",
            "==========================================================================================\n"
          ]
        }
      ]
    },
    {
      "cell_type": "code",
      "execution_count": null,
      "metadata": {
        "id": "zlXaMSlWMU__"
      },
      "outputs": [],
      "source": [
        "# import torch\n",
        "# import torch.nn as nn\n",
        "# import torch.nn.functional as F\n",
        "# import torchvision\n",
        "# from torchinfo import summary\n",
        "\n",
        "# class Classifier(nn.Module):\n",
        "#   def __init__(self, d_model=128, n_spks=600, dropout=0.1):\n",
        "#     super().__init__()\n",
        "#     # Project the dimension of features from that of input into d_model.\n",
        "#     self.prenet = nn.Linear(40, d_model)\n",
        "#     # TODO:\n",
        "#     #   Change Transformer to Conformer.\n",
        "#     #   https://arxiv.org/abs/2005.08100\n",
        "#     # embed_dim must be divisible by num_heads\n",
        "#     self.encoder_layer = nn.TransformerEncoderLayer(\n",
        "#       d_model=d_model, dim_feedforward=256, nhead=1, norm_first = True\n",
        "#     )\n",
        "#     # batch_first = True\n",
        "#     # norm_first = True\n",
        "#     self.encoder = nn.TransformerEncoder(self.encoder_layer, num_layers= 5  )\n",
        "#     # attension pooling\n",
        "#     self.attension_pooling = nn.Sequential(\n",
        "#       nn.Linear(d_model, d_model),\n",
        "#       nn.ReLU(),\n",
        "#       nn.Linear(d_model, 1),\n",
        "#       nn.Softmax(dim = 1),\n",
        "#     )\n",
        "# #    self.afd = SelfAttentionPollingLayer(self.attension_pooling)\n",
        "# #    self.linear = nn.Linear(d_model, d_model)\n",
        "# #    self.relu = nn.ReLU()\n",
        "# #    self.linear_out = nn.Linear(d_model, n_spks)\n",
        "\n",
        "#     # Project the the dimension of features from d_model into speaker nums.\n",
        "#     self.pred_layer = nn.Sequential(\n",
        "# #      nn.Linear(d_model, d_model),\n",
        "# #      nn.ReLU(),\n",
        "#       nn.Linear(d_model, n_spks),\n",
        "#     )\n",
        "\n",
        "#   def forward(self, mels):\n",
        "#     \"\"\"\n",
        "#     args:\n",
        "#       mels: (batch size, length, 40)\n",
        "#     return:\n",
        "#       out: (batch size, n_spks)\n",
        "#     \"\"\"\n",
        "#     # out: (batch size, length, d_model)\n",
        "#     #print(mels.size())\n",
        "#     out = self.prenet(mels)\n",
        "#     # out: (length, batch size, d_model)\n",
        "#     out = out.permute(1, 0, 2)\n",
        "#     #print(out.size())\n",
        "#     # The encoder layer expect features in the shape of (length, batch size, d_model).\n",
        "#     #out = self.encoder_layer(out)\n",
        "#     out = self.encoder_layer(out)\n",
        "#     # out: (batch size, length, d_model)\n",
        "#     #print(out.size())\n",
        "#     out = out.transpose(0, 1)\n",
        "# #    print(out.size())\n",
        "#     # self-attention pooling\n",
        "#     #out = self.afd(out)\n",
        "# #    print(out.size())\n",
        "#     sfatpool = self.attension_pooling(out)\n",
        "# #    print(sfatpool.size(),out.size())\n",
        "#     out = torch.squeeze(torch.bmm(sfatpool.permute(0,2,1),out),1)\n",
        "# #    out = self.afd(out)\n",
        "# #    print(out.size())\n",
        "\n",
        "#     # mean pooling\n",
        "# #    stats = out.mean(dim=1)\n",
        "\n",
        "#     # out: (batch, n_spks)\n",
        "# #    out = self.pred_layer(stats)\n",
        "# #    out = self.linear(out)\n",
        "# #    out = self.relu(out)\n",
        "# #    out = self.linear_out(out)\n",
        "#     out = self.pred_layer(out)\n",
        "#     return out\n"
      ]
    },
    {
      "cell_type": "code",
      "execution_count": null,
      "metadata": {
        "colab": {
          "base_uri": "https://localhost:8080/"
        },
        "id": "vXLlPNAI9N9F",
        "outputId": "ab04c677-13db-49b2-c596-8bd74cee3b9d"
      },
      "outputs": [
        {
          "output_type": "stream",
          "name": "stdout",
          "text": [
            "==========================================================================================\n",
            "Layer (type:depth-idx)                   Output Shape              Param #\n",
            "==========================================================================================\n",
            "Classifier                               [32, 600]                 --\n",
            "├─Linear: 1-1                            [32, 128, 128]            5,248\n",
            "├─ModuleList: 1-2                        --                        --\n",
            "│    └─ConformerLayer: 2-1               [32, 128, 128]            --\n",
            "│    │    └─Sequential: 3-1              [32, 128, 128]            66,432\n",
            "│    │    └─LayerNorm: 3-2               [128, 32, 128]            256\n",
            "│    │    └─MultiheadAttention: 3-3      [128, 32, 128]            66,048\n",
            "│    │    └─Dropout: 3-4                 [128, 32, 128]            --\n",
            "│    │    └─LayerNorm: 3-5               [128, 32, 128]            256\n",
            "│    │    └─Sequential: 3-6              [32, 128, 128]            50,304\n",
            "│    │    └─Sequential: 3-7              [32, 128, 128]            66,432\n",
            "│    │    └─LayerNorm: 3-8               [32, 128, 128]            256\n",
            "│    └─ConformerLayer: 2-2               [32, 128, 128]            --\n",
            "│    │    └─Sequential: 3-9              [32, 128, 128]            66,432\n",
            "│    │    └─LayerNorm: 3-10              [128, 32, 128]            256\n",
            "│    │    └─MultiheadAttention: 3-11     [128, 32, 128]            66,048\n",
            "│    │    └─Dropout: 3-12                [128, 32, 128]            --\n",
            "│    │    └─LayerNorm: 3-13              [128, 32, 128]            256\n",
            "│    │    └─Sequential: 3-14             [32, 128, 128]            50,304\n",
            "│    │    └─Sequential: 3-15             [32, 128, 128]            66,432\n",
            "│    │    └─LayerNorm: 3-16              [32, 128, 128]            256\n",
            "├─Sequential: 1-3                        [32, 128, 1]              --\n",
            "│    └─Linear: 2-3                       [32, 128, 128]            16,512\n",
            "│    └─ReLU: 2-4                         [32, 128, 128]            --\n",
            "│    └─Linear: 2-5                       [32, 128, 1]              129\n",
            "│    └─BatchNorm1d: 2-6                  [32, 128, 1]              256\n",
            "│    └─Softmax: 2-7                      [32, 128, 1]              --\n",
            "├─Sequential: 1-4                        [32, 600]                 --\n",
            "│    └─Linear: 2-8                       [32, 600]                 77,400\n",
            "==========================================================================================\n",
            "Total params: 599,513\n",
            "Trainable params: 599,513\n",
            "Non-trainable params: 0\n",
            "Total mult-adds (M): 421.85\n",
            "==========================================================================================\n",
            "Input size (MB): 0.66\n",
            "Forward/backward pass size (MB): 159.60\n",
            "Params size (MB): 1.87\n",
            "Estimated Total Size (MB): 162.13\n",
            "==========================================================================================\n"
          ]
        }
      ],
      "source": [
        "model = Classifier()\n",
        "print(summary(model,(32,128,40)))\n",
        "#print(model.state_dict().keys())\n",
        "#print(model.state_dict()[\"encoder_layer.self_attn.in_proj_weight\"].size())#torch.Size([240, 80]) (80+80+80)*80\n",
        "#print(model.state_dict()[\"encoder_layer.self_attn.out_proj.weight\"].size())#torch.Size([80, 80])"
      ]
    },
    {
      "cell_type": "markdown",
      "metadata": {
        "id": "5EhBDpSpznKl"
      },
      "source": [
        "original\n",
        "parameter number :\n",
        "1.MultiheadAttention : =\n",
        "d_model+1(bias) * d_query +\n",
        "d_model+1(bias) * d_key  +\n",
        "d_model+1(bias) * d_v   +\n",
        "d_v + 1(bias) * output_dim( = dmodel)\n",
        "= (80+1)80 + (80+1)80 + (80+1)80 + (80+1)80 = 25920\n",
        "2.layer_norm : =input + input = 80*80 = 160\n",
        "\n",
        "first change\n",
        "parameter number :\n",
        "1.MultiheadAttention : =\n",
        "d_model+1(bias) * d_query +\n",
        "d_model+1(bias) * d_key  +\n",
        "d_model+1(bias) * d_v   +\n",
        "d_v + 1(bias) * output_dim( = dmodel)\n",
        "= (128+1)128(3+1)= 16512\n",
        "\n",
        "second change\n",
        "parameter number :\n",
        "1.MultiheadAttention : =\n",
        "d_model+1(bias) * d_query +\n",
        "d_model+1(bias) * d_key  +\n",
        "d_model+1(bias) * d_v   +\n",
        "d_v + 1(bias) * output_dim( = dmodel)\n",
        "= (128+1)128(3+1)= 16512\n",
        "four layers : 66048\n",
        "\n",
        "2.layer_norm : =input + input = 80*80 = 160\n",
        "\n",
        "3rd change\n",
        "parameter number :\n",
        "1.MultiheadAttention : =\n",
        "d_model+1(bias) * d_query +\n",
        "d_model+1(bias) * d_key  +\n",
        "d_model+1(bias) * d_v   +\n",
        "d_v + 1(bias) * output_dim( = dmodel)\n",
        "= (128+1)128(3+1)= 16512\n",
        "four layers : 66048\n",
        "\n",
        "2.self-attension polling : (128+1)128+(128+1)1=16512+129=16641\n",
        "\n",
        "4th change\n",
        "parameter number :\n",
        "1.MultiheadAttention : =\n",
        "d_model+1(bias) * d_query +\n",
        "d_model+1(bias) * d_key  +\n",
        "d_model+1(bias) * d_v   +\n",
        "d_v + 1(bias) * output_dim( = dmodel)\n",
        "= (128+1)128(3+1)= 16512\n",
        "\n",
        "2 layers\n",
        "\n",
        "2.self-attension polling : (128+1)128+(128+1)1=16512+129=16641\n",
        "\n",
        "3.delete on Linear + ReLU layers = - (129*128) -0 = -16512\n",
        "\n",
        "4.batchnormalization\n",
        "\n",
        "5th change\n",
        "parameter number :\n",
        "1.MultiheadAttention : =\n",
        "d_model+1(bias) * d_query +\n",
        "d_model+1(bias) * d_key  +\n",
        "d_model+1(bias) * d_v   +\n",
        "d_v + 1(bias) * output_dim( = dmodel)\n",
        "= (128+1)128(3+1)= 16512\n",
        "\n",
        "2 layers\n",
        "\n",
        "2.self-attension polling : (128+1)128+(128+1)1=16512+129=16641\n",
        "\n",
        "3.delete on Linear + ReLU layers = - (129*128) -0 = -16512"
      ]
    },
    {
      "cell_type": "code",
      "execution_count": null,
      "metadata": {
        "id": "tUSxoANBMchs"
      },
      "outputs": [],
      "source": [
        "import math\n",
        "\n",
        "import torch\n",
        "from torch.optim import Optimizer\n",
        "from torch.optim.lr_scheduler import LambdaLR\n",
        "\n",
        "\n",
        "def get_cosine_schedule_with_warmup(\n",
        "  optimizer: Optimizer,\n",
        "  num_warmup_steps: int,\n",
        "  num_training_steps: int,\n",
        "  num_cycles: float = 0.5,\n",
        "  last_epoch: int = -1,\n",
        "):\n",
        "  \"\"\"\n",
        "  Create a schedule with a learning rate that decreases following the values of the cosine function between the\n",
        "  initial lr set in the optimizer to 0, after a warmup period during which it increases linearly between 0 and the\n",
        "  initial lr set in the optimizer.\n",
        "\n",
        "  Args:\n",
        "    optimizer (:class:`~torch.optim.Optimizer`):\n",
        "      The optimizer for which to schedule the learning rate.\n",
        "    num_warmup_steps (:obj:`int`):\n",
        "      The number of steps for the warmup phase.\n",
        "    num_training_steps (:obj:`int`):\n",
        "      The total number of training steps.\n",
        "    num_cycles (:obj:`float`, `optional`, defaults to 0.5):\n",
        "      The number of waves in the cosine schedule (the defaults is to just decrease from the max value to 0\n",
        "      following a half-cosine).\n",
        "    last_epoch (:obj:`int`, `optional`, defaults to -1):\n",
        "      The index of the last epoch when resuming training.\n",
        "\n",
        "  Return:\n",
        "    :obj:`torch.optim.lr_scheduler.LambdaLR` with the appropriate schedule.\n",
        "  \"\"\"\n",
        "\n",
        "  def lr_lambda(current_step):\n",
        "    # Warmup\n",
        "    if current_step < num_warmup_steps:\n",
        "      return float(current_step) / float(max(1, num_warmup_steps))\n",
        "    # decadence\n",
        "    # cosine angle\n",
        "    progress = float(current_step - num_warmup_steps) / float(\n",
        "      max(1, num_training_steps - num_warmup_steps)\n",
        "    )\n",
        "    return max(\n",
        "      0.0, 0.5 * (1.0 + math.cos(math.pi * float(num_cycles) * 2.0 * progress))\n",
        "    )\n",
        "\n",
        "  return LambdaLR(optimizer, lr_lambda, last_epoch)"
      ]
    },
    {
      "cell_type": "code",
      "execution_count": null,
      "metadata": {
        "id": "9o3hw_GcF1Jb"
      },
      "outputs": [],
      "source": [
        "#from torch.optim import AdamW\n",
        "#optimizer = AdamW(model.parameters(), lr=1e-3)\n",
        "\n",
        "#scheduler = get_cosine_schedule_with_warmup(optimizer, 1000, 70000)\n",
        "\n",
        "#print(type(scheduler.optimizer.param_groups)) #<class 'list'>\n",
        "#print(len(scheduler.optimizer.param_groups))  #1\n",
        "#print(type(scheduler.optimizer.param_groups[0])) #<class 'dict'>\n",
        "#print(scheduler.optimizer.param_groups[0].keys())\n",
        "#['params', 'lr', 'betas', 'eps', 'weight_decay', 'amsgrad', 'foreach',\n",
        "#'maximize', 'capturable', 'differentiable', 'fused', 'initial_lr']\n",
        "#print(scheduler.optimizer.param_groups[0]['params'])\n",
        "#[Parameter containing: tensor([[......],requires_grad=True)]\n",
        "#print(scheduler.optimizer.param_groups[0]['lr'])# 0.0\n",
        "#print(scheduler.optimizer.param_groups[0]['betas'])# (0.9, 0.999)\n",
        "#print(scheduler.optimizer.param_groups[0]['eps']) # 1e-08\n",
        "#print(scheduler.optimizer.param_groups[0]['weight_decay']) #0.01\n",
        "#print(scheduler.optimizer.param_groups[0]['amsgrad']) # False\n",
        "#print(scheduler.optimizer.param_groups[0]['foreach']) # None"
      ]
    },
    {
      "cell_type": "code",
      "execution_count": null,
      "metadata": {
        "id": "yfDXw13q1ssm"
      },
      "outputs": [],
      "source": [
        "import torch\n",
        "\n",
        "\n",
        "def model_fn(batch, model, criterion, device):\n",
        "  \"\"\"Forward a batch through the model.\"\"\"\n",
        "\n",
        "  mels, labels = batch\n",
        "  mels = mels.to(device)\n",
        "  labels = labels.to(device)\n",
        "\n",
        "  outs = model(mels)\n",
        "\n",
        "  loss = criterion(outs, labels)\n",
        "\n",
        "  # Get the speaker id with highest probability.\n",
        "  preds = outs.argmax(1)\n",
        "  # Compute accuracy.\n",
        "  accuracy = torch.mean((preds == labels).float())\n",
        "\n",
        "  return loss, accuracy"
      ]
    },
    {
      "cell_type": "code",
      "execution_count": null,
      "metadata": {
        "id": "959wMzs21wbz"
      },
      "outputs": [],
      "source": [
        "from tqdm import tqdm\n",
        "import torch\n",
        "\n",
        "\n",
        "def valid(dataloader, model, criterion, device):\n",
        "  \"\"\"Validate on validation set.\"\"\"\n",
        "\n",
        "  model.eval()\n",
        "  running_loss = 0.0\n",
        "  running_accuracy = 0.0\n",
        "  # Manually update the progress bar : step 1\n",
        "  # total length\n",
        "  pbar = tqdm(total=len(dataloader.dataset), ncols=0, desc=\"Valid\", unit=\" uttr\")\n",
        "  for i, batch in enumerate(dataloader):\n",
        "    with torch.no_grad():\n",
        "      loss, accuracy = model_fn(batch, model, criterion, device)\n",
        "      running_loss += loss.item()\n",
        "      running_accuracy += accuracy.item()\n",
        "    # Manually update the progress bar : step 2\n",
        "    # update each batch\n",
        "    pbar.update(dataloader.batch_size)\n",
        "    pbar.set_postfix(\n",
        "      loss=f\"{running_loss / (i+1):.2f}\",\n",
        "      accuracy=f\"{running_accuracy / (i+1):.2f}\",\n",
        "    )\n",
        "  # Manually update the progress bar : step 3\n",
        "  pbar.close()\n",
        "  model.train()\n",
        "\n",
        "  return running_accuracy / len(dataloader)\n"
      ]
    },
    {
      "cell_type": "code",
      "execution_count": 13,
      "metadata": {
        "colab": {
          "base_uri": "https://localhost:8080/"
        },
        "id": "m7ckdrpl6_YW",
        "outputId": "89ce5865-c07c-4c83-bae0-bb1c41c0d47a"
      },
      "outputs": [
        {
          "metadata": {
            "tags": null
          },
          "name": "stdout",
          "output_type": "stream",
          "text": [
            "[Info]: Use cuda now!\n",
            "[Info]: Finish loading data!\n",
            "[Info]: Finish creating model!\n"
          ]
        },
        {
          "metadata": {
            "tags": null
          },
          "name": "stderr",
          "output_type": "stream",
          "text": [
            "Train:   0% 2/2000 [00:02<32:03,  1.04 step/s, accuracy=0.00, loss=6.38, step=2]"
          ]
        },
        {
          "metadata": {
            "tags": null
          },
          "name": "stdout",
          "output_type": "stream",
          "text": [
            "average loss = 6.4097       average accuracy = 0.0000)\n"
          ]
        },
        {
          "metadata": {
            "tags": null
          },
          "name": "stderr",
          "output_type": "stream",
          "text": [
            "Train:  50% 1001/2000 [01:56<01:51,  9.00 step/s, accuracy=0.12, loss=4.51, step=1001]"
          ]
        },
        {
          "metadata": {
            "tags": null
          },
          "name": "stdout",
          "output_type": "stream",
          "text": [
            "average loss = 5.5086       average accuracy = 0.0549)\n"
          ]
        },
        {
          "metadata": {
            "tags": null
          },
          "name": "stderr",
          "output_type": "stream",
          "text": [
            "Train: 100% 2000/2000 [03:40<00:00,  9.08 step/s, accuracy=0.44, loss=2.86, step=2000]\n",
            "Valid: 100% 6944/6944 [00:20<00:00, 332.62 uttr/s, accuracy=0.25, loss=3.59]\n",
            "Train:   0% 1/2000 [00:00<03:53,  8.55 step/s, accuracy=0.12, loss=4.01, step=2001]"
          ]
        },
        {
          "metadata": {
            "tags": null
          },
          "name": "stdout",
          "output_type": "stream",
          "text": [
            "average loss = 4.0547       average accuracy = 0.1816)\n"
          ]
        },
        {
          "metadata": {
            "tags": null
          },
          "name": "stderr",
          "output_type": "stream",
          "text": [
            "Train:  50% 1001/2000 [01:30<01:46,  9.42 step/s, accuracy=0.38, loss=2.83, step=3001]"
          ]
        },
        {
          "metadata": {
            "tags": null
          },
          "name": "stdout",
          "output_type": "stream",
          "text": [
            "average loss = 3.3515       average accuracy = 0.2833)\n"
          ]
        },
        {
          "metadata": {
            "tags": null
          },
          "name": "stderr",
          "output_type": "stream",
          "text": [
            "Train: 100% 2000/2000 [03:11<00:00, 10.44 step/s, accuracy=0.25, loss=2.98, step=4000]\n",
            "Valid: 100% 6944/6944 [00:19<00:00, 362.50 uttr/s, accuracy=0.36, loss=2.95]\n",
            "Train:   0% 1/2000 [00:00<06:24,  5.20 step/s, accuracy=0.34, loss=2.99, step=4001]"
          ]
        },
        {
          "metadata": {
            "tags": null
          },
          "name": "stdout",
          "output_type": "stream",
          "text": [
            "Step 4000, best model saved. (accuracy=0.3603)\n",
            "average loss = 3.0155       average accuracy = 0.3414)\n"
          ]
        },
        {
          "metadata": {
            "tags": null
          },
          "name": "stderr",
          "output_type": "stream",
          "text": [
            "Train:  50% 1001/2000 [01:33<01:44,  9.54 step/s, accuracy=0.38, loss=2.59, step=5001]"
          ]
        },
        {
          "metadata": {
            "tags": null
          },
          "name": "stdout",
          "output_type": "stream",
          "text": [
            "average loss = 2.7007       average accuracy = 0.3977)\n"
          ]
        },
        {
          "metadata": {
            "tags": null
          },
          "name": "stderr",
          "output_type": "stream",
          "text": [
            "Train: 100% 2000/2000 [03:12<00:00, 10.41 step/s, accuracy=0.47, loss=1.94, step=6000]\n",
            "Valid: 100% 6944/6944 [00:20<00:00, 333.90 uttr/s, accuracy=0.46, loss=2.47]\n",
            "Train:   0% 2/2000 [00:00<04:14,  7.85 step/s, accuracy=0.41, loss=2.34, step=6002]"
          ]
        },
        {
          "metadata": {
            "tags": null
          },
          "name": "stdout",
          "output_type": "stream",
          "text": [
            "average loss = 2.5182       average accuracy = 0.4339)\n"
          ]
        },
        {
          "metadata": {
            "tags": null
          },
          "name": "stderr",
          "output_type": "stream",
          "text": [
            "Train:  50% 1001/2000 [01:37<02:03,  8.08 step/s, accuracy=0.44, loss=2.24, step=7001]"
          ]
        },
        {
          "metadata": {
            "tags": null
          },
          "name": "stdout",
          "output_type": "stream",
          "text": [
            "average loss = 2.2792       average accuracy = 0.4775)\n"
          ]
        },
        {
          "metadata": {
            "tags": null
          },
          "name": "stderr",
          "output_type": "stream",
          "text": [
            "Train: 100% 2000/2000 [03:17<00:00, 10.14 step/s, accuracy=0.50, loss=2.23, step=8000]\n",
            "Valid: 100% 6944/6944 [00:20<00:00, 339.61 uttr/s, accuracy=0.50, loss=2.23]\n",
            "Train:   0% 1/2000 [00:00<05:25,  6.14 step/s, accuracy=0.59, loss=1.64, step=8001]"
          ]
        },
        {
          "metadata": {
            "tags": null
          },
          "name": "stdout",
          "output_type": "stream",
          "text": [
            "Step 8000, best model saved. (accuracy=0.5007)\n",
            "average loss = 2.1384       average accuracy = 0.5083)\n"
          ]
        },
        {
          "metadata": {
            "tags": null
          },
          "name": "stderr",
          "output_type": "stream",
          "text": [
            "Train:  50% 1001/2000 [01:37<01:46,  9.38 step/s, accuracy=0.62, loss=1.80, step=9001]"
          ]
        },
        {
          "metadata": {
            "tags": null
          },
          "name": "stdout",
          "output_type": "stream",
          "text": [
            "average loss = 2.0052       average accuracy = 0.5309)\n"
          ]
        },
        {
          "metadata": {
            "tags": null
          },
          "name": "stderr",
          "output_type": "stream",
          "text": [
            "Train: 100% 2000/2000 [03:12<00:00, 10.41 step/s, accuracy=0.50, loss=2.16, step=1e+4]\n",
            "Valid: 100% 6944/6944 [00:20<00:00, 341.73 uttr/s, accuracy=0.54, loss=2.01]\n",
            "Train:   0% 2/2000 [00:00<04:14,  7.85 step/s, accuracy=0.59, loss=1.99, step=1e+4]"
          ]
        },
        {
          "metadata": {
            "tags": null
          },
          "name": "stdout",
          "output_type": "stream",
          "text": [
            "average loss = 1.8743       average accuracy = 0.5589)\n"
          ]
        },
        {
          "metadata": {
            "tags": null
          },
          "name": "stderr",
          "output_type": "stream",
          "text": [
            "Train:  50% 1001/2000 [01:38<01:51,  8.96 step/s, accuracy=0.50, loss=2.04, step=11001]"
          ]
        },
        {
          "metadata": {
            "tags": null
          },
          "name": "stdout",
          "output_type": "stream",
          "text": [
            "average loss = 1.7680       average accuracy = 0.5813)\n"
          ]
        },
        {
          "metadata": {
            "tags": null
          },
          "name": "stderr",
          "output_type": "stream",
          "text": [
            "Train: 100% 2000/2000 [03:12<00:00, 10.37 step/s, accuracy=0.53, loss=2.37, step=12000]\n",
            "Valid: 100% 6944/6944 [00:20<00:00, 333.62 uttr/s, accuracy=0.58, loss=1.80]\n",
            "Train:   0% 1/2000 [00:00<05:21,  6.22 step/s, accuracy=0.62, loss=1.27, step=12001]"
          ]
        },
        {
          "metadata": {
            "tags": null
          },
          "name": "stdout",
          "output_type": "stream",
          "text": [
            "Step 12000, best model saved. (accuracy=0.5757)\n",
            "average loss = 1.6788       average accuracy = 0.5987)\n"
          ]
        },
        {
          "metadata": {
            "tags": null
          },
          "name": "stderr",
          "output_type": "stream",
          "text": [
            "Train:  50% 1001/2000 [01:40<01:46,  9.37 step/s, accuracy=0.56, loss=1.60, step=13001]"
          ]
        },
        {
          "metadata": {
            "tags": null
          },
          "name": "stdout",
          "output_type": "stream",
          "text": [
            "average loss = 1.5851       average accuracy = 0.6182)\n"
          ]
        },
        {
          "metadata": {
            "tags": null
          },
          "name": "stderr",
          "output_type": "stream",
          "text": [
            "Train: 100% 2000/2000 [03:15<00:00, 10.21 step/s, accuracy=0.62, loss=1.31, step=14000]\n",
            "Valid: 100% 6944/6944 [00:23<00:00, 295.32 uttr/s, accuracy=0.61, loss=1.68]\n",
            "Train:   0% 2/2000 [00:00<05:32,  6.01 step/s, accuracy=0.72, loss=1.46, step=14001]"
          ]
        },
        {
          "metadata": {
            "tags": null
          },
          "name": "stdout",
          "output_type": "stream",
          "text": [
            "average loss = 1.5227       average accuracy = 0.6325)\n"
          ]
        },
        {
          "metadata": {
            "tags": null
          },
          "name": "stderr",
          "output_type": "stream",
          "text": [
            "Train:  50% 1002/2000 [01:41<02:13,  7.49 step/s, accuracy=0.59, loss=1.60, step=15002]"
          ]
        },
        {
          "metadata": {
            "tags": null
          },
          "name": "stdout",
          "output_type": "stream",
          "text": [
            "average loss = 1.4501       average accuracy = 0.6474)\n"
          ]
        },
        {
          "metadata": {
            "tags": null
          },
          "name": "stderr",
          "output_type": "stream",
          "text": [
            "Train: 100% 2000/2000 [03:16<00:00, 10.20 step/s, accuracy=0.66, loss=1.85, step=16000]\n",
            "Valid: 100% 6944/6944 [00:20<00:00, 332.33 uttr/s, accuracy=0.62, loss=1.67]\n",
            "Train:   0% 1/2000 [00:00<06:08,  5.43 step/s, accuracy=0.69, loss=1.10, step=16001]"
          ]
        },
        {
          "metadata": {
            "tags": null
          },
          "name": "stdout",
          "output_type": "stream",
          "text": [
            "Step 16000, best model saved. (accuracy=0.6202)\n",
            "average loss = 1.3777       average accuracy = 0.6636)\n"
          ]
        },
        {
          "metadata": {
            "tags": null
          },
          "name": "stderr",
          "output_type": "stream",
          "text": [
            "Train:  50% 1001/2000 [01:43<01:54,  8.71 step/s, accuracy=0.59, loss=1.55, step=17001]"
          ]
        },
        {
          "metadata": {
            "tags": null
          },
          "name": "stdout",
          "output_type": "stream",
          "text": [
            "average loss = 1.3182       average accuracy = 0.6761)\n"
          ]
        },
        {
          "metadata": {
            "tags": null
          },
          "name": "stderr",
          "output_type": "stream",
          "text": [
            "Train: 100% 2000/2000 [03:17<00:00, 10.14 step/s, accuracy=0.75, loss=0.99, step=18000]\n",
            "Valid: 100% 6944/6944 [00:20<00:00, 333.30 uttr/s, accuracy=0.66, loss=1.45]\n",
            "Train:   0% 2/2000 [00:00<04:49,  6.90 step/s, accuracy=0.81, loss=0.80, step=18002]"
          ]
        },
        {
          "metadata": {
            "tags": null
          },
          "name": "stdout",
          "output_type": "stream",
          "text": [
            "average loss = 1.2717       average accuracy = 0.6865)\n"
          ]
        },
        {
          "metadata": {
            "tags": null
          },
          "name": "stderr",
          "output_type": "stream",
          "text": [
            "Train:  50% 1001/2000 [01:43<01:50,  9.05 step/s, accuracy=0.69, loss=1.11, step=19001]"
          ]
        },
        {
          "metadata": {
            "tags": null
          },
          "name": "stdout",
          "output_type": "stream",
          "text": [
            "average loss = 1.2191       average accuracy = 0.7023)\n"
          ]
        },
        {
          "metadata": {
            "tags": null
          },
          "name": "stderr",
          "output_type": "stream",
          "text": [
            "Train: 100% 2000/2000 [03:13<00:00, 10.31 step/s, accuracy=0.59, loss=1.66, step=2e+4]\n",
            "Valid: 100% 6944/6944 [00:21<00:00, 329.54 uttr/s, accuracy=0.68, loss=1.38]\n",
            "Train:   0% 1/2000 [00:00<06:49,  4.88 step/s, accuracy=0.72, loss=1.37, step=2e+4]"
          ]
        },
        {
          "metadata": {
            "tags": null
          },
          "name": "stdout",
          "output_type": "stream",
          "text": [
            "Step 20000, best model saved. (accuracy=0.6758)\n",
            "average loss = 1.1636       average accuracy = 0.7128)\n"
          ]
        },
        {
          "metadata": {
            "tags": null
          },
          "name": "stderr",
          "output_type": "stream",
          "text": [
            "Train:  50% 1001/2000 [01:42<01:54,  8.70 step/s, accuracy=0.84, loss=0.94, step=21001]"
          ]
        },
        {
          "metadata": {
            "tags": null
          },
          "name": "stdout",
          "output_type": "stream",
          "text": [
            "average loss = 1.1454       average accuracy = 0.7124)\n"
          ]
        },
        {
          "metadata": {
            "tags": null
          },
          "name": "stderr",
          "output_type": "stream",
          "text": [
            "Train: 100% 2000/2000 [03:11<00:00, 10.42 step/s, accuracy=0.66, loss=1.34, step=22000]\n",
            "Valid: 100% 6944/6944 [00:21<00:00, 326.01 uttr/s, accuracy=0.66, loss=1.48]\n",
            "Train:   0% 2/2000 [00:00<04:44,  7.02 step/s, accuracy=0.66, loss=1.52, step=22002]"
          ]
        },
        {
          "metadata": {
            "tags": null
          },
          "name": "stdout",
          "output_type": "stream",
          "text": [
            "average loss = 1.0844       average accuracy = 0.7281)\n"
          ]
        },
        {
          "metadata": {
            "tags": null
          },
          "name": "stderr",
          "output_type": "stream",
          "text": [
            "Train:  50% 1001/2000 [01:43<01:47,  9.33 step/s, accuracy=0.78, loss=1.03, step=23001]"
          ]
        },
        {
          "metadata": {
            "tags": null
          },
          "name": "stdout",
          "output_type": "stream",
          "text": [
            "average loss = 1.0588       average accuracy = 0.7350)\n"
          ]
        },
        {
          "metadata": {
            "tags": null
          },
          "name": "stderr",
          "output_type": "stream",
          "text": [
            "Train: 100% 2000/2000 [03:10<00:00, 10.49 step/s, accuracy=0.81, loss=0.77, step=24000]\n",
            "Valid: 100% 6944/6944 [00:20<00:00, 335.44 uttr/s, accuracy=0.71, loss=1.24]\n",
            "Train:   0% 1/2000 [00:00<05:33,  6.00 step/s, accuracy=0.78, loss=0.78, step=24001]"
          ]
        },
        {
          "metadata": {
            "tags": null
          },
          "name": "stdout",
          "output_type": "stream",
          "text": [
            "Step 24000, best model saved. (accuracy=0.7136)\n",
            "average loss = 0.9976       average accuracy = 0.7478)\n"
          ]
        },
        {
          "metadata": {
            "tags": null
          },
          "name": "stderr",
          "output_type": "stream",
          "text": [
            "Train:  50% 1002/2000 [01:44<02:15,  7.34 step/s, accuracy=0.72, loss=1.08, step=25001]"
          ]
        },
        {
          "metadata": {
            "tags": null
          },
          "name": "stdout",
          "output_type": "stream",
          "text": [
            "average loss = 0.9837       average accuracy = 0.7494)\n"
          ]
        },
        {
          "metadata": {
            "tags": null
          },
          "name": "stderr",
          "output_type": "stream",
          "text": [
            "Train: 100% 2000/2000 [03:11<00:00, 10.43 step/s, accuracy=0.72, loss=0.95, step=26000]\n",
            "Valid: 100% 6944/6944 [00:21<00:00, 329.81 uttr/s, accuracy=0.72, loss=1.18]\n",
            "Train:   0% 1/2000 [00:00<04:15,  7.83 step/s, accuracy=0.78, loss=0.75, step=26001]"
          ]
        },
        {
          "metadata": {
            "tags": null
          },
          "name": "stdout",
          "output_type": "stream",
          "text": [
            "average loss = 0.9488       average accuracy = 0.7587)\n"
          ]
        },
        {
          "metadata": {
            "tags": null
          },
          "name": "stderr",
          "output_type": "stream",
          "text": [
            "Train:  50% 1001/2000 [01:45<01:51,  8.96 step/s, accuracy=0.72, loss=1.00, step=27001]"
          ]
        },
        {
          "metadata": {
            "tags": null
          },
          "name": "stdout",
          "output_type": "stream",
          "text": [
            "average loss = 0.9203       average accuracy = 0.7656)\n"
          ]
        },
        {
          "metadata": {
            "tags": null
          },
          "name": "stderr",
          "output_type": "stream",
          "text": [
            "Train: 100% 2000/2000 [03:12<00:00, 10.40 step/s, accuracy=0.59, loss=0.94, step=28000]\n",
            "Valid: 100% 6944/6944 [00:21<00:00, 323.81 uttr/s, accuracy=0.75, loss=1.08]\n",
            "Train:   0% 1/2000 [00:00<05:50,  5.70 step/s, accuracy=0.91, loss=0.33, step=28001]"
          ]
        },
        {
          "metadata": {
            "tags": null
          },
          "name": "stdout",
          "output_type": "stream",
          "text": [
            "Step 28000, best model saved. (accuracy=0.7463)\n",
            "average loss = 0.8653       average accuracy = 0.7794)\n"
          ]
        },
        {
          "metadata": {
            "tags": null
          },
          "name": "stderr",
          "output_type": "stream",
          "text": [
            "Train:  50% 1001/2000 [01:47<01:54,  8.72 step/s, accuracy=0.69, loss=0.92, step=29001]"
          ]
        },
        {
          "metadata": {
            "tags": null
          },
          "name": "stdout",
          "output_type": "stream",
          "text": [
            "average loss = 0.8580       average accuracy = 0.7785)\n"
          ]
        },
        {
          "metadata": {
            "tags": null
          },
          "name": "stderr",
          "output_type": "stream",
          "text": [
            "Train: 100% 2000/2000 [03:16<00:00, 10.20 step/s, accuracy=0.81, loss=0.68, step=3e+4]\n",
            "Valid: 100% 6944/6944 [00:21<00:00, 321.42 uttr/s, accuracy=0.75, loss=1.05]\n",
            "Train:   0% 2/2000 [00:00<05:53,  5.65 step/s, accuracy=0.84, loss=0.89, step=3e+4]"
          ]
        },
        {
          "metadata": {
            "tags": null
          },
          "name": "stdout",
          "output_type": "stream",
          "text": [
            "average loss = 0.8031       average accuracy = 0.7913)\n"
          ]
        },
        {
          "metadata": {
            "tags": null
          },
          "name": "stderr",
          "output_type": "stream",
          "text": [
            "Train:  50% 1002/2000 [01:47<01:53,  8.76 step/s, accuracy=0.78, loss=0.96, step=31002]"
          ]
        },
        {
          "metadata": {
            "tags": null
          },
          "name": "stdout",
          "output_type": "stream",
          "text": [
            "average loss = 0.8136       average accuracy = 0.7919)\n"
          ]
        },
        {
          "metadata": {
            "tags": null
          },
          "name": "stderr",
          "output_type": "stream",
          "text": [
            "Train: 100% 2000/2000 [03:15<00:00, 10.25 step/s, accuracy=0.84, loss=1.00, step=32000]\n",
            "Valid: 100% 6944/6944 [00:21<00:00, 318.90 uttr/s, accuracy=0.77, loss=1.01]\n",
            "Train:   0% 1/2000 [00:00<07:14,  4.60 step/s, accuracy=0.78, loss=0.68, step=32001]"
          ]
        },
        {
          "metadata": {
            "tags": null
          },
          "name": "stdout",
          "output_type": "stream",
          "text": [
            "Step 32000, best model saved. (accuracy=0.7651)\n",
            "average loss = 0.7506       average accuracy = 0.8058)\n"
          ]
        },
        {
          "metadata": {
            "tags": null
          },
          "name": "stderr",
          "output_type": "stream",
          "text": [
            "Train:  50% 1001/2000 [01:47<01:45,  9.50 step/s, accuracy=0.75, loss=0.63, step=33001]"
          ]
        },
        {
          "metadata": {
            "tags": null
          },
          "name": "stdout",
          "output_type": "stream",
          "text": [
            "average loss = 0.7672       average accuracy = 0.8028)\n"
          ]
        },
        {
          "metadata": {
            "tags": null
          },
          "name": "stderr",
          "output_type": "stream",
          "text": [
            "Train: 100% 2000/2000 [03:14<00:00, 10.30 step/s, accuracy=0.88, loss=0.60, step=34000]\n",
            "Valid: 100% 6944/6944 [00:21<00:00, 323.40 uttr/s, accuracy=0.76, loss=1.00]\n",
            "Train:   0% 1/2000 [00:00<03:53,  8.58 step/s, accuracy=0.81, loss=0.79, step=34001]"
          ]
        },
        {
          "metadata": {
            "tags": null
          },
          "name": "stdout",
          "output_type": "stream",
          "text": [
            "average loss = 0.7042       average accuracy = 0.8179)\n"
          ]
        },
        {
          "metadata": {
            "tags": null
          },
          "name": "stderr",
          "output_type": "stream",
          "text": [
            "Train:  50% 1001/2000 [01:46<01:35, 10.44 step/s, accuracy=0.84, loss=0.47, step=35001]"
          ]
        },
        {
          "metadata": {
            "tags": null
          },
          "name": "stdout",
          "output_type": "stream",
          "text": [
            "average loss = 0.7036       average accuracy = 0.8170)\n"
          ]
        },
        {
          "metadata": {
            "tags": null
          },
          "name": "stderr",
          "output_type": "stream",
          "text": [
            "Train: 100% 2000/2000 [03:11<00:00, 10.43 step/s, accuracy=0.88, loss=0.46, step=36000]\n",
            "Valid: 100% 6944/6944 [00:21<00:00, 318.24 uttr/s, accuracy=0.77, loss=0.98]\n",
            "Train:   0% 1/2000 [00:00<06:42,  4.97 step/s, accuracy=0.94, loss=0.45, step=36001]"
          ]
        },
        {
          "metadata": {
            "tags": null
          },
          "name": "stdout",
          "output_type": "stream",
          "text": [
            "Step 36000, best model saved. (accuracy=0.7736)\n",
            "average loss = 0.6417       average accuracy = 0.8341)\n"
          ]
        },
        {
          "metadata": {
            "tags": null
          },
          "name": "stderr",
          "output_type": "stream",
          "text": [
            "Train:  50% 1001/2000 [01:47<01:57,  8.51 step/s, accuracy=0.75, loss=0.85, step=37001]"
          ]
        },
        {
          "metadata": {
            "tags": null
          },
          "name": "stdout",
          "output_type": "stream",
          "text": [
            "average loss = 0.6698       average accuracy = 0.8281)\n"
          ]
        },
        {
          "metadata": {
            "tags": null
          },
          "name": "stderr",
          "output_type": "stream",
          "text": [
            "Train: 100% 2000/2000 [03:13<00:00, 10.34 step/s, accuracy=0.88, loss=0.61, step=38000]\n",
            "Valid: 100% 6944/6944 [00:21<00:00, 323.77 uttr/s, accuracy=0.78, loss=0.94]\n",
            "Train:   0% 2/2000 [00:00<05:18,  6.27 step/s, accuracy=0.94, loss=0.40, step=38002]"
          ]
        },
        {
          "metadata": {
            "tags": null
          },
          "name": "stdout",
          "output_type": "stream",
          "text": [
            "average loss = 0.6104       average accuracy = 0.8417)\n"
          ]
        },
        {
          "metadata": {
            "tags": null
          },
          "name": "stderr",
          "output_type": "stream",
          "text": [
            "Train:  50% 1001/2000 [01:46<01:49,  9.16 step/s, accuracy=0.97, loss=0.34, step=39001]"
          ]
        },
        {
          "metadata": {
            "tags": null
          },
          "name": "stdout",
          "output_type": "stream",
          "text": [
            "average loss = 0.6196       average accuracy = 0.8376)\n"
          ]
        },
        {
          "metadata": {
            "tags": null
          },
          "name": "stderr",
          "output_type": "stream",
          "text": [
            "Train: 100% 2000/2000 [03:12<00:00, 10.37 step/s, accuracy=0.78, loss=0.97, step=4e+4]\n",
            "Valid: 100% 6944/6944 [00:21<00:00, 318.05 uttr/s, accuracy=0.80, loss=0.87]\n",
            "Train:   0% 1/2000 [00:00<06:43,  4.95 step/s, accuracy=0.81, loss=0.93, step=4e+4]"
          ]
        },
        {
          "metadata": {
            "tags": null
          },
          "name": "stdout",
          "output_type": "stream",
          "text": [
            "Step 40000, best model saved. (accuracy=0.8004)\n",
            "average loss = 0.5677       average accuracy = 0.8514)\n"
          ]
        },
        {
          "metadata": {
            "tags": null
          },
          "name": "stderr",
          "output_type": "stream",
          "text": [
            "Train:  50% 1001/2000 [01:48<01:27, 11.40 step/s, accuracy=0.91, loss=0.50, step=41001]"
          ]
        },
        {
          "metadata": {
            "tags": null
          },
          "name": "stdout",
          "output_type": "stream",
          "text": [
            "average loss = 0.5758       average accuracy = 0.8508)\n"
          ]
        },
        {
          "metadata": {
            "tags": null
          },
          "name": "stderr",
          "output_type": "stream",
          "text": [
            "Train: 100% 2000/2000 [03:15<00:00, 10.26 step/s, accuracy=0.97, loss=0.19, step=42000]\n",
            "Valid: 100% 6944/6944 [00:21<00:00, 321.70 uttr/s, accuracy=0.80, loss=0.85]\n",
            "Train:   0% 1/2000 [00:00<04:07,  8.07 step/s, accuracy=0.75, loss=1.02, step=42001]"
          ]
        },
        {
          "metadata": {
            "tags": null
          },
          "name": "stdout",
          "output_type": "stream",
          "text": [
            "average loss = 0.5264       average accuracy = 0.8623)\n"
          ]
        },
        {
          "metadata": {
            "tags": null
          },
          "name": "stderr",
          "output_type": "stream",
          "text": [
            "Train:  50% 1002/2000 [01:47<01:13, 13.59 step/s, accuracy=0.81, loss=0.66, step=43002]"
          ]
        },
        {
          "metadata": {
            "tags": null
          },
          "name": "stdout",
          "output_type": "stream",
          "text": [
            "average loss = 0.5264       average accuracy = 0.8622)\n"
          ]
        },
        {
          "metadata": {
            "tags": null
          },
          "name": "stderr",
          "output_type": "stream",
          "text": [
            "Train: 100% 2000/2000 [03:14<00:00, 10.30 step/s, accuracy=0.91, loss=0.42, step=44000]\n",
            "Valid: 100% 6944/6944 [00:21<00:00, 321.49 uttr/s, accuracy=0.80, loss=0.82]\n",
            "Train:   0% 1/2000 [00:00<06:06,  5.45 step/s, accuracy=0.97, loss=0.20, step=44001]"
          ]
        },
        {
          "metadata": {
            "tags": null
          },
          "name": "stdout",
          "output_type": "stream",
          "text": [
            "Step 44000, best model saved. (accuracy=0.8043)\n",
            "average loss = 0.4802       average accuracy = 0.8732)\n"
          ]
        },
        {
          "metadata": {
            "tags": null
          },
          "name": "stderr",
          "output_type": "stream",
          "text": [
            "Train:  50% 1002/2000 [01:43<01:26, 11.58 step/s, accuracy=0.75, loss=1.15, step=45002]"
          ]
        },
        {
          "metadata": {
            "tags": null
          },
          "name": "stdout",
          "output_type": "stream",
          "text": [
            "average loss = 0.4850       average accuracy = 0.8723)\n"
          ]
        },
        {
          "metadata": {
            "tags": null
          },
          "name": "stderr",
          "output_type": "stream",
          "text": [
            "Train: 100% 2000/2000 [03:13<00:00, 10.33 step/s, accuracy=0.94, loss=0.32, step=46000]\n",
            "Valid: 100% 6944/6944 [00:21<00:00, 324.12 uttr/s, accuracy=0.82, loss=0.78]\n",
            "Train:   0% 1/2000 [00:00<05:14,  6.36 step/s, accuracy=0.88, loss=0.40, step=46001]"
          ]
        },
        {
          "metadata": {
            "tags": null
          },
          "name": "stdout",
          "output_type": "stream",
          "text": [
            "average loss = 0.4552       average accuracy = 0.8810)\n"
          ]
        },
        {
          "metadata": {
            "tags": null
          },
          "name": "stderr",
          "output_type": "stream",
          "text": [
            "Train:  50% 1001/2000 [01:42<01:09, 14.39 step/s, accuracy=0.88, loss=0.40, step=47001]"
          ]
        },
        {
          "metadata": {
            "tags": null
          },
          "name": "stdout",
          "output_type": "stream",
          "text": [
            "average loss = 0.4561       average accuracy = 0.8793)\n"
          ]
        },
        {
          "metadata": {
            "tags": null
          },
          "name": "stderr",
          "output_type": "stream",
          "text": [
            "Train: 100% 2000/2000 [03:13<00:00, 10.34 step/s, accuracy=0.97, loss=0.08, step=48000]\n",
            "Valid: 100% 6944/6944 [00:22<00:00, 313.68 uttr/s, accuracy=0.82, loss=0.75]\n",
            "Train:   0% 1/2000 [00:00<06:47,  4.90 step/s, accuracy=0.91, loss=0.30, step=48001]"
          ]
        },
        {
          "metadata": {
            "tags": null
          },
          "name": "stdout",
          "output_type": "stream",
          "text": [
            "Step 48000, best model saved. (accuracy=0.8236)\n",
            "average loss = 0.4145       average accuracy = 0.8922)\n"
          ]
        },
        {
          "metadata": {
            "tags": null
          },
          "name": "stderr",
          "output_type": "stream",
          "text": [
            "Train:  50% 1002/2000 [01:42<01:29, 11.11 step/s, accuracy=0.88, loss=0.33, step=49002]"
          ]
        },
        {
          "metadata": {
            "tags": null
          },
          "name": "stdout",
          "output_type": "stream",
          "text": [
            "average loss = 0.4181       average accuracy = 0.8917)\n"
          ]
        },
        {
          "metadata": {
            "tags": null
          },
          "name": "stderr",
          "output_type": "stream",
          "text": [
            "Train: 100% 2000/2000 [03:11<00:00, 10.43 step/s, accuracy=0.94, loss=0.16, step=5e+4]\n",
            "Valid: 100% 6944/6944 [00:21<00:00, 324.19 uttr/s, accuracy=0.83, loss=0.72]\n",
            "Train:   0% 1/2000 [00:00<03:57,  8.42 step/s, accuracy=0.91, loss=0.29, step=5e+4]"
          ]
        },
        {
          "metadata": {
            "tags": null
          },
          "name": "stdout",
          "output_type": "stream",
          "text": [
            "average loss = 0.4026       average accuracy = 0.8953)\n"
          ]
        },
        {
          "output_type": "stream",
          "name": "stderr",
          "text": [
            "Train:  50% 1002/2000 [01:39<01:21, 12.24 step/s, accuracy=0.88, loss=0.47, step=51002]"
          ]
        },
        {
          "output_type": "stream",
          "name": "stdout",
          "text": [
            "average loss = 0.3878       average accuracy = 0.8989)\n"
          ]
        },
        {
          "output_type": "stream",
          "name": "stderr",
          "text": [
            "Train: 100% 2000/2000 [03:09<00:00, 10.57 step/s, accuracy=0.91, loss=0.47, step=52000]\n",
            "Valid: 100% 6944/6944 [00:21<00:00, 318.53 uttr/s, accuracy=0.84, loss=0.69]\n",
            "Train:   0% 1/2000 [00:00<05:53,  5.66 step/s, accuracy=0.81, loss=0.56, step=52001]"
          ]
        },
        {
          "output_type": "stream",
          "name": "stdout",
          "text": [
            "Step 52000, best model saved. (accuracy=0.8420)\n",
            "average loss = 0.3724       average accuracy = 0.9031)\n"
          ]
        },
        {
          "output_type": "stream",
          "name": "stderr",
          "text": [
            "Train:  50% 1002/2000 [01:38<01:34, 10.56 step/s, accuracy=0.88, loss=0.44, step=53002]"
          ]
        },
        {
          "output_type": "stream",
          "name": "stdout",
          "text": [
            "average loss = 0.3658       average accuracy = 0.9058)\n"
          ]
        },
        {
          "output_type": "stream",
          "name": "stderr",
          "text": [
            "Train: 100% 2000/2000 [03:10<00:00, 10.48 step/s, accuracy=0.81, loss=0.61, step=54000]\n",
            "Valid: 100% 6944/6944 [00:21<00:00, 318.78 uttr/s, accuracy=0.84, loss=0.68]\n",
            "Train:   0% 2/2000 [00:00<05:27,  6.10 step/s, accuracy=0.88, loss=0.57, step=54001]"
          ]
        },
        {
          "output_type": "stream",
          "name": "stdout",
          "text": [
            "average loss = 0.3444       average accuracy = 0.9105)\n"
          ]
        },
        {
          "output_type": "stream",
          "name": "stderr",
          "text": [
            "Train:  50% 1002/2000 [01:36<01:31, 10.88 step/s, accuracy=0.94, loss=0.21, step=55002]"
          ]
        },
        {
          "output_type": "stream",
          "name": "stdout",
          "text": [
            "average loss = 0.3434       average accuracy = 0.9106)\n"
          ]
        },
        {
          "output_type": "stream",
          "name": "stderr",
          "text": [
            "Train: 100% 2000/2000 [03:10<00:00, 10.49 step/s, accuracy=0.94, loss=0.22, step=56000]\n",
            "Valid: 100% 6944/6944 [00:21<00:00, 322.93 uttr/s, accuracy=0.85, loss=0.68]\n",
            "Train:   0% 1/2000 [00:00<06:28,  5.15 step/s, accuracy=0.94, loss=0.16, step=56001]"
          ]
        },
        {
          "output_type": "stream",
          "name": "stdout",
          "text": [
            "Step 56000, best model saved. (accuracy=0.8459)\n",
            "average loss = 0.3270       average accuracy = 0.9156)\n"
          ]
        },
        {
          "output_type": "stream",
          "name": "stderr",
          "text": [
            "Train:  50% 1002/2000 [01:35<01:31, 10.88 step/s, accuracy=0.94, loss=0.26, step=57002]"
          ]
        },
        {
          "output_type": "stream",
          "name": "stdout",
          "text": [
            "average loss = 0.3206       average accuracy = 0.9176)\n"
          ]
        },
        {
          "output_type": "stream",
          "name": "stderr",
          "text": [
            "Train: 100% 2000/2000 [03:10<00:00, 10.52 step/s, accuracy=1.00, loss=0.11, step=58000]\n",
            "Valid: 100% 6944/6944 [00:21<00:00, 323.01 uttr/s, accuracy=0.85, loss=0.66]\n",
            "Train:   0% 2/2000 [00:00<05:12,  6.39 step/s, accuracy=0.91, loss=0.43, step=58002]"
          ]
        },
        {
          "output_type": "stream",
          "name": "stdout",
          "text": [
            "average loss = 0.3133       average accuracy = 0.9208)\n"
          ]
        },
        {
          "output_type": "stream",
          "name": "stderr",
          "text": [
            "Train:  50% 1002/2000 [01:33<01:31, 10.94 step/s, accuracy=0.78, loss=0.55, step=59002]"
          ]
        },
        {
          "output_type": "stream",
          "name": "stdout",
          "text": [
            "average loss = 0.3042       average accuracy = 0.9230)\n"
          ]
        },
        {
          "output_type": "stream",
          "name": "stderr",
          "text": [
            "Train: 100% 2000/2000 [03:08<00:00, 10.58 step/s, accuracy=0.97, loss=0.20, step=6e+4]\n",
            "Valid: 100% 6944/6944 [00:21<00:00, 324.74 uttr/s, accuracy=0.85, loss=0.65]\n",
            "Train:   0% 1/2000 [00:00<06:09,  5.40 step/s, accuracy=0.81, loss=0.54, step=6e+4]"
          ]
        },
        {
          "output_type": "stream",
          "name": "stdout",
          "text": [
            "Step 60000, best model saved. (accuracy=0.8508)\n",
            "average loss = 0.2953       average accuracy = 0.9246)\n"
          ]
        },
        {
          "output_type": "stream",
          "name": "stderr",
          "text": [
            "Train:  50% 1002/2000 [01:34<01:25, 11.63 step/s, accuracy=0.94, loss=0.35, step=61002]"
          ]
        },
        {
          "output_type": "stream",
          "name": "stdout",
          "text": [
            "average loss = 0.2863       average accuracy = 0.9272)\n"
          ]
        },
        {
          "output_type": "stream",
          "name": "stderr",
          "text": [
            "Train: 100% 2000/2000 [03:12<00:00, 10.41 step/s, accuracy=0.97, loss=0.17, step=62000]\n",
            "Valid: 100% 6944/6944 [00:20<00:00, 336.39 uttr/s, accuracy=0.85, loss=0.63]\n",
            "Train:   0% 1/2000 [00:00<04:48,  6.94 step/s, accuracy=0.97, loss=0.30, step=62001]"
          ]
        },
        {
          "output_type": "stream",
          "name": "stdout",
          "text": [
            "average loss = 0.2904       average accuracy = 0.9260)\n"
          ]
        },
        {
          "output_type": "stream",
          "name": "stderr",
          "text": [
            "Train:  50% 1002/2000 [01:32<01:39, 10.00 step/s, accuracy=0.91, loss=0.48, step=63002]"
          ]
        },
        {
          "output_type": "stream",
          "name": "stdout",
          "text": [
            "average loss = 0.2774       average accuracy = 0.9300)\n"
          ]
        },
        {
          "output_type": "stream",
          "name": "stderr",
          "text": [
            "Train: 100% 2000/2000 [03:11<00:00, 10.43 step/s, accuracy=0.84, loss=0.60, step=64000]\n",
            "Valid: 100% 6944/6944 [00:21<00:00, 330.47 uttr/s, accuracy=0.86, loss=0.61]\n",
            "Train:   0% 1/2000 [00:00<07:01,  4.74 step/s, accuracy=0.91, loss=0.33, step=64001]"
          ]
        },
        {
          "output_type": "stream",
          "name": "stdout",
          "text": [
            "Step 64000, best model saved. (accuracy=0.8593)\n",
            "average loss = 0.2752       average accuracy = 0.9317)\n"
          ]
        },
        {
          "output_type": "stream",
          "name": "stderr",
          "text": [
            "Train:  50% 1002/2000 [01:30<01:30, 11.00 step/s, accuracy=0.94, loss=0.40, step=65002]"
          ]
        },
        {
          "output_type": "stream",
          "name": "stdout",
          "text": [
            "average loss = 0.2738       average accuracy = 0.9313)\n"
          ]
        },
        {
          "output_type": "stream",
          "name": "stderr",
          "text": [
            "Train: 100% 2000/2000 [03:12<00:00, 10.41 step/s, accuracy=0.81, loss=0.49, step=66000]\n",
            "Valid: 100% 6944/6944 [00:20<00:00, 331.41 uttr/s, accuracy=0.85, loss=0.64]\n",
            "Train:   0% 1/2000 [00:00<04:20,  7.67 step/s, accuracy=0.97, loss=0.10, step=66001]"
          ]
        },
        {
          "output_type": "stream",
          "name": "stdout",
          "text": [
            "average loss = 0.2676       average accuracy = 0.9334)\n"
          ]
        },
        {
          "output_type": "stream",
          "name": "stderr",
          "text": [
            "Train:  50% 1002/2000 [01:32<01:28, 11.28 step/s, accuracy=0.94, loss=0.16, step=67002]"
          ]
        },
        {
          "output_type": "stream",
          "name": "stdout",
          "text": [
            "average loss = 0.2709       average accuracy = 0.9326)\n"
          ]
        },
        {
          "output_type": "stream",
          "name": "stderr",
          "text": [
            "Train: 100% 2000/2000 [03:14<00:00, 10.29 step/s, accuracy=0.94, loss=0.22, step=68000]\n",
            "Valid: 100% 6944/6944 [00:20<00:00, 333.11 uttr/s, accuracy=0.86, loss=0.61]\n",
            "Train:   0% 1/2000 [00:00<05:59,  5.56 step/s, accuracy=0.91, loss=0.26, step=68001]"
          ]
        },
        {
          "output_type": "stream",
          "name": "stdout",
          "text": [
            "Step 68000, best model saved. (accuracy=0.8635)\n",
            "average loss = 0.2658       average accuracy = 0.9336)\n"
          ]
        },
        {
          "output_type": "stream",
          "name": "stderr",
          "text": [
            "Train:  50% 1002/2000 [01:32<01:30, 11.01 step/s, accuracy=0.84, loss=0.40, step=69002]"
          ]
        },
        {
          "output_type": "stream",
          "name": "stdout",
          "text": [
            "average loss = 0.2645       average accuracy = 0.9346)\n"
          ]
        },
        {
          "output_type": "stream",
          "name": "stderr",
          "text": [
            "Train: 100% 2000/2000 [03:15<00:00, 10.22 step/s, accuracy=0.94, loss=0.36, step=7e+4]\n",
            "Valid: 100% 6944/6944 [00:20<00:00, 340.89 uttr/s, accuracy=0.85, loss=0.64]\n",
            "Train:   0% 0/2000 [00:00<?, ? step/s]\n"
          ]
        }
      ],
      "source": [
        "from tqdm import tqdm\n",
        "\n",
        "import torch\n",
        "import torch.nn as nn\n",
        "from torch.optim import AdamW\n",
        "from torch.utils.data import DataLoader, random_split\n",
        "import numpy as np\n",
        "\n",
        "# def parse_args():\n",
        "#   \"\"\"arguments\"\"\"\n",
        "#   config = {\n",
        "#     \"data_dir\": \"/content/Dataset\",\n",
        "#     \"save_path\": \"model.ckpt\",\n",
        "#     \"batch_size\": 32,\n",
        "#     \"n_workers\": 8,\n",
        "#     \"valid_steps\": 2000,\n",
        "#     \"warmup_steps\": 1000,\n",
        "#     \"save_steps\": 10000,\n",
        "#     \"total_steps\": 70000,\n",
        "#   }\n",
        "\n",
        "#   return config\n",
        "\n",
        "\n",
        "def main(\n",
        "  data_dir,\n",
        "  save_path,\n",
        "  batch_size,\n",
        "  n_workers,\n",
        "  valid_steps,\n",
        "  warmup_steps,\n",
        "  total_steps,\n",
        "  save_steps,\n",
        "):\n",
        "  \"\"\"Main function.\"\"\"\n",
        "  device = torch.device(\"cuda\" if torch.cuda.is_available() else \"cpu\")\n",
        "  print(f\"[Info]: Use {device} now!\")\n",
        "\n",
        "  train_loader, valid_loader, speaker_num = get_dataloader(data_dir, batch_size, n_workers)\n",
        "  train_iterator = iter(train_loader)\n",
        "  print(f\"[Info]: Finish loading data!\",flush = True)\n",
        "  #\n",
        "  torch.backends.cudnn.benchmark = True\n",
        "  torch.backends.cudnn.deterministic = True\n",
        "  myseed = 1\n",
        "  np.random.seed(myseed)\n",
        "  torch.manual_seed(myseed)\n",
        "  if torch.cuda.is_available():\n",
        "    torch.cuda.manual_seed_all(myseed)\n",
        "\n",
        "  model = Classifier(n_spks=speaker_num).to(device)\n",
        "  #model.load_state_dict(torch.load(save_path))\n",
        "  criterion = nn.CrossEntropyLoss()\n",
        "  optimizer = AdamW(model.parameters(), lr=1e-3)\n",
        "  scheduler = get_cosine_schedule_with_warmup(optimizer, warmup_steps, total_steps)\n",
        "  print(f\"[Info]: Finish creating model!\",flush = True)\n",
        "\n",
        "  best_accuracy = -1.0\n",
        "  best_state_dict = None\n",
        "  # pbar has total 2000 step\n",
        "  pbar = tqdm(total=valid_steps, ncols=0, desc=\"Train\", unit=\" step\")\n",
        "  # print train loss and accuracy every 1000 step\n",
        "\n",
        "  loss_acc_list = []\n",
        "\n",
        "  for step in range(total_steps):\n",
        "    # Get data\n",
        "    try:\n",
        "      batch = next(train_iterator)\n",
        "    except StopIteration:\n",
        "      train_iterator = iter(train_loader)\n",
        "      batch = next(train_iterator)\n",
        "\n",
        "    loss, accuracy = model_fn(batch, model, criterion, device)\n",
        "    batch_loss = loss.item()\n",
        "    batch_accuracy = accuracy.item()\n",
        "\n",
        "    # Updata model\n",
        "    loss.backward()\n",
        "    optimizer.step()\n",
        "    scheduler.step()\n",
        "    optimizer.zero_grad()\n",
        "    # print train loss acc\n",
        "    loss_acc_list.append((loss, accuracy))\n",
        "    print_loss , print_acc = list(zip(*loss_acc_list))\n",
        "    if step % 1000 == 0:\n",
        "      print(f\"average loss = {sum(print_loss)/len(print_loss):.4f} \\\n",
        "      average accuracy = {sum(print_acc)/len(print_acc):.4f})\")\n",
        "      loss_acc_list = []\n",
        "\n",
        "    # Log\n",
        "    # update each step (as total)\n",
        "    pbar.update()\n",
        "    pbar.set_postfix(\n",
        "      loss=f\"{batch_loss:.2f}\",\n",
        "      accuracy=f\"{batch_accuracy:.2f}\",\n",
        "      step=step + 1,\n",
        "    )\n",
        "\n",
        "    # Do validation\n",
        "    # valid each 2000 step\n",
        "    if (step + 1) % valid_steps == 0:\n",
        "      #close above pbar\n",
        "      pbar.close()\n",
        "\n",
        "      valid_accuracy = valid(valid_loader, model, criterion, device)\n",
        "\n",
        "      # keep the best model\n",
        "      if valid_accuracy > best_accuracy:\n",
        "        best_accuracy = valid_accuracy\n",
        "        best_state_dict = model.state_dict()\n",
        "      # new pbar has total 2000 step\n",
        "      pbar = tqdm(total=valid_steps, ncols=0, desc=\"Train\", unit=\" step\")\n",
        "\n",
        "    # Save the best model so far.\n",
        "    if (step + 1) % save_steps == 0 and best_state_dict is not None:\n",
        "      torch.save(best_state_dict, save_path)\n",
        "      pbar.write(f\"Step {step + 1}, best model saved. (accuracy={best_accuracy:.4f})\")\n",
        "\n",
        "  pbar.close()\n",
        "\n",
        "\n",
        "if __name__ == \"__main__\":\n",
        "  main(**parse_args())"
      ]
    },
    {
      "cell_type": "markdown",
      "metadata": {
        "id": "0ZnUtE246AXm"
      },
      "source": [
        "##### original : val acc = 68%\n",
        "##### d_model 128 , multihead 1\n",
        "##### train acc = 80% , val acc = 73%\n",
        "\n",
        "##### TransformerEncoder layer : 1 -> 4\n",
        "##### Step : 70000 -> 100000\n",
        "##### train acc = 92% , val acc = 83%\n",
        "\n",
        "##### TransformerEncoder layer : 1 -> 4\n",
        "##### stat pooling -> self attention pooling\n",
        "##### Step : 100000 -> 120000\n",
        "##### train acc = 95% , val acc = 86%\n",
        "\n",
        "##### TransformerEncoder layer : 1 -> 5\n",
        "##### stat pooling -> self attention pooling\n",
        "##### prep layer : only keep last layer\n",
        "##### Step : 70000 -> 56000(imcomplete)\n",
        "##### train acc = 90% , val acc = 83%(imcomplete)\n",
        "\n",
        "##### ConformerEncoder layer : 2\n",
        "##### multihead 1 -> 2\n",
        "##### add batch normalization in feedforward layers\n",
        "##### stat pooling -> self attention pooling\n",
        "##### prep layer : only keep last layer\n",
        "##### train acc = 93% , val acc = 84%\n",
        "\n",
        "##### ConformerEncoder layer : 2\n",
        "##### multihead 1 -> 2\n",
        "##### stat pooling -> self attention pooling\n",
        "##### train acc = 93% , val acc = 86%"
      ]
    },
    {
      "cell_type": "code",
      "execution_count": null,
      "metadata": {
        "id": "ED3v3VUxUHDM"
      },
      "outputs": [],
      "source": [
        "import os\n",
        "import json\n",
        "import torch\n",
        "from pathlib import Path\n",
        "from torch.utils.data import Dataset\n",
        "\n",
        "\n",
        "class InferenceDataset(Dataset):\n",
        "  def __init__(self, data_dir):\n",
        "    # using / to merge path\n",
        "    testdata_path = Path(data_dir) / \"testdata.json\"\n",
        "    metadata = json.load(testdata_path.open())\n",
        "    self.data_dir = data_dir\n",
        "    #\n",
        "    self.data = metadata[\"utterances\"]\n",
        "\n",
        "  def __len__(self):\n",
        "    return len(self.data)\n",
        "\n",
        "  def __getitem__(self, index):\n",
        "    utterance = self.data[index]\n",
        "    feat_path = utterance[\"feature_path\"]\n",
        "    mel = torch.load(os.path.join(self.data_dir, feat_path))\n",
        "    # compare : when we load training set, we use append to concate datas\n",
        "    return feat_path, mel\n",
        "\n",
        "\n",
        "def inference_collate_batch(batch):\n",
        "  \"\"\"Collate a batch of data.\"\"\"\n",
        "  feat_paths, mels = zip(*batch)\n",
        "\n",
        "  return feat_paths, torch.stack(mels)"
      ]
    },
    {
      "cell_type": "code",
      "execution_count": null,
      "metadata": {
        "id": "WGfTSJDtUYPB",
        "outputId": "9d844f0d-c2d2-4144-b758-6767ce0ae7d9",
        "colab": {
          "base_uri": "https://localhost:8080/",
          "height": 496,
          "referenced_widgets": [
            "c892de86f11a43f9ab8d5afb82698f36",
            "e0b8202a88c641a5a480f97cc221a08c",
            "05a61c4018524dc39f41edc247edb2d6",
            "fdd84bade90442908bb419cc26bf59f9",
            "ce853a2c871746df83780d11273ee1d9",
            "01e54eae242b46d19bfa5996ed7f76b6",
            "020b2fa1febb44dbae89e4b4738d281d",
            "58f6ca1da33c434a9bf41c4b4ac396b6",
            "290c3317fd7d488487eb61032839ad19",
            "bc988d28ba58454ea5f22976ff7dd010",
            "7458bbb761b645849510f2876a7fa5a5"
          ]
        }
      },
      "outputs": [
        {
          "output_type": "stream",
          "name": "stdout",
          "text": [
            "[Info]: Use cuda now!\n",
            "[Info]: Finish loading data!\n",
            "[Info]: Finish creating model!\n"
          ]
        },
        {
          "output_type": "stream",
          "name": "stderr",
          "text": [
            "/usr/local/lib/python3.10/dist-packages/torch/utils/data/dataloader.py:557: UserWarning: This DataLoader will create 8 worker processes in total. Our suggested max number of worker in current system is 2, which is smaller than what this DataLoader is going to create. Please be aware that excessive worker creation might get DataLoader running slow or even freeze, lower the worker number to avoid potential slowness/freeze if necessary.\n",
            "  warnings.warn(_create_warning_msg(\n"
          ]
        },
        {
          "output_type": "display_data",
          "data": {
            "text/plain": [
              "  0%|          | 0/6000 [00:00<?, ?it/s]"
            ],
            "application/vnd.jupyter.widget-view+json": {
              "version_major": 2,
              "version_minor": 0,
              "model_id": "c892de86f11a43f9ab8d5afb82698f36"
            }
          },
          "metadata": {}
        },
        {
          "output_type": "error",
          "ename": "RuntimeError",
          "evalue": "ignored",
          "traceback": [
            "\u001b[0;31m---------------------------------------------------------------------------\u001b[0m",
            "\u001b[0;31mRuntimeError\u001b[0m                              Traceback (most recent call last)",
            "\u001b[0;32m<ipython-input-15-f0201e808101>\u001b[0m in \u001b[0;36m<cell line: 66>\u001b[0;34m()\u001b[0m\n\u001b[1;32m     65\u001b[0m \u001b[0;34m\u001b[0m\u001b[0m\n\u001b[1;32m     66\u001b[0m \u001b[0;32mif\u001b[0m \u001b[0m__name__\u001b[0m \u001b[0;34m==\u001b[0m \u001b[0;34m\"__main__\"\u001b[0m\u001b[0;34m:\u001b[0m\u001b[0;34m\u001b[0m\u001b[0;34m\u001b[0m\u001b[0m\n\u001b[0;32m---> 67\u001b[0;31m   \u001b[0mmain\u001b[0m\u001b[0;34m(\u001b[0m\u001b[0;34m**\u001b[0m\u001b[0mparse_args\u001b[0m\u001b[0;34m(\u001b[0m\u001b[0;34m)\u001b[0m\u001b[0;34m)\u001b[0m\u001b[0;34m\u001b[0m\u001b[0;34m\u001b[0m\u001b[0m\n\u001b[0m",
            "\u001b[0;32m<ipython-input-15-f0201e808101>\u001b[0m in \u001b[0;36mmain\u001b[0;34m(data_dir, model_path, output_path)\u001b[0m\n\u001b[1;32m     51\u001b[0m     \u001b[0;32mwith\u001b[0m \u001b[0mtorch\u001b[0m\u001b[0;34m.\u001b[0m\u001b[0mno_grad\u001b[0m\u001b[0;34m(\u001b[0m\u001b[0;34m)\u001b[0m\u001b[0;34m:\u001b[0m\u001b[0;34m\u001b[0m\u001b[0;34m\u001b[0m\u001b[0m\n\u001b[1;32m     52\u001b[0m       \u001b[0mmels\u001b[0m \u001b[0;34m=\u001b[0m \u001b[0mmels\u001b[0m\u001b[0;34m.\u001b[0m\u001b[0mto\u001b[0m\u001b[0;34m(\u001b[0m\u001b[0mdevice\u001b[0m\u001b[0;34m)\u001b[0m\u001b[0;34m\u001b[0m\u001b[0;34m\u001b[0m\u001b[0m\n\u001b[0;32m---> 53\u001b[0;31m       \u001b[0mouts\u001b[0m \u001b[0;34m=\u001b[0m \u001b[0mmodel\u001b[0m\u001b[0;34m(\u001b[0m\u001b[0mmels\u001b[0m\u001b[0;34m)\u001b[0m\u001b[0;34m\u001b[0m\u001b[0;34m\u001b[0m\u001b[0m\n\u001b[0m\u001b[1;32m     54\u001b[0m       \u001b[0mpreds\u001b[0m \u001b[0;34m=\u001b[0m \u001b[0mouts\u001b[0m\u001b[0;34m.\u001b[0m\u001b[0margmax\u001b[0m\u001b[0;34m(\u001b[0m\u001b[0;36m1\u001b[0m\u001b[0;34m)\u001b[0m\u001b[0;34m.\u001b[0m\u001b[0mcpu\u001b[0m\u001b[0;34m(\u001b[0m\u001b[0;34m)\u001b[0m\u001b[0;34m.\u001b[0m\u001b[0mnumpy\u001b[0m\u001b[0;34m(\u001b[0m\u001b[0;34m)\u001b[0m\u001b[0;34m\u001b[0m\u001b[0;34m\u001b[0m\u001b[0m\n\u001b[1;32m     55\u001b[0m       \u001b[0;31m# zip from two list to a sequence of tuples\u001b[0m\u001b[0;34m\u001b[0m\u001b[0;34m\u001b[0m\u001b[0m\n",
            "\u001b[0;32m/usr/local/lib/python3.10/dist-packages/torch/nn/modules/module.py\u001b[0m in \u001b[0;36m_wrapped_call_impl\u001b[0;34m(self, *args, **kwargs)\u001b[0m\n\u001b[1;32m   1516\u001b[0m             \u001b[0;32mreturn\u001b[0m \u001b[0mself\u001b[0m\u001b[0;34m.\u001b[0m\u001b[0m_compiled_call_impl\u001b[0m\u001b[0;34m(\u001b[0m\u001b[0;34m*\u001b[0m\u001b[0margs\u001b[0m\u001b[0;34m,\u001b[0m \u001b[0;34m**\u001b[0m\u001b[0mkwargs\u001b[0m\u001b[0;34m)\u001b[0m  \u001b[0;31m# type: ignore[misc]\u001b[0m\u001b[0;34m\u001b[0m\u001b[0;34m\u001b[0m\u001b[0m\n\u001b[1;32m   1517\u001b[0m         \u001b[0;32melse\u001b[0m\u001b[0;34m:\u001b[0m\u001b[0;34m\u001b[0m\u001b[0;34m\u001b[0m\u001b[0m\n\u001b[0;32m-> 1518\u001b[0;31m             \u001b[0;32mreturn\u001b[0m \u001b[0mself\u001b[0m\u001b[0;34m.\u001b[0m\u001b[0m_call_impl\u001b[0m\u001b[0;34m(\u001b[0m\u001b[0;34m*\u001b[0m\u001b[0margs\u001b[0m\u001b[0;34m,\u001b[0m \u001b[0;34m**\u001b[0m\u001b[0mkwargs\u001b[0m\u001b[0;34m)\u001b[0m\u001b[0;34m\u001b[0m\u001b[0;34m\u001b[0m\u001b[0m\n\u001b[0m\u001b[1;32m   1519\u001b[0m \u001b[0;34m\u001b[0m\u001b[0m\n\u001b[1;32m   1520\u001b[0m     \u001b[0;32mdef\u001b[0m \u001b[0m_call_impl\u001b[0m\u001b[0;34m(\u001b[0m\u001b[0mself\u001b[0m\u001b[0;34m,\u001b[0m \u001b[0;34m*\u001b[0m\u001b[0margs\u001b[0m\u001b[0;34m,\u001b[0m \u001b[0;34m**\u001b[0m\u001b[0mkwargs\u001b[0m\u001b[0;34m)\u001b[0m\u001b[0;34m:\u001b[0m\u001b[0;34m\u001b[0m\u001b[0;34m\u001b[0m\u001b[0m\n",
            "\u001b[0;32m/usr/local/lib/python3.10/dist-packages/torch/nn/modules/module.py\u001b[0m in \u001b[0;36m_call_impl\u001b[0;34m(self, *args, **kwargs)\u001b[0m\n\u001b[1;32m   1525\u001b[0m                 \u001b[0;32mor\u001b[0m \u001b[0m_global_backward_pre_hooks\u001b[0m \u001b[0;32mor\u001b[0m \u001b[0m_global_backward_hooks\u001b[0m\u001b[0;34m\u001b[0m\u001b[0;34m\u001b[0m\u001b[0m\n\u001b[1;32m   1526\u001b[0m                 or _global_forward_hooks or _global_forward_pre_hooks):\n\u001b[0;32m-> 1527\u001b[0;31m             \u001b[0;32mreturn\u001b[0m \u001b[0mforward_call\u001b[0m\u001b[0;34m(\u001b[0m\u001b[0;34m*\u001b[0m\u001b[0margs\u001b[0m\u001b[0;34m,\u001b[0m \u001b[0;34m**\u001b[0m\u001b[0mkwargs\u001b[0m\u001b[0;34m)\u001b[0m\u001b[0;34m\u001b[0m\u001b[0;34m\u001b[0m\u001b[0m\n\u001b[0m\u001b[1;32m   1528\u001b[0m \u001b[0;34m\u001b[0m\u001b[0m\n\u001b[1;32m   1529\u001b[0m         \u001b[0;32mtry\u001b[0m\u001b[0;34m:\u001b[0m\u001b[0;34m\u001b[0m\u001b[0;34m\u001b[0m\u001b[0m\n",
            "\u001b[0;32m<ipython-input-8-c7ba6f2cdd95>\u001b[0m in \u001b[0;36mforward\u001b[0;34m(self, mels)\u001b[0m\n\u001b[1;32m     36\u001b[0m     \u001b[0mout\u001b[0m \u001b[0;34m=\u001b[0m \u001b[0mself\u001b[0m\u001b[0;34m.\u001b[0m\u001b[0mprenet\u001b[0m\u001b[0;34m(\u001b[0m\u001b[0mmels\u001b[0m\u001b[0;34m)\u001b[0m\u001b[0;34m\u001b[0m\u001b[0;34m\u001b[0m\u001b[0m\n\u001b[1;32m     37\u001b[0m     \u001b[0;32mfor\u001b[0m \u001b[0mlayer\u001b[0m \u001b[0;32min\u001b[0m \u001b[0mself\u001b[0m\u001b[0;34m.\u001b[0m\u001b[0mconformers\u001b[0m\u001b[0;34m:\u001b[0m\u001b[0;34m\u001b[0m\u001b[0;34m\u001b[0m\u001b[0m\n\u001b[0;32m---> 38\u001b[0;31m       \u001b[0mout\u001b[0m \u001b[0;34m=\u001b[0m \u001b[0mlayer\u001b[0m\u001b[0;34m(\u001b[0m\u001b[0mout\u001b[0m\u001b[0;34m)\u001b[0m\u001b[0;34m\u001b[0m\u001b[0;34m\u001b[0m\u001b[0m\n\u001b[0m\u001b[1;32m     39\u001b[0m \u001b[0;34m\u001b[0m\u001b[0m\n\u001b[1;32m     40\u001b[0m \u001b[0;34m\u001b[0m\u001b[0m\n",
            "\u001b[0;32m/usr/local/lib/python3.10/dist-packages/torch/nn/modules/module.py\u001b[0m in \u001b[0;36m_wrapped_call_impl\u001b[0;34m(self, *args, **kwargs)\u001b[0m\n\u001b[1;32m   1516\u001b[0m             \u001b[0;32mreturn\u001b[0m \u001b[0mself\u001b[0m\u001b[0;34m.\u001b[0m\u001b[0m_compiled_call_impl\u001b[0m\u001b[0;34m(\u001b[0m\u001b[0;34m*\u001b[0m\u001b[0margs\u001b[0m\u001b[0;34m,\u001b[0m \u001b[0;34m**\u001b[0m\u001b[0mkwargs\u001b[0m\u001b[0;34m)\u001b[0m  \u001b[0;31m# type: ignore[misc]\u001b[0m\u001b[0;34m\u001b[0m\u001b[0;34m\u001b[0m\u001b[0m\n\u001b[1;32m   1517\u001b[0m         \u001b[0;32melse\u001b[0m\u001b[0;34m:\u001b[0m\u001b[0;34m\u001b[0m\u001b[0;34m\u001b[0m\u001b[0m\n\u001b[0;32m-> 1518\u001b[0;31m             \u001b[0;32mreturn\u001b[0m \u001b[0mself\u001b[0m\u001b[0;34m.\u001b[0m\u001b[0m_call_impl\u001b[0m\u001b[0;34m(\u001b[0m\u001b[0;34m*\u001b[0m\u001b[0margs\u001b[0m\u001b[0;34m,\u001b[0m \u001b[0;34m**\u001b[0m\u001b[0mkwargs\u001b[0m\u001b[0;34m)\u001b[0m\u001b[0;34m\u001b[0m\u001b[0;34m\u001b[0m\u001b[0m\n\u001b[0m\u001b[1;32m   1519\u001b[0m \u001b[0;34m\u001b[0m\u001b[0m\n\u001b[1;32m   1520\u001b[0m     \u001b[0;32mdef\u001b[0m \u001b[0m_call_impl\u001b[0m\u001b[0;34m(\u001b[0m\u001b[0mself\u001b[0m\u001b[0;34m,\u001b[0m \u001b[0;34m*\u001b[0m\u001b[0margs\u001b[0m\u001b[0;34m,\u001b[0m \u001b[0;34m**\u001b[0m\u001b[0mkwargs\u001b[0m\u001b[0;34m)\u001b[0m\u001b[0;34m:\u001b[0m\u001b[0;34m\u001b[0m\u001b[0;34m\u001b[0m\u001b[0m\n",
            "\u001b[0;32m/usr/local/lib/python3.10/dist-packages/torch/nn/modules/module.py\u001b[0m in \u001b[0;36m_call_impl\u001b[0;34m(self, *args, **kwargs)\u001b[0m\n\u001b[1;32m   1525\u001b[0m                 \u001b[0;32mor\u001b[0m \u001b[0m_global_backward_pre_hooks\u001b[0m \u001b[0;32mor\u001b[0m \u001b[0m_global_backward_hooks\u001b[0m\u001b[0;34m\u001b[0m\u001b[0;34m\u001b[0m\u001b[0m\n\u001b[1;32m   1526\u001b[0m                 or _global_forward_hooks or _global_forward_pre_hooks):\n\u001b[0;32m-> 1527\u001b[0;31m             \u001b[0;32mreturn\u001b[0m \u001b[0mforward_call\u001b[0m\u001b[0;34m(\u001b[0m\u001b[0;34m*\u001b[0m\u001b[0margs\u001b[0m\u001b[0;34m,\u001b[0m \u001b[0;34m**\u001b[0m\u001b[0mkwargs\u001b[0m\u001b[0;34m)\u001b[0m\u001b[0;34m\u001b[0m\u001b[0;34m\u001b[0m\u001b[0m\n\u001b[0m\u001b[1;32m   1528\u001b[0m \u001b[0;34m\u001b[0m\u001b[0m\n\u001b[1;32m   1529\u001b[0m         \u001b[0;32mtry\u001b[0m\u001b[0;34m:\u001b[0m\u001b[0;34m\u001b[0m\u001b[0;34m\u001b[0m\u001b[0m\n",
            "\u001b[0;32m<ipython-input-7-537fe2b1037c>\u001b[0m in \u001b[0;36mforward\u001b[0;34m(self, x)\u001b[0m\n\u001b[1;32m     67\u001b[0m   \u001b[0;32mdef\u001b[0m \u001b[0mforward\u001b[0m\u001b[0;34m(\u001b[0m\u001b[0mself\u001b[0m \u001b[0;34m,\u001b[0m\u001b[0mx\u001b[0m \u001b[0;34m)\u001b[0m\u001b[0;34m:\u001b[0m\u001b[0;34m\u001b[0m\u001b[0;34m\u001b[0m\u001b[0m\n\u001b[1;32m     68\u001b[0m     \u001b[0;31m# part 1\u001b[0m\u001b[0;34m\u001b[0m\u001b[0;34m\u001b[0m\u001b[0m\n\u001b[0;32m---> 69\u001b[0;31m     \u001b[0mx\u001b[0m \u001b[0;34m=\u001b[0m \u001b[0mx\u001b[0m \u001b[0;34m+\u001b[0m \u001b[0;36m0.5\u001b[0m \u001b[0;34m*\u001b[0m \u001b[0mself\u001b[0m\u001b[0;34m.\u001b[0m\u001b[0mfeed_forward_layer_1\u001b[0m\u001b[0;34m(\u001b[0m\u001b[0mx\u001b[0m\u001b[0;34m)\u001b[0m\u001b[0;34m\u001b[0m\u001b[0;34m\u001b[0m\u001b[0m\n\u001b[0m\u001b[1;32m     70\u001b[0m     \u001b[0;31m# part 2\u001b[0m\u001b[0;34m\u001b[0m\u001b[0;34m\u001b[0m\u001b[0m\n\u001b[1;32m     71\u001b[0m     \u001b[0mx\u001b[0m \u001b[0;34m=\u001b[0m \u001b[0mx\u001b[0m\u001b[0;34m.\u001b[0m\u001b[0mpermute\u001b[0m\u001b[0;34m(\u001b[0m\u001b[0;36m1\u001b[0m\u001b[0;34m,\u001b[0m \u001b[0;36m0\u001b[0m\u001b[0;34m,\u001b[0m \u001b[0;36m2\u001b[0m\u001b[0;34m)\u001b[0m\u001b[0;34m\u001b[0m\u001b[0;34m\u001b[0m\u001b[0m\n",
            "\u001b[0;32m/usr/local/lib/python3.10/dist-packages/torch/nn/modules/module.py\u001b[0m in \u001b[0;36m_wrapped_call_impl\u001b[0;34m(self, *args, **kwargs)\u001b[0m\n\u001b[1;32m   1516\u001b[0m             \u001b[0;32mreturn\u001b[0m \u001b[0mself\u001b[0m\u001b[0;34m.\u001b[0m\u001b[0m_compiled_call_impl\u001b[0m\u001b[0;34m(\u001b[0m\u001b[0;34m*\u001b[0m\u001b[0margs\u001b[0m\u001b[0;34m,\u001b[0m \u001b[0;34m**\u001b[0m\u001b[0mkwargs\u001b[0m\u001b[0;34m)\u001b[0m  \u001b[0;31m# type: ignore[misc]\u001b[0m\u001b[0;34m\u001b[0m\u001b[0;34m\u001b[0m\u001b[0m\n\u001b[1;32m   1517\u001b[0m         \u001b[0;32melse\u001b[0m\u001b[0;34m:\u001b[0m\u001b[0;34m\u001b[0m\u001b[0;34m\u001b[0m\u001b[0m\n\u001b[0;32m-> 1518\u001b[0;31m             \u001b[0;32mreturn\u001b[0m \u001b[0mself\u001b[0m\u001b[0;34m.\u001b[0m\u001b[0m_call_impl\u001b[0m\u001b[0;34m(\u001b[0m\u001b[0;34m*\u001b[0m\u001b[0margs\u001b[0m\u001b[0;34m,\u001b[0m \u001b[0;34m**\u001b[0m\u001b[0mkwargs\u001b[0m\u001b[0;34m)\u001b[0m\u001b[0;34m\u001b[0m\u001b[0;34m\u001b[0m\u001b[0m\n\u001b[0m\u001b[1;32m   1519\u001b[0m \u001b[0;34m\u001b[0m\u001b[0m\n\u001b[1;32m   1520\u001b[0m     \u001b[0;32mdef\u001b[0m \u001b[0m_call_impl\u001b[0m\u001b[0;34m(\u001b[0m\u001b[0mself\u001b[0m\u001b[0;34m,\u001b[0m \u001b[0;34m*\u001b[0m\u001b[0margs\u001b[0m\u001b[0;34m,\u001b[0m \u001b[0;34m**\u001b[0m\u001b[0mkwargs\u001b[0m\u001b[0;34m)\u001b[0m\u001b[0;34m:\u001b[0m\u001b[0;34m\u001b[0m\u001b[0;34m\u001b[0m\u001b[0m\n",
            "\u001b[0;32m/usr/local/lib/python3.10/dist-packages/torch/nn/modules/module.py\u001b[0m in \u001b[0;36m_call_impl\u001b[0;34m(self, *args, **kwargs)\u001b[0m\n\u001b[1;32m   1525\u001b[0m                 \u001b[0;32mor\u001b[0m \u001b[0m_global_backward_pre_hooks\u001b[0m \u001b[0;32mor\u001b[0m \u001b[0m_global_backward_hooks\u001b[0m\u001b[0;34m\u001b[0m\u001b[0;34m\u001b[0m\u001b[0m\n\u001b[1;32m   1526\u001b[0m                 or _global_forward_hooks or _global_forward_pre_hooks):\n\u001b[0;32m-> 1527\u001b[0;31m             \u001b[0;32mreturn\u001b[0m \u001b[0mforward_call\u001b[0m\u001b[0;34m(\u001b[0m\u001b[0;34m*\u001b[0m\u001b[0margs\u001b[0m\u001b[0;34m,\u001b[0m \u001b[0;34m**\u001b[0m\u001b[0mkwargs\u001b[0m\u001b[0;34m)\u001b[0m\u001b[0;34m\u001b[0m\u001b[0;34m\u001b[0m\u001b[0m\n\u001b[0m\u001b[1;32m   1528\u001b[0m \u001b[0;34m\u001b[0m\u001b[0m\n\u001b[1;32m   1529\u001b[0m         \u001b[0;32mtry\u001b[0m\u001b[0;34m:\u001b[0m\u001b[0;34m\u001b[0m\u001b[0;34m\u001b[0m\u001b[0m\n",
            "\u001b[0;32m/usr/local/lib/python3.10/dist-packages/torch/nn/modules/container.py\u001b[0m in \u001b[0;36mforward\u001b[0;34m(self, input)\u001b[0m\n\u001b[1;32m    213\u001b[0m     \u001b[0;32mdef\u001b[0m \u001b[0mforward\u001b[0m\u001b[0;34m(\u001b[0m\u001b[0mself\u001b[0m\u001b[0;34m,\u001b[0m \u001b[0minput\u001b[0m\u001b[0;34m)\u001b[0m\u001b[0;34m:\u001b[0m\u001b[0;34m\u001b[0m\u001b[0;34m\u001b[0m\u001b[0m\n\u001b[1;32m    214\u001b[0m         \u001b[0;32mfor\u001b[0m \u001b[0mmodule\u001b[0m \u001b[0;32min\u001b[0m \u001b[0mself\u001b[0m\u001b[0;34m:\u001b[0m\u001b[0;34m\u001b[0m\u001b[0;34m\u001b[0m\u001b[0m\n\u001b[0;32m--> 215\u001b[0;31m             \u001b[0minput\u001b[0m \u001b[0;34m=\u001b[0m \u001b[0mmodule\u001b[0m\u001b[0;34m(\u001b[0m\u001b[0minput\u001b[0m\u001b[0;34m)\u001b[0m\u001b[0;34m\u001b[0m\u001b[0;34m\u001b[0m\u001b[0m\n\u001b[0m\u001b[1;32m    216\u001b[0m         \u001b[0;32mreturn\u001b[0m \u001b[0minput\u001b[0m\u001b[0;34m\u001b[0m\u001b[0;34m\u001b[0m\u001b[0m\n\u001b[1;32m    217\u001b[0m \u001b[0;34m\u001b[0m\u001b[0m\n",
            "\u001b[0;32m/usr/local/lib/python3.10/dist-packages/torch/nn/modules/module.py\u001b[0m in \u001b[0;36m_wrapped_call_impl\u001b[0;34m(self, *args, **kwargs)\u001b[0m\n\u001b[1;32m   1516\u001b[0m             \u001b[0;32mreturn\u001b[0m \u001b[0mself\u001b[0m\u001b[0;34m.\u001b[0m\u001b[0m_compiled_call_impl\u001b[0m\u001b[0;34m(\u001b[0m\u001b[0;34m*\u001b[0m\u001b[0margs\u001b[0m\u001b[0;34m,\u001b[0m \u001b[0;34m**\u001b[0m\u001b[0mkwargs\u001b[0m\u001b[0;34m)\u001b[0m  \u001b[0;31m# type: ignore[misc]\u001b[0m\u001b[0;34m\u001b[0m\u001b[0;34m\u001b[0m\u001b[0m\n\u001b[1;32m   1517\u001b[0m         \u001b[0;32melse\u001b[0m\u001b[0;34m:\u001b[0m\u001b[0;34m\u001b[0m\u001b[0;34m\u001b[0m\u001b[0m\n\u001b[0;32m-> 1518\u001b[0;31m             \u001b[0;32mreturn\u001b[0m \u001b[0mself\u001b[0m\u001b[0;34m.\u001b[0m\u001b[0m_call_impl\u001b[0m\u001b[0;34m(\u001b[0m\u001b[0;34m*\u001b[0m\u001b[0margs\u001b[0m\u001b[0;34m,\u001b[0m \u001b[0;34m**\u001b[0m\u001b[0mkwargs\u001b[0m\u001b[0;34m)\u001b[0m\u001b[0;34m\u001b[0m\u001b[0;34m\u001b[0m\u001b[0m\n\u001b[0m\u001b[1;32m   1519\u001b[0m \u001b[0;34m\u001b[0m\u001b[0m\n\u001b[1;32m   1520\u001b[0m     \u001b[0;32mdef\u001b[0m \u001b[0m_call_impl\u001b[0m\u001b[0;34m(\u001b[0m\u001b[0mself\u001b[0m\u001b[0;34m,\u001b[0m \u001b[0;34m*\u001b[0m\u001b[0margs\u001b[0m\u001b[0;34m,\u001b[0m \u001b[0;34m**\u001b[0m\u001b[0mkwargs\u001b[0m\u001b[0;34m)\u001b[0m\u001b[0;34m:\u001b[0m\u001b[0;34m\u001b[0m\u001b[0;34m\u001b[0m\u001b[0m\n",
            "\u001b[0;32m/usr/local/lib/python3.10/dist-packages/torch/nn/modules/module.py\u001b[0m in \u001b[0;36m_call_impl\u001b[0;34m(self, *args, **kwargs)\u001b[0m\n\u001b[1;32m   1525\u001b[0m                 \u001b[0;32mor\u001b[0m \u001b[0m_global_backward_pre_hooks\u001b[0m \u001b[0;32mor\u001b[0m \u001b[0m_global_backward_hooks\u001b[0m\u001b[0;34m\u001b[0m\u001b[0;34m\u001b[0m\u001b[0m\n\u001b[1;32m   1526\u001b[0m                 or _global_forward_hooks or _global_forward_pre_hooks):\n\u001b[0;32m-> 1527\u001b[0;31m             \u001b[0;32mreturn\u001b[0m \u001b[0mforward_call\u001b[0m\u001b[0;34m(\u001b[0m\u001b[0;34m*\u001b[0m\u001b[0margs\u001b[0m\u001b[0;34m,\u001b[0m \u001b[0;34m**\u001b[0m\u001b[0mkwargs\u001b[0m\u001b[0;34m)\u001b[0m\u001b[0;34m\u001b[0m\u001b[0;34m\u001b[0m\u001b[0m\n\u001b[0m\u001b[1;32m   1528\u001b[0m \u001b[0;34m\u001b[0m\u001b[0m\n\u001b[1;32m   1529\u001b[0m         \u001b[0;32mtry\u001b[0m\u001b[0;34m:\u001b[0m\u001b[0;34m\u001b[0m\u001b[0;34m\u001b[0m\u001b[0m\n",
            "\u001b[0;32m/usr/local/lib/python3.10/dist-packages/torch/nn/modules/batchnorm.py\u001b[0m in \u001b[0;36mforward\u001b[0;34m(self, input)\u001b[0m\n\u001b[1;32m    169\u001b[0m         \u001b[0mused\u001b[0m \u001b[0;32mfor\u001b[0m \u001b[0mnormalization\u001b[0m \u001b[0;34m(\u001b[0m\u001b[0mi\u001b[0m\u001b[0;34m.\u001b[0m\u001b[0me\u001b[0m\u001b[0;34m.\u001b[0m \u001b[0;32min\u001b[0m \u001b[0meval\u001b[0m \u001b[0mmode\u001b[0m \u001b[0mwhen\u001b[0m \u001b[0mbuffers\u001b[0m \u001b[0mare\u001b[0m \u001b[0;32mnot\u001b[0m \u001b[0;32mNone\u001b[0m\u001b[0;34m)\u001b[0m\u001b[0;34m.\u001b[0m\u001b[0;34m\u001b[0m\u001b[0;34m\u001b[0m\u001b[0m\n\u001b[1;32m    170\u001b[0m         \"\"\"\n\u001b[0;32m--> 171\u001b[0;31m         return F.batch_norm(\n\u001b[0m\u001b[1;32m    172\u001b[0m             \u001b[0minput\u001b[0m\u001b[0;34m,\u001b[0m\u001b[0;34m\u001b[0m\u001b[0;34m\u001b[0m\u001b[0m\n\u001b[1;32m    173\u001b[0m             \u001b[0;31m# If buffers are not to be tracked, ensure that they won't be updated\u001b[0m\u001b[0;34m\u001b[0m\u001b[0;34m\u001b[0m\u001b[0m\n",
            "\u001b[0;32m/usr/local/lib/python3.10/dist-packages/torch/nn/functional.py\u001b[0m in \u001b[0;36mbatch_norm\u001b[0;34m(input, running_mean, running_var, weight, bias, training, momentum, eps)\u001b[0m\n\u001b[1;32m   2476\u001b[0m         \u001b[0m_verify_batch_size\u001b[0m\u001b[0;34m(\u001b[0m\u001b[0minput\u001b[0m\u001b[0;34m.\u001b[0m\u001b[0msize\u001b[0m\u001b[0;34m(\u001b[0m\u001b[0;34m)\u001b[0m\u001b[0;34m)\u001b[0m\u001b[0;34m\u001b[0m\u001b[0;34m\u001b[0m\u001b[0m\n\u001b[1;32m   2477\u001b[0m \u001b[0;34m\u001b[0m\u001b[0m\n\u001b[0;32m-> 2478\u001b[0;31m     return torch.batch_norm(\n\u001b[0m\u001b[1;32m   2479\u001b[0m         \u001b[0minput\u001b[0m\u001b[0;34m,\u001b[0m \u001b[0mweight\u001b[0m\u001b[0;34m,\u001b[0m \u001b[0mbias\u001b[0m\u001b[0;34m,\u001b[0m \u001b[0mrunning_mean\u001b[0m\u001b[0;34m,\u001b[0m \u001b[0mrunning_var\u001b[0m\u001b[0;34m,\u001b[0m \u001b[0mtraining\u001b[0m\u001b[0;34m,\u001b[0m \u001b[0mmomentum\u001b[0m\u001b[0;34m,\u001b[0m \u001b[0meps\u001b[0m\u001b[0;34m,\u001b[0m \u001b[0mtorch\u001b[0m\u001b[0;34m.\u001b[0m\u001b[0mbackends\u001b[0m\u001b[0;34m.\u001b[0m\u001b[0mcudnn\u001b[0m\u001b[0;34m.\u001b[0m\u001b[0menabled\u001b[0m\u001b[0;34m\u001b[0m\u001b[0;34m\u001b[0m\u001b[0m\n\u001b[1;32m   2480\u001b[0m     )\n",
            "\u001b[0;31mRuntimeError\u001b[0m: running_mean should contain 2112 elements not 128"
          ]
        }
      ],
      "source": [
        "import json\n",
        "import csv\n",
        "from pathlib import Path\n",
        "from tqdm.notebook import tqdm\n",
        "\n",
        "import torch\n",
        "from torch.utils.data import DataLoader\n",
        "\n",
        "def parse_args():\n",
        "  \"\"\"arguments\"\"\"\n",
        "  config = {\n",
        "    \"data_dir\": \"./Dataset\",\n",
        "    \"model_path\": \"./model.ckpt\",\n",
        "    \"output_path\": \"./output.csv\",\n",
        "  }\n",
        "\n",
        "  return config\n",
        "\n",
        "\n",
        "def main(\n",
        "  data_dir,\n",
        "  model_path,\n",
        "  output_path,\n",
        "):\n",
        "  \"\"\"Main function.\"\"\"\n",
        "  device = torch.device(\"cuda\" if torch.cuda.is_available() else \"cpu\")\n",
        "  print(f\"[Info]: Use {device} now!\")\n",
        "\n",
        "  mapping_path = Path(data_dir) / \"mapping.json\"\n",
        "  mapping = json.load(mapping_path.open())\n",
        "\n",
        "  dataset = InferenceDataset(data_dir)\n",
        "  dataloader = DataLoader(\n",
        "    dataset,\n",
        "    batch_size=1,\n",
        "    shuffle=False,\n",
        "    drop_last=False,\n",
        "    num_workers=8,\n",
        "    collate_fn=inference_collate_batch,\n",
        "  )\n",
        "  print(f\"[Info]: Finish loading data!\",flush = True)\n",
        "\n",
        "  speaker_num = len(mapping[\"id2speaker\"])\n",
        "  model = Classifier(n_spks=speaker_num).to(device)\n",
        "  model.load_state_dict(torch.load(model_path))\n",
        "  model.eval()\n",
        "  print(f\"[Info]: Finish creating model!\",flush = True)\n",
        "\n",
        "  results = [[\"Id\", \"Category\"]]\n",
        "  for feat_paths, mels in tqdm(dataloader):\n",
        "    with torch.no_grad():\n",
        "      mels = mels.to(device)\n",
        "      outs = model(mels)\n",
        "      preds = outs.argmax(1).cpu().numpy()\n",
        "      # zip from two list to a sequence of tuples\n",
        "      # preds is a numpy array whose elements are int numbers\n",
        "      for feat_path, pred in zip(feat_paths, preds):\n",
        "        # mapping[\"id2speaker\"] = {\"0\": \"id10001\", ......'599':  'id11251'}])\n",
        "        results.append([feat_path, mapping[\"id2speaker\"][str(pred)]])\n",
        "\n",
        "  with open(output_path, 'w', newline='') as csvfile:\n",
        "    writer = csv.writer(csvfile)\n",
        "    writer.writerows(results)\n",
        "\n",
        "\n",
        "if __name__ == \"__main__\":\n",
        "  main(**parse_args())\n"
      ]
    },
    {
      "cell_type": "code",
      "execution_count": null,
      "metadata": {
        "id": "nuDMfXVo9mD-"
      },
      "outputs": [],
      "source": [
        "# class MyLinearLayer(nn.Module):\n",
        "#     \"\"\" Custom Linear layer but mimics a standard linear layer \"\"\"\n",
        "#     def __init__(self, size_in, size_out):\n",
        "#         super().__init__()\n",
        "#         self.size_in, self.size_out = size_in, size_out\n",
        "#         weights = torch.Tensor(size_out, size_in)\n",
        "#         self.weights = nn.Parameter(weights)  # nn.Parameter is a Tensor that's a module parameter.\n",
        "#         bias = torch.Tensor(size_out)\n",
        "#         self.bias = nn.Parameter(bias)\n",
        "\n",
        "#         # initialize weights and biases\n",
        "#         nn.init.kaiming_uniform_(self.weights, a=math.sqrt(5)) # weight init\n",
        "#         fan_in, _ = nn.init._calculate_fan_in_and_fan_out(self.weights)\n",
        "#         bound = 1 / math.sqrt(fan_in)\n",
        "#         nn.init.uniform_(self.bias, -bound, bound)  # bias init\n",
        "\n",
        "#     def forward(self, x):\n",
        "#         w_times_x= torch.mm(x, self.weights.t())\n",
        "#         return torch.add(w_times_x, self.bias)  # w times x + b\n",
        "# class MyLinear(nn.Module):\n",
        "#     def __init__(self, in_units, units):\n",
        "#         super().__init__()\n",
        "#         self.weight = nn.Parameter(torch.randn(in_units, units))\n",
        "#         self.bias = nn.Parameter(torch.randn(units,))\n",
        "\n",
        "#     def forward(self, X):\n",
        "#         linear = torch.matmul(X, self.weight.data) + self.bias.data\n",
        "#         return F.relu(linear)\n",
        "# class NoisyLinear(T.nn.Module):\n",
        "#   def __init__(self, n_in, n_out):\n",
        "#     super().__init__()\n",
        "#     self.n_in, self.n_out = n_in, n_out\n",
        "\n",
        "#     self.weights = T.nn.Parameter(T.zeros((n_out, n_in),\n",
        "#       dtype=T.float32))\n",
        "#     self.bias = T.nn.Parameter(T.tensor(n_out,\n",
        "#       dtype=T.float32))\n",
        "#     self.lo = 0.90; self.hi = 0.98  # noise\n",
        "\n",
        "#     lim = 0.01  # initialize weights and bias\n",
        "#     T.nn.init.uniform_(self.weights, -lim, +lim)\n",
        "#     T.nn.init.uniform_(self.bias, -lim, +lim)\n",
        "\n",
        "#   def forward(self, x):\n",
        "#     wx= T.mm(x, self.weights.t())\n",
        "#     rnd = (self.hi - self.lo) * T.rand(1) + self.lo\n",
        "#     return rnd * T.add(wx, self.bias)  # wts * x + bias\n",
        "# class PrintLayer(nn.Module):\n",
        "#     def __init__(self):\n",
        "#         super(PrintLayer, self).__init__()\n",
        "\n",
        "#     def forward(self, x):\n",
        "#         # Do your print / debug stuff here\n",
        "#         print(x)\n",
        "#         return x"
      ]
    }
  ],
  "metadata": {
    "colab": {
      "provenance": [],
      "gpuType": "T4",
      "include_colab_link": true
    },
    "kernelspec": {
      "display_name": "Python 3",
      "name": "python3"
    },
    "language_info": {
      "codemirror_mode": {
        "name": "ipython",
        "version": 3
      },
      "file_extension": ".py",
      "mimetype": "text/x-python",
      "name": "python",
      "nbconvert_exporter": "python",
      "pygments_lexer": "ipython3",
      "version": "3.11.5"
    },
    "accelerator": "GPU",
    "widgets": {
      "application/vnd.jupyter.widget-state+json": {
        "c892de86f11a43f9ab8d5afb82698f36": {
          "model_module": "@jupyter-widgets/controls",
          "model_name": "HBoxModel",
          "model_module_version": "1.5.0",
          "state": {
            "_dom_classes": [],
            "_model_module": "@jupyter-widgets/controls",
            "_model_module_version": "1.5.0",
            "_model_name": "HBoxModel",
            "_view_count": null,
            "_view_module": "@jupyter-widgets/controls",
            "_view_module_version": "1.5.0",
            "_view_name": "HBoxView",
            "box_style": "",
            "children": [
              "IPY_MODEL_e0b8202a88c641a5a480f97cc221a08c",
              "IPY_MODEL_05a61c4018524dc39f41edc247edb2d6",
              "IPY_MODEL_fdd84bade90442908bb419cc26bf59f9"
            ],
            "layout": "IPY_MODEL_ce853a2c871746df83780d11273ee1d9"
          }
        },
        "e0b8202a88c641a5a480f97cc221a08c": {
          "model_module": "@jupyter-widgets/controls",
          "model_name": "HTMLModel",
          "model_module_version": "1.5.0",
          "state": {
            "_dom_classes": [],
            "_model_module": "@jupyter-widgets/controls",
            "_model_module_version": "1.5.0",
            "_model_name": "HTMLModel",
            "_view_count": null,
            "_view_module": "@jupyter-widgets/controls",
            "_view_module_version": "1.5.0",
            "_view_name": "HTMLView",
            "description": "",
            "description_tooltip": null,
            "layout": "IPY_MODEL_01e54eae242b46d19bfa5996ed7f76b6",
            "placeholder": "​",
            "style": "IPY_MODEL_020b2fa1febb44dbae89e4b4738d281d",
            "value": "  0%"
          }
        },
        "05a61c4018524dc39f41edc247edb2d6": {
          "model_module": "@jupyter-widgets/controls",
          "model_name": "FloatProgressModel",
          "model_module_version": "1.5.0",
          "state": {
            "_dom_classes": [],
            "_model_module": "@jupyter-widgets/controls",
            "_model_module_version": "1.5.0",
            "_model_name": "FloatProgressModel",
            "_view_count": null,
            "_view_module": "@jupyter-widgets/controls",
            "_view_module_version": "1.5.0",
            "_view_name": "ProgressView",
            "bar_style": "danger",
            "description": "",
            "description_tooltip": null,
            "layout": "IPY_MODEL_58f6ca1da33c434a9bf41c4b4ac396b6",
            "max": 6000,
            "min": 0,
            "orientation": "horizontal",
            "style": "IPY_MODEL_290c3317fd7d488487eb61032839ad19",
            "value": 0
          }
        },
        "fdd84bade90442908bb419cc26bf59f9": {
          "model_module": "@jupyter-widgets/controls",
          "model_name": "HTMLModel",
          "model_module_version": "1.5.0",
          "state": {
            "_dom_classes": [],
            "_model_module": "@jupyter-widgets/controls",
            "_model_module_version": "1.5.0",
            "_model_name": "HTMLModel",
            "_view_count": null,
            "_view_module": "@jupyter-widgets/controls",
            "_view_module_version": "1.5.0",
            "_view_name": "HTMLView",
            "description": "",
            "description_tooltip": null,
            "layout": "IPY_MODEL_bc988d28ba58454ea5f22976ff7dd010",
            "placeholder": "​",
            "style": "IPY_MODEL_7458bbb761b645849510f2876a7fa5a5",
            "value": " 0/6000 [00:01&lt;?, ?it/s]"
          }
        },
        "ce853a2c871746df83780d11273ee1d9": {
          "model_module": "@jupyter-widgets/base",
          "model_name": "LayoutModel",
          "model_module_version": "1.2.0",
          "state": {
            "_model_module": "@jupyter-widgets/base",
            "_model_module_version": "1.2.0",
            "_model_name": "LayoutModel",
            "_view_count": null,
            "_view_module": "@jupyter-widgets/base",
            "_view_module_version": "1.2.0",
            "_view_name": "LayoutView",
            "align_content": null,
            "align_items": null,
            "align_self": null,
            "border": null,
            "bottom": null,
            "display": null,
            "flex": null,
            "flex_flow": null,
            "grid_area": null,
            "grid_auto_columns": null,
            "grid_auto_flow": null,
            "grid_auto_rows": null,
            "grid_column": null,
            "grid_gap": null,
            "grid_row": null,
            "grid_template_areas": null,
            "grid_template_columns": null,
            "grid_template_rows": null,
            "height": null,
            "justify_content": null,
            "justify_items": null,
            "left": null,
            "margin": null,
            "max_height": null,
            "max_width": null,
            "min_height": null,
            "min_width": null,
            "object_fit": null,
            "object_position": null,
            "order": null,
            "overflow": null,
            "overflow_x": null,
            "overflow_y": null,
            "padding": null,
            "right": null,
            "top": null,
            "visibility": null,
            "width": null
          }
        },
        "01e54eae242b46d19bfa5996ed7f76b6": {
          "model_module": "@jupyter-widgets/base",
          "model_name": "LayoutModel",
          "model_module_version": "1.2.0",
          "state": {
            "_model_module": "@jupyter-widgets/base",
            "_model_module_version": "1.2.0",
            "_model_name": "LayoutModel",
            "_view_count": null,
            "_view_module": "@jupyter-widgets/base",
            "_view_module_version": "1.2.0",
            "_view_name": "LayoutView",
            "align_content": null,
            "align_items": null,
            "align_self": null,
            "border": null,
            "bottom": null,
            "display": null,
            "flex": null,
            "flex_flow": null,
            "grid_area": null,
            "grid_auto_columns": null,
            "grid_auto_flow": null,
            "grid_auto_rows": null,
            "grid_column": null,
            "grid_gap": null,
            "grid_row": null,
            "grid_template_areas": null,
            "grid_template_columns": null,
            "grid_template_rows": null,
            "height": null,
            "justify_content": null,
            "justify_items": null,
            "left": null,
            "margin": null,
            "max_height": null,
            "max_width": null,
            "min_height": null,
            "min_width": null,
            "object_fit": null,
            "object_position": null,
            "order": null,
            "overflow": null,
            "overflow_x": null,
            "overflow_y": null,
            "padding": null,
            "right": null,
            "top": null,
            "visibility": null,
            "width": null
          }
        },
        "020b2fa1febb44dbae89e4b4738d281d": {
          "model_module": "@jupyter-widgets/controls",
          "model_name": "DescriptionStyleModel",
          "model_module_version": "1.5.0",
          "state": {
            "_model_module": "@jupyter-widgets/controls",
            "_model_module_version": "1.5.0",
            "_model_name": "DescriptionStyleModel",
            "_view_count": null,
            "_view_module": "@jupyter-widgets/base",
            "_view_module_version": "1.2.0",
            "_view_name": "StyleView",
            "description_width": ""
          }
        },
        "58f6ca1da33c434a9bf41c4b4ac396b6": {
          "model_module": "@jupyter-widgets/base",
          "model_name": "LayoutModel",
          "model_module_version": "1.2.0",
          "state": {
            "_model_module": "@jupyter-widgets/base",
            "_model_module_version": "1.2.0",
            "_model_name": "LayoutModel",
            "_view_count": null,
            "_view_module": "@jupyter-widgets/base",
            "_view_module_version": "1.2.0",
            "_view_name": "LayoutView",
            "align_content": null,
            "align_items": null,
            "align_self": null,
            "border": null,
            "bottom": null,
            "display": null,
            "flex": null,
            "flex_flow": null,
            "grid_area": null,
            "grid_auto_columns": null,
            "grid_auto_flow": null,
            "grid_auto_rows": null,
            "grid_column": null,
            "grid_gap": null,
            "grid_row": null,
            "grid_template_areas": null,
            "grid_template_columns": null,
            "grid_template_rows": null,
            "height": null,
            "justify_content": null,
            "justify_items": null,
            "left": null,
            "margin": null,
            "max_height": null,
            "max_width": null,
            "min_height": null,
            "min_width": null,
            "object_fit": null,
            "object_position": null,
            "order": null,
            "overflow": null,
            "overflow_x": null,
            "overflow_y": null,
            "padding": null,
            "right": null,
            "top": null,
            "visibility": null,
            "width": null
          }
        },
        "290c3317fd7d488487eb61032839ad19": {
          "model_module": "@jupyter-widgets/controls",
          "model_name": "ProgressStyleModel",
          "model_module_version": "1.5.0",
          "state": {
            "_model_module": "@jupyter-widgets/controls",
            "_model_module_version": "1.5.0",
            "_model_name": "ProgressStyleModel",
            "_view_count": null,
            "_view_module": "@jupyter-widgets/base",
            "_view_module_version": "1.2.0",
            "_view_name": "StyleView",
            "bar_color": null,
            "description_width": ""
          }
        },
        "bc988d28ba58454ea5f22976ff7dd010": {
          "model_module": "@jupyter-widgets/base",
          "model_name": "LayoutModel",
          "model_module_version": "1.2.0",
          "state": {
            "_model_module": "@jupyter-widgets/base",
            "_model_module_version": "1.2.0",
            "_model_name": "LayoutModel",
            "_view_count": null,
            "_view_module": "@jupyter-widgets/base",
            "_view_module_version": "1.2.0",
            "_view_name": "LayoutView",
            "align_content": null,
            "align_items": null,
            "align_self": null,
            "border": null,
            "bottom": null,
            "display": null,
            "flex": null,
            "flex_flow": null,
            "grid_area": null,
            "grid_auto_columns": null,
            "grid_auto_flow": null,
            "grid_auto_rows": null,
            "grid_column": null,
            "grid_gap": null,
            "grid_row": null,
            "grid_template_areas": null,
            "grid_template_columns": null,
            "grid_template_rows": null,
            "height": null,
            "justify_content": null,
            "justify_items": null,
            "left": null,
            "margin": null,
            "max_height": null,
            "max_width": null,
            "min_height": null,
            "min_width": null,
            "object_fit": null,
            "object_position": null,
            "order": null,
            "overflow": null,
            "overflow_x": null,
            "overflow_y": null,
            "padding": null,
            "right": null,
            "top": null,
            "visibility": null,
            "width": null
          }
        },
        "7458bbb761b645849510f2876a7fa5a5": {
          "model_module": "@jupyter-widgets/controls",
          "model_name": "DescriptionStyleModel",
          "model_module_version": "1.5.0",
          "state": {
            "_model_module": "@jupyter-widgets/controls",
            "_model_module_version": "1.5.0",
            "_model_name": "DescriptionStyleModel",
            "_view_count": null,
            "_view_module": "@jupyter-widgets/base",
            "_view_module_version": "1.2.0",
            "_view_name": "StyleView",
            "description_width": ""
          }
        }
      }
    }
  },
  "nbformat": 4,
  "nbformat_minor": 0
}