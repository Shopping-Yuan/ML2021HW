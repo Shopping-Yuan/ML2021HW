{
  "cells": [
    {
      "cell_type": "markdown",
      "metadata": {
        "id": "view-in-github",
        "colab_type": "text"
      },
      "source": [
        "<a href=\"https://colab.research.google.com/github/Shopping-Yuan/ML2021HW/blob/Shopping_vscode_branch/HW4/HW04_modified.ipynb\" target=\"_parent\"><img src=\"https://colab.research.google.com/assets/colab-badge.svg\" alt=\"Open In Colab\"/></a>"
      ]
    },
    {
      "cell_type": "code",
      "execution_count": 1,
      "metadata": {
        "colab": {
          "base_uri": "https://localhost:8080/"
        },
        "id": "Z1cauo_ypX7F",
        "outputId": "85d0a081-952c-47ce-e622-8353ce4ebea2"
      },
      "outputs": [
        {
          "output_type": "stream",
          "name": "stdout",
          "text": [
            "Mounted at /content/drive\n"
          ]
        }
      ],
      "source": [
        "from google.colab import drive\n",
        "drive.mount('/content/drive')"
      ]
    },
    {
      "cell_type": "code",
      "execution_count": 2,
      "metadata": {
        "id": "rEgX4ezzB7SQ"
      },
      "outputs": [],
      "source": [
        "import shutil\n",
        "shutil.copyfile('/content/drive/MyDrive/Dataset.zip','/content/Dataset.zip')\n",
        "\n",
        "import zipfile\n",
        "with zipfile.ZipFile('/content/Dataset.zip','r') as zip_ref:\n",
        "  zip_ref.extractall('/content/')"
      ]
    },
    {
      "cell_type": "code",
      "execution_count": 3,
      "metadata": {
        "id": "mfFqQ-KmrJGy"
      },
      "outputs": [],
      "source": [
        "def parse_args():\n",
        "  \"\"\"arguments\"\"\"\n",
        "  config = {\n",
        "#    \"data_dir\": \"/content/Dataset\",\n",
        "    \"data_dir\": \"./Dataset\",\n",
        "    \"save_path\": \"model.ckpt\",\n",
        "    \"batch_size\": 32,\n",
        "    \"n_workers\": 0,\n",
        "    \"valid_steps\": 2000,\n",
        "    \"warmup_steps\": 1000,\n",
        "    \"save_steps\": 10000,\n",
        "    \"total_steps\": 120000,\n",
        "  }\n",
        "\n",
        "  return config"
      ]
    },
    {
      "cell_type": "markdown",
      "metadata": {
        "id": "zWDKfQCSrx2D"
      },
      "source": [
        "#Dataset"
      ]
    },
    {
      "cell_type": "code",
      "execution_count": 4,
      "metadata": {
        "id": "33lkzQf43DNb"
      },
      "outputs": [],
      "source": [
        "import os\n",
        "import json\n",
        "import torch\n",
        "import random\n",
        "from pathlib import Path\n",
        "from torch.utils.data import Dataset\n",
        "from torch.nn.utils.rnn import pad_sequence\n",
        "\n",
        "\n",
        "class myDataset(Dataset):\n",
        "  def __init__(self, data_dir, segment_len=128):\n",
        "    self.data_dir = data_dir\n",
        "    self.segment_len = segment_len\n",
        "\n",
        "    # Load the mapping from speaker neme to their corresponding id.\n",
        "    # Path package can use / to join path\n",
        "    #part 1-1\n",
        "    mapping_path = Path(data_dir) / \"mapping.json\"\n",
        "    mapping = json.load(mapping_path.open())\n",
        "    self.speaker2id = mapping[\"speaker2id\"]\n",
        "    #self.speaker2id = {'id10001': 0, 'id10005': 1, ...... 'id11247': 598, 'id11251': 599}\n",
        "\n",
        "    #part 1-2\n",
        "    # Load metadata of training data.\n",
        "    metadata_path = Path(data_dir) / \"metadata.json\"\n",
        "    metadata = json.load(open(metadata_path))[\"speakers\"]\n",
        "\n",
        "    # Get the total number of speaker.\n",
        "    self.speaker_num = len(metadata.keys())\n",
        "    self.data = []\n",
        "    for speaker in metadata.keys():\n",
        "    #['id10473', 'id10328', 'id10382',......'id10864']\n",
        "      for utterances in metadata[speaker]:\n",
        "      # for example : metadata[speaker] = 'id10473'\n",
        "      # utterances = {'feature_path': 'uttr-5c88b2f1803449789c36f14fb4d3c1eb.pt', 'mel_len': 652}......\n",
        "        self.data.append([utterances[\"feature_path\"], self.speaker2id[speaker]])\n",
        "        # for example : ['uttr-5c88b2f1803449789c36f14fb4d3c1eb.pt',217]\n",
        "\n",
        "  def __len__(self):\n",
        "    return len(self.data)\n",
        "\n",
        "  def __getitem__(self, index):\n",
        "    feat_path, speaker = self.data[index]\n",
        "    #[utterances[\"feature_path\"], self.speaker2id[speaker]\n",
        "\n",
        "    # Load preprocessed mel-spectrogram.\n",
        "    # https://pytorch.org/docs/stable/generated/torch.load.html\n",
        "    # using torch.load to open pt file . By default , tensors are loaded to GPU if they are GPU tensor.\n",
        "    # part 2\n",
        "    mel = torch.load(os.path.join(self.data_dir, feat_path))\n",
        "\n",
        "    # Segmemt mel-spectrogram into \"segment_len\" frames.\n",
        "    if len(mel) > self.segment_len:\n",
        "      # Randomly get the starting point of the segment.\n",
        "      start = random.randint(0, len(mel) - self.segment_len)\n",
        "      # Get a segment with \"segment_len\" frames.\n",
        "      mel = torch.FloatTensor(mel[start:start+self.segment_len])\n",
        "    else:\n",
        "      mel = torch.FloatTensor(mel)\n",
        "    # Turn the speaker id into long for computing loss later.\n",
        "    speaker = torch.FloatTensor([speaker]).long()\n",
        "    return mel, speaker\n",
        "\n",
        "  def get_speaker_number(self):\n",
        "    return self.speaker_num"
      ]
    },
    {
      "cell_type": "code",
      "execution_count": null,
      "metadata": {
        "id": "qNWZbKmRrZUj"
      },
      "outputs": [],
      "source": [
        "#data_dir = parse_args()[\"data_dir\"]\n",
        "#part 1-1\n",
        "#mapping.json checcking\n",
        "#mapping_path = Path(data_dir) / \"mapping.json\"\n",
        "#mapping = json.load(mapping_path.open())\n",
        "#speaker2id = mapping[\"speaker2id\"]\n",
        "#print(type(mapping)) #<class 'dict'>\n",
        "#print(mapping.keys()) #dict_keys(['speaker2id', 'id2speaker'])\n",
        "#print(mapping.values()) #dict_values([{'id10001': 0, 'id10005': 1, ...... 'id11247': 598, 'id11251': 599},\n",
        "             #{\"0\": \"id10001\", ......'599':  'id11251'}])\n",
        "#print(mapping['speaker2id']['id10473']) #217\n",
        "\n",
        "#part 1-2\n",
        "#metadata.json checcking\n",
        "#metadata_path = Path(data_dir) / \"metadata.json\"\n",
        "#metadata = json.load(open(metadata_path))[\"speakers\"]\n",
        "#print(type(metadata)) #<class 'dict'>\n",
        "#print(len(metadata.keys()),metadata.keys()) #600 dict_keys(['id10473', 'id10328', 'id10382',......'id10864'])\n",
        "#print(len(metadata.values()),len(list(metadata.values())[0]),list(metadata.values())[0])\n",
        "#600 176 [{'feature_path': 'uttr-5c88b2f1803449789c36f14fb4d3c1eb.pt', 'mel_len': 652},......\n",
        "#{'feature_path': 'uttr-caf385f0032140e0add0bbde9a6595cd.pt', 'mel_len': 414}]\n",
        "#print(len(metadata.values()),len(list(metadata.values())[1])) #600 101\n",
        "\n",
        "#part 2\n",
        "#mel = torch.load(os.path.join(data_dir, 'uttr-5c88b2f1803449789c36f14fb4d3c1eb.pt'))\n",
        "#print(type(mel)) #<class 'torch.Tensor'>\n",
        "#print(mel.size()) #torch.Size([652, 40])\n",
        "#print(mel[0])\n",
        "# tensor([\n",
        "# 2.0060,  1.9015,  1.3473,  1.5711,  1.5569,  2.3200,  3.0064,  3.3848,\n",
        "# 0.5376,  0.8397,  1.5710, -0.5662, -2.1262, -1.1271, -1.4272, -3.6233,\n",
        "# -1.0765, -1.8453, -3.2415, -2.3427, -1.5888, -0.4692, -0.4291, -0.4722,\n",
        "# -1.8450, -1.0638, -3.2177, -3.4006, -3.2176, -3.3409, -3.1142, -4.0395,\n",
        "# -3.6502, -4.2407, -4.9656, -5.1238, -5.0620, -5.4308, -6.0757, -6.6186])"
      ]
    },
    {
      "cell_type": "code",
      "execution_count": 5,
      "metadata": {
        "id": "MNfZK8vyq0rD"
      },
      "outputs": [],
      "source": [
        "import torch\n",
        "from torch.utils.data import DataLoader, random_split\n",
        "from torch.nn.utils.rnn import pad_sequence\n",
        "#part 1 check collate_batch\n",
        "def collate_batch(batch):\n",
        "  # Process features within a batch.\n",
        "  \"\"\"Collate a batch of data.\"\"\"\n",
        "  #part 1-1 , 1-2\n",
        "  mel, speaker = zip(*batch)\n",
        "  # Because we train the model batch by batch, we need to pad the features in the same batch to make their lengths the same.\n",
        "  mel = pad_sequence(mel, batch_first=True, padding_value=-20)    # pad log 10^(-20) which is very small value.\n",
        "  # mel: (batch size, length, 40)\n",
        "  #part 1-3\n",
        "  return mel, torch.FloatTensor(speaker).long()\n",
        "\n",
        "\n",
        "def get_dataloader(data_dir, batch_size, n_workers):\n",
        "  \"\"\"Generate dataloader\"\"\"\n",
        "  dataset = myDataset(data_dir)\n",
        "  speaker_num = dataset.get_speaker_number()\n",
        "  # Split dataset into training dataset and validation dataset\n",
        "  trainlen = int(0.9 * len(dataset))\n",
        "  lengths = [trainlen, len(dataset) - trainlen]\n",
        "  trainset, validset = random_split(dataset, lengths)\n",
        "\n",
        "  train_loader = DataLoader(\n",
        "    trainset,\n",
        "    batch_size=batch_size,\n",
        "    shuffle=True,\n",
        "    drop_last=True,\n",
        "    num_workers=n_workers,\n",
        "    pin_memory=True,\n",
        "    collate_fn=collate_batch,\n",
        "  )\n",
        "  valid_loader = DataLoader(\n",
        "    validset,\n",
        "    batch_size=batch_size,\n",
        "    num_workers=n_workers,\n",
        "    drop_last=True,\n",
        "    pin_memory=True,\n",
        "    collate_fn=collate_batch,\n",
        "  )\n",
        "\n",
        "  return train_loader, valid_loader, speaker_num"
      ]
    },
    {
      "cell_type": "code",
      "execution_count": null,
      "metadata": {
        "id": "75rCGxDvkX0I"
      },
      "outputs": [],
      "source": [
        "# x = [[\"a\",1],[\"b\",2],[\"c\",3]]\n",
        "# print(list(zip(*x)))\n",
        "# print(list(zip((\"a\",1),(\"b\",2),(\"c\",3))))"
      ]
    },
    {
      "cell_type": "code",
      "execution_count": null,
      "metadata": {
        "id": "vA6cTPqryJXZ"
      },
      "outputs": [],
      "source": [
        "#import numpy as np\n",
        "#check collate_batch\n",
        "#part 1-1\n",
        "# * collect \"sequence\"function input to a tuple :\n",
        "#def f(*paras):\n",
        "#  print(paras)\n",
        "#f(1,2,3) #(1, 2, 3)\n",
        "# or collect a tuple to a \"sequence\"\n",
        "#print(*(1,2,3)) #1 2 3\n",
        "\n",
        "#part 1-2\n",
        "#test_data = np.random.rand(2,3,4)\n",
        "#test_label = np.random.rand(2,1)\n",
        "#samples = (test_data,test_label)\n",
        "#print(samples)\n",
        "#x , y = zip((1,2),(3,4),(5,6),(7,8))\n",
        "#print(x,y)\n",
        "\n",
        "#part 1-3\n",
        "#print(torch.FloatTensor([[1.],[1.]]))#tensor([[1.],[1.]])\n",
        "#print(torch.FloatTensor([[1.],[1.]]).long())#tensor([[1],[1]]) implies the numbers are integer now\n",
        "#print(torch.IntTensor([[1.],[1.]]))#tensor([[1],[1]], dtype=torch.int32)"
      ]
    },
    {
      "cell_type": "code",
      "execution_count": 6,
      "metadata": {
        "colab": {
          "base_uri": "https://localhost:8080/"
        },
        "id": "3Yk6oGGdQD9G",
        "outputId": "6c209af3-2e84-4d9d-a2d1-70ca20eaa27f"
      },
      "outputs": [
        {
          "output_type": "stream",
          "name": "stdout",
          "text": [
            "Collecting torchinfo\n",
            "  Downloading torchinfo-1.8.0-py3-none-any.whl (23 kB)\n",
            "Installing collected packages: torchinfo\n",
            "Successfully installed torchinfo-1.8.0\n"
          ]
        }
      ],
      "source": [
        "!pip install torchinfo\n",
        "#%conda install -c conda-forge torchinfo"
      ]
    },
    {
      "cell_type": "code",
      "execution_count": null,
      "metadata": {
        "id": "aBXbvqTlTSyj"
      },
      "outputs": [],
      "source": [
        "# x = [True,True,False,True,False,False,False,True,False,True,True,False]\n",
        "\n",
        "# true_index_list = []\n",
        "\n",
        "# false_index_list = []\n",
        "\n",
        "# for i,b in enumerate(x):\n",
        "#   if b == True:\n",
        "#     true_index_list += [i]\n",
        "#   else :\n",
        "#     false_index_list += [i]\n",
        "# print(true_index_list,false_index_list)\n",
        "\n",
        "# new_list = []\n",
        "# t_max = len(true_index_list)\n",
        "# f_max = len(false_index_list)\n",
        "# true_index = 0\n",
        "# false_index = 0\n",
        "# t_or_f = 0\n",
        "# while (t_max * f_max)>0:\n",
        "#   if t_or_f % 2 ==0:\n",
        "#     new_list += true_index_list[true_index:true_index+3]\n",
        "#     true_index += 3\n",
        "#     t_or_f += 1\n",
        "#     t_max -= 3\n",
        "#   else :\n",
        "#     new_list += false_index_list[false_index:false_index+3]\n",
        "#     false_index += 3\n",
        "#     t_or_f += 1\n",
        "#     f_max -= 3\n",
        "# if t_max > 0:\n",
        "#   new_list += true_index_list[true_index:]\n",
        "# elif f_max > 0:\n",
        "#   new_list += false_index_list[false_index:]\n",
        "\n",
        "# print(new_list)\n"
      ]
    },
    {
      "cell_type": "code",
      "execution_count": 47,
      "metadata": {
        "id": "1l3Zx9A_d9ZT"
      },
      "outputs": [],
      "source": [
        "import torch.nn as nn\n",
        "class PrintLayer(nn.Module):\n",
        "  def __init__(self):\n",
        "    super().__init__()\n",
        "  def forward(self , x):\n",
        "    print(f\"layer output size = {x.size()}\")\n",
        "    return(x)\n",
        "class ConformerLayer(nn.Module):\n",
        "  \"\"\"\n",
        "    #------Conformer Encoder Part----------------------------------\n",
        "    # part 1 feed forward module\n",
        "    # part 2 multi heads self attention\n",
        "    # part 3 convolution module\n",
        "    # part 4 feed forward module\n",
        "    # part 5 layer norm\n",
        "    # multi heads self attention module\n",
        "    #   part 2-1 laryer norm\n",
        "    #   part 2-2 multi heads self attention\n",
        "    #   - dropout\n",
        "    # convolution module\n",
        "    #   part 3-1 layer norm (do this outside the module)\n",
        "    #   part 3-2 pointwise conv\n",
        "    #   part 3-3 Glu activation\n",
        "    #   part 3-4 1D depthwise conv\n",
        "    #   part 3-5 batch norm\n",
        "    #   part 3-6 swish activation\n",
        "    #   part 3-7 pointwise conv\n",
        "    #   part 3-8 dropout\n",
        "    \"\"\"\n",
        "  def __init__(self,d_model,dropout):\n",
        "    super().__init__()\n",
        "    self.feed_forward_layer_1 = nn.Linear(d_model, d_model)\n",
        "    self.layer_norm1 = nn.LayerNorm(d_model)\n",
        "    self.layer_norm2 = nn.LayerNorm(d_model)\n",
        "    self.attention = torch.nn.MultiheadAttention(d_model, num_heads = 2, dropout=dropout)\n",
        "    self.cnn_module = nn.Sequential(\n",
        "      # part 3-2\n",
        "      nn.Conv1d(in_channels = d_model , out_channels = d_model*2 , kernel_size = 1),\n",
        "      # part 3-3\n",
        "      nn.GLU(dim = 1),\n",
        "      # part 3-4\n",
        "      nn.Conv1d(in_channels = d_model , out_channels = d_model , kernel_size = 3 ,groups = d_model),\n",
        "      # part 3-5\n",
        "      nn.BatchNorm1d(d_model),\n",
        "      # part 3-6\n",
        "      nn.SiLU(),\n",
        "      # part 3-7\n",
        "      nn.Conv1d(in_channels = d_model , out_channels = d_model , kernel_size = 1, padding = 1),\n",
        "      # part 3-8\n",
        "      nn.Dropout1d(dropout)\n",
        "    )\n",
        "    self.feed_forward_layer_2 = nn.Linear(d_model, d_model)\n",
        "    self.layer_norm3 = nn.LayerNorm(d_model)\n",
        "  def forward(self ,x ):\n",
        "    # part 1\n",
        "    x = x + 0.5 * self.feed_forward_layer_1(x)\n",
        "    # part 2\n",
        "    x = x.permute(1, 0, 2)\n",
        "    x = self.layer_norm1(x)\n",
        "    x = x + self.attention(x,x,x, need_weights=False)[0]\n",
        "    # part 3\n",
        "    x = self.layer_norm2(x)\n",
        "    x = x.permute(1, 2, 0)\n",
        "    x = self.cnn_module(x)\n",
        "    x = x.permute(0, 2, 1)\n",
        "\n",
        "    # part 4\n",
        "    x = x + 0.5 * self.feed_forward_layer_2(x)\n",
        "    # part 5\n",
        "    x = self.layer_norm3(x)\n",
        "    return x\n",
        "class SelfAttentionPollingLayer(nn.Module):\n",
        "  def __init__(self,layer):\n",
        "    super().__init__()\n",
        "    self.layer = layer\n",
        "  def forward(self ,x ):\n",
        "\n",
        "    return torch.squeeze(torch.bmm(x.permute(0,2,1),x),1)"
      ]
    },
    {
      "cell_type": "code",
      "source": [
        "import torch\n",
        "import torch.nn as nn\n",
        "import torch.nn.functional as F\n",
        "import torchvision\n",
        "from torchinfo import summary\n",
        "\n",
        "class Classifier(nn.Module):\n",
        "  def __init__(self, d_model=128, n_spks=600, dropout=0.2):\n",
        "    super().__init__()\n",
        "    # Project the dimension of features from that of input into d_model.\n",
        "    self.prenet = nn.Linear(40, d_model)\n",
        "    # TODO:\n",
        "\n",
        "    # attension pooling\n",
        "    self.attension_pooling = nn.Sequential(\n",
        "      nn.Linear(d_model, d_model),\n",
        "      nn.ReLU(),\n",
        "      nn.Linear(d_model, 1),\n",
        "      nn.Softmax(dim = 1),\n",
        "    )\n",
        "    self.conformer = ConformerLayer(d_model,dropout)\n",
        "    self.conformers = nn.ModuleList([ConformerLayer(d_model,dropout) for i in range(4)])\n",
        "    self.pred_layer = nn.Sequential(\n",
        "      nn.Linear(d_model, n_spks),\n",
        "    )\n",
        "\n",
        "  def forward(self, mels):\n",
        "    \"\"\"\n",
        "    args:\n",
        "      mels: (batch size, length, 40)\n",
        "    return:\n",
        "      out: (batch size, n_spks)\n",
        "    \"\"\"\n",
        "\n",
        "    out = self.prenet(mels)\n",
        "    for layer in self.conformers:\n",
        "      out = layer(out)\n",
        "\n",
        "\n",
        "    sfatpool = self.attension_pooling(out)\n",
        "    out = torch.squeeze(torch.bmm(sfatpool.permute(0,2,1),out),1)\n",
        "    out = self.pred_layer(out)\n",
        "    return out\n"
      ],
      "metadata": {
        "id": "Kpzi0C5T_9bl"
      },
      "execution_count": 62,
      "outputs": []
    },
    {
      "cell_type": "code",
      "source": [
        "model = Classifier(d_model=80, dropout=0.2)\n",
        "#model = ConformerLayer(d_model=80, dropout=0.2)\n",
        "print(summary(model,(32,128,40)))"
      ],
      "metadata": {
        "id": "vsb0HL3nKBhW",
        "outputId": "13f0cc7f-dd52-47e9-9239-6481494f4b04",
        "colab": {
          "base_uri": "https://localhost:8080/"
        }
      },
      "execution_count": 63,
      "outputs": [
        {
          "output_type": "stream",
          "name": "stdout",
          "text": [
            "==========================================================================================\n",
            "Layer (type:depth-idx)                   Output Shape              Param #\n",
            "==========================================================================================\n",
            "Classifier                               [32, 600]                 59,280\n",
            "├─Linear: 1-1                            [32, 128, 80]             3,280\n",
            "├─ModuleList: 1-2                        --                        --\n",
            "│    └─ConformerLayer: 2-1               [32, 128, 80]             --\n",
            "│    │    └─Linear: 3-1                  [32, 128, 80]             6,480\n",
            "│    │    └─LayerNorm: 3-2               [128, 32, 80]             160\n",
            "│    │    └─MultiheadAttention: 3-3      [128, 32, 80]             25,920\n",
            "│    │    └─LayerNorm: 3-4               [128, 32, 80]             160\n",
            "│    │    └─Sequential: 3-5              [32, 80, 128]             19,920\n",
            "│    │    └─Linear: 3-6                  [32, 128, 80]             6,480\n",
            "│    │    └─LayerNorm: 3-7               [32, 128, 80]             160\n",
            "│    └─ConformerLayer: 2-2               [32, 128, 80]             --\n",
            "│    │    └─Linear: 3-8                  [32, 128, 80]             6,480\n",
            "│    │    └─LayerNorm: 3-9               [128, 32, 80]             160\n",
            "│    │    └─MultiheadAttention: 3-10     [128, 32, 80]             25,920\n",
            "│    │    └─LayerNorm: 3-11              [128, 32, 80]             160\n",
            "│    │    └─Sequential: 3-12             [32, 80, 128]             19,920\n",
            "│    │    └─Linear: 3-13                 [32, 128, 80]             6,480\n",
            "│    │    └─LayerNorm: 3-14              [32, 128, 80]             160\n",
            "│    └─ConformerLayer: 2-3               [32, 128, 80]             --\n",
            "│    │    └─Linear: 3-15                 [32, 128, 80]             6,480\n",
            "│    │    └─LayerNorm: 3-16              [128, 32, 80]             160\n",
            "│    │    └─MultiheadAttention: 3-17     [128, 32, 80]             25,920\n",
            "│    │    └─LayerNorm: 3-18              [128, 32, 80]             160\n",
            "│    │    └─Sequential: 3-19             [32, 80, 128]             19,920\n",
            "│    │    └─Linear: 3-20                 [32, 128, 80]             6,480\n",
            "│    │    └─LayerNorm: 3-21              [32, 128, 80]             160\n",
            "│    └─ConformerLayer: 2-4               [32, 128, 80]             --\n",
            "│    │    └─Linear: 3-22                 [32, 128, 80]             6,480\n",
            "│    │    └─LayerNorm: 3-23              [128, 32, 80]             160\n",
            "│    │    └─MultiheadAttention: 3-24     [128, 32, 80]             25,920\n",
            "│    │    └─LayerNorm: 3-25              [128, 32, 80]             160\n",
            "│    │    └─Sequential: 3-26             [32, 80, 128]             19,920\n",
            "│    │    └─Linear: 3-27                 [32, 128, 80]             6,480\n",
            "│    │    └─LayerNorm: 3-28              [32, 128, 80]             160\n",
            "├─Sequential: 1-3                        [32, 128, 1]              --\n",
            "│    └─Linear: 2-5                       [32, 128, 80]             6,480\n",
            "│    └─ReLU: 2-6                         [32, 128, 80]             --\n",
            "│    └─Linear: 2-7                       [32, 128, 1]              81\n",
            "│    └─Softmax: 2-8                      [32, 128, 1]              --\n",
            "├─Sequential: 1-4                        [32, 600]                 --\n",
            "│    └─Linear: 2-9                       [32, 600]                 48,600\n",
            "==========================================================================================\n",
            "Total params: 354,841\n",
            "Trainable params: 354,841\n",
            "Non-trainable params: 0\n",
            "Total mult-adds (M): 327.40\n",
            "==========================================================================================\n",
            "Input size (MB): 0.66\n",
            "Forward/backward pass size (MB): 109.96\n",
            "Params size (MB): 0.77\n",
            "Estimated Total Size (MB): 111.38\n",
            "==========================================================================================\n"
          ]
        }
      ]
    },
    {
      "cell_type": "code",
      "execution_count": 26,
      "metadata": {
        "id": "zlXaMSlWMU__"
      },
      "outputs": [],
      "source": [
        "# import torch\n",
        "# import torch.nn as nn\n",
        "# import torch.nn.functional as F\n",
        "# import torchvision\n",
        "# from torchinfo import summary\n",
        "\n",
        "# class Classifier(nn.Module):\n",
        "#   def __init__(self, d_model=128, n_spks=600, dropout=0.1):\n",
        "#     super().__init__()\n",
        "#     # Project the dimension of features from that of input into d_model.\n",
        "#     self.prenet = nn.Linear(40, d_model)\n",
        "#     # TODO:\n",
        "#     #   Change Transformer to Conformer.\n",
        "#     #   https://arxiv.org/abs/2005.08100\n",
        "#     # embed_dim must be divisible by num_heads\n",
        "#     self.encoder_layer = nn.TransformerEncoderLayer(\n",
        "#       d_model=d_model, dim_feedforward=256, nhead=1, norm_first = True\n",
        "#     )\n",
        "#     # batch_first = True\n",
        "#     # norm_first = True\n",
        "#     self.encoder = nn.TransformerEncoder(self.encoder_layer, num_layers= 5  )\n",
        "#     # attension pooling\n",
        "#     self.attension_pooling = nn.Sequential(\n",
        "#       nn.Linear(d_model, d_model),\n",
        "#       nn.ReLU(),\n",
        "#       nn.Linear(d_model, 1),\n",
        "#       nn.Softmax(dim = 1),\n",
        "#     )\n",
        "# #    self.afd = SelfAttentionPollingLayer(self.attension_pooling)\n",
        "# #    self.linear = nn.Linear(d_model, d_model)\n",
        "# #    self.relu = nn.ReLU()\n",
        "# #    self.linear_out = nn.Linear(d_model, n_spks)\n",
        "\n",
        "#     # Project the the dimension of features from d_model into speaker nums.\n",
        "#     self.pred_layer = nn.Sequential(\n",
        "# #      nn.Linear(d_model, d_model),\n",
        "# #      nn.ReLU(),\n",
        "#       nn.Linear(d_model, n_spks),\n",
        "#     )\n",
        "\n",
        "#   def forward(self, mels):\n",
        "#     \"\"\"\n",
        "#     args:\n",
        "#       mels: (batch size, length, 40)\n",
        "#     return:\n",
        "#       out: (batch size, n_spks)\n",
        "#     \"\"\"\n",
        "#     # out: (batch size, length, d_model)\n",
        "#     #print(mels.size())\n",
        "#     out = self.prenet(mels)\n",
        "#     # out: (length, batch size, d_model)\n",
        "#     out = out.permute(1, 0, 2)\n",
        "#     #print(out.size())\n",
        "#     # The encoder layer expect features in the shape of (length, batch size, d_model).\n",
        "#     #out = self.encoder_layer(out)\n",
        "#     out = self.encoder_layer(out)\n",
        "#     # out: (batch size, length, d_model)\n",
        "#     #print(out.size())\n",
        "#     out = out.transpose(0, 1)\n",
        "# #    print(out.size())\n",
        "#     # self-attention pooling\n",
        "#     #out = self.afd(out)\n",
        "# #    print(out.size())\n",
        "#     sfatpool = self.attension_pooling(out)\n",
        "# #    print(sfatpool.size(),out.size())\n",
        "#     out = torch.squeeze(torch.bmm(sfatpool.permute(0,2,1),out),1)\n",
        "# #    out = self.afd(out)\n",
        "# #    print(out.size())\n",
        "\n",
        "#     # mean pooling\n",
        "# #    stats = out.mean(dim=1)\n",
        "\n",
        "#     # out: (batch, n_spks)\n",
        "# #    out = self.pred_layer(stats)\n",
        "# #    out = self.linear(out)\n",
        "# #    out = self.relu(out)\n",
        "# #    out = self.linear_out(out)\n",
        "#     out = self.pred_layer(out)\n",
        "#     return out\n"
      ]
    },
    {
      "cell_type": "code",
      "execution_count": 27,
      "metadata": {
        "colab": {
          "base_uri": "https://localhost:8080/"
        },
        "id": "vXLlPNAI9N9F",
        "outputId": "9874723d-47ad-4b20-f37f-6e1c2a3c7214"
      },
      "outputs": [
        {
          "output_type": "stream",
          "name": "stdout",
          "text": [
            "==========================================================================================\n",
            "Layer (type:depth-idx)                   Output Shape              Param #\n",
            "==========================================================================================\n",
            "Classifier                               [32, 600]                 662,400\n",
            "├─Linear: 1-1                            [32, 128, 128]            5,248\n",
            "├─TransformerEncoderLayer: 1-2           [128, 32, 128]            --\n",
            "│    └─LayerNorm: 2-1                    [128, 32, 128]            256\n",
            "│    └─MultiheadAttention: 2-2           [128, 32, 128]            66,048\n",
            "│    └─Dropout: 2-3                      [128, 32, 128]            --\n",
            "│    └─LayerNorm: 2-4                    [128, 32, 128]            256\n",
            "│    └─Linear: 2-5                       [128, 32, 256]            33,024\n",
            "│    └─Dropout: 2-6                      [128, 32, 256]            --\n",
            "│    └─Linear: 2-7                       [128, 32, 128]            32,896\n",
            "│    └─Dropout: 2-8                      [128, 32, 128]            --\n",
            "├─Sequential: 1-3                        [32, 128, 1]              --\n",
            "│    └─Linear: 2-9                       [32, 128, 128]            16,512\n",
            "│    └─ReLU: 2-10                        [32, 128, 128]            --\n",
            "│    └─Linear: 2-11                      [32, 128, 1]              129\n",
            "│    └─Softmax: 2-12                     [32, 128, 1]              --\n",
            "├─Sequential: 1-4                        [32, 600]                 --\n",
            "│    └─Linear: 2-13                      [32, 600]                 77,400\n",
            "==========================================================================================\n",
            "Total params: 894,169\n",
            "Trainable params: 894,169\n",
            "Non-trainable params: 0\n",
            "Total mult-adds (M): 11.68\n",
            "==========================================================================================\n",
            "Input size (MB): 0.66\n",
            "Forward/backward pass size (MB): 29.55\n",
            "Params size (MB): 0.66\n",
            "Estimated Total Size (MB): 30.86\n",
            "==========================================================================================\n"
          ]
        },
        {
          "output_type": "stream",
          "name": "stderr",
          "text": [
            "/usr/local/lib/python3.10/dist-packages/torch/nn/modules/transformer.py:282: UserWarning: enable_nested_tensor is True, but self.use_nested_tensor is False because encoder_layer.norm_first was True\n",
            "  warnings.warn(f\"enable_nested_tensor is True, but self.use_nested_tensor is False because {why_not_sparsity_fast_path}\")\n"
          ]
        }
      ],
      "source": [
        "model = Classifier()\n",
        "print(summary(model,(32,128,40)))\n",
        "#print(model.state_dict().keys())\n",
        "#print(model.state_dict()[\"encoder_layer.self_attn.in_proj_weight\"].size())#torch.Size([240, 80]) (80+80+80)*80\n",
        "#print(model.state_dict()[\"encoder_layer.self_attn.out_proj.weight\"].size())#torch.Size([80, 80])"
      ]
    },
    {
      "cell_type": "markdown",
      "metadata": {
        "id": "5EhBDpSpznKl"
      },
      "source": [
        "original\n",
        "parameter number :\n",
        "1.MultiheadAttention : =\n",
        "d_model+1(bias) * d_query +\n",
        "d_model+1(bias) * d_key  +\n",
        "d_model+1(bias) * d_v   +\n",
        "d_v + 1(bias) * output_dim( = dmodel)\n",
        "= (80+1)80 + (80+1)80 + (80+1)80 + (80+1)80 = 25920\n",
        "2.layer_norm : =input + input = 80*80 = 160\n",
        "\n",
        "first change\n",
        "parameter number :\n",
        "1.MultiheadAttention : =\n",
        "d_model+1(bias) * d_query +\n",
        "d_model+1(bias) * d_key  +\n",
        "d_model+1(bias) * d_v   +\n",
        "d_v + 1(bias) * output_dim( = dmodel)\n",
        "= (128+1)128(3+1)= 16512\n",
        "\n",
        "second change\n",
        "parameter number :\n",
        "1.MultiheadAttention : =\n",
        "d_model+1(bias) * d_query +\n",
        "d_model+1(bias) * d_key  +\n",
        "d_model+1(bias) * d_v   +\n",
        "d_v + 1(bias) * output_dim( = dmodel)\n",
        "= (128+1)128(3+1)= 16512\n",
        "four layers : 66048\n",
        "\n",
        "2.layer_norm : =input + input = 80*80 = 160\n",
        "\n",
        "3rd change\n",
        "parameter number :\n",
        "1.MultiheadAttention : =\n",
        "d_model+1(bias) * d_query +\n",
        "d_model+1(bias) * d_key  +\n",
        "d_model+1(bias) * d_v   +\n",
        "d_v + 1(bias) * output_dim( = dmodel)\n",
        "= (128+1)128(3+1)= 16512\n",
        "four layers : 66048\n",
        "\n",
        "2.self-attension polling : (128+1)128+(128+1)1=16512+129=16641\n",
        "\n",
        "4th change\n",
        "parameter number :\n",
        "1.MultiheadAttention : =\n",
        "d_model+1(bias) * d_query +\n",
        "d_model+1(bias) * d_key  +\n",
        "d_model+1(bias) * d_v   +\n",
        "d_v + 1(bias) * output_dim( = dmodel)\n",
        "= (128+1)128(3+1)= 16512\n",
        "\n",
        "five layers\n",
        "\n",
        "2.self-attension polling : (128+1)128+(128+1)1=16512+129=16641\n",
        "\n",
        "3.delete on Linear + ReLU layers = - (129*128) -0 = -16512\n"
      ]
    },
    {
      "cell_type": "code",
      "execution_count": 64,
      "metadata": {
        "id": "tUSxoANBMchs"
      },
      "outputs": [],
      "source": [
        "import math\n",
        "\n",
        "import torch\n",
        "from torch.optim import Optimizer\n",
        "from torch.optim.lr_scheduler import LambdaLR\n",
        "\n",
        "\n",
        "def get_cosine_schedule_with_warmup(\n",
        "  optimizer: Optimizer,\n",
        "  num_warmup_steps: int,\n",
        "  num_training_steps: int,\n",
        "  num_cycles: float = 0.5,\n",
        "  last_epoch: int = -1,\n",
        "):\n",
        "  \"\"\"\n",
        "  Create a schedule with a learning rate that decreases following the values of the cosine function between the\n",
        "  initial lr set in the optimizer to 0, after a warmup period during which it increases linearly between 0 and the\n",
        "  initial lr set in the optimizer.\n",
        "\n",
        "  Args:\n",
        "    optimizer (:class:`~torch.optim.Optimizer`):\n",
        "      The optimizer for which to schedule the learning rate.\n",
        "    num_warmup_steps (:obj:`int`):\n",
        "      The number of steps for the warmup phase.\n",
        "    num_training_steps (:obj:`int`):\n",
        "      The total number of training steps.\n",
        "    num_cycles (:obj:`float`, `optional`, defaults to 0.5):\n",
        "      The number of waves in the cosine schedule (the defaults is to just decrease from the max value to 0\n",
        "      following a half-cosine).\n",
        "    last_epoch (:obj:`int`, `optional`, defaults to -1):\n",
        "      The index of the last epoch when resuming training.\n",
        "\n",
        "  Return:\n",
        "    :obj:`torch.optim.lr_scheduler.LambdaLR` with the appropriate schedule.\n",
        "  \"\"\"\n",
        "\n",
        "  def lr_lambda(current_step):\n",
        "    # Warmup\n",
        "    if current_step < num_warmup_steps:\n",
        "      return float(current_step) / float(max(1, num_warmup_steps))\n",
        "    # decadence\n",
        "    # cosine angle\n",
        "    progress = float(current_step - num_warmup_steps) / float(\n",
        "      max(1, num_training_steps - num_warmup_steps)\n",
        "    )\n",
        "    return max(\n",
        "      0.0, 0.5 * (1.0 + math.cos(math.pi * float(num_cycles) * 2.0 * progress))\n",
        "    )\n",
        "\n",
        "  return LambdaLR(optimizer, lr_lambda, last_epoch)"
      ]
    },
    {
      "cell_type": "code",
      "execution_count": null,
      "metadata": {
        "id": "9o3hw_GcF1Jb"
      },
      "outputs": [],
      "source": [
        "#from torch.optim import AdamW\n",
        "#optimizer = AdamW(model.parameters(), lr=1e-3)\n",
        "\n",
        "#scheduler = get_cosine_schedule_with_warmup(optimizer, 1000, 70000)\n",
        "\n",
        "#print(type(scheduler.optimizer.param_groups)) #<class 'list'>\n",
        "#print(len(scheduler.optimizer.param_groups))  #1\n",
        "#print(type(scheduler.optimizer.param_groups[0])) #<class 'dict'>\n",
        "#print(scheduler.optimizer.param_groups[0].keys())\n",
        "#['params', 'lr', 'betas', 'eps', 'weight_decay', 'amsgrad', 'foreach',\n",
        "#'maximize', 'capturable', 'differentiable', 'fused', 'initial_lr']\n",
        "#print(scheduler.optimizer.param_groups[0]['params'])\n",
        "#[Parameter containing: tensor([[......],requires_grad=True)]\n",
        "#print(scheduler.optimizer.param_groups[0]['lr'])# 0.0\n",
        "#print(scheduler.optimizer.param_groups[0]['betas'])# (0.9, 0.999)\n",
        "#print(scheduler.optimizer.param_groups[0]['eps']) # 1e-08\n",
        "#print(scheduler.optimizer.param_groups[0]['weight_decay']) #0.01\n",
        "#print(scheduler.optimizer.param_groups[0]['amsgrad']) # False\n",
        "#print(scheduler.optimizer.param_groups[0]['foreach']) # None"
      ]
    },
    {
      "cell_type": "code",
      "execution_count": 65,
      "metadata": {
        "id": "yfDXw13q1ssm"
      },
      "outputs": [],
      "source": [
        "import torch\n",
        "\n",
        "\n",
        "def model_fn(batch, model, criterion, device):\n",
        "  \"\"\"Forward a batch through the model.\"\"\"\n",
        "\n",
        "  mels, labels = batch\n",
        "  mels = mels.to(device)\n",
        "  labels = labels.to(device)\n",
        "\n",
        "  outs = model(mels)\n",
        "\n",
        "  loss = criterion(outs, labels)\n",
        "\n",
        "  # Get the speaker id with highest probability.\n",
        "  preds = outs.argmax(1)\n",
        "  # Compute accuracy.\n",
        "  accuracy = torch.mean((preds == labels).float())\n",
        "\n",
        "  return loss, accuracy"
      ]
    },
    {
      "cell_type": "code",
      "execution_count": 66,
      "metadata": {
        "id": "959wMzs21wbz"
      },
      "outputs": [],
      "source": [
        "from tqdm import tqdm\n",
        "import torch\n",
        "\n",
        "\n",
        "def valid(dataloader, model, criterion, device):\n",
        "  \"\"\"Validate on validation set.\"\"\"\n",
        "\n",
        "  model.eval()\n",
        "  running_loss = 0.0\n",
        "  running_accuracy = 0.0\n",
        "  # Manually update the progress bar : step 1\n",
        "  # total length\n",
        "  pbar = tqdm(total=len(dataloader.dataset), ncols=0, desc=\"Valid\", unit=\" uttr\")\n",
        "  for i, batch in enumerate(dataloader):\n",
        "    with torch.no_grad():\n",
        "      loss, accuracy = model_fn(batch, model, criterion, device)\n",
        "      running_loss += loss.item()\n",
        "      running_accuracy += accuracy.item()\n",
        "    # Manually update the progress bar : step 2\n",
        "    # update each batch\n",
        "    pbar.update(dataloader.batch_size)\n",
        "    pbar.set_postfix(\n",
        "      loss=f\"{running_loss / (i+1):.2f}\",\n",
        "      accuracy=f\"{running_accuracy / (i+1):.2f}\",\n",
        "    )\n",
        "  # Manually update the progress bar : step 3\n",
        "  pbar.close()\n",
        "  model.train()\n",
        "\n",
        "  return running_accuracy / len(dataloader)\n"
      ]
    },
    {
      "cell_type": "code",
      "execution_count": null,
      "metadata": {
        "colab": {
          "base_uri": "https://localhost:8080/"
        },
        "id": "m7ckdrpl6_YW",
        "outputId": "b7905595-4e3f-48e7-9b58-48bec17c8ba1"
      },
      "outputs": [
        {
          "output_type": "stream",
          "name": "stdout",
          "text": [
            "[Info]: Use cuda now!\n",
            "[Info]: Finish loading data!\n",
            "[Info]: Finish creating model!\n"
          ]
        },
        {
          "output_type": "stream",
          "name": "stderr",
          "text": [
            "Train:   0% 2/2000 [00:01<21:10,  1.57 step/s, accuracy=0.00, loss=6.42, step=2]"
          ]
        },
        {
          "output_type": "stream",
          "name": "stdout",
          "text": [
            "average loss = 6.4266       average accuracy = 0.0000)\n"
          ]
        },
        {
          "output_type": "stream",
          "name": "stderr",
          "text": [
            "Train:  50% 1001/2000 [02:15<02:13,  7.48 step/s, accuracy=0.03, loss=5.00, step=1001]"
          ]
        },
        {
          "output_type": "stream",
          "name": "stdout",
          "text": [
            "average loss = 5.7109       average accuracy = 0.0349)\n"
          ]
        },
        {
          "output_type": "stream",
          "name": "stderr",
          "text": [
            "Train: 100% 2000/2000 [04:16<00:00,  7.80 step/s, accuracy=0.16, loss=4.48, step=2000]\n",
            "Valid: 100% 6944/6944 [00:24<00:00, 285.63 uttr/s, accuracy=0.10, loss=4.59]\n",
            "Train:   0% 1/2000 [00:00<03:40,  9.05 step/s, accuracy=0.09, loss=4.41, step=2001]"
          ]
        },
        {
          "output_type": "stream",
          "name": "stdout",
          "text": [
            "average loss = 4.8991       average accuracy = 0.0700)\n"
          ]
        },
        {
          "output_type": "stream",
          "name": "stderr",
          "text": [
            "Train:  50% 1001/2000 [01:51<02:03,  8.08 step/s, accuracy=0.16, loss=4.26, step=3001]"
          ]
        },
        {
          "output_type": "stream",
          "name": "stdout",
          "text": [
            "average loss = 4.5554       average accuracy = 0.1005)\n"
          ]
        },
        {
          "output_type": "stream",
          "name": "stderr",
          "text": [
            "Train: 100% 2000/2000 [03:49<00:00,  8.73 step/s, accuracy=0.19, loss=4.46, step=4000]\n",
            "Valid: 100% 6944/6944 [00:21<00:00, 315.65 uttr/s, accuracy=0.12, loss=4.30]\n",
            "Train:   0% 1/2000 [00:00<04:06,  8.09 step/s, accuracy=0.19, loss=4.14, step=4001]"
          ]
        },
        {
          "output_type": "stream",
          "name": "stdout",
          "text": [
            "average loss = 4.3982       average accuracy = 0.1140)\n"
          ]
        },
        {
          "output_type": "stream",
          "name": "stderr",
          "text": [
            "Train:  50% 1001/2000 [01:52<02:05,  7.93 step/s, accuracy=0.19, loss=3.79, step=5001]"
          ]
        },
        {
          "output_type": "stream",
          "name": "stdout",
          "text": [
            "average loss = 4.2495       average accuracy = 0.1317)\n"
          ]
        },
        {
          "output_type": "stream",
          "name": "stderr",
          "text": [
            "Train: 100% 2000/2000 [03:49<00:00,  8.71 step/s, accuracy=0.12, loss=3.98, step=6000]\n",
            "Valid: 100% 6944/6944 [00:23<00:00, 301.35 uttr/s, accuracy=0.15, loss=4.08]\n",
            "Train:   0% 1/2000 [00:00<03:22,  9.85 step/s, accuracy=0.06, loss=4.19, step=6001]"
          ]
        },
        {
          "output_type": "stream",
          "name": "stdout",
          "text": [
            "average loss = 4.1386       average accuracy = 0.1452)\n"
          ]
        },
        {
          "output_type": "stream",
          "name": "stderr",
          "text": [
            "Train:  50% 1001/2000 [01:53<02:15,  7.39 step/s, accuracy=0.19, loss=3.81, step=7001]"
          ]
        },
        {
          "output_type": "stream",
          "name": "stdout",
          "text": [
            "average loss = 4.0181       average accuracy = 0.1619)\n"
          ]
        },
        {
          "output_type": "stream",
          "name": "stderr",
          "text": [
            "Train: 100% 2000/2000 [03:48<00:00,  8.77 step/s, accuracy=0.19, loss=3.51, step=8000]\n",
            "Valid: 100% 6944/6944 [00:23<00:00, 298.37 uttr/s, accuracy=0.18, loss=3.95]\n",
            "Train:   0% 1/2000 [00:00<04:43,  7.04 step/s, accuracy=0.28, loss=3.51, step=8001]"
          ]
        },
        {
          "output_type": "stream",
          "name": "stdout",
          "text": [
            "average loss = 3.9104       average accuracy = 0.1748)\n"
          ]
        },
        {
          "output_type": "stream",
          "name": "stderr",
          "text": [
            "Train:  50% 1001/2000 [01:53<02:11,  7.60 step/s, accuracy=0.12, loss=3.70, step=9001]"
          ]
        },
        {
          "output_type": "stream",
          "name": "stdout",
          "text": [
            "average loss = 3.8304       average accuracy = 0.1906)\n"
          ]
        },
        {
          "output_type": "stream",
          "name": "stderr",
          "text": [
            "Train: 100% 2000/2000 [03:47<00:00,  8.80 step/s, accuracy=0.25, loss=3.47, step=1e+4]\n",
            "Valid: 100% 6944/6944 [00:23<00:00, 299.82 uttr/s, accuracy=0.23, loss=3.59]\n",
            "Train:   0% 1/2000 [00:00<06:56,  4.80 step/s, accuracy=0.31, loss=3.53, step=1e+4]"
          ]
        },
        {
          "output_type": "stream",
          "name": "stdout",
          "text": [
            "Step 10000, best model saved. (accuracy=0.2293)\n",
            "average loss = 3.7562       average accuracy = 0.2022)\n"
          ]
        },
        {
          "output_type": "stream",
          "name": "stderr",
          "text": [
            "Train:  50% 1001/2000 [01:55<02:23,  6.94 step/s, accuracy=0.25, loss=3.52, step=11001]"
          ]
        },
        {
          "output_type": "stream",
          "name": "stdout",
          "text": [
            "average loss = 3.7053       average accuracy = 0.2093)\n"
          ]
        },
        {
          "output_type": "stream",
          "name": "stderr",
          "text": [
            "Train: 100% 2000/2000 [03:45<00:00,  8.88 step/s, accuracy=0.25, loss=3.49, step=12000]\n",
            "Valid: 100% 6944/6944 [00:23<00:00, 293.49 uttr/s, accuracy=0.24, loss=3.43]\n",
            "Train:   0% 1/2000 [00:00<04:04,  8.16 step/s, accuracy=0.25, loss=3.41, step=12001]"
          ]
        },
        {
          "output_type": "stream",
          "name": "stdout",
          "text": [
            "average loss = 3.6344       average accuracy = 0.2188)\n"
          ]
        },
        {
          "output_type": "stream",
          "name": "stderr",
          "text": [
            "Train:  50% 1001/2000 [01:58<01:58,  8.46 step/s, accuracy=0.38, loss=3.30, step=13001]"
          ]
        },
        {
          "output_type": "stream",
          "name": "stdout",
          "text": [
            "average loss = 3.5944       average accuracy = 0.2288)\n"
          ]
        },
        {
          "output_type": "stream",
          "name": "stderr",
          "text": [
            "Train: 100% 2000/2000 [03:48<00:00,  8.76 step/s, accuracy=0.19, loss=3.56, step=14000]\n",
            "Valid: 100% 6944/6944 [00:24<00:00, 284.04 uttr/s, accuracy=0.27, loss=3.37]\n",
            "Train:   0% 1/2000 [00:00<04:14,  7.87 step/s, accuracy=0.28, loss=2.98, step=14001]"
          ]
        },
        {
          "output_type": "stream",
          "name": "stdout",
          "text": [
            "average loss = 3.5107       average accuracy = 0.2408)\n"
          ]
        },
        {
          "output_type": "stream",
          "name": "stderr",
          "text": [
            "Train:  50% 1001/2000 [02:00<02:24,  6.92 step/s, accuracy=0.25, loss=3.43, step=15001]"
          ]
        },
        {
          "output_type": "stream",
          "name": "stdout",
          "text": [
            "average loss = 3.4588       average accuracy = 0.2497)\n"
          ]
        },
        {
          "output_type": "stream",
          "name": "stderr",
          "text": [
            "Train: 100% 2000/2000 [03:50<00:00,  8.68 step/s, accuracy=0.28, loss=3.24, step=16000]\n",
            "Valid: 100% 6944/6944 [00:23<00:00, 296.69 uttr/s, accuracy=0.29, loss=3.25]\n",
            "Train:   0% 1/2000 [00:00<05:11,  6.41 step/s, accuracy=0.31, loss=3.51, step=16001]"
          ]
        },
        {
          "output_type": "stream",
          "name": "stdout",
          "text": [
            "average loss = 3.4368       average accuracy = 0.2540)\n"
          ]
        },
        {
          "output_type": "stream",
          "name": "stderr",
          "text": [
            "Train:  50% 1001/2000 [02:09<02:12,  7.56 step/s, accuracy=0.31, loss=3.30, step=17001]"
          ]
        },
        {
          "output_type": "stream",
          "name": "stdout",
          "text": [
            "average loss = 3.3581       average accuracy = 0.2672)\n"
          ]
        },
        {
          "output_type": "stream",
          "name": "stderr",
          "text": [
            "Train: 100% 2000/2000 [03:57<00:00,  8.42 step/s, accuracy=0.28, loss=3.21, step=18000]\n",
            "Valid: 100% 6944/6944 [00:23<00:00, 294.76 uttr/s, accuracy=0.31, loss=3.12]\n",
            "Train:   0% 1/2000 [00:00<03:56,  8.47 step/s, accuracy=0.19, loss=3.65, step=18001]"
          ]
        },
        {
          "output_type": "stream",
          "name": "stdout",
          "text": [
            "average loss = 3.2917       average accuracy = 0.2744)\n"
          ]
        },
        {
          "output_type": "stream",
          "name": "stderr",
          "text": [
            "Train:  50% 1001/2000 [01:59<02:16,  7.32 step/s, accuracy=0.31, loss=2.86, step=19001]"
          ]
        },
        {
          "output_type": "stream",
          "name": "stdout",
          "text": [
            "average loss = 3.2700       average accuracy = 0.2819)\n"
          ]
        },
        {
          "output_type": "stream",
          "name": "stderr",
          "text": [
            "Train: 100% 2000/2000 [03:44<00:00,  8.89 step/s, accuracy=0.31, loss=3.31, step=2e+4]\n",
            "Valid: 100% 6944/6944 [00:23<00:00, 291.15 uttr/s, accuracy=0.30, loss=3.14]\n",
            "Train:   0% 1/2000 [00:00<07:40,  4.34 step/s, accuracy=0.28, loss=2.92, step=2e+4]"
          ]
        },
        {
          "output_type": "stream",
          "name": "stdout",
          "text": [
            "Step 20000, best model saved. (accuracy=0.3067)\n",
            "average loss = 3.2026       average accuracy = 0.2941)\n"
          ]
        },
        {
          "output_type": "stream",
          "name": "stderr",
          "text": [
            "Train:  50% 1001/2000 [02:02<02:10,  7.64 step/s, accuracy=0.34, loss=3.09, step=21001]"
          ]
        },
        {
          "output_type": "stream",
          "name": "stdout",
          "text": [
            "average loss = 3.1736       average accuracy = 0.2976)\n"
          ]
        },
        {
          "output_type": "stream",
          "name": "stderr",
          "text": [
            "Train: 100% 2000/2000 [03:48<00:00,  8.76 step/s, accuracy=0.22, loss=3.55, step=22000]\n",
            "Valid: 100% 6944/6944 [00:23<00:00, 292.24 uttr/s, accuracy=0.31, loss=3.11]\n",
            "Train:   0% 1/2000 [00:00<04:26,  7.50 step/s, accuracy=0.25, loss=3.29, step=22001]"
          ]
        },
        {
          "output_type": "stream",
          "name": "stdout",
          "text": [
            "average loss = 3.1222       average accuracy = 0.3063)\n"
          ]
        },
        {
          "output_type": "stream",
          "name": "stderr",
          "text": [
            "Train:  50% 1001/2000 [02:02<01:59,  8.34 step/s, accuracy=0.28, loss=3.11, step=23001]"
          ]
        },
        {
          "output_type": "stream",
          "name": "stdout",
          "text": [
            "average loss = 3.1102       average accuracy = 0.3093)\n"
          ]
        },
        {
          "output_type": "stream",
          "name": "stderr",
          "text": [
            "Train: 100% 2000/2000 [03:46<00:00,  8.83 step/s, accuracy=0.44, loss=2.92, step=24000]\n",
            "Valid: 100% 6944/6944 [00:23<00:00, 295.06 uttr/s, accuracy=0.37, loss=2.80]\n",
            "Train:   0% 1/2000 [00:00<05:28,  6.08 step/s, accuracy=0.31, loss=3.35, step=24001]"
          ]
        },
        {
          "output_type": "stream",
          "name": "stdout",
          "text": [
            "average loss = 3.0402       average accuracy = 0.3240)\n"
          ]
        },
        {
          "output_type": "stream",
          "name": "stderr",
          "text": [
            "Train:  50% 1001/2000 [02:02<02:16,  7.34 step/s, accuracy=0.31, loss=2.90, step=25001]"
          ]
        },
        {
          "output_type": "stream",
          "name": "stdout",
          "text": [
            "average loss = 3.0350       average accuracy = 0.3240)\n"
          ]
        },
        {
          "output_type": "stream",
          "name": "stderr",
          "text": [
            "Train: 100% 2000/2000 [03:45<00:00,  8.86 step/s, accuracy=0.47, loss=2.92, step=26000]\n",
            "Valid: 100% 6944/6944 [00:24<00:00, 283.11 uttr/s, accuracy=0.38, loss=2.75]\n",
            "Train:   0% 1/2000 [00:00<04:00,  8.33 step/s, accuracy=0.31, loss=3.53, step=26001]"
          ]
        },
        {
          "output_type": "stream",
          "name": "stdout",
          "text": [
            "average loss = 2.9673       average accuracy = 0.3371)\n"
          ]
        },
        {
          "output_type": "stream",
          "name": "stderr",
          "text": [
            "Train:  50% 1001/2000 [02:02<02:04,  8.05 step/s, accuracy=0.25, loss=3.73, step=27001]"
          ]
        },
        {
          "output_type": "stream",
          "name": "stdout",
          "text": [
            "average loss = 2.9477       average accuracy = 0.3401)\n"
          ]
        },
        {
          "output_type": "stream",
          "name": "stderr",
          "text": [
            "Train: 100% 2000/2000 [03:45<00:00,  8.86 step/s, accuracy=0.19, loss=3.33, step=28000]\n",
            "Valid: 100% 6944/6944 [00:24<00:00, 286.66 uttr/s, accuracy=0.39, loss=2.67]\n",
            "Train:   0% 1/2000 [00:00<04:36,  7.22 step/s, accuracy=0.34, loss=2.79, step=28001]"
          ]
        },
        {
          "output_type": "stream",
          "name": "stdout",
          "text": [
            "average loss = 2.8919       average accuracy = 0.3481)\n"
          ]
        },
        {
          "output_type": "stream",
          "name": "stderr",
          "text": [
            "Train:  50% 1001/2000 [02:02<02:04,  8.05 step/s, accuracy=0.28, loss=2.70, step=29001]"
          ]
        },
        {
          "output_type": "stream",
          "name": "stdout",
          "text": [
            "average loss = 2.8930       average accuracy = 0.3539)\n"
          ]
        },
        {
          "output_type": "stream",
          "name": "stderr",
          "text": [
            "Train: 100% 2000/2000 [03:42<00:00,  8.98 step/s, accuracy=0.38, loss=2.81, step=3e+4]\n",
            "Valid: 100% 6944/6944 [00:24<00:00, 281.74 uttr/s, accuracy=0.40, loss=2.67]\n",
            "Train:   0% 1/2000 [00:00<08:12,  4.06 step/s, accuracy=0.31, loss=2.81, step=3e+4]"
          ]
        },
        {
          "output_type": "stream",
          "name": "stdout",
          "text": [
            "Step 30000, best model saved. (accuracy=0.3965)\n",
            "average loss = 2.8290       average accuracy = 0.3627)\n"
          ]
        },
        {
          "output_type": "stream",
          "name": "stderr",
          "text": [
            "Train:  50% 1001/2000 [02:02<02:13,  7.46 step/s, accuracy=0.41, loss=2.71, step=31001]"
          ]
        },
        {
          "output_type": "stream",
          "name": "stdout",
          "text": [
            "average loss = 2.8177       average accuracy = 0.3634)\n"
          ]
        },
        {
          "output_type": "stream",
          "name": "stderr",
          "text": [
            "Train: 100% 2000/2000 [03:43<00:00,  8.94 step/s, accuracy=0.31, loss=2.66, step=32000]\n",
            "Valid: 100% 6944/6944 [00:24<00:00, 285.60 uttr/s, accuracy=0.43, loss=2.53]\n",
            "Train:   0% 1/2000 [00:00<04:36,  7.24 step/s, accuracy=0.31, loss=2.94, step=32001]"
          ]
        },
        {
          "output_type": "stream",
          "name": "stdout",
          "text": [
            "average loss = 2.7761       average accuracy = 0.3720)\n"
          ]
        },
        {
          "output_type": "stream",
          "name": "stderr",
          "text": [
            "Train:  50% 1001/2000 [02:02<01:57,  8.50 step/s, accuracy=0.16, loss=3.33, step=33001]"
          ]
        },
        {
          "output_type": "stream",
          "name": "stdout",
          "text": [
            "average loss = 2.7655       average accuracy = 0.3745)\n"
          ]
        },
        {
          "output_type": "stream",
          "name": "stderr",
          "text": [
            "Train: 100% 2000/2000 [03:44<00:00,  8.91 step/s, accuracy=0.31, loss=3.55, step=34000]\n",
            "Valid: 100% 6944/6944 [00:24<00:00, 285.94 uttr/s, accuracy=0.41, loss=2.60]\n",
            "Train:   0% 1/2000 [00:00<05:15,  6.34 step/s, accuracy=0.50, loss=1.80, step=34001]"
          ]
        },
        {
          "output_type": "stream",
          "name": "stdout",
          "text": [
            "average loss = 2.7151       average accuracy = 0.3837)\n"
          ]
        },
        {
          "output_type": "stream",
          "name": "stderr",
          "text": [
            "Train:  50% 1001/2000 [02:04<02:37,  6.34 step/s, accuracy=0.53, loss=2.14, step=35001]"
          ]
        },
        {
          "output_type": "stream",
          "name": "stdout",
          "text": [
            "average loss = 2.7210       average accuracy = 0.3819)\n"
          ]
        },
        {
          "output_type": "stream",
          "name": "stderr",
          "text": [
            "Train: 100% 2000/2000 [03:47<00:00,  8.79 step/s, accuracy=0.34, loss=2.95, step=36000]\n",
            "Valid: 100% 6944/6944 [00:24<00:00, 285.93 uttr/s, accuracy=0.43, loss=2.54]\n",
            "Train:   0% 1/2000 [00:00<04:43,  7.04 step/s, accuracy=0.44, loss=2.76, step=36001]"
          ]
        },
        {
          "output_type": "stream",
          "name": "stdout",
          "text": [
            "average loss = 2.6725       average accuracy = 0.3877)\n"
          ]
        },
        {
          "output_type": "stream",
          "name": "stderr",
          "text": [
            "Train:  50% 1001/2000 [02:04<02:19,  7.16 step/s, accuracy=0.31, loss=3.15, step=37001]"
          ]
        },
        {
          "output_type": "stream",
          "name": "stdout",
          "text": [
            "average loss = 2.6585       average accuracy = 0.3943)\n"
          ]
        },
        {
          "output_type": "stream",
          "name": "stderr",
          "text": [
            "Train: 100% 2000/2000 [03:46<00:00,  8.81 step/s, accuracy=0.25, loss=2.89, step=38000]\n",
            "Valid: 100% 6944/6944 [00:24<00:00, 280.86 uttr/s, accuracy=0.45, loss=2.43]\n",
            "Train:   0% 1/2000 [00:00<04:09,  8.01 step/s, accuracy=0.34, loss=2.57, step=38001]"
          ]
        },
        {
          "output_type": "stream",
          "name": "stdout",
          "text": [
            "average loss = 2.6273       average accuracy = 0.4034)\n"
          ]
        },
        {
          "output_type": "stream",
          "name": "stderr",
          "text": [
            "Train:  50% 1001/2000 [02:03<02:02,  8.14 step/s, accuracy=0.34, loss=2.68, step=39001]"
          ]
        },
        {
          "output_type": "stream",
          "name": "stdout",
          "text": [
            "average loss = 2.6231       average accuracy = 0.4003)\n"
          ]
        },
        {
          "output_type": "stream",
          "name": "stderr",
          "text": [
            "Train: 100% 2000/2000 [03:45<00:00,  8.87 step/s, accuracy=0.47, loss=2.15, step=4e+4]\n",
            "Valid: 100% 6944/6944 [00:24<00:00, 280.83 uttr/s, accuracy=0.46, loss=2.35]\n",
            "Train:   0% 1/2000 [00:00<08:51,  3.76 step/s, accuracy=0.41, loss=2.74, step=4e+4]"
          ]
        },
        {
          "output_type": "stream",
          "name": "stdout",
          "text": [
            "Step 40000, best model saved. (accuracy=0.4603)\n",
            "average loss = 2.5511       average accuracy = 0.4160)\n"
          ]
        },
        {
          "output_type": "stream",
          "name": "stderr",
          "text": [
            "Train:  50% 1001/2000 [02:04<01:35, 10.51 step/s, accuracy=0.47, loss=2.22, step=41001]"
          ]
        },
        {
          "output_type": "stream",
          "name": "stdout",
          "text": [
            "average loss = 2.5750       average accuracy = 0.4107)\n"
          ]
        },
        {
          "output_type": "stream",
          "name": "stderr",
          "text": [
            "Train: 100% 2000/2000 [03:48<00:00,  8.76 step/s, accuracy=0.47, loss=2.44, step=42000]\n",
            "Valid: 100% 6944/6944 [00:25<00:00, 277.64 uttr/s, accuracy=0.46, loss=2.35]\n",
            "Train:   0% 1/2000 [00:00<05:11,  6.41 step/s, accuracy=0.41, loss=2.71, step=42001]"
          ]
        },
        {
          "output_type": "stream",
          "name": "stdout",
          "text": [
            "average loss = 2.5399       average accuracy = 0.4153)\n"
          ]
        },
        {
          "output_type": "stream",
          "name": "stderr",
          "text": [
            "Train:  50% 1001/2000 [02:08<01:32, 10.86 step/s, accuracy=0.44, loss=2.57, step=43001]"
          ]
        },
        {
          "output_type": "stream",
          "name": "stdout",
          "text": [
            "average loss = 2.5153       average accuracy = 0.4241)\n"
          ]
        },
        {
          "output_type": "stream",
          "name": "stderr",
          "text": [
            "Train: 100% 2000/2000 [03:55<00:00,  8.50 step/s, accuracy=0.41, loss=2.53, step=44000]\n",
            "Valid: 100% 6944/6944 [00:24<00:00, 280.12 uttr/s, accuracy=0.45, loss=2.42]\n",
            "Train:   0% 1/2000 [00:00<05:04,  6.56 step/s, accuracy=0.44, loss=2.88, step=44001]"
          ]
        },
        {
          "output_type": "stream",
          "name": "stdout",
          "text": [
            "average loss = 2.4692       average accuracy = 0.4274)\n"
          ]
        },
        {
          "output_type": "stream",
          "name": "stderr",
          "text": [
            "Train:  50% 1001/2000 [02:06<01:38, 10.17 step/s, accuracy=0.38, loss=2.52, step=45001]"
          ]
        },
        {
          "output_type": "stream",
          "name": "stdout",
          "text": [
            "average loss = 2.4926       average accuracy = 0.4284)\n"
          ]
        },
        {
          "output_type": "stream",
          "name": "stderr",
          "text": [
            "Train: 100% 2000/2000 [03:56<00:00,  8.47 step/s, accuracy=0.31, loss=2.65, step=46000]\n",
            "Valid: 100% 6944/6944 [00:26<00:00, 260.85 uttr/s, accuracy=0.47, loss=2.29]\n",
            "Train:   0% 1/2000 [00:00<04:58,  6.70 step/s, accuracy=0.38, loss=2.80, step=46001]"
          ]
        },
        {
          "output_type": "stream",
          "name": "stdout",
          "text": [
            "average loss = 2.4678       average accuracy = 0.4324)\n"
          ]
        },
        {
          "output_type": "stream",
          "name": "stderr",
          "text": [
            "Train:  50% 1001/2000 [02:05<01:47,  9.29 step/s, accuracy=0.53, loss=2.18, step=47001]"
          ]
        },
        {
          "output_type": "stream",
          "name": "stdout",
          "text": [
            "average loss = 2.4633       average accuracy = 0.4317)\n"
          ]
        },
        {
          "output_type": "stream",
          "name": "stderr",
          "text": [
            "Train: 100% 2000/2000 [03:55<00:00,  8.48 step/s, accuracy=0.38, loss=2.64, step=48000]\n",
            "Valid: 100% 6944/6944 [00:25<00:00, 268.58 uttr/s, accuracy=0.47, loss=2.26]\n",
            "Train:   0% 1/2000 [00:00<04:21,  7.65 step/s, accuracy=0.59, loss=1.99, step=48001]"
          ]
        },
        {
          "output_type": "stream",
          "name": "stdout",
          "text": [
            "average loss = 2.4241       average accuracy = 0.4386)\n"
          ]
        },
        {
          "output_type": "stream",
          "name": "stderr",
          "text": [
            "Train:  50% 1001/2000 [01:58<01:32, 10.78 step/s, accuracy=0.44, loss=2.39, step=49001]"
          ]
        },
        {
          "output_type": "stream",
          "name": "stdout",
          "text": [
            "average loss = 2.3922       average accuracy = 0.4482)\n"
          ]
        },
        {
          "output_type": "stream",
          "name": "stderr",
          "text": [
            "Train: 100% 2000/2000 [03:50<00:00,  8.69 step/s, accuracy=0.34, loss=2.91, step=5e+4]\n",
            "Valid: 100% 6944/6944 [00:25<00:00, 275.32 uttr/s, accuracy=0.48, loss=2.20]\n",
            "Train:   0% 1/2000 [00:00<08:18,  4.01 step/s, accuracy=0.41, loss=2.32, step=5e+4]"
          ]
        },
        {
          "output_type": "stream",
          "name": "stdout",
          "text": [
            "Step 50000, best model saved. (accuracy=0.4832)\n",
            "average loss = 2.3810       average accuracy = 0.4443)\n"
          ]
        },
        {
          "output_type": "stream",
          "name": "stderr",
          "text": [
            "Train:  50% 1001/2000 [01:56<01:25, 11.66 step/s, accuracy=0.53, loss=1.85, step=51001]"
          ]
        },
        {
          "output_type": "stream",
          "name": "stdout",
          "text": [
            "average loss = 2.3780       average accuracy = 0.4486)\n"
          ]
        },
        {
          "output_type": "stream",
          "name": "stderr",
          "text": [
            "Train: 100% 2000/2000 [03:50<00:00,  8.66 step/s, accuracy=0.41, loss=2.22, step=52000]\n",
            "Valid: 100% 6944/6944 [00:25<00:00, 271.94 uttr/s, accuracy=0.51, loss=2.11]\n",
            "Train:   0% 1/2000 [00:00<04:35,  7.25 step/s, accuracy=0.47, loss=2.84, step=52001]"
          ]
        },
        {
          "output_type": "stream",
          "name": "stdout",
          "text": [
            "average loss = 2.3356       average accuracy = 0.4568)\n"
          ]
        },
        {
          "output_type": "stream",
          "name": "stderr",
          "text": [
            "Train:  50% 1001/2000 [02:00<01:55,  8.67 step/s, accuracy=0.53, loss=2.00, step=53001]"
          ]
        },
        {
          "output_type": "stream",
          "name": "stdout",
          "text": [
            "average loss = 2.3197       average accuracy = 0.4587)\n"
          ]
        },
        {
          "output_type": "stream",
          "name": "stderr",
          "text": [
            "Train: 100% 2000/2000 [04:03<00:00,  8.23 step/s, accuracy=0.50, loss=2.19, step=54000]\n",
            "Valid: 100% 6944/6944 [00:26<00:00, 262.49 uttr/s, accuracy=0.51, loss=2.12]\n",
            "Train:   0% 1/2000 [00:00<04:18,  7.74 step/s, accuracy=0.41, loss=2.12, step=54001]"
          ]
        },
        {
          "output_type": "stream",
          "name": "stdout",
          "text": [
            "average loss = 2.3191       average accuracy = 0.4582)\n"
          ]
        },
        {
          "output_type": "stream",
          "name": "stderr",
          "text": [
            "Train:  50% 1001/2000 [02:03<01:53,  8.76 step/s, accuracy=0.66, loss=1.67, step=55001]"
          ]
        },
        {
          "output_type": "stream",
          "name": "stdout",
          "text": [
            "average loss = 2.3034       average accuracy = 0.4671)\n"
          ]
        },
        {
          "output_type": "stream",
          "name": "stderr",
          "text": [
            "Train: 100% 2000/2000 [04:07<00:00,  8.07 step/s, accuracy=0.44, loss=2.25, step=56000]\n",
            "Valid: 100% 6944/6944 [00:25<00:00, 271.23 uttr/s, accuracy=0.51, loss=2.10]\n",
            "Train:   0% 1/2000 [00:00<05:04,  6.56 step/s, accuracy=0.38, loss=2.77, step=56001]"
          ]
        },
        {
          "output_type": "stream",
          "name": "stdout",
          "text": [
            "average loss = 2.2678       average accuracy = 0.4698)\n"
          ]
        },
        {
          "output_type": "stream",
          "name": "stderr",
          "text": [
            "Train:  50% 1001/2000 [01:59<01:48,  9.23 step/s, accuracy=0.50, loss=1.79, step=57001]"
          ]
        },
        {
          "output_type": "stream",
          "name": "stdout",
          "text": [
            "average loss = 2.2697       average accuracy = 0.4677)\n"
          ]
        },
        {
          "output_type": "stream",
          "name": "stderr",
          "text": [
            "Train: 100% 2000/2000 [04:00<00:00,  8.31 step/s, accuracy=0.50, loss=2.47, step=58000]\n",
            "Valid: 100% 6944/6944 [00:25<00:00, 272.87 uttr/s, accuracy=0.53, loss=2.00]\n",
            "Train:   0% 1/2000 [00:00<04:45,  6.99 step/s, accuracy=0.53, loss=1.78, step=58001]"
          ]
        },
        {
          "output_type": "stream",
          "name": "stdout",
          "text": [
            "average loss = 2.2528       average accuracy = 0.4740)\n"
          ]
        },
        {
          "output_type": "stream",
          "name": "stderr",
          "text": [
            "Train:  50% 1001/2000 [01:58<01:47,  9.33 step/s, accuracy=0.59, loss=1.95, step=59001]"
          ]
        },
        {
          "output_type": "stream",
          "name": "stdout",
          "text": [
            "average loss = 2.2050       average accuracy = 0.4844)\n"
          ]
        },
        {
          "output_type": "stream",
          "name": "stderr",
          "text": [
            "Train: 100% 2000/2000 [04:04<00:00,  8.19 step/s, accuracy=0.47, loss=2.04, step=6e+4]\n",
            "Valid: 100% 6944/6944 [00:25<00:00, 271.57 uttr/s, accuracy=0.54, loss=1.95]\n",
            "Train:   0% 1/2000 [00:00<08:06,  4.11 step/s, accuracy=0.62, loss=1.35, step=6e+4]"
          ]
        },
        {
          "output_type": "stream",
          "name": "stdout",
          "text": [
            "Step 60000, best model saved. (accuracy=0.5399)\n",
            "average loss = 2.2169       average accuracy = 0.4821)\n"
          ]
        },
        {
          "output_type": "stream",
          "name": "stderr",
          "text": [
            "Train:  50% 1001/2000 [01:57<02:06,  7.91 step/s, accuracy=0.44, loss=2.44, step=61001]"
          ]
        },
        {
          "output_type": "stream",
          "name": "stdout",
          "text": [
            "average loss = 2.2050       average accuracy = 0.4888)\n"
          ]
        },
        {
          "output_type": "stream",
          "name": "stderr",
          "text": [
            "Train: 100% 2000/2000 [04:03<00:00,  8.21 step/s, accuracy=0.25, loss=2.68, step=62000]\n",
            "Valid: 100% 6944/6944 [00:25<00:00, 274.18 uttr/s, accuracy=0.53, loss=1.95]\n",
            "Train:   0% 1/2000 [00:00<04:14,  7.85 step/s, accuracy=0.56, loss=2.18, step=62001]"
          ]
        },
        {
          "output_type": "stream",
          "name": "stdout",
          "text": [
            "average loss = 2.1689       average accuracy = 0.4908)\n"
          ]
        },
        {
          "output_type": "stream",
          "name": "stderr",
          "text": [
            "Train:  50% 1001/2000 [01:57<02:01,  8.23 step/s, accuracy=0.44, loss=2.55, step=63001]"
          ]
        },
        {
          "output_type": "stream",
          "name": "stdout",
          "text": [
            "average loss = 2.1776       average accuracy = 0.4900)\n"
          ]
        },
        {
          "output_type": "stream",
          "name": "stderr",
          "text": [
            "Train: 100% 2000/2000 [04:01<00:00,  8.28 step/s, accuracy=0.56, loss=1.89, step=64000]\n",
            "Valid: 100% 6944/6944 [00:24<00:00, 285.32 uttr/s, accuracy=0.54, loss=1.92]\n",
            "Train:   0% 1/2000 [00:00<04:23,  7.58 step/s, accuracy=0.69, loss=1.49, step=64001]"
          ]
        },
        {
          "output_type": "stream",
          "name": "stdout",
          "text": [
            "average loss = 2.1485       average accuracy = 0.4923)\n"
          ]
        },
        {
          "output_type": "stream",
          "name": "stderr",
          "text": [
            "Train:  50% 1001/2000 [01:52<01:44,  9.54 step/s, accuracy=0.50, loss=2.24, step=65001]"
          ]
        },
        {
          "output_type": "stream",
          "name": "stdout",
          "text": [
            "average loss = 2.1376       average accuracy = 0.4942)\n"
          ]
        },
        {
          "output_type": "stream",
          "name": "stderr",
          "text": [
            "Train: 100% 2000/2000 [03:55<00:00,  8.50 step/s, accuracy=0.41, loss=2.49, step=66000]\n",
            "Valid: 100% 6944/6944 [00:24<00:00, 288.49 uttr/s, accuracy=0.56, loss=1.88]\n",
            "Train:   0% 1/2000 [00:00<04:53,  6.81 step/s, accuracy=0.53, loss=1.81, step=66001]"
          ]
        },
        {
          "output_type": "stream",
          "name": "stdout",
          "text": [
            "average loss = 2.1385       average accuracy = 0.4972)\n"
          ]
        },
        {
          "output_type": "stream",
          "name": "stderr",
          "text": [
            "Train:  50% 1001/2000 [01:51<01:51,  8.94 step/s, accuracy=0.53, loss=1.93, step=67001]"
          ]
        },
        {
          "output_type": "stream",
          "name": "stdout",
          "text": [
            "average loss = 2.1126       average accuracy = 0.5015)\n"
          ]
        },
        {
          "output_type": "stream",
          "name": "stderr",
          "text": [
            "Train: 100% 2000/2000 [03:58<00:00,  8.37 step/s, accuracy=0.59, loss=2.04, step=68000]\n",
            "Valid: 100% 6944/6944 [00:27<00:00, 257.10 uttr/s, accuracy=0.56, loss=1.83]\n",
            "Train:   0% 1/2000 [00:00<07:16,  4.58 step/s, accuracy=0.47, loss=2.41, step=68001]"
          ]
        },
        {
          "output_type": "stream",
          "name": "stdout",
          "text": [
            "average loss = 2.0878       average accuracy = 0.5078)\n"
          ]
        },
        {
          "output_type": "stream",
          "name": "stderr",
          "text": [
            "Train:  50% 1001/2000 [01:53<01:51,  8.96 step/s, accuracy=0.50, loss=1.97, step=69001]"
          ]
        },
        {
          "output_type": "stream",
          "name": "stdout",
          "text": [
            "average loss = 2.0869       average accuracy = 0.5065)\n"
          ]
        },
        {
          "output_type": "stream",
          "name": "stderr",
          "text": [
            "Train: 100% 2000/2000 [03:57<00:00,  8.44 step/s, accuracy=0.53, loss=2.88, step=7e+4]\n",
            "Valid: 100% 6944/6944 [00:23<00:00, 293.38 uttr/s, accuracy=0.55, loss=1.89]\n",
            "Train:   0% 1/2000 [00:00<08:48,  3.78 step/s, accuracy=0.53, loss=2.10, step=7e+4]"
          ]
        },
        {
          "output_type": "stream",
          "name": "stdout",
          "text": [
            "Step 70000, best model saved. (accuracy=0.5609)\n",
            "average loss = 2.0771       average accuracy = 0.5082)\n"
          ]
        },
        {
          "output_type": "stream",
          "name": "stderr",
          "text": [
            "Train:  50% 1001/2000 [01:53<02:01,  8.22 step/s, accuracy=0.56, loss=2.22, step=71001]"
          ]
        },
        {
          "output_type": "stream",
          "name": "stdout",
          "text": [
            "average loss = 2.0550       average accuracy = 0.5165)\n"
          ]
        },
        {
          "output_type": "stream",
          "name": "stderr",
          "text": [
            "Train: 100% 2000/2000 [03:59<00:00,  8.37 step/s, accuracy=0.50, loss=2.03, step=72000]\n",
            "Valid: 100% 6944/6944 [00:24<00:00, 286.54 uttr/s, accuracy=0.57, loss=1.82]\n",
            "Train:   0% 1/2000 [00:00<05:25,  6.14 step/s, accuracy=0.50, loss=2.48, step=72001]"
          ]
        },
        {
          "output_type": "stream",
          "name": "stdout",
          "text": [
            "average loss = 2.0405       average accuracy = 0.5183)\n"
          ]
        },
        {
          "output_type": "stream",
          "name": "stderr",
          "text": [
            "Train:  50% 1001/2000 [01:50<02:00,  8.27 step/s, accuracy=0.47, loss=2.48, step=73001]"
          ]
        },
        {
          "output_type": "stream",
          "name": "stdout",
          "text": [
            "average loss = 2.0362       average accuracy = 0.5192)\n"
          ]
        },
        {
          "output_type": "stream",
          "name": "stderr",
          "text": [
            "Train: 100% 2000/2000 [03:55<00:00,  8.50 step/s, accuracy=0.69, loss=1.68, step=74000]\n",
            "Valid: 100% 6944/6944 [00:24<00:00, 287.95 uttr/s, accuracy=0.57, loss=1.80]\n",
            "Train:   0% 1/2000 [00:00<04:42,  7.07 step/s, accuracy=0.56, loss=2.27, step=74001]"
          ]
        },
        {
          "output_type": "stream",
          "name": "stdout",
          "text": [
            "average loss = 2.0277       average accuracy = 0.5177)\n"
          ]
        },
        {
          "output_type": "stream",
          "name": "stderr",
          "text": [
            "Train:  50% 1001/2000 [01:51<02:17,  7.28 step/s, accuracy=0.56, loss=1.78, step=75001]"
          ]
        },
        {
          "output_type": "stream",
          "name": "stdout",
          "text": [
            "average loss = 2.0025       average accuracy = 0.5245)\n"
          ]
        },
        {
          "output_type": "stream",
          "name": "stderr",
          "text": [
            "Train: 100% 2000/2000 [03:55<00:00,  8.49 step/s, accuracy=0.56, loss=1.68, step=76000]\n",
            "Valid: 100% 6944/6944 [00:23<00:00, 296.25 uttr/s, accuracy=0.59, loss=1.75]\n",
            "Train:   0% 1/2000 [00:00<05:20,  6.24 step/s, accuracy=0.50, loss=1.98, step=76001]"
          ]
        },
        {
          "output_type": "stream",
          "name": "stdout",
          "text": [
            "average loss = 1.9966       average accuracy = 0.5271)\n"
          ]
        },
        {
          "output_type": "stream",
          "name": "stderr",
          "text": [
            "Train:  50% 1001/2000 [01:52<02:19,  7.15 step/s, accuracy=0.53, loss=2.24, step=77001]"
          ]
        },
        {
          "output_type": "stream",
          "name": "stdout",
          "text": [
            "average loss = 1.9747       average accuracy = 0.5288)\n"
          ]
        },
        {
          "output_type": "stream",
          "name": "stderr",
          "text": [
            "Train: 100% 2000/2000 [03:58<00:00,  8.38 step/s, accuracy=0.53, loss=1.90, step=78000]\n",
            "Valid: 100% 6944/6944 [00:24<00:00, 287.97 uttr/s, accuracy=0.59, loss=1.75]\n",
            "Train:   0% 1/2000 [00:00<04:09,  8.02 step/s, accuracy=0.56, loss=1.52, step=78001]"
          ]
        },
        {
          "output_type": "stream",
          "name": "stdout",
          "text": [
            "average loss = 1.9730       average accuracy = 0.5295)\n"
          ]
        },
        {
          "output_type": "stream",
          "name": "stderr",
          "text": [
            "Train:  50% 1001/2000 [01:53<02:24,  6.91 step/s, accuracy=0.47, loss=2.29, step=79001]"
          ]
        },
        {
          "output_type": "stream",
          "name": "stdout",
          "text": [
            "average loss = 1.9523       average accuracy = 0.5331)\n"
          ]
        },
        {
          "output_type": "stream",
          "name": "stderr",
          "text": [
            "Train: 100% 2000/2000 [03:59<00:00,  8.34 step/s, accuracy=0.62, loss=1.97, step=8e+4]\n",
            "Valid: 100% 6944/6944 [00:24<00:00, 285.28 uttr/s, accuracy=0.59, loss=1.72]\n",
            "Train:   0% 1/2000 [00:00<08:43,  3.82 step/s, accuracy=0.69, loss=1.34, step=8e+4]"
          ]
        },
        {
          "output_type": "stream",
          "name": "stdout",
          "text": [
            "Step 80000, best model saved. (accuracy=0.5907)\n",
            "average loss = 1.9566       average accuracy = 0.5353)\n"
          ]
        },
        {
          "output_type": "stream",
          "name": "stderr",
          "text": [
            "Train:  50% 1001/2000 [01:52<02:13,  7.49 step/s, accuracy=0.53, loss=1.81, step=81001]"
          ]
        },
        {
          "output_type": "stream",
          "name": "stdout",
          "text": [
            "average loss = 1.9215       average accuracy = 0.5424)\n"
          ]
        },
        {
          "output_type": "stream",
          "name": "stderr",
          "text": [
            "Train: 100% 2000/2000 [03:59<00:00,  8.36 step/s, accuracy=0.50, loss=1.98, step=82000]\n",
            "Valid: 100% 6944/6944 [00:24<00:00, 282.14 uttr/s, accuracy=0.60, loss=1.69]\n",
            "Train:   0% 1/2000 [00:00<03:25,  9.75 step/s, accuracy=0.59, loss=1.51, step=82001]"
          ]
        },
        {
          "output_type": "stream",
          "name": "stdout",
          "text": [
            "average loss = 1.9268       average accuracy = 0.5403)\n"
          ]
        },
        {
          "output_type": "stream",
          "name": "stderr",
          "text": [
            "Train:  50% 1001/2000 [01:58<02:16,  7.31 step/s, accuracy=0.53, loss=1.57, step=83001]"
          ]
        },
        {
          "output_type": "stream",
          "name": "stdout",
          "text": [
            "average loss = 1.9102       average accuracy = 0.5440)\n"
          ]
        },
        {
          "output_type": "stream",
          "name": "stderr",
          "text": [
            "Train: 100% 2000/2000 [04:04<00:00,  8.18 step/s, accuracy=0.59, loss=2.05, step=84000]\n",
            "Valid: 100% 6944/6944 [00:24<00:00, 288.51 uttr/s, accuracy=0.60, loss=1.68]\n",
            "Train:   0% 1/2000 [00:00<03:36,  9.22 step/s, accuracy=0.62, loss=1.58, step=84001]"
          ]
        },
        {
          "output_type": "stream",
          "name": "stdout",
          "text": [
            "average loss = 1.9102       average accuracy = 0.5431)\n"
          ]
        },
        {
          "output_type": "stream",
          "name": "stderr",
          "text": [
            "Train:  50% 1001/2000 [01:58<02:24,  6.91 step/s, accuracy=0.72, loss=0.87, step=85001]"
          ]
        },
        {
          "output_type": "stream",
          "name": "stdout",
          "text": [
            "average loss = 1.8755       average accuracy = 0.5532)\n"
          ]
        },
        {
          "output_type": "stream",
          "name": "stderr",
          "text": [
            "Train: 100% 2000/2000 [04:01<00:00,  8.28 step/s, accuracy=0.56, loss=1.89, step=86000]\n",
            "Valid: 100% 6944/6944 [00:24<00:00, 278.28 uttr/s, accuracy=0.61, loss=1.67]\n",
            "Train:   0% 1/2000 [00:00<04:41,  7.10 step/s, accuracy=0.56, loss=2.05, step=86001]"
          ]
        },
        {
          "output_type": "stream",
          "name": "stdout",
          "text": [
            "average loss = 1.8970       average accuracy = 0.5462)\n"
          ]
        },
        {
          "output_type": "stream",
          "name": "stderr",
          "text": [
            "Train:  50% 1001/2000 [01:58<02:21,  7.06 step/s, accuracy=0.44, loss=2.22, step=87001]"
          ]
        },
        {
          "output_type": "stream",
          "name": "stdout",
          "text": [
            "average loss = 1.8587       average accuracy = 0.5570)\n"
          ]
        },
        {
          "output_type": "stream",
          "name": "stderr",
          "text": [
            "Train: 100% 2000/2000 [04:00<00:00,  8.32 step/s, accuracy=0.69, loss=1.54, step=88000]\n",
            "Valid: 100% 6944/6944 [00:24<00:00, 287.40 uttr/s, accuracy=0.60, loss=1.69]\n",
            "Train:   0% 1/2000 [00:00<04:01,  8.28 step/s, accuracy=0.72, loss=1.42, step=88001]"
          ]
        },
        {
          "output_type": "stream",
          "name": "stdout",
          "text": [
            "average loss = 1.8748       average accuracy = 0.5514)\n"
          ]
        },
        {
          "output_type": "stream",
          "name": "stderr",
          "text": [
            "Train:  50% 1001/2000 [01:58<02:07,  7.82 step/s, accuracy=0.66, loss=1.62, step=89001]"
          ]
        },
        {
          "output_type": "stream",
          "name": "stdout",
          "text": [
            "average loss = 1.8333       average accuracy = 0.5658)\n"
          ]
        },
        {
          "output_type": "stream",
          "name": "stderr",
          "text": [
            "Train: 100% 2000/2000 [03:56<00:00,  8.44 step/s, accuracy=0.53, loss=1.64, step=9e+4]\n",
            "Valid: 100% 6944/6944 [00:24<00:00, 288.52 uttr/s, accuracy=0.60, loss=1.64]\n",
            "Train:   0% 1/2000 [00:00<06:51,  4.85 step/s, accuracy=0.53, loss=1.76, step=9e+4]"
          ]
        },
        {
          "output_type": "stream",
          "name": "stdout",
          "text": [
            "Step 90000, best model saved. (accuracy=0.6063)\n",
            "average loss = 1.8713       average accuracy = 0.5519)\n"
          ]
        },
        {
          "output_type": "stream",
          "name": "stderr",
          "text": [
            "Train:  50% 1001/2000 [02:00<02:10,  7.67 step/s, accuracy=0.59, loss=2.04, step=91001]"
          ]
        },
        {
          "output_type": "stream",
          "name": "stdout",
          "text": [
            "average loss = 1.8394       average accuracy = 0.5600)\n"
          ]
        },
        {
          "output_type": "stream",
          "name": "stderr",
          "text": [
            "Train: 100% 2000/2000 [03:57<00:00,  8.43 step/s, accuracy=0.62, loss=1.76, step=92000]\n",
            "Valid: 100% 6944/6944 [00:24<00:00, 288.43 uttr/s, accuracy=0.62, loss=1.61]\n",
            "Train:   0% 1/2000 [00:00<03:39,  9.09 step/s, accuracy=0.56, loss=1.41, step=92001]"
          ]
        },
        {
          "output_type": "stream",
          "name": "stdout",
          "text": [
            "average loss = 1.8191       average accuracy = 0.5623)\n"
          ]
        },
        {
          "output_type": "stream",
          "name": "stderr",
          "text": [
            "Train:  50% 1001/2000 [02:00<02:10,  7.67 step/s, accuracy=0.62, loss=1.61, step=93001]"
          ]
        },
        {
          "output_type": "stream",
          "name": "stdout",
          "text": [
            "average loss = 1.8208       average accuracy = 0.5637)\n"
          ]
        },
        {
          "output_type": "stream",
          "name": "stderr",
          "text": [
            "Train: 100% 2000/2000 [03:54<00:00,  8.55 step/s, accuracy=0.41, loss=2.47, step=94000]\n",
            "Valid: 100% 6944/6944 [00:23<00:00, 290.95 uttr/s, accuracy=0.62, loss=1.59]\n",
            "Train:   0% 1/2000 [00:00<03:45,  8.85 step/s, accuracy=0.72, loss=1.21, step=94001]"
          ]
        },
        {
          "output_type": "stream",
          "name": "stdout",
          "text": [
            "average loss = 1.8245       average accuracy = 0.5613)\n"
          ]
        },
        {
          "output_type": "stream",
          "name": "stderr",
          "text": [
            "Train:  50% 1001/2000 [02:01<02:15,  7.37 step/s, accuracy=0.53, loss=2.78, step=95001]"
          ]
        },
        {
          "output_type": "stream",
          "name": "stdout",
          "text": [
            "average loss = 1.8018       average accuracy = 0.5662)\n"
          ]
        },
        {
          "output_type": "stream",
          "name": "stderr",
          "text": [
            "Train: 100% 2000/2000 [03:54<00:00,  8.54 step/s, accuracy=0.50, loss=2.05, step=96000]\n",
            "Valid: 100% 6944/6944 [00:24<00:00, 288.54 uttr/s, accuracy=0.62, loss=1.59]\n",
            "Train:   0% 1/2000 [00:00<04:26,  7.50 step/s, accuracy=0.38, loss=2.56, step=96001]"
          ]
        },
        {
          "output_type": "stream",
          "name": "stdout",
          "text": [
            "average loss = 1.7928       average accuracy = 0.5655)\n"
          ]
        },
        {
          "output_type": "stream",
          "name": "stderr",
          "text": [
            "Train:  50% 1001/2000 [02:01<02:13,  7.51 step/s, accuracy=0.75, loss=1.15, step=97001]"
          ]
        },
        {
          "output_type": "stream",
          "name": "stdout",
          "text": [
            "average loss = 1.7808       average accuracy = 0.5748)\n"
          ]
        },
        {
          "output_type": "stream",
          "name": "stderr",
          "text": [
            "Train: 100% 2000/2000 [03:53<00:00,  8.58 step/s, accuracy=0.72, loss=1.02, step=98000]\n",
            "Valid: 100% 6944/6944 [00:24<00:00, 285.38 uttr/s, accuracy=0.62, loss=1.58]\n",
            "Train:   0% 1/2000 [00:00<04:16,  7.79 step/s, accuracy=0.50, loss=2.26, step=98001]"
          ]
        },
        {
          "output_type": "stream",
          "name": "stdout",
          "text": [
            "average loss = 1.7747       average accuracy = 0.5693)\n"
          ]
        },
        {
          "output_type": "stream",
          "name": "stderr",
          "text": [
            "Train:   9% 176/2000 [00:19<03:48,  7.98 step/s, accuracy=0.69, loss=1.50, step=98175]"
          ]
        }
      ],
      "source": [
        "from tqdm import tqdm\n",
        "\n",
        "import torch\n",
        "import torch.nn as nn\n",
        "from torch.optim import AdamW\n",
        "from torch.utils.data import DataLoader, random_split\n",
        "\n",
        "\n",
        "# def parse_args():\n",
        "#   \"\"\"arguments\"\"\"\n",
        "#   config = {\n",
        "#     \"data_dir\": \"/content/Dataset\",\n",
        "#     \"save_path\": \"model.ckpt\",\n",
        "#     \"batch_size\": 32,\n",
        "#     \"n_workers\": 8,\n",
        "#     \"valid_steps\": 2000,\n",
        "#     \"warmup_steps\": 1000,\n",
        "#     \"save_steps\": 10000,\n",
        "#     \"total_steps\": 70000,\n",
        "#   }\n",
        "\n",
        "#   return config\n",
        "\n",
        "\n",
        "def main(\n",
        "  data_dir,\n",
        "  save_path,\n",
        "  batch_size,\n",
        "  n_workers,\n",
        "  valid_steps,\n",
        "  warmup_steps,\n",
        "  total_steps,\n",
        "  save_steps,\n",
        "):\n",
        "  \"\"\"Main function.\"\"\"\n",
        "  device = torch.device(\"cuda\" if torch.cuda.is_available() else \"cpu\")\n",
        "  print(f\"[Info]: Use {device} now!\")\n",
        "\n",
        "  train_loader, valid_loader, speaker_num = get_dataloader(data_dir, batch_size, n_workers)\n",
        "  train_iterator = iter(train_loader)\n",
        "  print(f\"[Info]: Finish loading data!\",flush = True)\n",
        "\n",
        "  model = Classifier(n_spks=speaker_num).to(device)\n",
        "  criterion = nn.CrossEntropyLoss()\n",
        "  optimizer = AdamW(model.parameters(), lr=1e-3)\n",
        "  scheduler = get_cosine_schedule_with_warmup(optimizer, warmup_steps, total_steps)\n",
        "  print(f\"[Info]: Finish creating model!\",flush = True)\n",
        "\n",
        "  best_accuracy = -1.0\n",
        "  best_state_dict = None\n",
        "  # pbar has total 2000 step\n",
        "  pbar = tqdm(total=valid_steps, ncols=0, desc=\"Train\", unit=\" step\")\n",
        "  # print train loss and accuracy every 1000 step\n",
        "\n",
        "  loss_acc_list = []\n",
        "\n",
        "  for step in range(total_steps):\n",
        "    # Get data\n",
        "    try:\n",
        "      batch = next(train_iterator)\n",
        "    except StopIteration:\n",
        "      train_iterator = iter(train_loader)\n",
        "      batch = next(train_iterator)\n",
        "\n",
        "    loss, accuracy = model_fn(batch, model, criterion, device)\n",
        "    batch_loss = loss.item()\n",
        "    batch_accuracy = accuracy.item()\n",
        "\n",
        "    # Updata model\n",
        "    loss.backward()\n",
        "    optimizer.step()\n",
        "    scheduler.step()\n",
        "    optimizer.zero_grad()\n",
        "    # print train loss acc\n",
        "    loss_acc_list.append((loss, accuracy))\n",
        "    print_loss , print_acc = list(zip(*loss_acc_list))\n",
        "    if step % 1000 == 0:\n",
        "      print(f\"average loss = {sum(print_loss)/len(print_loss):.4f} \\\n",
        "      average accuracy = {sum(print_acc)/len(print_acc):.4f})\")\n",
        "      loss_acc_list = []\n",
        "\n",
        "    # Log\n",
        "    # update each step (as total)\n",
        "    pbar.update()\n",
        "    pbar.set_postfix(\n",
        "      loss=f\"{batch_loss:.2f}\",\n",
        "      accuracy=f\"{batch_accuracy:.2f}\",\n",
        "      step=step + 1,\n",
        "    )\n",
        "\n",
        "    # Do validation\n",
        "    # valid each 2000 step\n",
        "    if (step + 1) % valid_steps == 0:\n",
        "      #close above pbar\n",
        "      pbar.close()\n",
        "\n",
        "      valid_accuracy = valid(valid_loader, model, criterion, device)\n",
        "\n",
        "      # keep the best model\n",
        "      if valid_accuracy > best_accuracy:\n",
        "        best_accuracy = valid_accuracy\n",
        "        best_state_dict = model.state_dict()\n",
        "      # new pbar has total 2000 step\n",
        "      pbar = tqdm(total=valid_steps, ncols=0, desc=\"Train\", unit=\" step\")\n",
        "\n",
        "    # Save the best model so far.\n",
        "    if (step + 1) % save_steps == 0 and best_state_dict is not None:\n",
        "      torch.save(best_state_dict, save_path)\n",
        "      pbar.write(f\"Step {step + 1}, best model saved. (accuracy={best_accuracy:.4f})\")\n",
        "\n",
        "  pbar.close()\n",
        "\n",
        "\n",
        "if __name__ == \"__main__\":\n",
        "  main(**parse_args())"
      ]
    },
    {
      "cell_type": "markdown",
      "metadata": {
        "id": "0ZnUtE246AXm"
      },
      "source": [
        "##### original : val acc = 68%\n",
        "##### d_model 128 , multihead 1\n",
        "##### train acc = 80% , val acc = 73%\n",
        "\n",
        "##### TransformerEncoder layer : 1 -> 4\n",
        "##### Step : 70000 -> 100000\n",
        "##### train acc = 92% , val acc = 83%\n",
        "\n",
        "##### TransformerEncoder layer : 1 -> 4\n",
        "##### stat pooling -> self attention pooling\n",
        "##### Step : 100000 -> 120000\n",
        "##### train acc = 95% , val acc = 86%\n",
        "\n",
        "##### TransformerEncoder layer : 1 -> 5\n",
        "##### stat pooling -> self attention pooling\n",
        "##### prep layer : only keep last layer\n",
        "##### Step : 70000 -> 56000(imcomplete)\n",
        "##### train acc = 90% , val acc = 83%(imcomplete)\n",
        "\n",
        "##### ConformerEncoder layer : 4\n",
        "##### multihead 1 -> 2\n",
        "##### stat pooling -> self attention pooling\n",
        "##### prep layer : only keep last layer\n",
        "##### train acc = 57% , val acc = 62%"
      ]
    },
    {
      "cell_type": "code",
      "execution_count": null,
      "metadata": {
        "id": "ED3v3VUxUHDM"
      },
      "outputs": [],
      "source": [
        "import os\n",
        "import json\n",
        "import torch\n",
        "from pathlib import Path\n",
        "from torch.utils.data import Dataset\n",
        "\n",
        "\n",
        "class InferenceDataset(Dataset):\n",
        "  def __init__(self, data_dir):\n",
        "    # using / to merge path\n",
        "    testdata_path = Path(data_dir) / \"testdata.json\"\n",
        "    metadata = json.load(testdata_path.open())\n",
        "    self.data_dir = data_dir\n",
        "    #\n",
        "    self.data = metadata[\"utterances\"]\n",
        "\n",
        "  def __len__(self):\n",
        "    return len(self.data)\n",
        "\n",
        "  def __getitem__(self, index):\n",
        "    utterance = self.data[index]\n",
        "    feat_path = utterance[\"feature_path\"]\n",
        "    mel = torch.load(os.path.join(self.data_dir, feat_path))\n",
        "    # compare : when we load training set, we use append to concate datas\n",
        "    return feat_path, mel\n",
        "\n",
        "\n",
        "def inference_collate_batch(batch):\n",
        "  \"\"\"Collate a batch of data.\"\"\"\n",
        "  feat_paths, mels = zip(*batch)\n",
        "\n",
        "  return feat_paths, torch.stack(mels)"
      ]
    },
    {
      "cell_type": "code",
      "execution_count": null,
      "metadata": {
        "id": "WGfTSJDtUYPB"
      },
      "outputs": [],
      "source": [
        "import json\n",
        "import csv\n",
        "from pathlib import Path\n",
        "from tqdm.notebook import tqdm\n",
        "\n",
        "import torch\n",
        "from torch.utils.data import DataLoader\n",
        "\n",
        "def parse_args():\n",
        "  \"\"\"arguments\"\"\"\n",
        "  config = {\n",
        "    \"data_dir\": \"./Dataset\",\n",
        "    \"model_path\": \"./model.ckpt\",\n",
        "    \"output_path\": \"./output.csv\",\n",
        "  }\n",
        "\n",
        "  return config\n",
        "\n",
        "\n",
        "def main(\n",
        "  data_dir,\n",
        "  model_path,\n",
        "  output_path,\n",
        "):\n",
        "  \"\"\"Main function.\"\"\"\n",
        "  device = torch.device(\"cuda\" if torch.cuda.is_available() else \"cpu\")\n",
        "  print(f\"[Info]: Use {device} now!\")\n",
        "\n",
        "  mapping_path = Path(data_dir) / \"mapping.json\"\n",
        "  mapping = json.load(mapping_path.open())\n",
        "\n",
        "  dataset = InferenceDataset(data_dir)\n",
        "  dataloader = DataLoader(\n",
        "    dataset,\n",
        "    batch_size=1,\n",
        "    shuffle=False,\n",
        "    drop_last=False,\n",
        "    num_workers=8,\n",
        "    collate_fn=inference_collate_batch,\n",
        "  )\n",
        "  print(f\"[Info]: Finish loading data!\",flush = True)\n",
        "\n",
        "  speaker_num = len(mapping[\"id2speaker\"])\n",
        "  model = Classifier(n_spks=speaker_num).to(device)\n",
        "  model.load_state_dict(torch.load(model_path))\n",
        "  model.eval()\n",
        "  print(f\"[Info]: Finish creating model!\",flush = True)\n",
        "\n",
        "  results = [[\"Id\", \"Category\"]]\n",
        "  for feat_paths, mels in tqdm(dataloader):\n",
        "    with torch.no_grad():\n",
        "      mels = mels.to(device)\n",
        "      outs = model(mels)\n",
        "      preds = outs.argmax(1).cpu().numpy()\n",
        "      # zip from two list to a sequence of tuples\n",
        "      # preds is a numpy array whose elements are int numbers\n",
        "      for feat_path, pred in zip(feat_paths, preds):\n",
        "        # mapping[\"id2speaker\"] = {\"0\": \"id10001\", ......'599':  'id11251'}])\n",
        "        results.append([feat_path, mapping[\"id2speaker\"][str(pred)]])\n",
        "\n",
        "  with open(output_path, 'w', newline='') as csvfile:\n",
        "    writer = csv.writer(csvfile)\n",
        "    writer.writerows(results)\n",
        "\n",
        "\n",
        "if __name__ == \"__main__\":\n",
        "  main(**parse_args())\n"
      ]
    },
    {
      "cell_type": "code",
      "execution_count": null,
      "metadata": {
        "id": "nuDMfXVo9mD-"
      },
      "outputs": [],
      "source": [
        "# class MyLinearLayer(nn.Module):\n",
        "#     \"\"\" Custom Linear layer but mimics a standard linear layer \"\"\"\n",
        "#     def __init__(self, size_in, size_out):\n",
        "#         super().__init__()\n",
        "#         self.size_in, self.size_out = size_in, size_out\n",
        "#         weights = torch.Tensor(size_out, size_in)\n",
        "#         self.weights = nn.Parameter(weights)  # nn.Parameter is a Tensor that's a module parameter.\n",
        "#         bias = torch.Tensor(size_out)\n",
        "#         self.bias = nn.Parameter(bias)\n",
        "\n",
        "#         # initialize weights and biases\n",
        "#         nn.init.kaiming_uniform_(self.weights, a=math.sqrt(5)) # weight init\n",
        "#         fan_in, _ = nn.init._calculate_fan_in_and_fan_out(self.weights)\n",
        "#         bound = 1 / math.sqrt(fan_in)\n",
        "#         nn.init.uniform_(self.bias, -bound, bound)  # bias init\n",
        "\n",
        "#     def forward(self, x):\n",
        "#         w_times_x= torch.mm(x, self.weights.t())\n",
        "#         return torch.add(w_times_x, self.bias)  # w times x + b\n",
        "# class MyLinear(nn.Module):\n",
        "#     def __init__(self, in_units, units):\n",
        "#         super().__init__()\n",
        "#         self.weight = nn.Parameter(torch.randn(in_units, units))\n",
        "#         self.bias = nn.Parameter(torch.randn(units,))\n",
        "\n",
        "#     def forward(self, X):\n",
        "#         linear = torch.matmul(X, self.weight.data) + self.bias.data\n",
        "#         return F.relu(linear)\n",
        "# class NoisyLinear(T.nn.Module):\n",
        "#   def __init__(self, n_in, n_out):\n",
        "#     super().__init__()\n",
        "#     self.n_in, self.n_out = n_in, n_out\n",
        "\n",
        "#     self.weights = T.nn.Parameter(T.zeros((n_out, n_in),\n",
        "#       dtype=T.float32))\n",
        "#     self.bias = T.nn.Parameter(T.tensor(n_out,\n",
        "#       dtype=T.float32))\n",
        "#     self.lo = 0.90; self.hi = 0.98  # noise\n",
        "\n",
        "#     lim = 0.01  # initialize weights and bias\n",
        "#     T.nn.init.uniform_(self.weights, -lim, +lim)\n",
        "#     T.nn.init.uniform_(self.bias, -lim, +lim)\n",
        "\n",
        "#   def forward(self, x):\n",
        "#     wx= T.mm(x, self.weights.t())\n",
        "#     rnd = (self.hi - self.lo) * T.rand(1) + self.lo\n",
        "#     return rnd * T.add(wx, self.bias)  # wts * x + bias\n",
        "# class PrintLayer(nn.Module):\n",
        "#     def __init__(self):\n",
        "#         super(PrintLayer, self).__init__()\n",
        "\n",
        "#     def forward(self, x):\n",
        "#         # Do your print / debug stuff here\n",
        "#         print(x)\n",
        "#         return x"
      ]
    }
  ],
  "metadata": {
    "colab": {
      "provenance": [],
      "gpuType": "T4",
      "include_colab_link": true
    },
    "kernelspec": {
      "display_name": "Python 3",
      "name": "python3"
    },
    "language_info": {
      "codemirror_mode": {
        "name": "ipython",
        "version": 3
      },
      "file_extension": ".py",
      "mimetype": "text/x-python",
      "name": "python",
      "nbconvert_exporter": "python",
      "pygments_lexer": "ipython3",
      "version": "3.11.5"
    },
    "accelerator": "GPU"
  },
  "nbformat": 4,
  "nbformat_minor": 0
}