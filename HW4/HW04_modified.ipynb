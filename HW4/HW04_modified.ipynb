{
  "cells": [
    {
      "cell_type": "markdown",
      "metadata": {
        "id": "view-in-github",
        "colab_type": "text"
      },
      "source": [
        "<a href=\"https://colab.research.google.com/github/Shopping-Yuan/ML2021HW/blob/Shopping_vscode_branch/HW4/HW04_modified.ipynb\" target=\"_parent\"><img src=\"https://colab.research.google.com/assets/colab-badge.svg\" alt=\"Open In Colab\"/></a>"
      ]
    },
    {
      "cell_type": "code",
      "execution_count": 1,
      "metadata": {
        "colab": {
          "base_uri": "https://localhost:8080/"
        },
        "id": "Z1cauo_ypX7F",
        "outputId": "0ff9a39f-8636-45f8-de8c-def4586eb5be"
      },
      "outputs": [
        {
          "output_type": "stream",
          "name": "stdout",
          "text": [
            "Mounted at /content/drive\n"
          ]
        }
      ],
      "source": [
        "from google.colab import drive\n",
        "drive.mount('/content/drive')"
      ]
    },
    {
      "cell_type": "code",
      "execution_count": 2,
      "metadata": {
        "id": "rEgX4ezzB7SQ"
      },
      "outputs": [],
      "source": [
        "import shutil\n",
        "shutil.copyfile('/content/drive/MyDrive/Dataset.zip','/content/Dataset.zip')\n",
        "\n",
        "import zipfile\n",
        "with zipfile.ZipFile('/content/Dataset.zip','r') as zip_ref:\n",
        "  zip_ref.extractall('/content/')"
      ]
    },
    {
      "cell_type": "code",
      "execution_count": 31,
      "metadata": {
        "id": "mfFqQ-KmrJGy"
      },
      "outputs": [],
      "source": [
        "def parse_args():\n",
        "  \"\"\"arguments\"\"\"\n",
        "  config = {\n",
        "#    \"data_dir\": \"/content/Dataset\",\n",
        "    \"data_dir\": \"./Dataset\",\n",
        "    \"save_path\": \"model.ckpt\",\n",
        "    \"batch_size\": 32,\n",
        "    \"n_workers\": 0,\n",
        "    \"valid_steps\": 2000,\n",
        "    \"warmup_steps\": 1000,\n",
        "    \"save_steps\": 10000,\n",
        "    \"total_steps\": 120000,\n",
        "  }\n",
        "\n",
        "  return config"
      ]
    },
    {
      "cell_type": "markdown",
      "metadata": {
        "id": "zWDKfQCSrx2D"
      },
      "source": [
        "#Dataset"
      ]
    },
    {
      "cell_type": "code",
      "execution_count": 30,
      "metadata": {
        "id": "33lkzQf43DNb"
      },
      "outputs": [],
      "source": [
        "import os\n",
        "import json\n",
        "import torch\n",
        "import random\n",
        "from pathlib import Path\n",
        "from torch.utils.data import Dataset\n",
        "from torch.nn.utils.rnn import pad_sequence\n",
        "\n",
        "\n",
        "class myDataset(Dataset):\n",
        "  def __init__(self, data_dir, segment_len=128):\n",
        "    self.data_dir = data_dir\n",
        "    self.segment_len = segment_len\n",
        "\n",
        "    # Load the mapping from speaker neme to their corresponding id.\n",
        "    # Path package can use / to join path\n",
        "    #part 1-1\n",
        "    mapping_path = Path(data_dir) / \"mapping.json\"\n",
        "    mapping = json.load(mapping_path.open())\n",
        "    self.speaker2id = mapping[\"speaker2id\"]\n",
        "    #self.speaker2id = {'id10001': 0, 'id10005': 1, ...... 'id11247': 598, 'id11251': 599}\n",
        "\n",
        "    #part 1-2\n",
        "    # Load metadata of training data.\n",
        "    metadata_path = Path(data_dir) / \"metadata.json\"\n",
        "    metadata = json.load(open(metadata_path))[\"speakers\"]\n",
        "\n",
        "    # Get the total number of speaker.\n",
        "    self.speaker_num = len(metadata.keys())\n",
        "    self.data = []\n",
        "    for speaker in metadata.keys():\n",
        "    #['id10473', 'id10328', 'id10382',......'id10864']\n",
        "      for utterances in metadata[speaker]:\n",
        "      # for example : metadata[speaker] = 'id10473'\n",
        "      # utterances = {'feature_path': 'uttr-5c88b2f1803449789c36f14fb4d3c1eb.pt', 'mel_len': 652}......\n",
        "        self.data.append([utterances[\"feature_path\"], self.speaker2id[speaker]])\n",
        "        # for example : ['uttr-5c88b2f1803449789c36f14fb4d3c1eb.pt',217]\n",
        "\n",
        "  def __len__(self):\n",
        "    return len(self.data)\n",
        "\n",
        "  def __getitem__(self, index):\n",
        "    feat_path, speaker = self.data[index]\n",
        "    #[utterances[\"feature_path\"], self.speaker2id[speaker]\n",
        "\n",
        "    # Load preprocessed mel-spectrogram.\n",
        "    # https://pytorch.org/docs/stable/generated/torch.load.html\n",
        "    # using torch.load to open pt file . By default , tensors are loaded to GPU if they are GPU tensor.\n",
        "    # part 2\n",
        "    mel = torch.load(os.path.join(self.data_dir, feat_path))\n",
        "\n",
        "    # Segmemt mel-spectrogram into \"segment_len\" frames.\n",
        "    if len(mel) > self.segment_len:\n",
        "      # Randomly get the starting point of the segment.\n",
        "      start = random.randint(0, len(mel) - self.segment_len)\n",
        "      # Get a segment with \"segment_len\" frames.\n",
        "      mel = torch.FloatTensor(mel[start:start+self.segment_len])\n",
        "    else:\n",
        "      mel = torch.FloatTensor(mel)\n",
        "    # Turn the speaker id into long for computing loss later.\n",
        "    speaker = torch.FloatTensor([speaker]).long()\n",
        "    return mel, speaker\n",
        "\n",
        "  def get_speaker_number(self):\n",
        "    return self.speaker_num"
      ]
    },
    {
      "cell_type": "code",
      "execution_count": null,
      "metadata": {
        "id": "qNWZbKmRrZUj"
      },
      "outputs": [],
      "source": [
        "#data_dir = parse_args()[\"data_dir\"]\n",
        "#part 1-1\n",
        "#mapping.json checcking\n",
        "#mapping_path = Path(data_dir) / \"mapping.json\"\n",
        "#mapping = json.load(mapping_path.open())\n",
        "#speaker2id = mapping[\"speaker2id\"]\n",
        "#print(type(mapping)) #<class 'dict'>\n",
        "#print(mapping.keys()) #dict_keys(['speaker2id', 'id2speaker'])\n",
        "#print(mapping.values()) #dict_values([{'id10001': 0, 'id10005': 1, ...... 'id11247': 598, 'id11251': 599},\n",
        "             #{\"0\": \"id10001\", ......'599':  'id11251'}])\n",
        "#print(mapping['speaker2id']['id10473']) #217\n",
        "\n",
        "#part 1-2\n",
        "#metadata.json checcking\n",
        "#metadata_path = Path(data_dir) / \"metadata.json\"\n",
        "#metadata = json.load(open(metadata_path))[\"speakers\"]\n",
        "#print(type(metadata)) #<class 'dict'>\n",
        "#print(len(metadata.keys()),metadata.keys()) #600 dict_keys(['id10473', 'id10328', 'id10382',......'id10864'])\n",
        "#print(len(metadata.values()),len(list(metadata.values())[0]),list(metadata.values())[0])\n",
        "#600 176 [{'feature_path': 'uttr-5c88b2f1803449789c36f14fb4d3c1eb.pt', 'mel_len': 652},......\n",
        "#{'feature_path': 'uttr-caf385f0032140e0add0bbde9a6595cd.pt', 'mel_len': 414}]\n",
        "#print(len(metadata.values()),len(list(metadata.values())[1])) #600 101\n",
        "\n",
        "#part 2\n",
        "#mel = torch.load(os.path.join(data_dir, 'uttr-5c88b2f1803449789c36f14fb4d3c1eb.pt'))\n",
        "#print(type(mel)) #<class 'torch.Tensor'>\n",
        "#print(mel.size()) #torch.Size([652, 40])\n",
        "#print(mel[0])\n",
        "# tensor([\n",
        "# 2.0060,  1.9015,  1.3473,  1.5711,  1.5569,  2.3200,  3.0064,  3.3848,\n",
        "# 0.5376,  0.8397,  1.5710, -0.5662, -2.1262, -1.1271, -1.4272, -3.6233,\n",
        "# -1.0765, -1.8453, -3.2415, -2.3427, -1.5888, -0.4692, -0.4291, -0.4722,\n",
        "# -1.8450, -1.0638, -3.2177, -3.4006, -3.2176, -3.3409, -3.1142, -4.0395,\n",
        "# -3.6502, -4.2407, -4.9656, -5.1238, -5.0620, -5.4308, -6.0757, -6.6186])"
      ]
    },
    {
      "cell_type": "code",
      "execution_count": 29,
      "metadata": {
        "id": "MNfZK8vyq0rD"
      },
      "outputs": [],
      "source": [
        "import torch\n",
        "from torch.utils.data import DataLoader, random_split\n",
        "from torch.nn.utils.rnn import pad_sequence\n",
        "#part 1 check collate_batch\n",
        "def collate_batch(batch):\n",
        "  # Process features within a batch.\n",
        "  \"\"\"Collate a batch of data.\"\"\"\n",
        "  #part 1-1 , 1-2\n",
        "  mel, speaker = zip(*batch)\n",
        "  # Because we train the model batch by batch, we need to pad the features in the same batch to make their lengths the same.\n",
        "  mel = pad_sequence(mel, batch_first=True, padding_value=-20)    # pad log 10^(-20) which is very small value.\n",
        "  # mel: (batch size, length, 40)\n",
        "  #part 1-3\n",
        "  return mel, torch.FloatTensor(speaker).long()\n",
        "\n",
        "\n",
        "def get_dataloader(data_dir, batch_size, n_workers):\n",
        "  \"\"\"Generate dataloader\"\"\"\n",
        "  dataset = myDataset(data_dir)\n",
        "  speaker_num = dataset.get_speaker_number()\n",
        "  # Split dataset into training dataset and validation dataset\n",
        "  trainlen = int(0.9 * len(dataset))\n",
        "  lengths = [trainlen, len(dataset) - trainlen]\n",
        "  trainset, validset = random_split(dataset, lengths)\n",
        "\n",
        "  train_loader = DataLoader(\n",
        "    trainset,\n",
        "    batch_size=batch_size,\n",
        "    shuffle=True,\n",
        "    drop_last=True,\n",
        "    num_workers=n_workers,\n",
        "    pin_memory=True,\n",
        "    collate_fn=collate_batch,\n",
        "  )\n",
        "  valid_loader = DataLoader(\n",
        "    validset,\n",
        "    batch_size=batch_size,\n",
        "    num_workers=n_workers,\n",
        "    drop_last=True,\n",
        "    pin_memory=True,\n",
        "    collate_fn=collate_batch,\n",
        "  )\n",
        "\n",
        "  return train_loader, valid_loader, speaker_num"
      ]
    },
    {
      "cell_type": "code",
      "execution_count": null,
      "metadata": {
        "id": "75rCGxDvkX0I"
      },
      "outputs": [],
      "source": [
        "# x = [[\"a\",1],[\"b\",2],[\"c\",3]]\n",
        "# print(list(zip(*x)))\n",
        "# print(list(zip((\"a\",1),(\"b\",2),(\"c\",3))))"
      ]
    },
    {
      "cell_type": "code",
      "execution_count": null,
      "metadata": {
        "id": "vA6cTPqryJXZ"
      },
      "outputs": [],
      "source": [
        "#import numpy as np\n",
        "#check collate_batch\n",
        "#part 1-1\n",
        "# * collect \"sequence\"function input to a tuple :\n",
        "#def f(*paras):\n",
        "#  print(paras)\n",
        "#f(1,2,3) #(1, 2, 3)\n",
        "# or collect a tuple to a \"sequence\"\n",
        "#print(*(1,2,3)) #1 2 3\n",
        "\n",
        "#part 1-2\n",
        "#test_data = np.random.rand(2,3,4)\n",
        "#test_label = np.random.rand(2,1)\n",
        "#samples = (test_data,test_label)\n",
        "#print(samples)\n",
        "#x , y = zip((1,2),(3,4),(5,6),(7,8))\n",
        "#print(x,y)\n",
        "\n",
        "#part 1-3\n",
        "#print(torch.FloatTensor([[1.],[1.]]))#tensor([[1.],[1.]])\n",
        "#print(torch.FloatTensor([[1.],[1.]]).long())#tensor([[1],[1]]) implies the numbers are integer now\n",
        "#print(torch.IntTensor([[1.],[1.]]))#tensor([[1],[1]], dtype=torch.int32)"
      ]
    },
    {
      "cell_type": "code",
      "execution_count": 6,
      "metadata": {
        "colab": {
          "base_uri": "https://localhost:8080/"
        },
        "id": "3Yk6oGGdQD9G",
        "outputId": "7684ccac-09b4-42b9-cf3a-43438d8b6d64"
      },
      "outputs": [
        {
          "output_type": "stream",
          "name": "stdout",
          "text": [
            "Collecting torchinfo\n",
            "  Downloading torchinfo-1.8.0-py3-none-any.whl (23 kB)\n",
            "Installing collected packages: torchinfo\n",
            "Successfully installed torchinfo-1.8.0\n"
          ]
        }
      ],
      "source": [
        "!pip install torchinfo\n",
        "#%conda install -c conda-forge torchinfo"
      ]
    },
    {
      "cell_type": "code",
      "execution_count": null,
      "metadata": {
        "id": "aBXbvqTlTSyj"
      },
      "outputs": [],
      "source": [
        "# x = [True,True,False,True,False,False,False,True,False,True,True,False]\n",
        "\n",
        "# true_index_list = []\n",
        "\n",
        "# false_index_list = []\n",
        "\n",
        "# for i,b in enumerate(x):\n",
        "#   if b == True:\n",
        "#     true_index_list += [i]\n",
        "#   else :\n",
        "#     false_index_list += [i]\n",
        "# print(true_index_list,false_index_list)\n",
        "\n",
        "# new_list = []\n",
        "# t_max = len(true_index_list)\n",
        "# f_max = len(false_index_list)\n",
        "# true_index = 0\n",
        "# false_index = 0\n",
        "# t_or_f = 0\n",
        "# while (t_max * f_max)>0:\n",
        "#   if t_or_f % 2 ==0:\n",
        "#     new_list += true_index_list[true_index:true_index+3]\n",
        "#     true_index += 3\n",
        "#     t_or_f += 1\n",
        "#     t_max -= 3\n",
        "#   else :\n",
        "#     new_list += false_index_list[false_index:false_index+3]\n",
        "#     false_index += 3\n",
        "#     t_or_f += 1\n",
        "#     f_max -= 3\n",
        "# if t_max > 0:\n",
        "#   new_list += true_index_list[true_index:]\n",
        "# elif f_max > 0:\n",
        "#   new_list += false_index_list[false_index:]\n",
        "\n",
        "# print(new_list)\n"
      ]
    },
    {
      "cell_type": "code",
      "execution_count": 18,
      "metadata": {
        "id": "1l3Zx9A_d9ZT"
      },
      "outputs": [],
      "source": [
        "import torch.nn as nn\n",
        "class PrintLayer(nn.Module):\n",
        "  def __init__(self):\n",
        "    super().__init__()\n",
        "  def forward(self , x):\n",
        "    print(f\"layer output size = {x.size()}\")\n",
        "    return(x)\n",
        "\n",
        "class SelfAttentionPollingLayer(nn.Module):\n",
        "  def __init__(self,layer):\n",
        "    super().__init__()\n",
        "    self.layer = layer\n",
        "  def forward(self ,x ):\n",
        "\n",
        "    return torch.squeeze(torch.bmm(x.permute(0,2,1),x),1)"
      ]
    },
    {
      "cell_type": "code",
      "execution_count": 28,
      "metadata": {
        "id": "zlXaMSlWMU__"
      },
      "outputs": [],
      "source": [
        "import torch\n",
        "import torch.nn as nn\n",
        "import torch.nn.functional as F\n",
        "import torchvision\n",
        "from torchinfo import summary\n",
        "\n",
        "class Classifier(nn.Module):\n",
        "  def __init__(self, d_model=128, n_spks=600, dropout=0.1):\n",
        "    super().__init__()\n",
        "    # Project the dimension of features from that of input into d_model.\n",
        "    self.prenet = nn.Linear(40, d_model)\n",
        "    # TODO:\n",
        "    #   Change Transformer to Conformer.\n",
        "    #   https://arxiv.org/abs/2005.08100\n",
        "    # embed_dim must be divisible by num_heads\n",
        "    self.encoder_layer = nn.TransformerEncoderLayer(\n",
        "      d_model=d_model, dim_feedforward=256, nhead=1, norm_first = True\n",
        "    )\n",
        "    # batch_first = True\n",
        "    # norm_first = True\n",
        "    self.encoder = nn.TransformerEncoder(self.encoder_layer, num_layers=4  )\n",
        "    # attension pooling\n",
        "    self.attension_pooling = nn.Sequential(\n",
        "      nn.Linear(d_model, d_model),\n",
        "      nn.ReLU(),\n",
        "      nn.Linear(d_model, 1),\n",
        "      nn.Softmax(dim = 1),\n",
        "    )\n",
        "#    self.afd = SelfAttentionPollingLayer(self.attension_pooling)\n",
        "#    self.linear = nn.Linear(d_model, d_model)\n",
        "#    self.relu = nn.ReLU()\n",
        "#    self.linear_out = nn.Linear(d_model, n_spks)\n",
        "\n",
        "    # Project the the dimension of features from d_model into speaker nums.\n",
        "    self.pred_layer = nn.Sequential(\n",
        "      nn.Linear(d_model, d_model),\n",
        "      nn.ReLU(),\n",
        "      nn.Linear(d_model, n_spks),\n",
        "    )\n",
        "\n",
        "  def forward(self, mels):\n",
        "    \"\"\"\n",
        "    args:\n",
        "      mels: (batch size, length, 40)\n",
        "    return:\n",
        "      out: (batch size, n_spks)\n",
        "    \"\"\"\n",
        "    # out: (batch size, length, d_model)\n",
        "    #print(mels.size())\n",
        "    out = self.prenet(mels)\n",
        "    # out: (length, batch size, d_model)\n",
        "    out = out.permute(1, 0, 2)\n",
        "    #print(out.size())\n",
        "    # The encoder layer expect features in the shape of (length, batch size, d_model).\n",
        "    #out = self.encoder_layer(out)\n",
        "    out = self.encoder(out)\n",
        "    # out: (batch size, length, d_model)\n",
        "    #print(out.size())\n",
        "    out = out.transpose(0, 1)\n",
        "#    print(out.size())\n",
        "    # self-attention pooling\n",
        "    #out = self.afd(out)\n",
        "#    print(out.size())\n",
        "    sfatpool = self.attension_pooling(out)\n",
        "#    print(sfatpool.size(),out.size())\n",
        "    out = torch.squeeze(torch.bmm(sfatpool.permute(0,2,1),out),1)\n",
        "#    out = self.afd(out)\n",
        "#    print(out.size())\n",
        "\n",
        "    # mean pooling\n",
        "#    stats = out.mean(dim=1)\n",
        "\n",
        "    # out: (batch, n_spks)\n",
        "#    out = self.pred_layer(stats)\n",
        "#    out = self.linear(out)\n",
        "#    out = self.relu(out)\n",
        "#    out = self.linear_out(out)\n",
        "    out = self.pred_layer(out)\n",
        "    return out\n"
      ]
    },
    {
      "cell_type": "code",
      "execution_count": 27,
      "metadata": {
        "colab": {
          "base_uri": "https://localhost:8080/"
        },
        "id": "vXLlPNAI9N9F",
        "outputId": "7bb20063-2409-417f-eedf-3ff8371f1882"
      },
      "outputs": [
        {
          "output_type": "stream",
          "name": "stdout",
          "text": [
            "===============================================================================================\n",
            "Layer (type:depth-idx)                        Output Shape              Param #\n",
            "===============================================================================================\n",
            "Classifier                                    [32, 600]                 132,480\n",
            "├─Linear: 1-1                                 [32, 128, 128]            5,248\n",
            "├─TransformerEncoder: 1-2                     [128, 32, 128]            --\n",
            "│    └─ModuleList: 2-1                        --                        --\n",
            "│    │    └─TransformerEncoderLayer: 3-1      [128, 32, 128]            132,480\n",
            "│    │    └─TransformerEncoderLayer: 3-2      [128, 32, 128]            132,480\n",
            "│    │    └─TransformerEncoderLayer: 3-3      [128, 32, 128]            132,480\n",
            "│    │    └─TransformerEncoderLayer: 3-4      [128, 32, 128]            132,480\n",
            "├─Sequential: 1-3                             [32, 128, 1]              --\n",
            "│    └─Linear: 2-2                            [32, 128, 128]            16,512\n",
            "│    └─ReLU: 2-3                              [32, 128, 128]            --\n",
            "│    └─Linear: 2-4                            [32, 128, 1]              129\n",
            "│    └─Softmax: 2-5                           [32, 128, 1]              --\n",
            "├─Sequential: 1-4                             [32, 600]                 --\n",
            "│    └─Linear: 2-6                            [32, 128]                 16,512\n",
            "│    └─ReLU: 2-7                              [32, 128]                 --\n",
            "│    └─Linear: 2-8                            [32, 600]                 77,400\n",
            "===============================================================================================\n",
            "Total params: 778,201\n",
            "Trainable params: 778,201\n",
            "Non-trainable params: 0\n",
            "Total mult-adds (M): 37.72\n",
            "===============================================================================================\n",
            "Input size (MB): 0.66\n",
            "Forward/backward pass size (MB): 92.49\n",
            "Params size (MB): 1.53\n",
            "Estimated Total Size (MB): 94.68\n",
            "===============================================================================================\n"
          ]
        }
      ],
      "source": [
        "model = Classifier()\n",
        "print(summary(model,(32,128,40)))\n",
        "#print(model.state_dict().keys())\n",
        "#print(model.state_dict()[\"encoder_layer.self_attn.in_proj_weight\"].size())#torch.Size([240, 80]) (80+80+80)*80\n",
        "#print(model.state_dict()[\"encoder_layer.self_attn.out_proj.weight\"].size())#torch.Size([80, 80])"
      ]
    },
    {
      "cell_type": "markdown",
      "metadata": {
        "id": "5EhBDpSpznKl"
      },
      "source": [
        "original\n",
        "parameter number :\n",
        "1.MultiheadAttention : =\n",
        "d_model+1(bias) * d_query +\n",
        "d_model+1(bias) * d_key  +\n",
        "d_model+1(bias) * d_v   +\n",
        "d_v + 1(bias) * output_dim( = dmodel)\n",
        "= (80+1)80 + (80+1)80 + (80+1)80 + (80+1)80 = 25920\n",
        "2.layer_norm : =input + input = 80*80 = 160\n",
        "\n",
        "first change\n",
        "parameter number :\n",
        "1.MultiheadAttention : =\n",
        "d_model+1(bias) * d_query +\n",
        "d_model+1(bias) * d_key  +\n",
        "d_model+1(bias) * d_v   +\n",
        "d_v + 1(bias) * output_dim( = dmodel)\n",
        "= (128+1)128(3+1)= 16512\n",
        "\n",
        "second change\n",
        "parameter number :\n",
        "1.MultiheadAttention : =\n",
        "d_model+1(bias) * d_query +\n",
        "d_model+1(bias) * d_key  +\n",
        "d_model+1(bias) * d_v   +\n",
        "d_v + 1(bias) * output_dim( = dmodel)\n",
        "= (128+1)128(3+1)= 16512\n",
        "two layers : 33024\n",
        "\n",
        "2.layer_norm : =input + input = 80*80 = 160\n",
        "\n",
        "3rd change\n",
        "parameter number :\n",
        "1.MultiheadAttention : =\n",
        "d_model+1(bias) * d_query +\n",
        "d_model+1(bias) * d_key  +\n",
        "d_model+1(bias) * d_v   +\n",
        "d_v + 1(bias) * output_dim( = dmodel)\n",
        "= (128+1)128(3+1)= 16512\n",
        "four layers : 66048\n",
        "\n",
        "2.layer_norm : =input + input = 80*80 = 160\n"
      ]
    },
    {
      "cell_type": "code",
      "execution_count": 26,
      "metadata": {
        "id": "tUSxoANBMchs"
      },
      "outputs": [],
      "source": [
        "import math\n",
        "\n",
        "import torch\n",
        "from torch.optim import Optimizer\n",
        "from torch.optim.lr_scheduler import LambdaLR\n",
        "\n",
        "\n",
        "def get_cosine_schedule_with_warmup(\n",
        "  optimizer: Optimizer,\n",
        "  num_warmup_steps: int,\n",
        "  num_training_steps: int,\n",
        "  num_cycles: float = 0.5,\n",
        "  last_epoch: int = -1,\n",
        "):\n",
        "  \"\"\"\n",
        "  Create a schedule with a learning rate that decreases following the values of the cosine function between the\n",
        "  initial lr set in the optimizer to 0, after a warmup period during which it increases linearly between 0 and the\n",
        "  initial lr set in the optimizer.\n",
        "\n",
        "  Args:\n",
        "    optimizer (:class:`~torch.optim.Optimizer`):\n",
        "      The optimizer for which to schedule the learning rate.\n",
        "    num_warmup_steps (:obj:`int`):\n",
        "      The number of steps for the warmup phase.\n",
        "    num_training_steps (:obj:`int`):\n",
        "      The total number of training steps.\n",
        "    num_cycles (:obj:`float`, `optional`, defaults to 0.5):\n",
        "      The number of waves in the cosine schedule (the defaults is to just decrease from the max value to 0\n",
        "      following a half-cosine).\n",
        "    last_epoch (:obj:`int`, `optional`, defaults to -1):\n",
        "      The index of the last epoch when resuming training.\n",
        "\n",
        "  Return:\n",
        "    :obj:`torch.optim.lr_scheduler.LambdaLR` with the appropriate schedule.\n",
        "  \"\"\"\n",
        "\n",
        "  def lr_lambda(current_step):\n",
        "    # Warmup\n",
        "    if current_step < num_warmup_steps:\n",
        "      return float(current_step) / float(max(1, num_warmup_steps))\n",
        "    # decadence\n",
        "    # cosine angle\n",
        "    progress = float(current_step - num_warmup_steps) / float(\n",
        "      max(1, num_training_steps - num_warmup_steps)\n",
        "    )\n",
        "    return max(\n",
        "      0.0, 0.5 * (1.0 + math.cos(math.pi * float(num_cycles) * 2.0 * progress))\n",
        "    )\n",
        "\n",
        "  return LambdaLR(optimizer, lr_lambda, last_epoch)"
      ]
    },
    {
      "cell_type": "code",
      "execution_count": null,
      "metadata": {
        "id": "9o3hw_GcF1Jb"
      },
      "outputs": [],
      "source": [
        "#from torch.optim import AdamW\n",
        "#optimizer = AdamW(model.parameters(), lr=1e-3)\n",
        "\n",
        "#scheduler = get_cosine_schedule_with_warmup(optimizer, 1000, 70000)\n",
        "\n",
        "#print(type(scheduler.optimizer.param_groups)) #<class 'list'>\n",
        "#print(len(scheduler.optimizer.param_groups))  #1\n",
        "#print(type(scheduler.optimizer.param_groups[0])) #<class 'dict'>\n",
        "#print(scheduler.optimizer.param_groups[0].keys())\n",
        "#['params', 'lr', 'betas', 'eps', 'weight_decay', 'amsgrad', 'foreach',\n",
        "#'maximize', 'capturable', 'differentiable', 'fused', 'initial_lr']\n",
        "#print(scheduler.optimizer.param_groups[0]['params'])\n",
        "#[Parameter containing: tensor([[......],requires_grad=True)]\n",
        "#print(scheduler.optimizer.param_groups[0]['lr'])# 0.0\n",
        "#print(scheduler.optimizer.param_groups[0]['betas'])# (0.9, 0.999)\n",
        "#print(scheduler.optimizer.param_groups[0]['eps']) # 1e-08\n",
        "#print(scheduler.optimizer.param_groups[0]['weight_decay']) #0.01\n",
        "#print(scheduler.optimizer.param_groups[0]['amsgrad']) # False\n",
        "#print(scheduler.optimizer.param_groups[0]['foreach']) # None"
      ]
    },
    {
      "cell_type": "code",
      "execution_count": 25,
      "metadata": {
        "id": "yfDXw13q1ssm"
      },
      "outputs": [],
      "source": [
        "import torch\n",
        "\n",
        "\n",
        "def model_fn(batch, model, criterion, device):\n",
        "  \"\"\"Forward a batch through the model.\"\"\"\n",
        "\n",
        "  mels, labels = batch\n",
        "  mels = mels.to(device)\n",
        "  labels = labels.to(device)\n",
        "\n",
        "  outs = model(mels)\n",
        "\n",
        "  loss = criterion(outs, labels)\n",
        "\n",
        "  # Get the speaker id with highest probability.\n",
        "  preds = outs.argmax(1)\n",
        "  # Compute accuracy.\n",
        "  accuracy = torch.mean((preds == labels).float())\n",
        "\n",
        "  return loss, accuracy"
      ]
    },
    {
      "cell_type": "code",
      "execution_count": 24,
      "metadata": {
        "id": "959wMzs21wbz"
      },
      "outputs": [],
      "source": [
        "from tqdm import tqdm\n",
        "import torch\n",
        "\n",
        "\n",
        "def valid(dataloader, model, criterion, device):\n",
        "  \"\"\"Validate on validation set.\"\"\"\n",
        "\n",
        "  model.eval()\n",
        "  running_loss = 0.0\n",
        "  running_accuracy = 0.0\n",
        "  # Manually update the progress bar : step 1\n",
        "  # total length\n",
        "  pbar = tqdm(total=len(dataloader.dataset), ncols=0, desc=\"Valid\", unit=\" uttr\")\n",
        "  for i, batch in enumerate(dataloader):\n",
        "    with torch.no_grad():\n",
        "      loss, accuracy = model_fn(batch, model, criterion, device)\n",
        "      running_loss += loss.item()\n",
        "      running_accuracy += accuracy.item()\n",
        "    # Manually update the progress bar : step 2\n",
        "    # update each batch\n",
        "    pbar.update(dataloader.batch_size)\n",
        "    pbar.set_postfix(\n",
        "      loss=f\"{running_loss / (i+1):.2f}\",\n",
        "      accuracy=f\"{running_accuracy / (i+1):.2f}\",\n",
        "    )\n",
        "  # Manually update the progress bar : step 3\n",
        "  pbar.close()\n",
        "  model.train()\n",
        "\n",
        "  return running_accuracy / len(dataloader)\n"
      ]
    },
    {
      "cell_type": "code",
      "execution_count": 32,
      "metadata": {
        "colab": {
          "base_uri": "https://localhost:8080/"
        },
        "id": "m7ckdrpl6_YW",
        "outputId": "0066f1b5-a40b-41b1-db25-c5d3583d92dc"
      },
      "outputs": [
        {
          "output_type": "stream",
          "name": "stdout",
          "text": [
            "[Info]: Use cuda now!\n"
          ]
        },
        {
          "output_type": "stream",
          "name": "stderr",
          "text": [
            "\rTrain:   0% 0/2000 [04:10<?, ? step/s]"
          ]
        },
        {
          "output_type": "stream",
          "name": "stdout",
          "text": [
            "[Info]: Finish loading data!\n",
            "[Info]: Finish creating model!\n"
          ]
        },
        {
          "output_type": "stream",
          "name": "stderr",
          "text": [
            "\n",
            "Train:   0% 1/2000 [00:00<03:40,  9.08 step/s, accuracy=0.00, loss=6.48, step=1]"
          ]
        },
        {
          "output_type": "stream",
          "name": "stdout",
          "text": [
            "average loss = 6.4828       average accuracy = 0.0000)\n"
          ]
        },
        {
          "output_type": "stream",
          "name": "stderr",
          "text": [
            "Train:  50% 1001/2000 [01:40<01:31, 10.89 step/s, accuracy=0.22, loss=3.99, step=1001]"
          ]
        },
        {
          "output_type": "stream",
          "name": "stdout",
          "text": [
            "average loss = 5.2825       average accuracy = 0.0720)\n"
          ]
        },
        {
          "output_type": "stream",
          "name": "stderr",
          "text": [
            "Train: 100% 2000/2000 [03:15<00:00, 10.22 step/s, accuracy=0.22, loss=3.64, step=2000]\n",
            "Valid: 100% 6944/6944 [00:19<00:00, 348.82 uttr/s, accuracy=0.29, loss=3.35]\n",
            "Train:   0% 1/2000 [00:00<03:30,  9.48 step/s, accuracy=0.34, loss=3.16, step=2001]"
          ]
        },
        {
          "output_type": "stream",
          "name": "stdout",
          "text": [
            "average loss = 3.7853       average accuracy = 0.2182)\n"
          ]
        },
        {
          "output_type": "stream",
          "name": "stderr",
          "text": [
            "Train:  50% 1001/2000 [01:24<01:30, 11.02 step/s, accuracy=0.31, loss=3.07, step=3001]"
          ]
        },
        {
          "output_type": "stream",
          "name": "stdout",
          "text": [
            "average loss = 3.1396       average accuracy = 0.3191)\n"
          ]
        },
        {
          "output_type": "stream",
          "name": "stderr",
          "text": [
            "Train: 100% 2000/2000 [02:58<00:00, 11.20 step/s, accuracy=0.28, loss=3.38, step=4000]\n",
            "Valid: 100% 6944/6944 [00:19<00:00, 358.89 uttr/s, accuracy=0.41, loss=2.69]\n",
            "Train:   0% 1/2000 [00:00<03:41,  9.01 step/s, accuracy=0.41, loss=2.60, step=4001]"
          ]
        },
        {
          "output_type": "stream",
          "name": "stdout",
          "text": [
            "average loss = 2.8069       average accuracy = 0.3757)\n"
          ]
        },
        {
          "output_type": "stream",
          "name": "stderr",
          "text": [
            "Train:  50% 1001/2000 [01:24<01:42,  9.70 step/s, accuracy=0.50, loss=2.23, step=5001]"
          ]
        },
        {
          "output_type": "stream",
          "name": "stdout",
          "text": [
            "average loss = 2.4924       average accuracy = 0.4362)\n"
          ]
        },
        {
          "output_type": "stream",
          "name": "stderr",
          "text": [
            "Train: 100% 2000/2000 [02:57<00:00, 11.25 step/s, accuracy=0.41, loss=2.79, step=6000]\n",
            "Valid: 100% 6944/6944 [00:18<00:00, 384.35 uttr/s, accuracy=0.48, loss=2.29]\n",
            "Train:   0% 2/2000 [00:00<04:32,  7.32 step/s, accuracy=0.47, loss=2.06, step=6002]"
          ]
        },
        {
          "output_type": "stream",
          "name": "stdout",
          "text": [
            "average loss = 2.3129       average accuracy = 0.4731)\n"
          ]
        },
        {
          "output_type": "stream",
          "name": "stderr",
          "text": [
            "Train:  50% 1002/2000 [01:24<01:38, 10.12 step/s, accuracy=0.41, loss=2.49, step=7002]"
          ]
        },
        {
          "output_type": "stream",
          "name": "stdout",
          "text": [
            "average loss = 2.1276       average accuracy = 0.5060)\n"
          ]
        },
        {
          "output_type": "stream",
          "name": "stderr",
          "text": [
            "Train: 100% 2000/2000 [02:54<00:00, 11.45 step/s, accuracy=0.59, loss=1.63, step=8000]\n",
            "Valid: 100% 6944/6944 [00:18<00:00, 381.66 uttr/s, accuracy=0.52, loss=2.12]\n",
            "Train:   0% 1/2000 [00:00<03:37,  9.21 step/s, accuracy=0.50, loss=2.49, step=8001]"
          ]
        },
        {
          "output_type": "stream",
          "name": "stdout",
          "text": [
            "average loss = 2.0018       average accuracy = 0.5323)\n"
          ]
        },
        {
          "output_type": "stream",
          "name": "stderr",
          "text": [
            "Train:  50% 1001/2000 [01:26<01:36, 10.33 step/s, accuracy=0.66, loss=1.89, step=9001]"
          ]
        },
        {
          "output_type": "stream",
          "name": "stdout",
          "text": [
            "average loss = 1.8716       average accuracy = 0.5538)\n"
          ]
        },
        {
          "output_type": "stream",
          "name": "stderr",
          "text": [
            "Train: 100% 2000/2000 [02:56<00:00, 11.36 step/s, accuracy=0.56, loss=1.96, step=1e+4]\n",
            "Valid: 100% 6944/6944 [00:18<00:00, 375.22 uttr/s, accuracy=0.56, loss=1.91]\n",
            "\n",
            "Train:   0% 0/2000 [00:00<?, ? step/s]\n",
            "Train:   0% 1/2000 [00:00<05:40,  5.87 step/s, accuracy=0.62, loss=1.59, step=1e+4]"
          ]
        },
        {
          "output_type": "stream",
          "name": "stdout",
          "text": [
            "Step 10000, best model saved. (accuracy=0.5606)\n",
            "average loss = 1.7902       average accuracy = 0.5763)\n"
          ]
        },
        {
          "output_type": "stream",
          "name": "stderr",
          "text": [
            "Train:  50% 1001/2000 [01:28<01:47,  9.26 step/s, accuracy=0.69, loss=1.60, step=11001]"
          ]
        },
        {
          "output_type": "stream",
          "name": "stdout",
          "text": [
            "average loss = 1.6863       average accuracy = 0.5958)\n"
          ]
        },
        {
          "output_type": "stream",
          "name": "stderr",
          "text": [
            "Train: 100% 2000/2000 [02:55<00:00, 11.42 step/s, accuracy=0.50, loss=1.93, step=12000]\n",
            "Valid: 100% 6944/6944 [00:18<00:00, 380.56 uttr/s, accuracy=0.60, loss=1.75]\n",
            "Train:   0% 2/2000 [00:00<03:59,  8.35 step/s, accuracy=0.66, loss=1.61, step=12001]"
          ]
        },
        {
          "output_type": "stream",
          "name": "stdout",
          "text": [
            "average loss = 1.6323       average accuracy = 0.6062)\n"
          ]
        },
        {
          "output_type": "stream",
          "name": "stderr",
          "text": [
            "Train:  50% 1001/2000 [01:28<01:37, 10.25 step/s, accuracy=0.50, loss=1.69, step=13001]"
          ]
        },
        {
          "output_type": "stream",
          "name": "stdout",
          "text": [
            "average loss = 1.5490       average accuracy = 0.6244)\n"
          ]
        },
        {
          "output_type": "stream",
          "name": "stderr",
          "text": [
            "Train: 100% 2000/2000 [02:53<00:00, 11.55 step/s, accuracy=0.69, loss=1.29, step=14000]\n",
            "Valid: 100% 6944/6944 [00:18<00:00, 382.77 uttr/s, accuracy=0.62, loss=1.62]\n",
            "Train:   0% 1/2000 [00:00<03:29,  9.55 step/s, accuracy=0.72, loss=1.12, step=14001]"
          ]
        },
        {
          "output_type": "stream",
          "name": "stdout",
          "text": [
            "average loss = 1.4854       average accuracy = 0.6374)\n"
          ]
        },
        {
          "output_type": "stream",
          "name": "stderr",
          "text": [
            "Train:  50% 1001/2000 [01:29<01:39, 10.08 step/s, accuracy=0.69, loss=1.22, step=15001]"
          ]
        },
        {
          "output_type": "stream",
          "name": "stdout",
          "text": [
            "average loss = 1.4451       average accuracy = 0.6486)\n"
          ]
        },
        {
          "output_type": "stream",
          "name": "stderr",
          "text": [
            "Train: 100% 2000/2000 [02:53<00:00, 11.55 step/s, accuracy=0.59, loss=1.44, step=16000]\n",
            "Valid: 100% 6944/6944 [00:18<00:00, 379.72 uttr/s, accuracy=0.64, loss=1.51]\n",
            "Train:   0% 1/2000 [00:00<03:09, 10.57 step/s, accuracy=0.72, loss=1.06, step=16001]"
          ]
        },
        {
          "output_type": "stream",
          "name": "stdout",
          "text": [
            "average loss = 1.3806       average accuracy = 0.6594)\n"
          ]
        },
        {
          "output_type": "stream",
          "name": "stderr",
          "text": [
            "Train:  50% 1001/2000 [01:30<01:44,  9.52 step/s, accuracy=0.72, loss=0.77, step=17001]"
          ]
        },
        {
          "output_type": "stream",
          "name": "stdout",
          "text": [
            "average loss = 1.3376       average accuracy = 0.6705)\n"
          ]
        },
        {
          "output_type": "stream",
          "name": "stderr",
          "text": [
            "Train: 100% 2000/2000 [02:53<00:00, 11.52 step/s, accuracy=0.75, loss=1.08, step=18000]\n",
            "Valid: 100% 6944/6944 [00:18<00:00, 372.42 uttr/s, accuracy=0.66, loss=1.47]\n",
            "Train:   0% 2/2000 [00:00<04:39,  7.15 step/s, accuracy=0.75, loss=1.01, step=18002]"
          ]
        },
        {
          "output_type": "stream",
          "name": "stdout",
          "text": [
            "average loss = 1.2875       average accuracy = 0.6829)\n"
          ]
        },
        {
          "output_type": "stream",
          "name": "stderr",
          "text": [
            "Train:  50% 1002/2000 [01:30<01:51,  8.98 step/s, accuracy=0.62, loss=1.63, step=19002]"
          ]
        },
        {
          "output_type": "stream",
          "name": "stdout",
          "text": [
            "average loss = 1.2657       average accuracy = 0.6876)\n"
          ]
        },
        {
          "output_type": "stream",
          "name": "stderr",
          "text": [
            "Train: 100% 2000/2000 [02:52<00:00, 11.61 step/s, accuracy=0.78, loss=0.82, step=2e+4]\n",
            "Valid: 100% 6944/6944 [00:18<00:00, 372.42 uttr/s, accuracy=0.67, loss=1.43]\n",
            "\n",
            "Train:   0% 0/2000 [00:00<?, ? step/s]\n",
            "Train:   0% 1/2000 [00:00<07:08,  4.67 step/s, accuracy=0.75, loss=0.88, step=2e+4]"
          ]
        },
        {
          "output_type": "stream",
          "name": "stdout",
          "text": [
            "Step 20000, best model saved. (accuracy=0.6686)\n",
            "average loss = 1.2188       average accuracy = 0.6950)\n"
          ]
        },
        {
          "output_type": "stream",
          "name": "stderr",
          "text": [
            "Train:  50% 1001/2000 [01:33<01:37, 10.30 step/s, accuracy=0.75, loss=0.71, step=21001]"
          ]
        },
        {
          "output_type": "stream",
          "name": "stdout",
          "text": [
            "average loss = 1.1905       average accuracy = 0.7036)\n"
          ]
        },
        {
          "output_type": "stream",
          "name": "stderr",
          "text": [
            "Train: 100% 2000/2000 [02:54<00:00, 11.49 step/s, accuracy=0.69, loss=0.95, step=22000]\n",
            "Valid: 100% 6944/6944 [00:18<00:00, 382.19 uttr/s, accuracy=0.68, loss=1.33]\n",
            "Train:   0% 2/2000 [00:00<04:24,  7.57 step/s, accuracy=0.66, loss=1.36, step=22002]"
          ]
        },
        {
          "output_type": "stream",
          "name": "stdout",
          "text": [
            "average loss = 1.1422       average accuracy = 0.7121)\n"
          ]
        },
        {
          "output_type": "stream",
          "name": "stderr",
          "text": [
            "Train:  50% 1002/2000 [01:33<01:55,  8.62 step/s, accuracy=0.72, loss=1.58, step=23002]"
          ]
        },
        {
          "output_type": "stream",
          "name": "stdout",
          "text": [
            "average loss = 1.1333       average accuracy = 0.7115)\n"
          ]
        },
        {
          "output_type": "stream",
          "name": "stderr",
          "text": [
            "Train: 100% 2000/2000 [02:53<00:00, 11.52 step/s, accuracy=0.66, loss=1.15, step=24000]\n",
            "Valid: 100% 6944/6944 [00:18<00:00, 370.97 uttr/s, accuracy=0.67, loss=1.37]\n",
            "Train:   0% 2/2000 [00:00<04:46,  6.98 step/s, accuracy=0.66, loss=1.50, step=24002]"
          ]
        },
        {
          "output_type": "stream",
          "name": "stdout",
          "text": [
            "average loss = 1.0918       average accuracy = 0.7237)\n"
          ]
        },
        {
          "output_type": "stream",
          "name": "stderr",
          "text": [
            "Train:  50% 1001/2000 [01:33<01:36, 10.39 step/s, accuracy=0.88, loss=0.67, step=25001]"
          ]
        },
        {
          "output_type": "stream",
          "name": "stdout",
          "text": [
            "average loss = 1.0788       average accuracy = 0.7273)\n"
          ]
        },
        {
          "output_type": "stream",
          "name": "stderr",
          "text": [
            "Train: 100% 2000/2000 [02:52<00:00, 11.61 step/s, accuracy=0.84, loss=0.80, step=26000]\n",
            "Valid: 100% 6944/6944 [00:18<00:00, 373.47 uttr/s, accuracy=0.68, loss=1.35]\n",
            "Train:   0% 1/2000 [00:00<03:31,  9.43 step/s, accuracy=0.81, loss=0.90, step=26001]"
          ]
        },
        {
          "output_type": "stream",
          "name": "stdout",
          "text": [
            "average loss = 1.0418       average accuracy = 0.7360)\n"
          ]
        },
        {
          "output_type": "stream",
          "name": "stderr",
          "text": [
            "Train:  50% 1001/2000 [01:34<01:42,  9.73 step/s, accuracy=0.81, loss=0.65, step=27001]"
          ]
        },
        {
          "output_type": "stream",
          "name": "stdout",
          "text": [
            "average loss = 1.0513       average accuracy = 0.7350)\n"
          ]
        },
        {
          "output_type": "stream",
          "name": "stderr",
          "text": [
            "Train: 100% 2000/2000 [02:54<00:00, 11.46 step/s, accuracy=0.88, loss=0.33, step=28000]\n",
            "Valid: 100% 6944/6944 [00:18<00:00, 365.71 uttr/s, accuracy=0.69, loss=1.28]\n",
            "Train:   0% 1/2000 [00:00<03:47,  8.78 step/s, accuracy=0.78, loss=0.78, step=28001]"
          ]
        },
        {
          "output_type": "stream",
          "name": "stdout",
          "text": [
            "average loss = 0.9850       average accuracy = 0.7495)\n"
          ]
        },
        {
          "output_type": "stream",
          "name": "stderr",
          "text": [
            "Train:  50% 1001/2000 [01:38<01:42,  9.78 step/s, accuracy=0.62, loss=1.44, step=29001]"
          ]
        },
        {
          "output_type": "stream",
          "name": "stdout",
          "text": [
            "average loss = 0.9824       average accuracy = 0.7493)\n"
          ]
        },
        {
          "output_type": "stream",
          "name": "stderr",
          "text": [
            "Train: 100% 2000/2000 [02:56<00:00, 11.30 step/s, accuracy=0.78, loss=0.68, step=3e+4]\n",
            "Valid: 100% 6944/6944 [00:18<00:00, 368.71 uttr/s, accuracy=0.73, loss=1.19]\n",
            "\n",
            "Train:   0% 0/2000 [00:00<?, ? step/s]\n",
            "Train:   0% 1/2000 [00:00<06:26,  5.17 step/s, accuracy=0.78, loss=0.74, step=3e+4]"
          ]
        },
        {
          "output_type": "stream",
          "name": "stdout",
          "text": [
            "Step 30000, best model saved. (accuracy=0.7261)\n",
            "average loss = 0.9412       average accuracy = 0.7576)\n"
          ]
        },
        {
          "output_type": "stream",
          "name": "stderr",
          "text": [
            "Train:  50% 1001/2000 [01:36<01:45,  9.48 step/s, accuracy=0.78, loss=1.05, step=31001]"
          ]
        },
        {
          "output_type": "stream",
          "name": "stdout",
          "text": [
            "average loss = 0.9498       average accuracy = 0.7547)\n"
          ]
        },
        {
          "output_type": "stream",
          "name": "stderr",
          "text": [
            "Train: 100% 2000/2000 [02:54<00:00, 11.44 step/s, accuracy=0.78, loss=0.90, step=32000]\n",
            "Valid: 100% 6944/6944 [00:19<00:00, 362.33 uttr/s, accuracy=0.72, loss=1.20]\n",
            "Train:   0% 1/2000 [00:00<04:02,  8.23 step/s, accuracy=0.75, loss=1.18, step=32001]"
          ]
        },
        {
          "output_type": "stream",
          "name": "stdout",
          "text": [
            "average loss = 0.9114       average accuracy = 0.7631)\n"
          ]
        },
        {
          "output_type": "stream",
          "name": "stderr",
          "text": [
            "Train:  50% 1002/2000 [01:37<01:32, 10.78 step/s, accuracy=0.81, loss=0.90, step=33002]"
          ]
        },
        {
          "output_type": "stream",
          "name": "stdout",
          "text": [
            "average loss = 0.9067       average accuracy = 0.7673)\n"
          ]
        },
        {
          "output_type": "stream",
          "name": "stderr",
          "text": [
            "Train: 100% 2000/2000 [02:54<00:00, 11.45 step/s, accuracy=0.75, loss=0.68, step=34000]\n",
            "Valid: 100% 6944/6944 [00:19<00:00, 354.35 uttr/s, accuracy=0.72, loss=1.21]\n",
            "Train:   0% 1/2000 [00:00<03:31,  9.46 step/s, accuracy=0.69, loss=1.61, step=34001]"
          ]
        },
        {
          "output_type": "stream",
          "name": "stdout",
          "text": [
            "average loss = 0.8621       average accuracy = 0.7742)\n"
          ]
        },
        {
          "output_type": "stream",
          "name": "stderr",
          "text": [
            "Train:  50% 1001/2000 [01:39<01:44,  9.53 step/s, accuracy=0.81, loss=0.73, step=35001]"
          ]
        },
        {
          "output_type": "stream",
          "name": "stdout",
          "text": [
            "average loss = 0.8880       average accuracy = 0.7703)\n"
          ]
        },
        {
          "output_type": "stream",
          "name": "stderr",
          "text": [
            "Train: 100% 2000/2000 [02:55<00:00, 11.39 step/s, accuracy=0.75, loss=1.09, step=36000]\n",
            "Valid: 100% 6944/6944 [00:18<00:00, 369.51 uttr/s, accuracy=0.74, loss=1.11]\n",
            "Train:   0% 1/2000 [00:00<03:53,  8.54 step/s, accuracy=0.72, loss=1.09, step=36001]"
          ]
        },
        {
          "output_type": "stream",
          "name": "stdout",
          "text": [
            "average loss = 0.8317       average accuracy = 0.7839)\n"
          ]
        },
        {
          "output_type": "stream",
          "name": "stderr",
          "text": [
            "Train:  50% 1001/2000 [01:36<01:42,  9.74 step/s, accuracy=0.75, loss=0.74, step=37001]"
          ]
        },
        {
          "output_type": "stream",
          "name": "stdout",
          "text": [
            "average loss = 0.8378       average accuracy = 0.7836)\n"
          ]
        },
        {
          "output_type": "stream",
          "name": "stderr",
          "text": [
            "Train: 100% 2000/2000 [02:51<00:00, 11.68 step/s, accuracy=0.69, loss=1.43, step=38000]\n",
            "Valid: 100% 6944/6944 [00:19<00:00, 364.65 uttr/s, accuracy=0.74, loss=1.12]\n",
            "Train:   0% 1/2000 [00:00<04:16,  7.79 step/s, accuracy=0.56, loss=1.41, step=38001]"
          ]
        },
        {
          "output_type": "stream",
          "name": "stdout",
          "text": [
            "average loss = 0.7889       average accuracy = 0.7923)\n"
          ]
        },
        {
          "output_type": "stream",
          "name": "stderr",
          "text": [
            "Train:  50% 1001/2000 [01:35<01:43,  9.62 step/s, accuracy=0.88, loss=0.58, step=39001]"
          ]
        },
        {
          "output_type": "stream",
          "name": "stdout",
          "text": [
            "average loss = 0.8165       average accuracy = 0.7906)\n"
          ]
        },
        {
          "output_type": "stream",
          "name": "stderr",
          "text": [
            "Train: 100% 2000/2000 [02:51<00:00, 11.64 step/s, accuracy=0.75, loss=0.81, step=4e+4]\n",
            "Valid: 100% 6944/6944 [00:19<00:00, 355.47 uttr/s, accuracy=0.75, loss=1.07]\n",
            "\n",
            "Train:   0% 0/2000 [00:00<?, ? step/s]\n",
            "Train:   0% 1/2000 [00:00<07:19,  4.55 step/s, accuracy=0.88, loss=0.56, step=4e+4]"
          ]
        },
        {
          "output_type": "stream",
          "name": "stdout",
          "text": [
            "Step 40000, best model saved. (accuracy=0.7517)\n",
            "average loss = 0.7656       average accuracy = 0.7998)\n"
          ]
        },
        {
          "output_type": "stream",
          "name": "stderr",
          "text": [
            "Train:  50% 1001/2000 [01:36<01:11, 13.97 step/s, accuracy=0.78, loss=0.73, step=41001]"
          ]
        },
        {
          "output_type": "stream",
          "name": "stdout",
          "text": [
            "average loss = 0.7734       average accuracy = 0.7976)\n"
          ]
        },
        {
          "output_type": "stream",
          "name": "stderr",
          "text": [
            "Train: 100% 2000/2000 [02:51<00:00, 11.63 step/s, accuracy=0.88, loss=0.56, step=42000]\n",
            "Valid: 100% 6944/6944 [00:19<00:00, 355.70 uttr/s, accuracy=0.76, loss=1.04]\n",
            "Train:   0% 1/2000 [00:00<03:57,  8.41 step/s, accuracy=0.88, loss=0.77, step=42001]"
          ]
        },
        {
          "output_type": "stream",
          "name": "stdout",
          "text": [
            "average loss = 0.7291       average accuracy = 0.8084)\n"
          ]
        },
        {
          "output_type": "stream",
          "name": "stderr",
          "text": [
            "Train:  50% 1002/2000 [01:35<01:21, 12.32 step/s, accuracy=0.78, loss=0.72, step=43002]"
          ]
        },
        {
          "output_type": "stream",
          "name": "stdout",
          "text": [
            "average loss = 0.7560       average accuracy = 0.8014)\n"
          ]
        },
        {
          "output_type": "stream",
          "name": "stderr",
          "text": [
            "Train: 100% 2000/2000 [02:51<00:00, 11.70 step/s, accuracy=0.84, loss=0.72, step=44000]\n",
            "Valid: 100% 6944/6944 [00:19<00:00, 353.98 uttr/s, accuracy=0.75, loss=1.06]\n",
            "Train:   0% 1/2000 [00:00<03:38,  9.14 step/s, accuracy=0.84, loss=0.57, step=44001]"
          ]
        },
        {
          "output_type": "stream",
          "name": "stdout",
          "text": [
            "average loss = 0.7017       average accuracy = 0.8148)\n"
          ]
        },
        {
          "output_type": "stream",
          "name": "stderr",
          "text": [
            "Train:  50% 1002/2000 [01:35<01:20, 12.37 step/s, accuracy=0.84, loss=0.63, step=45002]"
          ]
        },
        {
          "output_type": "stream",
          "name": "stdout",
          "text": [
            "average loss = 0.7302       average accuracy = 0.8077)\n"
          ]
        },
        {
          "output_type": "stream",
          "name": "stderr",
          "text": [
            "Train: 100% 2000/2000 [02:55<00:00, 11.42 step/s, accuracy=0.72, loss=0.91, step=46000]\n",
            "Valid: 100% 6944/6944 [00:19<00:00, 352.93 uttr/s, accuracy=0.76, loss=1.02]\n",
            "Train:   0% 1/2000 [00:00<03:32,  9.41 step/s, accuracy=0.75, loss=0.88, step=46001]"
          ]
        },
        {
          "output_type": "stream",
          "name": "stdout",
          "text": [
            "average loss = 0.6936       average accuracy = 0.8176)\n"
          ]
        },
        {
          "output_type": "stream",
          "name": "stderr",
          "text": [
            "Train:  50% 1002/2000 [01:32<01:19, 12.54 step/s, accuracy=0.88, loss=0.50, step=47002]"
          ]
        },
        {
          "output_type": "stream",
          "name": "stdout",
          "text": [
            "average loss = 0.6873       average accuracy = 0.8178)\n"
          ]
        },
        {
          "output_type": "stream",
          "name": "stderr",
          "text": [
            "Train: 100% 2000/2000 [02:51<00:00, 11.66 step/s, accuracy=0.78, loss=1.17, step=48000]\n",
            "Valid: 100% 6944/6944 [00:19<00:00, 363.02 uttr/s, accuracy=0.77, loss=1.00]\n",
            "Train:   0% 1/2000 [00:00<05:01,  6.63 step/s, accuracy=0.81, loss=0.39, step=48001]"
          ]
        },
        {
          "output_type": "stream",
          "name": "stdout",
          "text": [
            "average loss = 0.6557       average accuracy = 0.8267)\n"
          ]
        },
        {
          "output_type": "stream",
          "name": "stderr",
          "text": [
            "Train:  50% 1002/2000 [01:31<01:27, 11.47 step/s, accuracy=0.69, loss=0.95, step=49002]"
          ]
        },
        {
          "output_type": "stream",
          "name": "stdout",
          "text": [
            "average loss = 0.6651       average accuracy = 0.8232)\n"
          ]
        },
        {
          "output_type": "stream",
          "name": "stderr",
          "text": [
            "Train: 100% 2000/2000 [02:51<00:00, 11.67 step/s, accuracy=0.78, loss=0.71, step=5e+4]\n",
            "Valid: 100% 6944/6944 [00:19<00:00, 364.63 uttr/s, accuracy=0.77, loss=1.03]\n",
            "\n",
            "Train:   0% 0/2000 [00:00<?, ? step/s]\n",
            "Train:   0% 1/2000 [00:00<06:23,  5.21 step/s, accuracy=0.91, loss=0.43, step=5e+4]"
          ]
        },
        {
          "output_type": "stream",
          "name": "stdout",
          "text": [
            "Step 50000, best model saved. (accuracy=0.7693)\n",
            "average loss = 0.6244       average accuracy = 0.8307)\n"
          ]
        },
        {
          "output_type": "stream",
          "name": "stderr",
          "text": [
            "Train:  50% 1001/2000 [01:27<01:11, 14.07 step/s, accuracy=0.94, loss=0.71, step=51001]"
          ]
        },
        {
          "output_type": "stream",
          "name": "stdout",
          "text": [
            "average loss = 0.6419       average accuracy = 0.8280)\n"
          ]
        },
        {
          "output_type": "stream",
          "name": "stderr",
          "text": [
            "Train: 100% 2000/2000 [02:49<00:00, 11.82 step/s, accuracy=0.91, loss=0.30, step=52000]\n",
            "Valid: 100% 6944/6944 [00:19<00:00, 362.24 uttr/s, accuracy=0.78, loss=0.95]\n",
            "Train:   0% 1/2000 [00:00<03:39,  9.10 step/s, accuracy=0.81, loss=0.74, step=52001]"
          ]
        },
        {
          "output_type": "stream",
          "name": "stdout",
          "text": [
            "average loss = 0.6153       average accuracy = 0.8354)\n"
          ]
        },
        {
          "output_type": "stream",
          "name": "stderr",
          "text": [
            "Train:  50% 1001/2000 [01:27<01:11, 13.96 step/s, accuracy=0.84, loss=0.72, step=53001]"
          ]
        },
        {
          "output_type": "stream",
          "name": "stdout",
          "text": [
            "average loss = 0.6166       average accuracy = 0.8348)\n"
          ]
        },
        {
          "output_type": "stream",
          "name": "stderr",
          "text": [
            "Train: 100% 2000/2000 [02:49<00:00, 11.80 step/s, accuracy=0.78, loss=0.81, step=54000]\n",
            "Valid: 100% 6944/6944 [00:19<00:00, 357.68 uttr/s, accuracy=0.78, loss=0.95]\n",
            "Train:   0% 1/2000 [00:00<03:43,  8.92 step/s, accuracy=0.78, loss=0.68, step=54001]"
          ]
        },
        {
          "output_type": "stream",
          "name": "stdout",
          "text": [
            "average loss = 0.5980       average accuracy = 0.8377)\n"
          ]
        },
        {
          "output_type": "stream",
          "name": "stderr",
          "text": [
            "Train:  50% 1002/2000 [01:29<01:32, 10.79 step/s, accuracy=0.84, loss=0.39, step=55002]"
          ]
        },
        {
          "output_type": "stream",
          "name": "stdout",
          "text": [
            "average loss = 0.5887       average accuracy = 0.8418)\n"
          ]
        },
        {
          "output_type": "stream",
          "name": "stderr",
          "text": [
            "Train: 100% 2000/2000 [02:54<00:00, 11.44 step/s, accuracy=0.84, loss=0.65, step=56000]\n",
            "Valid: 100% 6944/6944 [00:19<00:00, 363.98 uttr/s, accuracy=0.78, loss=0.95]\n",
            "Train:   0% 1/2000 [00:00<04:23,  7.58 step/s, accuracy=0.88, loss=0.66, step=56001]"
          ]
        },
        {
          "output_type": "stream",
          "name": "stdout",
          "text": [
            "average loss = 0.5711       average accuracy = 0.8486)\n"
          ]
        },
        {
          "output_type": "stream",
          "name": "stderr",
          "text": [
            "Train:  50% 1002/2000 [01:26<01:07, 14.79 step/s, accuracy=0.91, loss=0.41, step=57002]"
          ]
        },
        {
          "output_type": "stream",
          "name": "stdout",
          "text": [
            "average loss = 0.5647       average accuracy = 0.8473)\n"
          ]
        },
        {
          "output_type": "stream",
          "name": "stderr",
          "text": [
            "Train: 100% 2000/2000 [02:52<00:00, 11.61 step/s, accuracy=0.75, loss=0.61, step=58000]\n",
            "Valid: 100% 6944/6944 [00:19<00:00, 355.45 uttr/s, accuracy=0.80, loss=0.89]\n",
            "Train:   0% 1/2000 [00:00<04:27,  7.47 step/s, accuracy=0.88, loss=0.51, step=58001]"
          ]
        },
        {
          "output_type": "stream",
          "name": "stdout",
          "text": [
            "average loss = 0.5531       average accuracy = 0.8530)\n"
          ]
        },
        {
          "output_type": "stream",
          "name": "stderr",
          "text": [
            "Train:  50% 1002/2000 [01:27<01:26, 11.50 step/s, accuracy=0.78, loss=0.82, step=59002]"
          ]
        },
        {
          "output_type": "stream",
          "name": "stdout",
          "text": [
            "average loss = 0.5350       average accuracy = 0.8555)\n"
          ]
        },
        {
          "output_type": "stream",
          "name": "stderr",
          "text": [
            "Train: 100% 2000/2000 [02:54<00:00, 11.49 step/s, accuracy=0.94, loss=0.47, step=6e+4]\n",
            "Valid: 100% 6944/6944 [00:19<00:00, 360.07 uttr/s, accuracy=0.80, loss=0.89]\n",
            "\n",
            "Train:   0% 0/2000 [00:00<?, ? step/s]\n",
            "Train:   0% 1/2000 [00:00<06:43,  4.95 step/s, accuracy=0.88, loss=0.56, step=6e+4]"
          ]
        },
        {
          "output_type": "stream",
          "name": "stdout",
          "text": [
            "Step 60000, best model saved. (accuracy=0.7971)\n",
            "average loss = 0.5133       average accuracy = 0.8621)\n"
          ]
        },
        {
          "output_type": "stream",
          "name": "stderr",
          "text": [
            "Train:  50% 1001/2000 [01:25<01:23, 11.92 step/s, accuracy=0.81, loss=0.85, step=61001]"
          ]
        },
        {
          "output_type": "stream",
          "name": "stdout",
          "text": [
            "average loss = 0.5197       average accuracy = 0.8578)\n"
          ]
        },
        {
          "output_type": "stream",
          "name": "stderr",
          "text": [
            "Train: 100% 2000/2000 [02:54<00:00, 11.45 step/s, accuracy=0.78, loss=0.64, step=62000]\n",
            "Valid: 100% 6944/6944 [00:19<00:00, 354.86 uttr/s, accuracy=0.79, loss=0.89]\n",
            "Train:   0% 1/2000 [00:00<05:08,  6.48 step/s, accuracy=0.91, loss=0.45, step=62001]"
          ]
        },
        {
          "output_type": "stream",
          "name": "stdout",
          "text": [
            "average loss = 0.5058       average accuracy = 0.8638)\n"
          ]
        },
        {
          "output_type": "stream",
          "name": "stderr",
          "text": [
            "Train:  50% 1002/2000 [01:24<01:13, 13.51 step/s, accuracy=1.00, loss=0.07, step=63002]"
          ]
        },
        {
          "output_type": "stream",
          "name": "stdout",
          "text": [
            "average loss = 0.4862       average accuracy = 0.8695)\n"
          ]
        },
        {
          "output_type": "stream",
          "name": "stderr",
          "text": [
            "Train: 100% 2000/2000 [02:54<00:00, 11.49 step/s, accuracy=0.88, loss=0.34, step=64000]\n",
            "Valid: 100% 6944/6944 [00:19<00:00, 363.92 uttr/s, accuracy=0.81, loss=0.85]\n",
            "Train:   0% 1/2000 [00:00<03:31,  9.47 step/s, accuracy=0.88, loss=0.68, step=64001]"
          ]
        },
        {
          "output_type": "stream",
          "name": "stdout",
          "text": [
            "average loss = 0.4924       average accuracy = 0.8663)\n"
          ]
        },
        {
          "output_type": "stream",
          "name": "stderr",
          "text": [
            "Train:  50% 1002/2000 [01:25<01:33, 10.62 step/s, accuracy=0.91, loss=0.35, step=65002]"
          ]
        },
        {
          "output_type": "stream",
          "name": "stdout",
          "text": [
            "average loss = 0.4768       average accuracy = 0.8688)\n"
          ]
        },
        {
          "output_type": "stream",
          "name": "stderr",
          "text": [
            "Train: 100% 2000/2000 [02:57<00:00, 11.27 step/s, accuracy=0.94, loss=0.28, step=66000]\n",
            "Valid: 100% 6944/6944 [00:19<00:00, 364.90 uttr/s, accuracy=0.79, loss=0.89]\n",
            "Train:   0% 1/2000 [00:00<04:24,  7.55 step/s, accuracy=0.91, loss=0.56, step=66001]"
          ]
        },
        {
          "output_type": "stream",
          "name": "stdout",
          "text": [
            "average loss = 0.4647       average accuracy = 0.8727)\n"
          ]
        },
        {
          "output_type": "stream",
          "name": "stderr",
          "text": [
            "Train:  50% 1002/2000 [01:28<01:19, 12.56 step/s, accuracy=0.78, loss=0.67, step=67002]"
          ]
        },
        {
          "output_type": "stream",
          "name": "stdout",
          "text": [
            "average loss = 0.4452       average accuracy = 0.8793)\n"
          ]
        },
        {
          "output_type": "stream",
          "name": "stderr",
          "text": [
            "Train: 100% 2000/2000 [03:02<00:00, 10.98 step/s, accuracy=0.81, loss=0.72, step=68000]\n",
            "Valid: 100% 6944/6944 [00:19<00:00, 365.09 uttr/s, accuracy=0.81, loss=0.81]\n",
            "Train:   0% 1/2000 [00:00<04:39,  7.15 step/s, accuracy=0.78, loss=0.99, step=68001]"
          ]
        },
        {
          "output_type": "stream",
          "name": "stdout",
          "text": [
            "average loss = 0.4605       average accuracy = 0.8728)\n"
          ]
        },
        {
          "output_type": "stream",
          "name": "stderr",
          "text": [
            "Train:  50% 1002/2000 [01:27<01:24, 11.85 step/s, accuracy=0.94, loss=0.25, step=69002]"
          ]
        },
        {
          "output_type": "stream",
          "name": "stdout",
          "text": [
            "average loss = 0.4279       average accuracy = 0.8827)\n"
          ]
        },
        {
          "output_type": "stream",
          "name": "stderr",
          "text": [
            "Train: 100% 2000/2000 [03:01<00:00, 11.03 step/s, accuracy=0.97, loss=0.10, step=7e+4]\n",
            "Valid: 100% 6944/6944 [00:18<00:00, 373.10 uttr/s, accuracy=0.81, loss=0.82]\n",
            "\n",
            "Train:   0% 0/2000 [00:00<?, ? step/s]\n",
            "Train:   0% 1/2000 [00:00<06:41,  4.98 step/s, accuracy=0.97, loss=0.23, step=7e+4]"
          ]
        },
        {
          "output_type": "stream",
          "name": "stdout",
          "text": [
            "Step 70000, best model saved. (accuracy=0.8147)\n",
            "average loss = 0.4237       average accuracy = 0.8841)\n"
          ]
        },
        {
          "output_type": "stream",
          "name": "stderr",
          "text": [
            "Train:  50% 1002/2000 [01:24<01:27, 11.47 step/s, accuracy=0.88, loss=0.39, step=71002]"
          ]
        },
        {
          "output_type": "stream",
          "name": "stdout",
          "text": [
            "average loss = 0.4105       average accuracy = 0.8879)\n"
          ]
        },
        {
          "output_type": "stream",
          "name": "stderr",
          "text": [
            "Train: 100% 2000/2000 [02:58<00:00, 11.22 step/s, accuracy=0.94, loss=0.26, step=72000]\n",
            "Valid: 100% 6944/6944 [00:18<00:00, 368.87 uttr/s, accuracy=0.82, loss=0.81]\n",
            "Train:   0% 1/2000 [00:00<03:57,  8.41 step/s, accuracy=0.88, loss=0.32, step=72001]"
          ]
        },
        {
          "output_type": "stream",
          "name": "stdout",
          "text": [
            "average loss = 0.4160       average accuracy = 0.8847)\n"
          ]
        },
        {
          "output_type": "stream",
          "name": "stderr",
          "text": [
            "Train:  50% 1002/2000 [01:23<01:20, 12.34 step/s, accuracy=0.88, loss=0.34, step=73002]"
          ]
        },
        {
          "output_type": "stream",
          "name": "stdout",
          "text": [
            "average loss = 0.3944       average accuracy = 0.8927)\n"
          ]
        },
        {
          "output_type": "stream",
          "name": "stderr",
          "text": [
            "Train: 100% 2000/2000 [02:58<00:00, 11.24 step/s, accuracy=0.81, loss=0.59, step=74000]\n",
            "Valid: 100% 6944/6944 [00:18<00:00, 378.05 uttr/s, accuracy=0.81, loss=0.81]\n",
            "Train:   0% 2/2000 [00:00<05:30,  6.05 step/s, accuracy=0.97, loss=0.22, step=74002]"
          ]
        },
        {
          "output_type": "stream",
          "name": "stdout",
          "text": [
            "average loss = 0.3912       average accuracy = 0.8926)\n"
          ]
        },
        {
          "output_type": "stream",
          "name": "stderr",
          "text": [
            "Train:  50% 1001/2000 [01:23<01:25, 11.71 step/s, accuracy=0.94, loss=0.20, step=75001]"
          ]
        },
        {
          "output_type": "stream",
          "name": "stdout",
          "text": [
            "average loss = 0.3765       average accuracy = 0.8960)\n"
          ]
        },
        {
          "output_type": "stream",
          "name": "stderr",
          "text": [
            "Train: 100% 2000/2000 [02:59<00:00, 11.15 step/s, accuracy=0.84, loss=0.31, step=76000]\n",
            "Valid: 100% 6944/6944 [00:18<00:00, 374.75 uttr/s, accuracy=0.82, loss=0.77]\n",
            "Train:   0% 1/2000 [00:00<04:27,  7.48 step/s, accuracy=0.91, loss=0.33, step=76001]"
          ]
        },
        {
          "output_type": "stream",
          "name": "stdout",
          "text": [
            "average loss = 0.3786       average accuracy = 0.8964)\n"
          ]
        },
        {
          "output_type": "stream",
          "name": "stderr",
          "text": [
            "Train:  50% 1002/2000 [01:23<01:56,  8.57 step/s, accuracy=0.97, loss=0.13, step=77001]"
          ]
        },
        {
          "output_type": "stream",
          "name": "stdout",
          "text": [
            "average loss = 0.3648       average accuracy = 0.9013)\n"
          ]
        },
        {
          "output_type": "stream",
          "name": "stderr",
          "text": [
            "Train: 100% 2000/2000 [03:00<00:00, 11.07 step/s, accuracy=0.91, loss=0.31, step=78000]\n",
            "Valid: 100% 6944/6944 [00:18<00:00, 370.51 uttr/s, accuracy=0.82, loss=0.77]\n",
            "Train:   0% 1/2000 [00:00<03:31,  9.43 step/s, accuracy=0.88, loss=0.33, step=78001]"
          ]
        },
        {
          "output_type": "stream",
          "name": "stdout",
          "text": [
            "average loss = 0.3652       average accuracy = 0.8995)\n"
          ]
        },
        {
          "output_type": "stream",
          "name": "stderr",
          "text": [
            "Train:  50% 1001/2000 [01:23<01:29, 11.13 step/s, accuracy=0.84, loss=0.45, step=79001]"
          ]
        },
        {
          "output_type": "stream",
          "name": "stdout",
          "text": [
            "average loss = 0.3392       average accuracy = 0.9037)\n"
          ]
        },
        {
          "output_type": "stream",
          "name": "stderr",
          "text": [
            "Train: 100% 2000/2000 [02:59<00:00, 11.15 step/s, accuracy=0.88, loss=0.37, step=8e+4]\n",
            "Valid: 100% 6944/6944 [00:18<00:00, 376.56 uttr/s, accuracy=0.83, loss=0.77]\n",
            "\n",
            "Train:   0% 0/2000 [00:00<?, ? step/s]\n",
            "Train:   0% 1/2000 [00:00<06:58,  4.78 step/s, accuracy=1.00, loss=0.09, step=8e+4]"
          ]
        },
        {
          "output_type": "stream",
          "name": "stdout",
          "text": [
            "Step 80000, best model saved. (accuracy=0.8293)\n",
            "average loss = 0.3447       average accuracy = 0.9069)\n"
          ]
        },
        {
          "output_type": "stream",
          "name": "stderr",
          "text": [
            "Train:  50% 1001/2000 [01:24<01:33, 10.65 step/s, accuracy=0.91, loss=0.58, step=81001]"
          ]
        },
        {
          "output_type": "stream",
          "name": "stdout",
          "text": [
            "average loss = 0.3278       average accuracy = 0.9103)\n"
          ]
        },
        {
          "output_type": "stream",
          "name": "stderr",
          "text": [
            "Train: 100% 2000/2000 [03:03<00:00, 10.88 step/s, accuracy=0.81, loss=0.40, step=82000]\n",
            "Valid: 100% 6944/6944 [00:18<00:00, 371.41 uttr/s, accuracy=0.83, loss=0.78]\n",
            "Train:   0% 1/2000 [00:00<03:26,  9.69 step/s, accuracy=0.94, loss=0.18, step=82001]"
          ]
        },
        {
          "output_type": "stream",
          "name": "stdout",
          "text": [
            "average loss = 0.3315       average accuracy = 0.9090)\n"
          ]
        },
        {
          "output_type": "stream",
          "name": "stderr",
          "text": [
            "Train:  50% 1001/2000 [01:25<01:47,  9.32 step/s, accuracy=0.91, loss=0.29, step=83001]"
          ]
        },
        {
          "output_type": "stream",
          "name": "stdout",
          "text": [
            "average loss = 0.3172       average accuracy = 0.9108)\n"
          ]
        },
        {
          "output_type": "stream",
          "name": "stderr",
          "text": [
            "Train: 100% 2000/2000 [03:00<00:00, 11.11 step/s, accuracy=0.91, loss=0.26, step=84000]\n",
            "Valid: 100% 6944/6944 [00:18<00:00, 369.66 uttr/s, accuracy=0.83, loss=0.73]\n",
            "Train:   0% 1/2000 [00:00<03:32,  9.40 step/s, accuracy=0.84, loss=0.44, step=84001]"
          ]
        },
        {
          "output_type": "stream",
          "name": "stdout",
          "text": [
            "average loss = 0.3169       average accuracy = 0.9140)\n"
          ]
        },
        {
          "output_type": "stream",
          "name": "stderr",
          "text": [
            "Train:  50% 1001/2000 [01:24<01:38, 10.12 step/s, accuracy=0.97, loss=0.17, step=85001]"
          ]
        },
        {
          "output_type": "stream",
          "name": "stdout",
          "text": [
            "average loss = 0.3033       average accuracy = 0.9164)\n"
          ]
        },
        {
          "output_type": "stream",
          "name": "stderr",
          "text": [
            "Train: 100% 2000/2000 [02:59<00:00, 11.17 step/s, accuracy=1.00, loss=0.07, step=86000]\n",
            "Valid: 100% 6944/6944 [00:18<00:00, 371.62 uttr/s, accuracy=0.83, loss=0.75]\n",
            "Train:   0% 2/2000 [00:00<03:50,  8.67 step/s, accuracy=0.97, loss=0.16, step=86002]"
          ]
        },
        {
          "output_type": "stream",
          "name": "stdout",
          "text": [
            "average loss = 0.2943       average accuracy = 0.9212)\n"
          ]
        },
        {
          "output_type": "stream",
          "name": "stderr",
          "text": [
            "Train:  50% 1002/2000 [01:27<02:01,  8.21 step/s, accuracy=0.91, loss=0.30, step=87002]"
          ]
        },
        {
          "output_type": "stream",
          "name": "stdout",
          "text": [
            "average loss = 0.2842       average accuracy = 0.9231)\n"
          ]
        },
        {
          "output_type": "stream",
          "name": "stderr",
          "text": [
            "Train: 100% 2000/2000 [02:59<00:00, 11.14 step/s, accuracy=0.88, loss=0.40, step=88000]\n",
            "Valid: 100% 6944/6944 [00:18<00:00, 375.50 uttr/s, accuracy=0.84, loss=0.72]\n",
            "Train:   0% 1/2000 [00:00<03:48,  8.74 step/s, accuracy=0.88, loss=0.31, step=88001]"
          ]
        },
        {
          "output_type": "stream",
          "name": "stdout",
          "text": [
            "average loss = 0.2911       average accuracy = 0.9198)\n"
          ]
        },
        {
          "output_type": "stream",
          "name": "stderr",
          "text": [
            "Train:  50% 1001/2000 [01:26<01:32, 10.83 step/s, accuracy=0.88, loss=0.62, step=89001]"
          ]
        },
        {
          "output_type": "stream",
          "name": "stdout",
          "text": [
            "average loss = 0.2832       average accuracy = 0.9213)\n"
          ]
        },
        {
          "output_type": "stream",
          "name": "stderr",
          "text": [
            "Train: 100% 2000/2000 [02:57<00:00, 11.27 step/s, accuracy=1.00, loss=0.06, step=9e+4]\n",
            "Valid: 100% 6944/6944 [00:18<00:00, 375.42 uttr/s, accuracy=0.84, loss=0.70]\n",
            "\n",
            "Train:   0% 0/2000 [00:00<?, ? step/s]\n",
            "Train:   0% 1/2000 [00:00<05:51,  5.69 step/s, accuracy=0.94, loss=0.17, step=9e+4]"
          ]
        },
        {
          "output_type": "stream",
          "name": "stdout",
          "text": [
            "Step 90000, best model saved. (accuracy=0.8432)\n",
            "average loss = 0.2692       average accuracy = 0.9257)\n"
          ]
        },
        {
          "output_type": "stream",
          "name": "stderr",
          "text": [
            "Train:  50% 1001/2000 [01:29<01:35, 10.44 step/s, accuracy=1.00, loss=0.09, step=91001]"
          ]
        },
        {
          "output_type": "stream",
          "name": "stdout",
          "text": [
            "average loss = 0.2622       average accuracy = 0.9288)\n"
          ]
        },
        {
          "output_type": "stream",
          "name": "stderr",
          "text": [
            "Train: 100% 2000/2000 [03:00<00:00, 11.09 step/s, accuracy=1.00, loss=0.05, step=92000]\n",
            "Valid: 100% 6944/6944 [00:19<00:00, 364.70 uttr/s, accuracy=0.85, loss=0.67]\n",
            "Train:   0% 1/2000 [00:00<03:04, 10.81 step/s, accuracy=0.94, loss=0.17, step=92001]"
          ]
        },
        {
          "output_type": "stream",
          "name": "stdout",
          "text": [
            "average loss = 0.2636       average accuracy = 0.9289)\n"
          ]
        },
        {
          "output_type": "stream",
          "name": "stderr",
          "text": [
            "Train:  50% 1001/2000 [01:30<01:43,  9.66 step/s, accuracy=0.91, loss=0.23, step=93001]"
          ]
        },
        {
          "output_type": "stream",
          "name": "stdout",
          "text": [
            "average loss = 0.2610       average accuracy = 0.9284)\n"
          ]
        },
        {
          "output_type": "stream",
          "name": "stderr",
          "text": [
            "Train: 100% 2000/2000 [02:59<00:00, 11.16 step/s, accuracy=0.97, loss=0.17, step=94000]\n",
            "Valid: 100% 6944/6944 [00:19<00:00, 363.80 uttr/s, accuracy=0.85, loss=0.70]\n",
            "Train:   0% 2/2000 [00:00<04:48,  6.92 step/s, accuracy=0.91, loss=0.52, step=94002]"
          ]
        },
        {
          "output_type": "stream",
          "name": "stdout",
          "text": [
            "average loss = 0.2498       average accuracy = 0.9313)\n"
          ]
        },
        {
          "output_type": "stream",
          "name": "stderr",
          "text": [
            "Train:  50% 1001/2000 [01:32<02:05,  7.97 step/s, accuracy=0.94, loss=0.17, step=95001]"
          ]
        },
        {
          "output_type": "stream",
          "name": "stdout",
          "text": [
            "average loss = 0.2441       average accuracy = 0.9318)\n"
          ]
        },
        {
          "output_type": "stream",
          "name": "stderr",
          "text": [
            "Train: 100% 2000/2000 [02:58<00:00, 11.20 step/s, accuracy=0.91, loss=0.17, step=96000]\n",
            "Valid: 100% 6944/6944 [00:18<00:00, 372.71 uttr/s, accuracy=0.85, loss=0.67]\n",
            "Train:   0% 1/2000 [00:00<03:20,  9.96 step/s, accuracy=0.94, loss=0.23, step=96001]"
          ]
        },
        {
          "output_type": "stream",
          "name": "stdout",
          "text": [
            "average loss = 0.2461       average accuracy = 0.9325)\n"
          ]
        },
        {
          "output_type": "stream",
          "name": "stderr",
          "text": [
            "Train:  50% 1001/2000 [01:32<01:32, 10.83 step/s, accuracy=0.94, loss=0.16, step=97001]"
          ]
        },
        {
          "output_type": "stream",
          "name": "stdout",
          "text": [
            "average loss = 0.2393       average accuracy = 0.9345)\n"
          ]
        },
        {
          "output_type": "stream",
          "name": "stderr",
          "text": [
            "Train: 100% 2000/2000 [02:59<00:00, 11.17 step/s, accuracy=0.97, loss=0.10, step=98000]\n",
            "Valid: 100% 6944/6944 [00:18<00:00, 368.44 uttr/s, accuracy=0.85, loss=0.68]\n",
            "Train:   0% 2/2000 [00:00<04:49,  6.89 step/s, accuracy=0.97, loss=0.15, step=98002]"
          ]
        },
        {
          "output_type": "stream",
          "name": "stdout",
          "text": [
            "average loss = 0.2303       average accuracy = 0.9362)\n"
          ]
        },
        {
          "output_type": "stream",
          "name": "stderr",
          "text": [
            "Train:  50% 1002/2000 [01:34<01:37, 10.23 step/s, accuracy=0.94, loss=0.11, step=99002]"
          ]
        },
        {
          "output_type": "stream",
          "name": "stdout",
          "text": [
            "average loss = 0.2227       average accuracy = 0.9395)\n"
          ]
        },
        {
          "output_type": "stream",
          "name": "stderr",
          "text": [
            "Train: 100% 2000/2000 [02:59<00:00, 11.14 step/s, accuracy=0.94, loss=0.20, step=1e+5]\n",
            "Valid: 100% 6944/6944 [00:19<00:00, 363.36 uttr/s, accuracy=0.86, loss=0.68]\n",
            "\n",
            "Train:   0% 0/2000 [00:00<?, ? step/s]\n",
            "Train:   0% 1/2000 [00:00<07:00,  4.75 step/s, accuracy=1.00, loss=0.08, step=1e+5]"
          ]
        },
        {
          "output_type": "stream",
          "name": "stdout",
          "text": [
            "Step 100000, best model saved. (accuracy=0.8554)\n",
            "average loss = 0.2237       average accuracy = 0.9393)\n"
          ]
        },
        {
          "output_type": "stream",
          "name": "stderr",
          "text": [
            "Train:  50% 1001/2000 [01:36<01:55,  8.65 step/s, accuracy=0.94, loss=0.27, step=101001]"
          ]
        },
        {
          "output_type": "stream",
          "name": "stdout",
          "text": [
            "average loss = 0.2125       average accuracy = 0.9416)\n"
          ]
        },
        {
          "output_type": "stream",
          "name": "stderr",
          "text": [
            "Train: 100% 2000/2000 [03:01<00:00, 11.00 step/s, accuracy=0.94, loss=0.40, step=102000]\n",
            "Valid: 100% 6944/6944 [00:19<00:00, 363.19 uttr/s, accuracy=0.85, loss=0.68]\n",
            "Train:   0% 1/2000 [00:00<03:56,  8.46 step/s, accuracy=0.84, loss=0.41, step=102001]"
          ]
        },
        {
          "output_type": "stream",
          "name": "stdout",
          "text": [
            "average loss = 0.2209       average accuracy = 0.9394)\n"
          ]
        },
        {
          "output_type": "stream",
          "name": "stderr",
          "text": [
            "Train:  50% 1001/2000 [01:37<01:51,  8.96 step/s, accuracy=0.91, loss=0.25, step=103001]"
          ]
        },
        {
          "output_type": "stream",
          "name": "stdout",
          "text": [
            "average loss = 0.2169       average accuracy = 0.9413)\n"
          ]
        },
        {
          "output_type": "stream",
          "name": "stderr",
          "text": [
            "Train: 100% 2000/2000 [03:01<00:00, 11.01 step/s, accuracy=0.81, loss=0.62, step=104000]\n",
            "Valid: 100% 6944/6944 [00:19<00:00, 361.60 uttr/s, accuracy=0.85, loss=0.65]\n",
            "Train:   0% 2/2000 [00:00<05:04,  6.56 step/s, accuracy=0.91, loss=0.33, step=104002]"
          ]
        },
        {
          "output_type": "stream",
          "name": "stdout",
          "text": [
            "average loss = 0.2080       average accuracy = 0.9426)\n"
          ]
        },
        {
          "output_type": "stream",
          "name": "stderr",
          "text": [
            "Train:  50% 1002/2000 [01:34<01:35, 10.42 step/s, accuracy=0.97, loss=0.12, step=105002]"
          ]
        },
        {
          "output_type": "stream",
          "name": "stdout",
          "text": [
            "average loss = 0.2077       average accuracy = 0.9434)\n"
          ]
        },
        {
          "output_type": "stream",
          "name": "stderr",
          "text": [
            "Train: 100% 2000/2000 [02:56<00:00, 11.35 step/s, accuracy=0.91, loss=0.19, step=106000]\n",
            "Valid: 100% 6944/6944 [00:19<00:00, 358.00 uttr/s, accuracy=0.85, loss=0.66]\n",
            "Train:   0% 2/2000 [00:00<04:39,  7.15 step/s, accuracy=1.00, loss=0.05, step=106002]"
          ]
        },
        {
          "output_type": "stream",
          "name": "stdout",
          "text": [
            "average loss = 0.2090       average accuracy = 0.9439)\n"
          ]
        },
        {
          "output_type": "stream",
          "name": "stderr",
          "text": [
            "Train:  50% 1001/2000 [01:35<01:43,  9.63 step/s, accuracy=0.88, loss=0.32, step=107001]"
          ]
        },
        {
          "output_type": "stream",
          "name": "stdout",
          "text": [
            "average loss = 0.2065       average accuracy = 0.9437)\n"
          ]
        },
        {
          "output_type": "stream",
          "name": "stderr",
          "text": [
            "Train: 100% 2000/2000 [02:56<00:00, 11.36 step/s, accuracy=0.94, loss=0.18, step=108000]\n",
            "Valid: 100% 6944/6944 [00:19<00:00, 354.12 uttr/s, accuracy=0.86, loss=0.64]\n",
            "Train:   0% 2/2000 [00:00<05:13,  6.38 step/s, accuracy=1.00, loss=0.06, step=108002]"
          ]
        },
        {
          "output_type": "stream",
          "name": "stdout",
          "text": [
            "average loss = 0.1966       average accuracy = 0.9473)\n"
          ]
        },
        {
          "output_type": "stream",
          "name": "stderr",
          "text": [
            "Train:  50% 1001/2000 [01:37<01:40,  9.97 step/s, accuracy=1.00, loss=0.07, step=109001]"
          ]
        },
        {
          "output_type": "stream",
          "name": "stdout",
          "text": [
            "average loss = 0.2013       average accuracy = 0.9458)\n"
          ]
        },
        {
          "output_type": "stream",
          "name": "stderr",
          "text": [
            "Train: 100% 2000/2000 [02:57<00:00, 11.30 step/s, accuracy=0.88, loss=0.35, step=110000]\n",
            "Valid: 100% 6944/6944 [00:19<00:00, 365.04 uttr/s, accuracy=0.85, loss=0.66]\n",
            "\n",
            "Train:   0% 0/2000 [00:00<?, ? step/s]\n",
            "Train:   0% 1/2000 [00:00<06:33,  5.09 step/s, accuracy=0.81, loss=0.62, step=110001]"
          ]
        },
        {
          "output_type": "stream",
          "name": "stdout",
          "text": [
            "Step 110000, best model saved. (accuracy=0.8613)\n",
            "average loss = 0.1968       average accuracy = 0.9473)\n"
          ]
        },
        {
          "output_type": "stream",
          "name": "stderr",
          "text": [
            "Train:  50% 1002/2000 [01:37<01:56,  8.54 step/s, accuracy=1.00, loss=0.05, step=111002]"
          ]
        },
        {
          "output_type": "stream",
          "name": "stdout",
          "text": [
            "average loss = 0.1982       average accuracy = 0.9459)\n"
          ]
        },
        {
          "output_type": "stream",
          "name": "stderr",
          "text": [
            "Train: 100% 2000/2000 [02:58<00:00, 11.24 step/s, accuracy=0.97, loss=0.07, step=112000]\n",
            "Valid: 100% 6944/6944 [00:19<00:00, 365.47 uttr/s, accuracy=0.86, loss=0.63]\n",
            "Train:   0% 2/2000 [00:00<04:53,  6.81 step/s, accuracy=0.97, loss=0.11, step=112002]"
          ]
        },
        {
          "output_type": "stream",
          "name": "stdout",
          "text": [
            "average loss = 0.1928       average accuracy = 0.9487)\n"
          ]
        },
        {
          "output_type": "stream",
          "name": "stderr",
          "text": [
            "Train:  50% 1001/2000 [01:39<01:45,  9.46 step/s, accuracy=0.84, loss=0.50, step=113001]"
          ]
        },
        {
          "output_type": "stream",
          "name": "stdout",
          "text": [
            "average loss = 0.1958       average accuracy = 0.9472)\n"
          ]
        },
        {
          "output_type": "stream",
          "name": "stderr",
          "text": [
            "Train: 100% 2000/2000 [02:57<00:00, 11.25 step/s, accuracy=0.88, loss=0.32, step=114000]\n",
            "Valid: 100% 6944/6944 [00:19<00:00, 360.43 uttr/s, accuracy=0.86, loss=0.64]\n",
            "Train:   0% 1/2000 [00:00<04:53,  6.81 step/s, accuracy=0.94, loss=0.14, step=114001]"
          ]
        },
        {
          "output_type": "stream",
          "name": "stdout",
          "text": [
            "average loss = 0.1924       average accuracy = 0.9487)\n"
          ]
        },
        {
          "output_type": "stream",
          "name": "stderr",
          "text": [
            "Train:  50% 1002/2000 [01:36<01:34, 10.56 step/s, accuracy=0.94, loss=0.28, step=115002]"
          ]
        },
        {
          "output_type": "stream",
          "name": "stdout",
          "text": [
            "average loss = 0.1987       average accuracy = 0.9466)\n"
          ]
        },
        {
          "output_type": "stream",
          "name": "stderr",
          "text": [
            "Train: 100% 2000/2000 [02:57<00:00, 11.30 step/s, accuracy=0.97, loss=0.05, step=116000]\n",
            "Valid: 100% 6944/6944 [00:19<00:00, 360.32 uttr/s, accuracy=0.86, loss=0.65]\n",
            "Train:   0% 2/2000 [00:00<05:37,  5.92 step/s, accuracy=0.94, loss=0.19, step=116001]"
          ]
        },
        {
          "output_type": "stream",
          "name": "stdout",
          "text": [
            "average loss = 0.1976       average accuracy = 0.9483)\n"
          ]
        },
        {
          "output_type": "stream",
          "name": "stderr",
          "text": [
            "Train:  50% 1001/2000 [01:37<01:34, 10.55 step/s, accuracy=0.97, loss=0.11, step=117001]"
          ]
        },
        {
          "output_type": "stream",
          "name": "stdout",
          "text": [
            "average loss = 0.1875       average accuracy = 0.9501)\n"
          ]
        },
        {
          "output_type": "stream",
          "name": "stderr",
          "text": [
            "Train: 100% 2000/2000 [02:54<00:00, 11.44 step/s, accuracy=0.94, loss=0.37, step=118000]\n",
            "Valid: 100% 6944/6944 [00:19<00:00, 359.46 uttr/s, accuracy=0.85, loss=0.67]\n",
            "Train:   0% 1/2000 [00:00<03:37,  9.21 step/s, accuracy=0.88, loss=0.36, step=118001]"
          ]
        },
        {
          "output_type": "stream",
          "name": "stdout",
          "text": [
            "average loss = 0.1887       average accuracy = 0.9493)\n"
          ]
        },
        {
          "output_type": "stream",
          "name": "stderr",
          "text": [
            "Train:  50% 1002/2000 [01:38<01:48,  9.19 step/s, accuracy=0.94, loss=0.09, step=119002]"
          ]
        },
        {
          "output_type": "stream",
          "name": "stdout",
          "text": [
            "average loss = 0.1997       average accuracy = 0.9475)\n"
          ]
        },
        {
          "output_type": "stream",
          "name": "stderr",
          "text": [
            "Train: 100% 2000/2000 [02:55<00:00, 11.36 step/s, accuracy=0.97, loss=0.14, step=120000]\n",
            "Valid: 100% 6944/6944 [00:19<00:00, 362.37 uttr/s, accuracy=0.86, loss=0.64]\n",
            "\n",
            "Train:   0% 0/2000 [00:00<?, ? step/s]\n",
            "Train:   0% 0/2000 [00:00<?, ? step/s]\n"
          ]
        },
        {
          "output_type": "stream",
          "name": "stdout",
          "text": [
            "Step 120000, best model saved. (accuracy=0.8623)\n"
          ]
        }
      ],
      "source": [
        "from tqdm import tqdm\n",
        "\n",
        "import torch\n",
        "import torch.nn as nn\n",
        "from torch.optim import AdamW\n",
        "from torch.utils.data import DataLoader, random_split\n",
        "\n",
        "\n",
        "# def parse_args():\n",
        "#   \"\"\"arguments\"\"\"\n",
        "#   config = {\n",
        "#     \"data_dir\": \"/content/Dataset\",\n",
        "#     \"save_path\": \"model.ckpt\",\n",
        "#     \"batch_size\": 32,\n",
        "#     \"n_workers\": 8,\n",
        "#     \"valid_steps\": 2000,\n",
        "#     \"warmup_steps\": 1000,\n",
        "#     \"save_steps\": 10000,\n",
        "#     \"total_steps\": 70000,\n",
        "#   }\n",
        "\n",
        "#   return config\n",
        "\n",
        "\n",
        "def main(\n",
        "  data_dir,\n",
        "  save_path,\n",
        "  batch_size,\n",
        "  n_workers,\n",
        "  valid_steps,\n",
        "  warmup_steps,\n",
        "  total_steps,\n",
        "  save_steps,\n",
        "):\n",
        "  \"\"\"Main function.\"\"\"\n",
        "  device = torch.device(\"cuda\" if torch.cuda.is_available() else \"cpu\")\n",
        "  print(f\"[Info]: Use {device} now!\")\n",
        "\n",
        "  train_loader, valid_loader, speaker_num = get_dataloader(data_dir, batch_size, n_workers)\n",
        "  train_iterator = iter(train_loader)\n",
        "  print(f\"[Info]: Finish loading data!\",flush = True)\n",
        "\n",
        "  model = Classifier(n_spks=speaker_num).to(device)\n",
        "  criterion = nn.CrossEntropyLoss()\n",
        "  optimizer = AdamW(model.parameters(), lr=1e-3)\n",
        "  scheduler = get_cosine_schedule_with_warmup(optimizer, warmup_steps, total_steps)\n",
        "  print(f\"[Info]: Finish creating model!\",flush = True)\n",
        "\n",
        "  best_accuracy = -1.0\n",
        "  best_state_dict = None\n",
        "  # pbar has total 2000 step\n",
        "  pbar = tqdm(total=valid_steps, ncols=0, desc=\"Train\", unit=\" step\")\n",
        "  # print train loss and accuracy every 1000 step\n",
        "\n",
        "  loss_acc_list = []\n",
        "\n",
        "  for step in range(total_steps):\n",
        "    # Get data\n",
        "    try:\n",
        "      batch = next(train_iterator)\n",
        "    except StopIteration:\n",
        "      train_iterator = iter(train_loader)\n",
        "      batch = next(train_iterator)\n",
        "\n",
        "    loss, accuracy = model_fn(batch, model, criterion, device)\n",
        "    batch_loss = loss.item()\n",
        "    batch_accuracy = accuracy.item()\n",
        "\n",
        "    # Updata model\n",
        "    loss.backward()\n",
        "    optimizer.step()\n",
        "    scheduler.step()\n",
        "    optimizer.zero_grad()\n",
        "    # print train loss acc\n",
        "    loss_acc_list.append((loss, accuracy))\n",
        "    print_loss , print_acc = list(zip(*loss_acc_list))\n",
        "    if step % 1000 == 0:\n",
        "      print(f\"average loss = {sum(print_loss)/len(print_loss):.4f} \\\n",
        "      average accuracy = {sum(print_acc)/len(print_acc):.4f})\")\n",
        "      loss_acc_list = []\n",
        "\n",
        "    # Log\n",
        "    # update each step (as total)\n",
        "    pbar.update()\n",
        "    pbar.set_postfix(\n",
        "      loss=f\"{batch_loss:.2f}\",\n",
        "      accuracy=f\"{batch_accuracy:.2f}\",\n",
        "      step=step + 1,\n",
        "    )\n",
        "\n",
        "    # Do validation\n",
        "    # valid each 2000 step\n",
        "    if (step + 1) % valid_steps == 0:\n",
        "      #close above pbar\n",
        "      pbar.close()\n",
        "\n",
        "      valid_accuracy = valid(valid_loader, model, criterion, device)\n",
        "\n",
        "      # keep the best model\n",
        "      if valid_accuracy > best_accuracy:\n",
        "        best_accuracy = valid_accuracy\n",
        "        best_state_dict = model.state_dict()\n",
        "      # new pbar has total 2000 step\n",
        "      pbar = tqdm(total=valid_steps, ncols=0, desc=\"Train\", unit=\" step\")\n",
        "\n",
        "    # Save the best model so far.\n",
        "    if (step + 1) % save_steps == 0 and best_state_dict is not None:\n",
        "      torch.save(best_state_dict, save_path)\n",
        "      pbar.write(f\"Step {step + 1}, best model saved. (accuracy={best_accuracy:.4f})\")\n",
        "\n",
        "  pbar.close()\n",
        "\n",
        "\n",
        "if __name__ == \"__main__\":\n",
        "  main(**parse_args())"
      ]
    },
    {
      "cell_type": "markdown",
      "metadata": {
        "id": "0ZnUtE246AXm"
      },
      "source": [
        "##### original : val acc = 68%\n",
        "##### d_model 80->128 , multihead 2->1\n",
        "##### train acc = 80% , val acc = 73%\n",
        "\n",
        "##### TransformerEncoder layer : 1 -> 2\n",
        "##### d_model 80->128 , multihead 2 -> 1\n",
        "\n",
        "##### TransformerEncoder layer : 1 -> 4\n",
        "##### d_model 80->128 , multihead 2 -> 1  \n",
        "##### train acc = 92% , val acc = 83%"
      ]
    },
    {
      "cell_type": "code",
      "execution_count": 33,
      "metadata": {
        "id": "ED3v3VUxUHDM"
      },
      "outputs": [],
      "source": [
        "import os\n",
        "import json\n",
        "import torch\n",
        "from pathlib import Path\n",
        "from torch.utils.data import Dataset\n",
        "\n",
        "\n",
        "class InferenceDataset(Dataset):\n",
        "  def __init__(self, data_dir):\n",
        "    # using / to merge path\n",
        "    testdata_path = Path(data_dir) / \"testdata.json\"\n",
        "    metadata = json.load(testdata_path.open())\n",
        "    self.data_dir = data_dir\n",
        "    #\n",
        "    self.data = metadata[\"utterances\"]\n",
        "\n",
        "  def __len__(self):\n",
        "    return len(self.data)\n",
        "\n",
        "  def __getitem__(self, index):\n",
        "    utterance = self.data[index]\n",
        "    feat_path = utterance[\"feature_path\"]\n",
        "    mel = torch.load(os.path.join(self.data_dir, feat_path))\n",
        "    # compare : when we load training set, we use append to concate datas\n",
        "    return feat_path, mel\n",
        "\n",
        "\n",
        "def inference_collate_batch(batch):\n",
        "  \"\"\"Collate a batch of data.\"\"\"\n",
        "  feat_paths, mels = zip(*batch)\n",
        "\n",
        "  return feat_paths, torch.stack(mels)"
      ]
    },
    {
      "cell_type": "code",
      "execution_count": 34,
      "metadata": {
        "colab": {
          "base_uri": "https://localhost:8080/",
          "height": 156,
          "referenced_widgets": [
            "4575fc746a344fbdbbcf30876b34fbd7",
            "2d91b37af4614aa08f3772fd9a7a4847",
            "9446b92da2c4474f885424d1dd0a9e7e",
            "dbb485c97ef5467eb61b989aaa134d10",
            "c3381f00c9444f0c8f712045138ee7a5",
            "8c2d12651b5d49f08e8666e9b14240d5",
            "ccaf3962bbdb47f0861c655a86906220",
            "7251be455ec94dffa3b01f41b8ba14ee",
            "ae1eabedbd3b49d19754c3311d9917e8",
            "9cc28cb353994a7d85078a2d91baa769",
            "3a52a0cc063f4fd38511593cff3cbbdc"
          ]
        },
        "id": "WGfTSJDtUYPB",
        "outputId": "2f8a79cd-c2b6-4de2-9326-08261203d9e9"
      },
      "outputs": [
        {
          "output_type": "stream",
          "name": "stdout",
          "text": [
            "[Info]: Use cuda now!\n",
            "[Info]: Finish loading data!\n",
            "[Info]: Finish creating model!\n"
          ]
        },
        {
          "output_type": "stream",
          "name": "stderr",
          "text": [
            "/usr/local/lib/python3.10/dist-packages/torch/utils/data/dataloader.py:557: UserWarning: This DataLoader will create 8 worker processes in total. Our suggested max number of worker in current system is 2, which is smaller than what this DataLoader is going to create. Please be aware that excessive worker creation might get DataLoader running slow or even freeze, lower the worker number to avoid potential slowness/freeze if necessary.\n",
            "  warnings.warn(_create_warning_msg(\n"
          ]
        },
        {
          "output_type": "display_data",
          "data": {
            "text/plain": [
              "  0%|          | 0/6000 [00:00<?, ?it/s]"
            ],
            "application/vnd.jupyter.widget-view+json": {
              "version_major": 2,
              "version_minor": 0,
              "model_id": "4575fc746a344fbdbbcf30876b34fbd7"
            }
          },
          "metadata": {}
        }
      ],
      "source": [
        "import json\n",
        "import csv\n",
        "from pathlib import Path\n",
        "from tqdm.notebook import tqdm\n",
        "\n",
        "import torch\n",
        "from torch.utils.data import DataLoader\n",
        "\n",
        "def parse_args():\n",
        "  \"\"\"arguments\"\"\"\n",
        "  config = {\n",
        "    \"data_dir\": \"./Dataset\",\n",
        "    \"model_path\": \"./model.ckpt\",\n",
        "    \"output_path\": \"./output.csv\",\n",
        "  }\n",
        "\n",
        "  return config\n",
        "\n",
        "\n",
        "def main(\n",
        "  data_dir,\n",
        "  model_path,\n",
        "  output_path,\n",
        "):\n",
        "  \"\"\"Main function.\"\"\"\n",
        "  device = torch.device(\"cuda\" if torch.cuda.is_available() else \"cpu\")\n",
        "  print(f\"[Info]: Use {device} now!\")\n",
        "\n",
        "  mapping_path = Path(data_dir) / \"mapping.json\"\n",
        "  mapping = json.load(mapping_path.open())\n",
        "\n",
        "  dataset = InferenceDataset(data_dir)\n",
        "  dataloader = DataLoader(\n",
        "    dataset,\n",
        "    batch_size=1,\n",
        "    shuffle=False,\n",
        "    drop_last=False,\n",
        "    num_workers=8,\n",
        "    collate_fn=inference_collate_batch,\n",
        "  )\n",
        "  print(f\"[Info]: Finish loading data!\",flush = True)\n",
        "\n",
        "  speaker_num = len(mapping[\"id2speaker\"])\n",
        "  model = Classifier(n_spks=speaker_num).to(device)\n",
        "  model.load_state_dict(torch.load(model_path))\n",
        "  model.eval()\n",
        "  print(f\"[Info]: Finish creating model!\",flush = True)\n",
        "\n",
        "  results = [[\"Id\", \"Category\"]]\n",
        "  for feat_paths, mels in tqdm(dataloader):\n",
        "    with torch.no_grad():\n",
        "      mels = mels.to(device)\n",
        "      outs = model(mels)\n",
        "      preds = outs.argmax(1).cpu().numpy()\n",
        "      # zip from two list to a sequence of tuples\n",
        "      # preds is a numpy array whose elements are int numbers\n",
        "      for feat_path, pred in zip(feat_paths, preds):\n",
        "        # mapping[\"id2speaker\"] = {\"0\": \"id10001\", ......'599':  'id11251'}])\n",
        "        results.append([feat_path, mapping[\"id2speaker\"][str(pred)]])\n",
        "\n",
        "  with open(output_path, 'w', newline='') as csvfile:\n",
        "    writer = csv.writer(csvfile)\n",
        "    writer.writerows(results)\n",
        "\n",
        "\n",
        "if __name__ == \"__main__\":\n",
        "  main(**parse_args())\n"
      ]
    },
    {
      "cell_type": "code",
      "execution_count": null,
      "metadata": {
        "id": "nuDMfXVo9mD-"
      },
      "outputs": [],
      "source": [
        "# class MyLinearLayer(nn.Module):\n",
        "#     \"\"\" Custom Linear layer but mimics a standard linear layer \"\"\"\n",
        "#     def __init__(self, size_in, size_out):\n",
        "#         super().__init__()\n",
        "#         self.size_in, self.size_out = size_in, size_out\n",
        "#         weights = torch.Tensor(size_out, size_in)\n",
        "#         self.weights = nn.Parameter(weights)  # nn.Parameter is a Tensor that's a module parameter.\n",
        "#         bias = torch.Tensor(size_out)\n",
        "#         self.bias = nn.Parameter(bias)\n",
        "\n",
        "#         # initialize weights and biases\n",
        "#         nn.init.kaiming_uniform_(self.weights, a=math.sqrt(5)) # weight init\n",
        "#         fan_in, _ = nn.init._calculate_fan_in_and_fan_out(self.weights)\n",
        "#         bound = 1 / math.sqrt(fan_in)\n",
        "#         nn.init.uniform_(self.bias, -bound, bound)  # bias init\n",
        "\n",
        "#     def forward(self, x):\n",
        "#         w_times_x= torch.mm(x, self.weights.t())\n",
        "#         return torch.add(w_times_x, self.bias)  # w times x + b\n",
        "# class MyLinear(nn.Module):\n",
        "#     def __init__(self, in_units, units):\n",
        "#         super().__init__()\n",
        "#         self.weight = nn.Parameter(torch.randn(in_units, units))\n",
        "#         self.bias = nn.Parameter(torch.randn(units,))\n",
        "\n",
        "#     def forward(self, X):\n",
        "#         linear = torch.matmul(X, self.weight.data) + self.bias.data\n",
        "#         return F.relu(linear)\n",
        "# class NoisyLinear(T.nn.Module):\n",
        "#   def __init__(self, n_in, n_out):\n",
        "#     super().__init__()\n",
        "#     self.n_in, self.n_out = n_in, n_out\n",
        "\n",
        "#     self.weights = T.nn.Parameter(T.zeros((n_out, n_in),\n",
        "#       dtype=T.float32))\n",
        "#     self.bias = T.nn.Parameter(T.tensor(n_out,\n",
        "#       dtype=T.float32))\n",
        "#     self.lo = 0.90; self.hi = 0.98  # noise\n",
        "\n",
        "#     lim = 0.01  # initialize weights and bias\n",
        "#     T.nn.init.uniform_(self.weights, -lim, +lim)\n",
        "#     T.nn.init.uniform_(self.bias, -lim, +lim)\n",
        "\n",
        "#   def forward(self, x):\n",
        "#     wx= T.mm(x, self.weights.t())\n",
        "#     rnd = (self.hi - self.lo) * T.rand(1) + self.lo\n",
        "#     return rnd * T.add(wx, self.bias)  # wts * x + bias\n",
        "# class PrintLayer(nn.Module):\n",
        "#     def __init__(self):\n",
        "#         super(PrintLayer, self).__init__()\n",
        "\n",
        "#     def forward(self, x):\n",
        "#         # Do your print / debug stuff here\n",
        "#         print(x)\n",
        "#         return x"
      ]
    }
  ],
  "metadata": {
    "colab": {
      "provenance": [],
      "gpuType": "T4",
      "include_colab_link": true
    },
    "kernelspec": {
      "display_name": "Python 3",
      "name": "python3"
    },
    "language_info": {
      "codemirror_mode": {
        "name": "ipython",
        "version": 3
      },
      "file_extension": ".py",
      "mimetype": "text/x-python",
      "name": "python",
      "nbconvert_exporter": "python",
      "pygments_lexer": "ipython3",
      "version": "3.11.5"
    },
    "widgets": {
      "application/vnd.jupyter.widget-state+json": {
        "4575fc746a344fbdbbcf30876b34fbd7": {
          "model_module": "@jupyter-widgets/controls",
          "model_name": "HBoxModel",
          "model_module_version": "1.5.0",
          "state": {
            "_dom_classes": [],
            "_model_module": "@jupyter-widgets/controls",
            "_model_module_version": "1.5.0",
            "_model_name": "HBoxModel",
            "_view_count": null,
            "_view_module": "@jupyter-widgets/controls",
            "_view_module_version": "1.5.0",
            "_view_name": "HBoxView",
            "box_style": "",
            "children": [
              "IPY_MODEL_2d91b37af4614aa08f3772fd9a7a4847",
              "IPY_MODEL_9446b92da2c4474f885424d1dd0a9e7e",
              "IPY_MODEL_dbb485c97ef5467eb61b989aaa134d10"
            ],
            "layout": "IPY_MODEL_c3381f00c9444f0c8f712045138ee7a5"
          }
        },
        "2d91b37af4614aa08f3772fd9a7a4847": {
          "model_module": "@jupyter-widgets/controls",
          "model_name": "HTMLModel",
          "model_module_version": "1.5.0",
          "state": {
            "_dom_classes": [],
            "_model_module": "@jupyter-widgets/controls",
            "_model_module_version": "1.5.0",
            "_model_name": "HTMLModel",
            "_view_count": null,
            "_view_module": "@jupyter-widgets/controls",
            "_view_module_version": "1.5.0",
            "_view_name": "HTMLView",
            "description": "",
            "description_tooltip": null,
            "layout": "IPY_MODEL_8c2d12651b5d49f08e8666e9b14240d5",
            "placeholder": "​",
            "style": "IPY_MODEL_ccaf3962bbdb47f0861c655a86906220",
            "value": "100%"
          }
        },
        "9446b92da2c4474f885424d1dd0a9e7e": {
          "model_module": "@jupyter-widgets/controls",
          "model_name": "FloatProgressModel",
          "model_module_version": "1.5.0",
          "state": {
            "_dom_classes": [],
            "_model_module": "@jupyter-widgets/controls",
            "_model_module_version": "1.5.0",
            "_model_name": "FloatProgressModel",
            "_view_count": null,
            "_view_module": "@jupyter-widgets/controls",
            "_view_module_version": "1.5.0",
            "_view_name": "ProgressView",
            "bar_style": "success",
            "description": "",
            "description_tooltip": null,
            "layout": "IPY_MODEL_7251be455ec94dffa3b01f41b8ba14ee",
            "max": 6000,
            "min": 0,
            "orientation": "horizontal",
            "style": "IPY_MODEL_ae1eabedbd3b49d19754c3311d9917e8",
            "value": 6000
          }
        },
        "dbb485c97ef5467eb61b989aaa134d10": {
          "model_module": "@jupyter-widgets/controls",
          "model_name": "HTMLModel",
          "model_module_version": "1.5.0",
          "state": {
            "_dom_classes": [],
            "_model_module": "@jupyter-widgets/controls",
            "_model_module_version": "1.5.0",
            "_model_name": "HTMLModel",
            "_view_count": null,
            "_view_module": "@jupyter-widgets/controls",
            "_view_module_version": "1.5.0",
            "_view_name": "HTMLView",
            "description": "",
            "description_tooltip": null,
            "layout": "IPY_MODEL_9cc28cb353994a7d85078a2d91baa769",
            "placeholder": "​",
            "style": "IPY_MODEL_3a52a0cc063f4fd38511593cff3cbbdc",
            "value": " 6000/6000 [00:44&lt;00:00, 152.47it/s]"
          }
        },
        "c3381f00c9444f0c8f712045138ee7a5": {
          "model_module": "@jupyter-widgets/base",
          "model_name": "LayoutModel",
          "model_module_version": "1.2.0",
          "state": {
            "_model_module": "@jupyter-widgets/base",
            "_model_module_version": "1.2.0",
            "_model_name": "LayoutModel",
            "_view_count": null,
            "_view_module": "@jupyter-widgets/base",
            "_view_module_version": "1.2.0",
            "_view_name": "LayoutView",
            "align_content": null,
            "align_items": null,
            "align_self": null,
            "border": null,
            "bottom": null,
            "display": null,
            "flex": null,
            "flex_flow": null,
            "grid_area": null,
            "grid_auto_columns": null,
            "grid_auto_flow": null,
            "grid_auto_rows": null,
            "grid_column": null,
            "grid_gap": null,
            "grid_row": null,
            "grid_template_areas": null,
            "grid_template_columns": null,
            "grid_template_rows": null,
            "height": null,
            "justify_content": null,
            "justify_items": null,
            "left": null,
            "margin": null,
            "max_height": null,
            "max_width": null,
            "min_height": null,
            "min_width": null,
            "object_fit": null,
            "object_position": null,
            "order": null,
            "overflow": null,
            "overflow_x": null,
            "overflow_y": null,
            "padding": null,
            "right": null,
            "top": null,
            "visibility": null,
            "width": null
          }
        },
        "8c2d12651b5d49f08e8666e9b14240d5": {
          "model_module": "@jupyter-widgets/base",
          "model_name": "LayoutModel",
          "model_module_version": "1.2.0",
          "state": {
            "_model_module": "@jupyter-widgets/base",
            "_model_module_version": "1.2.0",
            "_model_name": "LayoutModel",
            "_view_count": null,
            "_view_module": "@jupyter-widgets/base",
            "_view_module_version": "1.2.0",
            "_view_name": "LayoutView",
            "align_content": null,
            "align_items": null,
            "align_self": null,
            "border": null,
            "bottom": null,
            "display": null,
            "flex": null,
            "flex_flow": null,
            "grid_area": null,
            "grid_auto_columns": null,
            "grid_auto_flow": null,
            "grid_auto_rows": null,
            "grid_column": null,
            "grid_gap": null,
            "grid_row": null,
            "grid_template_areas": null,
            "grid_template_columns": null,
            "grid_template_rows": null,
            "height": null,
            "justify_content": null,
            "justify_items": null,
            "left": null,
            "margin": null,
            "max_height": null,
            "max_width": null,
            "min_height": null,
            "min_width": null,
            "object_fit": null,
            "object_position": null,
            "order": null,
            "overflow": null,
            "overflow_x": null,
            "overflow_y": null,
            "padding": null,
            "right": null,
            "top": null,
            "visibility": null,
            "width": null
          }
        },
        "ccaf3962bbdb47f0861c655a86906220": {
          "model_module": "@jupyter-widgets/controls",
          "model_name": "DescriptionStyleModel",
          "model_module_version": "1.5.0",
          "state": {
            "_model_module": "@jupyter-widgets/controls",
            "_model_module_version": "1.5.0",
            "_model_name": "DescriptionStyleModel",
            "_view_count": null,
            "_view_module": "@jupyter-widgets/base",
            "_view_module_version": "1.2.0",
            "_view_name": "StyleView",
            "description_width": ""
          }
        },
        "7251be455ec94dffa3b01f41b8ba14ee": {
          "model_module": "@jupyter-widgets/base",
          "model_name": "LayoutModel",
          "model_module_version": "1.2.0",
          "state": {
            "_model_module": "@jupyter-widgets/base",
            "_model_module_version": "1.2.0",
            "_model_name": "LayoutModel",
            "_view_count": null,
            "_view_module": "@jupyter-widgets/base",
            "_view_module_version": "1.2.0",
            "_view_name": "LayoutView",
            "align_content": null,
            "align_items": null,
            "align_self": null,
            "border": null,
            "bottom": null,
            "display": null,
            "flex": null,
            "flex_flow": null,
            "grid_area": null,
            "grid_auto_columns": null,
            "grid_auto_flow": null,
            "grid_auto_rows": null,
            "grid_column": null,
            "grid_gap": null,
            "grid_row": null,
            "grid_template_areas": null,
            "grid_template_columns": null,
            "grid_template_rows": null,
            "height": null,
            "justify_content": null,
            "justify_items": null,
            "left": null,
            "margin": null,
            "max_height": null,
            "max_width": null,
            "min_height": null,
            "min_width": null,
            "object_fit": null,
            "object_position": null,
            "order": null,
            "overflow": null,
            "overflow_x": null,
            "overflow_y": null,
            "padding": null,
            "right": null,
            "top": null,
            "visibility": null,
            "width": null
          }
        },
        "ae1eabedbd3b49d19754c3311d9917e8": {
          "model_module": "@jupyter-widgets/controls",
          "model_name": "ProgressStyleModel",
          "model_module_version": "1.5.0",
          "state": {
            "_model_module": "@jupyter-widgets/controls",
            "_model_module_version": "1.5.0",
            "_model_name": "ProgressStyleModel",
            "_view_count": null,
            "_view_module": "@jupyter-widgets/base",
            "_view_module_version": "1.2.0",
            "_view_name": "StyleView",
            "bar_color": null,
            "description_width": ""
          }
        },
        "9cc28cb353994a7d85078a2d91baa769": {
          "model_module": "@jupyter-widgets/base",
          "model_name": "LayoutModel",
          "model_module_version": "1.2.0",
          "state": {
            "_model_module": "@jupyter-widgets/base",
            "_model_module_version": "1.2.0",
            "_model_name": "LayoutModel",
            "_view_count": null,
            "_view_module": "@jupyter-widgets/base",
            "_view_module_version": "1.2.0",
            "_view_name": "LayoutView",
            "align_content": null,
            "align_items": null,
            "align_self": null,
            "border": null,
            "bottom": null,
            "display": null,
            "flex": null,
            "flex_flow": null,
            "grid_area": null,
            "grid_auto_columns": null,
            "grid_auto_flow": null,
            "grid_auto_rows": null,
            "grid_column": null,
            "grid_gap": null,
            "grid_row": null,
            "grid_template_areas": null,
            "grid_template_columns": null,
            "grid_template_rows": null,
            "height": null,
            "justify_content": null,
            "justify_items": null,
            "left": null,
            "margin": null,
            "max_height": null,
            "max_width": null,
            "min_height": null,
            "min_width": null,
            "object_fit": null,
            "object_position": null,
            "order": null,
            "overflow": null,
            "overflow_x": null,
            "overflow_y": null,
            "padding": null,
            "right": null,
            "top": null,
            "visibility": null,
            "width": null
          }
        },
        "3a52a0cc063f4fd38511593cff3cbbdc": {
          "model_module": "@jupyter-widgets/controls",
          "model_name": "DescriptionStyleModel",
          "model_module_version": "1.5.0",
          "state": {
            "_model_module": "@jupyter-widgets/controls",
            "_model_module_version": "1.5.0",
            "_model_name": "DescriptionStyleModel",
            "_view_count": null,
            "_view_module": "@jupyter-widgets/base",
            "_view_module_version": "1.2.0",
            "_view_name": "StyleView",
            "description_width": ""
          }
        }
      }
    },
    "accelerator": "GPU"
  },
  "nbformat": 4,
  "nbformat_minor": 0
}