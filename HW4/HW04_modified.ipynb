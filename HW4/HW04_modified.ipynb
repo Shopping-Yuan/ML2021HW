{
  "cells": [
    {
      "cell_type": "markdown",
      "metadata": {
        "id": "view-in-github",
        "colab_type": "text"
      },
      "source": [
        "<a href=\"https://colab.research.google.com/github/Shopping-Yuan/ML2021HW/blob/Shopping_vscode_branch/HW4/HW04_modified.ipynb\" target=\"_parent\"><img src=\"https://colab.research.google.com/assets/colab-badge.svg\" alt=\"Open In Colab\"/></a>"
      ]
    },
    {
      "cell_type": "code",
      "execution_count": 1,
      "metadata": {
        "colab": {
          "base_uri": "https://localhost:8080/"
        },
        "id": "Z1cauo_ypX7F",
        "outputId": "95b49191-a1bd-482f-9fb0-66ba1b37dd41"
      },
      "outputs": [
        {
          "output_type": "stream",
          "name": "stdout",
          "text": [
            "Mounted at /content/drive\n"
          ]
        }
      ],
      "source": [
        "from google.colab import drive\n",
        "drive.mount('/content/drive')"
      ]
    },
    {
      "cell_type": "code",
      "execution_count": 2,
      "metadata": {
        "id": "rEgX4ezzB7SQ"
      },
      "outputs": [],
      "source": [
        "import shutil\n",
        "shutil.copyfile('/content/drive/MyDrive/Dataset.zip','/content/Dataset.zip')\n",
        "\n",
        "import zipfile\n",
        "with zipfile.ZipFile('/content/Dataset.zip','r') as zip_ref:\n",
        "  zip_ref.extractall('/content/')"
      ]
    },
    {
      "cell_type": "code",
      "execution_count": 3,
      "metadata": {
        "id": "mfFqQ-KmrJGy"
      },
      "outputs": [],
      "source": [
        "def parse_args():\n",
        "  \"\"\"arguments\"\"\"\n",
        "  config = {\n",
        "#    \"data_dir\": \"/content/Dataset\",\n",
        "    \"data_dir\": \"./Dataset\",\n",
        "    \"save_path\": \"model.ckpt\",\n",
        "    \"batch_size\": 32,\n",
        "    \"n_workers\": 0,\n",
        "    \"valid_steps\": 2000,\n",
        "    \"warmup_steps\": 1000,\n",
        "    \"save_steps\": 10000,\n",
        "    \"total_steps\": 70000,\n",
        "  }\n",
        "\n",
        "  return config"
      ]
    },
    {
      "cell_type": "markdown",
      "metadata": {
        "id": "zWDKfQCSrx2D"
      },
      "source": [
        "#Dataset"
      ]
    },
    {
      "cell_type": "code",
      "execution_count": 4,
      "metadata": {
        "id": "33lkzQf43DNb"
      },
      "outputs": [],
      "source": [
        "import os\n",
        "import json\n",
        "import torch\n",
        "import random\n",
        "from pathlib import Path\n",
        "from torch.utils.data import Dataset\n",
        "from torch.nn.utils.rnn import pad_sequence\n",
        "\n",
        "\n",
        "class myDataset(Dataset):\n",
        "  def __init__(self, data_dir, segment_len=128):\n",
        "    self.data_dir = data_dir\n",
        "    self.segment_len = segment_len\n",
        "\n",
        "    # Load the mapping from speaker neme to their corresponding id.\n",
        "    # Path package can use / to join path\n",
        "    #part 1-1\n",
        "    mapping_path = Path(data_dir) / \"mapping.json\"\n",
        "    mapping = json.load(mapping_path.open())\n",
        "    self.speaker2id = mapping[\"speaker2id\"]\n",
        "    #self.speaker2id = {'id10001': 0, 'id10005': 1, ...... 'id11247': 598, 'id11251': 599}\n",
        "\n",
        "    #part 1-2\n",
        "    # Load metadata of training data.\n",
        "    metadata_path = Path(data_dir) / \"metadata.json\"\n",
        "    metadata = json.load(open(metadata_path))[\"speakers\"]\n",
        "\n",
        "    # Get the total number of speaker.\n",
        "    self.speaker_num = len(metadata.keys())\n",
        "    self.data = []\n",
        "    for speaker in metadata.keys():\n",
        "    #['id10473', 'id10328', 'id10382',......'id10864']\n",
        "      for utterances in metadata[speaker]:\n",
        "      # for example : metadata[speaker] = 'id10473'\n",
        "      # utterances = {'feature_path': 'uttr-5c88b2f1803449789c36f14fb4d3c1eb.pt', 'mel_len': 652}......\n",
        "        self.data.append([utterances[\"feature_path\"], self.speaker2id[speaker]])\n",
        "        # for example : ['uttr-5c88b2f1803449789c36f14fb4d3c1eb.pt',217]\n",
        "\n",
        "  def __len__(self):\n",
        "    return len(self.data)\n",
        "\n",
        "  def __getitem__(self, index):\n",
        "    feat_path, speaker = self.data[index]\n",
        "    #[utterances[\"feature_path\"], self.speaker2id[speaker]\n",
        "\n",
        "    # Load preprocessed mel-spectrogram.\n",
        "    # https://pytorch.org/docs/stable/generated/torch.load.html\n",
        "    # using torch.load to open pt file . By default , tensors are loaded to GPU if they are GPU tensor.\n",
        "    # part 2\n",
        "    mel = torch.load(os.path.join(self.data_dir, feat_path))\n",
        "\n",
        "    # Segmemt mel-spectrogram into \"segment_len\" frames.\n",
        "    if len(mel) > self.segment_len:\n",
        "      # Randomly get the starting point of the segment.\n",
        "      start = random.randint(0, len(mel) - self.segment_len)\n",
        "      # Get a segment with \"segment_len\" frames.\n",
        "      mel = torch.FloatTensor(mel[start:start+self.segment_len])\n",
        "    else:\n",
        "      mel = torch.FloatTensor(mel)\n",
        "    # Turn the speaker id into long for computing loss later.\n",
        "    speaker = torch.FloatTensor([speaker]).long()\n",
        "    return mel, speaker\n",
        "\n",
        "  def get_speaker_number(self):\n",
        "    return self.speaker_num"
      ]
    },
    {
      "cell_type": "code",
      "execution_count": null,
      "metadata": {
        "id": "qNWZbKmRrZUj"
      },
      "outputs": [],
      "source": [
        "#data_dir = parse_args()[\"data_dir\"]\n",
        "#part 1-1\n",
        "#mapping.json checcking\n",
        "#mapping_path = Path(data_dir) / \"mapping.json\"\n",
        "#mapping = json.load(mapping_path.open())\n",
        "#speaker2id = mapping[\"speaker2id\"]\n",
        "#print(type(mapping)) #<class 'dict'>\n",
        "#print(mapping.keys()) #dict_keys(['speaker2id', 'id2speaker'])\n",
        "#print(mapping.values()) #dict_values([{'id10001': 0, 'id10005': 1, ...... 'id11247': 598, 'id11251': 599},\n",
        "             #{\"0\": \"id10001\", ......'599':  'id11251'}])\n",
        "#print(mapping['speaker2id']['id10473']) #217\n",
        "\n",
        "#part 1-2\n",
        "#metadata.json checcking\n",
        "#metadata_path = Path(data_dir) / \"metadata.json\"\n",
        "#metadata = json.load(open(metadata_path))[\"speakers\"]\n",
        "#print(type(metadata)) #<class 'dict'>\n",
        "#print(len(metadata.keys()),metadata.keys()) #600 dict_keys(['id10473', 'id10328', 'id10382',......'id10864'])\n",
        "#print(len(metadata.values()),len(list(metadata.values())[0]),list(metadata.values())[0])\n",
        "#600 176 [{'feature_path': 'uttr-5c88b2f1803449789c36f14fb4d3c1eb.pt', 'mel_len': 652},......\n",
        "#{'feature_path': 'uttr-caf385f0032140e0add0bbde9a6595cd.pt', 'mel_len': 414}]\n",
        "#print(len(metadata.values()),len(list(metadata.values())[1])) #600 101\n",
        "\n",
        "#part 2\n",
        "#mel = torch.load(os.path.join(data_dir, 'uttr-5c88b2f1803449789c36f14fb4d3c1eb.pt'))\n",
        "#print(type(mel)) #<class 'torch.Tensor'>\n",
        "#print(mel.size()) #torch.Size([652, 40])\n",
        "#print(mel[0])\n",
        "# tensor([\n",
        "# 2.0060,  1.9015,  1.3473,  1.5711,  1.5569,  2.3200,  3.0064,  3.3848,\n",
        "# 0.5376,  0.8397,  1.5710, -0.5662, -2.1262, -1.1271, -1.4272, -3.6233,\n",
        "# -1.0765, -1.8453, -3.2415, -2.3427, -1.5888, -0.4692, -0.4291, -0.4722,\n",
        "# -1.8450, -1.0638, -3.2177, -3.4006, -3.2176, -3.3409, -3.1142, -4.0395,\n",
        "# -3.6502, -4.2407, -4.9656, -5.1238, -5.0620, -5.4308, -6.0757, -6.6186])"
      ]
    },
    {
      "cell_type": "code",
      "execution_count": 5,
      "metadata": {
        "id": "MNfZK8vyq0rD"
      },
      "outputs": [],
      "source": [
        "import torch\n",
        "from torch.utils.data import DataLoader, random_split\n",
        "from torch.nn.utils.rnn import pad_sequence\n",
        "#part 1 check collate_batch\n",
        "def collate_batch(batch):\n",
        "  # Process features within a batch.\n",
        "  \"\"\"Collate a batch of data.\"\"\"\n",
        "  #part 1-1 , 1-2\n",
        "  mel, speaker = zip(*batch)\n",
        "  # Because we train the model batch by batch, we need to pad the features in the same batch to make their lengths the same.\n",
        "  mel = pad_sequence(mel, batch_first=True, padding_value=-20)    # pad log 10^(-20) which is very small value.\n",
        "  # mel: (batch size, length, 40)\n",
        "  #part 1-3\n",
        "  return mel, torch.FloatTensor(speaker).long()\n",
        "\n",
        "\n",
        "def get_dataloader(data_dir, batch_size, n_workers):\n",
        "  \"\"\"Generate dataloader\"\"\"\n",
        "  dataset = myDataset(data_dir)\n",
        "  speaker_num = dataset.get_speaker_number()\n",
        "  # Split dataset into training dataset and validation dataset\n",
        "  trainlen = int(0.9 * len(dataset))\n",
        "  lengths = [trainlen, len(dataset) - trainlen]\n",
        "  trainset, validset = random_split(dataset, lengths)\n",
        "\n",
        "  train_loader = DataLoader(\n",
        "    trainset,\n",
        "    batch_size=batch_size,\n",
        "    shuffle=True,\n",
        "    drop_last=True,\n",
        "    num_workers=n_workers,\n",
        "    pin_memory=True,\n",
        "    collate_fn=collate_batch,\n",
        "  )\n",
        "  valid_loader = DataLoader(\n",
        "    validset,\n",
        "    batch_size=batch_size,\n",
        "    num_workers=n_workers,\n",
        "    drop_last=True,\n",
        "    pin_memory=True,\n",
        "    collate_fn=collate_batch,\n",
        "  )\n",
        "\n",
        "  return train_loader, valid_loader, speaker_num"
      ]
    },
    {
      "cell_type": "code",
      "execution_count": null,
      "metadata": {
        "id": "75rCGxDvkX0I"
      },
      "outputs": [],
      "source": [
        "# x = [[\"a\",1],[\"b\",2],[\"c\",3]]\n",
        "# print(list(zip(*x)))\n",
        "# print(list(zip((\"a\",1),(\"b\",2),(\"c\",3))))"
      ]
    },
    {
      "cell_type": "code",
      "execution_count": null,
      "metadata": {
        "id": "vA6cTPqryJXZ"
      },
      "outputs": [],
      "source": [
        "#import numpy as np\n",
        "#check collate_batch\n",
        "#part 1-1\n",
        "# * collect \"sequence\"function input to a tuple :\n",
        "#def f(*paras):\n",
        "#  print(paras)\n",
        "#f(1,2,3) #(1, 2, 3)\n",
        "# or collect a tuple to a \"sequence\"\n",
        "#print(*(1,2,3)) #1 2 3\n",
        "\n",
        "#part 1-2\n",
        "#test_data = np.random.rand(2,3,4)\n",
        "#test_label = np.random.rand(2,1)\n",
        "#samples = (test_data,test_label)\n",
        "#print(samples)\n",
        "#x , y = zip((1,2),(3,4),(5,6),(7,8))\n",
        "#print(x,y)\n",
        "\n",
        "#part 1-3\n",
        "#print(torch.FloatTensor([[1.],[1.]]))#tensor([[1.],[1.]])\n",
        "#print(torch.FloatTensor([[1.],[1.]]).long())#tensor([[1],[1]]) implies the numbers are integer now\n",
        "#print(torch.IntTensor([[1.],[1.]]))#tensor([[1],[1]], dtype=torch.int32)"
      ]
    },
    {
      "cell_type": "code",
      "execution_count": 6,
      "metadata": {
        "colab": {
          "base_uri": "https://localhost:8080/"
        },
        "id": "3Yk6oGGdQD9G",
        "outputId": "374b1c26-89d0-44ce-8eea-fc8f5718ba25"
      },
      "outputs": [
        {
          "output_type": "stream",
          "name": "stdout",
          "text": [
            "Collecting torchinfo\n",
            "  Downloading torchinfo-1.8.0-py3-none-any.whl (23 kB)\n",
            "Installing collected packages: torchinfo\n",
            "Successfully installed torchinfo-1.8.0\n"
          ]
        }
      ],
      "source": [
        "!pip install torchinfo\n",
        "#%conda install -c conda-forge torchinfo"
      ]
    },
    {
      "cell_type": "code",
      "execution_count": null,
      "metadata": {
        "id": "aBXbvqTlTSyj"
      },
      "outputs": [],
      "source": [
        "# x = [True,True,False,True,False,False,False,True,False,True,True,False]\n",
        "\n",
        "# true_index_list = []\n",
        "\n",
        "# false_index_list = []\n",
        "\n",
        "# for i,b in enumerate(x):\n",
        "#   if b == True:\n",
        "#     true_index_list += [i]\n",
        "#   else :\n",
        "#     false_index_list += [i]\n",
        "# print(true_index_list,false_index_list)\n",
        "\n",
        "# new_list = []\n",
        "# t_max = len(true_index_list)\n",
        "# f_max = len(false_index_list)\n",
        "# true_index = 0\n",
        "# false_index = 0\n",
        "# t_or_f = 0\n",
        "# while (t_max * f_max)>0:\n",
        "#   if t_or_f % 2 ==0:\n",
        "#     new_list += true_index_list[true_index:true_index+3]\n",
        "#     true_index += 3\n",
        "#     t_or_f += 1\n",
        "#     t_max -= 3\n",
        "#   else :\n",
        "#     new_list += false_index_list[false_index:false_index+3]\n",
        "#     false_index += 3\n",
        "#     t_or_f += 1\n",
        "#     f_max -= 3\n",
        "# if t_max > 0:\n",
        "#   new_list += true_index_list[true_index:]\n",
        "# elif f_max > 0:\n",
        "#   new_list += false_index_list[false_index:]\n",
        "\n",
        "# print(new_list)\n"
      ]
    },
    {
      "cell_type": "code",
      "execution_count": 7,
      "metadata": {
        "id": "1l3Zx9A_d9ZT"
      },
      "outputs": [],
      "source": [
        "import torch.nn as nn\n",
        "class PrintLayer(nn.Module):\n",
        "  def __init__(self):\n",
        "    super().__init__()\n",
        "  def forward(self , x):\n",
        "    print(f\"layer output size = {x.size()}\")\n",
        "    return(x)\n",
        "class ConformerLayer(nn.Module):\n",
        "  \"\"\"\n",
        "    #------Conformer Encoder Part----------------------------------\n",
        "    # part 1 feed forward module\n",
        "    # part 2 multi heads self attention\n",
        "    # part 3 convolution module\n",
        "    # part 4 feed forward module\n",
        "    # part 5 layer norm\n",
        "    # multi heads self attention module\n",
        "    #   part 2-1 laryer norm\n",
        "    #   part 2-2 multi heads self attention\n",
        "    #   - dropout\n",
        "    # convolution module\n",
        "    #   part 3-1 layer norm (do this outside the module)\n",
        "    #   part 3-2 pointwise conv\n",
        "    #   part 3-3 Glu activation\n",
        "    #   part 3-4 1D depthwise conv\n",
        "    #   part 3-5 batch norm\n",
        "    #   part 3-6 swish activation\n",
        "    #   part 3-7 pointwise conv\n",
        "    #   part 3-8 dropout\n",
        "    \"\"\"\n",
        "  def __init__(self,d_model,dropout):\n",
        "    super().__init__()\n",
        "    self.feed_forward_layer_1 = nn.Linear(d_model, d_model)\n",
        "    self.layer_norm1 = nn.LayerNorm(d_model)\n",
        "    self.layer_norm2 = nn.LayerNorm(d_model)\n",
        "    self.attention = torch.nn.MultiheadAttention(d_model, num_heads = 2, dropout=dropout)\n",
        "    self.cnn_module = nn.Sequential(\n",
        "      # part 3-2\n",
        "      nn.Conv1d(in_channels = d_model , out_channels = d_model*2 , kernel_size = 1),\n",
        "      # part 3-3\n",
        "      nn.GLU(dim = 1),\n",
        "      # part 3-4\n",
        "      nn.Conv1d(in_channels = d_model , out_channels = d_model , kernel_size = 3 ,groups = d_model),\n",
        "      # part 3-5\n",
        "      nn.BatchNorm1d(d_model),\n",
        "      # part 3-6\n",
        "      nn.SiLU(),\n",
        "      # part 3-7\n",
        "      nn.Conv1d(in_channels = d_model , out_channels = d_model , kernel_size = 1, padding = 1),\n",
        "      # part 3-8\n",
        "      nn.Dropout1d(dropout)\n",
        "    )\n",
        "    self.feed_forward_layer_2 = nn.Linear(d_model, d_model)\n",
        "    self.layer_norm3 = nn.LayerNorm(d_model)\n",
        "  def forward(self ,x ):\n",
        "    # part 1\n",
        "    x = x + 0.5 * self.feed_forward_layer_1(x)\n",
        "    # part 2\n",
        "    x = x.permute(1, 0, 2)\n",
        "    x = self.layer_norm1(x)\n",
        "    x = x + self.attention(x,x,x, need_weights=False)[0]\n",
        "    # part 3\n",
        "    x = self.layer_norm2(x)\n",
        "    x = x.permute(1, 2, 0)\n",
        "    x = self.cnn_module(x)\n",
        "    x = x.permute(0, 2, 1)\n",
        "\n",
        "    # part 4\n",
        "    x = x + 0.5 * self.feed_forward_layer_2(x)\n",
        "    # part 5\n",
        "    x = self.layer_norm3(x)\n",
        "    return x\n",
        "class SelfAttentionPollingLayer(nn.Module):\n",
        "  def __init__(self,layer):\n",
        "    super().__init__()\n",
        "    self.layer = layer\n",
        "  def forward(self ,x ):\n",
        "\n",
        "    return torch.squeeze(torch.bmm(x.permute(0,2,1),x),1)"
      ]
    },
    {
      "cell_type": "code",
      "source": [
        "import torch\n",
        "import torch.nn as nn\n",
        "import torch.nn.functional as F\n",
        "import torchvision\n",
        "from torchinfo import summary\n",
        "\n",
        "class Classifier(nn.Module):\n",
        "  def __init__(self, d_model=128, n_spks=600, dropout=0.2):\n",
        "    super().__init__()\n",
        "    # Project the dimension of features from that of input into d_model.\n",
        "    self.prenet = nn.Linear(40, d_model)\n",
        "    # TODO:\n",
        "\n",
        "    # attension pooling\n",
        "    self.attension_pooling = nn.Sequential(\n",
        "      nn.Linear(d_model, d_model),\n",
        "      nn.ReLU(),\n",
        "      nn.Linear(d_model, 1),\n",
        "      nn.Softmax(dim = 1),\n",
        "    )\n",
        "    self.conformer = ConformerLayer(d_model,dropout)\n",
        "    self.conformers = nn.ModuleList([ConformerLayer(d_model,dropout) for i in range(2)])\n",
        "    self.pred_layer = nn.Sequential(\n",
        "      nn.Linear(d_model, n_spks),\n",
        "    )\n",
        "\n",
        "  def forward(self, mels):\n",
        "    \"\"\"\n",
        "    args:\n",
        "      mels: (batch size, length, 40)\n",
        "    return:\n",
        "      out: (batch size, n_spks)\n",
        "    \"\"\"\n",
        "\n",
        "    out = self.prenet(mels)\n",
        "    for layer in self.conformers:\n",
        "      out = layer(out)\n",
        "\n",
        "\n",
        "    sfatpool = self.attension_pooling(out)\n",
        "    out = torch.squeeze(torch.bmm(sfatpool.permute(0,2,1),out),1)\n",
        "    out = self.pred_layer(out)\n",
        "    return out\n"
      ],
      "metadata": {
        "id": "Kpzi0C5T_9bl"
      },
      "execution_count": 8,
      "outputs": []
    },
    {
      "cell_type": "code",
      "source": [
        "model = Classifier(d_model=80, dropout=0.2)\n",
        "#model = ConformerLayer(d_model=80, dropout=0.2)\n",
        "print(summary(model,(32,128,40)))"
      ],
      "metadata": {
        "id": "vsb0HL3nKBhW",
        "outputId": "af6c3394-5bac-4419-b882-098e80d7f98d",
        "colab": {
          "base_uri": "https://localhost:8080/"
        }
      },
      "execution_count": 10,
      "outputs": [
        {
          "output_type": "stream",
          "name": "stdout",
          "text": [
            "==========================================================================================\n",
            "Layer (type:depth-idx)                   Output Shape              Param #\n",
            "==========================================================================================\n",
            "Classifier                               [32, 600]                 59,280\n",
            "├─Linear: 1-1                            [32, 128, 80]             3,280\n",
            "├─ModuleList: 1-2                        --                        --\n",
            "│    └─ConformerLayer: 2-1               [32, 128, 80]             --\n",
            "│    │    └─Linear: 3-1                  [32, 128, 80]             6,480\n",
            "│    │    └─LayerNorm: 3-2               [128, 32, 80]             160\n",
            "│    │    └─MultiheadAttention: 3-3      [128, 32, 80]             25,920\n",
            "│    │    └─LayerNorm: 3-4               [128, 32, 80]             160\n",
            "│    │    └─Sequential: 3-5              [32, 80, 128]             19,920\n",
            "│    │    └─Linear: 3-6                  [32, 128, 80]             6,480\n",
            "│    │    └─LayerNorm: 3-7               [32, 128, 80]             160\n",
            "│    └─ConformerLayer: 2-2               [32, 128, 80]             --\n",
            "│    │    └─Linear: 3-8                  [32, 128, 80]             6,480\n",
            "│    │    └─LayerNorm: 3-9               [128, 32, 80]             160\n",
            "│    │    └─MultiheadAttention: 3-10     [128, 32, 80]             25,920\n",
            "│    │    └─LayerNorm: 3-11              [128, 32, 80]             160\n",
            "│    │    └─Sequential: 3-12             [32, 80, 128]             19,920\n",
            "│    │    └─Linear: 3-13                 [32, 128, 80]             6,480\n",
            "│    │    └─LayerNorm: 3-14              [32, 128, 80]             160\n",
            "├─Sequential: 1-3                        [32, 128, 1]              --\n",
            "│    └─Linear: 2-3                       [32, 128, 80]             6,480\n",
            "│    └─ReLU: 2-4                         [32, 128, 80]             --\n",
            "│    └─Linear: 2-5                       [32, 128, 1]              81\n",
            "│    └─Softmax: 2-6                      [32, 128, 1]              --\n",
            "├─Sequential: 1-4                        [32, 600]                 --\n",
            "│    └─Linear: 2-7                       [32, 600]                 48,600\n",
            "==========================================================================================\n",
            "Total params: 236,281\n",
            "Trainable params: 236,281\n",
            "Non-trainable params: 0\n",
            "Total mult-adds (M): 164.63\n",
            "==========================================================================================\n",
            "Input size (MB): 0.66\n",
            "Forward/backward pass size (MB): 57.69\n",
            "Params size (MB): 0.50\n",
            "Estimated Total Size (MB): 58.85\n",
            "==========================================================================================\n"
          ]
        }
      ]
    },
    {
      "cell_type": "code",
      "execution_count": null,
      "metadata": {
        "id": "zlXaMSlWMU__"
      },
      "outputs": [],
      "source": [
        "# import torch\n",
        "# import torch.nn as nn\n",
        "# import torch.nn.functional as F\n",
        "# import torchvision\n",
        "# from torchinfo import summary\n",
        "\n",
        "# class Classifier(nn.Module):\n",
        "#   def __init__(self, d_model=128, n_spks=600, dropout=0.1):\n",
        "#     super().__init__()\n",
        "#     # Project the dimension of features from that of input into d_model.\n",
        "#     self.prenet = nn.Linear(40, d_model)\n",
        "#     # TODO:\n",
        "#     #   Change Transformer to Conformer.\n",
        "#     #   https://arxiv.org/abs/2005.08100\n",
        "#     # embed_dim must be divisible by num_heads\n",
        "#     self.encoder_layer = nn.TransformerEncoderLayer(\n",
        "#       d_model=d_model, dim_feedforward=256, nhead=1, norm_first = True\n",
        "#     )\n",
        "#     # batch_first = True\n",
        "#     # norm_first = True\n",
        "#     self.encoder = nn.TransformerEncoder(self.encoder_layer, num_layers= 5  )\n",
        "#     # attension pooling\n",
        "#     self.attension_pooling = nn.Sequential(\n",
        "#       nn.Linear(d_model, d_model),\n",
        "#       nn.ReLU(),\n",
        "#       nn.Linear(d_model, 1),\n",
        "#       nn.Softmax(dim = 1),\n",
        "#     )\n",
        "# #    self.afd = SelfAttentionPollingLayer(self.attension_pooling)\n",
        "# #    self.linear = nn.Linear(d_model, d_model)\n",
        "# #    self.relu = nn.ReLU()\n",
        "# #    self.linear_out = nn.Linear(d_model, n_spks)\n",
        "\n",
        "#     # Project the the dimension of features from d_model into speaker nums.\n",
        "#     self.pred_layer = nn.Sequential(\n",
        "# #      nn.Linear(d_model, d_model),\n",
        "# #      nn.ReLU(),\n",
        "#       nn.Linear(d_model, n_spks),\n",
        "#     )\n",
        "\n",
        "#   def forward(self, mels):\n",
        "#     \"\"\"\n",
        "#     args:\n",
        "#       mels: (batch size, length, 40)\n",
        "#     return:\n",
        "#       out: (batch size, n_spks)\n",
        "#     \"\"\"\n",
        "#     # out: (batch size, length, d_model)\n",
        "#     #print(mels.size())\n",
        "#     out = self.prenet(mels)\n",
        "#     # out: (length, batch size, d_model)\n",
        "#     out = out.permute(1, 0, 2)\n",
        "#     #print(out.size())\n",
        "#     # The encoder layer expect features in the shape of (length, batch size, d_model).\n",
        "#     #out = self.encoder_layer(out)\n",
        "#     out = self.encoder_layer(out)\n",
        "#     # out: (batch size, length, d_model)\n",
        "#     #print(out.size())\n",
        "#     out = out.transpose(0, 1)\n",
        "# #    print(out.size())\n",
        "#     # self-attention pooling\n",
        "#     #out = self.afd(out)\n",
        "# #    print(out.size())\n",
        "#     sfatpool = self.attension_pooling(out)\n",
        "# #    print(sfatpool.size(),out.size())\n",
        "#     out = torch.squeeze(torch.bmm(sfatpool.permute(0,2,1),out),1)\n",
        "# #    out = self.afd(out)\n",
        "# #    print(out.size())\n",
        "\n",
        "#     # mean pooling\n",
        "# #    stats = out.mean(dim=1)\n",
        "\n",
        "#     # out: (batch, n_spks)\n",
        "# #    out = self.pred_layer(stats)\n",
        "# #    out = self.linear(out)\n",
        "# #    out = self.relu(out)\n",
        "# #    out = self.linear_out(out)\n",
        "#     out = self.pred_layer(out)\n",
        "#     return out\n"
      ]
    },
    {
      "cell_type": "code",
      "execution_count": null,
      "metadata": {
        "colab": {
          "base_uri": "https://localhost:8080/"
        },
        "id": "vXLlPNAI9N9F",
        "outputId": "9874723d-47ad-4b20-f37f-6e1c2a3c7214"
      },
      "outputs": [
        {
          "output_type": "stream",
          "name": "stdout",
          "text": [
            "==========================================================================================\n",
            "Layer (type:depth-idx)                   Output Shape              Param #\n",
            "==========================================================================================\n",
            "Classifier                               [32, 600]                 662,400\n",
            "├─Linear: 1-1                            [32, 128, 128]            5,248\n",
            "├─TransformerEncoderLayer: 1-2           [128, 32, 128]            --\n",
            "│    └─LayerNorm: 2-1                    [128, 32, 128]            256\n",
            "│    └─MultiheadAttention: 2-2           [128, 32, 128]            66,048\n",
            "│    └─Dropout: 2-3                      [128, 32, 128]            --\n",
            "│    └─LayerNorm: 2-4                    [128, 32, 128]            256\n",
            "│    └─Linear: 2-5                       [128, 32, 256]            33,024\n",
            "│    └─Dropout: 2-6                      [128, 32, 256]            --\n",
            "│    └─Linear: 2-7                       [128, 32, 128]            32,896\n",
            "│    └─Dropout: 2-8                      [128, 32, 128]            --\n",
            "├─Sequential: 1-3                        [32, 128, 1]              --\n",
            "│    └─Linear: 2-9                       [32, 128, 128]            16,512\n",
            "│    └─ReLU: 2-10                        [32, 128, 128]            --\n",
            "│    └─Linear: 2-11                      [32, 128, 1]              129\n",
            "│    └─Softmax: 2-12                     [32, 128, 1]              --\n",
            "├─Sequential: 1-4                        [32, 600]                 --\n",
            "│    └─Linear: 2-13                      [32, 600]                 77,400\n",
            "==========================================================================================\n",
            "Total params: 894,169\n",
            "Trainable params: 894,169\n",
            "Non-trainable params: 0\n",
            "Total mult-adds (M): 11.68\n",
            "==========================================================================================\n",
            "Input size (MB): 0.66\n",
            "Forward/backward pass size (MB): 29.55\n",
            "Params size (MB): 0.66\n",
            "Estimated Total Size (MB): 30.86\n",
            "==========================================================================================\n"
          ]
        },
        {
          "output_type": "stream",
          "name": "stderr",
          "text": [
            "/usr/local/lib/python3.10/dist-packages/torch/nn/modules/transformer.py:282: UserWarning: enable_nested_tensor is True, but self.use_nested_tensor is False because encoder_layer.norm_first was True\n",
            "  warnings.warn(f\"enable_nested_tensor is True, but self.use_nested_tensor is False because {why_not_sparsity_fast_path}\")\n"
          ]
        }
      ],
      "source": [
        "model = Classifier()\n",
        "print(summary(model,(32,128,40)))\n",
        "#print(model.state_dict().keys())\n",
        "#print(model.state_dict()[\"encoder_layer.self_attn.in_proj_weight\"].size())#torch.Size([240, 80]) (80+80+80)*80\n",
        "#print(model.state_dict()[\"encoder_layer.self_attn.out_proj.weight\"].size())#torch.Size([80, 80])"
      ]
    },
    {
      "cell_type": "markdown",
      "metadata": {
        "id": "5EhBDpSpznKl"
      },
      "source": [
        "original\n",
        "parameter number :\n",
        "1.MultiheadAttention : =\n",
        "d_model+1(bias) * d_query +\n",
        "d_model+1(bias) * d_key  +\n",
        "d_model+1(bias) * d_v   +\n",
        "d_v + 1(bias) * output_dim( = dmodel)\n",
        "= (80+1)80 + (80+1)80 + (80+1)80 + (80+1)80 = 25920\n",
        "2.layer_norm : =input + input = 80*80 = 160\n",
        "\n",
        "first change\n",
        "parameter number :\n",
        "1.MultiheadAttention : =\n",
        "d_model+1(bias) * d_query +\n",
        "d_model+1(bias) * d_key  +\n",
        "d_model+1(bias) * d_v   +\n",
        "d_v + 1(bias) * output_dim( = dmodel)\n",
        "= (128+1)128(3+1)= 16512\n",
        "\n",
        "second change\n",
        "parameter number :\n",
        "1.MultiheadAttention : =\n",
        "d_model+1(bias) * d_query +\n",
        "d_model+1(bias) * d_key  +\n",
        "d_model+1(bias) * d_v   +\n",
        "d_v + 1(bias) * output_dim( = dmodel)\n",
        "= (128+1)128(3+1)= 16512\n",
        "four layers : 66048\n",
        "\n",
        "2.layer_norm : =input + input = 80*80 = 160\n",
        "\n",
        "3rd change\n",
        "parameter number :\n",
        "1.MultiheadAttention : =\n",
        "d_model+1(bias) * d_query +\n",
        "d_model+1(bias) * d_key  +\n",
        "d_model+1(bias) * d_v   +\n",
        "d_v + 1(bias) * output_dim( = dmodel)\n",
        "= (128+1)128(3+1)= 16512\n",
        "four layers : 66048\n",
        "\n",
        "2.self-attension polling : (128+1)128+(128+1)1=16512+129=16641\n",
        "\n",
        "4th change\n",
        "parameter number :\n",
        "1.MultiheadAttention : =\n",
        "d_model+1(bias) * d_query +\n",
        "d_model+1(bias) * d_key  +\n",
        "d_model+1(bias) * d_v   +\n",
        "d_v + 1(bias) * output_dim( = dmodel)\n",
        "= (128+1)128(3+1)= 16512\n",
        "\n",
        "five layers\n",
        "\n",
        "2.self-attension polling : (128+1)128+(128+1)1=16512+129=16641\n",
        "\n",
        "3.delete on Linear + ReLU layers = - (129*128) -0 = -16512\n"
      ]
    },
    {
      "cell_type": "code",
      "execution_count": 9,
      "metadata": {
        "id": "tUSxoANBMchs"
      },
      "outputs": [],
      "source": [
        "import math\n",
        "\n",
        "import torch\n",
        "from torch.optim import Optimizer\n",
        "from torch.optim.lr_scheduler import LambdaLR\n",
        "\n",
        "\n",
        "def get_cosine_schedule_with_warmup(\n",
        "  optimizer: Optimizer,\n",
        "  num_warmup_steps: int,\n",
        "  num_training_steps: int,\n",
        "  num_cycles: float = 0.5,\n",
        "  last_epoch: int = -1,\n",
        "):\n",
        "  \"\"\"\n",
        "  Create a schedule with a learning rate that decreases following the values of the cosine function between the\n",
        "  initial lr set in the optimizer to 0, after a warmup period during which it increases linearly between 0 and the\n",
        "  initial lr set in the optimizer.\n",
        "\n",
        "  Args:\n",
        "    optimizer (:class:`~torch.optim.Optimizer`):\n",
        "      The optimizer for which to schedule the learning rate.\n",
        "    num_warmup_steps (:obj:`int`):\n",
        "      The number of steps for the warmup phase.\n",
        "    num_training_steps (:obj:`int`):\n",
        "      The total number of training steps.\n",
        "    num_cycles (:obj:`float`, `optional`, defaults to 0.5):\n",
        "      The number of waves in the cosine schedule (the defaults is to just decrease from the max value to 0\n",
        "      following a half-cosine).\n",
        "    last_epoch (:obj:`int`, `optional`, defaults to -1):\n",
        "      The index of the last epoch when resuming training.\n",
        "\n",
        "  Return:\n",
        "    :obj:`torch.optim.lr_scheduler.LambdaLR` with the appropriate schedule.\n",
        "  \"\"\"\n",
        "\n",
        "  def lr_lambda(current_step):\n",
        "    # Warmup\n",
        "    if current_step < num_warmup_steps:\n",
        "      return float(current_step) / float(max(1, num_warmup_steps))\n",
        "    # decadence\n",
        "    # cosine angle\n",
        "    progress = float(current_step - num_warmup_steps) / float(\n",
        "      max(1, num_training_steps - num_warmup_steps)\n",
        "    )\n",
        "    return max(\n",
        "      0.0, 0.5 * (1.0 + math.cos(math.pi * float(num_cycles) * 2.0 * progress))\n",
        "    )\n",
        "\n",
        "  return LambdaLR(optimizer, lr_lambda, last_epoch)"
      ]
    },
    {
      "cell_type": "code",
      "execution_count": null,
      "metadata": {
        "id": "9o3hw_GcF1Jb"
      },
      "outputs": [],
      "source": [
        "#from torch.optim import AdamW\n",
        "#optimizer = AdamW(model.parameters(), lr=1e-3)\n",
        "\n",
        "#scheduler = get_cosine_schedule_with_warmup(optimizer, 1000, 70000)\n",
        "\n",
        "#print(type(scheduler.optimizer.param_groups)) #<class 'list'>\n",
        "#print(len(scheduler.optimizer.param_groups))  #1\n",
        "#print(type(scheduler.optimizer.param_groups[0])) #<class 'dict'>\n",
        "#print(scheduler.optimizer.param_groups[0].keys())\n",
        "#['params', 'lr', 'betas', 'eps', 'weight_decay', 'amsgrad', 'foreach',\n",
        "#'maximize', 'capturable', 'differentiable', 'fused', 'initial_lr']\n",
        "#print(scheduler.optimizer.param_groups[0]['params'])\n",
        "#[Parameter containing: tensor([[......],requires_grad=True)]\n",
        "#print(scheduler.optimizer.param_groups[0]['lr'])# 0.0\n",
        "#print(scheduler.optimizer.param_groups[0]['betas'])# (0.9, 0.999)\n",
        "#print(scheduler.optimizer.param_groups[0]['eps']) # 1e-08\n",
        "#print(scheduler.optimizer.param_groups[0]['weight_decay']) #0.01\n",
        "#print(scheduler.optimizer.param_groups[0]['amsgrad']) # False\n",
        "#print(scheduler.optimizer.param_groups[0]['foreach']) # None"
      ]
    },
    {
      "cell_type": "code",
      "execution_count": 10,
      "metadata": {
        "id": "yfDXw13q1ssm"
      },
      "outputs": [],
      "source": [
        "import torch\n",
        "\n",
        "\n",
        "def model_fn(batch, model, criterion, device):\n",
        "  \"\"\"Forward a batch through the model.\"\"\"\n",
        "\n",
        "  mels, labels = batch\n",
        "  mels = mels.to(device)\n",
        "  labels = labels.to(device)\n",
        "\n",
        "  outs = model(mels)\n",
        "\n",
        "  loss = criterion(outs, labels)\n",
        "\n",
        "  # Get the speaker id with highest probability.\n",
        "  preds = outs.argmax(1)\n",
        "  # Compute accuracy.\n",
        "  accuracy = torch.mean((preds == labels).float())\n",
        "\n",
        "  return loss, accuracy"
      ]
    },
    {
      "cell_type": "code",
      "execution_count": 11,
      "metadata": {
        "id": "959wMzs21wbz"
      },
      "outputs": [],
      "source": [
        "from tqdm import tqdm\n",
        "import torch\n",
        "\n",
        "\n",
        "def valid(dataloader, model, criterion, device):\n",
        "  \"\"\"Validate on validation set.\"\"\"\n",
        "\n",
        "  model.eval()\n",
        "  running_loss = 0.0\n",
        "  running_accuracy = 0.0\n",
        "  # Manually update the progress bar : step 1\n",
        "  # total length\n",
        "  pbar = tqdm(total=len(dataloader.dataset), ncols=0, desc=\"Valid\", unit=\" uttr\")\n",
        "  for i, batch in enumerate(dataloader):\n",
        "    with torch.no_grad():\n",
        "      loss, accuracy = model_fn(batch, model, criterion, device)\n",
        "      running_loss += loss.item()\n",
        "      running_accuracy += accuracy.item()\n",
        "    # Manually update the progress bar : step 2\n",
        "    # update each batch\n",
        "    pbar.update(dataloader.batch_size)\n",
        "    pbar.set_postfix(\n",
        "      loss=f\"{running_loss / (i+1):.2f}\",\n",
        "      accuracy=f\"{running_accuracy / (i+1):.2f}\",\n",
        "    )\n",
        "  # Manually update the progress bar : step 3\n",
        "  pbar.close()\n",
        "  model.train()\n",
        "\n",
        "  return running_accuracy / len(dataloader)\n"
      ]
    },
    {
      "cell_type": "code",
      "execution_count": 12,
      "metadata": {
        "colab": {
          "base_uri": "https://localhost:8080/"
        },
        "id": "m7ckdrpl6_YW",
        "outputId": "b4aff5ff-9e60-4892-92dc-7d7d92dfe3c3"
      },
      "outputs": [
        {
          "metadata": {
            "tags": null
          },
          "name": "stdout",
          "output_type": "stream",
          "text": [
            "[Info]: Use cuda now!\n",
            "[Info]: Finish loading data!\n",
            "[Info]: Finish creating model!\n"
          ]
        },
        {
          "metadata": {
            "tags": null
          },
          "name": "stderr",
          "output_type": "stream",
          "text": [
            "Train:   0% 2/2000 [00:11<2:36:09,  4.69s/ step, accuracy=0.72, loss=1.02, step=2]"
          ]
        },
        {
          "metadata": {
            "tags": null
          },
          "name": "stdout",
          "output_type": "stream",
          "text": [
            "average loss = 1.0556       average accuracy = 0.7500)\n"
          ]
        },
        {
          "metadata": {
            "tags": null
          },
          "name": "stderr",
          "output_type": "stream",
          "text": [
            "Train:  50% 1001/2000 [02:11<02:05,  7.99 step/s, accuracy=0.66, loss=1.48, step=1001]"
          ]
        },
        {
          "metadata": {
            "tags": null
          },
          "name": "stdout",
          "output_type": "stream",
          "text": [
            "average loss = 1.3322       average accuracy = 0.6701)\n"
          ]
        },
        {
          "metadata": {
            "tags": null
          },
          "name": "stderr",
          "output_type": "stream",
          "text": [
            "Train: 100% 2000/2000 [04:03<00:00,  8.23 step/s, accuracy=0.62, loss=1.73, step=2000]\n",
            "Valid: 100% 6944/6944 [00:22<00:00, 309.63 uttr/s, accuracy=0.67, loss=1.33]\n",
            "Train:   0% 2/2000 [00:00<04:34,  7.28 step/s, accuracy=0.62, loss=1.30, step=2002]"
          ]
        },
        {
          "metadata": {
            "tags": null
          },
          "name": "stdout",
          "output_type": "stream",
          "text": [
            "average loss = 1.5841       average accuracy = 0.6164)\n"
          ]
        },
        {
          "metadata": {
            "tags": null
          },
          "name": "stderr",
          "output_type": "stream",
          "text": [
            "Train:  50% 1002/2000 [01:33<01:55,  8.63 step/s, accuracy=0.66, loss=1.49, step=3002]"
          ]
        },
        {
          "metadata": {
            "tags": null
          },
          "name": "stdout",
          "output_type": "stream",
          "text": [
            "average loss = 1.5840       average accuracy = 0.6118)\n"
          ]
        },
        {
          "metadata": {
            "tags": null
          },
          "name": "stderr",
          "output_type": "stream",
          "text": [
            "Train: 100% 2000/2000 [03:17<00:00, 10.13 step/s, accuracy=0.66, loss=1.43, step=4000]\n",
            "Valid: 100% 6944/6944 [00:21<00:00, 319.01 uttr/s, accuracy=0.67, loss=1.32]\n",
            "Train:   0% 2/2000 [00:00<03:56,  8.43 step/s, accuracy=0.62, loss=1.77, step=4002]"
          ]
        },
        {
          "metadata": {
            "tags": null
          },
          "name": "stdout",
          "output_type": "stream",
          "text": [
            "average loss = 1.6077       average accuracy = 0.6101)\n"
          ]
        },
        {
          "metadata": {
            "tags": null
          },
          "name": "stderr",
          "output_type": "stream",
          "text": [
            "Train:  50% 1002/2000 [01:35<02:07,  7.84 step/s, accuracy=0.50, loss=2.24, step=5002]"
          ]
        },
        {
          "metadata": {
            "tags": null
          },
          "name": "stdout",
          "output_type": "stream",
          "text": [
            "average loss = 1.5833       average accuracy = 0.6193)\n"
          ]
        },
        {
          "metadata": {
            "tags": null
          },
          "name": "stderr",
          "output_type": "stream",
          "text": [
            "Train: 100% 2000/2000 [03:18<00:00, 10.09 step/s, accuracy=0.72, loss=1.40, step=6000]\n",
            "Valid: 100% 6944/6944 [00:20<00:00, 336.13 uttr/s, accuracy=0.67, loss=1.36]\n",
            "Train:   0% 2/2000 [00:00<04:17,  7.76 step/s, accuracy=0.88, loss=0.86, step=6002]"
          ]
        },
        {
          "metadata": {
            "tags": null
          },
          "name": "stdout",
          "output_type": "stream",
          "text": [
            "average loss = 1.5993       average accuracy = 0.6152)\n"
          ]
        },
        {
          "metadata": {
            "tags": null
          },
          "name": "stderr",
          "output_type": "stream",
          "text": [
            "Train:  50% 1002/2000 [01:35<02:10,  7.67 step/s, accuracy=0.59, loss=1.29, step=7002]"
          ]
        },
        {
          "metadata": {
            "tags": null
          },
          "name": "stdout",
          "output_type": "stream",
          "text": [
            "average loss = 1.5665       average accuracy = 0.6171)\n"
          ]
        },
        {
          "metadata": {
            "tags": null
          },
          "name": "stderr",
          "output_type": "stream",
          "text": [
            "Train: 100% 2000/2000 [03:12<00:00, 10.38 step/s, accuracy=0.75, loss=1.15, step=8000]\n",
            "Valid: 100% 6944/6944 [00:20<00:00, 339.20 uttr/s, accuracy=0.68, loss=1.33]\n",
            "Train:   0% 1/2000 [00:00<04:12,  7.93 step/s, accuracy=0.72, loss=1.14, step=8001]"
          ]
        },
        {
          "metadata": {
            "tags": null
          },
          "name": "stdout",
          "output_type": "stream",
          "text": [
            "average loss = 1.5939       average accuracy = 0.6136)\n"
          ]
        },
        {
          "metadata": {
            "tags": null
          },
          "name": "stderr",
          "output_type": "stream",
          "text": [
            "Train:  50% 1001/2000 [01:38<01:54,  8.72 step/s, accuracy=0.75, loss=1.46, step=9001]"
          ]
        },
        {
          "metadata": {
            "tags": null
          },
          "name": "stdout",
          "output_type": "stream",
          "text": [
            "average loss = 1.5674       average accuracy = 0.6180)\n"
          ]
        },
        {
          "metadata": {
            "tags": null
          },
          "name": "stderr",
          "output_type": "stream",
          "text": [
            "Train: 100% 2000/2000 [03:20<00:00,  9.98 step/s, accuracy=0.56, loss=1.81, step=1e+4]\n",
            "Valid: 100% 6944/6944 [00:21<00:00, 327.12 uttr/s, accuracy=0.68, loss=1.33]\n",
            "Train:   0% 1/2000 [00:00<06:47,  4.91 step/s, accuracy=0.59, loss=1.84, step=1e+4]"
          ]
        },
        {
          "metadata": {
            "tags": null
          },
          "name": "stdout",
          "output_type": "stream",
          "text": [
            "Step 10000, best model saved. (accuracy=0.6773)\n",
            "average loss = 1.5416       average accuracy = 0.6277)\n"
          ]
        },
        {
          "metadata": {
            "tags": null
          },
          "name": "stderr",
          "output_type": "stream",
          "text": [
            "Train:  50% 1002/2000 [01:44<02:16,  7.30 step/s, accuracy=0.47, loss=1.99, step=11002]"
          ]
        },
        {
          "metadata": {
            "tags": null
          },
          "name": "stdout",
          "output_type": "stream",
          "text": [
            "average loss = 1.5390       average accuracy = 0.6268)\n"
          ]
        },
        {
          "metadata": {
            "tags": null
          },
          "name": "stderr",
          "output_type": "stream",
          "text": [
            "Train: 100% 2000/2000 [03:21<00:00,  9.91 step/s, accuracy=0.47, loss=1.98, step=12000]\n",
            "Valid: 100% 6944/6944 [00:21<00:00, 323.92 uttr/s, accuracy=0.66, loss=1.38]\n",
            "Train:   0% 1/2000 [00:00<03:17, 10.13 step/s, accuracy=0.66, loss=1.25, step=12001]"
          ]
        },
        {
          "metadata": {
            "tags": null
          },
          "name": "stdout",
          "output_type": "stream",
          "text": [
            "average loss = 1.5183       average accuracy = 0.6288)\n"
          ]
        },
        {
          "metadata": {
            "tags": null
          },
          "name": "stderr",
          "output_type": "stream",
          "text": [
            "Train:  50% 1002/2000 [01:44<02:18,  7.20 step/s, accuracy=0.69, loss=1.30, step=13002]"
          ]
        },
        {
          "metadata": {
            "tags": null
          },
          "name": "stdout",
          "output_type": "stream",
          "text": [
            "average loss = 1.5203       average accuracy = 0.6300)\n"
          ]
        },
        {
          "metadata": {
            "tags": null
          },
          "name": "stderr",
          "output_type": "stream",
          "text": [
            "Train: 100% 2000/2000 [03:22<00:00,  9.88 step/s, accuracy=0.62, loss=1.58, step=14000]\n",
            "Valid: 100% 6944/6944 [00:21<00:00, 321.97 uttr/s, accuracy=0.68, loss=1.32]\n",
            "Train:   0% 2/2000 [00:00<04:55,  6.76 step/s, accuracy=0.66, loss=1.39, step=14002]"
          ]
        },
        {
          "metadata": {
            "tags": null
          },
          "name": "stdout",
          "output_type": "stream",
          "text": [
            "average loss = 1.5071       average accuracy = 0.6336)\n"
          ]
        },
        {
          "metadata": {
            "tags": null
          },
          "name": "stderr",
          "output_type": "stream",
          "text": [
            "Train:  50% 1001/2000 [01:41<01:54,  8.75 step/s, accuracy=0.59, loss=1.80, step=15001]"
          ]
        },
        {
          "metadata": {
            "tags": null
          },
          "name": "stdout",
          "output_type": "stream",
          "text": [
            "average loss = 1.4930       average accuracy = 0.6350)\n"
          ]
        },
        {
          "metadata": {
            "tags": null
          },
          "name": "stderr",
          "output_type": "stream",
          "text": [
            "Train: 100% 2000/2000 [03:17<00:00, 10.14 step/s, accuracy=0.59, loss=1.92, step=16000]\n",
            "Valid: 100% 6944/6944 [00:21<00:00, 324.90 uttr/s, accuracy=0.67, loss=1.33]\n",
            "Train:   0% 1/2000 [00:00<03:52,  8.61 step/s, accuracy=0.62, loss=1.38, step=16001]"
          ]
        },
        {
          "metadata": {
            "tags": null
          },
          "name": "stdout",
          "output_type": "stream",
          "text": [
            "average loss = 1.4743       average accuracy = 0.6403)\n"
          ]
        },
        {
          "metadata": {
            "tags": null
          },
          "name": "stderr",
          "output_type": "stream",
          "text": [
            "Train:  50% 1001/2000 [01:45<02:00,  8.31 step/s, accuracy=0.66, loss=1.53, step=17001]"
          ]
        },
        {
          "metadata": {
            "tags": null
          },
          "name": "stdout",
          "output_type": "stream",
          "text": [
            "average loss = 1.4578       average accuracy = 0.6436)\n"
          ]
        },
        {
          "metadata": {
            "tags": null
          },
          "name": "stderr",
          "output_type": "stream",
          "text": [
            "Train: 100% 2000/2000 [03:20<00:00,  9.98 step/s, accuracy=0.66, loss=1.35, step=18000]\n",
            "Valid: 100% 6944/6944 [00:21<00:00, 317.38 uttr/s, accuracy=0.69, loss=1.26]\n",
            "Train:   0% 1/2000 [00:00<04:09,  8.02 step/s, accuracy=0.69, loss=1.35, step=18001]"
          ]
        },
        {
          "metadata": {
            "tags": null
          },
          "name": "stdout",
          "output_type": "stream",
          "text": [
            "average loss = 1.4471       average accuracy = 0.6473)\n"
          ]
        },
        {
          "metadata": {
            "tags": null
          },
          "name": "stderr",
          "output_type": "stream",
          "text": [
            "Train:  50% 1001/2000 [01:45<02:07,  7.82 step/s, accuracy=0.72, loss=1.21, step=19001]"
          ]
        },
        {
          "metadata": {
            "tags": null
          },
          "name": "stdout",
          "output_type": "stream",
          "text": [
            "average loss = 1.4422       average accuracy = 0.6482)\n"
          ]
        },
        {
          "output_type": "stream",
          "name": "stderr",
          "text": [
            "Train: 100% 2000/2000 [03:22<00:00,  9.90 step/s, accuracy=0.66, loss=1.35, step=2e+4]\n",
            "Valid: 100% 6944/6944 [00:23<00:00, 298.30 uttr/s, accuracy=0.71, loss=1.23]\n",
            "Train:   0% 1/2000 [00:00<05:16,  6.31 step/s, accuracy=0.75, loss=0.89, step=2e+4]"
          ]
        },
        {
          "output_type": "stream",
          "name": "stdout",
          "text": [
            "Step 20000, best model saved. (accuracy=0.7103)\n",
            "average loss = 1.4176       average accuracy = 0.6513)\n"
          ]
        },
        {
          "output_type": "stream",
          "name": "stderr",
          "text": [
            "Train:  50% 1001/2000 [01:45<01:57,  8.52 step/s, accuracy=0.59, loss=1.86, step=21001]"
          ]
        },
        {
          "output_type": "stream",
          "name": "stdout",
          "text": [
            "average loss = 1.4113       average accuracy = 0.6546)\n"
          ]
        },
        {
          "output_type": "stream",
          "name": "stderr",
          "text": [
            "Train: 100% 2000/2000 [03:15<00:00, 10.25 step/s, accuracy=0.69, loss=1.12, step=22000]\n",
            "Valid: 100% 6944/6944 [00:21<00:00, 324.60 uttr/s, accuracy=0.71, loss=1.21]\n",
            "Train:   0% 1/2000 [00:00<03:59,  8.36 step/s, accuracy=0.53, loss=2.07, step=22001]"
          ]
        },
        {
          "output_type": "stream",
          "name": "stdout",
          "text": [
            "average loss = 1.3981       average accuracy = 0.6559)\n"
          ]
        },
        {
          "output_type": "stream",
          "name": "stderr",
          "text": [
            "Train:  50% 1002/2000 [01:45<02:10,  7.67 step/s, accuracy=0.66, loss=1.44, step=23002]"
          ]
        },
        {
          "output_type": "stream",
          "name": "stdout",
          "text": [
            "average loss = 1.3902       average accuracy = 0.6582)\n"
          ]
        },
        {
          "output_type": "stream",
          "name": "stderr",
          "text": [
            "Train: 100% 2000/2000 [03:11<00:00, 10.43 step/s, accuracy=0.69, loss=1.07, step=24000]\n",
            "Valid: 100% 6944/6944 [00:20<00:00, 335.15 uttr/s, accuracy=0.71, loss=1.19]\n",
            "Train:   0% 2/2000 [00:00<04:22,  7.60 step/s, accuracy=0.62, loss=1.43, step=24002]"
          ]
        },
        {
          "output_type": "stream",
          "name": "stdout",
          "text": [
            "average loss = 1.3507       average accuracy = 0.6680)\n"
          ]
        },
        {
          "output_type": "stream",
          "name": "stderr",
          "text": [
            "Train:  50% 1002/2000 [01:42<02:04,  7.99 step/s, accuracy=0.62, loss=1.67, step=25002]"
          ]
        },
        {
          "output_type": "stream",
          "name": "stdout",
          "text": [
            "average loss = 1.3539       average accuracy = 0.6656)\n"
          ]
        },
        {
          "output_type": "stream",
          "name": "stderr",
          "text": [
            "Train: 100% 2000/2000 [03:09<00:00, 10.57 step/s, accuracy=0.75, loss=1.18, step=26000]\n",
            "Valid: 100% 6944/6944 [00:20<00:00, 335.25 uttr/s, accuracy=0.71, loss=1.19]\n",
            "Train:   0% 2/2000 [00:00<04:23,  7.57 step/s, accuracy=0.62, loss=1.42, step=26002]"
          ]
        },
        {
          "output_type": "stream",
          "name": "stdout",
          "text": [
            "average loss = 1.3468       average accuracy = 0.6682)\n"
          ]
        },
        {
          "output_type": "stream",
          "name": "stderr",
          "text": [
            "Train:  50% 1001/2000 [01:44<01:51,  8.98 step/s, accuracy=0.62, loss=1.71, step=27001]"
          ]
        },
        {
          "output_type": "stream",
          "name": "stdout",
          "text": [
            "average loss = 1.3386       average accuracy = 0.6704)\n"
          ]
        },
        {
          "output_type": "stream",
          "name": "stderr",
          "text": [
            "Train: 100% 2000/2000 [03:11<00:00, 10.47 step/s, accuracy=0.50, loss=1.47, step=28000]\n",
            "Valid: 100% 6944/6944 [00:22<00:00, 308.87 uttr/s, accuracy=0.73, loss=1.14]\n",
            "Train:   0% 1/2000 [00:00<04:07,  8.09 step/s, accuracy=0.72, loss=0.98, step=28001]"
          ]
        },
        {
          "output_type": "stream",
          "name": "stdout",
          "text": [
            "average loss = 1.3181       average accuracy = 0.6736)\n"
          ]
        },
        {
          "output_type": "stream",
          "name": "stderr",
          "text": [
            "Train:  50% 1002/2000 [01:52<02:15,  7.34 step/s, accuracy=0.69, loss=1.21, step=29002]"
          ]
        },
        {
          "output_type": "stream",
          "name": "stdout",
          "text": [
            "average loss = 1.3034       average accuracy = 0.6789)\n"
          ]
        },
        {
          "output_type": "stream",
          "name": "stderr",
          "text": [
            "Train: 100% 2000/2000 [03:21<00:00,  9.92 step/s, accuracy=0.62, loss=1.89, step=3e+4]\n",
            "Valid: 100% 6944/6944 [00:22<00:00, 313.89 uttr/s, accuracy=0.73, loss=1.10]\n",
            "Train:   0% 1/2000 [00:00<06:26,  5.18 step/s, accuracy=0.59, loss=1.30, step=3e+4]"
          ]
        },
        {
          "output_type": "stream",
          "name": "stdout",
          "text": [
            "Step 30000, best model saved. (accuracy=0.7327)\n",
            "average loss = 1.2802       average accuracy = 0.6862)\n"
          ]
        },
        {
          "output_type": "stream",
          "name": "stderr",
          "text": [
            "Train:  50% 1002/2000 [01:50<02:18,  7.19 step/s, accuracy=0.72, loss=1.50, step=31002]"
          ]
        },
        {
          "output_type": "stream",
          "name": "stdout",
          "text": [
            "average loss = 1.2680       average accuracy = 0.6859)\n"
          ]
        },
        {
          "output_type": "stream",
          "name": "stderr",
          "text": [
            "Train: 100% 2000/2000 [03:18<00:00, 10.09 step/s, accuracy=0.66, loss=1.04, step=32000]\n",
            "Valid: 100% 6944/6944 [00:22<00:00, 309.80 uttr/s, accuracy=0.73, loss=1.08]\n",
            "Train:   0% 1/2000 [00:00<04:38,  7.19 step/s, accuracy=0.69, loss=1.16, step=32001]"
          ]
        },
        {
          "output_type": "stream",
          "name": "stdout",
          "text": [
            "average loss = 1.2456       average accuracy = 0.6903)\n"
          ]
        },
        {
          "output_type": "stream",
          "name": "stderr",
          "text": [
            "Train:  50% 1002/2000 [01:50<02:15,  7.37 step/s, accuracy=0.59, loss=1.71, step=33002]"
          ]
        },
        {
          "output_type": "stream",
          "name": "stdout",
          "text": [
            "average loss = 1.2417       average accuracy = 0.6889)\n"
          ]
        },
        {
          "output_type": "stream",
          "name": "stderr",
          "text": [
            "Train: 100% 2000/2000 [03:19<00:00, 10.03 step/s, accuracy=0.81, loss=0.81, step=34000]\n",
            "Valid: 100% 6944/6944 [00:22<00:00, 302.87 uttr/s, accuracy=0.74, loss=1.08]\n",
            "Train:   0% 1/2000 [00:00<04:46,  6.97 step/s, accuracy=0.69, loss=1.38, step=34001]"
          ]
        },
        {
          "output_type": "stream",
          "name": "stdout",
          "text": [
            "average loss = 1.2023       average accuracy = 0.7009)\n"
          ]
        },
        {
          "output_type": "stream",
          "name": "stderr",
          "text": [
            "Train:  50% 1002/2000 [01:54<02:19,  7.14 step/s, accuracy=0.56, loss=1.45, step=35001]"
          ]
        },
        {
          "output_type": "stream",
          "name": "stdout",
          "text": [
            "average loss = 1.2203       average accuracy = 0.6966)\n"
          ]
        },
        {
          "output_type": "stream",
          "name": "stderr",
          "text": [
            "Train: 100% 2000/2000 [03:20<00:00,  9.98 step/s, accuracy=0.72, loss=1.16, step=36000]\n",
            "Valid: 100% 6944/6944 [00:22<00:00, 312.27 uttr/s, accuracy=0.75, loss=1.02]\n",
            "Train:   0% 2/2000 [00:00<05:19,  6.26 step/s, accuracy=0.88, loss=0.46, step=36002]"
          ]
        },
        {
          "output_type": "stream",
          "name": "stdout",
          "text": [
            "average loss = 1.1677       average accuracy = 0.7058)\n"
          ]
        },
        {
          "output_type": "stream",
          "name": "stderr",
          "text": [
            "Train:  50% 1002/2000 [01:50<02:14,  7.41 step/s, accuracy=0.66, loss=1.15, step=37002]"
          ]
        },
        {
          "output_type": "stream",
          "name": "stdout",
          "text": [
            "average loss = 1.1929       average accuracy = 0.7042)\n"
          ]
        },
        {
          "output_type": "stream",
          "name": "stderr",
          "text": [
            "Train: 100% 2000/2000 [03:18<00:00, 10.10 step/s, accuracy=0.75, loss=1.41, step=38000]\n",
            "Valid: 100% 6944/6944 [00:23<00:00, 290.00 uttr/s, accuracy=0.76, loss=1.00]\n",
            "Train:   0% 1/2000 [00:00<04:27,  7.48 step/s, accuracy=0.62, loss=1.38, step=38001]"
          ]
        },
        {
          "output_type": "stream",
          "name": "stdout",
          "text": [
            "average loss = 1.1526       average accuracy = 0.7134)\n"
          ]
        },
        {
          "output_type": "stream",
          "name": "stderr",
          "text": [
            "Train:  50% 1001/2000 [01:49<01:58,  8.41 step/s, accuracy=0.59, loss=1.48, step=39001]"
          ]
        },
        {
          "output_type": "stream",
          "name": "stdout",
          "text": [
            "average loss = 1.1517       average accuracy = 0.7132)\n"
          ]
        },
        {
          "output_type": "stream",
          "name": "stderr",
          "text": [
            "Train: 100% 2000/2000 [03:17<00:00, 10.12 step/s, accuracy=0.72, loss=0.99, step=4e+4]\n",
            "Valid: 100% 6944/6944 [00:23<00:00, 295.66 uttr/s, accuracy=0.76, loss=0.99]\n",
            "Train:   0% 1/2000 [00:00<07:04,  4.71 step/s, accuracy=0.81, loss=0.70, step=4e+4]"
          ]
        },
        {
          "output_type": "stream",
          "name": "stdout",
          "text": [
            "Step 40000, best model saved. (accuracy=0.7578)\n",
            "average loss = 1.1227       average accuracy = 0.7170)\n"
          ]
        },
        {
          "output_type": "stream",
          "name": "stderr",
          "text": [
            "Train:  50% 1002/2000 [01:52<01:31, 10.92 step/s, accuracy=0.69, loss=1.03, step=41002]"
          ]
        },
        {
          "output_type": "stream",
          "name": "stdout",
          "text": [
            "average loss = 1.1317       average accuracy = 0.7160)\n"
          ]
        },
        {
          "output_type": "stream",
          "name": "stderr",
          "text": [
            "Train: 100% 2000/2000 [03:19<00:00, 10.02 step/s, accuracy=0.69, loss=1.37, step=42000]\n",
            "Valid: 100% 6944/6944 [00:22<00:00, 308.48 uttr/s, accuracy=0.76, loss=0.99]\n",
            "Train:   0% 2/2000 [00:00<05:21,  6.21 step/s, accuracy=0.81, loss=0.74, step=42002]"
          ]
        },
        {
          "output_type": "stream",
          "name": "stdout",
          "text": [
            "average loss = 1.0721       average accuracy = 0.7308)\n"
          ]
        },
        {
          "output_type": "stream",
          "name": "stderr",
          "text": [
            "Train:  50% 1002/2000 [01:49<01:13, 13.56 step/s, accuracy=0.72, loss=0.93, step=43002]"
          ]
        },
        {
          "output_type": "stream",
          "name": "stdout",
          "text": [
            "average loss = 1.1081       average accuracy = 0.7212)\n"
          ]
        },
        {
          "output_type": "stream",
          "name": "stderr",
          "text": [
            "Train: 100% 2000/2000 [03:15<00:00, 10.22 step/s, accuracy=0.91, loss=0.64, step=44000]\n",
            "Valid: 100% 6944/6944 [00:22<00:00, 309.96 uttr/s, accuracy=0.77, loss=0.92]\n",
            "Train:   0% 2/2000 [00:00<05:45,  5.78 step/s, accuracy=0.72, loss=1.26, step=44001]"
          ]
        },
        {
          "output_type": "stream",
          "name": "stdout",
          "text": [
            "average loss = 1.0741       average accuracy = 0.7322)\n"
          ]
        },
        {
          "output_type": "stream",
          "name": "stderr",
          "text": [
            "Train:  50% 1002/2000 [01:44<01:10, 14.11 step/s, accuracy=0.75, loss=1.06, step=45002]"
          ]
        },
        {
          "output_type": "stream",
          "name": "stdout",
          "text": [
            "average loss = 1.0749       average accuracy = 0.7302)\n"
          ]
        },
        {
          "output_type": "stream",
          "name": "stderr",
          "text": [
            "Train: 100% 2000/2000 [03:12<00:00, 10.40 step/s, accuracy=0.84, loss=0.94, step=46000]\n",
            "Valid: 100% 6944/6944 [00:22<00:00, 311.52 uttr/s, accuracy=0.78, loss=0.90]\n",
            "Train:   0% 2/2000 [00:00<05:21,  6.21 step/s, accuracy=0.75, loss=1.17, step=46002]"
          ]
        },
        {
          "output_type": "stream",
          "name": "stdout",
          "text": [
            "average loss = 1.0423       average accuracy = 0.7402)\n"
          ]
        },
        {
          "output_type": "stream",
          "name": "stderr",
          "text": [
            "Train:  50% 1002/2000 [01:46<01:33, 10.71 step/s, accuracy=0.69, loss=0.89, step=47002]"
          ]
        },
        {
          "output_type": "stream",
          "name": "stdout",
          "text": [
            "average loss = 1.0501       average accuracy = 0.7373)\n"
          ]
        },
        {
          "output_type": "stream",
          "name": "stderr",
          "text": [
            "Train: 100% 2000/2000 [03:20<00:00, 10.00 step/s, accuracy=0.75, loss=0.70, step=48000]\n",
            "Valid: 100% 6944/6944 [00:23<00:00, 297.16 uttr/s, accuracy=0.78, loss=0.88]\n",
            "Train:   0% 1/2000 [00:00<04:01,  8.27 step/s, accuracy=0.72, loss=0.98, step=48001]"
          ]
        },
        {
          "output_type": "stream",
          "name": "stdout",
          "text": [
            "average loss = 1.0094       average accuracy = 0.7447)\n"
          ]
        },
        {
          "output_type": "stream",
          "name": "stderr",
          "text": [
            "Train:  50% 1002/2000 [01:45<01:27, 11.45 step/s, accuracy=0.84, loss=1.26, step=49002]"
          ]
        },
        {
          "output_type": "stream",
          "name": "stdout",
          "text": [
            "average loss = 1.0197       average accuracy = 0.7449)\n"
          ]
        },
        {
          "output_type": "stream",
          "name": "stderr",
          "text": [
            "Train: 100% 2000/2000 [03:18<00:00, 10.07 step/s, accuracy=0.72, loss=0.94, step=5e+4]\n",
            "Valid: 100% 6944/6944 [00:22<00:00, 303.89 uttr/s, accuracy=0.79, loss=0.87]\n",
            "Train:   0% 1/2000 [00:00<06:58,  4.77 step/s, accuracy=0.59, loss=1.66, step=5e+4]"
          ]
        },
        {
          "output_type": "stream",
          "name": "stdout",
          "text": [
            "Step 50000, best model saved. (accuracy=0.7890)\n",
            "average loss = 0.9890       average accuracy = 0.7542)\n"
          ]
        },
        {
          "output_type": "stream",
          "name": "stderr",
          "text": [
            "Train:  50% 1002/2000 [01:42<01:17, 12.81 step/s, accuracy=0.75, loss=0.96, step=51002]"
          ]
        },
        {
          "output_type": "stream",
          "name": "stdout",
          "text": [
            "average loss = 0.9865       average accuracy = 0.7500)\n"
          ]
        },
        {
          "output_type": "stream",
          "name": "stderr",
          "text": [
            "Train: 100% 2000/2000 [03:16<00:00, 10.20 step/s, accuracy=0.75, loss=1.10, step=52000]\n",
            "Valid: 100% 6944/6944 [00:22<00:00, 307.81 uttr/s, accuracy=0.79, loss=0.85]\n",
            "Train:   0% 2/2000 [00:00<05:27,  6.11 step/s, accuracy=0.59, loss=1.43, step=52002]"
          ]
        },
        {
          "output_type": "stream",
          "name": "stdout",
          "text": [
            "average loss = 0.9851       average accuracy = 0.7512)\n"
          ]
        },
        {
          "output_type": "stream",
          "name": "stderr",
          "text": [
            "Train:  50% 1002/2000 [01:41<01:35, 10.44 step/s, accuracy=0.78, loss=1.12, step=53002]"
          ]
        },
        {
          "output_type": "stream",
          "name": "stdout",
          "text": [
            "average loss = 0.9689       average accuracy = 0.7563)\n"
          ]
        },
        {
          "output_type": "stream",
          "name": "stderr",
          "text": [
            "Train: 100% 2000/2000 [03:17<00:00, 10.15 step/s, accuracy=0.78, loss=0.89, step=54000]\n",
            "Valid: 100% 6944/6944 [00:22<00:00, 303.80 uttr/s, accuracy=0.80, loss=0.84]\n",
            "Train:   0% 2/2000 [00:00<05:18,  6.26 step/s, accuracy=0.81, loss=0.91, step=54002]"
          ]
        },
        {
          "output_type": "stream",
          "name": "stdout",
          "text": [
            "average loss = 0.9501       average accuracy = 0.7590)\n"
          ]
        },
        {
          "output_type": "stream",
          "name": "stderr",
          "text": [
            "Train:  50% 1002/2000 [01:42<01:28, 11.25 step/s, accuracy=0.75, loss=1.09, step=55002]"
          ]
        },
        {
          "output_type": "stream",
          "name": "stdout",
          "text": [
            "average loss = 0.9536       average accuracy = 0.7609)\n"
          ]
        },
        {
          "output_type": "stream",
          "name": "stderr",
          "text": [
            "Train: 100% 2000/2000 [03:20<00:00,  9.96 step/s, accuracy=0.84, loss=0.85, step=56000]\n",
            "Valid: 100% 6944/6944 [00:22<00:00, 307.87 uttr/s, accuracy=0.80, loss=0.82]\n",
            "Train:   0% 1/2000 [00:00<04:29,  7.41 step/s, accuracy=0.75, loss=0.88, step=56001]"
          ]
        },
        {
          "output_type": "stream",
          "name": "stdout",
          "text": [
            "average loss = 0.9368       average accuracy = 0.7609)\n"
          ]
        },
        {
          "output_type": "stream",
          "name": "stderr",
          "text": [
            "Train:  50% 1002/2000 [01:38<01:22, 12.16 step/s, accuracy=0.66, loss=1.14, step=57002]"
          ]
        },
        {
          "output_type": "stream",
          "name": "stdout",
          "text": [
            "average loss = 0.9336       average accuracy = 0.7640)\n"
          ]
        },
        {
          "output_type": "stream",
          "name": "stderr",
          "text": [
            "Train: 100% 2000/2000 [03:20<00:00,  9.99 step/s, accuracy=0.91, loss=0.50, step=58000]\n",
            "Valid: 100% 6944/6944 [00:23<00:00, 301.11 uttr/s, accuracy=0.81, loss=0.80]\n",
            "Train:   0% 1/2000 [00:00<04:46,  6.97 step/s, accuracy=0.81, loss=0.79, step=58001]"
          ]
        },
        {
          "output_type": "stream",
          "name": "stdout",
          "text": [
            "average loss = 0.9279       average accuracy = 0.7669)\n"
          ]
        },
        {
          "output_type": "stream",
          "name": "stderr",
          "text": [
            "Train:  50% 1001/2000 [01:39<01:22, 12.18 step/s, accuracy=0.81, loss=0.81, step=59001]"
          ]
        },
        {
          "output_type": "stream",
          "name": "stdout",
          "text": [
            "average loss = 0.9067       average accuracy = 0.7701)\n"
          ]
        },
        {
          "output_type": "stream",
          "name": "stderr",
          "text": [
            "Train: 100% 2000/2000 [03:21<00:00,  9.91 step/s, accuracy=0.97, loss=0.33, step=6e+4]\n",
            "Valid: 100% 6944/6944 [00:22<00:00, 306.16 uttr/s, accuracy=0.81, loss=0.79]\n",
            "Train:   0% 1/2000 [00:00<06:57,  4.79 step/s, accuracy=0.69, loss=1.20, step=6e+4]"
          ]
        },
        {
          "output_type": "stream",
          "name": "stdout",
          "text": [
            "Step 60000, best model saved. (accuracy=0.8089)\n",
            "average loss = 0.9176       average accuracy = 0.7702)\n"
          ]
        },
        {
          "output_type": "stream",
          "name": "stderr",
          "text": [
            "Train:  50% 1001/2000 [01:36<01:31, 10.93 step/s, accuracy=0.69, loss=1.12, step=61001]"
          ]
        },
        {
          "output_type": "stream",
          "name": "stdout",
          "text": [
            "average loss = 0.8921       average accuracy = 0.7718)\n"
          ]
        },
        {
          "output_type": "stream",
          "name": "stderr",
          "text": [
            "Train: 100% 2000/2000 [03:18<00:00, 10.08 step/s, accuracy=0.81, loss=0.82, step=62000]\n",
            "Valid: 100% 6944/6944 [00:21<00:00, 316.73 uttr/s, accuracy=0.80, loss=0.80]\n",
            "Train:   0% 2/2000 [00:00<05:11,  6.42 step/s, accuracy=0.69, loss=1.07, step=62002]"
          ]
        },
        {
          "output_type": "stream",
          "name": "stdout",
          "text": [
            "average loss = 0.8959       average accuracy = 0.7728)\n"
          ]
        },
        {
          "output_type": "stream",
          "name": "stderr",
          "text": [
            "Train:  50% 1001/2000 [01:35<01:36, 10.38 step/s, accuracy=0.66, loss=1.25, step=63001]"
          ]
        },
        {
          "output_type": "stream",
          "name": "stdout",
          "text": [
            "average loss = 0.8951       average accuracy = 0.7751)\n"
          ]
        },
        {
          "output_type": "stream",
          "name": "stderr",
          "text": [
            "Train: 100% 2000/2000 [03:19<00:00, 10.00 step/s, accuracy=0.75, loss=0.81, step=64000]\n",
            "Valid: 100% 6944/6944 [00:22<00:00, 308.01 uttr/s, accuracy=0.81, loss=0.79]\n",
            "Train:   0% 2/2000 [00:00<05:22,  6.20 step/s, accuracy=0.91, loss=0.41, step=64002]"
          ]
        },
        {
          "output_type": "stream",
          "name": "stdout",
          "text": [
            "average loss = 0.8896       average accuracy = 0.7784)\n"
          ]
        },
        {
          "output_type": "stream",
          "name": "stderr",
          "text": [
            "Train:  50% 1002/2000 [01:37<01:43,  9.64 step/s, accuracy=0.75, loss=1.25, step=65002]"
          ]
        },
        {
          "output_type": "stream",
          "name": "stdout",
          "text": [
            "average loss = 0.8778       average accuracy = 0.7730)\n"
          ]
        },
        {
          "output_type": "stream",
          "name": "stderr",
          "text": [
            "Train: 100% 2000/2000 [03:24<00:00,  9.78 step/s, accuracy=0.72, loss=1.35, step=66000]\n",
            "Valid: 100% 6944/6944 [00:22<00:00, 306.46 uttr/s, accuracy=0.81, loss=0.79]\n",
            "Train:   0% 1/2000 [00:00<04:50,  6.89 step/s, accuracy=0.81, loss=1.02, step=66001]"
          ]
        },
        {
          "output_type": "stream",
          "name": "stdout",
          "text": [
            "average loss = 0.8776       average accuracy = 0.7798)\n"
          ]
        },
        {
          "output_type": "stream",
          "name": "stderr",
          "text": [
            "Train:  50% 1001/2000 [01:37<01:36, 10.39 step/s, accuracy=0.72, loss=0.78, step=67001]"
          ]
        },
        {
          "output_type": "stream",
          "name": "stdout",
          "text": [
            "average loss = 0.8849       average accuracy = 0.7778)\n"
          ]
        },
        {
          "output_type": "stream",
          "name": "stderr",
          "text": [
            "Train: 100% 2000/2000 [03:26<00:00,  9.68 step/s, accuracy=0.66, loss=1.09, step=68000]\n",
            "Valid: 100% 6944/6944 [00:21<00:00, 325.82 uttr/s, accuracy=0.81, loss=0.79]\n",
            "Train:   0% 2/2000 [00:00<05:30,  6.05 step/s, accuracy=0.59, loss=1.23, step=68002]"
          ]
        },
        {
          "output_type": "stream",
          "name": "stdout",
          "text": [
            "average loss = 0.8746       average accuracy = 0.7776)\n"
          ]
        },
        {
          "output_type": "stream",
          "name": "stderr",
          "text": [
            "Train:  50% 1002/2000 [01:35<01:42,  9.72 step/s, accuracy=0.66, loss=1.46, step=69002]"
          ]
        },
        {
          "output_type": "stream",
          "name": "stdout",
          "text": [
            "average loss = 0.8805       average accuracy = 0.7783)\n"
          ]
        },
        {
          "output_type": "stream",
          "name": "stderr",
          "text": [
            "Train: 100% 2000/2000 [03:27<00:00,  9.62 step/s, accuracy=0.78, loss=0.70, step=7e+4]\n",
            "Valid: 100% 6944/6944 [00:22<00:00, 309.89 uttr/s, accuracy=0.81, loss=0.78]\n",
            "Train:   0% 0/2000 [00:00<?, ? step/s]\n"
          ]
        },
        {
          "output_type": "stream",
          "name": "stdout",
          "text": [
            "Step 70000, best model saved. (accuracy=0.8089)\n"
          ]
        }
      ],
      "source": [
        "from tqdm import tqdm\n",
        "\n",
        "import torch\n",
        "import torch.nn as nn\n",
        "from torch.optim import AdamW\n",
        "from torch.utils.data import DataLoader, random_split\n",
        "\n",
        "\n",
        "# def parse_args():\n",
        "#   \"\"\"arguments\"\"\"\n",
        "#   config = {\n",
        "#     \"data_dir\": \"/content/Dataset\",\n",
        "#     \"save_path\": \"model.ckpt\",\n",
        "#     \"batch_size\": 32,\n",
        "#     \"n_workers\": 8,\n",
        "#     \"valid_steps\": 2000,\n",
        "#     \"warmup_steps\": 1000,\n",
        "#     \"save_steps\": 10000,\n",
        "#     \"total_steps\": 70000,\n",
        "#   }\n",
        "\n",
        "#   return config\n",
        "\n",
        "\n",
        "def main(\n",
        "  data_dir,\n",
        "  save_path,\n",
        "  batch_size,\n",
        "  n_workers,\n",
        "  valid_steps,\n",
        "  warmup_steps,\n",
        "  total_steps,\n",
        "  save_steps,\n",
        "):\n",
        "  \"\"\"Main function.\"\"\"\n",
        "  device = torch.device(\"cuda\" if torch.cuda.is_available() else \"cpu\")\n",
        "  print(f\"[Info]: Use {device} now!\")\n",
        "\n",
        "  train_loader, valid_loader, speaker_num = get_dataloader(data_dir, batch_size, n_workers)\n",
        "  train_iterator = iter(train_loader)\n",
        "  print(f\"[Info]: Finish loading data!\",flush = True)\n",
        "\n",
        "  model = Classifier(n_spks=speaker_num).to(device)\n",
        "  model.load_state_dict(torch.load(save_path))\n",
        "  criterion = nn.CrossEntropyLoss()\n",
        "  optimizer = AdamW(model.parameters(), lr=1e-3)\n",
        "  scheduler = get_cosine_schedule_with_warmup(optimizer, warmup_steps, total_steps)\n",
        "  print(f\"[Info]: Finish creating model!\",flush = True)\n",
        "\n",
        "  best_accuracy = -1.0\n",
        "  best_state_dict = None\n",
        "  # pbar has total 2000 step\n",
        "  pbar = tqdm(total=valid_steps, ncols=0, desc=\"Train\", unit=\" step\")\n",
        "  # print train loss and accuracy every 1000 step\n",
        "\n",
        "  loss_acc_list = []\n",
        "\n",
        "  for step in range(total_steps):\n",
        "    # Get data\n",
        "    try:\n",
        "      batch = next(train_iterator)\n",
        "    except StopIteration:\n",
        "      train_iterator = iter(train_loader)\n",
        "      batch = next(train_iterator)\n",
        "\n",
        "    loss, accuracy = model_fn(batch, model, criterion, device)\n",
        "    batch_loss = loss.item()\n",
        "    batch_accuracy = accuracy.item()\n",
        "\n",
        "    # Updata model\n",
        "    loss.backward()\n",
        "    optimizer.step()\n",
        "    scheduler.step()\n",
        "    optimizer.zero_grad()\n",
        "    # print train loss acc\n",
        "    loss_acc_list.append((loss, accuracy))\n",
        "    print_loss , print_acc = list(zip(*loss_acc_list))\n",
        "    if step % 1000 == 0:\n",
        "      print(f\"average loss = {sum(print_loss)/len(print_loss):.4f} \\\n",
        "      average accuracy = {sum(print_acc)/len(print_acc):.4f})\")\n",
        "      loss_acc_list = []\n",
        "\n",
        "    # Log\n",
        "    # update each step (as total)\n",
        "    pbar.update()\n",
        "    pbar.set_postfix(\n",
        "      loss=f\"{batch_loss:.2f}\",\n",
        "      accuracy=f\"{batch_accuracy:.2f}\",\n",
        "      step=step + 1,\n",
        "    )\n",
        "\n",
        "    # Do validation\n",
        "    # valid each 2000 step\n",
        "    if (step + 1) % valid_steps == 0:\n",
        "      #close above pbar\n",
        "      pbar.close()\n",
        "\n",
        "      valid_accuracy = valid(valid_loader, model, criterion, device)\n",
        "\n",
        "      # keep the best model\n",
        "      if valid_accuracy > best_accuracy:\n",
        "        best_accuracy = valid_accuracy\n",
        "        best_state_dict = model.state_dict()\n",
        "      # new pbar has total 2000 step\n",
        "      pbar = tqdm(total=valid_steps, ncols=0, desc=\"Train\", unit=\" step\")\n",
        "\n",
        "    # Save the best model so far.\n",
        "    if (step + 1) % save_steps == 0 and best_state_dict is not None:\n",
        "      torch.save(best_state_dict, save_path)\n",
        "      pbar.write(f\"Step {step + 1}, best model saved. (accuracy={best_accuracy:.4f})\")\n",
        "\n",
        "  pbar.close()\n",
        "\n",
        "\n",
        "if __name__ == \"__main__\":\n",
        "  main(**parse_args())"
      ]
    },
    {
      "cell_type": "markdown",
      "metadata": {
        "id": "0ZnUtE246AXm"
      },
      "source": [
        "##### original : val acc = 68%\n",
        "##### d_model 128 , multihead 1\n",
        "##### train acc = 80% , val acc = 73%\n",
        "\n",
        "##### TransformerEncoder layer : 1 -> 4\n",
        "##### Step : 70000 -> 100000\n",
        "##### train acc = 92% , val acc = 83%\n",
        "\n",
        "##### TransformerEncoder layer : 1 -> 4\n",
        "##### stat pooling -> self attention pooling\n",
        "##### Step : 100000 -> 120000\n",
        "##### train acc = 95% , val acc = 86%\n",
        "\n",
        "##### TransformerEncoder layer : 1 -> 5\n",
        "##### stat pooling -> self attention pooling\n",
        "##### prep layer : only keep last layer\n",
        "##### Step : 70000 -> 56000(imcomplete)\n",
        "##### train acc = 90% , val acc = 83%(imcomplete)\n",
        "\n",
        "##### ConformerEncoder layer : 4\n",
        "##### multihead 1 -> 2\n",
        "##### stat pooling -> self attention pooling\n",
        "##### prep layer : only keep last layer\n",
        "##### train acc = 57% , val acc = 62%"
      ]
    },
    {
      "cell_type": "code",
      "execution_count": 13,
      "metadata": {
        "id": "ED3v3VUxUHDM"
      },
      "outputs": [],
      "source": [
        "import os\n",
        "import json\n",
        "import torch\n",
        "from pathlib import Path\n",
        "from torch.utils.data import Dataset\n",
        "\n",
        "\n",
        "class InferenceDataset(Dataset):\n",
        "  def __init__(self, data_dir):\n",
        "    # using / to merge path\n",
        "    testdata_path = Path(data_dir) / \"testdata.json\"\n",
        "    metadata = json.load(testdata_path.open())\n",
        "    self.data_dir = data_dir\n",
        "    #\n",
        "    self.data = metadata[\"utterances\"]\n",
        "\n",
        "  def __len__(self):\n",
        "    return len(self.data)\n",
        "\n",
        "  def __getitem__(self, index):\n",
        "    utterance = self.data[index]\n",
        "    feat_path = utterance[\"feature_path\"]\n",
        "    mel = torch.load(os.path.join(self.data_dir, feat_path))\n",
        "    # compare : when we load training set, we use append to concate datas\n",
        "    return feat_path, mel\n",
        "\n",
        "\n",
        "def inference_collate_batch(batch):\n",
        "  \"\"\"Collate a batch of data.\"\"\"\n",
        "  feat_paths, mels = zip(*batch)\n",
        "\n",
        "  return feat_paths, torch.stack(mels)"
      ]
    },
    {
      "cell_type": "code",
      "execution_count": 14,
      "metadata": {
        "id": "WGfTSJDtUYPB",
        "colab": {
          "base_uri": "https://localhost:8080/",
          "height": 156,
          "referenced_widgets": [
            "ae8281cdcdeb4bf5b944b512f7dea966",
            "e7ccec5829ae45e0a2432324840019bf",
            "a404d8b9342d408aaf93bc2fcdf2fcde",
            "fdcc330c8d9e424e9546dfe89a6bd8e6",
            "4f856a0c93814121824c143a3623f0d0",
            "cd3de6f983e7405793f50fa810a4b116",
            "dec9d22668a844a8a7d7a3cc9f78698c",
            "9292f89cc07b4a169815573bc25f07c1",
            "7b5eca3c423c44c89dd1525d82a12735",
            "e4345d4a64df4ca59e3408de14d5e798",
            "890de1c506014d9b8b776add9afa162a"
          ]
        },
        "outputId": "e3ada193-b716-42b7-a54c-450645796ede"
      },
      "outputs": [
        {
          "output_type": "stream",
          "name": "stdout",
          "text": [
            "[Info]: Use cuda now!\n",
            "[Info]: Finish loading data!\n"
          ]
        },
        {
          "output_type": "stream",
          "name": "stderr",
          "text": [
            "/usr/local/lib/python3.10/dist-packages/torch/utils/data/dataloader.py:557: UserWarning: This DataLoader will create 8 worker processes in total. Our suggested max number of worker in current system is 2, which is smaller than what this DataLoader is going to create. Please be aware that excessive worker creation might get DataLoader running slow or even freeze, lower the worker number to avoid potential slowness/freeze if necessary.\n",
            "  warnings.warn(_create_warning_msg(\n"
          ]
        },
        {
          "output_type": "stream",
          "name": "stdout",
          "text": [
            "[Info]: Finish creating model!\n"
          ]
        },
        {
          "output_type": "display_data",
          "data": {
            "text/plain": [
              "  0%|          | 0/6000 [00:00<?, ?it/s]"
            ],
            "application/vnd.jupyter.widget-view+json": {
              "version_major": 2,
              "version_minor": 0,
              "model_id": "ae8281cdcdeb4bf5b944b512f7dea966"
            }
          },
          "metadata": {}
        }
      ],
      "source": [
        "import json\n",
        "import csv\n",
        "from pathlib import Path\n",
        "from tqdm.notebook import tqdm\n",
        "\n",
        "import torch\n",
        "from torch.utils.data import DataLoader\n",
        "\n",
        "def parse_args():\n",
        "  \"\"\"arguments\"\"\"\n",
        "  config = {\n",
        "    \"data_dir\": \"./Dataset\",\n",
        "    \"model_path\": \"./model.ckpt\",\n",
        "    \"output_path\": \"./output.csv\",\n",
        "  }\n",
        "\n",
        "  return config\n",
        "\n",
        "\n",
        "def main(\n",
        "  data_dir,\n",
        "  model_path,\n",
        "  output_path,\n",
        "):\n",
        "  \"\"\"Main function.\"\"\"\n",
        "  device = torch.device(\"cuda\" if torch.cuda.is_available() else \"cpu\")\n",
        "  print(f\"[Info]: Use {device} now!\")\n",
        "\n",
        "  mapping_path = Path(data_dir) / \"mapping.json\"\n",
        "  mapping = json.load(mapping_path.open())\n",
        "\n",
        "  dataset = InferenceDataset(data_dir)\n",
        "  dataloader = DataLoader(\n",
        "    dataset,\n",
        "    batch_size=1,\n",
        "    shuffle=False,\n",
        "    drop_last=False,\n",
        "    num_workers=8,\n",
        "    collate_fn=inference_collate_batch,\n",
        "  )\n",
        "  print(f\"[Info]: Finish loading data!\",flush = True)\n",
        "\n",
        "  speaker_num = len(mapping[\"id2speaker\"])\n",
        "  model = Classifier(n_spks=speaker_num).to(device)\n",
        "  model.load_state_dict(torch.load(model_path))\n",
        "  model.eval()\n",
        "  print(f\"[Info]: Finish creating model!\",flush = True)\n",
        "\n",
        "  results = [[\"Id\", \"Category\"]]\n",
        "  for feat_paths, mels in tqdm(dataloader):\n",
        "    with torch.no_grad():\n",
        "      mels = mels.to(device)\n",
        "      outs = model(mels)\n",
        "      preds = outs.argmax(1).cpu().numpy()\n",
        "      # zip from two list to a sequence of tuples\n",
        "      # preds is a numpy array whose elements are int numbers\n",
        "      for feat_path, pred in zip(feat_paths, preds):\n",
        "        # mapping[\"id2speaker\"] = {\"0\": \"id10001\", ......'599':  'id11251'}])\n",
        "        results.append([feat_path, mapping[\"id2speaker\"][str(pred)]])\n",
        "\n",
        "  with open(output_path, 'w', newline='') as csvfile:\n",
        "    writer = csv.writer(csvfile)\n",
        "    writer.writerows(results)\n",
        "\n",
        "\n",
        "if __name__ == \"__main__\":\n",
        "  main(**parse_args())\n"
      ]
    },
    {
      "cell_type": "code",
      "execution_count": null,
      "metadata": {
        "id": "nuDMfXVo9mD-"
      },
      "outputs": [],
      "source": [
        "# class MyLinearLayer(nn.Module):\n",
        "#     \"\"\" Custom Linear layer but mimics a standard linear layer \"\"\"\n",
        "#     def __init__(self, size_in, size_out):\n",
        "#         super().__init__()\n",
        "#         self.size_in, self.size_out = size_in, size_out\n",
        "#         weights = torch.Tensor(size_out, size_in)\n",
        "#         self.weights = nn.Parameter(weights)  # nn.Parameter is a Tensor that's a module parameter.\n",
        "#         bias = torch.Tensor(size_out)\n",
        "#         self.bias = nn.Parameter(bias)\n",
        "\n",
        "#         # initialize weights and biases\n",
        "#         nn.init.kaiming_uniform_(self.weights, a=math.sqrt(5)) # weight init\n",
        "#         fan_in, _ = nn.init._calculate_fan_in_and_fan_out(self.weights)\n",
        "#         bound = 1 / math.sqrt(fan_in)\n",
        "#         nn.init.uniform_(self.bias, -bound, bound)  # bias init\n",
        "\n",
        "#     def forward(self, x):\n",
        "#         w_times_x= torch.mm(x, self.weights.t())\n",
        "#         return torch.add(w_times_x, self.bias)  # w times x + b\n",
        "# class MyLinear(nn.Module):\n",
        "#     def __init__(self, in_units, units):\n",
        "#         super().__init__()\n",
        "#         self.weight = nn.Parameter(torch.randn(in_units, units))\n",
        "#         self.bias = nn.Parameter(torch.randn(units,))\n",
        "\n",
        "#     def forward(self, X):\n",
        "#         linear = torch.matmul(X, self.weight.data) + self.bias.data\n",
        "#         return F.relu(linear)\n",
        "# class NoisyLinear(T.nn.Module):\n",
        "#   def __init__(self, n_in, n_out):\n",
        "#     super().__init__()\n",
        "#     self.n_in, self.n_out = n_in, n_out\n",
        "\n",
        "#     self.weights = T.nn.Parameter(T.zeros((n_out, n_in),\n",
        "#       dtype=T.float32))\n",
        "#     self.bias = T.nn.Parameter(T.tensor(n_out,\n",
        "#       dtype=T.float32))\n",
        "#     self.lo = 0.90; self.hi = 0.98  # noise\n",
        "\n",
        "#     lim = 0.01  # initialize weights and bias\n",
        "#     T.nn.init.uniform_(self.weights, -lim, +lim)\n",
        "#     T.nn.init.uniform_(self.bias, -lim, +lim)\n",
        "\n",
        "#   def forward(self, x):\n",
        "#     wx= T.mm(x, self.weights.t())\n",
        "#     rnd = (self.hi - self.lo) * T.rand(1) + self.lo\n",
        "#     return rnd * T.add(wx, self.bias)  # wts * x + bias\n",
        "# class PrintLayer(nn.Module):\n",
        "#     def __init__(self):\n",
        "#         super(PrintLayer, self).__init__()\n",
        "\n",
        "#     def forward(self, x):\n",
        "#         # Do your print / debug stuff here\n",
        "#         print(x)\n",
        "#         return x"
      ]
    }
  ],
  "metadata": {
    "colab": {
      "provenance": [],
      "gpuType": "T4",
      "include_colab_link": true
    },
    "kernelspec": {
      "display_name": "Python 3",
      "name": "python3"
    },
    "language_info": {
      "codemirror_mode": {
        "name": "ipython",
        "version": 3
      },
      "file_extension": ".py",
      "mimetype": "text/x-python",
      "name": "python",
      "nbconvert_exporter": "python",
      "pygments_lexer": "ipython3",
      "version": "3.11.5"
    },
    "accelerator": "GPU",
    "widgets": {
      "application/vnd.jupyter.widget-state+json": {
        "ae8281cdcdeb4bf5b944b512f7dea966": {
          "model_module": "@jupyter-widgets/controls",
          "model_name": "HBoxModel",
          "model_module_version": "1.5.0",
          "state": {
            "_dom_classes": [],
            "_model_module": "@jupyter-widgets/controls",
            "_model_module_version": "1.5.0",
            "_model_name": "HBoxModel",
            "_view_count": null,
            "_view_module": "@jupyter-widgets/controls",
            "_view_module_version": "1.5.0",
            "_view_name": "HBoxView",
            "box_style": "",
            "children": [
              "IPY_MODEL_e7ccec5829ae45e0a2432324840019bf",
              "IPY_MODEL_a404d8b9342d408aaf93bc2fcdf2fcde",
              "IPY_MODEL_fdcc330c8d9e424e9546dfe89a6bd8e6"
            ],
            "layout": "IPY_MODEL_4f856a0c93814121824c143a3623f0d0"
          }
        },
        "e7ccec5829ae45e0a2432324840019bf": {
          "model_module": "@jupyter-widgets/controls",
          "model_name": "HTMLModel",
          "model_module_version": "1.5.0",
          "state": {
            "_dom_classes": [],
            "_model_module": "@jupyter-widgets/controls",
            "_model_module_version": "1.5.0",
            "_model_name": "HTMLModel",
            "_view_count": null,
            "_view_module": "@jupyter-widgets/controls",
            "_view_module_version": "1.5.0",
            "_view_name": "HTMLView",
            "description": "",
            "description_tooltip": null,
            "layout": "IPY_MODEL_cd3de6f983e7405793f50fa810a4b116",
            "placeholder": "​",
            "style": "IPY_MODEL_dec9d22668a844a8a7d7a3cc9f78698c",
            "value": "100%"
          }
        },
        "a404d8b9342d408aaf93bc2fcdf2fcde": {
          "model_module": "@jupyter-widgets/controls",
          "model_name": "FloatProgressModel",
          "model_module_version": "1.5.0",
          "state": {
            "_dom_classes": [],
            "_model_module": "@jupyter-widgets/controls",
            "_model_module_version": "1.5.0",
            "_model_name": "FloatProgressModel",
            "_view_count": null,
            "_view_module": "@jupyter-widgets/controls",
            "_view_module_version": "1.5.0",
            "_view_name": "ProgressView",
            "bar_style": "success",
            "description": "",
            "description_tooltip": null,
            "layout": "IPY_MODEL_9292f89cc07b4a169815573bc25f07c1",
            "max": 6000,
            "min": 0,
            "orientation": "horizontal",
            "style": "IPY_MODEL_7b5eca3c423c44c89dd1525d82a12735",
            "value": 6000
          }
        },
        "fdcc330c8d9e424e9546dfe89a6bd8e6": {
          "model_module": "@jupyter-widgets/controls",
          "model_name": "HTMLModel",
          "model_module_version": "1.5.0",
          "state": {
            "_dom_classes": [],
            "_model_module": "@jupyter-widgets/controls",
            "_model_module_version": "1.5.0",
            "_model_name": "HTMLModel",
            "_view_count": null,
            "_view_module": "@jupyter-widgets/controls",
            "_view_module_version": "1.5.0",
            "_view_name": "HTMLView",
            "description": "",
            "description_tooltip": null,
            "layout": "IPY_MODEL_e4345d4a64df4ca59e3408de14d5e798",
            "placeholder": "​",
            "style": "IPY_MODEL_890de1c506014d9b8b776add9afa162a",
            "value": " 6000/6000 [00:51&lt;00:00, 126.80it/s]"
          }
        },
        "4f856a0c93814121824c143a3623f0d0": {
          "model_module": "@jupyter-widgets/base",
          "model_name": "LayoutModel",
          "model_module_version": "1.2.0",
          "state": {
            "_model_module": "@jupyter-widgets/base",
            "_model_module_version": "1.2.0",
            "_model_name": "LayoutModel",
            "_view_count": null,
            "_view_module": "@jupyter-widgets/base",
            "_view_module_version": "1.2.0",
            "_view_name": "LayoutView",
            "align_content": null,
            "align_items": null,
            "align_self": null,
            "border": null,
            "bottom": null,
            "display": null,
            "flex": null,
            "flex_flow": null,
            "grid_area": null,
            "grid_auto_columns": null,
            "grid_auto_flow": null,
            "grid_auto_rows": null,
            "grid_column": null,
            "grid_gap": null,
            "grid_row": null,
            "grid_template_areas": null,
            "grid_template_columns": null,
            "grid_template_rows": null,
            "height": null,
            "justify_content": null,
            "justify_items": null,
            "left": null,
            "margin": null,
            "max_height": null,
            "max_width": null,
            "min_height": null,
            "min_width": null,
            "object_fit": null,
            "object_position": null,
            "order": null,
            "overflow": null,
            "overflow_x": null,
            "overflow_y": null,
            "padding": null,
            "right": null,
            "top": null,
            "visibility": null,
            "width": null
          }
        },
        "cd3de6f983e7405793f50fa810a4b116": {
          "model_module": "@jupyter-widgets/base",
          "model_name": "LayoutModel",
          "model_module_version": "1.2.0",
          "state": {
            "_model_module": "@jupyter-widgets/base",
            "_model_module_version": "1.2.0",
            "_model_name": "LayoutModel",
            "_view_count": null,
            "_view_module": "@jupyter-widgets/base",
            "_view_module_version": "1.2.0",
            "_view_name": "LayoutView",
            "align_content": null,
            "align_items": null,
            "align_self": null,
            "border": null,
            "bottom": null,
            "display": null,
            "flex": null,
            "flex_flow": null,
            "grid_area": null,
            "grid_auto_columns": null,
            "grid_auto_flow": null,
            "grid_auto_rows": null,
            "grid_column": null,
            "grid_gap": null,
            "grid_row": null,
            "grid_template_areas": null,
            "grid_template_columns": null,
            "grid_template_rows": null,
            "height": null,
            "justify_content": null,
            "justify_items": null,
            "left": null,
            "margin": null,
            "max_height": null,
            "max_width": null,
            "min_height": null,
            "min_width": null,
            "object_fit": null,
            "object_position": null,
            "order": null,
            "overflow": null,
            "overflow_x": null,
            "overflow_y": null,
            "padding": null,
            "right": null,
            "top": null,
            "visibility": null,
            "width": null
          }
        },
        "dec9d22668a844a8a7d7a3cc9f78698c": {
          "model_module": "@jupyter-widgets/controls",
          "model_name": "DescriptionStyleModel",
          "model_module_version": "1.5.0",
          "state": {
            "_model_module": "@jupyter-widgets/controls",
            "_model_module_version": "1.5.0",
            "_model_name": "DescriptionStyleModel",
            "_view_count": null,
            "_view_module": "@jupyter-widgets/base",
            "_view_module_version": "1.2.0",
            "_view_name": "StyleView",
            "description_width": ""
          }
        },
        "9292f89cc07b4a169815573bc25f07c1": {
          "model_module": "@jupyter-widgets/base",
          "model_name": "LayoutModel",
          "model_module_version": "1.2.0",
          "state": {
            "_model_module": "@jupyter-widgets/base",
            "_model_module_version": "1.2.0",
            "_model_name": "LayoutModel",
            "_view_count": null,
            "_view_module": "@jupyter-widgets/base",
            "_view_module_version": "1.2.0",
            "_view_name": "LayoutView",
            "align_content": null,
            "align_items": null,
            "align_self": null,
            "border": null,
            "bottom": null,
            "display": null,
            "flex": null,
            "flex_flow": null,
            "grid_area": null,
            "grid_auto_columns": null,
            "grid_auto_flow": null,
            "grid_auto_rows": null,
            "grid_column": null,
            "grid_gap": null,
            "grid_row": null,
            "grid_template_areas": null,
            "grid_template_columns": null,
            "grid_template_rows": null,
            "height": null,
            "justify_content": null,
            "justify_items": null,
            "left": null,
            "margin": null,
            "max_height": null,
            "max_width": null,
            "min_height": null,
            "min_width": null,
            "object_fit": null,
            "object_position": null,
            "order": null,
            "overflow": null,
            "overflow_x": null,
            "overflow_y": null,
            "padding": null,
            "right": null,
            "top": null,
            "visibility": null,
            "width": null
          }
        },
        "7b5eca3c423c44c89dd1525d82a12735": {
          "model_module": "@jupyter-widgets/controls",
          "model_name": "ProgressStyleModel",
          "model_module_version": "1.5.0",
          "state": {
            "_model_module": "@jupyter-widgets/controls",
            "_model_module_version": "1.5.0",
            "_model_name": "ProgressStyleModel",
            "_view_count": null,
            "_view_module": "@jupyter-widgets/base",
            "_view_module_version": "1.2.0",
            "_view_name": "StyleView",
            "bar_color": null,
            "description_width": ""
          }
        },
        "e4345d4a64df4ca59e3408de14d5e798": {
          "model_module": "@jupyter-widgets/base",
          "model_name": "LayoutModel",
          "model_module_version": "1.2.0",
          "state": {
            "_model_module": "@jupyter-widgets/base",
            "_model_module_version": "1.2.0",
            "_model_name": "LayoutModel",
            "_view_count": null,
            "_view_module": "@jupyter-widgets/base",
            "_view_module_version": "1.2.0",
            "_view_name": "LayoutView",
            "align_content": null,
            "align_items": null,
            "align_self": null,
            "border": null,
            "bottom": null,
            "display": null,
            "flex": null,
            "flex_flow": null,
            "grid_area": null,
            "grid_auto_columns": null,
            "grid_auto_flow": null,
            "grid_auto_rows": null,
            "grid_column": null,
            "grid_gap": null,
            "grid_row": null,
            "grid_template_areas": null,
            "grid_template_columns": null,
            "grid_template_rows": null,
            "height": null,
            "justify_content": null,
            "justify_items": null,
            "left": null,
            "margin": null,
            "max_height": null,
            "max_width": null,
            "min_height": null,
            "min_width": null,
            "object_fit": null,
            "object_position": null,
            "order": null,
            "overflow": null,
            "overflow_x": null,
            "overflow_y": null,
            "padding": null,
            "right": null,
            "top": null,
            "visibility": null,
            "width": null
          }
        },
        "890de1c506014d9b8b776add9afa162a": {
          "model_module": "@jupyter-widgets/controls",
          "model_name": "DescriptionStyleModel",
          "model_module_version": "1.5.0",
          "state": {
            "_model_module": "@jupyter-widgets/controls",
            "_model_module_version": "1.5.0",
            "_model_name": "DescriptionStyleModel",
            "_view_count": null,
            "_view_module": "@jupyter-widgets/base",
            "_view_module_version": "1.2.0",
            "_view_name": "StyleView",
            "description_width": ""
          }
        }
      }
    }
  },
  "nbformat": 4,
  "nbformat_minor": 0
}