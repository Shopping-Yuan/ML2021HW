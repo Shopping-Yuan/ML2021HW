{
  "cells": [
    {
      "cell_type": "markdown",
      "metadata": {
        "id": "view-in-github",
        "colab_type": "text"
      },
      "source": [
        "<a href=\"https://colab.research.google.com/github/Shopping-Yuan/ML2021HW/blob/Shopping_vscode_branch/HW4/HW04_modified.ipynb\" target=\"_parent\"><img src=\"https://colab.research.google.com/assets/colab-badge.svg\" alt=\"Open In Colab\"/></a>"
      ]
    },
    {
      "cell_type": "code",
      "execution_count": 1,
      "metadata": {
        "colab": {
          "base_uri": "https://localhost:8080/"
        },
        "id": "Z1cauo_ypX7F",
        "outputId": "7f6721e9-2062-45fa-bfc5-cf66cc760cc3"
      },
      "outputs": [
        {
          "output_type": "stream",
          "name": "stdout",
          "text": [
            "Mounted at /content/drive\n"
          ]
        }
      ],
      "source": [
        "from google.colab import drive\n",
        "drive.mount('/content/drive')"
      ]
    },
    {
      "cell_type": "code",
      "execution_count": 2,
      "metadata": {
        "id": "rEgX4ezzB7SQ"
      },
      "outputs": [],
      "source": [
        "import shutil\n",
        "shutil.copyfile('/content/drive/MyDrive/Dataset.zip','/content/Dataset.zip')\n",
        "\n",
        "import zipfile\n",
        "with zipfile.ZipFile('/content/Dataset.zip','r') as zip_ref:\n",
        "  zip_ref.extractall('/content/')"
      ]
    },
    {
      "cell_type": "code",
      "execution_count": 1,
      "metadata": {
        "id": "mfFqQ-KmrJGy"
      },
      "outputs": [],
      "source": [
        "def parse_args():\n",
        "  \"\"\"arguments\"\"\"\n",
        "  config = {\n",
        "#    \"data_dir\": \"/content/Dataset\",\n",
        "    \"data_dir\": \"./Dataset\",\n",
        "    \"save_path\": \"model.ckpt\",\n",
        "    \"batch_size\": 32,\n",
        "    \"n_workers\": 0,\n",
        "    \"valid_steps\": 2000,\n",
        "    \"warmup_steps\": 1000,\n",
        "    \"save_steps\": 4000,\n",
        "    \"total_steps\": 200000,\n",
        "  }\n",
        "\n",
        "  return config"
      ]
    },
    {
      "cell_type": "markdown",
      "metadata": {
        "id": "zWDKfQCSrx2D"
      },
      "source": [
        "#Dataset"
      ]
    },
    {
      "cell_type": "code",
      "execution_count": 2,
      "metadata": {
        "id": "33lkzQf43DNb"
      },
      "outputs": [],
      "source": [
        "import os\n",
        "import json\n",
        "import torch\n",
        "import random\n",
        "from pathlib import Path\n",
        "from torch.utils.data import Dataset\n",
        "from torch.nn.utils.rnn import pad_sequence\n",
        "\n",
        "\n",
        "class myDataset(Dataset):\n",
        "  def __init__(self, data_dir, segment_len=128):\n",
        "    self.data_dir = data_dir\n",
        "    self.segment_len = segment_len\n",
        "\n",
        "    # Load the mapping from speaker neme to their corresponding id.\n",
        "    # Path package can use / to join path\n",
        "    #part 1-1\n",
        "    mapping_path = Path(data_dir) / \"mapping.json\"\n",
        "    mapping = json.load(mapping_path.open())\n",
        "    self.speaker2id = mapping[\"speaker2id\"]\n",
        "    #self.speaker2id = {'id10001': 0, 'id10005': 1, ...... 'id11247': 598, 'id11251': 599}\n",
        "\n",
        "    #part 1-2\n",
        "    # Load metadata of training data.\n",
        "    metadata_path = Path(data_dir) / \"metadata.json\"\n",
        "    metadata = json.load(open(metadata_path))[\"speakers\"]\n",
        "\n",
        "    # Get the total number of speaker.\n",
        "    self.speaker_num = len(metadata.keys())\n",
        "    self.data = []\n",
        "    for speaker in metadata.keys():\n",
        "    #['id10473', 'id10328', 'id10382',......'id10864']\n",
        "      for utterances in metadata[speaker]:\n",
        "      # for example : metadata[speaker] = 'id10473'\n",
        "      # utterances = {'feature_path': 'uttr-5c88b2f1803449789c36f14fb4d3c1eb.pt', 'mel_len': 652}......\n",
        "        self.data.append([utterances[\"feature_path\"], self.speaker2id[speaker]])\n",
        "        # for example : ['uttr-5c88b2f1803449789c36f14fb4d3c1eb.pt',217]\n",
        "\n",
        "  def __len__(self):\n",
        "    return len(self.data)\n",
        "\n",
        "  def __getitem__(self, index):\n",
        "    feat_path, speaker = self.data[index]\n",
        "    #[utterances[\"feature_path\"], self.speaker2id[speaker]\n",
        "\n",
        "    # Load preprocessed mel-spectrogram.\n",
        "    # https://pytorch.org/docs/stable/generated/torch.load.html\n",
        "    # using torch.load to open pt file . By default , tensors are loaded to GPU if they are GPU tensor.\n",
        "    # part 2\n",
        "    mel = torch.load(os.path.join(self.data_dir, feat_path))\n",
        "\n",
        "    # Segmemt mel-spectrogram into \"segment_len\" frames.\n",
        "    if len(mel) > self.segment_len:\n",
        "      # Randomly get the starting point of the segment.\n",
        "      start = random.randint(0, len(mel) - self.segment_len)\n",
        "      # Get a segment with \"segment_len\" frames.\n",
        "      mel = torch.FloatTensor(mel[start:start+self.segment_len])\n",
        "    else:\n",
        "      mel = torch.FloatTensor(mel)\n",
        "    # Turn the speaker id into long for computing loss later.\n",
        "    speaker = torch.FloatTensor([speaker]).long()\n",
        "    return mel, speaker\n",
        "\n",
        "  def get_speaker_number(self):\n",
        "    return self.speaker_num"
      ]
    },
    {
      "cell_type": "code",
      "execution_count": null,
      "metadata": {
        "id": "qNWZbKmRrZUj"
      },
      "outputs": [],
      "source": [
        "#data_dir = parse_args()[\"data_dir\"]\n",
        "#part 1-1\n",
        "#mapping.json checcking\n",
        "#mapping_path = Path(data_dir) / \"mapping.json\"\n",
        "#mapping = json.load(mapping_path.open())\n",
        "#speaker2id = mapping[\"speaker2id\"]\n",
        "#print(type(mapping)) #<class 'dict'>\n",
        "#print(mapping.keys()) #dict_keys(['speaker2id', 'id2speaker'])\n",
        "#print(mapping.values()) #dict_values([{'id10001': 0, 'id10005': 1, ...... 'id11247': 598, 'id11251': 599},\n",
        "             #{\"0\": \"id10001\", ......'599':  'id11251'}])\n",
        "#print(mapping['speaker2id']['id10473']) #217\n",
        "\n",
        "#part 1-2\n",
        "#metadata.json checcking\n",
        "#metadata_path = Path(data_dir) / \"metadata.json\"\n",
        "#metadata = json.load(open(metadata_path))[\"speakers\"]\n",
        "#print(type(metadata)) #<class 'dict'>\n",
        "#print(len(metadata.keys()),metadata.keys()) #600 dict_keys(['id10473', 'id10328', 'id10382',......'id10864'])\n",
        "#print(len(metadata.values()),len(list(metadata.values())[0]),list(metadata.values())[0])\n",
        "#600 176 [{'feature_path': 'uttr-5c88b2f1803449789c36f14fb4d3c1eb.pt', 'mel_len': 652},......\n",
        "#{'feature_path': 'uttr-caf385f0032140e0add0bbde9a6595cd.pt', 'mel_len': 414}]\n",
        "#print(len(metadata.values()),len(list(metadata.values())[1])) #600 101\n",
        "\n",
        "#part 2\n",
        "#mel = torch.load(os.path.join(data_dir, 'uttr-5c88b2f1803449789c36f14fb4d3c1eb.pt'))\n",
        "#print(type(mel)) #<class 'torch.Tensor'>\n",
        "#print(mel.size()) #torch.Size([652, 40])\n",
        "#print(mel[0])\n",
        "# tensor([\n",
        "# 2.0060,  1.9015,  1.3473,  1.5711,  1.5569,  2.3200,  3.0064,  3.3848,\n",
        "# 0.5376,  0.8397,  1.5710, -0.5662, -2.1262, -1.1271, -1.4272, -3.6233,\n",
        "# -1.0765, -1.8453, -3.2415, -2.3427, -1.5888, -0.4692, -0.4291, -0.4722,\n",
        "# -1.8450, -1.0638, -3.2177, -3.4006, -3.2176, -3.3409, -3.1142, -4.0395,\n",
        "# -3.6502, -4.2407, -4.9656, -5.1238, -5.0620, -5.4308, -6.0757, -6.6186])"
      ]
    },
    {
      "cell_type": "code",
      "execution_count": 3,
      "metadata": {
        "id": "MNfZK8vyq0rD"
      },
      "outputs": [],
      "source": [
        "import torch\n",
        "from torch.utils.data import DataLoader, random_split\n",
        "from torch.nn.utils.rnn import pad_sequence\n",
        "#part 1 check collate_batch\n",
        "def collate_batch(batch):\n",
        "  # Process features within a batch.\n",
        "  \"\"\"Collate a batch of data.\"\"\"\n",
        "  #part 1-1 , 1-2\n",
        "  mel, speaker = zip(*batch)\n",
        "  # Because we train the model batch by batch, we need to pad the features in the same batch to make their lengths the same.\n",
        "  mel = pad_sequence(mel, batch_first=True, padding_value=-20)    # pad log 10^(-20) which is very small value.\n",
        "  # mel: (batch size, length, 40)\n",
        "  #part 1-3\n",
        "  return mel, torch.FloatTensor(speaker).long()\n",
        "\n",
        "\n",
        "def get_dataloader(data_dir, batch_size, n_workers):\n",
        "  \"\"\"Generate dataloader\"\"\"\n",
        "  dataset = myDataset(data_dir)\n",
        "  speaker_num = dataset.get_speaker_number()\n",
        "  # Split dataset into training dataset and validation dataset\n",
        "  trainlen = int(0.9 * len(dataset))\n",
        "  lengths = [trainlen, len(dataset) - trainlen]\n",
        "  trainset, validset = random_split(dataset, lengths)\n",
        "\n",
        "  train_loader = DataLoader(\n",
        "    trainset,\n",
        "    batch_size=batch_size,\n",
        "    shuffle=True,\n",
        "    drop_last=True,\n",
        "    num_workers=n_workers,\n",
        "    pin_memory=True,\n",
        "    collate_fn=collate_batch,\n",
        "  )\n",
        "  valid_loader = DataLoader(\n",
        "    validset,\n",
        "    batch_size=batch_size,\n",
        "    num_workers=n_workers,\n",
        "    drop_last=True,\n",
        "    pin_memory=True,\n",
        "    collate_fn=collate_batch,\n",
        "  )\n",
        "\n",
        "  return train_loader, valid_loader, speaker_num"
      ]
    },
    {
      "cell_type": "code",
      "execution_count": null,
      "metadata": {
        "id": "75rCGxDvkX0I"
      },
      "outputs": [],
      "source": [
        "# x = [[\"a\",1],[\"b\",2],[\"c\",3]]\n",
        "# print(list(zip(*x)))\n",
        "# print(list(zip((\"a\",1),(\"b\",2),(\"c\",3))))"
      ]
    },
    {
      "cell_type": "code",
      "execution_count": null,
      "metadata": {
        "id": "vA6cTPqryJXZ"
      },
      "outputs": [],
      "source": [
        "#import numpy as np\n",
        "#check collate_batch\n",
        "#part 1-1\n",
        "# * collect \"sequence\"function input to a tuple :\n",
        "#def f(*paras):\n",
        "#  print(paras)\n",
        "#f(1,2,3) #(1, 2, 3)\n",
        "# or collect a tuple to a \"sequence\"\n",
        "#print(*(1,2,3)) #1 2 3\n",
        "\n",
        "#part 1-2\n",
        "#test_data = np.random.rand(2,3,4)\n",
        "#test_label = np.random.rand(2,1)\n",
        "#samples = (test_data,test_label)\n",
        "#print(samples)\n",
        "#x , y = zip((1,2),(3,4),(5,6),(7,8))\n",
        "#print(x,y)\n",
        "\n",
        "#part 1-3\n",
        "#print(torch.FloatTensor([[1.],[1.]]))#tensor([[1.],[1.]])\n",
        "#print(torch.FloatTensor([[1.],[1.]]).long())#tensor([[1],[1]]) implies the numbers are integer now\n",
        "#print(torch.IntTensor([[1.],[1.]]))#tensor([[1],[1]], dtype=torch.int32)"
      ]
    },
    {
      "cell_type": "code",
      "execution_count": 4,
      "metadata": {
        "colab": {
          "base_uri": "https://localhost:8080/"
        },
        "id": "3Yk6oGGdQD9G",
        "outputId": "7ab8508a-5f14-4c3a-b926-13bc3a299f88"
      },
      "outputs": [
        {
          "output_type": "stream",
          "name": "stdout",
          "text": [
            "Requirement already satisfied: torchinfo in /usr/local/lib/python3.10/dist-packages (1.8.0)\n"
          ]
        }
      ],
      "source": [
        "!pip install torchinfo\n",
        "#%conda install -c conda-forge torchinfo"
      ]
    },
    {
      "cell_type": "code",
      "execution_count": null,
      "metadata": {
        "id": "aBXbvqTlTSyj"
      },
      "outputs": [],
      "source": [
        "# x = [True,True,False,True,False,False,False,True,False,True,True,False]\n",
        "\n",
        "# true_index_list = []\n",
        "\n",
        "# false_index_list = []\n",
        "\n",
        "# for i,b in enumerate(x):\n",
        "#   if b == True:\n",
        "#     true_index_list += [i]\n",
        "#   else :\n",
        "#     false_index_list += [i]\n",
        "# print(true_index_list,false_index_list)\n",
        "\n",
        "# new_list = []\n",
        "# t_max = len(true_index_list)\n",
        "# f_max = len(false_index_list)\n",
        "# true_index = 0\n",
        "# false_index = 0\n",
        "# t_or_f = 0\n",
        "# while (t_max * f_max)>0:\n",
        "#   if t_or_f % 2 ==0:\n",
        "#     new_list += true_index_list[true_index:true_index+3]\n",
        "#     true_index += 3\n",
        "#     t_or_f += 1\n",
        "#     t_max -= 3\n",
        "#   else :\n",
        "#     new_list += false_index_list[false_index:false_index+3]\n",
        "#     false_index += 3\n",
        "#     t_or_f += 1\n",
        "#     f_max -= 3\n",
        "# if t_max > 0:\n",
        "#   new_list += true_index_list[true_index:]\n",
        "# elif f_max > 0:\n",
        "#   new_list += false_index_list[false_index:]\n",
        "\n",
        "# print(new_list)\n"
      ]
    },
    {
      "cell_type": "code",
      "execution_count": 8,
      "metadata": {
        "id": "1l3Zx9A_d9ZT"
      },
      "outputs": [],
      "source": [
        "import torch.nn as nn\n",
        "class PrintLayer(nn.Module):\n",
        "  def __init__(self):\n",
        "    super().__init__()\n",
        "  def forward(self , x):\n",
        "    print(f\"layer output size = {x.size()}\")\n",
        "    return(x)\n",
        "class ConformerLayer(nn.Module):\n",
        "  \"\"\"\n",
        "    #------Conformer Encoder Part----------------------------------\n",
        "    # part 1 feed forward module\n",
        "    # part 2 multi heads self attention\n",
        "    # part 3 convolution module\n",
        "    # part 4 feed forward module\n",
        "    # part 5 layer norm\n",
        "    # multi heads self attention module\n",
        "    #   part 2-1 laryer norm\n",
        "    #   part 2-2 multi heads self attention\n",
        "    #   part 2-3 dropout\n",
        "    # convolution module\n",
        "    #   part 3-1 layer norm (do this outside the module)\n",
        "    #   part 3-2 pointwise conv\n",
        "    #   part 3-3 Glu activation\n",
        "    #   part 3-4 1D depthwise conv\n",
        "    #   part 3-5 batch norm\n",
        "    #   part 3-6 swish activation\n",
        "    #   part 3-7 pointwise conv\n",
        "    #   part 3-8 dropout\n",
        "    \"\"\"\n",
        "  def __init__(self,d_model,feedforword,dropout):\n",
        "    super().__init__()\n",
        "    self.feed_forward_layer_1 = nn.Sequential(\n",
        "    nn.BatchNorm1d(d_model),\n",
        "    nn.Linear(d_model, feedforword),\n",
        "    nn.ReLU(),\n",
        "    nn.Linear(feedforword, d_model),\n",
        "    nn.BatchNorm1d(d_model),\n",
        "    )\n",
        "    self.layer_norm1 = nn.LayerNorm(d_model)\n",
        "    self.layer_norm2 = nn.LayerNorm(d_model)\n",
        "    self.attention = torch.nn.MultiheadAttention(d_model, num_heads = 2, dropout=dropout)\n",
        "    self.DropoutMA = nn.Dropout(dropout)\n",
        "    self.cnn_module = nn.Sequential(\n",
        "      # part 3-2\n",
        "      nn.Conv1d(in_channels = d_model , out_channels = d_model*2 , kernel_size = 1),\n",
        "      # part 3-3\n",
        "      nn.GLU(dim = 1),\n",
        "      # part 3-4\n",
        "      nn.Conv1d(in_channels = d_model , out_channels = d_model , kernel_size = 3 ,padding = 1, groups = d_model),\n",
        "      # part 3-5\n",
        "      nn.BatchNorm1d(d_model),\n",
        "      # part 3-6\n",
        "      nn.SiLU(),\n",
        "      # part 3-7\n",
        "      nn.Conv1d(in_channels = d_model , out_channels = d_model , kernel_size = 1),\n",
        "      # part 3-8\n",
        "      nn.Dropout1d()\n",
        "    )\n",
        "    self.feed_forward_layer_2 = nn.Sequential(\n",
        "    nn.BatchNorm1d(d_model),\n",
        "    nn.Linear(d_model, feedforword),\n",
        "    nn.ReLU(),\n",
        "    nn.Linear(feedforword, d_model),\n",
        "    nn.BatchNorm1d(d_model),\n",
        "    )\n",
        "    self.layer_norm3 = nn.LayerNorm(d_model)\n",
        "  def forward(self ,x ):\n",
        "    # part 1\n",
        "    x = x + 0.5 * self.feed_forward_layer_1(x)\n",
        "    # part 2\n",
        "    x = x.permute(1, 0, 2)\n",
        "    x = self.layer_norm1(x)\n",
        "    x = x + self.attention(x,x,x, need_weights=False)[0]\n",
        "    x = self.DropoutMA(x)\n",
        "    # part 3\n",
        "    x = self.layer_norm2(x)\n",
        "    x = x.permute(1, 2, 0)\n",
        "    x = x + self.cnn_module(x)\n",
        "    x = x.permute(0, 2, 1)\n",
        "\n",
        "    # part 4\n",
        "    x = x + 0.5 * self.feed_forward_layer_2(x)\n",
        "    # part 5\n",
        "    x = self.layer_norm3(x)\n",
        "    return x\n",
        "class SelfAttentionPollingLayer(nn.Module):\n",
        "  def __init__(self,layer):\n",
        "    super().__init__()\n",
        "    self.layer = layer\n",
        "  def forward(self ,x ):\n",
        "\n",
        "    return torch.squeeze(torch.bmm(x.permute(0,2,1),x),1)"
      ]
    },
    {
      "cell_type": "code",
      "source": [
        "# x = torch.rand(5,2,3)\n",
        "# x = nn.Dropout1d()(x)\n",
        "# print(x)"
      ],
      "metadata": {
        "id": "ii38FPZ0jw6J"
      },
      "execution_count": null,
      "outputs": []
    },
    {
      "cell_type": "code",
      "source": [
        "import torch\n",
        "import torch.nn as nn\n",
        "import torch.nn.functional as F\n",
        "import torchvision\n",
        "from torchinfo import summary\n",
        "\n",
        "class Classifier(nn.Module):\n",
        "  def __init__(self, d_model=128, n_spks=600, feedforward = 256 , dropout=0.2):\n",
        "    super().__init__()\n",
        "    # Project the dimension of features from that of input into d_model.\n",
        "    self.prenet = nn.Linear(40, d_model)\n",
        "    # TODO:\n",
        "\n",
        "    # attension pooling\n",
        "    self.attension_pooling = nn.Sequential(\n",
        "      nn.Linear(d_model, d_model),\n",
        "      nn.ReLU(),\n",
        "      nn.Linear(d_model, 1),\n",
        "      nn.BatchNorm1d(d_model),\n",
        "      nn.Softmax(dim = 1),\n",
        "    )\n",
        "#    self.conformer = ConformerLayer(d_model,feedforward,dropout)\n",
        "    self.conformers = nn.ModuleList([ConformerLayer(d_model,feedforward,dropout) for i in range(3)])\n",
        "    self.pred_layer = nn.Sequential(\n",
        "      nn.Linear(d_model, n_spks),\n",
        "    )\n",
        "\n",
        "  def forward(self, mels):\n",
        "    \"\"\"\n",
        "    args:\n",
        "      mels: (batch size, length, 40)\n",
        "    return:\n",
        "      out: (batch size, n_spks)\n",
        "    \"\"\"\n",
        "\n",
        "    out = self.prenet(mels)\n",
        "    for layer in self.conformers:\n",
        "      out = layer(out)\n",
        "\n",
        "\n",
        "    sfatpool = self.attension_pooling(out)\n",
        "    out = torch.squeeze(torch.bmm(sfatpool.permute(0,2,1),out),1)\n",
        "    out = self.pred_layer(out)\n",
        "    return out\n"
      ],
      "metadata": {
        "id": "Kpzi0C5T_9bl"
      },
      "execution_count": 9,
      "outputs": []
    },
    {
      "cell_type": "code",
      "source": [
        "model = Classifier(d_model=128, dropout=0.2)\n",
        "#model = ConformerLayer(d_model=80, feedforword = 256, dropout=0.2)\n",
        "print(summary(model,(32,128,40)))"
      ],
      "metadata": {
        "id": "vsb0HL3nKBhW",
        "outputId": "104351f6-b078-4311-808a-0ad6dd5a2714",
        "colab": {
          "base_uri": "https://localhost:8080/"
        }
      },
      "execution_count": 7,
      "outputs": [
        {
          "output_type": "stream",
          "name": "stdout",
          "text": [
            "==========================================================================================\n",
            "Layer (type:depth-idx)                   Output Shape              Param #\n",
            "==========================================================================================\n",
            "Classifier                               [32, 600]                 --\n",
            "├─Linear: 1-1                            [32, 128, 128]            5,248\n",
            "├─ModuleList: 1-2                        --                        --\n",
            "│    └─ConformerLayer: 2-1               [32, 128, 128]            --\n",
            "│    │    └─Sequential: 3-1              [32, 128, 128]            66,432\n",
            "│    │    └─LayerNorm: 3-2               [128, 32, 128]            256\n",
            "│    │    └─MultiheadAttention: 3-3      [128, 32, 128]            66,048\n",
            "│    │    └─Dropout: 3-4                 [128, 32, 128]            --\n",
            "│    │    └─LayerNorm: 3-5               [128, 32, 128]            256\n",
            "│    │    └─Sequential: 3-6              [32, 128, 128]            50,304\n",
            "│    │    └─Sequential: 3-7              [32, 128, 128]            66,432\n",
            "│    │    └─LayerNorm: 3-8               [32, 128, 128]            256\n",
            "│    └─ConformerLayer: 2-2               [32, 128, 128]            --\n",
            "│    │    └─Sequential: 3-9              [32, 128, 128]            66,432\n",
            "│    │    └─LayerNorm: 3-10              [128, 32, 128]            256\n",
            "│    │    └─MultiheadAttention: 3-11     [128, 32, 128]            66,048\n",
            "│    │    └─Dropout: 3-12                [128, 32, 128]            --\n",
            "│    │    └─LayerNorm: 3-13              [128, 32, 128]            256\n",
            "│    │    └─Sequential: 3-14             [32, 128, 128]            50,304\n",
            "│    │    └─Sequential: 3-15             [32, 128, 128]            66,432\n",
            "│    │    └─LayerNorm: 3-16              [32, 128, 128]            256\n",
            "│    └─ConformerLayer: 2-3               [32, 128, 128]            --\n",
            "│    │    └─Sequential: 3-17             [32, 128, 128]            66,432\n",
            "│    │    └─LayerNorm: 3-18              [128, 32, 128]            256\n",
            "│    │    └─MultiheadAttention: 3-19     [128, 32, 128]            66,048\n",
            "│    │    └─Dropout: 3-20                [128, 32, 128]            --\n",
            "│    │    └─LayerNorm: 3-21              [128, 32, 128]            256\n",
            "│    │    └─Sequential: 3-22             [32, 128, 128]            50,304\n",
            "│    │    └─Sequential: 3-23             [32, 128, 128]            66,432\n",
            "│    │    └─LayerNorm: 3-24              [32, 128, 128]            256\n",
            "├─Sequential: 1-3                        [32, 128, 1]              --\n",
            "│    └─Linear: 2-4                       [32, 128, 128]            16,512\n",
            "│    └─ReLU: 2-5                         [32, 128, 128]            --\n",
            "│    └─Linear: 2-6                       [32, 128, 1]              129\n",
            "│    └─BatchNorm1d: 2-7                  [32, 128, 1]              256\n",
            "│    └─Softmax: 2-8                      [32, 128, 1]              --\n",
            "├─Sequential: 1-4                        [32, 600]                 --\n",
            "│    └─Linear: 2-9                       [32, 600]                 77,400\n",
            "==========================================================================================\n",
            "Total params: 849,497\n",
            "Trainable params: 849,497\n",
            "Non-trainable params: 0\n",
            "Total mult-adds (M): 631.18\n",
            "==========================================================================================\n",
            "Input size (MB): 0.66\n",
            "Forward/backward pass size (MB): 235.10\n",
            "Params size (MB): 2.61\n",
            "Estimated Total Size (MB): 238.36\n",
            "==========================================================================================\n"
          ]
        }
      ]
    },
    {
      "cell_type": "code",
      "execution_count": null,
      "metadata": {
        "id": "zlXaMSlWMU__"
      },
      "outputs": [],
      "source": [
        "# import torch\n",
        "# import torch.nn as nn\n",
        "# import torch.nn.functional as F\n",
        "# import torchvision\n",
        "# from torchinfo import summary\n",
        "\n",
        "# class Classifier(nn.Module):\n",
        "#   def __init__(self, d_model=128, n_spks=600, dropout=0.1):\n",
        "#     super().__init__()\n",
        "#     # Project the dimension of features from that of input into d_model.\n",
        "#     self.prenet = nn.Linear(40, d_model)\n",
        "#     # TODO:\n",
        "#     #   Change Transformer to Conformer.\n",
        "#     #   https://arxiv.org/abs/2005.08100\n",
        "#     # embed_dim must be divisible by num_heads\n",
        "#     self.encoder_layer = nn.TransformerEncoderLayer(\n",
        "#       d_model=d_model, dim_feedforward=256, nhead=1, norm_first = True\n",
        "#     )\n",
        "#     # batch_first = True\n",
        "#     # norm_first = True\n",
        "#     self.encoder = nn.TransformerEncoder(self.encoder_layer, num_layers= 5  )\n",
        "#     # attension pooling\n",
        "#     self.attension_pooling = nn.Sequential(\n",
        "#       nn.Linear(d_model, d_model),\n",
        "#       nn.ReLU(),\n",
        "#       nn.Linear(d_model, 1),\n",
        "#       nn.Softmax(dim = 1),\n",
        "#     )\n",
        "# #    self.afd = SelfAttentionPollingLayer(self.attension_pooling)\n",
        "# #    self.linear = nn.Linear(d_model, d_model)\n",
        "# #    self.relu = nn.ReLU()\n",
        "# #    self.linear_out = nn.Linear(d_model, n_spks)\n",
        "\n",
        "#     # Project the the dimension of features from d_model into speaker nums.\n",
        "#     self.pred_layer = nn.Sequential(\n",
        "# #      nn.Linear(d_model, d_model),\n",
        "# #      nn.ReLU(),\n",
        "#       nn.Linear(d_model, n_spks),\n",
        "#     )\n",
        "\n",
        "#   def forward(self, mels):\n",
        "#     \"\"\"\n",
        "#     args:\n",
        "#       mels: (batch size, length, 40)\n",
        "#     return:\n",
        "#       out: (batch size, n_spks)\n",
        "#     \"\"\"\n",
        "#     # out: (batch size, length, d_model)\n",
        "#     #print(mels.size())\n",
        "#     out = self.prenet(mels)\n",
        "#     # out: (length, batch size, d_model)\n",
        "#     out = out.permute(1, 0, 2)\n",
        "#     #print(out.size())\n",
        "#     # The encoder layer expect features in the shape of (length, batch size, d_model).\n",
        "#     #out = self.encoder_layer(out)\n",
        "#     out = self.encoder_layer(out)\n",
        "#     # out: (batch size, length, d_model)\n",
        "#     #print(out.size())\n",
        "#     out = out.transpose(0, 1)\n",
        "# #    print(out.size())\n",
        "#     # self-attention pooling\n",
        "#     #out = self.afd(out)\n",
        "# #    print(out.size())\n",
        "#     sfatpool = self.attension_pooling(out)\n",
        "# #    print(sfatpool.size(),out.size())\n",
        "#     out = torch.squeeze(torch.bmm(sfatpool.permute(0,2,1),out),1)\n",
        "# #    out = self.afd(out)\n",
        "# #    print(out.size())\n",
        "\n",
        "#     # mean pooling\n",
        "# #    stats = out.mean(dim=1)\n",
        "\n",
        "#     # out: (batch, n_spks)\n",
        "# #    out = self.pred_layer(stats)\n",
        "# #    out = self.linear(out)\n",
        "# #    out = self.relu(out)\n",
        "# #    out = self.linear_out(out)\n",
        "#     out = self.pred_layer(out)\n",
        "#     return out\n"
      ]
    },
    {
      "cell_type": "code",
      "execution_count": null,
      "metadata": {
        "colab": {
          "base_uri": "https://localhost:8080/"
        },
        "id": "vXLlPNAI9N9F",
        "outputId": "ac15e8c7-27d1-47d2-afb7-d2adfa620243"
      },
      "outputs": [
        {
          "output_type": "stream",
          "name": "stdout",
          "text": [
            "torch.Size([32, 128, 128])\n",
            "torch.Size([32, 128, 128])\n",
            "==========================================================================================\n",
            "Layer (type:depth-idx)                   Output Shape              Param #\n",
            "==========================================================================================\n",
            "Classifier                               [32, 600]                 --\n",
            "├─Linear: 1-1                            [32, 128, 128]            5,248\n",
            "├─ModuleList: 1-2                        --                        --\n",
            "│    └─ConformerLayer: 2-1               [32, 128, 128]            --\n",
            "│    │    └─Sequential: 3-1              [32, 128, 128]            65,920\n",
            "│    │    └─LayerNorm: 3-2               [128, 32, 128]            256\n",
            "│    │    └─MultiheadAttention: 3-3      [128, 32, 128]            66,048\n",
            "│    │    └─Dropout1d: 3-4               [128, 32, 128]            --\n",
            "│    │    └─LayerNorm: 3-5               [128, 32, 128]            256\n",
            "│    │    └─Sequential: 3-6              [32, 128, 128]            50,304\n",
            "│    │    └─Sequential: 3-7              [32, 128, 128]            65,920\n",
            "│    │    └─LayerNorm: 3-8               [32, 128, 128]            256\n",
            "│    └─ConformerLayer: 2-2               [32, 128, 128]            --\n",
            "│    │    └─Sequential: 3-9              [32, 128, 128]            65,920\n",
            "│    │    └─LayerNorm: 3-10              [128, 32, 128]            256\n",
            "│    │    └─MultiheadAttention: 3-11     [128, 32, 128]            66,048\n",
            "│    │    └─Dropout1d: 3-12              [128, 32, 128]            --\n",
            "│    │    └─LayerNorm: 3-13              [128, 32, 128]            256\n",
            "│    │    └─Sequential: 3-14             [32, 128, 128]            50,304\n",
            "│    │    └─Sequential: 3-15             [32, 128, 128]            65,920\n",
            "│    │    └─LayerNorm: 3-16              [32, 128, 128]            256\n",
            "├─Sequential: 1-3                        [32, 128, 1]              --\n",
            "│    └─Linear: 2-3                       [32, 128, 128]            16,512\n",
            "│    └─ReLU: 2-4                         [32, 128, 128]            --\n",
            "│    └─Linear: 2-5                       [32, 128, 1]              129\n",
            "│    └─Softmax: 2-6                      [32, 128, 1]              --\n",
            "├─Sequential: 1-4                        [32, 600]                 --\n",
            "│    └─Linear: 2-7                       [32, 600]                 77,400\n",
            "==========================================================================================\n",
            "Total params: 597,209\n",
            "Trainable params: 597,209\n",
            "Non-trainable params: 0\n",
            "Total mult-adds (M): 421.77\n",
            "==========================================================================================\n",
            "Input size (MB): 0.66\n",
            "Forward/backward pass size (MB): 126.02\n",
            "Params size (MB): 1.86\n",
            "Estimated Total Size (MB): 128.53\n",
            "==========================================================================================\n"
          ]
        }
      ],
      "source": [
        "model = Classifier()\n",
        "print(summary(model,(32,128,40)))\n",
        "#print(model.state_dict().keys())\n",
        "#print(model.state_dict()[\"encoder_layer.self_attn.in_proj_weight\"].size())#torch.Size([240, 80]) (80+80+80)*80\n",
        "#print(model.state_dict()[\"encoder_layer.self_attn.out_proj.weight\"].size())#torch.Size([80, 80])"
      ]
    },
    {
      "cell_type": "markdown",
      "metadata": {
        "id": "5EhBDpSpznKl"
      },
      "source": [
        "original\n",
        "parameter number :\n",
        "1.MultiheadAttention : =\n",
        "d_model+1(bias) * d_query +\n",
        "d_model+1(bias) * d_key  +\n",
        "d_model+1(bias) * d_v   +\n",
        "d_v + 1(bias) * output_dim( = dmodel)\n",
        "= (80+1)80 + (80+1)80 + (80+1)80 + (80+1)80 = 25920\n",
        "2.layer_norm : =input + input = 80*80 = 160\n",
        "\n",
        "first change\n",
        "parameter number :\n",
        "1.MultiheadAttention : =\n",
        "d_model+1(bias) * d_query +\n",
        "d_model+1(bias) * d_key  +\n",
        "d_model+1(bias) * d_v   +\n",
        "d_v + 1(bias) * output_dim( = dmodel)\n",
        "= (128+1)128(3+1)= 16512\n",
        "\n",
        "second change\n",
        "parameter number :\n",
        "1.MultiheadAttention : =\n",
        "d_model+1(bias) * d_query +\n",
        "d_model+1(bias) * d_key  +\n",
        "d_model+1(bias) * d_v   +\n",
        "d_v + 1(bias) * output_dim( = dmodel)\n",
        "= (128+1)128(3+1)= 16512\n",
        "four layers : 66048\n",
        "\n",
        "2.layer_norm : =input + input = 80*80 = 160\n",
        "\n",
        "3rd change\n",
        "parameter number :\n",
        "1.MultiheadAttention : =\n",
        "d_model+1(bias) * d_query +\n",
        "d_model+1(bias) * d_key  +\n",
        "d_model+1(bias) * d_v   +\n",
        "d_v + 1(bias) * output_dim( = dmodel)\n",
        "= (128+1)128(3+1)= 16512\n",
        "four layers : 66048\n",
        "\n",
        "2.self-attension polling : (128+1)128+(128+1)1=16512+129=16641\n",
        "\n",
        "4th change\n",
        "parameter number :\n",
        "1.MultiheadAttention : =\n",
        "d_model+1(bias) * d_query +\n",
        "d_model+1(bias) * d_key  +\n",
        "d_model+1(bias) * d_v   +\n",
        "d_v + 1(bias) * output_dim( = dmodel)\n",
        "= (128+1)128(3+1)= 16512\n",
        "\n",
        "five layers\n",
        "\n",
        "2.self-attension polling : (128+1)128+(128+1)1=16512+129=16641\n",
        "\n",
        "3.delete on Linear + ReLU layers = - (129*128) -0 = -16512\n"
      ]
    },
    {
      "cell_type": "code",
      "execution_count": 10,
      "metadata": {
        "id": "tUSxoANBMchs"
      },
      "outputs": [],
      "source": [
        "import math\n",
        "\n",
        "import torch\n",
        "from torch.optim import Optimizer\n",
        "from torch.optim.lr_scheduler import LambdaLR\n",
        "\n",
        "\n",
        "def get_cosine_schedule_with_warmup(\n",
        "  optimizer: Optimizer,\n",
        "  num_warmup_steps: int,\n",
        "  num_training_steps: int,\n",
        "  num_cycles: float = 0.5,\n",
        "  last_epoch: int = -1,\n",
        "):\n",
        "  \"\"\"\n",
        "  Create a schedule with a learning rate that decreases following the values of the cosine function between the\n",
        "  initial lr set in the optimizer to 0, after a warmup period during which it increases linearly between 0 and the\n",
        "  initial lr set in the optimizer.\n",
        "\n",
        "  Args:\n",
        "    optimizer (:class:`~torch.optim.Optimizer`):\n",
        "      The optimizer for which to schedule the learning rate.\n",
        "    num_warmup_steps (:obj:`int`):\n",
        "      The number of steps for the warmup phase.\n",
        "    num_training_steps (:obj:`int`):\n",
        "      The total number of training steps.\n",
        "    num_cycles (:obj:`float`, `optional`, defaults to 0.5):\n",
        "      The number of waves in the cosine schedule (the defaults is to just decrease from the max value to 0\n",
        "      following a half-cosine).\n",
        "    last_epoch (:obj:`int`, `optional`, defaults to -1):\n",
        "      The index of the last epoch when resuming training.\n",
        "\n",
        "  Return:\n",
        "    :obj:`torch.optim.lr_scheduler.LambdaLR` with the appropriate schedule.\n",
        "  \"\"\"\n",
        "\n",
        "  def lr_lambda(current_step):\n",
        "    # Warmup\n",
        "    if current_step < num_warmup_steps:\n",
        "      return float(current_step) / float(max(1, num_warmup_steps))\n",
        "    # decadence\n",
        "    # cosine angle\n",
        "    progress = float(current_step - num_warmup_steps) / float(\n",
        "      max(1, num_training_steps - num_warmup_steps)\n",
        "    )\n",
        "    return max(\n",
        "      0.0, 0.5 * (1.0 + math.cos(math.pi * float(num_cycles) * 2.0 * progress))\n",
        "    )\n",
        "\n",
        "  return LambdaLR(optimizer, lr_lambda, last_epoch)"
      ]
    },
    {
      "cell_type": "code",
      "execution_count": null,
      "metadata": {
        "id": "9o3hw_GcF1Jb"
      },
      "outputs": [],
      "source": [
        "#from torch.optim import AdamW\n",
        "#optimizer = AdamW(model.parameters(), lr=1e-3)\n",
        "\n",
        "#scheduler = get_cosine_schedule_with_warmup(optimizer, 1000, 70000)\n",
        "\n",
        "#print(type(scheduler.optimizer.param_groups)) #<class 'list'>\n",
        "#print(len(scheduler.optimizer.param_groups))  #1\n",
        "#print(type(scheduler.optimizer.param_groups[0])) #<class 'dict'>\n",
        "#print(scheduler.optimizer.param_groups[0].keys())\n",
        "#['params', 'lr', 'betas', 'eps', 'weight_decay', 'amsgrad', 'foreach',\n",
        "#'maximize', 'capturable', 'differentiable', 'fused', 'initial_lr']\n",
        "#print(scheduler.optimizer.param_groups[0]['params'])\n",
        "#[Parameter containing: tensor([[......],requires_grad=True)]\n",
        "#print(scheduler.optimizer.param_groups[0]['lr'])# 0.0\n",
        "#print(scheduler.optimizer.param_groups[0]['betas'])# (0.9, 0.999)\n",
        "#print(scheduler.optimizer.param_groups[0]['eps']) # 1e-08\n",
        "#print(scheduler.optimizer.param_groups[0]['weight_decay']) #0.01\n",
        "#print(scheduler.optimizer.param_groups[0]['amsgrad']) # False\n",
        "#print(scheduler.optimizer.param_groups[0]['foreach']) # None"
      ]
    },
    {
      "cell_type": "code",
      "execution_count": 11,
      "metadata": {
        "id": "yfDXw13q1ssm"
      },
      "outputs": [],
      "source": [
        "import torch\n",
        "\n",
        "\n",
        "def model_fn(batch, model, criterion, device):\n",
        "  \"\"\"Forward a batch through the model.\"\"\"\n",
        "\n",
        "  mels, labels = batch\n",
        "  mels = mels.to(device)\n",
        "  labels = labels.to(device)\n",
        "\n",
        "  outs = model(mels)\n",
        "\n",
        "  loss = criterion(outs, labels)\n",
        "\n",
        "  # Get the speaker id with highest probability.\n",
        "  preds = outs.argmax(1)\n",
        "  # Compute accuracy.\n",
        "  accuracy = torch.mean((preds == labels).float())\n",
        "\n",
        "  return loss, accuracy"
      ]
    },
    {
      "cell_type": "code",
      "execution_count": 12,
      "metadata": {
        "id": "959wMzs21wbz"
      },
      "outputs": [],
      "source": [
        "from tqdm import tqdm\n",
        "import torch\n",
        "\n",
        "\n",
        "def valid(dataloader, model, criterion, device):\n",
        "  \"\"\"Validate on validation set.\"\"\"\n",
        "\n",
        "  model.eval()\n",
        "  running_loss = 0.0\n",
        "  running_accuracy = 0.0\n",
        "  # Manually update the progress bar : step 1\n",
        "  # total length\n",
        "  pbar = tqdm(total=len(dataloader.dataset), ncols=0, desc=\"Valid\", unit=\" uttr\")\n",
        "  for i, batch in enumerate(dataloader):\n",
        "    with torch.no_grad():\n",
        "      loss, accuracy = model_fn(batch, model, criterion, device)\n",
        "      running_loss += loss.item()\n",
        "      running_accuracy += accuracy.item()\n",
        "    # Manually update the progress bar : step 2\n",
        "    # update each batch\n",
        "    pbar.update(dataloader.batch_size)\n",
        "    pbar.set_postfix(\n",
        "      loss=f\"{running_loss / (i+1):.2f}\",\n",
        "      accuracy=f\"{running_accuracy / (i+1):.2f}\",\n",
        "    )\n",
        "  # Manually update the progress bar : step 3\n",
        "  pbar.close()\n",
        "  model.train()\n",
        "\n",
        "  return running_accuracy / len(dataloader)\n"
      ]
    },
    {
      "cell_type": "code",
      "execution_count": null,
      "metadata": {
        "colab": {
          "base_uri": "https://localhost:8080/"
        },
        "id": "m7ckdrpl6_YW",
        "outputId": "ee21abc6-6cf2-4dc8-824c-09314040108f"
      },
      "outputs": [
        {
          "metadata": {
            "tags": null
          },
          "name": "stdout",
          "output_type": "stream",
          "text": [
            "[Info]: Use cuda now!\n",
            "[Info]: Finish loading data!\n",
            "[Info]: Finish creating model!\n"
          ]
        },
        {
          "metadata": {
            "tags": null
          },
          "name": "stderr",
          "output_type": "stream",
          "text": [
            "Train:   0% 2/2000 [00:01<22:23,  1.49 step/s, accuracy=0.03, loss=6.37, step=2]"
          ]
        },
        {
          "metadata": {
            "tags": null
          },
          "name": "stdout",
          "output_type": "stream",
          "text": [
            "average loss = 6.5626       average accuracy = 0.0000)\n"
          ]
        },
        {
          "metadata": {
            "tags": null
          },
          "name": "stderr",
          "output_type": "stream",
          "text": [
            "Train:  50% 1001/2000 [02:10<01:58,  8.46 step/s, accuracy=0.16, loss=4.72, step=1001]"
          ]
        },
        {
          "metadata": {
            "tags": null
          },
          "name": "stdout",
          "output_type": "stream",
          "text": [
            "average loss = 5.5934       average accuracy = 0.0465)\n"
          ]
        },
        {
          "metadata": {
            "tags": null
          },
          "name": "stderr",
          "output_type": "stream",
          "text": [
            "Train: 100% 2000/2000 [04:08<00:00,  8.06 step/s, accuracy=0.19, loss=3.74, step=2000]\n",
            "Valid: 100% 6944/6944 [00:22<00:00, 315.19 uttr/s, accuracy=0.17, loss=4.03]\n",
            "Train:   0% 1/2000 [00:00<03:36,  9.23 step/s, accuracy=0.22, loss=3.64, step=2001]"
          ]
        },
        {
          "metadata": {
            "tags": null
          },
          "name": "stdout",
          "output_type": "stream",
          "text": [
            "average loss = 4.3159       average accuracy = 0.1421)\n"
          ]
        },
        {
          "metadata": {
            "tags": null
          },
          "name": "stderr",
          "output_type": "stream",
          "text": [
            "Train:  50% 1001/2000 [01:43<01:53,  8.80 step/s, accuracy=0.09, loss=3.62, step=3001]"
          ]
        },
        {
          "metadata": {
            "tags": null
          },
          "name": "stdout",
          "output_type": "stream",
          "text": [
            "average loss = 3.6893       average accuracy = 0.2274)\n"
          ]
        },
        {
          "metadata": {
            "tags": null
          },
          "name": "stderr",
          "output_type": "stream",
          "text": [
            "Train: 100% 2000/2000 [03:36<00:00,  9.22 step/s, accuracy=0.22, loss=3.68, step=4000]\n",
            "Valid: 100% 6944/6944 [00:21<00:00, 329.09 uttr/s, accuracy=0.32, loss=3.14]\n",
            "Train:   0% 1/2000 [00:00<06:59,  4.77 step/s, accuracy=0.31, loss=3.35, step=4001]"
          ]
        },
        {
          "metadata": {
            "tags": null
          },
          "name": "stdout",
          "output_type": "stream",
          "text": [
            "Step 4000, best model saved. (accuracy=0.3200)\n",
            "average loss = 3.3414       average accuracy = 0.2820)\n"
          ]
        },
        {
          "metadata": {
            "tags": null
          },
          "name": "stderr",
          "output_type": "stream",
          "text": [
            "Train:  50% 1001/2000 [01:46<01:55,  8.63 step/s, accuracy=0.38, loss=2.70, step=5001]"
          ]
        },
        {
          "metadata": {
            "tags": null
          },
          "name": "stdout",
          "output_type": "stream",
          "text": [
            "average loss = 3.0429       average accuracy = 0.3324)\n"
          ]
        },
        {
          "metadata": {
            "tags": null
          },
          "name": "stderr",
          "output_type": "stream",
          "text": [
            "Train: 100% 2000/2000 [03:40<00:00,  9.07 step/s, accuracy=0.47, loss=2.06, step=6000]\n",
            "Valid: 100% 6944/6944 [00:21<00:00, 316.01 uttr/s, accuracy=0.40, loss=2.71]\n",
            "Train:   0% 1/2000 [00:00<04:19,  7.70 step/s, accuracy=0.38, loss=2.85, step=6001]"
          ]
        },
        {
          "metadata": {
            "tags": null
          },
          "name": "stdout",
          "output_type": "stream",
          "text": [
            "average loss = 2.8517       average accuracy = 0.3678)\n"
          ]
        },
        {
          "metadata": {
            "tags": null
          },
          "name": "stderr",
          "output_type": "stream",
          "text": [
            "Train:  50% 1001/2000 [01:49<02:11,  7.60 step/s, accuracy=0.41, loss=2.30, step=7001]"
          ]
        },
        {
          "metadata": {
            "tags": null
          },
          "name": "stdout",
          "output_type": "stream",
          "text": [
            "average loss = 2.6474       average accuracy = 0.4042)\n"
          ]
        },
        {
          "metadata": {
            "tags": null
          },
          "name": "stderr",
          "output_type": "stream",
          "text": [
            "Train: 100% 2000/2000 [03:38<00:00,  9.14 step/s, accuracy=0.38, loss=2.89, step=8000]\n",
            "Valid: 100% 6944/6944 [00:21<00:00, 322.88 uttr/s, accuracy=0.44, loss=2.48]\n",
            "Train:   0% 1/2000 [00:00<05:58,  5.57 step/s, accuracy=0.50, loss=2.63, step=8001]"
          ]
        },
        {
          "metadata": {
            "tags": null
          },
          "name": "stdout",
          "output_type": "stream",
          "text": [
            "Step 8000, best model saved. (accuracy=0.4410)\n",
            "average loss = 2.4965       average accuracy = 0.4344)\n"
          ]
        },
        {
          "metadata": {
            "tags": null
          },
          "name": "stderr",
          "output_type": "stream",
          "text": [
            "Train:  50% 1001/2000 [01:48<01:56,  8.58 step/s, accuracy=0.53, loss=2.01, step=9001]"
          ]
        },
        {
          "metadata": {
            "tags": null
          },
          "name": "stdout",
          "output_type": "stream",
          "text": [
            "average loss = 2.2922       average accuracy = 0.4737)\n"
          ]
        },
        {
          "metadata": {
            "tags": null
          },
          "name": "stderr",
          "output_type": "stream",
          "text": [
            "Train: 100% 2000/2000 [03:38<00:00,  9.17 step/s, accuracy=0.44, loss=2.42, step=1e+4]\n",
            "Valid: 100% 6944/6944 [00:21<00:00, 318.81 uttr/s, accuracy=0.53, loss=2.06]\n",
            "Train:   0% 1/2000 [00:00<03:15, 10.23 step/s, accuracy=0.22, loss=2.83, step=1e+4]"
          ]
        },
        {
          "metadata": {
            "tags": null
          },
          "name": "stdout",
          "output_type": "stream",
          "text": [
            "average loss = 2.1753       average accuracy = 0.4966)\n"
          ]
        },
        {
          "metadata": {
            "tags": null
          },
          "name": "stderr",
          "output_type": "stream",
          "text": [
            "Train:  50% 1001/2000 [01:50<02:00,  8.30 step/s, accuracy=0.47, loss=2.31, step=11001]"
          ]
        },
        {
          "metadata": {
            "tags": null
          },
          "name": "stdout",
          "output_type": "stream",
          "text": [
            "average loss = 1.9985       average accuracy = 0.5333)\n"
          ]
        },
        {
          "metadata": {
            "tags": null
          },
          "name": "stderr",
          "output_type": "stream",
          "text": [
            "Train: 100% 2000/2000 [03:39<00:00,  9.12 step/s, accuracy=0.53, loss=2.40, step=12000]\n",
            "Valid: 100% 6944/6944 [00:22<00:00, 305.85 uttr/s, accuracy=0.56, loss=1.86]\n",
            "Train:   0% 1/2000 [00:00<06:58,  4.77 step/s, accuracy=0.47, loss=1.79, step=12001]"
          ]
        },
        {
          "metadata": {
            "tags": null
          },
          "name": "stdout",
          "output_type": "stream",
          "text": [
            "Step 12000, best model saved. (accuracy=0.5647)\n",
            "average loss = 1.8969       average accuracy = 0.5569)\n"
          ]
        },
        {
          "metadata": {
            "tags": null
          },
          "name": "stderr",
          "output_type": "stream",
          "text": [
            "Train:  50% 1001/2000 [01:54<02:24,  6.89 step/s, accuracy=0.50, loss=2.14, step=13001]"
          ]
        },
        {
          "metadata": {
            "tags": null
          },
          "name": "stdout",
          "output_type": "stream",
          "text": [
            "average loss = 1.7871       average accuracy = 0.5748)\n"
          ]
        },
        {
          "metadata": {
            "tags": null
          },
          "name": "stderr",
          "output_type": "stream",
          "text": [
            "Train: 100% 2000/2000 [03:41<00:00,  9.05 step/s, accuracy=0.59, loss=1.51, step=14000]\n",
            "Valid: 100% 6944/6944 [00:21<00:00, 316.17 uttr/s, accuracy=0.62, loss=1.65]\n",
            "Train:   0% 1/2000 [00:00<03:44,  8.89 step/s, accuracy=0.66, loss=1.17, step=14001]"
          ]
        },
        {
          "metadata": {
            "tags": null
          },
          "name": "stdout",
          "output_type": "stream",
          "text": [
            "average loss = 1.6774       average accuracy = 0.6019)\n"
          ]
        },
        {
          "metadata": {
            "tags": null
          },
          "name": "stderr",
          "output_type": "stream",
          "text": [
            "Train:  50% 1001/2000 [01:50<01:57,  8.51 step/s, accuracy=0.56, loss=1.97, step=15001]"
          ]
        },
        {
          "metadata": {
            "tags": null
          },
          "name": "stdout",
          "output_type": "stream",
          "text": [
            "average loss = 1.6239       average accuracy = 0.6093)\n"
          ]
        },
        {
          "metadata": {
            "tags": null
          },
          "name": "stderr",
          "output_type": "stream",
          "text": [
            "Train: 100% 2000/2000 [03:35<00:00,  9.29 step/s, accuracy=0.72, loss=1.34, step=16000]\n",
            "Valid: 100% 6944/6944 [00:21<00:00, 323.06 uttr/s, accuracy=0.64, loss=1.53]\n",
            "Train:   0% 1/2000 [00:00<05:58,  5.58 step/s, accuracy=0.62, loss=1.41, step=16001]"
          ]
        },
        {
          "metadata": {
            "tags": null
          },
          "name": "stdout",
          "output_type": "stream",
          "text": [
            "Step 16000, best model saved. (accuracy=0.6408)\n",
            "average loss = 1.5498       average accuracy = 0.6247)\n"
          ]
        },
        {
          "metadata": {
            "tags": null
          },
          "name": "stderr",
          "output_type": "stream",
          "text": [
            "Train:  50% 1001/2000 [01:53<01:55,  8.63 step/s, accuracy=0.66, loss=1.36, step=17001]"
          ]
        },
        {
          "metadata": {
            "tags": null
          },
          "name": "stdout",
          "output_type": "stream",
          "text": [
            "average loss = 1.4757       average accuracy = 0.6390)\n"
          ]
        },
        {
          "metadata": {
            "tags": null
          },
          "name": "stderr",
          "output_type": "stream",
          "text": [
            "Train: 100% 2000/2000 [03:36<00:00,  9.24 step/s, accuracy=0.81, loss=1.22, step=18000]\n",
            "Valid: 100% 6944/6944 [00:21<00:00, 323.96 uttr/s, accuracy=0.63, loss=1.59]\n",
            "Train:   0% 1/2000 [00:00<04:02,  8.25 step/s, accuracy=0.69, loss=1.58, step=18001]"
          ]
        },
        {
          "metadata": {
            "tags": null
          },
          "name": "stdout",
          "output_type": "stream",
          "text": [
            "average loss = 1.4187       average accuracy = 0.6570)\n"
          ]
        },
        {
          "metadata": {
            "tags": null
          },
          "name": "stderr",
          "output_type": "stream",
          "text": [
            "Train:  50% 1001/2000 [01:53<02:08,  7.78 step/s, accuracy=0.75, loss=1.25, step=19001]"
          ]
        },
        {
          "metadata": {
            "tags": null
          },
          "name": "stdout",
          "output_type": "stream",
          "text": [
            "average loss = 1.3745       average accuracy = 0.6642)\n"
          ]
        },
        {
          "metadata": {
            "tags": null
          },
          "name": "stderr",
          "output_type": "stream",
          "text": [
            "Train: 100% 2000/2000 [03:35<00:00,  9.27 step/s, accuracy=0.66, loss=1.21, step=2e+4]\n",
            "Valid: 100% 6944/6944 [00:21<00:00, 320.41 uttr/s, accuracy=0.67, loss=1.38]\n",
            "Train:   0% 1/2000 [00:00<07:30,  4.44 step/s, accuracy=0.78, loss=0.89, step=2e+4]"
          ]
        },
        {
          "metadata": {
            "tags": null
          },
          "name": "stdout",
          "output_type": "stream",
          "text": [
            "Step 20000, best model saved. (accuracy=0.6737)\n",
            "average loss = 1.3067       average accuracy = 0.6791)\n"
          ]
        },
        {
          "metadata": {
            "tags": null
          },
          "name": "stderr",
          "output_type": "stream",
          "text": [
            "Train:  50% 1001/2000 [01:54<02:02,  8.16 step/s, accuracy=0.53, loss=1.50, step=21001]"
          ]
        },
        {
          "metadata": {
            "tags": null
          },
          "name": "stdout",
          "output_type": "stream",
          "text": [
            "average loss = 1.2955       average accuracy = 0.6782)\n"
          ]
        },
        {
          "metadata": {
            "tags": null
          },
          "name": "stderr",
          "output_type": "stream",
          "text": [
            "Train: 100% 2000/2000 [03:34<00:00,  9.33 step/s, accuracy=0.81, loss=1.00, step=22000]\n",
            "Valid: 100% 6944/6944 [00:21<00:00, 315.90 uttr/s, accuracy=0.69, loss=1.31]\n",
            "Train:   0% 1/2000 [00:00<04:28,  7.43 step/s, accuracy=0.75, loss=1.38, step=22001]"
          ]
        },
        {
          "metadata": {
            "tags": null
          },
          "name": "stdout",
          "output_type": "stream",
          "text": [
            "average loss = 1.2424       average accuracy = 0.6940)\n"
          ]
        },
        {
          "metadata": {
            "tags": null
          },
          "name": "stderr",
          "output_type": "stream",
          "text": [
            "Train:  50% 1001/2000 [01:56<02:02,  8.14 step/s, accuracy=0.75, loss=1.44, step=23001]"
          ]
        },
        {
          "metadata": {
            "tags": null
          },
          "name": "stdout",
          "output_type": "stream",
          "text": [
            "average loss = 1.2180       average accuracy = 0.7003)\n"
          ]
        },
        {
          "metadata": {
            "tags": null
          },
          "name": "stderr",
          "output_type": "stream",
          "text": [
            "Train: 100% 2000/2000 [03:37<00:00,  9.17 step/s, accuracy=0.84, loss=0.58, step=24000]\n",
            "Valid: 100% 6944/6944 [00:22<00:00, 308.32 uttr/s, accuracy=0.68, loss=1.34]\n",
            "Train:   0% 1/2000 [00:00<06:08,  5.43 step/s, accuracy=0.66, loss=1.52, step=24001]"
          ]
        },
        {
          "metadata": {
            "tags": null
          },
          "name": "stdout",
          "output_type": "stream",
          "text": [
            "Step 24000, best model saved. (accuracy=0.6917)\n",
            "average loss = 1.1641       average accuracy = 0.7104)\n"
          ]
        },
        {
          "metadata": {
            "tags": null
          },
          "name": "stderr",
          "output_type": "stream",
          "text": [
            "Train:  50% 1001/2000 [01:57<02:10,  7.63 step/s, accuracy=0.72, loss=1.01, step=25001]"
          ]
        },
        {
          "metadata": {
            "tags": null
          },
          "name": "stdout",
          "output_type": "stream",
          "text": [
            "average loss = 1.1668       average accuracy = 0.7108)\n"
          ]
        },
        {
          "metadata": {
            "tags": null
          },
          "name": "stderr",
          "output_type": "stream",
          "text": [
            "Train: 100% 2000/2000 [03:36<00:00,  9.23 step/s, accuracy=0.69, loss=1.25, step=26000]\n",
            "Valid: 100% 6944/6944 [00:22<00:00, 308.09 uttr/s, accuracy=0.70, loss=1.23]\n",
            "Train:   0% 1/2000 [00:00<04:09,  8.01 step/s, accuracy=0.75, loss=1.15, step=26001]"
          ]
        },
        {
          "metadata": {
            "tags": null
          },
          "name": "stdout",
          "output_type": "stream",
          "text": [
            "average loss = 1.1026       average accuracy = 0.7225)\n"
          ]
        },
        {
          "metadata": {
            "tags": null
          },
          "name": "stderr",
          "output_type": "stream",
          "text": [
            "Train:  50% 1001/2000 [01:57<02:11,  7.59 step/s, accuracy=0.72, loss=1.00, step=27001]"
          ]
        },
        {
          "metadata": {
            "tags": null
          },
          "name": "stdout",
          "output_type": "stream",
          "text": [
            "average loss = 1.1089       average accuracy = 0.7200)\n"
          ]
        },
        {
          "metadata": {
            "tags": null
          },
          "name": "stderr",
          "output_type": "stream",
          "text": [
            "Train: 100% 2000/2000 [03:34<00:00,  9.32 step/s, accuracy=0.81, loss=1.01, step=28000]\n",
            "Valid: 100% 6944/6944 [00:22<00:00, 308.64 uttr/s, accuracy=0.71, loss=1.22]\n",
            "Train:   0% 1/2000 [00:00<07:09,  4.66 step/s, accuracy=0.75, loss=0.91, step=28001]"
          ]
        },
        {
          "metadata": {
            "tags": null
          },
          "name": "stdout",
          "output_type": "stream",
          "text": [
            "Step 28000, best model saved. (accuracy=0.7147)\n",
            "average loss = 1.0526       average accuracy = 0.7317)\n"
          ]
        },
        {
          "metadata": {
            "tags": null
          },
          "name": "stderr",
          "output_type": "stream",
          "text": [
            "Train:  50% 1001/2000 [01:59<02:07,  7.83 step/s, accuracy=0.81, loss=1.11, step=29001]"
          ]
        },
        {
          "metadata": {
            "tags": null
          },
          "name": "stdout",
          "output_type": "stream",
          "text": [
            "average loss = 1.0566       average accuracy = 0.7329)\n"
          ]
        },
        {
          "metadata": {
            "tags": null
          },
          "name": "stderr",
          "output_type": "stream",
          "text": [
            "Train: 100% 2000/2000 [03:36<00:00,  9.22 step/s, accuracy=0.84, loss=0.60, step=3e+4]\n",
            "Valid: 100% 6944/6944 [00:22<00:00, 305.89 uttr/s, accuracy=0.73, loss=1.15]\n",
            "Train:   0% 1/2000 [00:00<04:14,  7.85 step/s, accuracy=0.69, loss=0.97, step=3e+4]"
          ]
        },
        {
          "metadata": {
            "tags": null
          },
          "name": "stdout",
          "output_type": "stream",
          "text": [
            "average loss = 1.0081       average accuracy = 0.7421)\n"
          ]
        },
        {
          "metadata": {
            "tags": null
          },
          "name": "stderr",
          "output_type": "stream",
          "text": [
            "Train:  50% 1001/2000 [01:58<02:00,  8.28 step/s, accuracy=0.78, loss=1.21, step=31001]"
          ]
        },
        {
          "metadata": {
            "tags": null
          },
          "name": "stdout",
          "output_type": "stream",
          "text": [
            "average loss = 1.0113       average accuracy = 0.7429)\n"
          ]
        },
        {
          "metadata": {
            "tags": null
          },
          "name": "stderr",
          "output_type": "stream",
          "text": [
            "Train: 100% 2000/2000 [03:34<00:00,  9.32 step/s, accuracy=0.75, loss=0.72, step=32000]\n",
            "Valid: 100% 6944/6944 [00:22<00:00, 311.93 uttr/s, accuracy=0.71, loss=1.21]\n",
            "Train:   0% 1/2000 [00:00<06:46,  4.91 step/s, accuracy=0.75, loss=1.27, step=32001]"
          ]
        },
        {
          "metadata": {
            "tags": null
          },
          "name": "stdout",
          "output_type": "stream",
          "text": [
            "Step 32000, best model saved. (accuracy=0.7260)\n",
            "average loss = 0.9697       average accuracy = 0.7526)\n"
          ]
        },
        {
          "metadata": {
            "tags": null
          },
          "name": "stderr",
          "output_type": "stream",
          "text": [
            "Train:  50% 1001/2000 [01:57<01:59,  8.39 step/s, accuracy=0.69, loss=1.25, step=33001]"
          ]
        },
        {
          "metadata": {
            "tags": null
          },
          "name": "stdout",
          "output_type": "stream",
          "text": [
            "average loss = 0.9738       average accuracy = 0.7527)\n"
          ]
        },
        {
          "metadata": {
            "tags": null
          },
          "name": "stderr",
          "output_type": "stream",
          "text": [
            "Train: 100% 2000/2000 [03:32<00:00,  9.42 step/s, accuracy=0.81, loss=0.82, step=34000]\n",
            "Valid: 100% 6944/6944 [00:21<00:00, 317.79 uttr/s, accuracy=0.75, loss=1.08]\n",
            "Train:   0% 1/2000 [00:00<04:24,  7.55 step/s, accuracy=0.78, loss=0.78, step=34001]"
          ]
        },
        {
          "metadata": {
            "tags": null
          },
          "name": "stdout",
          "output_type": "stream",
          "text": [
            "average loss = 0.9009       average accuracy = 0.7678)\n"
          ]
        },
        {
          "metadata": {
            "tags": null
          },
          "name": "stderr",
          "output_type": "stream",
          "text": [
            "Train:  50% 1001/2000 [01:56<02:10,  7.65 step/s, accuracy=0.62, loss=1.51, step=35001]"
          ]
        },
        {
          "metadata": {
            "tags": null
          },
          "name": "stdout",
          "output_type": "stream",
          "text": [
            "average loss = 0.9428       average accuracy = 0.7599)\n"
          ]
        },
        {
          "metadata": {
            "tags": null
          },
          "name": "stderr",
          "output_type": "stream",
          "text": [
            "Train: 100% 2000/2000 [03:33<00:00,  9.38 step/s, accuracy=0.84, loss=0.72, step=36000]\n",
            "Valid: 100% 6944/6944 [00:23<00:00, 297.10 uttr/s, accuracy=0.75, loss=1.03]\n",
            "Train:   0% 1/2000 [00:00<07:11,  4.64 step/s, accuracy=0.84, loss=0.65, step=36001]"
          ]
        },
        {
          "metadata": {
            "tags": null
          },
          "name": "stdout",
          "output_type": "stream",
          "text": [
            "Step 36000, best model saved. (accuracy=0.7543)\n",
            "average loss = 0.8869       average accuracy = 0.7725)\n"
          ]
        },
        {
          "metadata": {
            "tags": null
          },
          "name": "stderr",
          "output_type": "stream",
          "text": [
            "Train:  50% 1001/2000 [01:58<01:51,  8.98 step/s, accuracy=0.84, loss=0.66, step=37001]"
          ]
        },
        {
          "metadata": {
            "tags": null
          },
          "name": "stdout",
          "output_type": "stream",
          "text": [
            "average loss = 0.9043       average accuracy = 0.7694)\n"
          ]
        },
        {
          "metadata": {
            "tags": null
          },
          "name": "stderr",
          "output_type": "stream",
          "text": [
            "Train: 100% 2000/2000 [03:31<00:00,  9.46 step/s, accuracy=0.78, loss=0.65, step=38000]\n",
            "Valid: 100% 6944/6944 [00:22<00:00, 308.53 uttr/s, accuracy=0.75, loss=1.03]\n",
            "Train:   0% 1/2000 [00:00<04:01,  8.28 step/s, accuracy=0.69, loss=0.86, step=38001]"
          ]
        },
        {
          "metadata": {
            "tags": null
          },
          "name": "stdout",
          "output_type": "stream",
          "text": [
            "average loss = 0.8427       average accuracy = 0.7825)\n"
          ]
        },
        {
          "metadata": {
            "tags": null
          },
          "name": "stderr",
          "output_type": "stream",
          "text": [
            "Train:  50% 1001/2000 [01:56<01:55,  8.62 step/s, accuracy=0.81, loss=0.61, step=39001]"
          ]
        },
        {
          "metadata": {
            "tags": null
          },
          "name": "stdout",
          "output_type": "stream",
          "text": [
            "average loss = 0.8785       average accuracy = 0.7733)\n"
          ]
        },
        {
          "metadata": {
            "tags": null
          },
          "name": "stderr",
          "output_type": "stream",
          "text": [
            "Train: 100% 2000/2000 [03:30<00:00,  9.51 step/s, accuracy=0.72, loss=0.84, step=4e+4]\n",
            "Valid: 100% 6944/6944 [00:22<00:00, 303.06 uttr/s, accuracy=0.77, loss=0.98]\n",
            "Train:   0% 1/2000 [00:00<06:47,  4.91 step/s, accuracy=0.91, loss=0.39, step=4e+4]"
          ]
        },
        {
          "metadata": {
            "tags": null
          },
          "name": "stdout",
          "output_type": "stream",
          "text": [
            "Step 40000, best model saved. (accuracy=0.7680)\n",
            "average loss = 0.8105       average accuracy = 0.7910)\n"
          ]
        },
        {
          "metadata": {
            "tags": null
          },
          "name": "stderr",
          "output_type": "stream",
          "text": [
            "Train:  50% 1001/2000 [01:56<01:24, 11.89 step/s, accuracy=0.84, loss=0.64, step=41001]"
          ]
        },
        {
          "metadata": {
            "tags": null
          },
          "name": "stdout",
          "output_type": "stream",
          "text": [
            "average loss = 0.8510       average accuracy = 0.7804)\n"
          ]
        },
        {
          "metadata": {
            "tags": null
          },
          "name": "stderr",
          "output_type": "stream",
          "text": [
            "Train: 100% 2000/2000 [03:30<00:00,  9.50 step/s, accuracy=0.78, loss=1.07, step=42000]\n",
            "Valid: 100% 6944/6944 [00:22<00:00, 313.38 uttr/s, accuracy=0.76, loss=0.98]\n",
            "Train:   0% 1/2000 [00:00<03:51,  8.64 step/s, accuracy=0.72, loss=1.23, step=42001]"
          ]
        },
        {
          "metadata": {
            "tags": null
          },
          "name": "stdout",
          "output_type": "stream",
          "text": [
            "average loss = 0.7805       average accuracy = 0.7972)\n"
          ]
        },
        {
          "metadata": {
            "tags": null
          },
          "name": "stderr",
          "output_type": "stream",
          "text": [
            "Train:  50% 1001/2000 [01:54<01:15, 13.23 step/s, accuracy=0.84, loss=0.75, step=43001]"
          ]
        },
        {
          "metadata": {
            "tags": null
          },
          "name": "stdout",
          "output_type": "stream",
          "text": [
            "average loss = 0.8123       average accuracy = 0.7919)\n"
          ]
        },
        {
          "metadata": {
            "tags": null
          },
          "name": "stderr",
          "output_type": "stream",
          "text": [
            "Train: 100% 2000/2000 [03:27<00:00,  9.64 step/s, accuracy=0.94, loss=0.29, step=44000]\n",
            "Valid: 100% 6944/6944 [00:22<00:00, 309.31 uttr/s, accuracy=0.76, loss=0.99]\n",
            "Train:   0% 1/2000 [00:00<06:50,  4.87 step/s, accuracy=0.97, loss=0.23, step=44001]"
          ]
        },
        {
          "metadata": {
            "tags": null
          },
          "name": "stdout",
          "output_type": "stream",
          "text": [
            "Step 44000, best model saved. (accuracy=0.7680)\n",
            "average loss = 0.7598       average accuracy = 0.7999)\n"
          ]
        },
        {
          "metadata": {
            "tags": null
          },
          "name": "stderr",
          "output_type": "stream",
          "text": [
            "Train:  50% 1001/2000 [01:53<01:18, 12.67 step/s, accuracy=0.72, loss=0.91, step=45001]"
          ]
        },
        {
          "metadata": {
            "tags": null
          },
          "name": "stdout",
          "output_type": "stream",
          "text": [
            "average loss = 0.7882       average accuracy = 0.7942)\n"
          ]
        },
        {
          "metadata": {
            "tags": null
          },
          "name": "stderr",
          "output_type": "stream",
          "text": [
            "Train: 100% 2000/2000 [03:29<00:00,  9.55 step/s, accuracy=0.78, loss=0.92, step=46000]\n",
            "Valid: 100% 6944/6944 [00:21<00:00, 316.92 uttr/s, accuracy=0.77, loss=0.97]\n",
            "Train:   0% 1/2000 [00:00<04:18,  7.74 step/s, accuracy=0.91, loss=0.37, step=46001]"
          ]
        },
        {
          "metadata": {
            "tags": null
          },
          "name": "stdout",
          "output_type": "stream",
          "text": [
            "average loss = 0.7500       average accuracy = 0.8041)\n"
          ]
        },
        {
          "metadata": {
            "tags": null
          },
          "name": "stderr",
          "output_type": "stream",
          "text": [
            "Train:  50% 1001/2000 [01:49<01:25, 11.68 step/s, accuracy=0.78, loss=0.80, step=47001]"
          ]
        },
        {
          "metadata": {
            "tags": null
          },
          "name": "stdout",
          "output_type": "stream",
          "text": [
            "average loss = 0.7611       average accuracy = 0.8030)\n"
          ]
        },
        {
          "metadata": {
            "tags": null
          },
          "name": "stderr",
          "output_type": "stream",
          "text": [
            "Train: 100% 2000/2000 [03:27<00:00,  9.64 step/s, accuracy=0.81, loss=0.60, step=48000]\n",
            "Valid: 100% 6944/6944 [00:21<00:00, 319.10 uttr/s, accuracy=0.77, loss=0.96]\n",
            "Train:   0% 1/2000 [00:00<07:21,  4.53 step/s, accuracy=0.75, loss=0.78, step=48001]"
          ]
        },
        {
          "metadata": {
            "tags": null
          },
          "name": "stdout",
          "output_type": "stream",
          "text": [
            "Step 48000, best model saved. (accuracy=0.7730)\n",
            "average loss = 0.7122       average accuracy = 0.8139)\n"
          ]
        },
        {
          "metadata": {
            "tags": null
          },
          "name": "stderr",
          "output_type": "stream",
          "text": [
            "Train:  50% 1001/2000 [01:49<01:18, 12.76 step/s, accuracy=0.88, loss=0.47, step=49001]"
          ]
        },
        {
          "metadata": {
            "tags": null
          },
          "name": "stdout",
          "output_type": "stream",
          "text": [
            "average loss = 0.7482       average accuracy = 0.8052)\n"
          ]
        },
        {
          "metadata": {
            "tags": null
          },
          "name": "stderr",
          "output_type": "stream",
          "text": [
            "Train: 100% 2000/2000 [03:26<00:00,  9.67 step/s, accuracy=0.81, loss=0.73, step=5e+4]\n",
            "Valid: 100% 6944/6944 [00:21<00:00, 325.59 uttr/s, accuracy=0.78, loss=0.92]\n",
            "Train:   0% 1/2000 [00:00<04:12,  7.93 step/s, accuracy=0.91, loss=0.55, step=5e+4]"
          ]
        },
        {
          "metadata": {
            "tags": null
          },
          "name": "stdout",
          "output_type": "stream",
          "text": [
            "average loss = 0.7111       average accuracy = 0.8126)\n"
          ]
        },
        {
          "metadata": {
            "tags": null
          },
          "name": "stderr",
          "output_type": "stream",
          "text": [
            "Train:  50% 1001/2000 [01:47<01:21, 12.19 step/s, accuracy=0.84, loss=0.80, step=51001]"
          ]
        },
        {
          "metadata": {
            "tags": null
          },
          "name": "stdout",
          "output_type": "stream",
          "text": [
            "average loss = 0.6913       average accuracy = 0.8183)\n"
          ]
        },
        {
          "metadata": {
            "tags": null
          },
          "name": "stderr",
          "output_type": "stream",
          "text": [
            "Train: 100% 2000/2000 [03:27<00:00,  9.63 step/s, accuracy=0.84, loss=0.60, step=52000]\n",
            "Valid: 100% 6944/6944 [00:22<00:00, 313.94 uttr/s, accuracy=0.77, loss=0.97]\n",
            "Train:   0% 1/2000 [00:00<06:28,  5.14 step/s, accuracy=0.84, loss=0.54, step=52001]"
          ]
        },
        {
          "metadata": {
            "tags": null
          },
          "name": "stdout",
          "output_type": "stream",
          "text": [
            "Step 52000, best model saved. (accuracy=0.7788)\n",
            "average loss = 0.6923       average accuracy = 0.8175)\n"
          ]
        },
        {
          "metadata": {
            "tags": null
          },
          "name": "stderr",
          "output_type": "stream",
          "text": [
            "Train:  50% 1001/2000 [01:46<01:20, 12.36 step/s, accuracy=0.84, loss=0.53, step=53001]"
          ]
        },
        {
          "metadata": {
            "tags": null
          },
          "name": "stdout",
          "output_type": "stream",
          "text": [
            "average loss = 0.6909       average accuracy = 0.8179)\n"
          ]
        },
        {
          "metadata": {
            "tags": null
          },
          "name": "stderr",
          "output_type": "stream",
          "text": [
            "Train: 100% 2000/2000 [03:28<00:00,  9.59 step/s, accuracy=0.69, loss=0.97, step=54000]\n",
            "Valid: 100% 6944/6944 [00:22<00:00, 312.75 uttr/s, accuracy=0.78, loss=0.89]\n",
            "Train:   0% 1/2000 [00:00<04:52,  6.83 step/s, accuracy=0.91, loss=0.37, step=54001]"
          ]
        },
        {
          "metadata": {
            "tags": null
          },
          "name": "stdout",
          "output_type": "stream",
          "text": [
            "average loss = 0.6721       average accuracy = 0.8199)\n"
          ]
        },
        {
          "metadata": {
            "tags": null
          },
          "name": "stderr",
          "output_type": "stream",
          "text": [
            "Train:  50% 1001/2000 [01:45<01:34, 10.56 step/s, accuracy=0.94, loss=0.32, step=55001]"
          ]
        },
        {
          "metadata": {
            "tags": null
          },
          "name": "stdout",
          "output_type": "stream",
          "text": [
            "average loss = 0.6645       average accuracy = 0.8230)\n"
          ]
        },
        {
          "metadata": {
            "tags": null
          },
          "name": "stderr",
          "output_type": "stream",
          "text": [
            "Train: 100% 2000/2000 [03:26<00:00,  9.70 step/s, accuracy=0.91, loss=0.39, step=56000]\n",
            "Valid: 100% 6944/6944 [00:22<00:00, 309.91 uttr/s, accuracy=0.79, loss=0.89]\n",
            "Train:   0% 1/2000 [00:00<07:19,  4.54 step/s, accuracy=0.84, loss=0.62, step=56001]"
          ]
        },
        {
          "metadata": {
            "tags": null
          },
          "name": "stdout",
          "output_type": "stream",
          "text": [
            "Step 56000, best model saved. (accuracy=0.7854)\n",
            "average loss = 0.6564       average accuracy = 0.8252)\n"
          ]
        },
        {
          "metadata": {
            "tags": null
          },
          "name": "stderr",
          "output_type": "stream",
          "text": [
            "Train:  50% 1001/2000 [01:46<01:22, 12.09 step/s, accuracy=0.88, loss=0.52, step=57001]"
          ]
        },
        {
          "metadata": {
            "tags": null
          },
          "name": "stdout",
          "output_type": "stream",
          "text": [
            "average loss = 0.6428       average accuracy = 0.8278)\n"
          ]
        },
        {
          "metadata": {
            "tags": null
          },
          "name": "stderr",
          "output_type": "stream",
          "text": [
            "Train: 100% 2000/2000 [03:34<00:00,  9.34 step/s, accuracy=0.84, loss=0.51, step=58000]\n",
            "Valid: 100% 6944/6944 [00:22<00:00, 308.66 uttr/s, accuracy=0.80, loss=0.84]\n",
            "Train:   0% 1/2000 [00:00<04:30,  7.39 step/s, accuracy=0.84, loss=0.45, step=58001]"
          ]
        },
        {
          "metadata": {
            "tags": null
          },
          "name": "stdout",
          "output_type": "stream",
          "text": [
            "average loss = 0.6533       average accuracy = 0.8267)\n"
          ]
        },
        {
          "metadata": {
            "tags": null
          },
          "name": "stderr",
          "output_type": "stream",
          "text": [
            "Train:  50% 1001/2000 [01:44<01:25, 11.63 step/s, accuracy=0.84, loss=0.42, step=59001]"
          ]
        },
        {
          "metadata": {
            "tags": null
          },
          "name": "stdout",
          "output_type": "stream",
          "text": [
            "average loss = 0.6231       average accuracy = 0.8333)\n"
          ]
        },
        {
          "metadata": {
            "tags": null
          },
          "name": "stderr",
          "output_type": "stream",
          "text": [
            "Train: 100% 2000/2000 [03:32<00:00,  9.39 step/s, accuracy=0.81, loss=0.47, step=6e+4]\n",
            "Valid: 100% 6944/6944 [00:22<00:00, 301.95 uttr/s, accuracy=0.79, loss=0.88]\n",
            "Train:   0% 1/2000 [00:00<07:05,  4.70 step/s, accuracy=0.91, loss=0.41, step=6e+4]"
          ]
        },
        {
          "metadata": {
            "tags": null
          },
          "name": "stdout",
          "output_type": "stream",
          "text": [
            "Step 60000, best model saved. (accuracy=0.8011)\n",
            "average loss = 0.6153       average accuracy = 0.8357)\n"
          ]
        },
        {
          "metadata": {
            "tags": null
          },
          "name": "stderr",
          "output_type": "stream",
          "text": [
            "Train:  50% 1001/2000 [01:45<01:35, 10.49 step/s, accuracy=0.84, loss=0.52, step=61001]"
          ]
        },
        {
          "metadata": {
            "tags": null
          },
          "name": "stdout",
          "output_type": "stream",
          "text": [
            "average loss = 0.5988       average accuracy = 0.8418)\n"
          ]
        },
        {
          "metadata": {
            "tags": null
          },
          "name": "stderr",
          "output_type": "stream",
          "text": [
            "Train: 100% 2000/2000 [03:33<00:00,  9.35 step/s, accuracy=0.91, loss=0.41, step=62000]\n",
            "Valid: 100% 6944/6944 [00:22<00:00, 304.03 uttr/s, accuracy=0.81, loss=0.82]\n",
            "Train:   0% 1/2000 [00:00<04:08,  8.05 step/s, accuracy=0.75, loss=0.82, step=62001]"
          ]
        },
        {
          "metadata": {
            "tags": null
          },
          "name": "stdout",
          "output_type": "stream",
          "text": [
            "average loss = 0.6124       average accuracy = 0.8370)\n"
          ]
        },
        {
          "metadata": {
            "tags": null
          },
          "name": "stderr",
          "output_type": "stream",
          "text": [
            "Train:  50% 1001/2000 [01:44<01:32, 10.80 step/s, accuracy=0.81, loss=0.48, step=63001]"
          ]
        },
        {
          "metadata": {
            "tags": null
          },
          "name": "stdout",
          "output_type": "stream",
          "text": [
            "average loss = 0.5990       average accuracy = 0.8393)\n"
          ]
        },
        {
          "metadata": {
            "tags": null
          },
          "name": "stderr",
          "output_type": "stream",
          "text": [
            "Train: 100% 2000/2000 [03:37<00:00,  9.19 step/s, accuracy=0.84, loss=0.33, step=64000]\n",
            "Valid: 100% 6944/6944 [00:22<00:00, 312.12 uttr/s, accuracy=0.81, loss=0.81]\n",
            "Train:   0% 1/2000 [00:00<07:38,  4.36 step/s, accuracy=0.91, loss=0.41, step=64001]"
          ]
        },
        {
          "metadata": {
            "tags": null
          },
          "name": "stdout",
          "output_type": "stream",
          "text": [
            "Step 64000, best model saved. (accuracy=0.8069)\n",
            "average loss = 0.5981       average accuracy = 0.8417)\n"
          ]
        },
        {
          "metadata": {
            "tags": null
          },
          "name": "stderr",
          "output_type": "stream",
          "text": [
            "Train:  50% 1001/2000 [01:40<01:37, 10.21 step/s, accuracy=0.84, loss=0.76, step=65001]"
          ]
        },
        {
          "metadata": {
            "tags": null
          },
          "name": "stdout",
          "output_type": "stream",
          "text": [
            "average loss = 0.5601       average accuracy = 0.8499)\n"
          ]
        },
        {
          "metadata": {
            "tags": null
          },
          "name": "stderr",
          "output_type": "stream",
          "text": [
            "Train: 100% 2000/2000 [03:31<00:00,  9.45 step/s, accuracy=0.81, loss=0.75, step=66000]\n",
            "Valid: 100% 6944/6944 [00:21<00:00, 319.58 uttr/s, accuracy=0.81, loss=0.80]\n",
            "Train:   0% 1/2000 [00:00<04:24,  7.56 step/s, accuracy=0.88, loss=0.42, step=66001]"
          ]
        },
        {
          "metadata": {
            "tags": null
          },
          "name": "stdout",
          "output_type": "stream",
          "text": [
            "average loss = 0.5826       average accuracy = 0.8442)\n"
          ]
        },
        {
          "metadata": {
            "tags": null
          },
          "name": "stderr",
          "output_type": "stream",
          "text": [
            "Train:  50% 1001/2000 [01:40<01:34, 10.54 step/s, accuracy=0.94, loss=0.26, step=67001]"
          ]
        },
        {
          "metadata": {
            "tags": null
          },
          "name": "stdout",
          "output_type": "stream",
          "text": [
            "average loss = 0.5456       average accuracy = 0.8548)\n"
          ]
        },
        {
          "metadata": {
            "tags": null
          },
          "name": "stderr",
          "output_type": "stream",
          "text": [
            "Train: 100% 2000/2000 [03:30<00:00,  9.49 step/s, accuracy=0.78, loss=0.81, step=68000]\n",
            "Valid: 100% 6944/6944 [00:21<00:00, 315.69 uttr/s, accuracy=0.80, loss=0.81]\n",
            "Train:   0% 1/2000 [00:00<07:07,  4.68 step/s, accuracy=0.91, loss=0.42, step=68001]"
          ]
        },
        {
          "metadata": {
            "tags": null
          },
          "name": "stdout",
          "output_type": "stream",
          "text": [
            "Step 68000, best model saved. (accuracy=0.8095)\n",
            "average loss = 0.5598       average accuracy = 0.8500)\n"
          ]
        },
        {
          "metadata": {
            "tags": null
          },
          "name": "stderr",
          "output_type": "stream",
          "text": [
            "Train:  50% 1001/2000 [01:42<01:40,  9.93 step/s, accuracy=0.84, loss=0.47, step=69001]"
          ]
        },
        {
          "metadata": {
            "tags": null
          },
          "name": "stdout",
          "output_type": "stream",
          "text": [
            "average loss = 0.5368       average accuracy = 0.8566)\n"
          ]
        },
        {
          "metadata": {
            "tags": null
          },
          "name": "stderr",
          "output_type": "stream",
          "text": [
            "Train: 100% 2000/2000 [03:35<00:00,  9.26 step/s, accuracy=0.84, loss=0.55, step=7e+4]\n",
            "Valid: 100% 6944/6944 [00:21<00:00, 319.36 uttr/s, accuracy=0.81, loss=0.80]\n",
            "Train:   0% 1/2000 [00:00<04:19,  7.69 step/s, accuracy=0.84, loss=0.78, step=7e+4]"
          ]
        },
        {
          "metadata": {
            "tags": null
          },
          "name": "stdout",
          "output_type": "stream",
          "text": [
            "average loss = 0.5394       average accuracy = 0.8562)\n"
          ]
        },
        {
          "metadata": {
            "tags": null
          },
          "name": "stderr",
          "output_type": "stream",
          "text": [
            "Train:  50% 1001/2000 [01:40<01:55,  8.69 step/s, accuracy=0.78, loss=0.47, step=71001]"
          ]
        },
        {
          "metadata": {
            "tags": null
          },
          "name": "stdout",
          "output_type": "stream",
          "text": [
            "average loss = 0.5267       average accuracy = 0.8578)\n"
          ]
        },
        {
          "metadata": {
            "tags": null
          },
          "name": "stderr",
          "output_type": "stream",
          "text": [
            "Train: 100% 2000/2000 [03:34<00:00,  9.32 step/s, accuracy=0.84, loss=0.51, step=72000]\n",
            "Valid: 100% 6944/6944 [00:21<00:00, 329.88 uttr/s, accuracy=0.81, loss=0.82]\n",
            "Train:   0% 1/2000 [00:00<06:47,  4.91 step/s, accuracy=0.81, loss=0.64, step=72001]"
          ]
        },
        {
          "metadata": {
            "tags": null
          },
          "name": "stdout",
          "output_type": "stream",
          "text": [
            "Step 72000, best model saved. (accuracy=0.8095)\n",
            "average loss = 0.5356       average accuracy = 0.8553)\n"
          ]
        },
        {
          "metadata": {
            "tags": null
          },
          "name": "stderr",
          "output_type": "stream",
          "text": [
            "Train:  50% 1001/2000 [01:41<01:40,  9.97 step/s, accuracy=0.81, loss=0.56, step=73001]"
          ]
        },
        {
          "metadata": {
            "tags": null
          },
          "name": "stdout",
          "output_type": "stream",
          "text": [
            "average loss = 0.5037       average accuracy = 0.8645)\n"
          ]
        },
        {
          "metadata": {
            "tags": null
          },
          "name": "stderr",
          "output_type": "stream",
          "text": [
            "Train: 100% 2000/2000 [03:36<00:00,  9.24 step/s, accuracy=0.78, loss=0.70, step=74000]\n",
            "Valid: 100% 6944/6944 [00:22<00:00, 308.06 uttr/s, accuracy=0.81, loss=0.83]\n",
            "Train:   0% 1/2000 [00:00<04:37,  7.21 step/s, accuracy=0.94, loss=0.43, step=74001]"
          ]
        },
        {
          "metadata": {
            "tags": null
          },
          "name": "stdout",
          "output_type": "stream",
          "text": [
            "average loss = 0.5233       average accuracy = 0.8568)\n"
          ]
        },
        {
          "metadata": {
            "tags": null
          },
          "name": "stderr",
          "output_type": "stream",
          "text": [
            "Train:  50% 1001/2000 [01:41<01:52,  8.86 step/s, accuracy=0.88, loss=0.68, step=75001]"
          ]
        },
        {
          "metadata": {
            "tags": null
          },
          "name": "stdout",
          "output_type": "stream",
          "text": [
            "average loss = 0.4914       average accuracy = 0.8668)\n"
          ]
        },
        {
          "metadata": {
            "tags": null
          },
          "name": "stderr",
          "output_type": "stream",
          "text": [
            "Train: 100% 2000/2000 [03:38<00:00,  9.17 step/s, accuracy=0.88, loss=0.35, step=76000]\n",
            "Valid: 100% 6944/6944 [00:21<00:00, 323.12 uttr/s, accuracy=0.81, loss=0.78]\n",
            "Train:   0% 1/2000 [00:00<06:57,  4.78 step/s, accuracy=0.84, loss=0.44, step=76001]"
          ]
        },
        {
          "metadata": {
            "tags": null
          },
          "name": "stdout",
          "output_type": "stream",
          "text": [
            "Step 76000, best model saved. (accuracy=0.8102)\n",
            "average loss = 0.4965       average accuracy = 0.8648)\n"
          ]
        },
        {
          "metadata": {
            "tags": null
          },
          "name": "stderr",
          "output_type": "stream",
          "text": [
            "Train:  50% 1001/2000 [01:42<01:52,  8.88 step/s, accuracy=0.91, loss=0.33, step=77001]"
          ]
        },
        {
          "metadata": {
            "tags": null
          },
          "name": "stdout",
          "output_type": "stream",
          "text": [
            "average loss = 0.4794       average accuracy = 0.8699)\n"
          ]
        },
        {
          "metadata": {
            "tags": null
          },
          "name": "stderr",
          "output_type": "stream",
          "text": [
            "Train: 100% 2000/2000 [03:38<00:00,  9.14 step/s, accuracy=0.91, loss=0.22, step=78000]\n",
            "Valid: 100% 6944/6944 [00:21<00:00, 325.71 uttr/s, accuracy=0.82, loss=0.74]\n",
            "Train:   0% 1/2000 [00:00<04:52,  6.84 step/s, accuracy=0.84, loss=0.41, step=78001]"
          ]
        },
        {
          "metadata": {
            "tags": null
          },
          "name": "stdout",
          "output_type": "stream",
          "text": [
            "average loss = 0.4974       average accuracy = 0.8645)\n"
          ]
        },
        {
          "metadata": {
            "tags": null
          },
          "name": "stderr",
          "output_type": "stream",
          "text": [
            "Train:  50% 1001/2000 [01:42<02:03,  8.10 step/s, accuracy=0.94, loss=0.28, step=79001]"
          ]
        },
        {
          "metadata": {
            "tags": null
          },
          "name": "stdout",
          "output_type": "stream",
          "text": [
            "average loss = 0.4582       average accuracy = 0.8753)\n"
          ]
        },
        {
          "metadata": {
            "tags": null
          },
          "name": "stderr",
          "output_type": "stream",
          "text": [
            "Train: 100% 2000/2000 [03:37<00:00,  9.21 step/s, accuracy=0.91, loss=0.22, step=8e+4]\n",
            "Valid: 100% 6944/6944 [00:20<00:00, 332.21 uttr/s, accuracy=0.83, loss=0.70]\n",
            "Train:   0% 1/2000 [00:00<06:16,  5.31 step/s, accuracy=0.91, loss=0.56, step=8e+4]"
          ]
        },
        {
          "metadata": {
            "tags": null
          },
          "name": "stdout",
          "output_type": "stream",
          "text": [
            "Step 80000, best model saved. (accuracy=0.8257)\n",
            "average loss = 0.4770       average accuracy = 0.8700)\n"
          ]
        },
        {
          "metadata": {
            "tags": null
          },
          "name": "stderr",
          "output_type": "stream",
          "text": [
            "Train:  50% 1001/2000 [01:41<02:03,  8.07 step/s, accuracy=0.94, loss=0.25, step=81001]"
          ]
        },
        {
          "metadata": {
            "tags": null
          },
          "name": "stdout",
          "output_type": "stream",
          "text": [
            "average loss = 0.4488       average accuracy = 0.8787)\n"
          ]
        },
        {
          "metadata": {
            "tags": null
          },
          "name": "stderr",
          "output_type": "stream",
          "text": [
            "Train: 100% 2000/2000 [03:36<00:00,  9.23 step/s, accuracy=0.88, loss=0.46, step=82000]\n",
            "Valid: 100% 6944/6944 [00:22<00:00, 314.73 uttr/s, accuracy=0.83, loss=0.74]\n",
            "Train:   0% 1/2000 [00:00<04:50,  6.88 step/s, accuracy=0.91, loss=0.37, step=82001]"
          ]
        },
        {
          "metadata": {
            "tags": null
          },
          "name": "stdout",
          "output_type": "stream",
          "text": [
            "average loss = 0.4815       average accuracy = 0.8692)\n"
          ]
        },
        {
          "metadata": {
            "tags": null
          },
          "name": "stderr",
          "output_type": "stream",
          "text": [
            "Train:  50% 1001/2000 [01:42<02:13,  7.50 step/s, accuracy=0.81, loss=0.77, step=83001]"
          ]
        },
        {
          "metadata": {
            "tags": null
          },
          "name": "stdout",
          "output_type": "stream",
          "text": [
            "average loss = 0.4211       average accuracy = 0.8845)\n"
          ]
        },
        {
          "metadata": {
            "tags": null
          },
          "name": "stderr",
          "output_type": "stream",
          "text": [
            "Train: 100% 2000/2000 [03:35<00:00,  9.26 step/s, accuracy=0.78, loss=0.49, step=84000]\n",
            "Valid: 100% 6944/6944 [00:21<00:00, 329.50 uttr/s, accuracy=0.82, loss=0.76]\n",
            "Train:   0% 1/2000 [00:00<07:23,  4.51 step/s, accuracy=0.94, loss=0.27, step=84001]"
          ]
        },
        {
          "metadata": {
            "tags": null
          },
          "name": "stdout",
          "output_type": "stream",
          "text": [
            "Step 84000, best model saved. (accuracy=0.8257)\n",
            "average loss = 0.4516       average accuracy = 0.8766)\n"
          ]
        },
        {
          "metadata": {
            "tags": null
          },
          "name": "stderr",
          "output_type": "stream",
          "text": [
            "Train:  50% 1001/2000 [01:43<02:02,  8.16 step/s, accuracy=0.94, loss=0.31, step=85001]"
          ]
        },
        {
          "metadata": {
            "tags": null
          },
          "name": "stdout",
          "output_type": "stream",
          "text": [
            "average loss = 0.4315       average accuracy = 0.8800)\n"
          ]
        },
        {
          "metadata": {
            "tags": null
          },
          "name": "stderr",
          "output_type": "stream",
          "text": [
            "Train: 100% 2000/2000 [03:35<00:00,  9.27 step/s, accuracy=0.84, loss=0.80, step=86000]\n",
            "Valid: 100% 6944/6944 [00:21<00:00, 327.96 uttr/s, accuracy=0.83, loss=0.72]\n",
            "Train:   0% 1/2000 [00:00<03:42,  9.00 step/s, accuracy=0.91, loss=0.26, step=86001]"
          ]
        },
        {
          "metadata": {
            "tags": null
          },
          "name": "stdout",
          "output_type": "stream",
          "text": [
            "average loss = 0.4403       average accuracy = 0.8792)\n"
          ]
        },
        {
          "metadata": {
            "tags": null
          },
          "name": "stderr",
          "output_type": "stream",
          "text": [
            "Train:  50% 1001/2000 [01:46<02:02,  8.12 step/s, accuracy=0.91, loss=0.36, step=87001]"
          ]
        },
        {
          "metadata": {
            "tags": null
          },
          "name": "stdout",
          "output_type": "stream",
          "text": [
            "average loss = 0.4050       average accuracy = 0.8899)\n"
          ]
        },
        {
          "metadata": {
            "tags": null
          },
          "name": "stderr",
          "output_type": "stream",
          "text": [
            "Train: 100% 2000/2000 [03:38<00:00,  9.17 step/s, accuracy=0.81, loss=0.66, step=88000]\n",
            "Valid: 100% 6944/6944 [00:21<00:00, 318.13 uttr/s, accuracy=0.85, loss=0.67]\n",
            "Train:   0% 1/2000 [00:00<06:07,  5.44 step/s, accuracy=0.75, loss=0.79, step=88001]"
          ]
        },
        {
          "metadata": {
            "tags": null
          },
          "name": "stdout",
          "output_type": "stream",
          "text": [
            "Step 88000, best model saved. (accuracy=0.8468)\n",
            "average loss = 0.4255       average accuracy = 0.8827)\n"
          ]
        },
        {
          "metadata": {
            "tags": null
          },
          "name": "stderr",
          "output_type": "stream",
          "text": [
            "Train:  50% 1001/2000 [01:48<02:10,  7.65 step/s, accuracy=0.91, loss=0.38, step=89001]"
          ]
        },
        {
          "metadata": {
            "tags": null
          },
          "name": "stdout",
          "output_type": "stream",
          "text": [
            "average loss = 0.3912       average accuracy = 0.8935)\n"
          ]
        },
        {
          "metadata": {
            "tags": null
          },
          "name": "stderr",
          "output_type": "stream",
          "text": [
            "Train: 100% 2000/2000 [03:41<00:00,  9.02 step/s, accuracy=0.91, loss=0.44, step=9e+4]\n",
            "Valid: 100% 6944/6944 [00:23<00:00, 301.81 uttr/s, accuracy=0.84, loss=0.70]\n",
            "Train:   0% 1/2000 [00:00<03:42,  9.00 step/s, accuracy=0.81, loss=0.79, step=9e+4]"
          ]
        },
        {
          "metadata": {
            "tags": null
          },
          "name": "stdout",
          "output_type": "stream",
          "text": [
            "average loss = 0.4123       average accuracy = 0.8868)\n"
          ]
        },
        {
          "metadata": {
            "tags": null
          },
          "name": "stderr",
          "output_type": "stream",
          "text": [
            "Train:  50% 1001/2000 [01:49<02:03,  8.07 step/s, accuracy=0.88, loss=0.42, step=91001]"
          ]
        },
        {
          "metadata": {
            "tags": null
          },
          "name": "stdout",
          "output_type": "stream",
          "text": [
            "average loss = 0.3992       average accuracy = 0.8904)\n"
          ]
        },
        {
          "metadata": {
            "tags": null
          },
          "name": "stderr",
          "output_type": "stream",
          "text": [
            "Train: 100% 2000/2000 [03:39<00:00,  9.11 step/s, accuracy=0.91, loss=0.33, step=92000]\n",
            "Valid: 100% 6944/6944 [00:21<00:00, 316.91 uttr/s, accuracy=0.84, loss=0.69]\n",
            "Train:   0% 1/2000 [00:00<06:00,  5.54 step/s, accuracy=0.84, loss=0.64, step=92001]"
          ]
        },
        {
          "metadata": {
            "tags": null
          },
          "name": "stdout",
          "output_type": "stream",
          "text": [
            "Step 92000, best model saved. (accuracy=0.8468)\n",
            "average loss = 0.3875       average accuracy = 0.8942)\n"
          ]
        },
        {
          "metadata": {
            "tags": null
          },
          "name": "stderr",
          "output_type": "stream",
          "text": [
            "Train:  50% 1001/2000 [01:50<02:11,  7.57 step/s, accuracy=0.91, loss=0.32, step=93001]"
          ]
        },
        {
          "metadata": {
            "tags": null
          },
          "name": "stdout",
          "output_type": "stream",
          "text": [
            "average loss = 0.3775       average accuracy = 0.8974)\n"
          ]
        },
        {
          "metadata": {
            "tags": null
          },
          "name": "stderr",
          "output_type": "stream",
          "text": [
            "Train: 100% 2000/2000 [03:37<00:00,  9.18 step/s, accuracy=0.91, loss=0.45, step=94000]\n",
            "Valid: 100% 6944/6944 [00:21<00:00, 316.33 uttr/s, accuracy=0.84, loss=0.71]\n",
            "Train:   0% 1/2000 [00:00<04:09,  8.02 step/s, accuracy=0.88, loss=0.34, step=94001]"
          ]
        },
        {
          "metadata": {
            "tags": null
          },
          "name": "stdout",
          "output_type": "stream",
          "text": [
            "average loss = 0.3872       average accuracy = 0.8935)\n"
          ]
        },
        {
          "metadata": {
            "tags": null
          },
          "name": "stderr",
          "output_type": "stream",
          "text": [
            "Train:  50% 1001/2000 [01:52<02:03,  8.07 step/s, accuracy=0.84, loss=0.58, step=95001]"
          ]
        },
        {
          "metadata": {
            "tags": null
          },
          "name": "stdout",
          "output_type": "stream",
          "text": [
            "average loss = 0.3649       average accuracy = 0.8993)\n"
          ]
        },
        {
          "metadata": {
            "tags": null
          },
          "name": "stderr",
          "output_type": "stream",
          "text": [
            "Train: 100% 2000/2000 [03:38<00:00,  9.15 step/s, accuracy=0.88, loss=0.54, step=96000]\n",
            "Valid: 100% 6944/6944 [00:22<00:00, 314.94 uttr/s, accuracy=0.84, loss=0.69]\n",
            "Train:   0% 1/2000 [00:00<06:32,  5.09 step/s, accuracy=0.91, loss=0.39, step=96001]"
          ]
        },
        {
          "metadata": {
            "tags": null
          },
          "name": "stdout",
          "output_type": "stream",
          "text": [
            "Step 96000, best model saved. (accuracy=0.8468)\n",
            "average loss = 0.3629       average accuracy = 0.8986)\n"
          ]
        },
        {
          "metadata": {
            "tags": null
          },
          "name": "stderr",
          "output_type": "stream",
          "text": [
            "Train:  50% 1001/2000 [01:52<02:10,  7.65 step/s, accuracy=0.84, loss=0.52, step=97001]"
          ]
        },
        {
          "metadata": {
            "tags": null
          },
          "name": "stdout",
          "output_type": "stream",
          "text": [
            "average loss = 0.3625       average accuracy = 0.9005)\n"
          ]
        },
        {
          "metadata": {
            "tags": null
          },
          "name": "stderr",
          "output_type": "stream",
          "text": [
            "Train: 100% 2000/2000 [03:38<00:00,  9.14 step/s, accuracy=0.91, loss=0.29, step=98000]\n",
            "Valid: 100% 6944/6944 [00:21<00:00, 318.80 uttr/s, accuracy=0.84, loss=0.67]\n",
            "Train:   0% 1/2000 [00:00<03:29,  9.55 step/s, accuracy=0.84, loss=0.37, step=98001]"
          ]
        },
        {
          "metadata": {
            "tags": null
          },
          "name": "stdout",
          "output_type": "stream",
          "text": [
            "average loss = 0.3523       average accuracy = 0.9025)\n"
          ]
        },
        {
          "output_type": "stream",
          "name": "stderr",
          "text": [
            "Train:  50% 1001/2000 [01:52<02:14,  7.44 step/s, accuracy=0.81, loss=0.58, step=99001]"
          ]
        },
        {
          "output_type": "stream",
          "name": "stdout",
          "text": [
            "average loss = 0.3541       average accuracy = 0.9011)\n"
          ]
        },
        {
          "output_type": "stream",
          "name": "stderr",
          "text": [
            "Train: 100% 2000/2000 [03:39<00:00,  9.13 step/s, accuracy=0.84, loss=0.41, step=1e+5]\n",
            "Valid: 100% 6944/6944 [00:22<00:00, 310.38 uttr/s, accuracy=0.85, loss=0.62]\n",
            "Train:   0% 1/2000 [00:00<06:07,  5.43 step/s, accuracy=0.81, loss=0.46, step=1e+5]"
          ]
        },
        {
          "output_type": "stream",
          "name": "stdout",
          "text": [
            "Step 100000, best model saved. (accuracy=0.8522)\n",
            "average loss = 0.3326       average accuracy = 0.9063)\n"
          ]
        },
        {
          "output_type": "stream",
          "name": "stderr",
          "text": [
            "Train:  50% 1001/2000 [01:54<02:01,  8.19 step/s, accuracy=0.88, loss=0.30, step=101001]"
          ]
        },
        {
          "output_type": "stream",
          "name": "stdout",
          "text": [
            "average loss = 0.3418       average accuracy = 0.9055)\n"
          ]
        },
        {
          "output_type": "stream",
          "name": "stderr",
          "text": [
            "Train: 100% 2000/2000 [03:36<00:00,  9.22 step/s, accuracy=0.88, loss=0.48, step=102000]\n",
            "Valid: 100% 6944/6944 [00:21<00:00, 317.03 uttr/s, accuracy=0.85, loss=0.64]\n",
            "Train:   0% 1/2000 [00:00<04:03,  8.20 step/s, accuracy=0.97, loss=0.20, step=102001]"
          ]
        },
        {
          "output_type": "stream",
          "name": "stdout",
          "text": [
            "average loss = 0.3187       average accuracy = 0.9107)\n"
          ]
        },
        {
          "output_type": "stream",
          "name": "stderr",
          "text": [
            "Train:  50% 1001/2000 [01:56<02:10,  7.68 step/s, accuracy=0.91, loss=0.49, step=103001]"
          ]
        },
        {
          "output_type": "stream",
          "name": "stdout",
          "text": [
            "average loss = 0.3263       average accuracy = 0.9095)\n"
          ]
        },
        {
          "output_type": "stream",
          "name": "stderr",
          "text": [
            "Train: 100% 2000/2000 [03:38<00:00,  9.17 step/s, accuracy=0.97, loss=0.39, step=104000]\n",
            "Valid: 100% 6944/6944 [00:22<00:00, 305.70 uttr/s, accuracy=0.85, loss=0.66]\n",
            "Train:   0% 1/2000 [00:00<07:27,  4.47 step/s, accuracy=0.88, loss=0.61, step=104001]"
          ]
        },
        {
          "output_type": "stream",
          "name": "stdout",
          "text": [
            "Step 104000, best model saved. (accuracy=0.8522)\n",
            "average loss = 0.3119       average accuracy = 0.9146)\n"
          ]
        },
        {
          "output_type": "stream",
          "name": "stderr",
          "text": [
            "Train:  50% 1001/2000 [01:55<02:07,  7.81 step/s, accuracy=1.00, loss=0.04, step=105001]"
          ]
        },
        {
          "output_type": "stream",
          "name": "stdout",
          "text": [
            "average loss = 0.3051       average accuracy = 0.9153)\n"
          ]
        },
        {
          "output_type": "stream",
          "name": "stderr",
          "text": [
            "Train: 100% 2000/2000 [03:38<00:00,  9.17 step/s, accuracy=0.94, loss=0.30, step=106000]\n",
            "Valid: 100% 6944/6944 [00:22<00:00, 311.08 uttr/s, accuracy=0.86, loss=0.65]\n",
            "Train:   0% 1/2000 [00:00<04:05,  8.14 step/s, accuracy=0.84, loss=0.64, step=106001]"
          ]
        },
        {
          "output_type": "stream",
          "name": "stdout",
          "text": [
            "average loss = 0.2974       average accuracy = 0.9187)\n"
          ]
        },
        {
          "output_type": "stream",
          "name": "stderr",
          "text": [
            "Train:  50% 1001/2000 [01:57<02:02,  8.17 step/s, accuracy=0.91, loss=0.36, step=107001]"
          ]
        },
        {
          "output_type": "stream",
          "name": "stdout",
          "text": [
            "average loss = 0.3247       average accuracy = 0.9096)\n"
          ]
        },
        {
          "output_type": "stream",
          "name": "stderr",
          "text": [
            "Train: 100% 2000/2000 [03:39<00:00,  9.09 step/s, accuracy=0.97, loss=0.23, step=108000]\n",
            "Valid: 100% 6944/6944 [00:22<00:00, 305.98 uttr/s, accuracy=0.86, loss=0.63]\n",
            "Train:   0% 1/2000 [00:00<08:12,  4.06 step/s, accuracy=0.84, loss=0.49, step=108001]"
          ]
        },
        {
          "output_type": "stream",
          "name": "stdout",
          "text": [
            "Step 108000, best model saved. (accuracy=0.8579)\n",
            "average loss = 0.2863       average accuracy = 0.9214)\n"
          ]
        },
        {
          "output_type": "stream",
          "name": "stderr",
          "text": [
            "Train:  23% 457/2000 [00:53<02:57,  8.70 step/s, accuracy=0.88, loss=0.45, step=108456]"
          ]
        }
      ],
      "source": [
        "from tqdm import tqdm\n",
        "\n",
        "import torch\n",
        "import torch.nn as nn\n",
        "from torch.optim import AdamW\n",
        "from torch.utils.data import DataLoader, random_split\n",
        "import numpy as np\n",
        "\n",
        "# def parse_args():\n",
        "#   \"\"\"arguments\"\"\"\n",
        "#   config = {\n",
        "#     \"data_dir\": \"/content/Dataset\",\n",
        "#     \"save_path\": \"model.ckpt\",\n",
        "#     \"batch_size\": 32,\n",
        "#     \"n_workers\": 8,\n",
        "#     \"valid_steps\": 2000,\n",
        "#     \"warmup_steps\": 1000,\n",
        "#     \"save_steps\": 10000,\n",
        "#     \"total_steps\": 70000,\n",
        "#   }\n",
        "\n",
        "#   return config\n",
        "\n",
        "\n",
        "def main(\n",
        "  data_dir,\n",
        "  save_path,\n",
        "  batch_size,\n",
        "  n_workers,\n",
        "  valid_steps,\n",
        "  warmup_steps,\n",
        "  total_steps,\n",
        "  save_steps,\n",
        "):\n",
        "  \"\"\"Main function.\"\"\"\n",
        "  device = torch.device(\"cuda\" if torch.cuda.is_available() else \"cpu\")\n",
        "  print(f\"[Info]: Use {device} now!\")\n",
        "\n",
        "  train_loader, valid_loader, speaker_num = get_dataloader(data_dir, batch_size, n_workers)\n",
        "  train_iterator = iter(train_loader)\n",
        "  print(f\"[Info]: Finish loading data!\",flush = True)\n",
        "  #\n",
        "  torch.backends.cudnn.benchmark = True\n",
        "  torch.backends.cudnn.deterministic = True\n",
        "  myseed = 1\n",
        "  np.random.seed(myseed)\n",
        "  torch.manual_seed(myseed)\n",
        "  if torch.cuda.is_available():\n",
        "    torch.cuda.manual_seed_all(myseed)\n",
        "\n",
        "  model = Classifier(n_spks=speaker_num).to(device)\n",
        "  #model.load_state_dict(torch.load(save_path))\n",
        "  criterion = nn.CrossEntropyLoss()\n",
        "  optimizer = AdamW(model.parameters(), lr=1e-3)\n",
        "  scheduler = get_cosine_schedule_with_warmup(optimizer, warmup_steps, total_steps)\n",
        "  print(f\"[Info]: Finish creating model!\",flush = True)\n",
        "\n",
        "  best_accuracy = -1.0\n",
        "  best_state_dict = None\n",
        "  # pbar has total 2000 step\n",
        "  pbar = tqdm(total=valid_steps, ncols=0, desc=\"Train\", unit=\" step\")\n",
        "  # print train loss and accuracy every 1000 step\n",
        "\n",
        "  loss_acc_list = []\n",
        "\n",
        "  for step in range(total_steps):\n",
        "    # Get data\n",
        "    try:\n",
        "      batch = next(train_iterator)\n",
        "    except StopIteration:\n",
        "      train_iterator = iter(train_loader)\n",
        "      batch = next(train_iterator)\n",
        "\n",
        "    loss, accuracy = model_fn(batch, model, criterion, device)\n",
        "    batch_loss = loss.item()\n",
        "    batch_accuracy = accuracy.item()\n",
        "\n",
        "    # Updata model\n",
        "    loss.backward()\n",
        "    optimizer.step()\n",
        "    scheduler.step()\n",
        "    optimizer.zero_grad()\n",
        "    # print train loss acc\n",
        "    loss_acc_list.append((loss, accuracy))\n",
        "    print_loss , print_acc = list(zip(*loss_acc_list))\n",
        "    if step % 1000 == 0:\n",
        "      print(f\"average loss = {sum(print_loss)/len(print_loss):.4f} \\\n",
        "      average accuracy = {sum(print_acc)/len(print_acc):.4f})\")\n",
        "      loss_acc_list = []\n",
        "\n",
        "    # Log\n",
        "    # update each step (as total)\n",
        "    pbar.update()\n",
        "    pbar.set_postfix(\n",
        "      loss=f\"{batch_loss:.2f}\",\n",
        "      accuracy=f\"{batch_accuracy:.2f}\",\n",
        "      step=step + 1,\n",
        "    )\n",
        "\n",
        "    # Do validation\n",
        "    # valid each 2000 step\n",
        "    if (step + 1) % valid_steps == 0:\n",
        "      #close above pbar\n",
        "      pbar.close()\n",
        "\n",
        "      valid_accuracy = valid(valid_loader, model, criterion, device)\n",
        "\n",
        "      # keep the best model\n",
        "      if valid_accuracy > best_accuracy:\n",
        "        best_accuracy = valid_accuracy\n",
        "        best_state_dict = model.state_dict()\n",
        "      # new pbar has total 2000 step\n",
        "      pbar = tqdm(total=valid_steps, ncols=0, desc=\"Train\", unit=\" step\")\n",
        "\n",
        "    # Save the best model so far.\n",
        "    if (step + 1) % save_steps == 0 and best_state_dict is not None:\n",
        "      torch.save(best_state_dict, save_path)\n",
        "      pbar.write(f\"Step {step + 1}, best model saved. (accuracy={best_accuracy:.4f})\")\n",
        "\n",
        "  pbar.close()\n",
        "\n",
        "\n",
        "if __name__ == \"__main__\":\n",
        "  main(**parse_args())"
      ]
    },
    {
      "cell_type": "markdown",
      "metadata": {
        "id": "0ZnUtE246AXm"
      },
      "source": [
        "##### original : val acc = 68%\n",
        "##### d_model 128 , multihead 1\n",
        "##### train acc = 80% , val acc = 73%\n",
        "\n",
        "##### TransformerEncoder layer : 1 -> 4\n",
        "##### Step : 70000 -> 100000\n",
        "##### train acc = 92% , val acc = 83%\n",
        "\n",
        "##### TransformerEncoder layer : 1 -> 4\n",
        "##### stat pooling -> self attention pooling\n",
        "##### Step : 100000 -> 120000\n",
        "##### train acc = 95% , val acc = 86%\n",
        "\n",
        "##### TransformerEncoder layer : 1 -> 5\n",
        "##### stat pooling -> self attention pooling\n",
        "##### prep layer : only keep last layer\n",
        "##### Step : 70000 -> 56000(imcomplete)\n",
        "##### train acc = 90% , val acc = 83%(imcomplete)\n",
        "\n",
        "##### ConformerEncoder layer : 4\n",
        "##### multihead 1 -> 2\n",
        "##### stat pooling -> self attention pooling\n",
        "##### prep layer : only keep last layer\n",
        "##### train acc = 57% , val acc = 62%"
      ]
    },
    {
      "cell_type": "code",
      "execution_count": null,
      "metadata": {
        "id": "ED3v3VUxUHDM"
      },
      "outputs": [],
      "source": [
        "import os\n",
        "import json\n",
        "import torch\n",
        "from pathlib import Path\n",
        "from torch.utils.data import Dataset\n",
        "\n",
        "\n",
        "class InferenceDataset(Dataset):\n",
        "  def __init__(self, data_dir):\n",
        "    # using / to merge path\n",
        "    testdata_path = Path(data_dir) / \"testdata.json\"\n",
        "    metadata = json.load(testdata_path.open())\n",
        "    self.data_dir = data_dir\n",
        "    #\n",
        "    self.data = metadata[\"utterances\"]\n",
        "\n",
        "  def __len__(self):\n",
        "    return len(self.data)\n",
        "\n",
        "  def __getitem__(self, index):\n",
        "    utterance = self.data[index]\n",
        "    feat_path = utterance[\"feature_path\"]\n",
        "    mel = torch.load(os.path.join(self.data_dir, feat_path))\n",
        "    # compare : when we load training set, we use append to concate datas\n",
        "    return feat_path, mel\n",
        "\n",
        "\n",
        "def inference_collate_batch(batch):\n",
        "  \"\"\"Collate a batch of data.\"\"\"\n",
        "  feat_paths, mels = zip(*batch)\n",
        "\n",
        "  return feat_paths, torch.stack(mels)"
      ]
    },
    {
      "cell_type": "code",
      "execution_count": null,
      "metadata": {
        "id": "WGfTSJDtUYPB"
      },
      "outputs": [],
      "source": [
        "import json\n",
        "import csv\n",
        "from pathlib import Path\n",
        "from tqdm.notebook import tqdm\n",
        "\n",
        "import torch\n",
        "from torch.utils.data import DataLoader\n",
        "\n",
        "def parse_args():\n",
        "  \"\"\"arguments\"\"\"\n",
        "  config = {\n",
        "    \"data_dir\": \"./Dataset\",\n",
        "    \"model_path\": \"./model.ckpt\",\n",
        "    \"output_path\": \"./output.csv\",\n",
        "  }\n",
        "\n",
        "  return config\n",
        "\n",
        "\n",
        "def main(\n",
        "  data_dir,\n",
        "  model_path,\n",
        "  output_path,\n",
        "):\n",
        "  \"\"\"Main function.\"\"\"\n",
        "  device = torch.device(\"cuda\" if torch.cuda.is_available() else \"cpu\")\n",
        "  print(f\"[Info]: Use {device} now!\")\n",
        "\n",
        "  mapping_path = Path(data_dir) / \"mapping.json\"\n",
        "  mapping = json.load(mapping_path.open())\n",
        "\n",
        "  dataset = InferenceDataset(data_dir)\n",
        "  dataloader = DataLoader(\n",
        "    dataset,\n",
        "    batch_size=1,\n",
        "    shuffle=False,\n",
        "    drop_last=False,\n",
        "    num_workers=8,\n",
        "    collate_fn=inference_collate_batch,\n",
        "  )\n",
        "  print(f\"[Info]: Finish loading data!\",flush = True)\n",
        "\n",
        "  speaker_num = len(mapping[\"id2speaker\"])\n",
        "  model = Classifier(n_spks=speaker_num).to(device)\n",
        "  model.load_state_dict(torch.load(model_path))\n",
        "  model.eval()\n",
        "  print(f\"[Info]: Finish creating model!\",flush = True)\n",
        "\n",
        "  results = [[\"Id\", \"Category\"]]\n",
        "  for feat_paths, mels in tqdm(dataloader):\n",
        "    with torch.no_grad():\n",
        "      mels = mels.to(device)\n",
        "      outs = model(mels)\n",
        "      preds = outs.argmax(1).cpu().numpy()\n",
        "      # zip from two list to a sequence of tuples\n",
        "      # preds is a numpy array whose elements are int numbers\n",
        "      for feat_path, pred in zip(feat_paths, preds):\n",
        "        # mapping[\"id2speaker\"] = {\"0\": \"id10001\", ......'599':  'id11251'}])\n",
        "        results.append([feat_path, mapping[\"id2speaker\"][str(pred)]])\n",
        "\n",
        "  with open(output_path, 'w', newline='') as csvfile:\n",
        "    writer = csv.writer(csvfile)\n",
        "    writer.writerows(results)\n",
        "\n",
        "\n",
        "if __name__ == \"__main__\":\n",
        "  main(**parse_args())\n"
      ]
    },
    {
      "cell_type": "code",
      "execution_count": null,
      "metadata": {
        "id": "nuDMfXVo9mD-"
      },
      "outputs": [],
      "source": [
        "# class MyLinearLayer(nn.Module):\n",
        "#     \"\"\" Custom Linear layer but mimics a standard linear layer \"\"\"\n",
        "#     def __init__(self, size_in, size_out):\n",
        "#         super().__init__()\n",
        "#         self.size_in, self.size_out = size_in, size_out\n",
        "#         weights = torch.Tensor(size_out, size_in)\n",
        "#         self.weights = nn.Parameter(weights)  # nn.Parameter is a Tensor that's a module parameter.\n",
        "#         bias = torch.Tensor(size_out)\n",
        "#         self.bias = nn.Parameter(bias)\n",
        "\n",
        "#         # initialize weights and biases\n",
        "#         nn.init.kaiming_uniform_(self.weights, a=math.sqrt(5)) # weight init\n",
        "#         fan_in, _ = nn.init._calculate_fan_in_and_fan_out(self.weights)\n",
        "#         bound = 1 / math.sqrt(fan_in)\n",
        "#         nn.init.uniform_(self.bias, -bound, bound)  # bias init\n",
        "\n",
        "#     def forward(self, x):\n",
        "#         w_times_x= torch.mm(x, self.weights.t())\n",
        "#         return torch.add(w_times_x, self.bias)  # w times x + b\n",
        "# class MyLinear(nn.Module):\n",
        "#     def __init__(self, in_units, units):\n",
        "#         super().__init__()\n",
        "#         self.weight = nn.Parameter(torch.randn(in_units, units))\n",
        "#         self.bias = nn.Parameter(torch.randn(units,))\n",
        "\n",
        "#     def forward(self, X):\n",
        "#         linear = torch.matmul(X, self.weight.data) + self.bias.data\n",
        "#         return F.relu(linear)\n",
        "# class NoisyLinear(T.nn.Module):\n",
        "#   def __init__(self, n_in, n_out):\n",
        "#     super().__init__()\n",
        "#     self.n_in, self.n_out = n_in, n_out\n",
        "\n",
        "#     self.weights = T.nn.Parameter(T.zeros((n_out, n_in),\n",
        "#       dtype=T.float32))\n",
        "#     self.bias = T.nn.Parameter(T.tensor(n_out,\n",
        "#       dtype=T.float32))\n",
        "#     self.lo = 0.90; self.hi = 0.98  # noise\n",
        "\n",
        "#     lim = 0.01  # initialize weights and bias\n",
        "#     T.nn.init.uniform_(self.weights, -lim, +lim)\n",
        "#     T.nn.init.uniform_(self.bias, -lim, +lim)\n",
        "\n",
        "#   def forward(self, x):\n",
        "#     wx= T.mm(x, self.weights.t())\n",
        "#     rnd = (self.hi - self.lo) * T.rand(1) + self.lo\n",
        "#     return rnd * T.add(wx, self.bias)  # wts * x + bias\n",
        "# class PrintLayer(nn.Module):\n",
        "#     def __init__(self):\n",
        "#         super(PrintLayer, self).__init__()\n",
        "\n",
        "#     def forward(self, x):\n",
        "#         # Do your print / debug stuff here\n",
        "#         print(x)\n",
        "#         return x"
      ]
    }
  ],
  "metadata": {
    "colab": {
      "provenance": [],
      "gpuType": "T4",
      "include_colab_link": true
    },
    "kernelspec": {
      "display_name": "Python 3",
      "name": "python3"
    },
    "language_info": {
      "codemirror_mode": {
        "name": "ipython",
        "version": 3
      },
      "file_extension": ".py",
      "mimetype": "text/x-python",
      "name": "python",
      "nbconvert_exporter": "python",
      "pygments_lexer": "ipython3",
      "version": "3.11.5"
    },
    "accelerator": "GPU"
  },
  "nbformat": 4,
  "nbformat_minor": 0
}