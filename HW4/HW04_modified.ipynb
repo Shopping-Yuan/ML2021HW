{
  "nbformat": 4,
  "nbformat_minor": 0,
  "metadata": {
    "colab": {
      "provenance": [],
      "include_colab_link": true
    },
    "kernelspec": {
      "name": "python3",
      "display_name": "Python 3"
    },
    "language_info": {
      "name": "python"
    }
  },
  "cells": [
    {
      "cell_type": "markdown",
      "metadata": {
        "id": "view-in-github",
        "colab_type": "text"
      },
      "source": [
        "<a href=\"https://colab.research.google.com/github/Shopping-Yuan/ML2021HW/blob/Shopping_vscode_branch/HW4/HW04_modified.ipynb\" target=\"_parent\"><img src=\"https://colab.research.google.com/assets/colab-badge.svg\" alt=\"Open In Colab\"/></a>"
      ]
    },
    {
      "cell_type": "code",
      "source": [
        "from google.colab import drive\n",
        "drive.mount('/content/drive')"
      ],
      "metadata": {
        "colab": {
          "base_uri": "https://localhost:8080/"
        },
        "id": "Z1cauo_ypX7F",
        "outputId": "ef681755-47e5-4005-db41-597b5e349086"
      },
      "execution_count": 71,
      "outputs": [
        {
          "output_type": "stream",
          "name": "stdout",
          "text": [
            "Drive already mounted at /content/drive; to attempt to forcibly remount, call drive.mount(\"/content/drive\", force_remount=True).\n"
          ]
        }
      ]
    },
    {
      "cell_type": "code",
      "source": [
        "def parse_args():\n",
        "  \"\"\"arguments\"\"\"\n",
        "  config = {\n",
        "    \"data_dir\": \"./Dataset\",\n",
        "    \"save_path\": \"model.ckpt\",\n",
        "    \"batch_size\": 32,\n",
        "    \"n_workers\": 8,\n",
        "    \"valid_steps\": 2000,\n",
        "    \"warmup_steps\": 1000,\n",
        "    \"save_steps\": 10000,\n",
        "    \"total_steps\": 70000,\n",
        "  }\n",
        "\n",
        "  return config"
      ],
      "metadata": {
        "id": "mfFqQ-KmrJGy"
      },
      "execution_count": 72,
      "outputs": []
    },
    {
      "cell_type": "markdown",
      "source": [
        "#Dataset"
      ],
      "metadata": {
        "id": "zWDKfQCSrx2D"
      }
    },
    {
      "cell_type": "code",
      "execution_count": 73,
      "metadata": {
        "id": "33lkzQf43DNb"
      },
      "outputs": [],
      "source": [
        "import os\n",
        "import json\n",
        "import torch\n",
        "import random\n",
        "from pathlib import Path\n",
        "from torch.utils.data import Dataset\n",
        "from torch.nn.utils.rnn import pad_sequence\n",
        "\n",
        "\n",
        "class myDataset(Dataset):\n",
        "  def __init__(self, data_dir, segment_len=128):\n",
        "    self.data_dir = data_dir\n",
        "    self.segment_len = segment_len\n",
        "\n",
        "    # Load the mapping from speaker neme to their corresponding id.\n",
        "    # Path package can use / to join path\n",
        "    #part 1-1\n",
        "    mapping_path = Path(data_dir) / \"mapping.json\"\n",
        "    mapping = json.load(mapping_path.open())\n",
        "    self.speaker2id = mapping[\"speaker2id\"]\n",
        "    #self.speaker2id = {'id10001': 0, 'id10005': 1, ...... 'id11247': 598, 'id11251': 599}\n",
        "\n",
        "    #part 1-2\n",
        "    # Load metadata of training data.\n",
        "    metadata_path = Path(data_dir) / \"metadata.json\"\n",
        "    metadata = json.load(open(metadata_path))[\"speakers\"]\n",
        "\n",
        "    # Get the total number of speaker.\n",
        "    self.speaker_num = len(metadata.keys())\n",
        "    self.data = []\n",
        "    for speaker in metadata.keys():\n",
        "    #['id10473', 'id10328', 'id10382',......'id10864']\n",
        "      for utterances in metadata[speaker]:\n",
        "      # for example : metadata[speaker] = 'id10473'\n",
        "      # utterances = {'feature_path': 'uttr-5c88b2f1803449789c36f14fb4d3c1eb.pt', 'mel_len': 652}......\n",
        "        self.data.append([utterances[\"feature_path\"], self.speaker2id[speaker]])\n",
        "        # for example : ['uttr-5c88b2f1803449789c36f14fb4d3c1eb.pt',217]\n",
        "\n",
        "  def __len__(self):\n",
        "    return len(self.data)\n",
        "\n",
        "  def __getitem__(self, index):\n",
        "    feat_path, speaker = self.data[index]\n",
        "    #[utterances[\"feature_path\"], self.speaker2id[speaker]\n",
        "\n",
        "    # Load preprocessed mel-spectrogram.\n",
        "    # https://pytorch.org/docs/stable/generated/torch.load.html\n",
        "    # using torch.load to open pt file . By default , tensors are loaded to GPU if they are GPU tensor.\n",
        "    # part 2\n",
        "    mel = torch.load(os.path.join(self.data_dir, feat_path))\n",
        "\n",
        "    # Segmemt mel-spectrogram into \"segment_len\" frames.\n",
        "    if len(mel) > self.segment_len:\n",
        "      # Randomly get the starting point of the segment.\n",
        "      start = random.randint(0, len(mel) - self.segment_len)\n",
        "      # Get a segment with \"segment_len\" frames.\n",
        "      mel = torch.FloatTensor(mel[start:start+self.segment_len])\n",
        "    else:\n",
        "      mel = torch.FloatTensor(mel)\n",
        "    # Turn the speaker id into long for computing loss later.\n",
        "    speaker = torch.FloatTensor([speaker]).long()\n",
        "    return mel, speaker\n",
        "\n",
        "  def get_speaker_number(self):\n",
        "    return self.speaker_num"
      ]
    },
    {
      "cell_type": "code",
      "source": [
        "#data_dir = parse_args()[\"data_dir\"]\n",
        "#part 1-1\n",
        "#mapping.json checcking\n",
        "#mapping_path = Path(data_dir) / \"mapping.json\"\n",
        "#mapping = json.load(mapping_path.open())\n",
        "#speaker2id = mapping[\"speaker2id\"]\n",
        "#print(type(mapping)) #<class 'dict'>\n",
        "#print(mapping.keys()) #dict_keys(['speaker2id', 'id2speaker'])\n",
        "#print(mapping.values()) #dict_values([{'id10001': 0, 'id10005': 1, ...... 'id11247': 598, 'id11251': 599},\n",
        "             #{\"0\": \"id10001\", ......'599':  'id11251'}])\n",
        "#print(mapping['speaker2id']['id10473']) #217\n",
        "\n",
        "#part 1-2\n",
        "#metadata.json checcking\n",
        "#metadata_path = Path(data_dir) / \"metadata.json\"\n",
        "#metadata = json.load(open(metadata_path))[\"speakers\"]\n",
        "#print(type(metadata)) #<class 'dict'>\n",
        "#print(len(metadata.keys()),metadata.keys()) #600 dict_keys(['id10473', 'id10328', 'id10382',......'id10864'])\n",
        "#print(len(metadata.values()),len(list(metadata.values())[0]),list(metadata.values())[0])\n",
        "#600 176 [{'feature_path': 'uttr-5c88b2f1803449789c36f14fb4d3c1eb.pt', 'mel_len': 652},......\n",
        "#{'feature_path': 'uttr-caf385f0032140e0add0bbde9a6595cd.pt', 'mel_len': 414}]\n",
        "#print(len(metadata.values()),len(list(metadata.values())[1])) #600 101\n",
        "\n",
        "#part 2\n",
        "#mel = torch.load(os.path.join(data_dir, 'uttr-5c88b2f1803449789c36f14fb4d3c1eb.pt'))\n",
        "#print(type(mel)) #<class 'torch.Tensor'>\n",
        "#print(mel.size()) #torch.Size([652, 40])\n",
        "#print(mel[0])\n",
        "# tensor([\n",
        "# 2.0060,  1.9015,  1.3473,  1.5711,  1.5569,  2.3200,  3.0064,  3.3848,\n",
        "# 0.5376,  0.8397,  1.5710, -0.5662, -2.1262, -1.1271, -1.4272, -3.6233,\n",
        "# -1.0765, -1.8453, -3.2415, -2.3427, -1.5888, -0.4692, -0.4291, -0.4722,\n",
        "# -1.8450, -1.0638, -3.2177, -3.4006, -3.2176, -3.3409, -3.1142, -4.0395,\n",
        "# -3.6502, -4.2407, -4.9656, -5.1238, -5.0620, -5.4308, -6.0757, -6.6186])"
      ],
      "metadata": {
        "id": "qNWZbKmRrZUj"
      },
      "execution_count": 4,
      "outputs": []
    },
    {
      "cell_type": "code",
      "source": [
        "import torch\n",
        "from torch.utils.data import DataLoader, random_split\n",
        "from torch.nn.utils.rnn import pad_sequence\n",
        "#part 1 check collate_batch\n",
        "def collate_batch(batch):\n",
        "  # Process features within a batch.\n",
        "  \"\"\"Collate a batch of data.\"\"\"\n",
        "  #part 1-1 , 1-2\n",
        "  mel, speaker = zip(*batch)\n",
        "  # Because we train the model batch by batch, we need to pad the features in the same batch to make their lengths the same.\n",
        "  mel = pad_sequence(mel, batch_first=True, padding_value=-20)    # pad log 10^(-20) which is very small value.\n",
        "  # mel: (batch size, length, 40)\n",
        "  #part 1-3\n",
        "  return mel, torch.FloatTensor(speaker).long()\n",
        "\n",
        "\n",
        "def get_dataloader(data_dir, batch_size, n_workers):\n",
        "  \"\"\"Generate dataloader\"\"\"\n",
        "  dataset = myDataset(data_dir)\n",
        "  speaker_num = dataset.get_speaker_number()\n",
        "  # Split dataset into training dataset and validation dataset\n",
        "  trainlen = int(0.9 * len(dataset))\n",
        "  lengths = [trainlen, len(dataset) - trainlen]\n",
        "  trainset, validset = random_split(dataset, lengths)\n",
        "\n",
        "  train_loader = DataLoader(\n",
        "    trainset,\n",
        "    batch_size=batch_size,\n",
        "    shuffle=True,\n",
        "    drop_last=True,\n",
        "    num_workers=n_workers,\n",
        "    pin_memory=True,\n",
        "    collate_fn=collate_batch,\n",
        "  )\n",
        "  valid_loader = DataLoader(\n",
        "    validset,\n",
        "    batch_size=batch_size,\n",
        "    num_workers=n_workers,\n",
        "    drop_last=True,\n",
        "    pin_memory=True,\n",
        "    collate_fn=collate_batch,\n",
        "  )\n",
        "\n",
        "  return train_loader, valid_loader, speaker_num"
      ],
      "metadata": {
        "id": "MNfZK8vyq0rD"
      },
      "execution_count": 74,
      "outputs": []
    },
    {
      "cell_type": "code",
      "source": [
        "#import numpy as np\n",
        "#check collate_batch\n",
        "#part 1-1\n",
        "# * collect \"sequence\"function input to a tuple :\n",
        "#def f(*paras):\n",
        "#  print(paras)\n",
        "#f(1,2,3) #(1, 2, 3)\n",
        "# or collect a tuple to a \"sequence\"\n",
        "#print(*(1,2,3)) #1 2 3\n",
        "\n",
        "#part 1-2\n",
        "#test_data = np.random.rand(2,3,4)\n",
        "#test_label = np.random.rand(2,1)\n",
        "#samples = (test_data,test_label)\n",
        "#print(samples)\n",
        "#x , y = zip((1,2),(3,4),(5,6),(7,8))\n",
        "#print(x,y)\n",
        "\n",
        "#part 1-3\n",
        "#print(torch.FloatTensor([[1.],[1.]]))#tensor([[1.],[1.]])\n",
        "#print(torch.FloatTensor([[1.],[1.]]).long())#tensor([[1],[1]]) implies the numbers are integer now\n",
        "#print(torch.IntTensor([[1.],[1.]]))#tensor([[1],[1]], dtype=torch.int32)"
      ],
      "metadata": {
        "id": "vA6cTPqryJXZ"
      },
      "execution_count": 38,
      "outputs": []
    },
    {
      "cell_type": "code",
      "source": [
        "!pip install torchinfo"
      ],
      "metadata": {
        "id": "3Yk6oGGdQD9G",
        "outputId": "63b1f09b-23fc-4734-e008-4f35b9370e41",
        "colab": {
          "base_uri": "https://localhost:8080/"
        }
      },
      "execution_count": 75,
      "outputs": [
        {
          "output_type": "stream",
          "name": "stdout",
          "text": [
            "Requirement already satisfied: torchinfo in /usr/local/lib/python3.10/dist-packages (1.8.0)\n"
          ]
        }
      ]
    },
    {
      "cell_type": "code",
      "source": [
        "# x = [True,True,False,True,False,False,False,True,False,True,True,False]\n",
        "\n",
        "# true_index_list = []\n",
        "\n",
        "# false_index_list = []\n",
        "\n",
        "# for i,b in enumerate(x):\n",
        "#   if b == True:\n",
        "#     true_index_list += [i]\n",
        "#   else :\n",
        "#     false_index_list += [i]\n",
        "# print(true_index_list,false_index_list)\n",
        "\n",
        "# new_list = []\n",
        "# t_max = len(true_index_list)\n",
        "# f_max = len(false_index_list)\n",
        "# true_index = 0\n",
        "# false_index = 0\n",
        "# t_or_f = 0\n",
        "# while (t_max * f_max)>0:\n",
        "#   if t_or_f % 2 ==0:\n",
        "#     new_list += true_index_list[true_index:true_index+3]\n",
        "#     true_index += 3\n",
        "#     t_or_f += 1\n",
        "#     t_max -= 3\n",
        "#   else :\n",
        "#     new_list += false_index_list[false_index:false_index+3]\n",
        "#     false_index += 3\n",
        "#     t_or_f += 1\n",
        "#     f_max -= 3\n",
        "# if t_max > 0:\n",
        "#   new_list += true_index_list[true_index:]\n",
        "# elif f_max > 0:\n",
        "#   new_list += false_index_list[false_index:]\n",
        "\n",
        "# print(new_list)\n"
      ],
      "metadata": {
        "id": "aBXbvqTlTSyj"
      },
      "execution_count": 70,
      "outputs": []
    },
    {
      "cell_type": "code",
      "source": [
        "import torch\n",
        "import torch.nn as nn\n",
        "import torch.nn.functional as F\n",
        "import torchvision\n",
        "from torchinfo import summary\n",
        "\n",
        "class Classifier(nn.Module):\n",
        "  def __init__(self, d_model=80, n_spks=600, dropout=0.1):\n",
        "    super().__init__()\n",
        "    # Project the dimension of features from that of input into d_model.\n",
        "    self.prenet = nn.Linear(40, d_model)\n",
        "    # TODO:\n",
        "    #   Change Transformer to Conformer.\n",
        "    #   https://arxiv.org/abs/2005.08100\n",
        "    # embed_dim must be divisible by num_heads\n",
        "    self.encoder_layer = nn.TransformerEncoderLayer(\n",
        "      d_model=d_model, dim_feedforward=256, nhead=2\n",
        "    )\n",
        "    # batch_first = True\n",
        "    # norm_first = True\n",
        "    # self.encoder = nn.TransformerEncoder(self.encoder_layer, num_layers=2)\n",
        "\n",
        "    # Project the the dimension of features from d_model into speaker nums.\n",
        "    self.pred_layer = nn.Sequential(\n",
        "      nn.Linear(d_model, d_model),\n",
        "      nn.ReLU(),\n",
        "      nn.Linear(d_model, n_spks),\n",
        "    )\n",
        "\n",
        "  def forward(self, mels):\n",
        "    \"\"\"\n",
        "    args:\n",
        "      mels: (batch size, length, 40)\n",
        "    return:\n",
        "      out: (batch size, n_spks)\n",
        "    \"\"\"\n",
        "    # out: (batch size, length, d_model)\n",
        "    out = self.prenet(mels)\n",
        "    # out: (length, batch size, d_model)\n",
        "    out = out.permute(1, 0, 2)\n",
        "    # The encoder layer expect features in the shape of (length, batch size, d_model).\n",
        "    out = self.encoder_layer(out)\n",
        "    # out: (batch size, length, d_model)\n",
        "    out = out.transpose(0, 1)\n",
        "    # mean pooling\n",
        "    stats = out.mean(dim=1)\n",
        "\n",
        "    # out: (batch, n_spks)\n",
        "    out = self.pred_layer(stats)\n",
        "    return out\n"
      ],
      "metadata": {
        "id": "zlXaMSlWMU__"
      },
      "execution_count": 76,
      "outputs": []
    },
    {
      "cell_type": "code",
      "source": [
        "model = Classifier()\n",
        "print(summary(model,(32,128,40)))\n",
        "#print(model.state_dict().keys())\n",
        "#print(model.state_dict()[\"encoder_layer.self_attn.in_proj_weight\"].size())#torch.Size([240, 80]) (80+80+80)*80\n",
        "#print(model.state_dict()[\"encoder_layer.self_attn.out_proj.weight\"].size())#torch.Size([80, 80])"
      ],
      "metadata": {
        "id": "vXLlPNAI9N9F",
        "outputId": "875acae6-09c5-45ed-a79d-966517e31ed3",
        "colab": {
          "base_uri": "https://localhost:8080/"
        }
      },
      "execution_count": 77,
      "outputs": [
        {
          "output_type": "stream",
          "name": "stdout",
          "text": [
            "==========================================================================================\n",
            "Layer (type:depth-idx)                   Output Shape              Param #\n",
            "==========================================================================================\n",
            "Classifier                               [32, 600]                 --\n",
            "├─Linear: 1-1                            [32, 128, 80]             3,280\n",
            "├─TransformerEncoderLayer: 1-2           [128, 32, 80]             --\n",
            "│    └─MultiheadAttention: 2-1           [128, 32, 80]             25,920\n",
            "│    └─Dropout: 2-2                      [128, 32, 80]             --\n",
            "│    └─LayerNorm: 2-3                    [128, 32, 80]             160\n",
            "│    └─Linear: 2-4                       [128, 32, 256]            20,736\n",
            "│    └─Dropout: 2-5                      [128, 32, 256]            --\n",
            "│    └─Linear: 2-6                       [128, 32, 80]             20,560\n",
            "│    └─Dropout: 2-7                      [128, 32, 80]             --\n",
            "│    └─LayerNorm: 2-8                    [128, 32, 80]             160\n",
            "├─Sequential: 1-3                        [32, 600]                 --\n",
            "│    └─Linear: 2-9                       [32, 80]                  6,480\n",
            "│    └─ReLU: 2-10                        [32, 80]                  --\n",
            "│    └─Linear: 2-11                      [32, 600]                 48,600\n",
            "==========================================================================================\n",
            "Total params: 125,896\n",
            "Trainable params: 125,896\n",
            "Non-trainable params: 0\n",
            "Total mult-adds (M): 7.19\n",
            "==========================================================================================\n",
            "Input size (MB): 0.66\n",
            "Forward/backward pass size (MB): 19.05\n",
            "Params size (MB): 0.40\n",
            "Estimated Total Size (MB): 20.10\n",
            "==========================================================================================\n"
          ]
        }
      ]
    },
    {
      "cell_type": "markdown",
      "source": [
        "parameter numner :\n",
        "1.MultiheadAttention : =\n",
        "d_model+1(bias) * d_query +\n",
        "d_model+1(bias) * d_key  +\n",
        "d_model+1(bias) * d_v   +\n",
        "d_v + 1(bias) * output_dim( = dmodel)\n",
        "= (80+1)80 + (80+1)80 + (80+1)80 + (80+1)80 = 25920\n",
        "\n",
        "2.layer_norm : =input + input = 80*80 = 160\n",
        "\n",
        "\n"
      ],
      "metadata": {
        "id": "5EhBDpSpznKl"
      }
    },
    {
      "cell_type": "code",
      "source": [
        "import math\n",
        "\n",
        "import torch\n",
        "from torch.optim import Optimizer\n",
        "from torch.optim.lr_scheduler import LambdaLR\n",
        "\n",
        "\n",
        "def get_cosine_schedule_with_warmup(\n",
        "  optimizer: Optimizer,\n",
        "  num_warmup_steps: int,\n",
        "  num_training_steps: int,\n",
        "  num_cycles: float = 0.5,\n",
        "  last_epoch: int = -1,\n",
        "):\n",
        "  \"\"\"\n",
        "  Create a schedule with a learning rate that decreases following the values of the cosine function between the\n",
        "  initial lr set in the optimizer to 0, after a warmup period during which it increases linearly between 0 and the\n",
        "  initial lr set in the optimizer.\n",
        "\n",
        "  Args:\n",
        "    optimizer (:class:`~torch.optim.Optimizer`):\n",
        "      The optimizer for which to schedule the learning rate.\n",
        "    num_warmup_steps (:obj:`int`):\n",
        "      The number of steps for the warmup phase.\n",
        "    num_training_steps (:obj:`int`):\n",
        "      The total number of training steps.\n",
        "    num_cycles (:obj:`float`, `optional`, defaults to 0.5):\n",
        "      The number of waves in the cosine schedule (the defaults is to just decrease from the max value to 0\n",
        "      following a half-cosine).\n",
        "    last_epoch (:obj:`int`, `optional`, defaults to -1):\n",
        "      The index of the last epoch when resuming training.\n",
        "\n",
        "  Return:\n",
        "    :obj:`torch.optim.lr_scheduler.LambdaLR` with the appropriate schedule.\n",
        "  \"\"\"\n",
        "\n",
        "  def lr_lambda(current_step):\n",
        "    # Warmup\n",
        "    if current_step < num_warmup_steps:\n",
        "      return float(current_step) / float(max(1, num_warmup_steps))\n",
        "    # decadence\n",
        "    # cosine angle\n",
        "    progress = float(current_step - num_warmup_steps) / float(\n",
        "      max(1, num_training_steps - num_warmup_steps)\n",
        "    )\n",
        "    return max(\n",
        "      0.0, 0.5 * (1.0 + math.cos(math.pi * float(num_cycles) * 2.0 * progress))\n",
        "    )\n",
        "\n",
        "  return LambdaLR(optimizer, lr_lambda, last_epoch)"
      ],
      "metadata": {
        "id": "tUSxoANBMchs"
      },
      "execution_count": 78,
      "outputs": []
    },
    {
      "cell_type": "code",
      "source": [
        "from torch.optim import AdamW\n",
        "optimizer = AdamW(model.parameters(), lr=1e-3)\n",
        "\n",
        "scheduler = get_cosine_schedule_with_warmup(optimizer, 1000, 70000)\n",
        "\n",
        "#print(type(scheduler.optimizer.param_groups)) #<class 'list'>\n",
        "#print(len(scheduler.optimizer.param_groups))  #1\n",
        "#print(type(scheduler.optimizer.param_groups[0])) #<class 'dict'>\n",
        "#print(scheduler.optimizer.param_groups[0].keys())\n",
        "#['params', 'lr', 'betas', 'eps', 'weight_decay', 'amsgrad', 'foreach',\n",
        "#'maximize', 'capturable', 'differentiable', 'fused', 'initial_lr']\n",
        "#print(scheduler.optimizer.param_groups[0]['params'])\n",
        "#[Parameter containing: tensor([[......],requires_grad=True)]\n",
        "#print(scheduler.optimizer.param_groups[0]['lr'])# 0.0\n",
        "#print(scheduler.optimizer.param_groups[0]['betas'])# (0.9, 0.999)\n",
        "#print(scheduler.optimizer.param_groups[0]['eps']) # 1e-08\n",
        "#print(scheduler.optimizer.param_groups[0]['weight_decay']) #0.01\n",
        "#print(scheduler.optimizer.param_groups[0]['amsgrad']) # False\n",
        "#print(scheduler.optimizer.param_groups[0]['foreach']) # None"
      ],
      "metadata": {
        "id": "9o3hw_GcF1Jb"
      },
      "execution_count": 79,
      "outputs": []
    },
    {
      "cell_type": "code",
      "source": [
        "import torch\n",
        "\n",
        "\n",
        "def model_fn(batch, model, criterion, device):\n",
        "  \"\"\"Forward a batch through the model.\"\"\"\n",
        "\n",
        "  mels, labels = batch\n",
        "  mels = mels.to(device)\n",
        "  labels = labels.to(device)\n",
        "\n",
        "  outs = model(mels)\n",
        "\n",
        "  loss = criterion(outs, labels)\n",
        "\n",
        "  # Get the speaker id with highest probability.\n",
        "  preds = outs.argmax(1)\n",
        "  # Compute accuracy.\n",
        "  accuracy = torch.mean((preds == labels).float())\n",
        "\n",
        "  return loss, accuracy"
      ],
      "metadata": {
        "id": "yfDXw13q1ssm"
      },
      "execution_count": 80,
      "outputs": []
    },
    {
      "cell_type": "code",
      "source": [
        "from tqdm import tqdm\n",
        "import torch\n",
        "\n",
        "\n",
        "def valid(dataloader, model, criterion, device):\n",
        "  \"\"\"Validate on validation set.\"\"\"\n",
        "\n",
        "  model.eval()\n",
        "  running_loss = 0.0\n",
        "  running_accuracy = 0.0\n",
        "  pbar = tqdm(total=len(dataloader.dataset), ncols=0, desc=\"Valid\", unit=\" uttr\")\n",
        "\n",
        "  for i, batch in enumerate(dataloader):\n",
        "    with torch.no_grad():\n",
        "      loss, accuracy = model_fn(batch, model, criterion, device)\n",
        "      running_loss += loss.item()\n",
        "      running_accuracy += accuracy.item()\n",
        "\n",
        "    pbar.update(dataloader.batch_size)\n",
        "    pbar.set_postfix(\n",
        "      loss=f\"{running_loss / (i+1):.2f}\",\n",
        "      accuracy=f\"{running_accuracy / (i+1):.2f}\",\n",
        "    )\n",
        "\n",
        "  pbar.close()\n",
        "  model.train()\n",
        "\n",
        "  return running_accuracy / len(dataloader)\n"
      ],
      "metadata": {
        "id": "959wMzs21wbz"
      },
      "execution_count": 81,
      "outputs": []
    }
  ]
}