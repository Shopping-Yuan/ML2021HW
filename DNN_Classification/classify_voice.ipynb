{
  "cells": [
    {
      "cell_type": "markdown",
      "metadata": {
        "id": "view-in-github",
        "colab_type": "text"
      },
      "source": [
        "<a href=\"https://colab.research.google.com/github/Shopping-Yuan/ML_Project/blob/Shopping_vscode_branch/DNN_Classification/classify_voice.ipynb\" target=\"_parent\"><img src=\"https://colab.research.google.com/assets/colab-badge.svg\" alt=\"Open In Colab\"/></a>"
      ]
    },
    {
      "cell_type": "code",
      "execution_count": 3,
      "metadata": {
        "id": "Vtt47EXYUY6A",
        "outputId": "5a1651c8-bb29-453c-94e1-39782a62f97f",
        "colab": {
          "base_uri": "https://localhost:8080/"
        }
      },
      "outputs": [
        {
          "output_type": "stream",
          "name": "stdout",
          "text": [
            "/usr/local/lib/python3.10/dist-packages/gdown/__main__.py:132: FutureWarning: Option `--id` was deprecated in version 4.3.1 and will be removed in 5.0. You don't need to pass it anymore to use a file ID.\n",
            "  warnings.warn(\n",
            "Downloading...\n",
            "From (original): https://drive.google.com/uc?id=1HPkcmQmFGu-3OknddKIa5dNDsR05lIQR\n",
            "From (redirected): https://drive.google.com/uc?id=1HPkcmQmFGu-3OknddKIa5dNDsR05lIQR&confirm=t&uuid=71446971-9ac5-40ff-96fe-4ac3243d7953\n",
            "To: /content/data.zip\n",
            "100% 372M/372M [00:07<00:00, 51.3MB/s]\n",
            "Archive:  data.zip\n",
            "replace timit_11/train_11.npy? [y]es, [n]o, [A]ll, [N]one, [r]ename: A\n",
            "  inflating: timit_11/train_11.npy   \n",
            "  inflating: timit_11/test_11.npy    \n",
            "  inflating: timit_11/train_label_11.npy  \n",
            "data.zip  sample_data  timit_11\n"
          ]
        }
      ],
      "source": [
        "!gdown --id '1HPkcmQmFGu-3OknddKIa5dNDsR05lIQR' --output data.zip\n",
        "!unzip data.zip\n",
        "!ls\n",
        "# %conda install -c nvidia cuda-toolkit"
      ]
    },
    {
      "cell_type": "code",
      "execution_count": 4,
      "metadata": {
        "colab": {
          "base_uri": "https://localhost:8080/"
        },
        "id": "l0IhBfLZ6ko0",
        "outputId": "869b714b-686a-4cd1-ce41-0585f2632df0"
      },
      "outputs": [
        {
          "output_type": "stream",
          "name": "stdout",
          "text": [
            "True\n"
          ]
        }
      ],
      "source": [
        "#import pytorch\n",
        "import torch\n",
        "\n",
        "# torch.backends.cudnn: set CNN algorithmtorch.backends.cudnn\n",
        "torch.backends.cudnn.deterministic = True\n",
        "torch.backends.cudnn.benchmark = False\n",
        "\n",
        "# get the current available device ('cpu' or 'cuda')\n",
        "def get_device():\n",
        "    return 'cuda' if torch.cuda.is_available() else 'cpu'\n",
        "device = get_device()\n",
        "print(torch.cuda.is_available())\n",
        "#set random variable\n",
        "import numpy as np\n",
        "myseed = 1\n",
        "np.random.seed(myseed)\n",
        "torch.manual_seed(myseed)\n",
        "if torch.cuda.is_available():\n",
        "    torch.cuda.manual_seed_all(myseed)"
      ]
    },
    {
      "cell_type": "code",
      "execution_count": 5,
      "metadata": {
        "id": "9JBGA0IFvCKy"
      },
      "outputs": [],
      "source": [
        "#write data_set_function\n",
        "#normalize data if needed\n",
        "import pandas as pd\n",
        "#Dataset:data_set_function\n",
        "import numpy as np\n",
        "\n",
        "def TIMIT_train_val_f(mode,d_l = \"both\"):\n",
        "\n",
        "  data = np.load(data_info[mode][\"data_path\"])\n",
        "  label = np.load(data_info[mode][\"label_path\"])\n",
        "  print('Size of training data: {}'.format(data.shape))\n",
        "  print('Size of training label: {}'.format(label.shape))\n",
        "  VAL_RATIO = 0.2\n",
        "  percent = int(data.shape[0] * (1 - VAL_RATIO))\n",
        "  train_data, train_label, val_data, val_label = \\\n",
        "  data[:percent], label[:percent].astype(np.int_), data[percent:], label[percent:].astype(np.int_)\n",
        "\n",
        "  if mode == \"train\":\n",
        "    return{\"data\" : torch.FloatTensor(train_data) , \"label\" : torch.LongTensor(train_label)}\n",
        "  elif mode == \"val\":\n",
        "    return{\"data\" : torch.FloatTensor(val_data) , \"label\" : torch.LongTensor(val_label)}\n",
        "\n",
        "def TIMIT_test_f(mode,d_l = \"data\"):\n",
        "  test = np.load(data_info[mode][\"path\"])\n",
        "  print('Size of testing data: {}'.format(test.shape))\n",
        "  return torch.FloatTensor(test)\n",
        "\n",
        "#create a dict of functions and path w.r.t. different mode\n",
        "data_info = {\n",
        "    \"train\":{\"function\":TIMIT_train_val_f,\"data_path\":\"./timit_11/train_11.npy\",\"label_path\":\"./timit_11/train_label_11.npy\",\"data_or_label\":\"both\"},\n",
        "    \"val\":{\"function\":TIMIT_train_val_f,\"data_path\":\"./timit_11/train_11.npy\",\"label_path\":\"./timit_11/train_label_11.npy\",\"data_or_label\":\"both\"},\n",
        "    \"test\":{\"function\":TIMIT_test_f,\"path\":\"./timit_11/test_11.npy\",\"data_or_label\":\"data\"}\n",
        "}"
      ]
    },
    {
      "cell_type": "code",
      "execution_count": 6,
      "metadata": {
        "id": "hO5DMZc_xWT6"
      },
      "outputs": [],
      "source": [
        "#rewrite class Dataset\n",
        "from torch.utils.data import Dataset, DataLoader\n",
        "class Dataset_preparation(Dataset):\n",
        "  def __init__(self,mode,data_info):\n",
        "      self.mode = mode\n",
        "      self.data_or_label = data_info[mode][\"data_or_label\"]\n",
        "\n",
        "      if self.data_or_label == \"data\":\n",
        "        self.data = data_info[self.mode][\"function\"](self.mode,\"data\")\n",
        "      elif self.data_or_label == \"both\":\n",
        "        data_and_label = data_info[self.mode][\"function\"](self.mode,\"both\")\n",
        "        self.data = data_and_label[\"data\"]\n",
        "        self.label = data_and_label[\"label\"]\n",
        "      else :\n",
        "        self.label = data_info[self.mode][\"function\"](self.mode,\"label\")[\"label\"]\n",
        "\n",
        "      self.dim = self.data.shape[1]\n",
        "      print('Finished reading the {mode} set of Dataset ({len} samples found, each dim = {dim})'\n",
        "              .format(mode = self.mode, len =len(self.data), dim=self.dim))\n",
        "\n",
        "  def __getitem__(self, index):\n",
        "      if self.data_or_label == \"data\":\n",
        "        return self.data[index]\n",
        "      elif self.data_or_label == \"both\":\n",
        "        return self.data[index], self.label[index]\n",
        "      else :\n",
        "        return self.label[index]\n",
        "  def __len__(self):\n",
        "      # Returns the size of the dataset\n",
        "      return len(self.data)"
      ]
    },
    {
      "cell_type": "code",
      "execution_count": 7,
      "metadata": {
        "id": "hD5Hgji4jIAI"
      },
      "outputs": [],
      "source": [
        "from torch.utils.data import DataLoader\n",
        "#decide how to load data\n",
        "def prep_dataloader(mode,d_info,batch_size,n_jobs=0):\n",
        "    dataset = Dataset_preparation(mode,d_info)\n",
        "    dataloader = DataLoader(\n",
        "        dataset, batch_size,\n",
        "        shuffle=(mode == 'train'), drop_last=False,\n",
        "        num_workers=n_jobs, pin_memory=False)\n",
        "    return dataloader"
      ]
    },
    {
      "cell_type": "code",
      "execution_count": 8,
      "metadata": {
        "id": "ITQeruJjxwLw"
      },
      "outputs": [],
      "source": [
        "#Model : class Classifier\n",
        "import torch.nn as nn\n",
        "class Classifier(nn.Module):\n",
        "    def __init__(self, input_dim):\n",
        "        super(Classifier, self).__init__()\n",
        "\n",
        "        self.net = nn.Sequential(\n",
        "              nn.Linear(input_dim, 1024),\n",
        "              nn.LeakyReLU(),\n",
        "              nn.Linear(1024, 512),\n",
        "              nn.LeakyReLU(),\n",
        "              nn.Linear(512, 256),\n",
        "              nn.LeakyReLU(),\n",
        "              nn.Linear(256, 39),\n",
        "              )\n",
        "        self.criterion = nn.CrossEntropyLoss()\n",
        "\n",
        "    def forward(self, x):\n",
        "        x = self.net(x)\n",
        "        return x\n",
        "\n",
        "    def cal_loss(self, pred, target):\n",
        "        return self.criterion(pred, target)"
      ]
    },
    {
      "cell_type": "code",
      "execution_count": 9,
      "metadata": {
        "id": "Kmgic7vtmS0S"
      },
      "outputs": [],
      "source": [
        "h_paras = {\n",
        "    # maximum number of epochs\n",
        "    'n_epochs': 200,\n",
        "    # mini-batch size for dataloader\n",
        "    'batch_size': 160,\n",
        "    # optimization algorithm (optimizer in torch.optim)\n",
        "    'optimizer': 'Adam',\n",
        "    # hyper-parameters for the optimizer (depends on which optimizer you are using)\n",
        "    'optim_hparas': {\n",
        "        # learning rate of Adam\n",
        "        'lr': 0.001,\n",
        "    },\n",
        "    'early_stop': 5,\n",
        "    # your model will be saved here\n",
        "    'save_path': './model.pth'\n",
        "}"
      ]
    },
    {
      "cell_type": "code",
      "execution_count": 10,
      "metadata": {
        "colab": {
          "base_uri": "https://localhost:8080/"
        },
        "id": "NlQPiELgvnJZ",
        "outputId": "97d29e86-73e7-4621-f9ef-19289599dabb"
      },
      "outputs": [
        {
          "output_type": "stream",
          "name": "stdout",
          "text": [
            "Size of training data: (1229932, 429)\n",
            "Size of training label: (1229932,)\n",
            "Finished reading the train set of Dataset (983945 samples found, each dim = 429)\n",
            "Size of training data: (1229932, 429)\n",
            "Size of training label: (1229932,)\n",
            "Finished reading the val set of Dataset (245987 samples found, each dim = 429)\n",
            "Size of testing data: (451552, 429)\n",
            "Finished reading the test set of Dataset (451552 samples found, each dim = 429)\n"
          ]
        }
      ],
      "source": [
        "train_set = prep_dataloader(\"train\",data_info,h_paras['batch_size'])\n",
        "val_set = prep_dataloader(\"val\",data_info,h_paras['batch_size'])\n",
        "test_set = prep_dataloader(\"test\",data_info,h_paras['batch_size'])"
      ]
    },
    {
      "cell_type": "code",
      "execution_count": 11,
      "metadata": {
        "id": "YBVPFzdKrLrj"
      },
      "outputs": [],
      "source": [
        "def train(train_set,model_d,optimizer,device):\n",
        "    # set model to training mode\n",
        "    model_d.train()\n",
        "    total_correct_number = 0\n",
        "    train_loss_list = []\n",
        "    # iterate through the dataloader\n",
        "    for data , label in train_set:\n",
        "      # move data to device (cpu/cuda)\n",
        "      data_d , label_d = data.to(device), label.to(device)\n",
        "      # forward pass (compute output tensor)\n",
        "      pred = (model_d(data_d))\n",
        "      # get the index of the class with the highest probability\n",
        "      max_prob_values, max_prob_indexs = torch.max(pred, dim = 1)\n",
        "      correct_number = (max_prob_indexs.cpu() == label_d.cpu()).sum().item()\n",
        "#      print(correct_number)\n",
        "      total_correct_number += correct_number\n",
        "      # compute loss\n",
        "      loss = model_d.cal_loss(pred , label_d)\n",
        "      # compute gradient (backpropagation)\n",
        "      loss.backward()\n",
        "      # update model with optimizer\n",
        "      optimizer.step()\n",
        "      # set optimizer gradient to zero\n",
        "      optimizer.zero_grad()\n",
        "      train_loss_list.append(loss.detach().cpu().item())\n",
        "    acc = total_correct_number/len(train_set.dataset)\n",
        "    return acc , train_loss_list\n",
        "\n"
      ]
    },
    {
      "cell_type": "code",
      "execution_count": 12,
      "metadata": {
        "id": "5jpOZAC-0KYs"
      },
      "outputs": [],
      "source": [
        "#a = torch.tensor([[0,1],[2,3]])\n",
        "#b = torch.tensor([[4,1],[5,3]])\n",
        "#print(type(a == b))"
      ]
    },
    {
      "cell_type": "code",
      "execution_count": 13,
      "metadata": {
        "id": "PNmbO_LprNKg"
      },
      "outputs": [],
      "source": [
        "def val(val_set,model_d,device):\n",
        "    # set model to evalutation mode\n",
        "    model_d.eval()\n",
        "    total_correct_number = 0\n",
        "    total_loss = 0\n",
        "    # iterate through the dataloader\n",
        "    for data , label in val_set:\n",
        "    # move data to device (cpu/cuda)\n",
        "      data_d, label_d = data.to(device), label.to(device)\n",
        "      # disable gradient calculation\n",
        "      with torch.no_grad():\n",
        "        # forward pass (compute output)\n",
        "        pred = model_d(data_d)\n",
        "        # get the index of the class with the highest probability\n",
        "        max_prob_values, max_prob_indexs = torch.max(pred, dim = 1)\n",
        "        total_correct_number += (max_prob_indexs.cpu() == label_d.cpu()).sum().item()\n",
        "        # compute loss\n",
        "        mse_loss = model_d.cal_loss(pred, label_d)\n",
        "      # accumulate loss\n",
        "      batch_size = len(data_d)\n",
        "      total_loss += mse_loss.detach().cpu().item() * batch_size\n",
        "\n",
        "    # compute averaged loss\n",
        "    totol_size = len(val_set.dataset)\n",
        "    acc = total_correct_number/totol_size\n",
        "    avg_loss =  total_loss/totol_size\n",
        "    return acc, avg_loss"
      ]
    },
    {
      "cell_type": "code",
      "execution_count": 14,
      "metadata": {
        "id": "K51r19pPsDfq"
      },
      "outputs": [],
      "source": [
        "def train_val_process(training_set, validation_set, model, h_paras, device):\n",
        "    #1: move model to device (cpu/cuda)\n",
        "    model_d = model.to(device)\n",
        "    #2: set optimizer = torch.optim.SGD(model_d.parameters(),lr=0.001,momentum=0.9)\n",
        "    lr_now = h_paras['optim_hparas'][\"lr\"]\n",
        "    optimizer = getattr(torch.optim, h_paras['optimizer'])(\n",
        "        model_d.parameters(), lr = lr_now)\n",
        "\n",
        "    #3: set epoch = h_paras['n_epochs'] = 3000\n",
        "    n_epochs = h_paras['n_epochs']\n",
        "\n",
        "    #4: record training accuracy\n",
        "    acc_record = {'train': [], \"val\": []}\n",
        "    #5: record training loss\n",
        "    loss_record = {'train': [], \"val\": []}\n",
        "\n",
        "    #6: setting paras\n",
        "    # epoch para\n",
        "    epoch = 0\n",
        "    # accuracy paras\n",
        "    best_acc = 0\n",
        "    # early-stoping paras\n",
        "    early_stop_cnt = 0\n",
        "    #start training\n",
        "    while epoch < n_epochs:\n",
        "\n",
        "      # Part1 : training process\n",
        "      # updata model weight and compute model loss\n",
        "      train_acc , train_loss_list = train(training_set,model_d,optimizer,device)\n",
        "      # save accuracy to acc_record['train']\n",
        "      acc_record['train'].append(train_acc)\n",
        "      # save loss to loss_record['train']\n",
        "      loss_record['train'].append(train_loss_list)\n",
        "      # renew epoch para\n",
        "      epoch += 1\n",
        "      print('train set accuracy = {:.3f}'.format(train_acc))\n",
        "      # Part2 validation process\n",
        "      # After each epoch, test your model\n",
        "      # on the validation (development) set.\n",
        "      val_acc , val_loss = val(validation_set, model_d, device)\n",
        "      # save accuracy to acc_record[\"val\"]\n",
        "      acc_record[\"val\"].append(val_acc)\n",
        "      # save loss to loss_record[\"val\"]\n",
        "      loss_record[\"val\"].append(val_loss)\n",
        "\n",
        "      print(' model epoch = {:4d}, train_loss = {:.4f} , val_loss = {:.4f})'\\\n",
        "      .format(epoch , train_loss_list[-1] , val_loss))\n",
        "      # Save model to specified path if your model improved\n",
        "      torch.save(model_d.state_dict(), h_paras['save_path'])\n",
        "      if val_acc > best_acc:\n",
        "        best_acc = val_acc\n",
        "        torch.save(model.state_dict(), h_paras[\"save_path\"])\n",
        "        print('saving model with acc {:.3f}'.format(best_acc))\n",
        "        early_stop_cnt = 0\n",
        "      else:\n",
        "        early_stop_cnt += 1\n",
        "      # Check early stop criteria\n",
        "      if early_stop_cnt > h_paras['early_stop']:\n",
        "          # Stop training if your model stops improving\n",
        "          # for \"h_paras['early_stop']\" epochs.\n",
        "          break\n",
        "      elif ((early_stop_cnt > 0) and (lr_now>0.0001)):\n",
        "        lr_now = lr_now * 0.5\n",
        "        optimizer = getattr(torch.optim, h_paras['optimizer'])(\n",
        "        model_d.parameters(), lr = lr_now)\n",
        "#        early_stop_cnt = 0\n",
        "\n",
        "    print('Finished training after {} epochs'.format(epoch))\n",
        "    return acc_record , loss_record"
      ]
    },
    {
      "cell_type": "code",
      "execution_count": 15,
      "metadata": {
        "colab": {
          "base_uri": "https://localhost:8080/"
        },
        "id": "vmLxwH6v7Yne",
        "outputId": "7f5eae45-4060-4cbb-f923-543819b6c685"
      },
      "outputs": [
        {
          "output_type": "stream",
          "name": "stdout",
          "text": [
            "train set accuracy = 0.651\n",
            " model epoch =    1, train_loss = 1.0237 , val_loss = 0.9907)\n",
            "saving model with acc 0.682\n",
            "train set accuracy = 0.711\n",
            " model epoch =    2, train_loss = 0.7192 , val_loss = 0.9604)\n",
            "saving model with acc 0.694\n",
            "train set accuracy = 0.734\n",
            " model epoch =    3, train_loss = 0.9941 , val_loss = 0.9579)\n",
            "saving model with acc 0.698\n",
            "train set accuracy = 0.751\n",
            " model epoch =    4, train_loss = 0.6391 , val_loss = 0.9857)\n",
            "saving model with acc 0.699\n",
            "train set accuracy = 0.764\n",
            " model epoch =    5, train_loss = 0.6534 , val_loss = 0.9943)\n",
            "saving model with acc 0.702\n",
            "train set accuracy = 0.776\n",
            " model epoch =    6, train_loss = 0.5629 , val_loss = 1.0144)\n",
            "saving model with acc 0.702\n",
            "train set accuracy = 0.786\n",
            " model epoch =    7, train_loss = 0.6107 , val_loss = 1.0448)\n",
            "train set accuracy = 0.832\n",
            " model epoch =    8, train_loss = 0.4289 , val_loss = 1.1209)\n",
            "saving model with acc 0.711\n",
            "train set accuracy = 0.851\n",
            " model epoch =    9, train_loss = 0.4614 , val_loss = 1.1752)\n",
            "train set accuracy = 0.881\n",
            " model epoch =   10, train_loss = 0.2128 , val_loss = 1.2979)\n",
            "saving model with acc 0.712\n",
            "train set accuracy = 0.895\n",
            " model epoch =   11, train_loss = 0.3394 , val_loss = 1.3835)\n",
            "train set accuracy = 0.915\n",
            " model epoch =   12, train_loss = 0.3215 , val_loss = 1.4995)\n",
            "train set accuracy = 0.929\n",
            " model epoch =   13, train_loss = 0.2392 , val_loss = 1.5907)\n",
            "train set accuracy = 0.934\n",
            " model epoch =   14, train_loss = 0.1743 , val_loss = 1.6506)\n",
            "train set accuracy = 0.938\n",
            " model epoch =   15, train_loss = 0.2985 , val_loss = 1.7129)\n",
            "train set accuracy = 0.941\n",
            " model epoch =   16, train_loss = 0.2631 , val_loss = 1.7803)\n",
            "Finished training after 16 epochs\n"
          ]
        }
      ],
      "source": [
        "# Construct model\n",
        "model = Classifier(train_set.dataset.dim)\n",
        "model_acc_record, model_loss_record = train_val_process(train_set, val_set, model, h_paras, device)"
      ]
    },
    {
      "cell_type": "code",
      "execution_count": 16,
      "metadata": {
        "id": "Pr-wPzyarRw7"
      },
      "outputs": [],
      "source": [
        "def test(test_set, model_d, device):\n",
        "    # set model to evalutation mode\n",
        "    model_d.eval()\n",
        "    pred_index = []\n",
        "    pred_loss = []\n",
        "    # iterate through the dataloader\n",
        "    for data in test_set:\n",
        "      # move data to device (cpu/cuda)\n",
        "      data_d = data.to(device)\n",
        "      # disable gradient calculation\n",
        "      with torch.no_grad():\n",
        "        # forward pass (compute output)\n",
        "        pred = model_d(data_d)\n",
        "        # get the index of the class with the highest probability\n",
        "        max_prob_values, max_prob_indexs = torch.max(pred, dim = 1)\n",
        "        # collect prediction\n",
        "        pred_index += (max_prob_indexs.tolist())\n",
        "        pred_loss += (pred.mean(dim = 1).tolist())\n",
        "    # concatenate all predictions and convert to a numpy array\n",
        "    np_pred_index , np_pred_loss = np.array(pred_index), np.array(pred_loss)\n",
        "    pred_dict = { \"pred_index\" : np_pred_index , \"pred_loss\" : np_pred_loss }\n",
        "    return pred_dict\n",
        "\n"
      ]
    },
    {
      "cell_type": "code",
      "execution_count": 17,
      "metadata": {
        "colab": {
          "base_uri": "https://localhost:8080/"
        },
        "id": "-RSPCP3Y8xZT",
        "outputId": "442998d2-bdce-42ca-dd4d-e8eab9f9163d"
      },
      "outputs": [
        {
          "output_type": "execute_result",
          "data": {
            "text/plain": [
              "<All keys matched successfully>"
            ]
          },
          "metadata": {},
          "execution_count": 17
        }
      ],
      "source": [
        "# create model and load weights from checkpoint\n",
        "model = Classifier(train_set.dataset.dim).to(device)\n",
        "model_loading = torch.load(h_paras['save_path'], map_location=device)\n",
        "model.load_state_dict(model_loading,strict=True)"
      ]
    },
    {
      "cell_type": "code",
      "execution_count": 18,
      "metadata": {
        "id": "-Nesvgrc80Y7"
      },
      "outputs": [],
      "source": [
        "import pandas as pd\n",
        "def save_pred(pred_dict, loss_file_path , index_file_path):\n",
        "    print('Saving loss to {}'.format(loss_file_path))\n",
        "    print('Saving acc to {}'.format(index_file_path))\n",
        "    index = pred_dict[\"pred_index\"]\n",
        "    loss = pred_dict[\"pred_loss\"]\n",
        "#    print(acc.shape,loss.shape)\n",
        "#    for  index ,(a , l) in enumerate(zip(acc,loss)):\n",
        "#      if index%10000 == 0:\n",
        "#        print(a , l)\n",
        "    df_acc = pd.DataFrame({\"index\": index})\n",
        "    df_acc.to_csv(index_file_path)\n",
        "    df_loss = pd.DataFrame({\"loss\": loss})\n",
        "    df_loss.to_csv(loss_file_path)"
      ]
    },
    {
      "cell_type": "code",
      "execution_count": 19,
      "metadata": {
        "id": "vn7uZBEnmtLT"
      },
      "outputs": [],
      "source": [
        "pred_dict = test(test_set, model, device)  # predict cases with your model"
      ]
    },
    {
      "cell_type": "code",
      "execution_count": 20,
      "metadata": {
        "colab": {
          "base_uri": "https://localhost:8080/"
        },
        "id": "e3T8q0VH6OGO",
        "outputId": "c2e054dc-3f33-44fa-fe8a-e0efa5bfeb08"
      },
      "outputs": [
        {
          "output_type": "stream",
          "name": "stdout",
          "text": [
            "Saving loss to pred_loss.csv\n",
            "Saving acc to pred_index.csv\n"
          ]
        }
      ],
      "source": [
        "save_pred(pred_dict, 'pred_loss.csv','pred_index.csv')         # save prediction file to pred.csv\n",
        "#del model"
      ]
    },
    {
      "cell_type": "code",
      "execution_count": 21,
      "metadata": {
        "id": "lWfQQW5o84-k"
      },
      "outputs": [],
      "source": [
        "#with open('prediction.csv', 'w') as f:\n",
        "#    f.write('Id,Class\\n')\n",
        "#for acc , loss in (test(test_set, model, device).values(),test(test_set, model, device).values()):\n",
        "#        f.write('{},{}\\n'.format(n_epoch, acc,loss))\n"
      ]
    },
    {
      "cell_type": "code",
      "execution_count": 22,
      "metadata": {
        "id": "ezW1zqtjm0gM"
      },
      "outputs": [],
      "source": [
        "#%conda install -c conda-forge matplotlib\n",
        "import matplotlib.pyplot as plt\n",
        "def plot_learning_curve_loss(loss_record, title=''):\n",
        "    #plot1 : train loss\n",
        "    #plot2 : val loss\n",
        "    train_data = np.array(loss_record['train']).flatten()\n",
        "    val_data = np.array(loss_record['val']).flatten()\n",
        "    #setting index range\n",
        "    total_steps = len(train_data)\n",
        "    x_1 = range(total_steps)\n",
        "\n",
        "    x_2 = x_1[::len(train_data) // len(val_data)]\n",
        "\n",
        "    #figure size setting\n",
        "    plt.figure(figsize=(6, 4))\n",
        "    #plot train data\n",
        "    plt.plot(x_1, train_data, c='tab:red', label='train')\n",
        "    #plot val data\n",
        "    plt.plot(x_2, val_data, c='tab:cyan', label='val')\n",
        "\n",
        "    plt.ylim(0.0, 4.)\n",
        "    #title & label setting\n",
        "    plt.title('Learning curve of {}'.format(title))\n",
        "    plt.xlabel('Training steps')\n",
        "    plt.ylabel('Cross Entropy loss')\n",
        "    #show legend\n",
        "    plt.legend()\n",
        "    #show plot\n",
        "    plt.show()\n",
        "def plot_learning_curve_acc(acc_record, title=''):\n",
        "    #plot1 : train acc\n",
        "    #plot2 : val acc\n",
        "    train_data = np.array(acc_record['train']).flatten()\n",
        "    val_data = np.array(acc_record['val']).flatten()\n",
        "    #setting index range\n",
        "    x_1 = range(len(train_data))\n",
        "    x_2 = range(len(val_data))\n",
        "\n",
        "    #figure size setting\n",
        "    plt.figure(figsize=(6, 4))\n",
        "    #plot train data\n",
        "    plt.plot(x_1, train_data, c='tab:red', label='train')\n",
        "    #plot val data\n",
        "    plt.plot(x_2, val_data, c='tab:cyan', label='val')\n",
        "\n",
        "    plt.ylim(0.6, 0.8)\n",
        "    #title & label setting\n",
        "    plt.title('Learning curve of {}'.format(title))\n",
        "    plt.xlabel('Training steps')\n",
        "    plt.ylabel('Cross Entropy loss')\n",
        "    #show legend\n",
        "    plt.legend()\n",
        "    #show plot\n",
        "    plt.show()\n"
      ]
    },
    {
      "cell_type": "code",
      "execution_count": 23,
      "metadata": {
        "colab": {
          "base_uri": "https://localhost:8080/",
          "height": 410
        },
        "id": "GBEZWDXIm2rj",
        "outputId": "6fb21f2a-34e7-4c7d-e5a8-749d14827d23"
      },
      "outputs": [
        {
          "output_type": "display_data",
          "data": {
            "text/plain": [
              "<Figure size 600x400 with 1 Axes>"
            ],
            "image/png": "[encoded data removed]"
          },
          "metadata": {}
        }
      ],
      "source": [
        "plot_learning_curve_loss(model_loss_record, title='deep model')"
      ]
    },
    {
      "cell_type": "code",
      "execution_count": 24,
      "metadata": {
        "colab": {
          "base_uri": "https://localhost:8080/",
          "height": 410
        },
        "id": "H21q64sNQ68F",
        "outputId": "4d7475ab-cd6f-4b36-8b68-2b1409f88d15"
      },
      "outputs": [
        {
          "output_type": "display_data",
          "data": {
            "text/plain": [
              "<Figure size 600x400 with 1 Axes>"
            ],
            "image/png": "[encoded data removed]"
          },
          "metadata": {}
        }
      ],
      "source": [
        "plot_learning_curve_acc(model_acc_record, title='deep model')"
      ]
    }
  ],
  "metadata": {
    "accelerator": "GPU",
    "colab": {
      "gpuType": "T4",
      "provenance": [],
      "include_colab_link": true
    },
    "kernelspec": {
      "display_name": "Python 3",
      "name": "python3"
    },
    "language_info": {
      "codemirror_mode": {
        "name": "ipython",
        "version": 3
      },
      "file_extension": ".py",
      "mimetype": "text/x-python",
      "name": "python",
      "nbconvert_exporter": "python",
      "pygments_lexer": "ipython3",
      "version": "3.11.5"
    }
  },
  "nbformat": 4,
  "nbformat_minor": 0
}