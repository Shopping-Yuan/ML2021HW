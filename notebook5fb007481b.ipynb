{
  "metadata": {
    "kernelspec": {
      "language": "python",
      "display_name": "Python 3",
      "name": "python3"
    },
    "language_info": {
      "name": "python",
      "version": "3.10.13",
      "mimetype": "text/x-python",
      "codemirror_mode": {
        "name": "ipython",
        "version": 3
      },
      "pygments_lexer": "ipython3",
      "nbconvert_exporter": "python",
      "file_extension": ".py"
    },
    "kaggle": {
      "accelerator": "none",
      "dataSources": [
        {
          "sourceId": 5407,
          "databundleVersionId": 868283,
          "sourceType": "competition"
        }
      ],
      "dockerImageVersionId": 30715,
      "isInternetEnabled": true,
      "language": "python",
      "sourceType": "notebook",
      "isGpuEnabled": false
    },
    "colab": {
      "name": "notebook5fb007481b",
      "provenance": [],
      "include_colab_link": true
    }
  },
  "nbformat_minor": 0,
  "nbformat": 4,
  "cells": [
    {
      "cell_type": "markdown",
      "metadata": {
        "id": "view-in-github",
        "colab_type": "text"
      },
      "source": [
        "<a href=\"https://colab.research.google.com/github/Shopping-Yuan/ML_Project/blob/Shopping_vscode_branch/notebook5fb007481b.ipynb\" target=\"_parent\"><img src=\"https://colab.research.google.com/assets/colab-badge.svg\" alt=\"Open In Colab\"/></a>"
      ]
    },
    {
      "source": [
        "\n",
        "# IMPORTANT: RUN THIS CELL IN ORDER TO IMPORT YOUR KAGGLE DATA SOURCES\n",
        "# TO THE CORRECT LOCATION (/kaggle/input) IN YOUR NOTEBOOK,\n",
        "# THEN FEEL FREE TO DELETE THIS CELL.\n",
        "# NOTE: THIS NOTEBOOK ENVIRONMENT DIFFERS FROM KAGGLE'S PYTHON\n",
        "# ENVIRONMENT SO THERE MAY BE MISSING LIBRARIES USED BY YOUR\n",
        "# NOTEBOOK.\n",
        "\n",
        "import os\n",
        "import sys\n",
        "from tempfile import NamedTemporaryFile\n",
        "from urllib.request import urlopen\n",
        "from urllib.parse import unquote, urlparse\n",
        "from urllib.error import HTTPError\n",
        "from zipfile import ZipFile\n",
        "import tarfile\n",
        "import shutil\n",
        "\n",
        "CHUNK_SIZE = 40960\n",
        "DATA_SOURCE_MAPPING = 'house-prices-advanced-regression-techniques:https%3A%2F%2Fstorage.googleapis.com%2Fkaggle-competitions-data%2Fkaggle-v2%2F5407%2F868283%2Fbundle%2Farchive.zip%3FX-Goog-Algorithm%3DGOOG4-RSA-SHA256%26X-Goog-Credential%3Dgcp-kaggle-com%2540kaggle-161607.iam.gserviceaccount.com%252F20240604%252Fauto%252Fstorage%252Fgoog4_request%26X-Goog-Date%3D20240604T054634Z%26X-Goog-Expires%3D259200%26X-Goog-SignedHeaders%3Dhost%26X-Goog-Signature%3D8599622bdd97015cbc78839527a7c212506420c60a79503453d966f40c9ed797b2e8efd9bfeab96719bc88a3a54c7877901c12574bb4b6c37461eac432ea274b0456d7fc6757744198b59049fedbf6058f21974d94de9ff3725d02121eb1c046ce2b5ed413150b38639caebdae19fa00d369002658bd7d237918c19b808aa1e7f911a7e2103e8882c153be79c7bedc128ab27ce42f5e534d99c71f76f825119949d5a12414cd6d64584d985da45757582ebc57da1bc3e34b84928364d185056490840d4fb953cbba0e0918aa3b0ecc30bddbbb05d3c5938da309a2bfd25d2b26e543987459a5fb6418bb5db4b889ff832e26b14d08bf1733121ec6c8c764f381'\n",
        "\n",
        "KAGGLE_INPUT_PATH='/kaggle/input'\n",
        "KAGGLE_WORKING_PATH='/kaggle/working'\n",
        "KAGGLE_SYMLINK='kaggle'\n",
        "\n",
        "!umount /kaggle/input/ 2> /dev/null\n",
        "shutil.rmtree('/kaggle/input', ignore_errors=True)\n",
        "os.makedirs(KAGGLE_INPUT_PATH, 0o777, exist_ok=True)\n",
        "os.makedirs(KAGGLE_WORKING_PATH, 0o777, exist_ok=True)\n",
        "\n",
        "try:\n",
        "  os.symlink(KAGGLE_INPUT_PATH, os.path.join(\"..\", 'input'), target_is_directory=True)\n",
        "except FileExistsError:\n",
        "  pass\n",
        "try:\n",
        "  os.symlink(KAGGLE_WORKING_PATH, os.path.join(\"..\", 'working'), target_is_directory=True)\n",
        "except FileExistsError:\n",
        "  pass\n",
        "\n",
        "for data_source_mapping in DATA_SOURCE_MAPPING.split(','):\n",
        "    directory, download_url_encoded = data_source_mapping.split(':')\n",
        "    download_url = unquote(download_url_encoded)\n",
        "    filename = urlparse(download_url).path\n",
        "    destination_path = os.path.join(KAGGLE_INPUT_PATH, directory)\n",
        "    try:\n",
        "        with urlopen(download_url) as fileres, NamedTemporaryFile() as tfile:\n",
        "            total_length = fileres.headers['content-length']\n",
        "            print(f'Downloading {directory}, {total_length} bytes compressed')\n",
        "            dl = 0\n",
        "            data = fileres.read(CHUNK_SIZE)\n",
        "            while len(data) > 0:\n",
        "                dl += len(data)\n",
        "                tfile.write(data)\n",
        "                done = int(50 * dl / int(total_length))\n",
        "                sys.stdout.write(f\"\\r[{'=' * done}{' ' * (50-done)}] {dl} bytes downloaded\")\n",
        "                sys.stdout.flush()\n",
        "                data = fileres.read(CHUNK_SIZE)\n",
        "            if filename.endswith('.zip'):\n",
        "              with ZipFile(tfile) as zfile:\n",
        "                zfile.extractall(destination_path)\n",
        "            else:\n",
        "              with tarfile.open(tfile.name) as tarfile:\n",
        "                tarfile.extractall(destination_path)\n",
        "            print(f'\\nDownloaded and uncompressed: {directory}')\n",
        "    except HTTPError as e:\n",
        "        print(f'Failed to load (likely expired) {download_url} to path {destination_path}')\n",
        "        continue\n",
        "    except OSError as e:\n",
        "        print(f'Failed to load {download_url} to path {destination_path}')\n",
        "        continue\n",
        "\n",
        "print('Data source import complete.')\n"
      ],
      "metadata": {
        "colab": {
          "base_uri": "https://localhost:8080/"
        },
        "id": "FkTRyFZNRK0O",
        "outputId": "a0220164-222d-4798-ca3d-390128aacdde"
      },
      "cell_type": "code",
      "outputs": [
        {
          "output_type": "stream",
          "name": "stdout",
          "text": [
            "Downloading house-prices-advanced-regression-techniques, 203809 bytes compressed\n",
            "[==================================================] 203809 bytes downloaded\n",
            "Downloaded and uncompressed: house-prices-advanced-regression-techniques\n",
            "Data source import complete.\n"
          ]
        }
      ],
      "execution_count": 1
    },
    {
      "cell_type": "code",
      "source": [
        "# This Python 3 environment comes with many helpful analytics libraries installed\n",
        "# It is defined by the kaggle/python Docker image: https://github.com/kaggle/docker-python\n",
        "# For example, here's several helpful packages to load\n",
        "\n",
        "import numpy as np # linear algebra\n",
        "import pandas as pd # data processing, CSV file I/O (e.g. pd.read_csv)\n",
        "\n",
        "# Input data files are available in the read-only \"../input/\" directory\n",
        "# For example, running this (by clicking run or pressing Shift+Enter) will list all files under the input directory\n",
        "\n",
        "import os\n",
        "for dirname, _, filenames in os.walk('/kaggle/input'):\n",
        "    for filename in filenames:\n",
        "        print(os.path.join(dirname, filename))\n",
        "\n",
        "# You can write up to 20GB to the current directory (/kaggle/working/) that gets preserved as output when you create a version using \"Save & Run All\"\n",
        "# You can also write temporary files to /kaggle/temp/, but they won't be saved outside of the current session"
      ],
      "metadata": {
        "_uuid": "8f2839f25d086af736a60e9eeb907d3b93b6e0e5",
        "_cell_guid": "b1076dfc-b9ad-4769-8c92-a6c4dae69d19",
        "execution": {
          "iopub.status.busy": "2024-05-31T04:26:25.821011Z",
          "iopub.execute_input": "2024-05-31T04:26:25.821407Z",
          "iopub.status.idle": "2024-05-31T04:26:26.865933Z",
          "shell.execute_reply.started": "2024-05-31T04:26:25.821377Z",
          "shell.execute_reply": "2024-05-31T04:26:26.86493Z"
        },
        "trusted": true,
        "colab": {
          "base_uri": "https://localhost:8080/"
        },
        "id": "lYistAPmRK0P",
        "outputId": "80d59249-3b74-4a7e-ad39-d5600bb48493"
      },
      "execution_count": 2,
      "outputs": [
        {
          "output_type": "stream",
          "name": "stdout",
          "text": [
            "/kaggle/input/house-prices-advanced-regression-techniques/sample_submission.csv\n",
            "/kaggle/input/house-prices-advanced-regression-techniques/data_description.txt\n",
            "/kaggle/input/house-prices-advanced-regression-techniques/train.csv\n",
            "/kaggle/input/house-prices-advanced-regression-techniques/test.csv\n"
          ]
        }
      ]
    },
    {
      "cell_type": "code",
      "source": [
        "from sklearn.model_selection import train_test_split\n",
        "train = pd.read_csv(\"/kaggle/input/house-prices-advanced-regression-techniques/train.csv\")\n",
        "test = pd.read_csv(\"/kaggle/input/house-prices-advanced-regression-techniques/test.csv\")\n",
        "train.dtypes\n"
      ],
      "metadata": {
        "execution": {
          "iopub.status.busy": "2024-05-31T05:32:21.783119Z",
          "iopub.execute_input": "2024-05-31T05:32:21.783538Z",
          "iopub.status.idle": "2024-05-31T05:32:21.84816Z",
          "shell.execute_reply.started": "2024-05-31T05:32:21.783502Z",
          "shell.execute_reply": "2024-05-31T05:32:21.846994Z"
        },
        "trusted": true,
        "colab": {
          "base_uri": "https://localhost:8080/"
        },
        "id": "GZyEf1NfRK0P",
        "outputId": "c7778ee9-3403-4711-efca-43ba352f03fb"
      },
      "execution_count": 3,
      "outputs": [
        {
          "output_type": "execute_result",
          "data": {
            "text/plain": [
              "Id                 int64\n",
              "MSSubClass         int64\n",
              "MSZoning          object\n",
              "LotFrontage      float64\n",
              "LotArea            int64\n",
              "                  ...   \n",
              "MoSold             int64\n",
              "YrSold             int64\n",
              "SaleType          object\n",
              "SaleCondition     object\n",
              "SalePrice          int64\n",
              "Length: 81, dtype: object"
            ]
          },
          "metadata": {},
          "execution_count": 3
        }
      ]
    },
    {
      "cell_type": "code",
      "source": [
        "from sklearn.preprocessing import LabelEncoder\n",
        "def labelencoder(dataset):\n",
        "    names = list(train.dtypes[train.dtypes == object].index)\n",
        "    dataset_encoder = pd.DataFrame(columns=dataset.columns)\n",
        "    for name in dataset.columns:\n",
        "        if name in names:\n",
        "            label_encoder = LabelEncoder()\n",
        "            dataset_encoder[name] = label_encoder.fit_transform(dataset[name])\n",
        "        else :\n",
        "            dataset_encoder[name] = dataset[name]\n",
        "    return dataset_encoder\n",
        "\n",
        "\n",
        "train_encoder = labelencoder(train)\n",
        "test_encoder = labelencoder(test)"
      ],
      "metadata": {
        "execution": {
          "iopub.status.busy": "2024-05-31T05:32:27.201886Z",
          "iopub.execute_input": "2024-05-31T05:32:27.202319Z",
          "iopub.status.idle": "2024-05-31T05:32:27.305516Z",
          "shell.execute_reply.started": "2024-05-31T05:32:27.202285Z",
          "shell.execute_reply": "2024-05-31T05:32:27.304381Z"
        },
        "trusted": true,
        "id": "KCt5W5q3RK0P"
      },
      "execution_count": 4,
      "outputs": []
    },
    {
      "cell_type": "code",
      "source": [
        "import numpy as np\n",
        "from sklearn.impute import KNNImputer\n",
        "imputer = KNNImputer(n_neighbors=10)\n",
        "impute_training_set = pd.DataFrame(imputer.fit_transform(train_encoder),columns = list(train_encoder.columns))\n",
        "impute_testing_set = pd.DataFrame(imputer.fit_transform(test_encoder),columns = list(test_encoder.columns))"
      ],
      "metadata": {
        "execution": {
          "iopub.status.busy": "2024-05-31T05:32:30.871635Z",
          "iopub.execute_input": "2024-05-31T05:32:30.872017Z",
          "iopub.status.idle": "2024-05-31T05:32:31.207619Z",
          "shell.execute_reply.started": "2024-05-31T05:32:30.871988Z",
          "shell.execute_reply": "2024-05-31T05:32:31.20674Z"
        },
        "trusted": true,
        "id": "9IyMQjg5RK0Q"
      },
      "execution_count": 5,
      "outputs": []
    },
    {
      "cell_type": "code",
      "source": [
        "train_set,val_set = train_test_split(impute_training_set, test_size=0.2, random_state=1)"
      ],
      "metadata": {
        "execution": {
          "iopub.status.busy": "2024-05-31T05:32:41.834272Z",
          "iopub.execute_input": "2024-05-31T05:32:41.834668Z",
          "iopub.status.idle": "2024-05-31T05:32:41.84168Z",
          "shell.execute_reply.started": "2024-05-31T05:32:41.834638Z",
          "shell.execute_reply": "2024-05-31T05:32:41.840856Z"
        },
        "trusted": true,
        "id": "28DmLxUuRK0Q"
      },
      "execution_count": null,
      "outputs": []
    },
    {
      "cell_type": "code",
      "source": [
        "from sklearn.ensemble import GradientBoostingClassifier\n",
        "clf = GradientBoostingClassifier(n_estimators=100, learning_rate=1.0,\n",
        "    max_depth=1, random_state=0).fit(train_set.drop([\"SalePrice\"],axis = 1), train_set[\"SalePrice\"])\n",
        "# clf.score(X_test, y_test)"
      ],
      "metadata": {
        "execution": {
          "iopub.status.busy": "2024-05-31T05:43:25.327311Z",
          "iopub.execute_input": "2024-05-31T05:43:25.327735Z",
          "iopub.status.idle": "2024-05-31T05:55:28.292874Z",
          "shell.execute_reply.started": "2024-05-31T05:43:25.327703Z",
          "shell.execute_reply": "2024-05-31T05:55:28.291333Z"
        },
        "trusted": true,
        "id": "XXH5tIpoRK0Q"
      },
      "execution_count": null,
      "outputs": []
    },
    {
      "cell_type": "code",
      "source": [
        "clf.score(val_set.drop([\"SalePrice\"],axis = 1), val_set[\"SalePrice\"])"
      ],
      "metadata": {
        "execution": {
          "iopub.status.busy": "2024-05-31T05:55:28.29772Z",
          "iopub.status.idle": "2024-05-31T05:55:28.298108Z",
          "shell.execute_reply.started": "2024-05-31T05:55:28.297908Z",
          "shell.execute_reply": "2024-05-31T05:55:28.297923Z"
        },
        "trusted": true,
        "id": "Dq1leO7lRK0Q"
      },
      "execution_count": null,
      "outputs": []
    },
    {
      "cell_type": "code",
      "source": [
        "clf.predict(impute_testing_set)\n"
      ],
      "metadata": {
        "execution": {
          "iopub.status.busy": "2024-05-31T05:55:28.299588Z",
          "iopub.status.idle": "2024-05-31T05:55:28.299956Z",
          "shell.execute_reply.started": "2024-05-31T05:55:28.299771Z",
          "shell.execute_reply": "2024-05-31T05:55:28.299786Z"
        },
        "trusted": true,
        "id": "K8xgZCt1RK0Q"
      },
      "execution_count": null,
      "outputs": []
    }
  ]
}