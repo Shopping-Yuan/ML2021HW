{
  "nbformat": 4,
  "nbformat_minor": 0,
  "metadata": {
    "colab": {
      "provenance": [],
      "gpuType": "T4",
      "authorship_tag": "ABX9TyOGMe7si4IvhzDw8zrzSub/",
      "include_colab_link": true
    },
    "kernelspec": {
      "name": "python3",
      "display_name": "Python 3"
    },
    "language_info": {
      "name": "python"
    },
    "accelerator": "GPU"
  },
  "cells": [
    {
      "cell_type": "markdown",
      "metadata": {
        "id": "view-in-github",
        "colab_type": "text"
      },
      "source": [
        "<a href=\"https://colab.research.google.com/github/Shopping-Yuan/ML2021HW/blob/Shopping_branch/HW1/ML2021HW1_modified.ipynb\" target=\"_parent\"><img src=\"https://colab.research.google.com/assets/colab-badge.svg\" alt=\"Open In Colab\"/></a>"
      ]
    },
    {
      "cell_type": "markdown",
      "source": [
        "pytorch 設置:\n",
        "torch.backends.cudnn 設定捲積的優化方式，無捲積層故關閉。"
      ],
      "metadata": {
        "id": "qaaQpqayiLbl"
      }
    },
    {
      "cell_type": "code",
      "execution_count": null,
      "metadata": {
        "id": "8mZwtss3iFBZ",
        "colab": {
          "base_uri": "https://localhost:8080/"
        },
        "outputId": "638e5190-8d7b-4036-aaf0-28ca53f6851d"
      },
      "outputs": [
        {
          "output_type": "stream",
          "name": "stdout",
          "text": [
            "True\n"
          ]
        }
      ],
      "source": [
        "#import pytorch and set CNN algorithm\n",
        "import torch\n",
        "torch.backends.cudnn.deterministic = True\n",
        "torch.backends.cudnn.benchmark = False\n",
        "def get_device():\n",
        "    return 'cuda' if torch.cuda.is_available() else 'cpu'\n",
        "device = get_device()\n",
        "print(torch.cuda.is_available())\n",
        "#set random variable\n",
        "import numpy as np\n",
        "myseed = 1\n",
        "np.random.seed(myseed)\n",
        "torch.manual_seed(myseed)\n",
        "if torch.cuda.is_available():\n",
        "    torch.cuda.manual_seed_all(myseed)"
      ]
    },
    {
      "cell_type": "code",
      "source": [
        "#rewrite class Dataset\n",
        "import torch\n",
        "import pandas as pd\n",
        "from torch.utils.data import Dataset, DataLoader\n",
        "\n",
        "class my_Dataset(Dataset):\n",
        "  def __init__(self,name,mode,data_set_function):\n",
        "    self.mode = mode\n",
        "    self.name = name\n",
        "    if self.mode == 'test':\n",
        "      self.data = data_set_function()\n",
        "    else:\n",
        "      self.data = data_set_function(mode)[\"data\"]\n",
        "      self.label = data_set_function(mode)[\"label\"]\n",
        "\n",
        "    self.dim = self.data.shape[0]\n",
        "    print('Finished reading the {mode} set of {name} Dataset ({len} samples found, each dim = {dim})'\n",
        "            .format(mode = self.mode, name = self.name, len =len(self.data), dim=self.dim))\n",
        "\n",
        "  def __getitem__(self, index):\n",
        "      if self.mode in ['train', 'val']:\n",
        "          return self.data[index], self.label[index]\n",
        "      else:\n",
        "          return self.data[index]\n",
        "\n",
        "  def __len__(self):\n",
        "      return len(self.data)"
      ],
      "metadata": {
        "id": "O_5yInY7LWzF"
      },
      "execution_count": null,
      "outputs": []
    },
    {
      "cell_type": "code",
      "source": [
        "#write data_set_function\n",
        "train_path = \"./covid.train.csv\"\n",
        "test_path = \"./covid.test.csv\"\n",
        "def normalize(df):\n",
        "  return ((df - df.mean(axis = 0)) / (df.std(axis = 0)))\n",
        "def got_index(df):\n",
        "  train_index,dev_index = [],[]\n",
        "  first_t_data = 0\n",
        "  for i in range(df.shape[0]):\n",
        "    days = df[i].sum()\n",
        "    last_t_data = df[i].sum()\n",
        "def covid19_train_dev_f(mode):\n",
        "    train_df = pd.read_csv(train_path)\n",
        "    print('Size of training data: {}'.format(train_df.shape))\n",
        "\n",
        "    train_df.iloc[:,41:] = normalize(train_df.iloc[:,41:])\n",
        "\n",
        "    train_index , dev_index = got_index(train_df[1:41])\n",
        "\n",
        "    if mode == 'train':\n",
        "      train_df = train_df[ lambda x : x.index in train_index]\n",
        "    elif mode == 'dev':\n",
        "      train_df = train_df[ lambda x : x.index in dev_index]\n",
        "    label = torch.FloatTensor(train_df.iloc[:, -1].to_numpy())\n",
        "    data = torch.FloatTensor(train_df.iloc[:, 0:-1].to_numpy())\n",
        "    return({\"data\":data , \"label\":label})\n",
        "def covid19_test_f():\n",
        "    test_df = pd.read_csv(test_path)\n",
        "    print('Size of testing data: {}'.format(test_df.shape))\n",
        "    test_df.iloc[:,40:] = normalize(test_df.iloc[:,40:])\n",
        "    data = torch.FloatTensor(test_df.to_numpy())\n",
        "    return(data)\n",
        "\n",
        "\n",
        "#decide how to load data\n",
        "def prep_dataloader(path, mode, batch_size, name , data_set_function , n_jobs=0,):\n",
        "    dataset = my_Dataset(path, name ,mode,data_set_function)\n",
        "    dataloader = DataLoader(\n",
        "        dataset, batch_size,\n",
        "        shuffle=(mode == 'train'), drop_last=False,\n",
        "        num_workers=n_jobs, pin_memory=True)\n",
        "    return dataloader"
      ],
      "metadata": {
        "id": "gWBDrmbiU5Ce"
      },
      "execution_count": 40,
      "outputs": []
    },
    {
      "cell_type": "code",
      "source": [
        "# import pandas as pd\n",
        "# df = pd.DataFrame([[1,2],[3,4]])\n",
        "# print(df)\n",
        "# print(df.mean(axis = 0))\n",
        "# print(df - df.mean(axis = 0))\n",
        "# print(df - df.std(axis = 0))\n",
        "# print((df - df.mean(axis = 0)) / (df.std(axis = 0)))\n",
        "# df.iloc[:,1] = normalize(df.iloc[:,1])\n",
        "# print(df)"
      ],
      "metadata": {
        "id": "EWdzDfwzXHrX"
      },
      "execution_count": null,
      "outputs": []
    },
    {
      "cell_type": "code",
      "source": [
        "#train = pd.read_csv(train_path)\n",
        "# train.iloc[:,40:] = normalize(train.iloc[:,40:])\n",
        "# #print(train.shape,train.iloc[:,40:])\n",
        "# train = train.iloc[ lambda x : (x+1).index % 67 <= 60]\n",
        "# print(train.shape,train.iloc[:,40:])\n",
        "# print(torch.FloatTensor(train.to_numpy()))\n",
        "#print(covid19_train_dev_f(\"train\"))"
      ],
      "metadata": {
        "colab": {
          "base_uri": "https://localhost:8080/"
        },
        "id": "M2vrhdBip7t5",
        "outputId": "23f66629-3763-4a0a-83d3-b0ed2f1a409a"
      },
      "execution_count": null,
      "outputs": [
        {
          "output_type": "stream",
          "name": "stdout",
          "text": [
            "Size of training data: (2700, 95)\n",
            "{'data': tensor([[ 0.0000e+00,  1.0000e+00,  0.0000e+00,  ..., -9.3829e-01,\n",
            "         -1.7432e+00, -1.8429e-01],\n",
            "        [ 1.0000e+00,  1.0000e+00,  0.0000e+00,  ..., -1.0103e+00,\n",
            "         -1.7120e+00, -3.6366e-01],\n",
            "        [ 2.0000e+00,  1.0000e+00,  0.0000e+00,  ..., -1.0966e+00,\n",
            "         -1.8002e+00, -3.0505e-01],\n",
            "        ...,\n",
            "        [ 2.6970e+03,  0.0000e+00,  0.0000e+00,  ..., -1.9965e-01,\n",
            "          4.6573e-01, -1.1139e+00],\n",
            "        [ 2.6980e+03,  0.0000e+00,  0.0000e+00,  ..., -4.0093e-02,\n",
            "          4.7601e-01, -1.1417e+00],\n",
            "        [ 2.6990e+03,  0.0000e+00,  0.0000e+00,  ...,  1.9403e-02,\n",
            "          5.5462e-01, -1.1687e+00]]), 'label': tensor([ 0.5609,  0.6381,  0.6215,  ..., -0.5011, -0.5189, -0.6063])}\n"
          ]
        }
      ]
    },
    {
      "cell_type": "code",
      "source": [
        "# train_set = my_Dataset(\"Covid19\",\"train\",covid19_train_dev_f)\n",
        "# print(type(train_set),train_set[0][0].size())"
      ],
      "metadata": {
        "colab": {
          "base_uri": "https://localhost:8080/"
        },
        "id": "gqTAN27IhfMA",
        "outputId": "3577ed6b-f956-448c-aa0c-f9ad294289ee"
      },
      "execution_count": null,
      "outputs": [
        {
          "output_type": "stream",
          "name": "stdout",
          "text": [
            "Size of training data: (2700, 95)\n",
            "Size of training data: (2700, 95)\n",
            "Finished reading the train set of Covid19 Dataset (2460 samples found, each dim = 2460)\n",
            "<class '__main__.my_Dataset'> torch.Size([94])\n"
          ]
        }
      ]
    },
    {
      "cell_type": "code",
      "source": [
        "# df = pd.read_csv(train_path)\n",
        "# df_onehot = train.iloc[:,1:41]\n",
        "# print(df_onehot.head())\n",
        "# df[\"state\"] = pd.from_dummies(df_onehot)\n",
        "# print(df.iloc[:,[1,-1]].head())"
      ],
      "metadata": {
        "colab": {
          "base_uri": "https://localhost:8080/"
        },
        "id": "HDmjpYgKpOur",
        "outputId": "3145dbf0-c114-4b6a-a34e-fc164f78b5eb"
      },
      "execution_count": 46,
      "outputs": [
        {
          "output_type": "stream",
          "name": "stdout",
          "text": [
            "    AL state\n",
            "0  1.0    AL\n",
            "1  1.0    AL\n",
            "2  1.0    AL\n",
            "3  1.0    AL\n",
            "4  1.0    AL\n"
          ]
        }
      ]
    },
    {
      "cell_type": "code",
      "source": [
        "from torch.nn.modules.activation import Sigmoid\n",
        "import torch.nn as nn\n",
        "class Multiply100Layer(nn.Module):\n",
        "    def __init__(self):\n",
        "        super(Multiply100Layer, self).__init__()\n",
        "\n",
        "    def forward(self, x):\n",
        "        return 100.0*x\n",
        "class NeuralNet(nn.Module):\n",
        "    ''' A simple fully-connected deep neural network '''\n",
        "    def __init__(self, input_dim):\n",
        "        super(NeuralNet, self).__init__()\n",
        "\n",
        "        # Define your neural network here\n",
        "        # TODO: How to modify this model to achieve better performance?\n",
        "        model = nn.Sequential(\n",
        "            nn.Linear(input_dim, 64),\n",
        "            nn.ReLU(),\n",
        "            nn.Linear(64, 1),\n",
        "            nn.Sigmoid(),\n",
        "            Multiply100Layer(),\n",
        "        )\n",
        "\n",
        "        self.criterion = nn.MSELoss(reduction='mean')\n",
        "\n",
        "    def forward(self, x):\n",
        "        return model(x)\n",
        "\n",
        "    def cal_loss(self, pred, target):\n",
        "\n",
        "        return self.criterion(pred, target)"
      ],
      "metadata": {
        "id": "8D3Drze8Fi2s"
      },
      "execution_count": null,
      "outputs": []
    },
    {
      "cell_type": "code",
      "source": [
        "def train(tr_set, dv_set, model, config, device):\n",
        "    ''' DNN training '''\n",
        "\n",
        "    n_epochs = config['n_epochs']  # Maximum number of epochs\n",
        "\n",
        "    # Setup optimizer\n",
        "    optimizer = getattr(torch.optim, config['optimizer'])(\n",
        "        model.parameters(), **config['optim_hparas'])\n",
        "\n",
        "    min_mse = 1000.\n",
        "    loss_record = {'train': [], 'dev': []}      # for recording training loss\n",
        "    early_stop_cnt = 0\n",
        "    epoch = 0\n",
        "    while epoch < n_epochs:\n",
        "        model.train()                           # set model to training mode\n",
        "        for x, y in tr_set:                     # iterate through the dataloader\n",
        "            optimizer.zero_grad()               # set gradient to zero\n",
        "            x, y = x.to(device), y.to(device)   # move data to device (cpu/cuda)\n",
        "            pred = model(x)                     # forward pass (compute output)\n",
        "            mse_loss = model.cal_loss(pred, y)  # compute loss\n",
        "            mse_loss.backward()                 # compute gradient (backpropagation)\n",
        "            optimizer.step()                    # update model with optimizer\n",
        "            loss_record['train'].append(mse_loss.detach().cpu().item())\n",
        "\n",
        "        # After each epoch, test your model on the validation (development) set.\n",
        "        dev_mse = dev(dv_set, model, device)\n",
        "        if dev_mse < min_mse:\n",
        "            # Save model if your model improved\n",
        "            min_mse = dev_mse\n",
        "            print('Saving model (epoch = {:4d}, loss = {:.4f})'\n",
        "                .format(epoch + 1, min_mse))\n",
        "            torch.save(model.state_dict(), config['save_path'])  # Save model to specified path\n",
        "            early_stop_cnt = 0\n",
        "        else:\n",
        "            early_stop_cnt += 1\n",
        "\n",
        "        epoch += 1\n",
        "        loss_record['dev'].append(dev_mse)\n",
        "        if early_stop_cnt > config['early_stop']:\n",
        "            # Stop training if your model stops improving for \"config['early_stop']\" epochs.\n",
        "            break\n",
        "\n",
        "    print('Finished training after {} epochs'.format(epoch))\n",
        "    return min_mse, loss_record"
      ],
      "metadata": {
        "id": "iuUnrvH7L9CG"
      },
      "execution_count": null,
      "outputs": []
    },
    {
      "cell_type": "code",
      "source": [
        "def dev(dv_set, model, device):\n",
        "    model.eval()                                # set model to evalutation mode\n",
        "    total_loss = 0\n",
        "    for x, y in dv_set:                         # iterate through the dataloader\n",
        "        x, y = x.to(device), y.to(device)       # move data to device (cpu/cuda)\n",
        "        with torch.no_grad():                   # disable gradient calculation\n",
        "            pred = model(x)                     # forward pass (compute output)\n",
        "            mse_loss = model.cal_loss(pred, y)  # compute loss\n",
        "        total_loss += mse_loss.detach().cpu().item() * len(x)  # accumulate loss\n",
        "    total_loss = total_loss / len(dv_set.dataset)              # compute averaged loss\n",
        "\n",
        "    return total_loss"
      ],
      "metadata": {
        "id": "fIelUG-ZL_t7"
      },
      "execution_count": null,
      "outputs": []
    },
    {
      "cell_type": "code",
      "source": [
        "def test(tt_set, model, device):\n",
        "    model.eval()                                # set model to evalutation mode\n",
        "    preds = []\n",
        "    for x in tt_set:                            # iterate through the dataloader\n",
        "        x = x.to(device)                        # move data to device (cpu/cuda)\n",
        "        with torch.no_grad():                   # disable gradient calculation\n",
        "            pred = model(x)                     # forward pass (compute output)\n",
        "            preds.append(pred.detach().cpu())   # collect prediction\n",
        "    preds = torch.cat(preds, dim=0).numpy()     # concatenate all predictions and convert to a numpy array\n",
        "    return preds"
      ],
      "metadata": {
        "id": "6BtHDzFzMCQc"
      },
      "execution_count": null,
      "outputs": []
    },
    {
      "cell_type": "code",
      "source": [
        "tr_set = prep_dataloader(tr_path, 'train', config['batch_size'], target_only=target_only)\n",
        "dv_set = prep_dataloader(tr_path, 'dev', config['batch_size'], target_only=target_only)\n",
        "tt_set = prep_dataloader(tt_path, 'test', config['batch_size'], target_only=target_only)"
      ],
      "metadata": {
        "id": "QuZEfeW1MH-a"
      },
      "execution_count": null,
      "outputs": []
    },
    {
      "cell_type": "code",
      "source": [
        "device = get_device()                 # get the current available device ('cpu' or 'cuda')\n",
        "os.makedirs('models', exist_ok=True)  # The trained model will be saved to ./models/\n",
        "target_only = False                   # TODO: Using 40 states & 2 tested_positive features\n",
        "\n",
        "# TODO: How to tune these hyper-parameters to improve your model's performance?\n",
        "config = {\n",
        "    'n_epochs': 3000,                # maximum number of epochs\n",
        "    'batch_size': 270,               # mini-batch size for dataloader\n",
        "    'optimizer': 'SGD',              # optimization algorithm (optimizer in torch.optim)\n",
        "    'optim_hparas': {                # hyper-parameters for the optimizer (depends on which optimizer you are using)\n",
        "        'lr': 0.001,                 # learning rate of SGD\n",
        "        'momentum': 0.9              # momentum for SGD\n",
        "    },\n",
        "    'early_stop': 200,               # early stopping epochs (the number epochs since your model's last improvement)\n",
        "    'save_path': 'models/model.pth'  # your model will be saved here\n",
        "}"
      ],
      "metadata": {
        "id": "HW5oRVrrME6b"
      },
      "execution_count": null,
      "outputs": []
    },
    {
      "cell_type": "code",
      "source": [
        "model = NeuralNet(tr_set.dataset.dim).to(device)  # Construct model and move to device\n",
        "model_loss, model_loss_record = train(tr_set, dv_set, model, config, device)\n",
        "del model\n",
        "model = NeuralNet(tr_set.dataset.dim).to(device)\n",
        "ckpt = torch.load(config['save_path'], map_location='cpu')  # Load your best model\n",
        "model.load_state_dict(ckpt)"
      ],
      "metadata": {
        "id": "5alEFp4OMMuj"
      },
      "execution_count": null,
      "outputs": []
    },
    {
      "cell_type": "code",
      "source": [
        "def save_pred(preds, file):\n",
        "    ''' Save predictions to specified file '''\n",
        "    print('Saving results to {}'.format(file))\n",
        "    with open(file, 'w') as fp:\n",
        "        writer = csv.writer(fp)\n",
        "        writer.writerow(['id', 'tested_positive'])\n",
        "        for i, p in enumerate(preds):\n",
        "            writer.writerow([i, p])\n",
        "\n",
        "preds = test(tt_set, model, device)  # predict COVID-19 cases with your model\n",
        "save_pred(preds, 'pred.csv')         # save prediction file to pred.csv"
      ],
      "metadata": {
        "id": "JcymugDXMZ4T"
      },
      "execution_count": null,
      "outputs": []
    }
  ]
}