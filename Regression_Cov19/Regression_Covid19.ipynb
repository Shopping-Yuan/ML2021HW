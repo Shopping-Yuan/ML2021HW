{
  "cells": [
    {
      "cell_type": "markdown",
      "metadata": {
        "id": "view-in-github",
        "colab_type": "text"
      },
      "source": [
        "<a href=\"https://colab.research.google.com/github/Shopping-Yuan/ML_Project/blob/Shopping_vscode_branch/Regression_Cov19/Regression_Covid19.ipynb\" target=\"_parent\"><img src=\"https://colab.research.google.com/assets/colab-badge.svg\" alt=\"Open In Colab\"/></a>"
      ]
    },
    {
      "cell_type": "markdown",
      "source": [
        "##Download Data"
      ],
      "metadata": {
        "id": "RFNtMzhnFLBs"
      }
    },
    {
      "cell_type": "code",
      "source": [
        "tr_path = 'covid.train.csv'  # path to training data\n",
        "tt_path = 'covid.test.csv'   # path to testing data\n",
        "!gdown --id '19CCyCgJrUxtvgZF53vnctJiOJ23T5mqF' --output covid.train.csv\n",
        "!gdown --id '1CE240jLm2npU-tdz81-oVKEF3T2yfT1O' --output covid.test.csv"
      ],
      "metadata": {
        "id": "bxIBZBQBFIaF",
        "outputId": "f2972207-8622-45b5-93ae-6aa72ffe8a66",
        "colab": {
          "base_uri": "https://localhost:8080/"
        }
      },
      "execution_count": 6,
      "outputs": [
        {
          "output_type": "stream",
          "name": "stdout",
          "text": [
            "/usr/local/lib/python3.10/dist-packages/gdown/__main__.py:132: FutureWarning: Option `--id` was deprecated in version 4.3.1 and will be removed in 5.0. You don't need to pass it anymore to use a file ID.\n",
            "  warnings.warn(\n",
            "Downloading...\n",
            "From: https://drive.google.com/uc?id=19CCyCgJrUxtvgZF53vnctJiOJ23T5mqF\n",
            "To: /content/covid.train.csv\n",
            "100% 2.00M/2.00M [00:00<00:00, 160MB/s]\n",
            "/usr/local/lib/python3.10/dist-packages/gdown/__main__.py:132: FutureWarning: Option `--id` was deprecated in version 4.3.1 and will be removed in 5.0. You don't need to pass it anymore to use a file ID.\n",
            "  warnings.warn(\n",
            "Downloading...\n",
            "From: https://drive.google.com/uc?id=1CE240jLm2npU-tdz81-oVKEF3T2yfT1O\n",
            "To: /content/covid.test.csv\n",
            "100% 651k/651k [00:00<00:00, 101MB/s]\n"
          ]
        }
      ]
    },
    {
      "cell_type": "markdown",
      "metadata": {
        "id": "qaaQpqayiLbl"
      },
      "source": [
        "## Pytorch Setting:"
      ]
    },
    {
      "cell_type": "code",
      "execution_count": 1,
      "metadata": {
        "colab": {
          "base_uri": "https://localhost:8080/"
        },
        "id": "8mZwtss3iFBZ",
        "outputId": "bbd1ac29-8b12-40c1-ca13-f01911aac719"
      },
      "outputs": [
        {
          "output_type": "stream",
          "name": "stdout",
          "text": [
            "True\n"
          ]
        }
      ],
      "source": [
        "#import pytorch\n",
        "import torch\n",
        "\n",
        "# torch.backends.cudnn: set CNN algorithmtorch.backends.cudnn\n",
        "torch.backends.cudnn.deterministic = True\n",
        "torch.backends.cudnn.benchmark = False\n",
        "\n",
        "# get the current available device ('cpu' or 'cuda')\n",
        "def get_device():\n",
        "    return 'cuda' if torch.cuda.is_available() else 'cpu'\n",
        "device = get_device()\n",
        "print(torch.cuda.is_available())\n",
        "#set random variable"
      ]
    },
    {
      "cell_type": "code",
      "execution_count": 2,
      "metadata": {
        "id": "KWLMIa58jh1Y"
      },
      "outputs": [],
      "source": [
        "import numpy as np\n",
        "myseed = 1\n",
        "np.random.seed(myseed)\n",
        "torch.manual_seed(myseed)\n",
        "if torch.cuda.is_available():\n",
        "    torch.cuda.manual_seed_all(myseed)"
      ]
    },
    {
      "cell_type": "markdown",
      "metadata": {
        "id": "EvBtNdcmjKTK"
      },
      "source": [
        "##Data Set"
      ]
    },
    {
      "cell_type": "code",
      "execution_count": 3,
      "metadata": {
        "id": "gWBDrmbiU5Ce"
      },
      "outputs": [],
      "source": [
        "#write data_set_function\n",
        "#normalize data if needed\n",
        "import pandas as pd\n",
        "def normalize(df):\n",
        "    return ((df - df.mean(axis = 0)) / (df.std(axis = 0)))\n",
        "# generate index_list for spliting train & validation set\n",
        "def got_index(df,mode):\n",
        "    index_list = []\n",
        "    first_day = 0\n",
        "    for i in range(df.shape[1]):\n",
        "      #count total data in that catetory\n",
        "      days = df.iloc[:,i].sum()\n",
        "\n",
        "      last_day = int(first_day + days-1)\n",
        "      split_day = int(first_day + days*0.9)\n",
        "\n",
        "      if mode == \"train\":\n",
        "        index_list += list(range(first_day,split_day+1))\n",
        "      elif mode == \"val\":\n",
        "        index_list += list(range(split_day+1,last_day+1))\n",
        "\n",
        "      first_day = last_day+1\n",
        "    return index_list\n",
        "\n",
        "#split train & validation set by index\n",
        "def covid19_train_val_f(mode,d_l = \"both\"):\n",
        "    train__val_df = pd.read_csv(data_info[mode][\"path\"])\n",
        "    print('Size of training data: {}'.format(train__val_df.shape))\n",
        "###\n",
        "#    train__val_df.iloc[:,41:-1] = normalize(train__val_df.iloc[:,41:-1])\n",
        "###\n",
        "    index_list = got_index(train__val_df.iloc[:,1:41],mode)\n",
        "    train__val_df = train__val_df.iloc[ index_list,1:]\n",
        "###\n",
        "#    train__val_df.iloc[:,40:-1] = normalize(train__val_df.iloc[:,40:-1])\n",
        "###\n",
        "\n",
        "    label = torch.FloatTensor(train__val_df.iloc[:, -1].to_numpy())\n",
        "    label = torch.unsqueeze(label, 1)\n",
        "    data = torch.FloatTensor(train__val_df.iloc[:, 0:-1].to_numpy())\n",
        "    return({\"data\":data , \"label\":label})\n",
        "\n",
        "def covid19_test_f(mode,d_l = \"data\"):\n",
        "    test_df = pd.read_csv(data_info[mode][\"path\"])\n",
        "    print('Size of testing data: {}'.format(test_df.shape))\n",
        "    test_df.iloc[:,41:] = normalize(test_df.iloc[:,41:])\n",
        "    data = torch.FloatTensor(test_df.to_numpy()[:,1:])\n",
        "    return(data)\n",
        "#create a dict of functions and path w.r.t. different mode\n",
        "data_info = {\n",
        "    \"train\":{\"function\":covid19_train_val_f,\"path\":\"./covid.train.csv\",\"data_or_label\":\"both\"},\n",
        "    \"val\":{\"function\":covid19_train_val_f,\"path\":\"./covid.train.csv\",\"data_or_label\":\"both\"},\n",
        "    \"test\":{\"function\":covid19_test_f,\"path\":\"./covid.test.csv\",\"data_or_label\":\"data\"}\n",
        "}"
      ]
    },
    {
      "cell_type": "code",
      "execution_count": 4,
      "metadata": {
        "id": "O_5yInY7LWzF"
      },
      "outputs": [],
      "source": [
        "#rewrite class Dataset\n",
        "from torch.utils.data import Dataset, DataLoader\n",
        "class Dataset_preparation(Dataset):\n",
        "  def __init__(self,mode,data_info):\n",
        "      self.mode = mode\n",
        "      self.data_or_label = data_info[mode][\"data_or_label\"]\n",
        "\n",
        "      if self.data_or_label == \"data\":\n",
        "        self.data = data_info[self.mode][\"function\"](self.mode,\"data\")\n",
        "      elif self.data_or_label == \"both\":\n",
        "        self.data = data_info[self.mode][\"function\"](self.mode,\"both\")[\"data\"]\n",
        "        self.label = data_info[self.mode][\"function\"](self.mode,\"both\")[\"label\"]\n",
        "      else :\n",
        "        self.label = data_info[self.mode][\"function\"](self.mode,\"label\")[\"label\"]\n",
        "\n",
        "      self.dim = self.data.shape[1]\n",
        "      print('Finished reading the {mode} set of Dataset ({len} samples found, each dim = {dim})'\n",
        "              .format(mode = self.mode, len =len(self.data), dim=self.dim))\n",
        "\n",
        "  def __getitem__(self, index):\n",
        "      if self.data_or_label == \"data\":\n",
        "        return self.data[index]\n",
        "      elif self.data_or_label == \"both\":\n",
        "        return self.data[index], self.label[index]\n",
        "      else :\n",
        "        return self.label[index]\n",
        "  def __len__(self):\n",
        "      # Returns the size of the dataset\n",
        "      return len(self.data)"
      ]
    },
    {
      "cell_type": "code",
      "execution_count": 7,
      "metadata": {
        "colab": {
          "base_uri": "https://localhost:8080/"
        },
        "id": "7Ijlw1EJjqWH",
        "outputId": "0025aa06-6a36-4ff5-975c-92369db82ac0"
      },
      "outputs": [
        {
          "output_type": "stream",
          "name": "stdout",
          "text": [
            "Size of training data: (2700, 95)\n",
            "torch.Size([240, 1])\n"
          ]
        }
      ],
      "source": [
        "#test_test = Dataset_preparation(\"test\",data_info)\n",
        "print(covid19_train_val_f(\"val\",d_l = \"both\")[\"label\"].size())"
      ]
    },
    {
      "cell_type": "code",
      "execution_count": 8,
      "metadata": {
        "id": "pPAPaENVnMqE"
      },
      "outputs": [],
      "source": [
        "#decide how to load data\n",
        "def prep_dataloader(mode,d_info,batch_size,n_jobs=0):\n",
        "    dataset = Dataset_preparation(mode,d_info)\n",
        "    dataloader = DataLoader(\n",
        "        dataset, batch_size,\n",
        "        shuffle=(mode == 'train'), drop_last=False,\n",
        "        num_workers=n_jobs, pin_memory=False)\n",
        "    return dataloader"
      ]
    },
    {
      "cell_type": "code",
      "execution_count": 9,
      "metadata": {
        "id": "8D3Drze8Fi2s"
      },
      "outputs": [],
      "source": [
        "from torch.nn.modules.activation import Sigmoid\n",
        "import torch.nn as nn\n",
        "class Multi100Layer(nn.Module):\n",
        "    def __init__(self):\n",
        "        super(Multi100Layer, self).__init__()\n",
        "    def forward(self, x):\n",
        "        x = 100.0 * x\n",
        "        return x\n",
        "class NeuralNet(nn.Module):\n",
        "    def __init__(self, input_dim):\n",
        "        super(NeuralNet, self).__init__()\n",
        "\n",
        "        # Define your neural network here\n",
        "        # TODO: How to modify this model to achieve better performance?\n",
        "        self.net = nn.Sequential(\n",
        "            nn.BatchNorm1d(input_dim),\n",
        "            nn.Linear(input_dim, 64),\n",
        "            nn.ReLU(),\n",
        "            nn.Linear(64, 16),\n",
        "            nn.ReLU(),\n",
        "            nn.Linear(16, 4),\n",
        "            nn.ReLU(),\n",
        "            nn.Linear(4, 1),\n",
        "#            nn.Sigmoid(),\n",
        "#            Multi100Layer()\n",
        "            )\n",
        "\n",
        "        self.criterion = nn.MSELoss(reduction='mean')\n",
        "\n",
        "    def forward(self, x):\n",
        "        x = self.net(x)\n",
        "        return x\n",
        "\n",
        "    def cal_loss(self, pred, target):\n",
        "\n",
        "        return self.criterion(pred, target)"
      ]
    },
    {
      "cell_type": "code",
      "execution_count": 11,
      "metadata": {
        "id": "qNHqYt34ZP5y"
      },
      "outputs": [],
      "source": [
        "h_paras = {\n",
        "    # maximum number of epochs\n",
        "    'n_epochs': 3000,\n",
        "    # mini-batch size for dataloader\n",
        "    'batch_size': 270,\n",
        "    # optimization algorithm (optimizer in torch.optim)\n",
        "    'optimizer': 'SGD',\n",
        "    # hyper-parameters for the optimizer (depends on which optimizer you are using)\n",
        "    'optim_hparas': {\n",
        "        # learning rate of SGD\n",
        "        'lr': 0.001,\n",
        "        # momentum for SGD\n",
        "        'momentum': 0.9\n",
        "    },\n",
        "    # early stopping epochs (the number epochs since your model's last improvement)\n",
        "    'early_stop': 500,\n",
        "    # if loss small than this , early-stopping counter will reset(may update in validation process)\n",
        "    'early_stop_loss_init': 10.0,\n",
        "    # your model will be saved here\n",
        "    'save_path': './model.pth'\n",
        "}"
      ]
    },
    {
      "cell_type": "code",
      "execution_count": 12,
      "metadata": {
        "id": "6jcKe6kSdIPE"
      },
      "outputs": [],
      "source": [
        "def train(train_set,model_d,optimizer,device):\n",
        "    # set model to training mode\n",
        "    model_d.train()\n",
        "    train_loss_list = []\n",
        "    # iterate through the dataloader\n",
        "    for data , label in train_set:\n",
        "      # move data to device (cpu/cuda)\n",
        "      data_d , label_d = data.to(device), label.to(device)\n",
        "      # forward pass (compute output tensor)\n",
        "      pred = (model_d(data_d))\n",
        "      # compute loss\n",
        "      mse_loss = model_d.cal_loss(pred , label_d)\n",
        "      # compute gradient (backpropagation)\n",
        "      mse_loss.backward()\n",
        "      # update model with optimizer\n",
        "      optimizer.step()\n",
        "      # set optimizer gradient to zero\n",
        "      optimizer.zero_grad()\n",
        "      train_loss_list.append(mse_loss.detach().cpu().item())\n",
        "    return train_loss_list"
      ]
    },
    {
      "cell_type": "code",
      "execution_count": 13,
      "metadata": {
        "id": "zFMoWlxkc89K"
      },
      "outputs": [],
      "source": [
        "def val(val_set,model_d,device):\n",
        "    # set model to evalutation mode\n",
        "    model_d.eval()\n",
        "\n",
        "    total_loss = 0\n",
        "    # iterate through the dataloader\n",
        "    for data , label in val_set:\n",
        "    # move data to device (cpu/cuda)\n",
        "      data_d, label_d = data.to(device), label.to(device)\n",
        "      # disable gradient calculation\n",
        "      with torch.no_grad():\n",
        "        # forward pass (compute output)\n",
        "        pred = model_d(data_d)\n",
        "        # compute loss\n",
        "        mse_loss = model_d.cal_loss(pred, label_d)\n",
        "      # accumulate loss\n",
        "      batch_size = len(data_d)\n",
        "      total_loss += mse_loss.detach().cpu().item() * batch_size\n",
        "    # compute averaged loss\n",
        "    totol_size = len(val_set.dataset)\n",
        "    avg_loss =  total_loss/totol_size\n",
        "    return avg_loss"
      ]
    },
    {
      "cell_type": "code",
      "execution_count": 14,
      "metadata": {
        "id": "DgYuELvCitWh"
      },
      "outputs": [],
      "source": [
        "def test(test_set, model_d, device):\n",
        "    # set model to evalutation mode\n",
        "    model_d.eval()\n",
        "    preds = []\n",
        "    # iterate through the dataloader\n",
        "    for data in test_set:\n",
        "      # move data to device (cpu/cuda)\n",
        "      data_d = data.to(device)\n",
        "      # disable gradient calculation\n",
        "      with torch.no_grad():\n",
        "        # forward pass (compute output)\n",
        "        pred = model_d(data_d)\n",
        "        # collect prediction\n",
        "        preds+=(pred.detach().tolist())\n",
        "    # concatenate all predictions and convert to a numpy array\n",
        "    preds = np.array(preds)\n",
        "    return preds"
      ]
    },
    {
      "cell_type": "code",
      "execution_count": 15,
      "metadata": {
        "id": "iuUnrvH7L9CG"
      },
      "outputs": [],
      "source": [
        "def train_val_process(training_set, validation_set, model, h_paras, device):\n",
        "    #1: move model to device (cpu/cuda)\n",
        "    model_d = model.to(device)\n",
        "    #2: set optimizer = torch.optim.SGD(model_d.parameters(),lr=0.001,momentum=0.9)\n",
        "    optimizer = getattr(torch.optim, h_paras['optimizer'])(\n",
        "        model_d.parameters(), **h_paras['optim_hparas'])\n",
        "\n",
        "    #3: set epoch = h_paras['n_epochs'] = 3000\n",
        "    n_epochs = h_paras['n_epochs']\n",
        "\n",
        "    #4: record training loss\n",
        "    loss_record = {'train': [], \"val\": []}\n",
        "\n",
        "    #5: setting paras\n",
        "    # epoch para\n",
        "    epoch = 0\n",
        "    # early-stoping paras\n",
        "    early_stop_cnt = 0\n",
        "    min_loss = h_paras[\"early_stop_loss_init\"]\n",
        "\n",
        "    #start training\n",
        "    while epoch < n_epochs:\n",
        "\n",
        "      # Part1 : training process\n",
        "      # updata model weight and compute model loss\n",
        "      train_loss_list = train(training_set,model_d,optimizer,device)\n",
        "      # save loss to loss_record['train']\n",
        "      loss_record['train']+=train_loss_list\n",
        "      # renew epoch para\n",
        "      epoch += 1\n",
        "\n",
        "      # Part2 validation process\n",
        "      # After each epoch, test your model\n",
        "      # on the validation (development) set.\n",
        "      val_loss = val(validation_set, model_d, device)\n",
        "      # save loss to loss_record[\"val\"]\n",
        "      loss_record[\"val\"].append(val_loss)\n",
        "\n",
        "      # Part3 early stopping\n",
        "      # Compute early-stopping counter\n",
        "      if val_loss < min_loss:\n",
        "        min_loss = val_loss\n",
        "        print('Saving model (epoch = {:4d}, train_loss = {:.4f}) , val_loss = {:.4f})'\\\n",
        "        .format(epoch , train_loss_list[-1] , val_loss))\n",
        "      # Save model to specified path if your model improved\n",
        "        torch.save(model_d.state_dict(), h_paras['save_path'])\n",
        "        early_stop_cnt = 0\n",
        "#      elif ((val_loss> 1.5 * min_loss) or (train_loss_list[-1] > 1.5 * min_loss)):\n",
        "#        early_stop_cnt = 0\n",
        "      else:\n",
        "        early_stop_cnt += 1\n",
        "      # Check early stop criteria\n",
        "      if early_stop_cnt > h_paras['early_stop']:\n",
        "          # Stop training if your model stops improving\n",
        "          # for \"h_paras['early_stop']\" epochs.\n",
        "          break\n",
        "\n",
        "    print('Finished training after {} epochs'.format(epoch))\n",
        "    return min_loss, loss_record"
      ]
    },
    {
      "cell_type": "code",
      "execution_count": 16,
      "metadata": {
        "colab": {
          "base_uri": "https://localhost:8080/"
        },
        "id": "4KsKJk5fk32z",
        "outputId": "361fb37a-edd0-44d4-bacc-3e625ee80ad8"
      },
      "outputs": [
        {
          "output_type": "stream",
          "name": "stdout",
          "text": [
            "Size of training data: (2700, 95)\n",
            "Size of training data: (2700, 95)\n",
            "Finished reading the train set of Dataset (2460 samples found, each dim = 93)\n",
            "Size of training data: (2700, 95)\n",
            "Size of training data: (2700, 95)\n",
            "Finished reading the val set of Dataset (240 samples found, each dim = 93)\n",
            "Size of testing data: (893, 94)\n",
            "Finished reading the test set of Dataset (893 samples found, each dim = 93)\n"
          ]
        }
      ],
      "source": [
        "train_set = prep_dataloader('train',data_info,h_paras['batch_size'])\n",
        "val_set = prep_dataloader('val',data_info,h_paras['batch_size'])\n",
        "test_set = prep_dataloader('test',data_info,h_paras['batch_size'])"
      ]
    },
    {
      "cell_type": "code",
      "execution_count": 17,
      "metadata": {
        "colab": {
          "base_uri": "https://localhost:8080/"
        },
        "id": "5alEFp4OMMuj",
        "outputId": "48172d0b-da03-4a66-aea1-ff71420ee80a"
      },
      "outputs": [
        {
          "output_type": "stream",
          "name": "stdout",
          "text": [
            "Saving model (epoch =    2, train_loss = 27.1376) , val_loss = 6.0375)\n",
            "Saving model (epoch =    5, train_loss = 9.9858) , val_loss = 2.9845)\n",
            "Saving model (epoch =    6, train_loss = 3.7596) , val_loss = 2.8430)\n",
            "Saving model (epoch =   11, train_loss = 2.7197) , val_loss = 2.4433)\n",
            "Saving model (epoch =   15, train_loss = 7.9980) , val_loss = 1.6936)\n",
            "Saving model (epoch =   18, train_loss = 1.3466) , val_loss = 1.6398)\n",
            "Saving model (epoch =   19, train_loss = 1.9024) , val_loss = 1.5039)\n",
            "Saving model (epoch =   33, train_loss = 2.6939) , val_loss = 1.4862)\n",
            "Saving model (epoch =   36, train_loss = 2.9538) , val_loss = 1.4506)\n",
            "Saving model (epoch =   37, train_loss = 1.9352) , val_loss = 1.3374)\n",
            "Finished training after 538 epochs\n"
          ]
        }
      ],
      "source": [
        "# Construct model\n",
        "model = NeuralNet(train_set.dataset.dim)\n",
        "model_loss, model_loss_record = train_val_process(train_set, val_set, model, h_paras, device)\n",
        "#print(model_loss_record[\"train\"])"
      ]
    },
    {
      "cell_type": "code",
      "execution_count": 18,
      "metadata": {
        "id": "2KPrgK5ktEiJ"
      },
      "outputs": [],
      "source": [
        "def save_pred(preds, file_path):\n",
        "    import pandas as pd\n",
        "    print('Saving results to {}'.format(file_path))\n",
        "    df = pd.DataFrame(preds,columns=[\"tested_positive\"])\n",
        "    df.to_csv(file_path)"
      ]
    },
    {
      "cell_type": "code",
      "execution_count": 19,
      "metadata": {
        "colab": {
          "base_uri": "https://localhost:8080/"
        },
        "id": "JcymugDXMZ4T",
        "outputId": "5afe9709-0fb4-4b35-8dc3-74f7d5bde6f1"
      },
      "outputs": [
        {
          "output_type": "stream",
          "name": "stdout",
          "text": [
            "Saving results to pred.csv\n"
          ]
        }
      ],
      "source": [
        "preds = test(test_set, model, device)  # predict COVID-19 cases with your model\n",
        "save_pred(preds, 'pred.csv')         # save prediction file to pred.csv"
      ]
    },
    {
      "cell_type": "code",
      "execution_count": 20,
      "metadata": {
        "colab": {
          "base_uri": "https://localhost:8080/"
        },
        "id": "RGl3nIhF6aBG",
        "outputId": "98f2fcc4-cf37-4311-a824-e67693ba2fd3"
      },
      "outputs": [
        {
          "output_type": "execute_result",
          "data": {
            "text/plain": [
              "<All keys matched successfully>"
            ]
          },
          "metadata": {},
          "execution_count": 20
        }
      ],
      "source": [
        "del model\n",
        "model = NeuralNet(train_set.dataset.dim).to(device)  # Construct model and move to device\n",
        "model_loading = torch.load(h_paras['save_path'], map_location=device)  # Load your best model\n",
        "model.load_state_dict(model_loading)"
      ]
    },
    {
      "cell_type": "code",
      "execution_count": 21,
      "metadata": {
        "id": "gffYtId6k4CG"
      },
      "outputs": [],
      "source": [
        "import matplotlib.pyplot as plt\n",
        "def plot_learning_curve(loss_record, title=''):\n",
        "    total_steps = len(loss_record['train'])\n",
        "    x_1 = range(total_steps)\n",
        "    x_2 = x_1[::len(loss_record['train']) // len(loss_record['val'])]\n",
        "    plt.figure(figsize=(6, 4))\n",
        "    plt.plot(x_1, loss_record['train'], c='tab:red', label='train')\n",
        "    plt.plot(x_2, loss_record['val'], c='tab:cyan', label='val')\n",
        "    plt.ylim(0.0, 10.)\n",
        "    plt.xlabel('Training steps')\n",
        "    plt.ylabel('MSE loss')\n",
        "    plt.title('Learning curve of {}'.format(title))\n",
        "    plt.legend()\n",
        "    plt.show()\n",
        "\n",
        "\n",
        "def plot_pred(val_set, model, device, lim=50., preds=None, targets=None):\n",
        "    if preds is None or targets is None:\n",
        "        model.eval()\n",
        "        preds, labels = [], []\n",
        "        for data , label in val_set:\n",
        "            data_d , label_d = data.to(device), label.to(device)\n",
        "            with torch.no_grad():\n",
        "                pred = model(data_d)\n",
        "                preds += pred.detach().tolist()\n",
        "                labels += label_d.detach().tolist()\n",
        "        preds = np.array(preds)\n",
        "        labels = np.array(labels)\n",
        "    plt.figure(figsize=(5, 5))\n",
        "    plt.scatter(labels, preds, c='r', alpha=0.5)\n",
        "    plt.plot([-0.2, lim], [-0.2, lim], c='b')\n",
        "    plt.xlim(-0.2, lim)\n",
        "    plt.ylim(-0.2, lim)\n",
        "    plt.xlabel('ground truth value')\n",
        "    plt.ylabel('predicted value')\n",
        "    plt.title('Ground Truth v.s. Prediction')\n",
        "    plt.show()"
      ]
    },
    {
      "cell_type": "code",
      "execution_count": 22,
      "metadata": {
        "colab": {
          "base_uri": "https://localhost:8080/",
          "height": 880
        },
        "id": "DLFPf6Kqk-Qt",
        "outputId": "1a71ea5d-a0ac-40f3-9d22-5cde8e6f9bf9"
      },
      "outputs": [
        {
          "output_type": "display_data",
          "data": {
            "text/plain": [
              "<Figure size 600x400 with 1 Axes>"
            ],
            "image/png": "[encoded data removed]"
          },
          "metadata": {}
        },
        {
          "output_type": "display_data",
          "data": {
            "text/plain": [
              "<Figure size 500x500 with 1 Axes>"
            ],
            "image/png": "[encoded data removed]"
          },
          "metadata": {}
        }
      ],
      "source": [
        "plot_learning_curve(model_loss_record, title='deep model')\n",
        "plot_pred(val_set, model, device)  # Show prediction on the validation set"
      ]
    }
  ],
  "metadata": {
    "accelerator": "GPU",
    "colab": {
      "gpuType": "T4",
      "provenance": [],
      "include_colab_link": true
    },
    "kernelspec": {
      "display_name": "Python 3",
      "name": "python3"
    },
    "language_info": {
      "codemirror_mode": {
        "name": "ipython",
        "version": 3
      },
      "file_extension": ".py",
      "mimetype": "text/x-python",
      "name": "python",
      "nbconvert_exporter": "python",
      "pygments_lexer": "ipython3",
      "version": "3.11.5"
    }
  },
  "nbformat": 4,
  "nbformat_minor": 0
}